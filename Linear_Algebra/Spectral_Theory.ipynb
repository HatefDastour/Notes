{
 "cells": [
  {
   "cell_type": "code",
   "execution_count": 1,
   "metadata": {},
   "outputs": [],
   "source": [
    "from __future__ import division\n",
    "from sympy import *\n",
    "init_printing(use_unicode=True)\n",
    "\n",
    "import numpy as np\n",
    "\n",
    "import warnings\n",
    "warnings.filterwarnings(\"ignore\")"
   ]
  },
  {
   "cell_type": "markdown",
   "metadata": {},
   "source": [
    "Definition of Eigenvectors and Eigenvalues\n",
    "------------------------------------------\n",
    "\n",
    "Let $A$ be an $n\\times n$ matrix and let $X \\in \\mathbb{C}^n$ be a nonzero\n",
    "vector for which $$AX = \\lambda X$$ for some scalar\n",
    "$\\lambda$ . Then $\\lambda$ is called an **eigenvalue** of the matrix $A$\n",
    "and $X$ is called an **eigenvector** of $A$ associated with $\\lambda$,\n",
    "or a $\\lambda$-eigenvector of $A$."
   ]
  },
  {
   "cell_type": "markdown",
   "metadata": {},
   "source": [
    "**Example**: Find the eigenvalues of $A=\\left[\\begin{array}{ccc} -2 & -2 & -9\\\\ -1 & 1 & -3\\\\ 1 & 1 & 4 \\end{array}\\right]$"
   ]
  },
  {
   "cell_type": "markdown",
   "metadata": {},
   "source": [
    " Here we use two methods. The first method is to use the [Matrix](https://docs.sympy.org/latest/tutorial/matrices.html)."
   ]
  },
  {
   "cell_type": "code",
   "execution_count": 2,
   "metadata": {
    "scrolled": true
   },
   "outputs": [
    {
     "data": {
      "text/latex": [
       "$\\displaystyle \\left[\\begin{matrix}-2 & -2 & -9\\\\-1 & 1 & -3\\\\1 & 1 & 4\\end{matrix}\\right]$"
      ],
      "text/plain": [
       "⎡-2  -2  -9⎤\n",
       "⎢          ⎥\n",
       "⎢-1  1   -3⎥\n",
       "⎢          ⎥\n",
       "⎣1   1   4 ⎦"
      ]
     },
     "execution_count": 2,
     "metadata": {},
     "output_type": "execute_result"
    }
   ],
   "source": [
    "A = Matrix([[-2, -2, -9], [-1, 1, -3], [1, 1, 4]])\n",
    "A"
   ]
  },
  {
   "cell_type": "code",
   "execution_count": 3,
   "metadata": {},
   "outputs": [
    {
     "data": {
      "image/png": "[encoded data removed]",
      "text/latex": [
       "$\\displaystyle \\left(\\lambda - 1\\right) \\left(\\lambda^{2} - 2 \\lambda + 2\\right)$"
      ],
      "text/plain": [
       "        ⎛ 2          ⎞\n",
       "(λ - 1)⋅⎝λ  - 2⋅λ + 2⎠"
      ]
     },
     "execution_count": 3,
     "metadata": {},
     "output_type": "execute_result"
    }
   ],
   "source": [
    "lamda = symbols('lamda')\n",
    "p = A.charpoly(lamda)\n",
    "factor(p)"
   ]
  },
  {
   "cell_type": "code",
   "execution_count": 4,
   "metadata": {},
   "outputs": [
    {
     "data": {
      "image/png": "[encoded data removed]",
      "text/latex": [
       "$\\displaystyle \\left\\{ 1 : 1, \\  1 - i : 1, \\  1 + i : 1\\right\\}$"
      ],
      "text/plain": [
       "{1: 1, 1 - ⅈ: 1, 1 + ⅈ: 1}"
      ]
     },
     "execution_count": 4,
     "metadata": {},
     "output_type": "execute_result"
    }
   ],
   "source": [
    "A.eigenvals()"
   ]
  },
  {
   "cell_type": "markdown",
   "metadata": {},
   "source": [
    "The second method is to use arrays and [linalg](https://docs.scipy.org/doc/numpy/reference/routines.linalg.html#module-numpy.linalg) from Numpy. This requires converting the Matrix *A* into an [array](https://docs.scipy.org/doc/numpy/reference/generated/numpy.asarray.html)."
   ]
  },
  {
   "cell_type": "code",
   "execution_count": 5,
   "metadata": {},
   "outputs": [
    {
     "data": {
      "text/plain": [
       "array([1.+1.j, 1.-1.j, 1.+0.j])"
      ]
     },
     "execution_count": 5,
     "metadata": {},
     "output_type": "execute_result"
    }
   ],
   "source": [
    "eigenvectors,_ = np.linalg.eig(np.asarray(A, dtype = int))\n",
    "eigenvectors"
   ]
  },
  {
   "cell_type": "markdown",
   "metadata": {},
   "source": [
    "Finding Eigenvectors and Eigenvalues\n",
    "------------------------------------\n",
    "\n",
    " \n",
    "\n",
    "Let $A$ be an $n\\times n$ matrix.\n",
    "\n",
    "1.  The eigenvalues of $A$ are the roots of $c_A(x)$.\n",
    "\n",
    "2.  The $\\lambda$-eigenvectors $X$ are the nontrivial solutions to\n",
    "    $(\\lambda I-A)X=0$."
   ]
  },
  {
   "cell_type": "markdown",
   "metadata": {},
   "source": [
    "**Example**: Find the characteristic polynomial, eigenvalues and eigenvectors of the matrix\n",
    "$$\\begin{aligned}\n",
    "A=\\left[\\begin{array}{rrr}\n",
    "4 & 1 & 2 \\\\ 0 & 3 & -2 \\\\ 0 & -1 & 2\n",
    "\\end{array}\\right].\\end{aligned}$$"
   ]
  },
  {
   "cell_type": "code",
   "execution_count": 6,
   "metadata": {},
   "outputs": [],
   "source": [
    "A = Matrix([[4, 1, 2], [0, 3, -2], [0, -1, 2]])"
   ]
  },
  {
   "cell_type": "code",
   "execution_count": 7,
   "metadata": {},
   "outputs": [
    {
     "data": {
      "image/png": "[encoded data removed]",
      "text/latex": [
       "$\\displaystyle \\left(\\lambda - 4\\right)^{2} \\left(\\lambda - 1\\right)$"
      ],
      "text/plain": [
       "       2        \n",
       "(λ - 4) ⋅(λ - 1)"
      ]
     },
     "execution_count": 7,
     "metadata": {},
     "output_type": "execute_result"
    }
   ],
   "source": [
    "lamda = symbols('lamda')\n",
    "p = A.charpoly(lamda)\n",
    "factor(p)"
   ]
  },
  {
   "cell_type": "code",
   "execution_count": 8,
   "metadata": {},
   "outputs": [
    {
     "data": {
      "image/png": "[encoded data removed]",
      "text/latex": [
       "$\\displaystyle \\left\\{ 1 : 1, \\  4 : 2\\right\\}$"
      ],
      "text/plain": [
       "{1: 1, 4: 2}"
      ]
     },
     "execution_count": 8,
     "metadata": {},
     "output_type": "execute_result"
    }
   ],
   "source": [
    "A.eigenvals()"
   ]
  },
  {
   "cell_type": "code",
   "execution_count": 9,
   "metadata": {
    "scrolled": true
   },
   "outputs": [
    {
     "data": {
      "text/latex": [
       "$\\displaystyle \\left[ \\left( 1, \\  1, \\  \\left[ \\left[\\begin{matrix}-1\\\\1\\\\1\\end{matrix}\\right]\\right]\\right), \\  \\left( 4, \\  2, \\  \\left[ \\left[\\begin{matrix}1\\\\0\\\\0\\end{matrix}\\right], \\  \\left[\\begin{matrix}0\\\\-2\\\\1\\end{matrix}\\right]\\right]\\right)\\right]$"
      ],
      "text/plain": [
       "⎡⎛      ⎡⎡-1⎤⎤⎞  ⎛      ⎡⎡1⎤  ⎡0 ⎤⎤⎞⎤\n",
       "⎢⎜      ⎢⎢  ⎥⎥⎟  ⎜      ⎢⎢ ⎥  ⎢  ⎥⎥⎟⎥\n",
       "⎢⎜1, 1, ⎢⎢1 ⎥⎥⎟, ⎜4, 2, ⎢⎢0⎥, ⎢-2⎥⎥⎟⎥\n",
       "⎢⎜      ⎢⎢  ⎥⎥⎟  ⎜      ⎢⎢ ⎥  ⎢  ⎥⎥⎟⎥\n",
       "⎣⎝      ⎣⎣1 ⎦⎦⎠  ⎝      ⎣⎣0⎦  ⎣1 ⎦⎦⎠⎦"
      ]
     },
     "execution_count": 9,
     "metadata": {},
     "output_type": "execute_result"
    }
   ],
   "source": [
    "A.eigenvects()"
   ]
  },
  {
   "cell_type": "markdown",
   "metadata": {},
   "source": [
    "Alternatively,"
   ]
  },
  {
   "cell_type": "code",
   "execution_count": 10,
   "metadata": {},
   "outputs": [
    {
     "data": {
      "text/plain": [
       "(array([4., 4., 1.]),\n",
       " array([[ 1.        ,  0.        , -0.57735027],\n",
       "        [ 0.        ,  0.89442719,  0.57735027],\n",
       "        [ 0.        , -0.4472136 ,  0.57735027]]))"
      ]
     },
     "execution_count": 10,
     "metadata": {},
     "output_type": "execute_result"
    }
   ],
   "source": [
    "eigenvalues, eigenvectors = np.linalg.eig(np.asarray(A, dtype = int))\n",
    "eigenvalues, eigenvectors"
   ]
  },
  {
   "cell_type": "markdown",
   "metadata": {},
   "source": [
    "Diagonalizing a Matrix\n",
    "----------------------\n",
    "\n",
    "Let $A$ be an $n\\times n$ matrix. The process of finding an\n",
    "**invertible** matrix $P$ and a **diagonal** matrix $D$ so that\n",
    "$A=PDP^{-1}$ is referred to as **diagonalizing** the matrix $A$, and $P$\n",
    "is called the **diagonalizing** matrix for $A$.\n",
    "\n",
    "The key to diagonalizing a matrix (finding the matrices $P$ and $D$)\n",
    "lies in the eigenvectors and eigenvalues of the matrix $A$.\n",
    "\n",
    "### Eigenvectors and Diagonalizable Matrices\n",
    "Let $A$ be an $n\\times n$ matrix.\n",
    "\n",
    "1.  $A$ is diagonalizable if and only if it has eigenvectors\n",
    "    $X_1, X_2, \\ldots, X_n$ so that\n",
    "    $P = \\left[\\begin{array}{cccc} X_1 & X_2 & \\cdots & X_n \\end{array}\\right]$\n",
    "    is invertible.\n",
    "\n",
    "2.  If $P$ is invertible, then\n",
    "    $$P^{-1}AP=\\mathrm{Diag}(\\lambda_1, \\lambda_2, \\ldots, \\lambda_n )$$\n",
    "    where $\\lambda_i$ is the eigenvalue of $A$ corresponding to the\n",
    "    eigenvector $X_i$, i.e., $AX_i=\\lambda_i X_i$."
   ]
  },
  {
   "cell_type": "markdown",
   "metadata": {},
   "source": [
    "**Example**: Let $A =\\left[\\begin{array}{ccc} 1 & 0 & 0\\\\ 0 & 2 & -1\\\\ 0 & 1 & 2 \\end{array}\\right]$. Find an invertible matrix $P$ and a diagonal matrix $D$ such that $P^{-1}AP = D$."
   ]
  },
  {
   "cell_type": "code",
   "execution_count": 11,
   "metadata": {
    "scrolled": false
   },
   "outputs": [
    {
     "data": {
      "text/latex": [
       "$\\displaystyle \\left[\\begin{matrix}1 & 0 & 0\\\\0 & 2 & -1\\\\0 & 1 & 2\\end{matrix}\\right]$"
      ],
      "text/plain": [
       "⎡1  0  0 ⎤\n",
       "⎢        ⎥\n",
       "⎢0  2  -1⎥\n",
       "⎢        ⎥\n",
       "⎣0  1  2 ⎦"
      ]
     },
     "execution_count": 11,
     "metadata": {},
     "output_type": "execute_result"
    }
   ],
   "source": [
    "A = Matrix([[1, 0, 0], [0, 2, -1], [0, 1 ,2]])\n",
    "A"
   ]
  },
  {
   "cell_type": "code",
   "execution_count": 12,
   "metadata": {
    "scrolled": true
   },
   "outputs": [
    {
     "data": {
      "image/png": "[encoded data removed]",
      "text/latex": [
       "$\\displaystyle \\left(\\lambda - 1\\right) \\left(\\lambda^{2} - 4 \\lambda + 5\\right)$"
      ],
      "text/plain": [
       "        ⎛ 2          ⎞\n",
       "(λ - 1)⋅⎝λ  - 4⋅λ + 5⎠"
      ]
     },
     "execution_count": 12,
     "metadata": {},
     "output_type": "execute_result"
    }
   ],
   "source": [
    "lamda = symbols('lamda')\n",
    "p = A.charpoly(lamda)\n",
    "factor(p)"
   ]
  },
  {
   "cell_type": "markdown",
   "metadata": {},
   "source": [
    "The eigenvalues of $A$ are the the roots of $c_A(\\lambda)$:"
   ]
  },
  {
   "cell_type": "code",
   "execution_count": 13,
   "metadata": {
    "scrolled": true
   },
   "outputs": [
    {
     "data": {
      "image/png": "[encoded data removed]",
      "text/latex": [
       "$\\displaystyle \\left\\{ 1 : 1, \\  2 - i : 1, \\  2 + i : 1\\right\\}$"
      ],
      "text/plain": [
       "{1: 1, 2 - ⅈ: 1, 2 + ⅈ: 1}"
      ]
     },
     "execution_count": 13,
     "metadata": {},
     "output_type": "execute_result"
    }
   ],
   "source": [
    "A.eigenvals()"
   ]
  },
  {
   "cell_type": "markdown",
   "metadata": {},
   "source": [
    "The correcponding eigenvectors:"
   ]
  },
  {
   "cell_type": "code",
   "execution_count": 14,
   "metadata": {
    "scrolled": true
   },
   "outputs": [
    {
     "data": {
      "text/latex": [
       "$\\displaystyle \\left[ \\left( 1, \\  1, \\  \\left[ \\left[\\begin{matrix}1\\\\0\\\\0\\end{matrix}\\right]\\right]\\right), \\  \\left( 2 - i, \\  1, \\  \\left[ \\left[\\begin{matrix}0\\\\- i\\\\1\\end{matrix}\\right]\\right]\\right), \\  \\left( 2 + i, \\  1, \\  \\left[ \\left[\\begin{matrix}0\\\\i\\\\1\\end{matrix}\\right]\\right]\\right)\\right]$"
      ],
      "text/plain": [
       "⎡⎛      ⎡⎡1⎤⎤⎞  ⎛          ⎡⎡0 ⎤⎤⎞  ⎛          ⎡⎡0⎤⎤⎞⎤\n",
       "⎢⎜      ⎢⎢ ⎥⎥⎟  ⎜          ⎢⎢  ⎥⎥⎟  ⎜          ⎢⎢ ⎥⎥⎟⎥\n",
       "⎢⎜1, 1, ⎢⎢0⎥⎥⎟, ⎜2 - ⅈ, 1, ⎢⎢-ⅈ⎥⎥⎟, ⎜2 + ⅈ, 1, ⎢⎢ⅈ⎥⎥⎟⎥\n",
       "⎢⎜      ⎢⎢ ⎥⎥⎟  ⎜          ⎢⎢  ⎥⎥⎟  ⎜          ⎢⎢ ⎥⎥⎟⎥\n",
       "⎣⎝      ⎣⎣0⎦⎦⎠  ⎝          ⎣⎣1 ⎦⎦⎠  ⎝          ⎣⎣1⎦⎦⎠⎦"
      ]
     },
     "execution_count": 14,
     "metadata": {},
     "output_type": "execute_result"
    }
   ],
   "source": [
    "A.eigenvects()"
   ]
  },
  {
   "cell_type": "markdown",
   "metadata": {},
   "source": [
    "diagonalizing matrix for $A$"
   ]
  },
  {
   "cell_type": "code",
   "execution_count": 15,
   "metadata": {},
   "outputs": [
    {
     "data": {
      "text/latex": [
       "$\\displaystyle \\left[\\begin{matrix}1 & 0 & 0\\\\0 & - i & i\\\\0 & 1 & 1\\end{matrix}\\right]$"
      ],
      "text/plain": [
       "⎡1  0   0⎤\n",
       "⎢        ⎥\n",
       "⎢0  -ⅈ  ⅈ⎥\n",
       "⎢        ⎥\n",
       "⎣0  1   1⎦"
      ]
     },
     "execution_count": 15,
     "metadata": {},
     "output_type": "execute_result"
    }
   ],
   "source": [
    "P, D=A.diagonalize()\n",
    "P"
   ]
  },
  {
   "cell_type": "code",
   "execution_count": 16,
   "metadata": {
    "scrolled": true
   },
   "outputs": [
    {
     "data": {
      "text/latex": [
       "$\\displaystyle \\left[\\begin{matrix}1 & 0 & 0\\\\0 & 2 - i & 0\\\\0 & 0 & 2 + i\\end{matrix}\\right]$"
      ],
      "text/plain": [
       "⎡1    0      0  ⎤\n",
       "⎢               ⎥\n",
       "⎢0  2 - ⅈ    0  ⎥\n",
       "⎢               ⎥\n",
       "⎣0    0    2 + ⅈ⎦"
      ]
     },
     "execution_count": 16,
     "metadata": {},
     "output_type": "execute_result"
    }
   ],
   "source": [
    "D"
   ]
  },
  {
   "cell_type": "code",
   "execution_count": 17,
   "metadata": {
    "scrolled": true
   },
   "outputs": [
    {
     "data": {
      "text/latex": [
       "$\\displaystyle \\left[\\begin{matrix}1 & 0 & 0\\\\0 & \\frac{i}{2} & \\frac{1}{2}\\\\0 & - \\frac{i}{2} & \\frac{1}{2}\\end{matrix}\\right]$"
      ],
      "text/plain": [
       "⎡1   0    0 ⎤\n",
       "⎢           ⎥\n",
       "⎢    ⅈ      ⎥\n",
       "⎢0   ─   1/2⎥\n",
       "⎢    2      ⎥\n",
       "⎢           ⎥\n",
       "⎢   -ⅈ      ⎥\n",
       "⎢0  ───  1/2⎥\n",
       "⎣    2      ⎦"
      ]
     },
     "execution_count": 17,
     "metadata": {},
     "output_type": "execute_result"
    }
   ],
   "source": [
    "P**-1"
   ]
  },
  {
   "cell_type": "markdown",
   "metadata": {},
   "source": [
    "We can verify our results"
   ]
  },
  {
   "cell_type": "code",
   "execution_count": 18,
   "metadata": {},
   "outputs": [
    {
     "data": {
      "text/latex": [
       "$\\displaystyle \\left[\\begin{matrix}1 & 0 & 0\\\\0 & 2 & -1\\\\0 & 1 & 2\\end{matrix}\\right]$"
      ],
      "text/plain": [
       "⎡1  0  0 ⎤\n",
       "⎢        ⎥\n",
       "⎢0  2  -1⎥\n",
       "⎢        ⎥\n",
       "⎣0  1  2 ⎦"
      ]
     },
     "execution_count": 18,
     "metadata": {},
     "output_type": "execute_result"
    }
   ],
   "source": [
    "simplify(P*D*P**-1)"
   ]
  },
  {
   "cell_type": "markdown",
   "metadata": {},
   "source": [
    "Raising a Matrix to a High Power\n",
    "--------------------------------\n",
    "\n",
    "Suppose we have a matrix $A$ and we want to find $A^{20}$. You could try\n",
    "to multiply A with itself 20 times; however, this is computationally\n",
    "extremely intensive and it is not recommended. We also can\n",
    "diagonalization to compute high powers of a matrix relatively easily.\n",
    "\n",
    "Suppose $A$ is diagonalizable, so there is an invertible matrix $P$ such\n",
    "that $P^{-1} AP = D$. We can rearrange this equation to\n",
    "$$\\begin{aligned}\n",
    "&P^{-1} AP = D,\\\\\n",
    "\\Rightarrow\\quad & PP^{-1} AP = PD,\\\\\n",
    "\\Rightarrow \\quad &  AP=PD,\\\\\n",
    "\\Rightarrow\\quad & APP^{-1}=PDP^{-1},\\\\\n",
    "\\Rightarrow \\quad &  A=PDP^{-1}.\\end{aligned}$$ Now, consider $A^2$.\n",
    "Since $A=PDP^{-1}$, it follows that $$\\begin{aligned}\n",
    "A^2=\\underbrace{PDP^{-1}}_{A}\\underbrace{PDP^{-1}}_{A}=PD^2P^{-1}.\\end{aligned}$$\n",
    "Similarly, $$\\begin{aligned}\n",
    "A^3=\\underbrace{PDP^{-1}}_{A}\\underbrace{PDP^{-1}}_{A}\\underbrace{PDP^{-1}}_{A}=PD^3P^{-1}.\\end{aligned}$$\n",
    "In general, $$\\begin{aligned}\n",
    "A^n=\\underbrace{PDP^{-1}PDP^{-1}\\ldots PDP^{-1}}_{n\\text{ times}}=PD^nP^{-1}.\\end{aligned}$$\n",
    "Therefore, we have reduced the problem to finding $D^n$. In order to\n",
    "compute $D^n$ , then because $D$ is diagonal we only need to raise every\n",
    "entry on the main diagonal of $D$ to the power of $n$."
   ]
  },
  {
   "cell_type": "markdown",
   "metadata": {},
   "source": [
    "**Example**:\n",
    "Let $A =\\begin{bmatrix} 1 & 1 & 0\\\\ 0 & 2 & 0\\\\ 0 & 2 & 1 \\end{bmatrix}$. Find $A^{10}$."
   ]
  },
  {
   "cell_type": "code",
   "execution_count": 19,
   "metadata": {
    "scrolled": false
   },
   "outputs": [
    {
     "data": {
      "text/latex": [
       "$\\displaystyle \\left[\\begin{matrix}1 & 1 & 0\\\\0 & 2 & 0\\\\0 & 2 & 1\\end{matrix}\\right]$"
      ],
      "text/plain": [
       "⎡1  1  0⎤\n",
       "⎢       ⎥\n",
       "⎢0  2  0⎥\n",
       "⎢       ⎥\n",
       "⎣0  2  1⎦"
      ]
     },
     "execution_count": 19,
     "metadata": {},
     "output_type": "execute_result"
    }
   ],
   "source": [
    "A = Matrix([[1, 1, 0],[ 0, 2, 0],[ 0, 2, 1]])\n",
    "A"
   ]
  },
  {
   "cell_type": "code",
   "execution_count": 20,
   "metadata": {
    "scrolled": true
   },
   "outputs": [
    {
     "data": {
      "image/png": "[encoded data removed]",
      "text/latex": [
       "$\\displaystyle \\left(\\lambda - 2\\right) \\left(\\lambda - 1\\right)^{2}$"
      ],
      "text/plain": [
       "               2\n",
       "(λ - 2)⋅(λ - 1) "
      ]
     },
     "execution_count": 20,
     "metadata": {},
     "output_type": "execute_result"
    }
   ],
   "source": [
    "lamda = symbols('lamda')\n",
    "p = A.charpoly(lamda)\n",
    "factor(p)"
   ]
  },
  {
   "cell_type": "markdown",
   "metadata": {},
   "source": [
    "The eigenvalues of $A$ are the the roots of $c_A(\\lambda)$:"
   ]
  },
  {
   "cell_type": "code",
   "execution_count": 21,
   "metadata": {
    "scrolled": true
   },
   "outputs": [
    {
     "data": {
      "image/png": "[encoded data removed]",
      "text/latex": [
       "$\\displaystyle \\left\\{ 1 : 2, \\  2 : 1\\right\\}$"
      ],
      "text/plain": [
       "{1: 2, 2: 1}"
      ]
     },
     "execution_count": 21,
     "metadata": {},
     "output_type": "execute_result"
    }
   ],
   "source": [
    "A.eigenvals()"
   ]
  },
  {
   "cell_type": "markdown",
   "metadata": {},
   "source": [
    "The correcponding eigenvectors:"
   ]
  },
  {
   "cell_type": "code",
   "execution_count": 22,
   "metadata": {
    "scrolled": true
   },
   "outputs": [
    {
     "data": {
      "text/latex": [
       "$\\displaystyle \\left[ \\left( 1, \\  2, \\  \\left[ \\left[\\begin{matrix}1\\\\0\\\\0\\end{matrix}\\right], \\  \\left[\\begin{matrix}0\\\\0\\\\1\\end{matrix}\\right]\\right]\\right), \\  \\left( 2, \\  1, \\  \\left[ \\left[\\begin{matrix}\\frac{1}{2}\\\\\\frac{1}{2}\\\\1\\end{matrix}\\right]\\right]\\right)\\right]$"
      ],
      "text/plain": [
       "⎡⎛      ⎡⎡1⎤  ⎡0⎤⎤⎞  ⎛      ⎡⎡1/2⎤⎤⎞⎤\n",
       "⎢⎜      ⎢⎢ ⎥  ⎢ ⎥⎥⎟  ⎜      ⎢⎢   ⎥⎥⎟⎥\n",
       "⎢⎜1, 2, ⎢⎢0⎥, ⎢0⎥⎥⎟, ⎜2, 1, ⎢⎢1/2⎥⎥⎟⎥\n",
       "⎢⎜      ⎢⎢ ⎥  ⎢ ⎥⎥⎟  ⎜      ⎢⎢   ⎥⎥⎟⎥\n",
       "⎣⎝      ⎣⎣0⎦  ⎣1⎦⎦⎠  ⎝      ⎣⎣ 1 ⎦⎦⎠⎦"
      ]
     },
     "execution_count": 22,
     "metadata": {},
     "output_type": "execute_result"
    }
   ],
   "source": [
    "A.eigenvects()"
   ]
  },
  {
   "cell_type": "markdown",
   "metadata": {},
   "source": [
    "diagonalizing matrix for $A$"
   ]
  },
  {
   "cell_type": "code",
   "execution_count": 23,
   "metadata": {},
   "outputs": [
    {
     "data": {
      "text/latex": [
       "$\\displaystyle \\left[\\begin{matrix}1 & 0 & 1\\\\0 & 0 & 1\\\\0 & 1 & 2\\end{matrix}\\right]$"
      ],
      "text/plain": [
       "⎡1  0  1⎤\n",
       "⎢       ⎥\n",
       "⎢0  0  1⎥\n",
       "⎢       ⎥\n",
       "⎣0  1  2⎦"
      ]
     },
     "execution_count": 23,
     "metadata": {},
     "output_type": "execute_result"
    }
   ],
   "source": [
    "P, D=A.diagonalize()\n",
    "P"
   ]
  },
  {
   "cell_type": "code",
   "execution_count": 24,
   "metadata": {
    "scrolled": true
   },
   "outputs": [
    {
     "data": {
      "text/latex": [
       "$\\displaystyle \\left[\\begin{matrix}1 & 0 & 0\\\\0 & 1 & 0\\\\0 & 0 & 2\\end{matrix}\\right]$"
      ],
      "text/plain": [
       "⎡1  0  0⎤\n",
       "⎢       ⎥\n",
       "⎢0  1  0⎥\n",
       "⎢       ⎥\n",
       "⎣0  0  2⎦"
      ]
     },
     "execution_count": 24,
     "metadata": {},
     "output_type": "execute_result"
    }
   ],
   "source": [
    "D"
   ]
  },
  {
   "cell_type": "code",
   "execution_count": 25,
   "metadata": {},
   "outputs": [
    {
     "data": {
      "text/latex": [
       "$\\displaystyle \\left[\\begin{matrix}1 & -1 & 0\\\\0 & -2 & 1\\\\0 & 1 & 0\\end{matrix}\\right]$"
      ],
      "text/plain": [
       "⎡1  -1  0⎤\n",
       "⎢        ⎥\n",
       "⎢0  -2  1⎥\n",
       "⎢        ⎥\n",
       "⎣0  1   0⎦"
      ]
     },
     "execution_count": 25,
     "metadata": {},
     "output_type": "execute_result"
    }
   ],
   "source": [
    "P**-1"
   ]
  },
  {
   "cell_type": "markdown",
   "metadata": {},
   "source": [
    "We can verify our results"
   ]
  },
  {
   "cell_type": "code",
   "execution_count": 26,
   "metadata": {
    "scrolled": true
   },
   "outputs": [
    {
     "data": {
      "text/latex": [
       "$\\displaystyle \\left[\\begin{matrix}1 & 1 & 0\\\\0 & 2 & 0\\\\0 & 2 & 1\\end{matrix}\\right]$"
      ],
      "text/plain": [
       "⎡1  1  0⎤\n",
       "⎢       ⎥\n",
       "⎢0  2  0⎥\n",
       "⎢       ⎥\n",
       "⎣0  2  1⎦"
      ]
     },
     "execution_count": 26,
     "metadata": {},
     "output_type": "execute_result"
    }
   ],
   "source": [
    "simplify(P*D*P**-1)"
   ]
  },
  {
   "cell_type": "markdown",
   "metadata": {},
   "source": [
    "Therefore, $A^{10}$"
   ]
  },
  {
   "cell_type": "code",
   "execution_count": 27,
   "metadata": {
    "scrolled": true
   },
   "outputs": [
    {
     "data": {
      "text/latex": [
       "$\\displaystyle \\left[\\begin{matrix}1 & 1023 & 0\\\\0 & 1024 & 0\\\\0 & 2046 & 1\\end{matrix}\\right]$"
      ],
      "text/plain": [
       "⎡1  1023  0⎤\n",
       "⎢          ⎥\n",
       "⎢0  1024  0⎥\n",
       "⎢          ⎥\n",
       "⎣0  2046  1⎦"
      ]
     },
     "execution_count": 27,
     "metadata": {},
     "output_type": "execute_result"
    }
   ],
   "source": [
    "P*(D**(10))*P**-1"
   ]
  },
  {
   "cell_type": "code",
   "execution_count": 28,
   "metadata": {},
   "outputs": [
    {
     "data": {
      "text/latex": [
       "$\\displaystyle \\left[\\begin{matrix}1 & 2^{n} - 1 & 0\\\\0 & 2^{n} & 0\\\\0 & 2 \\cdot 2^{n} - 2 & 1\\end{matrix}\\right]$"
      ],
      "text/plain": [
       "⎡     n        ⎤\n",
       "⎢1   2  - 1   0⎥\n",
       "⎢              ⎥\n",
       "⎢       n      ⎥\n",
       "⎢0     2      0⎥\n",
       "⎢              ⎥\n",
       "⎢      n       ⎥\n",
       "⎣0  2⋅2  - 2  1⎦"
      ]
     },
     "execution_count": 28,
     "metadata": {},
     "output_type": "execute_result"
    }
   ],
   "source": [
    "n = symbols('n')\n",
    "P*(D**(n))*P**-1"
   ]
  },
  {
   "cell_type": "markdown",
   "metadata": {},
   "source": [
    "Orthogonal Matrices\n",
    "----------------------------\n",
    "$A$ real $n\\times n$ matrix $U$ is called an orthogonal matrix if $UU^T =U^T U = I$.\n",
    "\\end{definition}"
   ]
  },
  {
   "cell_type": "markdown",
   "metadata": {},
   "source": [
    "**Example**:\n",
    "Show the matrix $U =\\left[\\begin{array}{ccc} 1 & 0 & 0\\\\ 0 & 0 & -1\\\\ 0 & -1 & 0 \\end{array}\\right]$ is orthogonal."
   ]
  },
  {
   "cell_type": "code",
   "execution_count": 29,
   "metadata": {},
   "outputs": [
    {
     "data": {
      "text/latex": [
       "$\\displaystyle \\left[\\begin{matrix}1 & 0 & 0\\\\0 & 0 & -1\\\\0 & -1 & 0\\end{matrix}\\right]$"
      ],
      "text/plain": [
       "⎡1  0   0 ⎤\n",
       "⎢         ⎥\n",
       "⎢0  0   -1⎥\n",
       "⎢         ⎥\n",
       "⎣0  -1  0 ⎦"
      ]
     },
     "execution_count": 29,
     "metadata": {},
     "output_type": "execute_result"
    }
   ],
   "source": [
    "U=Matrix([[1,0,0],[0,0,-1],[0,-1,0]])\n",
    "U"
   ]
  },
  {
   "cell_type": "code",
   "execution_count": 30,
   "metadata": {},
   "outputs": [
    {
     "data": {
      "text/latex": [
       "$\\displaystyle \\left[\\begin{matrix}1 & 0 & 0\\\\0 & 1 & 0\\\\0 & 0 & 1\\end{matrix}\\right]$"
      ],
      "text/plain": [
       "⎡1  0  0⎤\n",
       "⎢       ⎥\n",
       "⎢0  1  0⎥\n",
       "⎢       ⎥\n",
       "⎣0  0  1⎦"
      ]
     },
     "execution_count": 30,
     "metadata": {},
     "output_type": "execute_result"
    }
   ],
   "source": [
    "U*U**-1"
   ]
  },
  {
   "cell_type": "code",
   "execution_count": 31,
   "metadata": {},
   "outputs": [
    {
     "data": {
      "text/latex": [
       "$\\displaystyle \\left[\\begin{matrix}1 & 0 & 0\\\\0 & 1 & 0\\\\0 & 0 & 1\\end{matrix}\\right]$"
      ],
      "text/plain": [
       "⎡1  0  0⎤\n",
       "⎢       ⎥\n",
       "⎢0  1  0⎥\n",
       "⎢       ⎥\n",
       "⎣0  0  1⎦"
      ]
     },
     "execution_count": 31,
     "metadata": {},
     "output_type": "execute_result"
    }
   ],
   "source": [
    "U**-1*U"
   ]
  },
  {
   "cell_type": "markdown",
   "metadata": {},
   "source": [
    "Hence, this matrix is orthogonal"
   ]
  },
  {
   "cell_type": "markdown",
   "metadata": {},
   "source": [
    "Determinant of Orthogonal Matrices\n",
    "---------------------------------------------------------------------\n",
    "Suppose $U$ is an orthogonal matrix. Then, $det(U) = 1$ or $det(U) = -1$."
   ]
  },
  {
   "cell_type": "markdown",
   "metadata": {},
   "source": [
    "**Example**"
   ]
  },
  {
   "cell_type": "code",
   "execution_count": 32,
   "metadata": {},
   "outputs": [
    {
     "data": {
      "text/latex": [
       "$\\displaystyle \\left[\\begin{matrix}1 & 0 & 0\\\\0 & 0 & -1\\\\0 & -1 & 0\\end{matrix}\\right]$"
      ],
      "text/plain": [
       "⎡1  0   0 ⎤\n",
       "⎢         ⎥\n",
       "⎢0  0   -1⎥\n",
       "⎢         ⎥\n",
       "⎣0  -1  0 ⎦"
      ]
     },
     "execution_count": 32,
     "metadata": {},
     "output_type": "execute_result"
    }
   ],
   "source": [
    "U=Matrix([[1,0,0],[0,0,-1],[0,-1,0]])\n",
    "U"
   ]
  },
  {
   "cell_type": "markdown",
   "metadata": {},
   "source": [
    "$det(U)$="
   ]
  },
  {
   "cell_type": "code",
   "execution_count": 33,
   "metadata": {},
   "outputs": [
    {
     "data": {
      "image/png": "[encoded data removed]",
      "text/latex": [
       "$\\displaystyle -1$"
      ],
      "text/plain": [
       "-1"
      ]
     },
     "execution_count": 33,
     "metadata": {},
     "output_type": "execute_result"
    }
   ],
   "source": [
    "det(U)"
   ]
  },
  {
   "cell_type": "markdown",
   "metadata": {},
   "source": [
    "We know that a matrix $A$ is called symmetric if $A = A^T$. If the\n",
    "matrix $A$ is symmetric, then we can actually find such a matrix $P$\n",
    "that is an orthogonal matrix of eigenvectors. Thus $P^{-1}$ is simply\n",
    "its transpose $P^T$, and $P^T AP$ is diagonal. When this happens we say\n",
    "that $A$ is **orthogonally diagonalizable**.\n",
    "\n",
    "An $n\\times n$ matrix $A$ is said to be **orthogonally diagonalizable**\n",
    "when an orthogonal matrix $P$ can be found such that\n",
    "$P^{-1} AP = P^T AP$ is diagonal."
   ]
  },
  {
   "cell_type": "markdown",
   "metadata": {},
   "source": [
    "**Example**:\n",
    "Find an orthogonal matrix $P$ such that $P^{T} AP$ is diagonal, where $A = \\left[\\begin{array}{ccc} 1 & 0 & 0\\\\ 0 & 3 & 1\\\\ 0 & 1 & 3 \\end{array}\\right]$."
   ]
  },
  {
   "cell_type": "code",
   "execution_count": 34,
   "metadata": {
    "scrolled": false
   },
   "outputs": [
    {
     "data": {
      "text/latex": [
       "$\\displaystyle \\left[\\begin{matrix}1 & 0 & 0\\\\0 & 3 & 1\\\\0 & 1 & 3\\end{matrix}\\right]$"
      ],
      "text/plain": [
       "⎡1  0  0⎤\n",
       "⎢       ⎥\n",
       "⎢0  3  1⎥\n",
       "⎢       ⎥\n",
       "⎣0  1  3⎦"
      ]
     },
     "execution_count": 34,
     "metadata": {},
     "output_type": "execute_result"
    }
   ],
   "source": [
    "A = Matrix([[1,0,0],[0,3,1],[0,1,3]])\n",
    "A"
   ]
  },
  {
   "cell_type": "code",
   "execution_count": 35,
   "metadata": {
    "scrolled": true
   },
   "outputs": [
    {
     "data": {
      "image/png": "[encoded data removed]",
      "text/latex": [
       "$\\displaystyle \\left(\\lambda - 4\\right) \\left(\\lambda - 2\\right) \\left(\\lambda - 1\\right)$"
      ],
      "text/plain": [
       "(λ - 4)⋅(λ - 2)⋅(λ - 1)"
      ]
     },
     "execution_count": 35,
     "metadata": {},
     "output_type": "execute_result"
    }
   ],
   "source": [
    "lamda = symbols('lamda')\n",
    "p = A.charpoly(lamda)\n",
    "factor(p)"
   ]
  },
  {
   "cell_type": "markdown",
   "metadata": {},
   "source": [
    "The eigenvalues of $A$ are the the roots of $c_A(\\lambda)$:"
   ]
  },
  {
   "cell_type": "code",
   "execution_count": 36,
   "metadata": {
    "scrolled": true
   },
   "outputs": [
    {
     "data": {
      "image/png": "[encoded data removed]",
      "text/latex": [
       "$\\displaystyle \\left\\{ 1 : 1, \\  2 : 1, \\  4 : 1\\right\\}$"
      ],
      "text/plain": [
       "{1: 1, 2: 1, 4: 1}"
      ]
     },
     "execution_count": 36,
     "metadata": {},
     "output_type": "execute_result"
    }
   ],
   "source": [
    "A.eigenvals()"
   ]
  },
  {
   "cell_type": "markdown",
   "metadata": {},
   "source": [
    "The correcponding eigenvectors:"
   ]
  },
  {
   "cell_type": "code",
   "execution_count": 37,
   "metadata": {
    "scrolled": true
   },
   "outputs": [
    {
     "data": {
      "text/latex": [
       "$\\displaystyle \\left[ \\left( 1, \\  1, \\  \\left[ \\left[\\begin{matrix}1\\\\0\\\\0\\end{matrix}\\right]\\right]\\right), \\  \\left( 2, \\  1, \\  \\left[ \\left[\\begin{matrix}0\\\\-1\\\\1\\end{matrix}\\right]\\right]\\right), \\  \\left( 4, \\  1, \\  \\left[ \\left[\\begin{matrix}0\\\\1\\\\1\\end{matrix}\\right]\\right]\\right)\\right]$"
      ],
      "text/plain": [
       "⎡⎛      ⎡⎡1⎤⎤⎞  ⎛      ⎡⎡0 ⎤⎤⎞  ⎛      ⎡⎡0⎤⎤⎞⎤\n",
       "⎢⎜      ⎢⎢ ⎥⎥⎟  ⎜      ⎢⎢  ⎥⎥⎟  ⎜      ⎢⎢ ⎥⎥⎟⎥\n",
       "⎢⎜1, 1, ⎢⎢0⎥⎥⎟, ⎜2, 1, ⎢⎢-1⎥⎥⎟, ⎜4, 1, ⎢⎢1⎥⎥⎟⎥\n",
       "⎢⎜      ⎢⎢ ⎥⎥⎟  ⎜      ⎢⎢  ⎥⎥⎟  ⎜      ⎢⎢ ⎥⎥⎟⎥\n",
       "⎣⎝      ⎣⎣0⎦⎦⎠  ⎝      ⎣⎣1 ⎦⎦⎠  ⎝      ⎣⎣1⎦⎦⎠⎦"
      ]
     },
     "execution_count": 37,
     "metadata": {},
     "output_type": "execute_result"
    }
   ],
   "source": [
    "A.eigenvects()"
   ]
  },
  {
   "cell_type": "markdown",
   "metadata": {},
   "source": [
    "diagonalizing matrix for $A$"
   ]
  },
  {
   "cell_type": "code",
   "execution_count": 38,
   "metadata": {},
   "outputs": [
    {
     "data": {
      "text/latex": [
       "$\\displaystyle \\left[\\begin{matrix}1 & 0 & 0\\\\0 & - \\frac{\\sqrt{2}}{2} & \\frac{\\sqrt{2}}{2}\\\\0 & \\frac{\\sqrt{2}}{2} & \\frac{\\sqrt{2}}{2}\\end{matrix}\\right]$"
      ],
      "text/plain": [
       "⎡1   0    0 ⎤\n",
       "⎢           ⎥\n",
       "⎢   -√2   √2⎥\n",
       "⎢0  ────  ──⎥\n",
       "⎢    2    2 ⎥\n",
       "⎢           ⎥\n",
       "⎢    √2   √2⎥\n",
       "⎢0   ──   ──⎥\n",
       "⎣    2    2 ⎦"
      ]
     },
     "execution_count": 38,
     "metadata": {},
     "output_type": "execute_result"
    }
   ],
   "source": [
    "P, D=A.diagonalize()\n",
    "P[:,1]=P[:,1]/sqrt(2)\n",
    "P[:,2]=P[:,2]/sqrt(2)\n",
    "P"
   ]
  },
  {
   "cell_type": "code",
   "execution_count": 39,
   "metadata": {
    "scrolled": true
   },
   "outputs": [
    {
     "data": {
      "text/latex": [
       "$\\displaystyle \\left[\\begin{matrix}1 & 0 & 0\\\\0 & 2 & 0\\\\0 & 0 & 4\\end{matrix}\\right]$"
      ],
      "text/plain": [
       "⎡1  0  0⎤\n",
       "⎢       ⎥\n",
       "⎢0  2  0⎥\n",
       "⎢       ⎥\n",
       "⎣0  0  4⎦"
      ]
     },
     "execution_count": 39,
     "metadata": {},
     "output_type": "execute_result"
    }
   ],
   "source": [
    "D"
   ]
  },
  {
   "cell_type": "markdown",
   "metadata": {},
   "source": [
    "We can verify our results"
   ]
  },
  {
   "cell_type": "code",
   "execution_count": 40,
   "metadata": {},
   "outputs": [
    {
     "data": {
      "text/latex": [
       "$\\displaystyle \\left[\\begin{matrix}1 & 0 & 0\\\\0 & 3 & 1\\\\0 & 1 & 3\\end{matrix}\\right]$"
      ],
      "text/plain": [
       "⎡1  0  0⎤\n",
       "⎢       ⎥\n",
       "⎢0  3  1⎥\n",
       "⎢       ⎥\n",
       "⎣0  1  3⎦"
      ]
     },
     "execution_count": 40,
     "metadata": {},
     "output_type": "execute_result"
    }
   ],
   "source": [
    "simplify(P*D*transpose(P))"
   ]
  },
  {
   "cell_type": "code",
   "execution_count": 41,
   "metadata": {},
   "outputs": [
    {
     "data": {
      "text/latex": [
       "$\\displaystyle \\left[\\begin{matrix}1 & 0 & 0\\\\0 & 2 & 0\\\\0 & 0 & 4\\end{matrix}\\right]$"
      ],
      "text/plain": [
       "⎡1  0  0⎤\n",
       "⎢       ⎥\n",
       "⎢0  2  0⎥\n",
       "⎢       ⎥\n",
       "⎣0  0  4⎦"
      ]
     },
     "execution_count": 41,
     "metadata": {},
     "output_type": "execute_result"
    }
   ],
   "source": [
    "simplify(transpose(P)*A*P)"
   ]
  }
 ],
 "metadata": {
  "kernelspec": {
   "display_name": "Python 3",
   "language": "python",
   "name": "python3"
  },
  "language_info": {
   "codemirror_mode": {
    "name": "ipython",
    "version": 3
   },
   "file_extension": ".py",
   "mimetype": "text/x-python",
   "name": "python",
   "nbconvert_exporter": "python",
   "pygments_lexer": "ipython3",
   "version": "3.7.7"
  }
 },
 "nbformat": 4,
 "nbformat_minor": 2
}
