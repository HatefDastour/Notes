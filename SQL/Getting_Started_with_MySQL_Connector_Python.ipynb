{
 "cells": [
  {
   "cell_type": "code",
   "execution_count": 1,
   "metadata": {
    "scrolled": true
   },
   "outputs": [],
   "source": [
    "import datetime\n",
    "import mysql.connector\n",
    "from mysql.connector import Error\n",
    "# pip install mysql-connector"
   ]
  },
  {
   "cell_type": "markdown",
   "metadata": {},
   "source": [
    "<div class=\"alert alert-block alert-success\"><font size=\"+3\"><b>\n",
    "Getting Started with MySQL Connector/Python\n",
    "</b></font></div>"
   ]
  },
  {
   "cell_type": "markdown",
   "metadata": {},
   "source": [
    "* [Connecting to a MySQL Database](#Connecting-to-a-MySQL-Database)\n",
    "* [Tables](#Tables)\n",
    "    * [Creating Tables](#Creating-Tables)\n",
    "    * [Inserting Data](#Inserting-Data)\n",
    "    * [Select From a Table](#Select-From-a-Table)\n",
    "    * [Where](#Where)\n",
    "    * [Ordering](#Ordering)\n",
    "    * [Copying a Table](#Copying-a-Table)\n",
    "    * [Deleting](#Deleting)\n",
    "    * [Updating data](#Updating-data)"
   ]
  },
  {
   "cell_type": "markdown",
   "metadata": {},
   "source": [
    "# Connecting to a MySQL Database\n",
    "\n",
    "You need to have [MySQL](https://dev.mysql.com/downloads/installer/) installed. Then, we can use"
   ]
  },
  {
   "cell_type": "markdown",
   "metadata": {},
   "source": [
    "```SQL\n",
    "connection = MySQLdb.connect (host = \"localhost\",\n",
    "                              user = \"my_user\",\n",
    "                              passwd = \"my_pass\",\n",
    "                              db = \"company\")\n",
    "cursor = connection.cursor()\n",
    "cursor.execute (\"SELECT VERSION()\")\n",
    "row = cursor.fetchone()\n",
    "print(\"server version:\", row[0])\n",
    "cursor.close()\n",
    "connection.close()\n",
    "```"
   ]
  },
  {
   "cell_type": "markdown",
   "metadata": {},
   "source": [
    "Here we are connecting to *Football* database."
   ]
  },
  {
   "cell_type": "code",
   "execution_count": 2,
   "metadata": {},
   "outputs": [],
   "source": [
    "connection = mysql.connector.connect(host='localhost',\n",
    "                                         database='Football',\n",
    "                                         user='root',\n",
    "                                         password='hd123')\n",
    "cursor = connection .cursor()"
   ]
  },
  {
   "cell_type": "markdown",
   "metadata": {},
   "source": [
    "We could always create one using:\n",
    "\n",
    "```SQL\n",
    "cursor.execute(\"CREATE DATABASE database_name\")```"
   ]
  },
  {
   "cell_type": "markdown",
   "metadata": {},
   "source": [
    "To see all the databases we use ```SHOW DATABASES``` command"
   ]
  },
  {
   "cell_type": "code",
   "execution_count": 3,
   "metadata": {
    "scrolled": true
   },
   "outputs": [
    {
     "name": "stdout",
     "output_type": "stream",
     "text": [
      "('football',)\n",
      "('information_schema',)\n",
      "('mysql',)\n",
      "('performance_schema',)\n",
      "('sakila',)\n",
      "('sys',)\n",
      "('world',)\n"
     ]
    }
   ],
   "source": [
    "cursor.execute(\"SHOW DATABASES\")\n",
    "## printing all\n",
    "for db in cursor.fetchall():\n",
    "    print(db)"
   ]
  },
  {
   "cell_type": "markdown",
   "metadata": {},
   "source": [
    "# Tables\n",
    "\n",
    "## Creating Tables\n",
    "\n",
    "For Example, we can create a table of [the Premier League 2018/2019 goal scorers](https://www.premierleague.com/stats/top/players/goals?se=274)."
   ]
  },
  {
   "cell_type": "markdown",
   "metadata": {},
   "source": [
    "\n",
    "| Standing  | Name | Club | Nationality | Goals |\n",
    "|------|---------------------------|-------------------|-------------|-------|\n",
    "| 1. | Pierre-Emerick Aubameyang | Arsenal |  Gabon | 22 |\n",
    "| 1. | Sadio Mané | Liverpool |  Senegal | 22 |\n",
    "| 1. | Mohamed Salah | Liverpool |  Egypt | 22 |\n",
    "| 4. | Sergio Agüero | Manchester City |  Argentina | 21 |\n",
    "| 5. | Jamie Vardy | Leicester City |  England | 18 |\n",
    "| 6. | Harry Kane | Tottenham Hotspur |  England | 17 |\n",
    "| 8. | Eden Hazard | Chelsea |  Belgium | 16 |\n",
    "| 9. | Callum Wilson | AFC Bournemouth |  England | 14 |\n",
    "| 10. | Richarlison | Everton |  Brazil | 13 |\n",
    "| 10. | Raúl Jiménez | Wolverhampton |  Mexico | 13 |\n",
    "| 10. | Alexandre Lacazette | Arsenal |  France | 13 |"
   ]
  },
  {
   "cell_type": "code",
   "execution_count": null,
   "metadata": {},
   "outputs": [],
   "source": [
    "#cursor.execute(\"DROP TABLE PL_Goals_second;\")\n",
    "#cursor.execute(\"DROP TABLE PL_Goals;\")"
   ]
  },
  {
   "cell_type": "code",
   "execution_count": 4,
   "metadata": {},
   "outputs": [],
   "source": [
    "# creating a table (PL_Goals)\n",
    "cm=\"\"\"\n",
    "CREATE TABLE PL_Goals\n",
    "( Standing int NOT NULL,\n",
    "  Name char(50) NOT NULL,\n",
    "  Club char(50),\n",
    "  Nationality char(50),\n",
    "  Goals int\n",
    ");\n",
    "\"\"\"\n",
    "cursor.execute(cm)"
   ]
  },
  {
   "cell_type": "markdown",
   "metadata": {},
   "source": [
    "## Inserting Data\n",
    "\n",
    "We can use **INSERT INTO** for entering data into the created table."
   ]
  },
  {
   "cell_type": "code",
   "execution_count": 5,
   "metadata": {},
   "outputs": [],
   "source": [
    "Players_data = [(1, \"Pierre-Emerick Aubameyang\",\"Arsenal\", \"Gabon\", 22),\n",
    "                (1, \"Sadio Mané\", \"Liverpool\", \"Senegal\", 22),\n",
    "                   (1, \"Mohamed Salah\", \"Liverpool\", \"Egypt\", 22),\n",
    "                (4, \"Sergio Agüero\", \"Manchester City\", \"Argentina\", 21),\n",
    "                (5, \"Jamie Vardy\", \"Leicester City\", \"England\", 18),\n",
    "                (6, \"Harry Kane\", \"Tottenham Hotspur\", \"England\", 17),\n",
    "                (8, \"Eden Hazard\", \"Chelsea\", \"Belgium\", 16),\n",
    "                (9, \"Callum Wilson\", \"AFC Bournemouth\", \"England\", 14),\n",
    "                (10, \"Richarlison\", \"Everton\", \"Brazil\", 13),\n",
    "                (10, \"Raúl Jiménez\", \"Wolverhampton\", \"Mexico\", 13),\n",
    "                (10, \"Alexandre Lacazette\", \"Arsenal\", \"France\", 13)]\n",
    "# string format\n",
    "format_str = \"\"\"INSERT INTO PL_Goals (Standing, Name, Club, Nationality, Goals)\n",
    "                VALUES ({standing}, \"{name}\", \"{club}\", \"{nationality}\", \"{goals}\");\"\"\"\n",
    "for p in Players_data:\n",
    "    sql_command = format_str.format(standing=p[0], name=p[1], club=p[2], nationality= p[3], goals = p[4])\n",
    "    cursor.execute(sql_command)"
   ]
  },
  {
   "cell_type": "markdown",
   "metadata": {},
   "source": [
    "## Select From a Table\n",
    "\n",
    "To select from a table in SQL, we can use the **SELECT** statement. Let's check what has been entered."
   ]
  },
  {
   "cell_type": "code",
   "execution_count": 6,
   "metadata": {},
   "outputs": [],
   "source": [
    "def Show_Table(Funname):\n",
    "    S =   \"SELECT * FROM %s\" % (Funname)\n",
    "    cursor.execute(S)\n",
    "    row = cursor.fetchone()\n",
    "    while row is not None:\n",
    "      print(row)\n",
    "      row = cursor.fetchone()"
   ]
  },
  {
   "cell_type": "code",
   "execution_count": 7,
   "metadata": {
    "scrolled": true
   },
   "outputs": [
    {
     "name": "stdout",
     "output_type": "stream",
     "text": [
      "(1, 'Pierre-Emerick Aubameyang', 'Arsenal', 'Gabon', 22)\n",
      "(1, 'Sadio Mané', 'Liverpool', 'Senegal', 22)\n",
      "(1, 'Mohamed Salah', 'Liverpool', 'Egypt', 22)\n",
      "(4, 'Sergio Agüero', 'Manchester City', 'Argentina', 21)\n",
      "(5, 'Jamie Vardy', 'Leicester City', 'England', 18)\n",
      "(6, 'Harry Kane', 'Tottenham Hotspur', 'England', 17)\n",
      "(8, 'Eden Hazard', 'Chelsea', 'Belgium', 16)\n",
      "(9, 'Callum Wilson', 'AFC Bournemouth', 'England', 14)\n",
      "(10, 'Richarlison', 'Everton', 'Brazil', 13)\n",
      "(10, 'Raúl Jiménez', 'Wolverhampton', 'Mexico', 13)\n",
      "(10, 'Alexandre Lacazette', 'Arsenal', 'France', 13)\n"
     ]
    }
   ],
   "source": [
    "Show_Table(\"PL_Goals\")"
   ]
  },
  {
   "cell_type": "markdown",
   "metadata": {},
   "source": [
    "We can also consider only one column. For exaxple,"
   ]
  },
  {
   "cell_type": "code",
   "execution_count": 8,
   "metadata": {
    "scrolled": true
   },
   "outputs": [
    {
     "name": "stdout",
     "output_type": "stream",
     "text": [
      "('Pierre-Emerick Aubameyang',)\n",
      "('Sadio Mané',)\n",
      "('Mohamed Salah',)\n",
      "('Sergio Agüero',)\n",
      "('Jamie Vardy',)\n",
      "('Harry Kane',)\n",
      "('Eden Hazard',)\n",
      "('Callum Wilson',)\n",
      "('Richarlison',)\n",
      "('Raúl Jiménez',)\n",
      "('Alexandre Lacazette',)\n"
     ]
    }
   ],
   "source": [
    "cursor.execute(\"SELECT Name FROM PL_Goals\")\n",
    "for names in cursor.fetchall():\n",
    "    print(names)"
   ]
  },
  {
   "cell_type": "markdown",
   "metadata": {},
   "source": [
    "## Where \n",
    "This syntax is used to select data on some condition. For example, we can only select those rows in which *Standing=1*"
   ]
  },
  {
   "cell_type": "code",
   "execution_count": 9,
   "metadata": {
    "scrolled": true
   },
   "outputs": [
    {
     "name": "stdout",
     "output_type": "stream",
     "text": [
      "(1, 'Pierre-Emerick Aubameyang', 'Arsenal', 'Gabon', 22)\n",
      "(1, 'Sadio Mané', 'Liverpool', 'Senegal', 22)\n",
      "(1, 'Mohamed Salah', 'Liverpool', 'Egypt', 22)\n"
     ]
    }
   ],
   "source": [
    "cursor.execute(\"SELECT * FROM PL_Goals WHERE Standing = 1\")\n",
    "for row in cursor.fetchall():\n",
    "    print(row)"
   ]
  },
  {
   "cell_type": "markdown",
   "metadata": {},
   "source": [
    "## Ordering\n",
    "\n",
    "**ORDER BY** is used to sort the result in *ascending* or *descending* order. For example, we can sort the data in ascending order."
   ]
  },
  {
   "cell_type": "code",
   "execution_count": 10,
   "metadata": {
    "scrolled": true
   },
   "outputs": [
    {
     "name": "stdout",
     "output_type": "stream",
     "text": [
      "(10, 'Alexandre Lacazette', 'Arsenal', 'France', 13)\n",
      "(9, 'Callum Wilson', 'AFC Bournemouth', 'England', 14)\n",
      "(8, 'Eden Hazard', 'Chelsea', 'Belgium', 16)\n",
      "(6, 'Harry Kane', 'Tottenham Hotspur', 'England', 17)\n",
      "(5, 'Jamie Vardy', 'Leicester City', 'England', 18)\n",
      "(1, 'Mohamed Salah', 'Liverpool', 'Egypt', 22)\n",
      "(1, 'Pierre-Emerick Aubameyang', 'Arsenal', 'Gabon', 22)\n",
      "(10, 'Raúl Jiménez', 'Wolverhampton', 'Mexico', 13)\n",
      "(10, 'Richarlison', 'Everton', 'Brazil', 13)\n",
      "(1, 'Sadio Mané', 'Liverpool', 'Senegal', 22)\n",
      "(4, 'Sergio Agüero', 'Manchester City', 'Argentina', 21)\n"
     ]
    }
   ],
   "source": [
    "cursor.execute(\"SELECT * FROM PL_Goals ORDER BY Name\")\n",
    "for rows in cursor.fetchall():\n",
    "    print(rows)"
   ]
  },
  {
   "cell_type": "markdown",
   "metadata": {},
   "source": [
    "Or in Sorting the data in descending order"
   ]
  },
  {
   "cell_type": "code",
   "execution_count": 11,
   "metadata": {},
   "outputs": [
    {
     "name": "stdout",
     "output_type": "stream",
     "text": [
      "(4, 'Sergio Agüero', 'Manchester City', 'Argentina', 21)\n",
      "(1, 'Sadio Mané', 'Liverpool', 'Senegal', 22)\n",
      "(10, 'Richarlison', 'Everton', 'Brazil', 13)\n",
      "(10, 'Raúl Jiménez', 'Wolverhampton', 'Mexico', 13)\n",
      "(1, 'Pierre-Emerick Aubameyang', 'Arsenal', 'Gabon', 22)\n",
      "(1, 'Mohamed Salah', 'Liverpool', 'Egypt', 22)\n",
      "(5, 'Jamie Vardy', 'Leicester City', 'England', 18)\n",
      "(6, 'Harry Kane', 'Tottenham Hotspur', 'England', 17)\n",
      "(8, 'Eden Hazard', 'Chelsea', 'Belgium', 16)\n",
      "(9, 'Callum Wilson', 'AFC Bournemouth', 'England', 14)\n",
      "(10, 'Alexandre Lacazette', 'Arsenal', 'France', 13)\n"
     ]
    }
   ],
   "source": [
    "cursor.execute(\"SELECT * FROM PL_Goals ORDER BY Name DESC\")\n",
    "for rows in cursor.fetchall():\n",
    "    print(rows)"
   ]
  },
  {
   "cell_type": "markdown",
   "metadata": {},
   "source": [
    "## Copying a Table\n",
    "\n",
    "Syntax:\n",
    "\n",
    "```SQL\n",
    "CREATE TABLE new_table AS SELECT * FROM original_table;```"
   ]
  },
  {
   "cell_type": "code",
   "execution_count": 12,
   "metadata": {},
   "outputs": [],
   "source": [
    "cursor.execute(\"CREATE TABLE cp_PL_Goals AS SELECT * FROM PL_Goals;\")"
   ]
  },
  {
   "cell_type": "code",
   "execution_count": 13,
   "metadata": {},
   "outputs": [
    {
     "name": "stdout",
     "output_type": "stream",
     "text": [
      "(1, 'Pierre-Emerick Aubameyang', 'Arsenal', 'Gabon', 22)\n",
      "(1, 'Sadio Mané', 'Liverpool', 'Senegal', 22)\n",
      "(1, 'Mohamed Salah', 'Liverpool', 'Egypt', 22)\n",
      "(4, 'Sergio Agüero', 'Manchester City', 'Argentina', 21)\n",
      "(5, 'Jamie Vardy', 'Leicester City', 'England', 18)\n",
      "(6, 'Harry Kane', 'Tottenham Hotspur', 'England', 17)\n",
      "(8, 'Eden Hazard', 'Chelsea', 'Belgium', 16)\n",
      "(9, 'Callum Wilson', 'AFC Bournemouth', 'England', 14)\n",
      "(10, 'Richarlison', 'Everton', 'Brazil', 13)\n",
      "(10, 'Raúl Jiménez', 'Wolverhampton', 'Mexico', 13)\n",
      "(10, 'Alexandre Lacazette', 'Arsenal', 'France', 13)\n"
     ]
    }
   ],
   "source": [
    "Show_Table(\"cp_PL_Goals\")"
   ]
  },
  {
   "cell_type": "markdown",
   "metadata": {},
   "source": [
    "## Deleting\n",
    "We can **DELETE** to delete the records from the table. For example, let's delete all data where Standing=10."
   ]
  },
  {
   "cell_type": "code",
   "execution_count": 14,
   "metadata": {},
   "outputs": [],
   "source": [
    "cursor.execute(\"DELETE FROM cp_PL_Goals WHERE Standing = 10\")\n",
    "# saving\n",
    "connection.commit()"
   ]
  },
  {
   "cell_type": "markdown",
   "metadata": {},
   "source": [
    "Thus,"
   ]
  },
  {
   "cell_type": "code",
   "execution_count": 15,
   "metadata": {
    "scrolled": true
   },
   "outputs": [
    {
     "name": "stdout",
     "output_type": "stream",
     "text": [
      "(1, 'Pierre-Emerick Aubameyang', 'Arsenal', 'Gabon', 22)\n",
      "(1, 'Sadio Mané', 'Liverpool', 'Senegal', 22)\n",
      "(1, 'Mohamed Salah', 'Liverpool', 'Egypt', 22)\n",
      "(4, 'Sergio Agüero', 'Manchester City', 'Argentina', 21)\n",
      "(5, 'Jamie Vardy', 'Leicester City', 'England', 18)\n",
      "(6, 'Harry Kane', 'Tottenham Hotspur', 'England', 17)\n",
      "(8, 'Eden Hazard', 'Chelsea', 'Belgium', 16)\n",
      "(9, 'Callum Wilson', 'AFC Bournemouth', 'England', 14)\n"
     ]
    }
   ],
   "source": [
    "Show_Table(\"cp_PL_Goals\")"
   ]
  },
  {
   "cell_type": "markdown",
   "metadata": {},
   "source": [
    "Note that, we have two tables inside of **Football** database, i.e."
   ]
  },
  {
   "cell_type": "code",
   "execution_count": 16,
   "metadata": {},
   "outputs": [
    {
     "name": "stdout",
     "output_type": "stream",
     "text": [
      "('cp_pl_goals',)\n",
      "('pl_goals',)\n"
     ]
    }
   ],
   "source": [
    "cursor.execute(\"SHOW TABLES FROM Football\")\n",
    "## printing all\n",
    "for db in cursor.fetchall():\n",
    "    print(db)"
   ]
  },
  {
   "cell_type": "markdown",
   "metadata": {},
   "source": [
    "In case that we are interested in deleting *cp_PL_Goals* table, we can try"
   ]
  },
  {
   "cell_type": "code",
   "execution_count": 17,
   "metadata": {},
   "outputs": [],
   "source": [
    "cursor.execute(\"DROP TABLE cp_PL_Goals;\")"
   ]
  },
  {
   "cell_type": "markdown",
   "metadata": {},
   "source": [
    "It can be seen that"
   ]
  },
  {
   "cell_type": "code",
   "execution_count": 18,
   "metadata": {},
   "outputs": [
    {
     "name": "stdout",
     "output_type": "stream",
     "text": [
      "('pl_goals',)\n"
     ]
    }
   ],
   "source": [
    "cursor.execute(\"SHOW TABLES FROM Football\")\n",
    "## printing all\n",
    "for db in cursor.fetchall():\n",
    "    print(db)"
   ]
  },
  {
   "cell_type": "markdown",
   "metadata": {},
   "source": [
    "## Updating data\n",
    "\n",
    "First, let's add the following rows,\n",
    "\n",
    "| Standing | Player | Club | Nationality | Goals |\n",
    "|------|------------------|--------------------------|-------------|-------|\n",
    "| 10 | Glenn Murray | Brighton and Hove Albion |  England | 13 |\n",
    "| 10 | Paul Pogba | Manchester United |  France | 13 |\n",
    "| 10 | Gylfi Sigurdsson | Everton |  Iceland | 13 |"
   ]
  },
  {
   "cell_type": "code",
   "execution_count": 19,
   "metadata": {},
   "outputs": [],
   "source": [
    "Players_data = [(10, \"Glenn Murray\", \"Brighton and Hove Albion\", \"England\", 13),\n",
    "                (10, \"Paul Pogba\", \"Manchester United\", \"France\", 13),\n",
    "                (10, \"Gylfi Sigurdsson\", \"Everton\", \"Iceland\", 13)]\n",
    "for p in Players_data:\n",
    "    sql_command = format_str.format(standing=p[0], name=p[1], club=p[2], nationality= p[3], goals = p[4])\n",
    "    cursor.execute(sql_command)"
   ]
  },
  {
   "cell_type": "code",
   "execution_count": 20,
   "metadata": {},
   "outputs": [
    {
     "name": "stdout",
     "output_type": "stream",
     "text": [
      "(1, 'Pierre-Emerick Aubameyang', 'Arsenal', 'Gabon', 22)\n",
      "(1, 'Sadio Mané', 'Liverpool', 'Senegal', 22)\n",
      "(1, 'Mohamed Salah', 'Liverpool', 'Egypt', 22)\n",
      "(4, 'Sergio Agüero', 'Manchester City', 'Argentina', 21)\n",
      "(5, 'Jamie Vardy', 'Leicester City', 'England', 18)\n",
      "(6, 'Harry Kane', 'Tottenham Hotspur', 'England', 17)\n",
      "(8, 'Eden Hazard', 'Chelsea', 'Belgium', 16)\n",
      "(9, 'Callum Wilson', 'AFC Bournemouth', 'England', 14)\n",
      "(10, 'Richarlison', 'Everton', 'Brazil', 13)\n",
      "(10, 'Raúl Jiménez', 'Wolverhampton', 'Mexico', 13)\n",
      "(10, 'Alexandre Lacazette', 'Arsenal', 'France', 13)\n",
      "(10, 'Glenn Murray', 'Brighton and Hove Albion', 'England', 13)\n",
      "(10, 'Paul Pogba', 'Manchester United', 'France', 13)\n",
      "(10, 'Gylfi Sigurdsson', 'Everton', 'Iceland', 13)\n"
     ]
    }
   ],
   "source": [
    "Show_Table(\"PL_Goals\")"
   ]
  },
  {
   "cell_type": "markdown",
   "metadata": {},
   "source": [
    "However, we can update any of rows! For example,"
   ]
  },
  {
   "cell_type": "code",
   "execution_count": 21,
   "metadata": {},
   "outputs": [],
   "source": [
    "cursor.execute(\"\"\"UPDATE PL_Goals SET Standing =11 WHERE Goals=13;\"\"\")"
   ]
  },
  {
   "cell_type": "markdown",
   "metadata": {},
   "source": [
    "This gives,"
   ]
  },
  {
   "cell_type": "code",
   "execution_count": 22,
   "metadata": {
    "scrolled": true
   },
   "outputs": [
    {
     "name": "stdout",
     "output_type": "stream",
     "text": [
      "(1, 'Pierre-Emerick Aubameyang', 'Arsenal', 'Gabon', 22)\n",
      "(1, 'Sadio Mané', 'Liverpool', 'Senegal', 22)\n",
      "(1, 'Mohamed Salah', 'Liverpool', 'Egypt', 22)\n",
      "(4, 'Sergio Agüero', 'Manchester City', 'Argentina', 21)\n",
      "(5, 'Jamie Vardy', 'Leicester City', 'England', 18)\n",
      "(6, 'Harry Kane', 'Tottenham Hotspur', 'England', 17)\n",
      "(8, 'Eden Hazard', 'Chelsea', 'Belgium', 16)\n",
      "(9, 'Callum Wilson', 'AFC Bournemouth', 'England', 14)\n",
      "(11, 'Richarlison', 'Everton', 'Brazil', 13)\n",
      "(11, 'Raúl Jiménez', 'Wolverhampton', 'Mexico', 13)\n",
      "(11, 'Alexandre Lacazette', 'Arsenal', 'France', 13)\n",
      "(11, 'Glenn Murray', 'Brighton and Hove Albion', 'England', 13)\n",
      "(11, 'Paul Pogba', 'Manchester United', 'France', 13)\n",
      "(11, 'Gylfi Sigurdsson', 'Everton', 'Iceland', 13)\n"
     ]
    }
   ],
   "source": [
    "Show_Table(\"PL_Goals\")"
   ]
  },
  {
   "cell_type": "markdown",
   "metadata": {},
   "source": [
    "To correct the information back, we can reverse the process by"
   ]
  },
  {
   "cell_type": "code",
   "execution_count": 23,
   "metadata": {},
   "outputs": [
    {
     "name": "stdout",
     "output_type": "stream",
     "text": [
      "(1, 'Pierre-Emerick Aubameyang', 'Arsenal', 'Gabon', 22)\n",
      "(1, 'Sadio Mané', 'Liverpool', 'Senegal', 22)\n",
      "(1, 'Mohamed Salah', 'Liverpool', 'Egypt', 22)\n",
      "(4, 'Sergio Agüero', 'Manchester City', 'Argentina', 21)\n",
      "(5, 'Jamie Vardy', 'Leicester City', 'England', 18)\n",
      "(6, 'Harry Kane', 'Tottenham Hotspur', 'England', 17)\n",
      "(8, 'Eden Hazard', 'Chelsea', 'Belgium', 16)\n",
      "(9, 'Callum Wilson', 'AFC Bournemouth', 'England', 14)\n",
      "(10, 'Richarlison', 'Everton', 'Brazil', 13)\n",
      "(10, 'Raúl Jiménez', 'Wolverhampton', 'Mexico', 13)\n",
      "(10, 'Alexandre Lacazette', 'Arsenal', 'France', 13)\n",
      "(10, 'Glenn Murray', 'Brighton and Hove Albion', 'England', 13)\n",
      "(10, 'Paul Pogba', 'Manchester United', 'France', 13)\n",
      "(10, 'Gylfi Sigurdsson', 'Everton', 'Iceland', 13)\n"
     ]
    }
   ],
   "source": [
    "cursor.execute(\"\"\"UPDATE PL_Goals SET Standing =10 WHERE Goals=13;\"\"\")\n",
    "Show_Table(\"PL_Goals\")"
   ]
  },
  {
   "cell_type": "markdown",
   "metadata": {},
   "source": [
    "## Limit\n",
    "\n",
    "We can limit the number of records returned from a query by using the Limit syntax:"
   ]
  },
  {
   "cell_type": "code",
   "execution_count": 24,
   "metadata": {
    "scrolled": true
   },
   "outputs": [
    {
     "name": "stdout",
     "output_type": "stream",
     "text": [
      "(1, 'Pierre-Emerick Aubameyang', 'Arsenal', 'Gabon', 22)\n",
      "(1, 'Sadio Mané', 'Liverpool', 'Senegal', 22)\n",
      "(1, 'Mohamed Salah', 'Liverpool', 'Egypt', 22)\n",
      "(4, 'Sergio Agüero', 'Manchester City', 'Argentina', 21)\n",
      "(5, 'Jamie Vardy', 'Leicester City', 'England', 18)\n"
     ]
    }
   ],
   "source": [
    "cursor.execute(\"SELECT * FROM PL_Goals LIMIT 5\")\n",
    "for r in cursor.fetchall():\n",
    "  print(r)"
   ]
  },
  {
   "cell_type": "code",
   "execution_count": 25,
   "metadata": {},
   "outputs": [],
   "source": [
    "# saving and closing the current connection\n",
    "connection.commit()\n",
    "connection.close()"
   ]
  }
 ],
 "metadata": {
  "kernelspec": {
   "display_name": "Python 3",
   "language": "python",
   "name": "python3"
  },
  "language_info": {
   "codemirror_mode": {
    "name": "ipython",
    "version": 3
   },
   "file_extension": ".py",
   "mimetype": "text/x-python",
   "name": "python",
   "nbconvert_exporter": "python",
   "pygments_lexer": "ipython3",
   "version": "3.7.7"
  }
 },
 "nbformat": 4,
 "nbformat_minor": 2
}
