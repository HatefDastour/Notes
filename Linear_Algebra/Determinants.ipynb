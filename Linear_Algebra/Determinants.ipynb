{
 "cells": [
  {
   "cell_type": "code",
   "execution_count": 1,
   "metadata": {},
   "outputs": [],
   "source": [
    "from __future__ import division\n",
    "from sympy import *\n",
    "init_printing(use_unicode=True)\n",
    "\n",
    "import numpy as np\n",
    "\n",
    "# Plots\n",
    "import matplotlib.pyplot as plt\n",
    "from mpl_toolkits.mplot3d import Axes3D\n",
    "from matplotlib import cm\n",
    "from matplotlib.ticker import LinearLocator, FormatStrFormatter\n",
    "\n",
    "%matplotlib inline\n",
    "plt.style.use('seaborn-white')\n",
    "import warnings\n",
    "warnings.filterwarnings(\"ignore\")"
   ]
  },
  {
   "cell_type": "markdown",
   "metadata": {},
   "source": [
    "# Determinants\n",
    "\n",
    "### Addition of Matrices\n",
    "\n",
    "section<span>Addition of Matrices</span> We can add two matrices only if\n",
    "all matrices in the sum need have the <span class=\"underline\">same\n",
    "size</span>.\n",
    "\n",
    "If $A$ and $B$ are matrices of the same size, their sum \\(A+B\\) is\n",
    "the matrix formed by adding corresponding entries.\n",
    "\n",
    "Let $A=\\begin{bmatrix}  1 & -2 & 4\\\\ 3 & 0 & 7 \\end{bmatrix}$ and\n",
    "$B=\\begin{bmatrix}  6 & 2 & 4\\\\ -2 & 1 & -1 \\end{bmatrix}$. Find\n",
    "$A+B$."
   ]
  },
  {
   "cell_type": "code",
   "execution_count": 2,
   "metadata": {},
   "outputs": [
    {
     "data": {
      "text/latex": [
       "$\\displaystyle \\left[\\begin{matrix}7 & 0 & 8\\\\1 & 1 & 6\\end{matrix}\\right]$"
      ],
      "text/plain": [
       "⎡7  0  8⎤\n",
       "⎢       ⎥\n",
       "⎣1  1  6⎦"
      ]
     },
     "execution_count": 2,
     "metadata": {},
     "output_type": "execute_result"
    }
   ],
   "source": [
    "A = Matrix([[1 , -2 , 4], [3 , 0 , 7]])\n",
    "B = Matrix([[6 , 2 , 4], [-2 , 1 , -1]])\n",
    "A + B"
   ]
  },
  {
   "cell_type": "markdown",
   "metadata": {},
   "source": [
    "### Scalar Multiplication of Matrices\n",
    "\n",
    "If $A =\\left[a_{i,j}\\right]$ and $k$ is a scalar, then $kA = \\left[k~a_{i,j}\\right]$\n",
    "\n",
    "**Example**: If $A=\\begin{bmatrix}1 & 2 \\\\ 3 & 4\\end{bmatrix}$, find $2A$ and $-A$."
   ]
  },
  {
   "cell_type": "code",
   "execution_count": 3,
   "metadata": {},
   "outputs": [],
   "source": [
    "A = Matrix([[1 , 2], [3 , 4]])"
   ]
  },
  {
   "cell_type": "code",
   "execution_count": 4,
   "metadata": {},
   "outputs": [
    {
     "data": {
      "text/latex": [
       "$\\displaystyle \\left[\\begin{matrix}2 & 4\\\\6 & 8\\end{matrix}\\right]$"
      ],
      "text/plain": [
       "⎡2  4⎤\n",
       "⎢    ⎥\n",
       "⎣6  8⎦"
      ]
     },
     "execution_count": 4,
     "metadata": {},
     "output_type": "execute_result"
    }
   ],
   "source": [
    "2*A"
   ]
  },
  {
   "cell_type": "code",
   "execution_count": 5,
   "metadata": {},
   "outputs": [
    {
     "data": {
      "text/latex": [
       "$\\displaystyle \\left[\\begin{matrix}-1 & -2\\\\-3 & -4\\end{matrix}\\right]$"
      ],
      "text/plain": [
       "⎡-1  -2⎤\n",
       "⎢      ⎥\n",
       "⎣-3  -4⎦"
      ]
     },
     "execution_count": 5,
     "metadata": {},
     "output_type": "execute_result"
    }
   ],
   "source": [
    "-A"
   ]
  },
  {
   "cell_type": "markdown",
   "metadata": {},
   "source": [
    "### Multiplication of Matrices\n",
    "\n",
    "Matrices of size $n\\times 1$ or $1\\times n$ are called vectors. If $X$ is such a matrix, then we write $x_i$ to denote the entry of $X$ in the $i^{th}$ row of a column matrix, or the $i^{th}$ column of a row matrix. The $n\\times 1$ matrix\n",
    "\\begin{align*}\n",
    "X=\\begin{bmatrix}    x_1\\\\ \\vdots \\\\ x_n \\\\  \\end{bmatrix}\n",
    "\\end{align*}\n",
    "is called a **column vector** (column matrix). The $1\\times n$ matrix\n",
    "\\begin{align*}\n",
    "X=\\begin{bmatrix}    x_1 & \\dots & x_n \\end{bmatrix}\n",
    "\\end{align*}\n",
    "is called a **column vector** (row matrix)."
   ]
  },
  {
   "cell_type": "markdown",
   "metadata": {},
   "source": [
    "**Example**: Evaluate\n",
    "\n",
    "* (a) $\\begin{bmatrix} 0 & 1 & 7 \\end{bmatrix}\\begin{bmatrix} 2 \\\\ 3\\\\ -1 \\end{bmatrix}$\n",
    "* (b) $\\begin{bmatrix} 2 \\\\ 3\\\\ -1 \\end{bmatrix}\\begin{bmatrix} 0 & 1 & 7 \\end{bmatrix}$"
   ]
  },
  {
   "cell_type": "code",
   "execution_count": 6,
   "metadata": {},
   "outputs": [],
   "source": [
    "A = Matrix([[0, 1, 7]])\n",
    "B = Matrix([[2], [3], [-1]])"
   ]
  },
  {
   "cell_type": "markdown",
   "metadata": {},
   "source": [
    "(a)"
   ]
  },
  {
   "cell_type": "code",
   "execution_count": 7,
   "metadata": {},
   "outputs": [
    {
     "data": {
      "text/latex": [
       "$\\displaystyle \\left[\\begin{matrix}-4\\end{matrix}\\right]$"
      ],
      "text/plain": [
       "[-4]"
      ]
     },
     "execution_count": 7,
     "metadata": {},
     "output_type": "execute_result"
    }
   ],
   "source": [
    "A*B"
   ]
  },
  {
   "cell_type": "markdown",
   "metadata": {},
   "source": [
    "(b)"
   ]
  },
  {
   "cell_type": "code",
   "execution_count": 8,
   "metadata": {},
   "outputs": [
    {
     "data": {
      "text/latex": [
       "$\\displaystyle \\left[\\begin{matrix}0 & 2 & 14\\\\0 & 3 & 21\\\\0 & -1 & -7\\end{matrix}\\right]$"
      ],
      "text/plain": [
       "⎡0  2   14⎤\n",
       "⎢         ⎥\n",
       "⎢0  3   21⎥\n",
       "⎢         ⎥\n",
       "⎣0  -1  -7⎦"
      ]
     },
     "execution_count": 8,
     "metadata": {},
     "output_type": "execute_result"
    }
   ],
   "source": [
    "B*A"
   ]
  },
  {
   "cell_type": "markdown",
   "metadata": {},
   "source": [
    "### Transpose\n",
    "\n",
    "**The Transpose of a Matrix**:\n",
    "\n",
    "Transpose of a matrix is formed by turning rows into columns and vice versa. For a matrix $A$, we denote the transpose of $A$ by $A^T$.\n",
    "\n",
    "**Example**: The transpose of matrix $A=\\begin{bmatrix} 1 & 2 & 3 \\\\  4 & 5 & 6 \\end{bmatrix}$ can be found as follows"
   ]
  },
  {
   "cell_type": "code",
   "execution_count": 9,
   "metadata": {},
   "outputs": [],
   "source": [
    "A = Matrix([[1 , 2 , 3], [4 , 5 , 6]])"
   ]
  },
  {
   "cell_type": "code",
   "execution_count": 10,
   "metadata": {},
   "outputs": [
    {
     "data": {
      "text/latex": [
       "$\\displaystyle \\left[\\begin{matrix}1 & 4\\\\2 & 5\\\\3 & 6\\end{matrix}\\right]$"
      ],
      "text/plain": [
       "⎡1  4⎤\n",
       "⎢    ⎥\n",
       "⎢2  5⎥\n",
       "⎢    ⎥\n",
       "⎣3  6⎦"
      ]
     },
     "execution_count": 10,
     "metadata": {},
     "output_type": "execute_result"
    }
   ],
   "source": [
    "A.T"
   ]
  },
  {
   "cell_type": "markdown",
   "metadata": {},
   "source": [
    "***"
   ]
  }
 ],
 "metadata": {
  "kernelspec": {
   "display_name": "Python 3",
   "language": "python",
   "name": "python3"
  },
  "language_info": {
   "codemirror_mode": {
    "name": "ipython",
    "version": 3
   },
   "file_extension": ".py",
   "mimetype": "text/x-python",
   "name": "python",
   "nbconvert_exporter": "python",
   "pygments_lexer": "ipython3",
   "version": "3.7.7"
  }
 },
 "nbformat": 4,
 "nbformat_minor": 4
}
