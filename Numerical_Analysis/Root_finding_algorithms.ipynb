{
 "cells": [
  {
   "cell_type": "code",
   "execution_count": 1,
   "metadata": {},
   "outputs": [],
   "source": [
    "import pandas as pd \n",
    "import numpy as np\n",
    "import matplotlib.pyplot as plt"
   ]
  },
  {
   "cell_type": "markdown",
   "metadata": {},
   "source": [
    "# Root-finding algorithms\n",
    "   * Bisection method\n",
    "   * Secant method\n",
    "   * Newton's method"
   ]
  },
  {
   "cell_type": "markdown",
   "metadata": {},
   "source": [
    "## Bisection method\n",
    "\n",
    "We can implement the Bisection method for numerically solving the equation $f(x) = 0$ for the real variable $x$ when $f$ is a continuous function defined on a closed interval $[a, b]$ and where $f(a)$ and $f(b)$ have opposite signs.\n",
    "\n",
    "In this case, by the intermediate value theorem, $f$ must have at least one root in the interval $(a, b)$."
   ]
  },
  {
   "cell_type": "code",
   "execution_count": 1,
   "metadata": {},
   "outputs": [],
   "source": [
    "def bisection(f,a,b,Nmax, TOL):\n",
    "    # endpoint values a, b, \n",
    "    # tolerance TOL, \n",
    "    # maximum iterations NMAX\n",
    "    \n",
    "    if f(a)*f(b) >= 0:\n",
    "        print(\"Bisection method is inapplicable .\")\n",
    "        return None\n",
    "    \n",
    "    # let c_n be a point in (a_n, b_n)\n",
    "    Nmax=Nmax+1\n",
    "    an=np.zeros(Nmax, dtype=float)\n",
    "    bn=np.zeros(Nmax, dtype=float)\n",
    "    cn=np.zeros(Nmax, dtype=float)\n",
    "    fcn=np.zeros(Nmax, dtype=float)\n",
    "    # initial values\n",
    "    an[0]=a\n",
    "    bn[0]=b\n",
    "\n",
    "    for n in range(0,Nmax-1):\n",
    "        cn[n]=(an[n] + bn[n])/2\n",
    "        fcn[n]=f(cn[n])\n",
    "        if f(an[n])*fcn[n] < 0:\n",
    "            an[n+1]=an[n]\n",
    "            bn[n+1]=cn[n]\n",
    "        elif f(bn[n])*fcn[n] < 0:\n",
    "            an[n+1]=cn[n]\n",
    "            bn[n+1]=bn[n]\n",
    "        else:\n",
    "            print(\"Bisection method fails.\")\n",
    "            return None\n",
    "        if (abs(fcn[n]) < TOL):\n",
    "            print(\"We have found an exact solution.\")\n",
    "            return an, bn, cn, fcn, n\n",
    "        n=n+1\n",
    "    return an, bn, cn, fcn, n"
   ]
  },
  {
   "cell_type": "markdown",
   "metadata": {},
   "source": [
    "**Example:** Finding the root of a polynomial.\n",
    "\n",
    "Suppose that the bisection method is used to find a root of the polynomial\n",
    "$$f(x)=x^{3}-x-2,$$\n",
    "First, two numbers $a$ and $b$ have to be found such that $f(a)$ and $f(b)$ have opposite signs. Given"
   ]
  },
  {
   "cell_type": "code",
   "execution_count": 3,
   "metadata": {},
   "outputs": [],
   "source": [
    "# defining function f using Lambdas\n",
    "f = lambda x: x**3 - x - 2"
   ]
  },
  {
   "cell_type": "markdown",
   "metadata": {},
   "source": [
    "For the above function,"
   ]
  },
  {
   "cell_type": "code",
   "execution_count": 4,
   "metadata": {
    "scrolled": true
   },
   "outputs": [
    {
     "data": {
      "text/plain": [
       "-2"
      ]
     },
     "execution_count": 4,
     "metadata": {},
     "output_type": "execute_result"
    }
   ],
   "source": [
    "a=1; f(a)"
   ]
  },
  {
   "cell_type": "markdown",
   "metadata": {},
   "source": [
    "and"
   ]
  },
  {
   "cell_type": "code",
   "execution_count": 5,
   "metadata": {
    "scrolled": true
   },
   "outputs": [
    {
     "data": {
      "text/plain": [
       "4"
      ]
     },
     "execution_count": 5,
     "metadata": {},
     "output_type": "execute_result"
    }
   ],
   "source": [
    "b=2;f(b)"
   ]
  },
  {
   "cell_type": "markdown",
   "metadata": {},
   "source": [
    "Now since $f(a)<0$ and $f(b)>0$, we can implement the method. Let $N_{max}=20$ and the tolerance be $10^{-4}$"
   ]
  },
  {
   "cell_type": "code",
   "execution_count": 6,
   "metadata": {},
   "outputs": [
    {
     "name": "stdout",
     "output_type": "stream",
     "text": [
      "We have found an exact solution.\n"
     ]
    }
   ],
   "source": [
    "Nmax=20; TOL=1e-4;\n",
    "an, bn, cn, fcn, n = bisection(f,a,b,Nmax, TOL)"
   ]
  },
  {
   "cell_type": "code",
   "execution_count": 7,
   "metadata": {},
   "outputs": [],
   "source": [
    "data_bisection = pd.DataFrame({'an': an[1:n+1], 'bn': bn[1:n+1], 'cn': cn[1:n+1], 'fcn': fcn[1:n+1]})"
   ]
  },
  {
   "cell_type": "code",
   "execution_count": 8,
   "metadata": {},
   "outputs": [
    {
     "data": {
      "text/html": [
       "<div>\n",
       "<style scoped>\n",
       "    .dataframe tbody tr th:only-of-type {\n",
       "        vertical-align: middle;\n",
       "    }\n",
       "\n",
       "    .dataframe tbody tr th {\n",
       "        vertical-align: top;\n",
       "    }\n",
       "\n",
       "    .dataframe thead th {\n",
       "        text-align: right;\n",
       "    }\n",
       "</style>\n",
       "<table border=\"1\" class=\"dataframe\">\n",
       "  <thead>\n",
       "    <tr style=\"text-align: right;\">\n",
       "      <th></th>\n",
       "      <th>an</th>\n",
       "      <th>bn</th>\n",
       "      <th>cn</th>\n",
       "      <th>fcn</th>\n",
       "    </tr>\n",
       "  </thead>\n",
       "  <tbody>\n",
       "    <tr>\n",
       "      <th>0</th>\n",
       "      <td>1.500000</td>\n",
       "      <td>2.000000</td>\n",
       "      <td>1.750000</td>\n",
       "      <td>1.609375</td>\n",
       "    </tr>\n",
       "    <tr>\n",
       "      <th>1</th>\n",
       "      <td>1.500000</td>\n",
       "      <td>1.750000</td>\n",
       "      <td>1.625000</td>\n",
       "      <td>0.666016</td>\n",
       "    </tr>\n",
       "    <tr>\n",
       "      <th>2</th>\n",
       "      <td>1.500000</td>\n",
       "      <td>1.625000</td>\n",
       "      <td>1.562500</td>\n",
       "      <td>0.252197</td>\n",
       "    </tr>\n",
       "    <tr>\n",
       "      <th>3</th>\n",
       "      <td>1.500000</td>\n",
       "      <td>1.562500</td>\n",
       "      <td>1.531250</td>\n",
       "      <td>0.059113</td>\n",
       "    </tr>\n",
       "    <tr>\n",
       "      <th>4</th>\n",
       "      <td>1.500000</td>\n",
       "      <td>1.531250</td>\n",
       "      <td>1.515625</td>\n",
       "      <td>-0.034054</td>\n",
       "    </tr>\n",
       "    <tr>\n",
       "      <th>5</th>\n",
       "      <td>1.515625</td>\n",
       "      <td>1.531250</td>\n",
       "      <td>1.523438</td>\n",
       "      <td>0.012250</td>\n",
       "    </tr>\n",
       "    <tr>\n",
       "      <th>6</th>\n",
       "      <td>1.515625</td>\n",
       "      <td>1.523438</td>\n",
       "      <td>1.519531</td>\n",
       "      <td>-0.010971</td>\n",
       "    </tr>\n",
       "    <tr>\n",
       "      <th>7</th>\n",
       "      <td>1.519531</td>\n",
       "      <td>1.523438</td>\n",
       "      <td>1.521484</td>\n",
       "      <td>0.000622</td>\n",
       "    </tr>\n",
       "    <tr>\n",
       "      <th>8</th>\n",
       "      <td>1.519531</td>\n",
       "      <td>1.521484</td>\n",
       "      <td>1.520508</td>\n",
       "      <td>-0.005179</td>\n",
       "    </tr>\n",
       "    <tr>\n",
       "      <th>9</th>\n",
       "      <td>1.520508</td>\n",
       "      <td>1.521484</td>\n",
       "      <td>1.520996</td>\n",
       "      <td>-0.002279</td>\n",
       "    </tr>\n",
       "    <tr>\n",
       "      <th>10</th>\n",
       "      <td>1.520996</td>\n",
       "      <td>1.521484</td>\n",
       "      <td>1.521240</td>\n",
       "      <td>-0.000829</td>\n",
       "    </tr>\n",
       "    <tr>\n",
       "      <th>11</th>\n",
       "      <td>1.521240</td>\n",
       "      <td>1.521484</td>\n",
       "      <td>1.521362</td>\n",
       "      <td>-0.000103</td>\n",
       "    </tr>\n",
       "    <tr>\n",
       "      <th>12</th>\n",
       "      <td>1.521362</td>\n",
       "      <td>1.521484</td>\n",
       "      <td>1.521423</td>\n",
       "      <td>0.000259</td>\n",
       "    </tr>\n",
       "    <tr>\n",
       "      <th>13</th>\n",
       "      <td>1.521362</td>\n",
       "      <td>1.521423</td>\n",
       "      <td>1.521393</td>\n",
       "      <td>0.000078</td>\n",
       "    </tr>\n",
       "  </tbody>\n",
       "</table>\n",
       "</div>"
      ],
      "text/plain": [
       "          an        bn        cn       fcn\n",
       "0   1.500000  2.000000  1.750000  1.609375\n",
       "1   1.500000  1.750000  1.625000  0.666016\n",
       "2   1.500000  1.625000  1.562500  0.252197\n",
       "3   1.500000  1.562500  1.531250  0.059113\n",
       "4   1.500000  1.531250  1.515625 -0.034054\n",
       "5   1.515625  1.531250  1.523438  0.012250\n",
       "6   1.515625  1.523438  1.519531 -0.010971\n",
       "7   1.519531  1.523438  1.521484  0.000622\n",
       "8   1.519531  1.521484  1.520508 -0.005179\n",
       "9   1.520508  1.521484  1.520996 -0.002279\n",
       "10  1.520996  1.521484  1.521240 -0.000829\n",
       "11  1.521240  1.521484  1.521362 -0.000103\n",
       "12  1.521362  1.521484  1.521423  0.000259\n",
       "13  1.521362  1.521423  1.521393  0.000078"
      ]
     },
     "execution_count": 8,
     "metadata": {},
     "output_type": "execute_result"
    }
   ],
   "source": [
    "data_bisection"
   ]
  },
  {
   "cell_type": "code",
   "execution_count": 9,
   "metadata": {},
   "outputs": [
    {
     "data": {
      "image/png": "[encoded data removed]",
      "text/plain": [
       "<Figure size 576x576 with 1 Axes>"
      ]
     },
     "metadata": {
      "needs_background": "light"
     },
     "output_type": "display_data"
    }
   ],
   "source": [
    "# Figure size is Figure size 800x800 with 1 Axes\n",
    "plt.figure(figsize = (8, 8))\n",
    "plt.scatter(list(range(0,n)),data_bisection.fcn)\n",
    "plt.xlabel('$n$', fontsize=18)\n",
    "plt.ylabel('$f(c_n)$', fontsize=18)\n",
    "plt.show()"
   ]
  },
  {
   "cell_type": "markdown",
   "metadata": {},
   "source": [
    "## Secant method\n",
    "\n",
    "The secant method is defined as follows\n",
    "\n",
    "$${\\displaystyle x_{n}=x_{n-1}-f(x_{n-1}){\\frac {x_{n-1}-x_{n-2}}{f(x_{n-1})-f(x_{n-2})}}={\\frac {x_{n-2}f(x_{n-1})-x_{n-1}f(x_{n-2})}{f(x_{n-1})-f(x_{n-2})}}.}$$\n",
    "As can be seen from the recurrence relation, the secant method requires two initial values, $x_0$ and $x_1$, which should ideally be chosen to lie close to the root."
   ]
  },
  {
   "cell_type": "code",
   "execution_count": 11,
   "metadata": {},
   "outputs": [],
   "source": [
    "def secant(f,a,b,Nmax,TOL):\n",
    "    # endpoint values a, b, \n",
    "    # tolerance TOL, \n",
    "    # maximum iterations NMAX\n",
    "    \n",
    "    if f(a)*f(b) >= 0:\n",
    "        print(\"Secant method is inapplicable.\")\n",
    "        return None\n",
    "    Nmax=Nmax+1\n",
    "    an=np.zeros(Nmax, dtype=float)\n",
    "    bn=np.zeros(Nmax, dtype=float)\n",
    "    cn=np.zeros(Nmax, dtype=float)\n",
    "    fcn=np.zeros(Nmax, dtype=float)\n",
    "    # initial values\n",
    "    an[0]=a\n",
    "    bn[0]=b\n",
    "    for n in range(0,Nmax-1):\n",
    "        cn[n]=  an[n] - f(an[n])*(bn[n] - an[n])/(f(bn[n]) - f(an[n]))\n",
    "        fcn[n]=f(cn[n])\n",
    "        if f(an[n])*fcn[n] < 0:\n",
    "            an[n+1]=an[n]\n",
    "            bn[n+1]=cn[n]\n",
    "        elif f(bn[n])*fcn[n] < 0:\n",
    "            an[n+1]=cn[n]\n",
    "            bn[n+1]=bn[n]\n",
    "        else:\n",
    "            print(\"Secant method fails.\")\n",
    "            return None\n",
    "        if abs(fcn[n]) < TOL:\n",
    "            print(\"We have found an exact solution.\")\n",
    "            return an, bn, cn, fcn, n\n",
    "    return an, bn, cn, fcn, n"
   ]
  },
  {
   "cell_type": "markdown",
   "metadata": {},
   "source": [
    "**Example:** Let\n",
    "$$f(x)=x^{3}-x-2,$$\n",
    "and $N_{max}=20$ and the tolerance be $10^{-4}$. We have"
   ]
  },
  {
   "cell_type": "code",
   "execution_count": 12,
   "metadata": {},
   "outputs": [
    {
     "name": "stdout",
     "output_type": "stream",
     "text": [
      "We have found an exact solution.\n"
     ]
    }
   ],
   "source": [
    "f = lambda x: x**3 - x - 2\n",
    "Nmax=20; TOL=1e-4;\n",
    "an, bn, cn, fcn, n = secant(f,a,b,Nmax,TOL)"
   ]
  },
  {
   "cell_type": "code",
   "execution_count": 13,
   "metadata": {
    "scrolled": true
   },
   "outputs": [
    {
     "data": {
      "text/html": [
       "<div>\n",
       "<style scoped>\n",
       "    .dataframe tbody tr th:only-of-type {\n",
       "        vertical-align: middle;\n",
       "    }\n",
       "\n",
       "    .dataframe tbody tr th {\n",
       "        vertical-align: top;\n",
       "    }\n",
       "\n",
       "    .dataframe thead th {\n",
       "        text-align: right;\n",
       "    }\n",
       "</style>\n",
       "<table border=\"1\" class=\"dataframe\">\n",
       "  <thead>\n",
       "    <tr style=\"text-align: right;\">\n",
       "      <th></th>\n",
       "      <th>an</th>\n",
       "      <th>bn</th>\n",
       "      <th>cn</th>\n",
       "      <th>fcn</th>\n",
       "    </tr>\n",
       "  </thead>\n",
       "  <tbody>\n",
       "    <tr>\n",
       "      <th>0</th>\n",
       "      <td>1.333333</td>\n",
       "      <td>2.0</td>\n",
       "      <td>1.462687</td>\n",
       "      <td>-0.333339</td>\n",
       "    </tr>\n",
       "    <tr>\n",
       "      <th>1</th>\n",
       "      <td>1.462687</td>\n",
       "      <td>2.0</td>\n",
       "      <td>1.504019</td>\n",
       "      <td>-0.101818</td>\n",
       "    </tr>\n",
       "    <tr>\n",
       "      <th>2</th>\n",
       "      <td>1.504019</td>\n",
       "      <td>2.0</td>\n",
       "      <td>1.516331</td>\n",
       "      <td>-0.029895</td>\n",
       "    </tr>\n",
       "    <tr>\n",
       "      <th>3</th>\n",
       "      <td>1.516331</td>\n",
       "      <td>2.0</td>\n",
       "      <td>1.519919</td>\n",
       "      <td>-0.008675</td>\n",
       "    </tr>\n",
       "    <tr>\n",
       "      <th>4</th>\n",
       "      <td>1.519919</td>\n",
       "      <td>2.0</td>\n",
       "      <td>1.520957</td>\n",
       "      <td>-0.002509</td>\n",
       "    </tr>\n",
       "    <tr>\n",
       "      <th>5</th>\n",
       "      <td>1.520957</td>\n",
       "      <td>2.0</td>\n",
       "      <td>1.521258</td>\n",
       "      <td>-0.000725</td>\n",
       "    </tr>\n",
       "    <tr>\n",
       "      <th>6</th>\n",
       "      <td>1.521258</td>\n",
       "      <td>2.0</td>\n",
       "      <td>1.521344</td>\n",
       "      <td>-0.000209</td>\n",
       "    </tr>\n",
       "    <tr>\n",
       "      <th>7</th>\n",
       "      <td>1.521344</td>\n",
       "      <td>2.0</td>\n",
       "      <td>1.521370</td>\n",
       "      <td>-0.000060</td>\n",
       "    </tr>\n",
       "  </tbody>\n",
       "</table>\n",
       "</div>"
      ],
      "text/plain": [
       "         an   bn        cn       fcn\n",
       "0  1.333333  2.0  1.462687 -0.333339\n",
       "1  1.462687  2.0  1.504019 -0.101818\n",
       "2  1.504019  2.0  1.516331 -0.029895\n",
       "3  1.516331  2.0  1.519919 -0.008675\n",
       "4  1.519919  2.0  1.520957 -0.002509\n",
       "5  1.520957  2.0  1.521258 -0.000725\n",
       "6  1.521258  2.0  1.521344 -0.000209\n",
       "7  1.521344  2.0  1.521370 -0.000060"
      ]
     },
     "execution_count": 13,
     "metadata": {},
     "output_type": "execute_result"
    }
   ],
   "source": [
    "data_secant = pd.DataFrame({'an': an[1:n+1], 'bn': bn[1:n+1], 'cn': cn[1:n+1], 'fcn': fcn[1:n+1]})\n",
    "data_secant"
   ]
  },
  {
   "cell_type": "code",
   "execution_count": 14,
   "metadata": {},
   "outputs": [
    {
     "data": {
      "text/plain": [
       "8"
      ]
     },
     "execution_count": 14,
     "metadata": {},
     "output_type": "execute_result"
    }
   ],
   "source": [
    "n"
   ]
  },
  {
   "cell_type": "code",
   "execution_count": 15,
   "metadata": {},
   "outputs": [
    {
     "data": {
      "image/png": "[encoded data removed]",
      "text/plain": [
       "<Figure size 576x576 with 1 Axes>"
      ]
     },
     "metadata": {
      "needs_background": "light"
     },
     "output_type": "display_data"
    }
   ],
   "source": [
    "# Figure size is Figure size 800x800 with 1 Axes\n",
    "plt.figure(figsize = (8, 8))\n",
    "plt.scatter(list(range(0,n)),data_secant.fcn)\n",
    "plt.xlabel('$n$', fontsize=18)\n",
    "plt.ylabel('$f(c_n)$', fontsize=18)\n",
    "plt.show()"
   ]
  },
  {
   "cell_type": "markdown",
   "metadata": {},
   "source": [
    "## Newton's method\n",
    "\n",
    "The process is repeated as\n",
    "\n",
    "$${\\displaystyle x_{n+1}=x_{n}-{\\frac {f(x_{n})}{f'(x_{n})}}\\,}x_{n+1}=x_{n}-{\\frac {f(x_{n})}{f'(x_{n})}}\\,$$"
   ]
  },
  {
   "cell_type": "code",
   "execution_count": 16,
   "metadata": {},
   "outputs": [],
   "source": [
    "def newton(f,Df,x0,TOL,Nmax):\n",
    "    # endpoint values a, b, \n",
    "    # tolerance TOL, \n",
    "    # maximum iterations NMAX\n",
    "    xn=np.zeros(Nmax, dtype=float)\n",
    "    fxn=np.zeros(Nmax, dtype=float)\n",
    "    Dfxn=np.zeros(Nmax, dtype=float)\n",
    "    xn[0] = x0\n",
    "    for n in range(0,Nmax-1):\n",
    "        fxn[n] = f(xn[n])\n",
    "        if abs(fxn[n]) < TOL:\n",
    "            print('Found a solution after',n,'iterations.')\n",
    "            Dfxn[n] = Df(xn[n])\n",
    "            return xn, fxn, Dfxn, n\n",
    "        Dfxn[n] = Df(xn[n])\n",
    "        if Dfxn[n] == 0:\n",
    "            print('Zero derivative. No solution found.')\n",
    "            return None\n",
    "        xn[n+1] = xn[n] - fxn[n]/Dfxn[n]\n",
    "    print('Exceeded maximum iterations. No solution found.')\n",
    "    return None"
   ]
  },
  {
   "cell_type": "markdown",
   "metadata": {},
   "source": [
    "**Example:** Let\n",
    "$$f(x)=x^{3}-x-2,$$\n",
    "and $N_{max}=20$ and the tolerance be $10^{-4}$. We have"
   ]
  },
  {
   "cell_type": "code",
   "execution_count": 17,
   "metadata": {},
   "outputs": [
    {
     "name": "stdout",
     "output_type": "stream",
     "text": [
      "Found a solution after 5 iterations.\n"
     ]
    }
   ],
   "source": [
    "f = lambda x: x**3 - x - 2\n",
    "Df = lambda x: 3*x**(2)-1\n",
    "Nmax=20; TOL=1e-4;\n",
    "xn, fxn, Dfxn, n= newton(f,Df,1,TOL,Nmax)"
   ]
  },
  {
   "cell_type": "code",
   "execution_count": 18,
   "metadata": {
    "scrolled": true
   },
   "outputs": [
    {
     "data": {
      "text/html": [
       "<div>\n",
       "<style scoped>\n",
       "    .dataframe tbody tr th:only-of-type {\n",
       "        vertical-align: middle;\n",
       "    }\n",
       "\n",
       "    .dataframe tbody tr th {\n",
       "        vertical-align: top;\n",
       "    }\n",
       "\n",
       "    .dataframe thead th {\n",
       "        text-align: right;\n",
       "    }\n",
       "</style>\n",
       "<table border=\"1\" class=\"dataframe\">\n",
       "  <thead>\n",
       "    <tr style=\"text-align: right;\">\n",
       "      <th></th>\n",
       "      <th>xn</th>\n",
       "      <th>fxn</th>\n",
       "      <th>Dfxn</th>\n",
       "    </tr>\n",
       "  </thead>\n",
       "  <tbody>\n",
       "    <tr>\n",
       "      <th>0</th>\n",
       "      <td>2.000000</td>\n",
       "      <td>4.000000e+00</td>\n",
       "      <td>11.000000</td>\n",
       "    </tr>\n",
       "    <tr>\n",
       "      <th>1</th>\n",
       "      <td>1.636364</td>\n",
       "      <td>7.453043e-01</td>\n",
       "      <td>7.033058</td>\n",
       "    </tr>\n",
       "    <tr>\n",
       "      <th>2</th>\n",
       "      <td>1.530392</td>\n",
       "      <td>5.393892e-02</td>\n",
       "      <td>6.026299</td>\n",
       "    </tr>\n",
       "    <tr>\n",
       "      <th>3</th>\n",
       "      <td>1.521441</td>\n",
       "      <td>3.670959e-04</td>\n",
       "      <td>5.944352</td>\n",
       "    </tr>\n",
       "    <tr>\n",
       "      <th>4</th>\n",
       "      <td>1.521380</td>\n",
       "      <td>1.740686e-08</td>\n",
       "      <td>5.943789</td>\n",
       "    </tr>\n",
       "  </tbody>\n",
       "</table>\n",
       "</div>"
      ],
      "text/plain": [
       "         xn           fxn       Dfxn\n",
       "0  2.000000  4.000000e+00  11.000000\n",
       "1  1.636364  7.453043e-01   7.033058\n",
       "2  1.530392  5.393892e-02   6.026299\n",
       "3  1.521441  3.670959e-04   5.944352\n",
       "4  1.521380  1.740686e-08   5.943789"
      ]
     },
     "execution_count": 18,
     "metadata": {},
     "output_type": "execute_result"
    }
   ],
   "source": [
    "data_newton = pd.DataFrame({'xn': xn[1:n+1], 'fxn': fxn[1:n+1], 'Dfxn': Dfxn[1:n+1]})\n",
    "data_newton"
   ]
  },
  {
   "cell_type": "code",
   "execution_count": 19,
   "metadata": {},
   "outputs": [
    {
     "data": {
      "image/png": "[encoded data removed]",
      "text/plain": [
       "<Figure size 576x576 with 1 Axes>"
      ]
     },
     "metadata": {
      "needs_background": "light"
     },
     "output_type": "display_data"
    }
   ],
   "source": [
    "# Figure size is Figure size 800x800 with 1 Axes\n",
    "plt.figure(figsize = (8, 8))\n",
    "plt.scatter(list(range(0,n)),data_newton.fxn[0:n])\n",
    "plt.xlabel('$n$', fontsize=18)\n",
    "plt.ylabel('$f(x_n)$', fontsize=18)\n",
    "plt.show()"
   ]
  }
 ],
 "metadata": {
  "kernelspec": {
   "display_name": "Python 3",
   "language": "python",
   "name": "python3"
  },
  "language_info": {
   "codemirror_mode": {
    "name": "ipython",
    "version": 3
   },
   "file_extension": ".py",
   "mimetype": "text/x-python",
   "name": "python",
   "nbconvert_exporter": "python",
   "pygments_lexer": "ipython3",
   "version": "3.7.1"
  }
 },
 "nbformat": 4,
 "nbformat_minor": 2
}
