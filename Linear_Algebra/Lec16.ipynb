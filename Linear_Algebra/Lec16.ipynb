{
 "cells": [
  {
   "cell_type": "code",
   "execution_count": 1,
   "metadata": {},
   "outputs": [],
   "source": [
    "from __future__ import division\n",
    "from sympy import *\n",
    "init_printing(use_unicode=True)"
   ]
  },
  {
   "cell_type": "markdown",
   "metadata": {},
   "source": [
    "$\\textbf{Example 7.23 }$ \n",
    "A Markov matrix given by\n",
    "\\begin{align*}\n",
    "A=\\left[\\begin{array}{cc} 0.6 & 0.3\\\\ 0.4 & 0.7 \\end{array}\\right],\n",
    "\\end{align*}"
   ]
  },
  {
   "cell_type": "code",
   "execution_count": 2,
   "metadata": {
    "scrolled": true
   },
   "outputs": [],
   "source": [
    "A=Matrix([[6.000000e-01,3.000000e-01],[4.000000e-01,7.000000e-01]])"
   ]
  },
  {
   "cell_type": "markdown",
   "metadata": {},
   "source": [
    "The sum of the first column:"
   ]
  },
  {
   "cell_type": "code",
   "execution_count": 3,
   "metadata": {},
   "outputs": [
    {
     "data": {
      "image/png": "[encoded data removed]",
      "text/latex": [
       "$$1.0$$"
      ],
      "text/plain": [
       "1.00000000000000"
      ]
     },
     "execution_count": 3,
     "metadata": {},
     "output_type": "execute_result"
    }
   ],
   "source": [
    "sum(A[:,0])"
   ]
  },
  {
   "cell_type": "markdown",
   "metadata": {},
   "source": [
    "The sum of the second column:"
   ]
  },
  {
   "cell_type": "code",
   "execution_count": 4,
   "metadata": {},
   "outputs": [
    {
     "data": {
      "image/png": "[encoded data removed]",
      "text/latex": [
       "$$1.0$$"
      ],
      "text/plain": [
       "1.00000000000000"
      ]
     },
     "execution_count": 4,
     "metadata": {},
     "output_type": "execute_result"
    }
   ],
   "source": [
    "sum(A[:,1])"
   ]
  },
  {
   "cell_type": "markdown",
   "metadata": {},
   "source": [
    "$\\textbf{Example 7.24 }$ \n",
    "A man always eats lunch at one of two restaurants, A and B. He never eats at A twice in a row. However, if he eats at B, he is three times as likely to eat at B next time as at A. Initially, he is equally likely to eat at either restaurant.\n",
    "* What is the probability that he eats at $A$ on the third day after the initial one?\n",
    "* What proportion of his lunches does he eat at $A$?"
   ]
  },
  {
   "cell_type": "code",
   "execution_count": 5,
   "metadata": {},
   "outputs": [
    {
     "name": "stdout",
     "output_type": "stream",
     "text": [
      "A=\n"
     ]
    },
    {
     "data": {
      "text/latex": [
       "$$\\left[\\begin{matrix}0 & 0.25\\\\1 & 0.75\\end{matrix}\\right]$$"
      ],
      "text/plain": [
       "⎡0  0.25⎤\n",
       "⎢       ⎥\n",
       "⎣1  0.75⎦"
      ]
     },
     "execution_count": 5,
     "metadata": {},
     "output_type": "execute_result"
    }
   ],
   "source": [
    "A=Matrix([[0,2.500000e-01],[1,7.500000e-01]])\n",
    "print('A='),\n",
    "A"
   ]
  },
  {
   "cell_type": "code",
   "execution_count": 6,
   "metadata": {},
   "outputs": [
    {
     "data": {
      "text/latex": [
       "$$\\left[\\begin{matrix}0.5\\\\0.5\\end{matrix}\\right]$$"
      ],
      "text/plain": [
       "⎡0.5⎤\n",
       "⎢   ⎥\n",
       "⎣0.5⎦"
      ]
     },
     "execution_count": 6,
     "metadata": {},
     "output_type": "execute_result"
    }
   ],
   "source": [
    "X0=Matrix([[0.500000],[0.500000]])\n",
    "X0"
   ]
  },
  {
   "cell_type": "markdown",
   "metadata": {},
   "source": [
    "We have\n",
    "$$\n",
    "X_{n+1} = PX_n,\\quad n=1,2,3,\\ldots.\n",
    "$$"
   ]
  },
  {
   "cell_type": "markdown",
   "metadata": {},
   "source": [
    "We can now successively compute $X_1$, $X_2$, $\\ldots$"
   ]
  },
  {
   "cell_type": "code",
   "execution_count": 7,
   "metadata": {
    "scrolled": true
   },
   "outputs": [
    {
     "name": "stdout",
     "output_type": "stream",
     "text": [
      "X1\n"
     ]
    },
    {
     "data": {
      "text/latex": [
       "$$\\left[\\begin{matrix}0.125\\\\0.875\\end{matrix}\\right]$$"
      ],
      "text/plain": [
       "⎡0.125⎤\n",
       "⎢     ⎥\n",
       "⎣0.875⎦"
      ]
     },
     "execution_count": 7,
     "metadata": {},
     "output_type": "execute_result"
    }
   ],
   "source": [
    "print('X%s' % 1)\n",
    "A*X0"
   ]
  },
  {
   "cell_type": "code",
   "execution_count": 8,
   "metadata": {},
   "outputs": [
    {
     "name": "stdout",
     "output_type": "stream",
     "text": [
      "X2\n"
     ]
    },
    {
     "data": {
      "text/latex": [
       "$$\\left[\\begin{matrix}0.21875\\\\0.78125\\end{matrix}\\right]$$"
      ],
      "text/plain": [
       "⎡0.21875⎤\n",
       "⎢       ⎥\n",
       "⎣0.78125⎦"
      ]
     },
     "execution_count": 8,
     "metadata": {},
     "output_type": "execute_result"
    }
   ],
   "source": [
    "print('X%s' % 2)\n",
    "A**2*X0"
   ]
  },
  {
   "cell_type": "code",
   "execution_count": 9,
   "metadata": {},
   "outputs": [
    {
     "name": "stdout",
     "output_type": "stream",
     "text": [
      "X3\n"
     ]
    },
    {
     "data": {
      "text/latex": [
       "$$\\left[\\begin{matrix}0.1953125\\\\0.8046875\\end{matrix}\\right]$$"
      ],
      "text/plain": [
       "⎡0.1953125⎤\n",
       "⎢         ⎥\n",
       "⎣0.8046875⎦"
      ]
     },
     "execution_count": 9,
     "metadata": {},
     "output_type": "execute_result"
    }
   ],
   "source": [
    "print('X%s' % 3)\n",
    "A**3*X0"
   ]
  },
  {
   "cell_type": "code",
   "execution_count": 10,
   "metadata": {},
   "outputs": [
    {
     "name": "stdout",
     "output_type": "stream",
     "text": [
      "X4\n"
     ]
    },
    {
     "data": {
      "text/latex": [
       "$$\\left[\\begin{matrix}0.201171875\\\\0.798828125\\end{matrix}\\right]$$"
      ],
      "text/plain": [
       "⎡0.201171875⎤\n",
       "⎢           ⎥\n",
       "⎣0.798828125⎦"
      ]
     },
     "execution_count": 10,
     "metadata": {},
     "output_type": "execute_result"
    }
   ],
   "source": [
    "print('X%s' % 4)\n",
    "A**4*X0"
   ]
  },
  {
   "cell_type": "code",
   "execution_count": 11,
   "metadata": {
    "scrolled": true
   },
   "outputs": [
    {
     "name": "stdout",
     "output_type": "stream",
     "text": [
      "X5\n"
     ]
    },
    {
     "data": {
      "text/latex": [
       "$$\\left[\\begin{matrix}0.19970703125\\\\0.80029296875\\end{matrix}\\right]$$"
      ],
      "text/plain": [
       "⎡0.19970703125⎤\n",
       "⎢             ⎥\n",
       "⎣0.80029296875⎦"
      ]
     },
     "execution_count": 11,
     "metadata": {},
     "output_type": "execute_result"
    }
   ],
   "source": [
    "print('X%s' % 5)\n",
    "A**5*X0"
   ]
  },
  {
   "cell_type": "code",
   "execution_count": 12,
   "metadata": {},
   "outputs": [
    {
     "name": "stdout",
     "output_type": "stream",
     "text": [
      "X6\n"
     ]
    },
    {
     "data": {
      "text/latex": [
       "$$\\left[\\begin{matrix}0.2000732421875\\\\0.7999267578125\\end{matrix}\\right]$$"
      ],
      "text/plain": [
       "⎡0.2000732421875⎤\n",
       "⎢               ⎥\n",
       "⎣0.7999267578125⎦"
      ]
     },
     "execution_count": 12,
     "metadata": {},
     "output_type": "execute_result"
    }
   ],
   "source": [
    "print('X%s' % 6)\n",
    "A**6*X0"
   ]
  },
  {
   "cell_type": "code",
   "execution_count": 13,
   "metadata": {},
   "outputs": [
    {
     "name": "stdout",
     "output_type": "stream",
     "text": [
      "X7\n"
     ]
    },
    {
     "data": {
      "text/latex": [
       "$$\\left[\\begin{matrix}0.199981689453125\\\\0.800018310546875\\end{matrix}\\right]$$"
      ],
      "text/plain": [
       "⎡0.199981689453125⎤\n",
       "⎢                 ⎥\n",
       "⎣0.800018310546875⎦"
      ]
     },
     "execution_count": 13,
     "metadata": {},
     "output_type": "execute_result"
    }
   ],
   "source": [
    "print('X%s' % 7)\n",
    "A**7*X0 "
   ]
  },
  {
   "cell_type": "markdown",
   "metadata": {},
   "source": [
    "For a large $n$"
   ]
  },
  {
   "cell_type": "code",
   "execution_count": 14,
   "metadata": {
    "scrolled": true
   },
   "outputs": [
    {
     "name": "stdout",
     "output_type": "stream",
     "text": [
      "X400\n"
     ]
    },
    {
     "data": {
      "text/latex": [
       "$$\\left[\\begin{matrix}0.2\\\\0.8\\end{matrix}\\right]$$"
      ],
      "text/plain": [
       "⎡0.2⎤\n",
       "⎢   ⎥\n",
       "⎣0.8⎦"
      ]
     },
     "execution_count": 14,
     "metadata": {},
     "output_type": "execute_result"
    }
   ],
   "source": [
    "N=400;\n",
    "print('X%s' % N)\n",
    "A**N*X0"
   ]
  },
  {
   "cell_type": "code",
   "execution_count": 15,
   "metadata": {},
   "outputs": [],
   "source": [
    "N=50\n",
    "Xn=zeros(2,N+1)\n",
    "for n in range(0,N):\n",
    "    Xn[:,n]=A**n*X0"
   ]
  },
  {
   "cell_type": "code",
   "execution_count": 16,
   "metadata": {},
   "outputs": [
    {
     "data": {
      "text/plain": [
       "<Figure size 1000x1000 with 1 Axes>"
      ]
     },
     "metadata": {},
     "output_type": "display_data"
    }
   ],
   "source": [
    "import matplotlib.pyplot as plt\n",
    "# Figure size is Figure size 800x800 with 1 Axes\n",
    "plt.figure(figsize = (10, 10))\n",
    "plt.scatter(list(range(0, N)),Xn[0,range(0,N)])\n",
    "plt.xlabel('n')\n",
    "plt.ylabel('The probability eating at restaurant A')\n",
    "plt.show()"
   ]
  },
  {
   "cell_type": "code",
   "execution_count": 17,
   "metadata": {},
   "outputs": [
    {
     "data": {
      "image/png": "[encoded data removed]",
      "text/plain": [
       "<Figure size 720x720 with 1 Axes>"
      ]
     },
     "metadata": {
      "needs_background": "light"
     },
     "output_type": "display_data"
    }
   ],
   "source": [
    "import matplotlib.pyplot as plt\n",
    "# Figure size is Figure size 800x800 with 1 Axes\n",
    "plt.figure(figsize = (10, 10))\n",
    "plt.scatter(list(range(0, N)),Xn[1,range(0,N)])\n",
    "plt.xlabel('n')\n",
    "plt.ylabel('The probability eating at restaurant B')\n",
    "plt.show()"
   ]
  },
  {
   "cell_type": "markdown",
   "metadata": {},
   "source": [
    "$\\textbf{Example 7.25 }$ \n",
    "Consider the migration matrix\n",
    "$$A=\\left[\\begin{array}{ccc} 0.5 & 0.2 & 0.4\\\\ 0.3 & 0.4 & 0\\\\ 0.2 & 0.4 & 0.6 \\end{array}\\right]$$\n",
    "for locations 1,2, and 3. Suppose initially there are 150 residents in location 1 , 150 in location 2 and 200 in location 3 . Find the population in the three locations after 1,2, 3, 4 and 5 units of time."
   ]
  },
  {
   "cell_type": "code",
   "execution_count": 18,
   "metadata": {},
   "outputs": [
    {
     "data": {
      "text/latex": [
       "$$\\left[\\begin{matrix}0.5 & 0.2 & 0.4\\\\0.3 & 0.4 & 0.0\\\\0.2 & 0.4 & 0.6\\end{matrix}\\right]$$"
      ],
      "text/plain": [
       "⎡0.5  0.2  0.4⎤\n",
       "⎢             ⎥\n",
       "⎢0.3  0.4  0.0⎥\n",
       "⎢             ⎥\n",
       "⎣0.2  0.4  0.6⎦"
      ]
     },
     "execution_count": 18,
     "metadata": {},
     "output_type": "execute_result"
    }
   ],
   "source": [
    "A=Matrix([[0.500000,0.200000,0.400000],[0.300000,0.400000,0.000000],[0.200000,0.400000,0.600000]])\n",
    "A"
   ]
  },
  {
   "cell_type": "code",
   "execution_count": 19,
   "metadata": {},
   "outputs": [
    {
     "data": {
      "text/latex": [
       "$$\\left[\\begin{matrix}150.0\\\\150.0\\\\200.0\\end{matrix}\\right]$$"
      ],
      "text/plain": [
       "⎡150.0⎤\n",
       "⎢     ⎥\n",
       "⎢150.0⎥\n",
       "⎢     ⎥\n",
       "⎣200.0⎦"
      ]
     },
     "execution_count": 19,
     "metadata": {},
     "output_type": "execute_result"
    }
   ],
   "source": [
    "X0=Matrix([[150.000000],[150.000000],[200.000000]])\n",
    "X0"
   ]
  },
  {
   "cell_type": "code",
   "execution_count": 20,
   "metadata": {
    "scrolled": true
   },
   "outputs": [
    {
     "name": "stdout",
     "output_type": "stream",
     "text": [
      "X1=\n"
     ]
    },
    {
     "data": {
      "text/latex": [
       "$$\\left[\\begin{matrix}185.0\\\\105.0\\\\210.0\\end{matrix}\\right]$$"
      ],
      "text/plain": [
       "⎡185.0⎤\n",
       "⎢     ⎥\n",
       "⎢105.0⎥\n",
       "⎢     ⎥\n",
       "⎣210.0⎦"
      ]
     },
     "execution_count": 20,
     "metadata": {},
     "output_type": "execute_result"
    }
   ],
   "source": [
    "print('X%s=' % 1)\n",
    "A*X0"
   ]
  },
  {
   "cell_type": "code",
   "execution_count": 21,
   "metadata": {},
   "outputs": [
    {
     "name": "stdout",
     "output_type": "stream",
     "text": [
      "X2=\n"
     ]
    },
    {
     "data": {
      "text/latex": [
       "$$\\left[\\begin{matrix}197.5\\\\97.5\\\\205.0\\end{matrix}\\right]$$"
      ],
      "text/plain": [
       "⎡197.5⎤\n",
       "⎢     ⎥\n",
       "⎢97.5 ⎥\n",
       "⎢     ⎥\n",
       "⎣205.0⎦"
      ]
     },
     "execution_count": 21,
     "metadata": {},
     "output_type": "execute_result"
    }
   ],
   "source": [
    "print('X%s=' % 2)\n",
    "A**2*X0"
   ]
  },
  {
   "cell_type": "code",
   "execution_count": 22,
   "metadata": {},
   "outputs": [
    {
     "name": "stdout",
     "output_type": "stream",
     "text": [
      "X3=\n"
     ]
    },
    {
     "data": {
      "text/latex": [
       "$$\\left[\\begin{matrix}200.25\\\\98.25\\\\201.5\\end{matrix}\\right]$$"
      ],
      "text/plain": [
       "⎡200.25⎤\n",
       "⎢      ⎥\n",
       "⎢98.25 ⎥\n",
       "⎢      ⎥\n",
       "⎣201.5 ⎦"
      ]
     },
     "execution_count": 22,
     "metadata": {},
     "output_type": "execute_result"
    }
   ],
   "source": [
    "print('X%s=' % 3)\n",
    "A**3*X0"
   ]
  },
  {
   "cell_type": "code",
   "execution_count": 23,
   "metadata": {},
   "outputs": [
    {
     "name": "stdout",
     "output_type": "stream",
     "text": [
      "X4=\n"
     ]
    },
    {
     "data": {
      "text/latex": [
       "$$\\left[\\begin{matrix}200.375\\\\99.375\\\\200.25\\end{matrix}\\right]$$"
      ],
      "text/plain": [
       "⎡200.375⎤\n",
       "⎢       ⎥\n",
       "⎢99.375 ⎥\n",
       "⎢       ⎥\n",
       "⎣200.25 ⎦"
      ]
     },
     "execution_count": 23,
     "metadata": {},
     "output_type": "execute_result"
    }
   ],
   "source": [
    "print('X%s=' % 4)\n",
    "A**4*X0"
   ]
  },
  {
   "cell_type": "code",
   "execution_count": 24,
   "metadata": {
    "scrolled": true
   },
   "outputs": [
    {
     "name": "stdout",
     "output_type": "stream",
     "text": [
      "X5=\n"
     ]
    },
    {
     "data": {
      "text/latex": [
       "$$\\left[\\begin{matrix}200.1625\\\\99.8625\\\\199.975\\end{matrix}\\right]$$"
      ],
      "text/plain": [
       "⎡200.1625⎤\n",
       "⎢        ⎥\n",
       "⎢99.8625 ⎥\n",
       "⎢        ⎥\n",
       "⎣199.975 ⎦"
      ]
     },
     "execution_count": 24,
     "metadata": {},
     "output_type": "execute_result"
    }
   ],
   "source": [
    "print('X%s=' % 5)\n",
    "A**5*X0"
   ]
  },
  {
   "cell_type": "code",
   "execution_count": 25,
   "metadata": {},
   "outputs": [
    {
     "name": "stdout",
     "output_type": "stream",
     "text": [
      "X6=\n"
     ]
    },
    {
     "data": {
      "text/latex": [
       "$$\\left[\\begin{matrix}200.04375\\\\99.99375\\\\199.9625\\end{matrix}\\right]$$"
      ],
      "text/plain": [
       "⎡200.04375⎤\n",
       "⎢         ⎥\n",
       "⎢99.99375 ⎥\n",
       "⎢         ⎥\n",
       "⎣199.9625 ⎦"
      ]
     },
     "execution_count": 25,
     "metadata": {},
     "output_type": "execute_result"
    }
   ],
   "source": [
    "print('X%s=' % 6)\n",
    "A**6*X0"
   ]
  },
  {
   "cell_type": "code",
   "execution_count": 26,
   "metadata": {},
   "outputs": [
    {
     "name": "stdout",
     "output_type": "stream",
     "text": [
      "X7\n"
     ]
    },
    {
     "data": {
      "text/latex": [
       "$$\\left[\\begin{matrix}200.005625\\\\100.010625\\\\199.98375\\end{matrix}\\right]$$"
      ],
      "text/plain": [
       "⎡200.005625⎤\n",
       "⎢          ⎥\n",
       "⎢100.010625⎥\n",
       "⎢          ⎥\n",
       "⎣199.98375 ⎦"
      ]
     },
     "execution_count": 26,
     "metadata": {},
     "output_type": "execute_result"
    }
   ],
   "source": [
    "print('X%s' % 7)\n",
    "A**7*X0 "
   ]
  },
  {
   "cell_type": "markdown",
   "metadata": {},
   "source": [
    "For a large $n$"
   ]
  },
  {
   "cell_type": "code",
   "execution_count": 27,
   "metadata": {
    "scrolled": true
   },
   "outputs": [
    {
     "name": "stdout",
     "output_type": "stream",
     "text": [
      "After 1000000.0 unit of time\n"
     ]
    },
    {
     "data": {
      "text/latex": [
       "$$\\left[\\begin{matrix}200.0\\\\100.0\\\\200.0\\end{matrix}\\right]$$"
      ],
      "text/plain": [
       "⎡200.0⎤\n",
       "⎢     ⎥\n",
       "⎢100.0⎥\n",
       "⎢     ⎥\n",
       "⎣200.0⎦"
      ]
     },
     "execution_count": 27,
     "metadata": {},
     "output_type": "execute_result"
    }
   ],
   "source": [
    "N=1e6\n",
    "X=A**N*X0\n",
    "X[0]=round(X[0],0)\n",
    "X[1]=round(X[1],0)\n",
    "X[2]=round(X[2],0)\n",
    "print('After %s unit of time' % N)\n",
    "X"
   ]
  },
  {
   "cell_type": "code",
   "execution_count": 28,
   "metadata": {},
   "outputs": [],
   "source": [
    "N=50\n",
    "Xn=zeros(3,N+1)\n",
    "for n in range(0,N):\n",
    "    Xn[:,n]=A**n*X0"
   ]
  },
  {
   "cell_type": "code",
   "execution_count": 29,
   "metadata": {},
   "outputs": [
    {
     "data": {
      "image/png": "[encoded data removed]",
      "text/plain": [
       "<Figure size 720x720 with 1 Axes>"
      ]
     },
     "metadata": {
      "needs_background": "light"
     },
     "output_type": "display_data"
    }
   ],
   "source": [
    "import matplotlib.pyplot as plt\n",
    "# Figure size is Figure size 800x800 with 1 Axes\n",
    "plt.figure(figsize = (10, 10))\n",
    "plt.scatter(list(range(0, N)),Xn[0,range(0,N)])\n",
    "plt.xlabel('n')\n",
    "plt.ylabel('The number of residents in location one')\n",
    "plt.show()"
   ]
  },
  {
   "cell_type": "code",
   "execution_count": 30,
   "metadata": {},
   "outputs": [
    {
     "data": {
      "image/png": "[encoded data removed]",
      "text/plain": [
       "<Figure size 720x720 with 1 Axes>"
      ]
     },
     "metadata": {
      "needs_background": "light"
     },
     "output_type": "display_data"
    }
   ],
   "source": [
    "import matplotlib.pyplot as plt\n",
    "# Figure size is Figure size 800x800 with 1 Axes\n",
    "plt.figure(figsize = (10, 10))\n",
    "plt.scatter(list(range(0, N)),Xn[1,range(0,N)])\n",
    "plt.xlabel('n')\n",
    "plt.ylabel('The number of residents in location two')\n",
    "plt.show()"
   ]
  },
  {
   "cell_type": "code",
   "execution_count": 31,
   "metadata": {},
   "outputs": [
    {
     "data": {
      "image/png": "[encoded data removed]",
      "text/plain": [
       "<Figure size 720x720 with 1 Axes>"
      ]
     },
     "metadata": {
      "needs_background": "light"
     },
     "output_type": "display_data"
    }
   ],
   "source": [
    "import matplotlib.pyplot as plt\n",
    "# Figure size is Figure size 800x800 with 1 Axes\n",
    "plt.figure(figsize = (10, 10))\n",
    "plt.scatter(list(range(0, N)),Xn[2,range(0,N)])\n",
    "plt.xlabel('n')\n",
    "plt.ylabel('The number of residents in location three')\n",
    "plt.show()"
   ]
  },
  {
   "cell_type": "markdown",
   "metadata": {},
   "source": [
    "$\\textbf{Example 7.26 }$ \n",
    "* If it is sunny one day, then there is a 40\\% chance it will\n",
    "be sunny the next day, and a 40\\% chance that it will be cloudy the\n",
    "next day (and a 20\\% chance it will be rainy\n",
    "the next day).\n",
    "\n",
    "{The values 40\\%, 40\\% and 20\\% are transition probabilities, and are assumed to be known.}\n",
    "* If it is cloudy one day, then there is a 40\\% chance it will\n",
    "be rainy the next day, and a 25\\% chance that it will be sunny the\n",
    "next day.\n",
    "* If it is rainy one day, then there is a 30\\% chance it will\n",
    "be rainy the next day, and a 50\\% chance that it will be cloudy the\n",
    "next day.\n",
    "\n",
    "Suppose that it is rainy on Thursday. What is the probability that it will be sunny on Sunday?"
   ]
  },
  {
   "cell_type": "code",
   "execution_count": 32,
   "metadata": {},
   "outputs": [],
   "source": [
    "A=Matrix([[0.400000,0.250000,0.200000],[0.400000,0.350000,0.500000],[0.200000,0.400000,0.300000]])"
   ]
  },
  {
   "cell_type": "markdown",
   "metadata": {},
   "source": [
    "We put the transition probabilities into a {transition matrix},"
   ]
  },
  {
   "cell_type": "code",
   "execution_count": 33,
   "metadata": {},
   "outputs": [
    {
     "name": "stdout",
     "output_type": "stream",
     "text": [
      "A=\n"
     ]
    },
    {
     "data": {
      "text/latex": [
       "$$\\left[\\begin{matrix}0.4 & 0.25 & 0.2\\\\0.4 & 0.35 & 0.5\\\\0.2 & 0.4 & 0.3\\end{matrix}\\right]$$"
      ],
      "text/plain": [
       "⎡0.4  0.25  0.2⎤\n",
       "⎢              ⎥\n",
       "⎢0.4  0.35  0.5⎥\n",
       "⎢              ⎥\n",
       "⎣0.2  0.4   0.3⎦"
      ]
     },
     "execution_count": 33,
     "metadata": {},
     "output_type": "execute_result"
    }
   ],
   "source": [
    "print('A=')\n",
    "A"
   ]
  },
  {
   "cell_type": "markdown",
   "metadata": {},
   "source": [
    "The ***initial state*** vector, $X_0$, corresponds to the state of the weather on Thursday (it is rainy); therefore,\n",
    "\\begin{align*}\n",
    "X_0 =\n",
    "\\left[\\begin{array}{l}\n",
    "0 \\\\ 0 \\\\ 1\n",
    "\\end{array}\\right]\n",
    "\\begin{array}{c}\n",
    "\\mbox{S} \\\\ \\mbox{C} \\\\ \\mbox{R} \\end{array}\n",
    "\\end{align*}"
   ]
  },
  {
   "cell_type": "code",
   "execution_count": 34,
   "metadata": {},
   "outputs": [
    {
     "data": {
      "text/latex": [
       "$$\\left[\\begin{matrix}0.0\\\\0.0\\\\1.0\\end{matrix}\\right]$$"
      ],
      "text/plain": [
       "⎡0.0⎤\n",
       "⎢   ⎥\n",
       "⎢0.0⎥\n",
       "⎢   ⎥\n",
       "⎣1.0⎦"
      ]
     },
     "execution_count": 34,
     "metadata": {},
     "output_type": "execute_result"
    }
   ],
   "source": [
    "X0=Matrix([[0.000000],[0.000000],[1.000000]])\n",
    "X0"
   ]
  },
  {
   "cell_type": "markdown",
   "metadata": {},
   "source": [
    "The state vector for ***Friday***:"
   ]
  },
  {
   "cell_type": "code",
   "execution_count": 35,
   "metadata": {
    "scrolled": false
   },
   "outputs": [
    {
     "data": {
      "text/latex": [
       "$$\\left[\\begin{matrix}0.2\\\\0.5\\\\0.3\\end{matrix}\\right]$$"
      ],
      "text/plain": [
       "⎡0.2⎤\n",
       "⎢   ⎥\n",
       "⎢0.5⎥\n",
       "⎢   ⎥\n",
       "⎣0.3⎦"
      ]
     },
     "execution_count": 35,
     "metadata": {},
     "output_type": "execute_result"
    }
   ],
   "source": [
    "A*X0"
   ]
  },
  {
   "cell_type": "markdown",
   "metadata": {},
   "source": [
    "The state vector for ***Saturday***:"
   ]
  },
  {
   "cell_type": "code",
   "execution_count": 36,
   "metadata": {
    "scrolled": true
   },
   "outputs": [
    {
     "data": {
      "text/latex": [
       "$$\\left[\\begin{matrix}0.265\\\\0.405\\\\0.33\\end{matrix}\\right]$$"
      ],
      "text/plain": [
       "⎡0.265⎤\n",
       "⎢     ⎥\n",
       "⎢0.405⎥\n",
       "⎢     ⎥\n",
       "⎣0.33 ⎦"
      ]
     },
     "execution_count": 36,
     "metadata": {},
     "output_type": "execute_result"
    }
   ],
   "source": [
    "A**2*X0"
   ]
  },
  {
   "cell_type": "markdown",
   "metadata": {},
   "source": [
    "The state vector for ***Sunday***:"
   ]
  },
  {
   "cell_type": "code",
   "execution_count": 37,
   "metadata": {
    "scrolled": true
   },
   "outputs": [
    {
     "data": {
      "text/latex": [
       "$$\\left[\\begin{matrix}0.27325\\\\0.41275\\\\0.314\\end{matrix}\\right]$$"
      ],
      "text/plain": [
       "⎡0.27325⎤\n",
       "⎢       ⎥\n",
       "⎢0.41275⎥\n",
       "⎢       ⎥\n",
       "⎣ 0.314 ⎦"
      ]
     },
     "execution_count": 37,
     "metadata": {},
     "output_type": "execute_result"
    }
   ],
   "source": [
    "A**3*X0"
   ]
  },
  {
   "cell_type": "markdown",
   "metadata": {},
   "source": [
    "The state vector for ***Monday***:"
   ]
  },
  {
   "cell_type": "code",
   "execution_count": 39,
   "metadata": {
    "scrolled": true
   },
   "outputs": [
    {
     "data": {
      "text/latex": [
       "$$\\left[\\begin{matrix}0.28\\\\0.41\\\\0.31\\end{matrix}\\right]$$"
      ],
      "text/plain": [
       "⎡0.28⎤\n",
       "⎢    ⎥\n",
       "⎢0.41⎥\n",
       "⎢    ⎥\n",
       "⎣0.31⎦"
      ]
     },
     "execution_count": 39,
     "metadata": {},
     "output_type": "execute_result"
    }
   ],
   "source": [
    "X=A**4*X0\n",
    "X[0]=round(X[0],2)\n",
    "X[1]=round(X[1],2)\n",
    "X[2]=round(X[2],2)\n",
    "\n",
    "X"
   ]
  },
  {
   "cell_type": "markdown",
   "metadata": {},
   "source": [
    "$\\textbf{Exercise 7.4. }$ \n",
    "\n",
    "In the previous example, suppose that it is cloudy on Wednesday. What is the probability that it will be rainy on Friday?"
   ]
  },
  {
   "cell_type": "markdown",
   "metadata": {},
   "source": [
    "The initial state vector, $X_0$, corresponds to the state of the weather on Wednesday (it is cloudy); therefore,\n",
    "\\begin{align*}X_0 =\\left[\\begin{array}{l}0 \\\\ 1 \\\\ 0\\end{array}\\right]\n",
    "\\begin{array}{c}S \\\\ C \\\\ R \\end{array}\n",
    "\\end{align*}"
   ]
  },
  {
   "cell_type": "markdown",
   "metadata": {},
   "source": [
    "The state vector for ***Thursday***:"
   ]
  },
  {
   "cell_type": "code",
   "execution_count": 41,
   "metadata": {},
   "outputs": [],
   "source": [
    "X0=Matrix([[0],[1],[0]])"
   ]
  },
  {
   "cell_type": "code",
   "execution_count": 40,
   "metadata": {
    "scrolled": true
   },
   "outputs": [
    {
     "data": {
      "text/latex": [
       "$$\\left[\\begin{matrix}0.25\\\\0.35\\\\0.4\\end{matrix}\\right]$$"
      ],
      "text/plain": [
       "⎡0.25⎤\n",
       "⎢    ⎥\n",
       "⎢0.35⎥\n",
       "⎢    ⎥\n",
       "⎣0.4 ⎦"
      ]
     },
     "execution_count": 40,
     "metadata": {},
     "output_type": "execute_result"
    }
   ],
   "source": [
    "A*X0"
   ]
  },
  {
   "cell_type": "markdown",
   "metadata": {},
   "source": [
    "The state vector for ***Friday***:"
   ]
  },
  {
   "cell_type": "code",
   "execution_count": 42,
   "metadata": {
    "scrolled": true
   },
   "outputs": [
    {
     "data": {
      "text/latex": [
       "$$\\left[\\begin{matrix}0.2675\\\\0.4225\\\\0.31\\end{matrix}\\right]$$"
      ],
      "text/plain": [
       "⎡0.2675⎤\n",
       "⎢      ⎥\n",
       "⎢0.4225⎥\n",
       "⎢      ⎥\n",
       "⎣ 0.31 ⎦"
      ]
     },
     "execution_count": 42,
     "metadata": {},
     "output_type": "execute_result"
    }
   ],
   "source": [
    "A**2*X0"
   ]
  },
  {
   "cell_type": "markdown",
   "metadata": {},
   "source": [
    "$\\textbf{Example 7.27 }$ \n",
    "A person sets off on a random walk with three possible locations. The Markov matrix of\n",
    "probabilities $A = [a_{i,j}]$ is given by\n",
    "\\begin{align*}\n",
    "A=\\left[\\begin{array}{ccc} 0.1 & 0.3 & 0.5\\\\ 0.1 & 0.3 & 0.2\\\\ 0.8 & 0.4 & 0.3 \\end{array}\\right].\n",
    "\\end{align*}\n",
    "If the walker starts in location 1, what is the probability of ending back in location 3 at time $n = 3$?"
   ]
  },
  {
   "cell_type": "markdown",
   "metadata": {},
   "source": [
    "We need to find $x_{{\\color{blue}m}{\\color{red}n}}$ with ${\\color{blue}m=3}$ and ${\\color{red}n=3}$. Since the walker begins in location 1, we have\n",
    "\\begin{align*}\n",
    "X_{{\\color{red}0}}=\\begin{bmatrix}x_{{\\color{blue}1}{\\color{red}0}}\n",
    "\\\\x_{{\\color{blue}2}{\\color{red}0}}\n",
    "\\\\x_{{\\color{blue}3}{\\color{red}0}}\\end{bmatrix}\n",
    "=\\left[\\begin{array}{c} 1\\\\ 0\\\\ 0 \\end{array}\\right]\\begin{array}{c} \\leftarrow~\\text{location 1}\\\\ \\leftarrow~\\text{location 2}\\\\ \\leftarrow~\\text{location 3} \\end{array}.\n",
    "\\end{align*}\n",
    "The goal is to calculate $x_{22}$ . To do this we calculate $X_2$ , using $X_{n+1} = AX_n$"
   ]
  },
  {
   "cell_type": "code",
   "execution_count": 42,
   "metadata": {},
   "outputs": [
    {
     "name": "stdout",
     "output_type": "stream",
     "text": [
      "A,X0=\n"
     ]
    },
    {
     "data": {
      "text/latex": [
       "$$\\left ( \\left[\\begin{matrix}0.1 & 0.3 & 0.5\\\\0.1 & 0.3 & 0.2\\\\0.8 & 0.4 & 0.3\\end{matrix}\\right], \\quad \\left[\\begin{matrix}1.0\\\\0.0\\\\0.0\\end{matrix}\\right]\\right )$$"
      ],
      "text/plain": [
       "⎛⎡0.1  0.3  0.5⎤  ⎡1.0⎤⎞\n",
       "⎜⎢             ⎥  ⎢   ⎥⎟\n",
       "⎜⎢0.1  0.3  0.2⎥, ⎢0.0⎥⎟\n",
       "⎜⎢             ⎥  ⎢   ⎥⎟\n",
       "⎝⎣0.8  0.4  0.3⎦  ⎣0.0⎦⎠"
      ]
     },
     "execution_count": 42,
     "metadata": {},
     "output_type": "execute_result"
    }
   ],
   "source": [
    "A=Matrix([[0.100000,0.300000,0.500000],[0.100000,0.300000,0.200000],[0.800000,0.400000,0.300000]])\n",
    "X0=Matrix([[1.000000],[0.000000],[0.000000]])\n",
    "print('A,X0=')\n",
    "A,X0"
   ]
  },
  {
   "cell_type": "code",
   "execution_count": 43,
   "metadata": {},
   "outputs": [
    {
     "name": "stdout",
     "output_type": "stream",
     "text": [
      "X1\n"
     ]
    },
    {
     "data": {
      "text/latex": [
       "$$\\left[\\begin{matrix}0.1\\\\0.1\\\\0.8\\end{matrix}\\right]$$"
      ],
      "text/plain": [
       "⎡0.1⎤\n",
       "⎢   ⎥\n",
       "⎢0.1⎥\n",
       "⎢   ⎥\n",
       "⎣0.8⎦"
      ]
     },
     "execution_count": 43,
     "metadata": {},
     "output_type": "execute_result"
    }
   ],
   "source": [
    "print('X1')\n",
    "A*X0"
   ]
  },
  {
   "cell_type": "code",
   "execution_count": 44,
   "metadata": {
    "scrolled": true
   },
   "outputs": [
    {
     "name": "stdout",
     "output_type": "stream",
     "text": [
      "X2\n"
     ]
    },
    {
     "data": {
      "text/latex": [
       "$$\\left[\\begin{matrix}0.44\\\\0.2\\\\0.36\\end{matrix}\\right]$$"
      ],
      "text/plain": [
       "⎡0.44⎤\n",
       "⎢    ⎥\n",
       "⎢0.2 ⎥\n",
       "⎢    ⎥\n",
       "⎣0.36⎦"
      ]
     },
     "execution_count": 44,
     "metadata": {},
     "output_type": "execute_result"
    }
   ],
   "source": [
    "print('X2')\n",
    "X2=A**2*X0;X2"
   ]
  },
  {
   "cell_type": "code",
   "execution_count": 45,
   "metadata": {},
   "outputs": [
    {
     "name": "stdout",
     "output_type": "stream",
     "text": [
      "X3\n"
     ]
    },
    {
     "data": {
      "text/latex": [
       "$$\\left[\\begin{matrix}0.44\\\\0.2\\\\0.36\\end{matrix}\\right]$$"
      ],
      "text/plain": [
       "⎡0.44⎤\n",
       "⎢    ⎥\n",
       "⎢0.2 ⎥\n",
       "⎢    ⎥\n",
       "⎣0.36⎦"
      ]
     },
     "execution_count": 45,
     "metadata": {},
     "output_type": "execute_result"
    }
   ],
   "source": [
    "print('X3')\n",
    "X3=A**2*X0;X3"
   ]
  },
  {
   "cell_type": "code",
   "execution_count": 46,
   "metadata": {
    "scrolled": true
   },
   "outputs": [
    {
     "data": {
      "image/png": "[encoded data removed]",
      "text/latex": [
       "$$0.36$$"
      ],
      "text/plain": [
       "0.360000000000000"
      ]
     },
     "execution_count": 46,
     "metadata": {},
     "output_type": "execute_result"
    }
   ],
   "source": [
    "X3[2]"
   ]
  },
  {
   "cell_type": "markdown",
   "metadata": {},
   "source": [
    "$\\textbf{Exerciser 7.5 }$\n",
    "\n",
    "In the previous example, in case that the walker starts in location 3, what is the probability of ending back in location 3 at time $n = 2$?"
   ]
  },
  {
   "cell_type": "markdown",
   "metadata": {},
   "source": [
    "We need to find $x_{{\\color{blue}m}{\\color{red}n}}$ with ${\\color{blue}m=3}$ and ${\\color{red}n=2}$. Since the walker begins in location 3, we have\n",
    "\\begin{align*}\n",
    "X_{{\\color{red}0}}=\\begin{bmatrix}x_{{\\color{blue}1}{\\color{red}0}}\n",
    "\\\\x_{{\\color{blue}2}{\\color{red}0}}\n",
    "\\\\x_{{\\color{blue}3}{\\color{red}0}}\\end{bmatrix}\n",
    "=\\left[\\begin{array}{c} 0\\\\ 0\\\\ 1 \\end{array}\\right]\n",
    "\\begin{array}{c} \\leftarrow~\\text{location 1}\\\\ \\leftarrow~\\text{location 2}\\\\ \\leftarrow~\\text{location 3} \\end{array}.\n",
    "\\end{align*}\n",
    "The goal is to calculate $x_{22}$ . To do this we calculate $X_2$ , using $X_{n+1} = AX_n$"
   ]
  },
  {
   "cell_type": "code",
   "execution_count": 47,
   "metadata": {},
   "outputs": [
    {
     "name": "stdout",
     "output_type": "stream",
     "text": [
      "A,X0=\n"
     ]
    },
    {
     "data": {
      "text/latex": [
       "$$\\left ( \\left[\\begin{matrix}0.1 & 0.3 & 0.5\\\\0.1 & 0.3 & 0.2\\\\0.8 & 0.4 & 0.3\\end{matrix}\\right], \\quad \\left[\\begin{matrix}0\\\\0\\\\1\\end{matrix}\\right]\\right )$$"
      ],
      "text/plain": [
       "⎛⎡0.1  0.3  0.5⎤  ⎡0⎤⎞\n",
       "⎜⎢             ⎥  ⎢ ⎥⎟\n",
       "⎜⎢0.1  0.3  0.2⎥, ⎢0⎥⎟\n",
       "⎜⎢             ⎥  ⎢ ⎥⎟\n",
       "⎝⎣0.8  0.4  0.3⎦  ⎣1⎦⎠"
      ]
     },
     "execution_count": 47,
     "metadata": {},
     "output_type": "execute_result"
    }
   ],
   "source": [
    "A=Matrix([[0.100000,0.300000,0.500000],[0.100000,0.300000,0.200000],[0.800000,0.400000,0.300000]])\n",
    "X0=Matrix([[0],[0],[1]])\n",
    "print('A,X0=')\n",
    "A,X0"
   ]
  },
  {
   "cell_type": "code",
   "execution_count": 48,
   "metadata": {},
   "outputs": [
    {
     "name": "stdout",
     "output_type": "stream",
     "text": [
      "X1\n"
     ]
    },
    {
     "data": {
      "text/latex": [
       "$$\\left[\\begin{matrix}0.5\\\\0.2\\\\0.3\\end{matrix}\\right]$$"
      ],
      "text/plain": [
       "⎡0.5⎤\n",
       "⎢   ⎥\n",
       "⎢0.2⎥\n",
       "⎢   ⎥\n",
       "⎣0.3⎦"
      ]
     },
     "execution_count": 48,
     "metadata": {},
     "output_type": "execute_result"
    }
   ],
   "source": [
    "print('X1')\n",
    "A*X0"
   ]
  },
  {
   "cell_type": "code",
   "execution_count": 49,
   "metadata": {
    "scrolled": true
   },
   "outputs": [
    {
     "name": "stdout",
     "output_type": "stream",
     "text": [
      "X2\n"
     ]
    },
    {
     "data": {
      "text/latex": [
       "$$\\left[\\begin{matrix}0.26\\\\0.17\\\\0.57\\end{matrix}\\right]$$"
      ],
      "text/plain": [
       "⎡0.26⎤\n",
       "⎢    ⎥\n",
       "⎢0.17⎥\n",
       "⎢    ⎥\n",
       "⎣0.57⎦"
      ]
     },
     "execution_count": 49,
     "metadata": {},
     "output_type": "execute_result"
    }
   ],
   "source": [
    "print('X2')\n",
    "X2=A**2*X0;X2"
   ]
  },
  {
   "cell_type": "code",
   "execution_count": 50,
   "metadata": {},
   "outputs": [
    {
     "data": {
      "image/png": "[encoded data removed]",
      "text/latex": [
       "$$0.57$$"
      ],
      "text/plain": [
       "0.570000000000000"
      ]
     },
     "execution_count": 50,
     "metadata": {},
     "output_type": "execute_result"
    }
   ],
   "source": [
    "X2[2]"
   ]
  },
  {
   "cell_type": "markdown",
   "metadata": {},
   "source": [
    "$\\textbf{Example 7.28 }$ \n",
    "Consider the migration matrix\n",
    "\\begin{align*}\n",
    "A =\\left[\\begin{array}{ccc} 0.6 & 0 & 0.1\\\\ 0.2 & 0.8 & 0\\\\ 0.2 & 0.2 & 0.9 \\end{array}\\right]\n",
    "\\end{align*}\n",
    "for locations $1$,$2,$ and $3$. Suppose initially there are $100$ residents in location $1$, $200$ in location $2$ and\n",
    "$400$ in location $3$. Find the population in the three locations after a long time."
   ]
  },
  {
   "cell_type": "code",
   "execution_count": 51,
   "metadata": {
    "scrolled": true
   },
   "outputs": [
    {
     "data": {
      "text/latex": [
       "$$\\left ( \\left[\\begin{matrix}0.6 & 0.0 & 0.1\\\\0.2 & 0.8 & 0.0\\\\0.2 & 0.2 & 0.9\\end{matrix}\\right], \\quad \\left[\\begin{matrix}100\\\\200\\\\400\\end{matrix}\\right]\\right )$$"
      ],
      "text/plain": [
       "⎛⎡0.6  0.0  0.1⎤  ⎡100⎤⎞\n",
       "⎜⎢             ⎥  ⎢   ⎥⎟\n",
       "⎜⎢0.2  0.8  0.0⎥, ⎢200⎥⎟\n",
       "⎜⎢             ⎥  ⎢   ⎥⎟\n",
       "⎝⎣0.2  0.2  0.9⎦  ⎣400⎦⎠"
      ]
     },
     "execution_count": 51,
     "metadata": {},
     "output_type": "execute_result"
    }
   ],
   "source": [
    "A=Matrix([[0.600000,0.000000,0.100000],[0.200000,0.800000,0.000000],[0.200000,0.200000,0.900000]])\n",
    "X0=Matrix([[100],[200],[400]])\n",
    "A,X0"
   ]
  },
  {
   "cell_type": "code",
   "execution_count": 52,
   "metadata": {},
   "outputs": [],
   "source": [
    "# M=eye(3)-A\n",
    "# M"
   ]
  },
  {
   "cell_type": "code",
   "execution_count": 53,
   "metadata": {
    "scrolled": true
   },
   "outputs": [],
   "source": [
    "# M = M.col_insert(3, Matrix([[0],[0],[0]]))\n",
    "# M"
   ]
  },
  {
   "cell_type": "code",
   "execution_count": 54,
   "metadata": {
    "scrolled": false
   },
   "outputs": [],
   "source": [
    "# M.rref()"
   ]
  },
  {
   "cell_type": "code",
   "execution_count": 55,
   "metadata": {},
   "outputs": [],
   "source": [
    "N=150\n",
    "Xn=zeros(3,N+1)\n",
    "for n in range(0,N):\n",
    "    Xn[:,n]=A**n*X0"
   ]
  },
  {
   "cell_type": "code",
   "execution_count": 56,
   "metadata": {},
   "outputs": [
    {
     "data": {
      "image/png": "[encoded data removed]",
      "text/plain": [
       "<Figure size 720x720 with 1 Axes>"
      ]
     },
     "metadata": {
      "needs_background": "light"
     },
     "output_type": "display_data"
    }
   ],
   "source": [
    "import matplotlib.pyplot as plt\n",
    "# Figure size is Figure size 800x800 with 1 Axes\n",
    "plt.figure(figsize = (10, 10))\n",
    "plt.scatter(list(range(0, N)),Xn[0,range(0,N)])\n",
    "plt.xlabel('n')\n",
    "plt.ylabel('The number of residents in location one')\n",
    "plt.show()"
   ]
  },
  {
   "cell_type": "code",
   "execution_count": 63,
   "metadata": {},
   "outputs": [
    {
     "data": {
      "image/png": "[encoded data removed]",
      "text/plain": [
       "<Figure size 720x720 with 1 Axes>"
      ]
     },
     "metadata": {
      "needs_background": "light"
     },
     "output_type": "display_data"
    }
   ],
   "source": [
    "import matplotlib.pyplot as plt\n",
    "# Figure size is Figure size 800x800 with 1 Axes\n",
    "plt.figure(figsize = (10, 10))\n",
    "plt.scatter(list(range(0, N)),Xn[1,range(0,N)])\n",
    "plt.xlabel('n')\n",
    "plt.ylabel('The number of residents in location two')\n",
    "plt.show()"
   ]
  },
  {
   "cell_type": "code",
   "execution_count": 58,
   "metadata": {},
   "outputs": [
    {
     "data": {
      "image/png": "[encoded data removed]",
      "text/plain": [
       "<Figure size 720x720 with 1 Axes>"
      ]
     },
     "metadata": {
      "needs_background": "light"
     },
     "output_type": "display_data"
    }
   ],
   "source": [
    "import matplotlib.pyplot as plt\n",
    "# Figure size is Figure size 800x800 with 1 Axes\n",
    "plt.figure(figsize = (10, 10))\n",
    "plt.scatter(list(range(0, N)),Xn[2,range(0,N)])\n",
    "plt.xlabel('n')\n",
    "plt.ylabel('The number of residents in location three')\n",
    "plt.show()"
   ]
  },
  {
   "cell_type": "markdown",
   "metadata": {},
   "source": [
    "To find this steady state vector, we have,\n",
    "\\begin{align*}\n",
    "X_s = AX_s \\Rightarrow (I-A)X_s=0 \\quad \\Rightarrow  \\quad\n",
    "\\left(\\begin{bmatrix}1 & 0 & 0\\\\ 0 & 1 & 0\\\\ 0 & 0 & 1\\end{bmatrix}\n",
    "-\n",
    "\\begin{bmatrix}0.6 & 0 & 0.1\\\\0.2 & 0.8 & 0\\\\0.2 & 0.2 & 0.9\\end{bmatrix}\\right)X_s=\n",
    "\\begin{bmatrix}0\\\\0\\\\0\\end{bmatrix},\n",
    "\\quad \\Rightarrow  \\quad \n",
    "\\left[\\begin{array}{rrr} 0.4 & 0 & -0.1\\\\ -0.2 & 0.2 & 0\\\\ -0.2 & -0.2 & 0.1 \\end{array}\\right]X_s=\n",
    "\\begin{bmatrix}0\\\\0\\\\0\\end{bmatrix}.\n",
    "\\end{align*}\n",
    "The augmented form of this linear system:\n",
    "$$\\left[\\begin{array}{rrr|c} 0.4 & 0 & -0.1 & 0\\\\ -0.2 & 0.2 & 0 & 0\\\\ -0.2 & -0.2 & 0.1 & 0 \\end{array}\\right],$$\n",
    "and in RREF\n",
    "$$\\left[\\begin{array}{ccc|c} {1.0} & 0 & -0.25 & 0\\\\ 0 & {1.0} & -0.25 & 0\\\\ 0 & 0 & 0 & 0 \\end{array}\\right].$$\n",
    "Therefore, general solution\n",
    "\\begin{align*}\n",
    "X_s= t\\begin{bmatrix}0.25 \\\\ 0.25 \\\\ 1\\end{bmatrix}.\n",
    "\\end{align*}\n",
    "The initial vector $X_0$ is given by $\\begin{bmatrix}100 \\\\ 200 \\\\ 400\\end{bmatrix}.$\n",
    "\n",
    "We know from ***theorem 7.12*** that $X_s$ has positive entries which have the same sum as the entries of $X_0$. Therefore,\n",
    "\\begin{align*}\n",
    "\\text{Sum of entries of }X_s&=\\text{Sum of entries of }X_0\\\\\n",
    "0.25t+0.25t+ t&=100+200+400\n",
    "\\end{align*}\n",
    "Solving for $t$, we get $t=\\dfrac{1400}{3}$. Therefore the population in the long run is given by\n",
    "$$\\frac{1400}{3}\\begin{bmatrix}0.25 \\\\ 0.25 \\\\ 1\\end{bmatrix}=\n",
    "\\begin{bmatrix}\\frac{350}{3}\\\\ \\frac{350}{3}\\\\ \\frac{1400}{3}\\end{bmatrix}.$$\n",
    "Since we are speaking about populations, we would need to round these numbers to provide a logical answer. The steady state vector $X_s$ is given by\n",
    "$$X_s= \\begin{bmatrix}117\\\\ 117\\\\ 467\\end{bmatrix}.$$"
   ]
  },
  {
   "cell_type": "markdown",
   "metadata": {},
   "source": [
    "**Example 7.30** A man eats one of three soups—beef, chicken, and vegetable—each day. He never eats the same soup two days in a row. If he eats beef soup on a certain day, he is equally likely to eat each of the others the next day; if he does not eat beef soup, he is twice as likely to eat it the next day as the alternative.\n",
    "\n",
    "* (a)\n",
    "If he has beef soup one day, what is the probability that he has it again two days later?\n",
    "* (b)\n",
    "What are the long-run probabilities that he eats each of the three soups?"
   ]
  },
  {
   "cell_type": "markdown",
   "metadata": {},
   "source": [
    "The states here are $B$, $C$, and $V$, the three soups. The transition matrix $A$ is given in the table. (Recall that, for each state, the corresponding column lists the probabilities for the next state.)\n",
    "<table style=\"border-collapse:collapse;border-spacing:0\" class=\"tg\"><tr><th style=\"font-family:Arial, sans-serif;font-size:14px;font-weight:normal;padding:10px 5px;border-style:solid;border-width:1px;overflow:hidden;word-break:normal;border-color:inherit;text-align:left\"></th><th style=\"font-family:Arial, sans-serif;font-size:14px;font-weight:normal;padding:10px 5px;border-style:solid;border-width:1px;overflow:hidden;word-break:normal;border-color:inherit;text-align:left\">B</th><th style=\"font-family:Arial, sans-serif;font-size:14px;font-weight:normal;padding:10px 5px;border-style:solid;border-width:1px;overflow:hidden;word-break:normal;border-color:inherit;text-align:left\">C</th><th style=\"font-family:Arial, sans-serif;font-size:14px;font-weight:normal;padding:10px 5px;border-style:solid;border-width:1px;overflow:hidden;word-break:normal;border-color:inherit;text-align:left\">V</th></tr><tr><td style=\"font-family:Arial, sans-serif;font-size:14px;padding:10px 5px;border-style:solid;border-width:1px;overflow:hidden;word-break:normal;border-color:inherit;text-align:left;vertical-align:top\">B</td><td style=\"font-family:Arial, sans-serif;font-size:14px;padding:10px 5px;border-style:solid;border-width:1px;overflow:hidden;word-break:normal;border-color:inherit;text-align:center;vertical-align:top\">0</td><td style=\"font-family:Arial, sans-serif;font-size:14px;padding:10px 5px;border-style:solid;border-width:1px;overflow:hidden;word-break:normal;border-color:inherit;text-align:center;vertical-align:top\">2/3</td><td style=\"font-family:Arial, sans-serif;font-size:14px;padding:10px 5px;border-style:solid;border-width:1px;overflow:hidden;word-break:normal;border-color:inherit;text-align:center;vertical-align:top\">2/3</td></tr><tr><td style=\"font-family:Arial, sans-serif;font-size:14px;padding:10px 5px;border-style:solid;border-width:1px;overflow:hidden;word-break:normal;border-color:inherit;text-align:left;vertical-align:top\">C</td><td style=\"font-family:Arial, sans-serif;font-size:14px;padding:10px 5px;border-style:solid;border-width:1px;overflow:hidden;word-break:normal;border-color:inherit;text-align:center;vertical-align:top\">1/2</td><td style=\"font-family:Arial, sans-serif;font-size:14px;padding:10px 5px;border-style:solid;border-width:1px;overflow:hidden;word-break:normal;border-color:inherit;text-align:center;vertical-align:top\">0</td><td style=\"font-family:Arial, sans-serif;font-size:14px;padding:10px 5px;border-style:solid;border-width:1px;overflow:hidden;word-break:normal;border-color:inherit;text-align:center;vertical-align:top\">1/3</td></tr><tr><td style=\"font-family:Arial, sans-serif;font-size:14px;padding:10px 5px;border-style:solid;border-width:1px;overflow:hidden;word-break:normal;border-color:inherit;text-align:left;vertical-align:top\">V</td><td style=\"font-family:Arial, sans-serif;font-size:14px;padding:10px 5px;border-style:solid;border-width:1px;overflow:hidden;word-break:normal;border-color:inherit;text-align:center;vertical-align:top\">1/2</td><td style=\"font-family:Arial, sans-serif;font-size:14px;padding:10px 5px;border-style:solid;border-width:1px;overflow:hidden;word-break:normal;border-color:inherit;text-align:center;vertical-align:top\">1/3</td><td style=\"font-family:Arial, sans-serif;font-size:14px;padding:10px 5px;border-style:solid;border-width:1px;overflow:hidden;word-break:normal;border-color:inherit;text-align:center;vertical-align:top\">0</td></tr></table>\n",
    "If he has beef soup initially, then the initial state vector is\n",
    "\\begin{align*}\n",
    "X_0 =\n",
    "\\left[\\begin{array}{l}\n",
    "1 \\\\ 0 \\\\ 0\n",
    "\\end{array}\\right]\n",
    "\\begin{array}{c}B \\\\ C \\\\ V \\end{array}\n",
    "\\end{align*}\n",
    "Then two days later the state vector is $X_2$ . If $A$ is the transition matrix, then\n",
    "\\begin{align*}\n",
    "X_1=AX_0=\n",
    "\\left[\\begin{array}{ccc} 0 & \\frac{2}{3} & \\frac{2}{3}\\\\ \\frac{1}{2} & 0 & \\frac{1}{3}\\\\ \\frac{1}{2} & \\frac{1}{3} & 0 \\end{array}\\right]\n",
    "\\left[\\begin{array}{c} 1\\\\ 0\\\\ 0 \\end{array}\\right]=\\left[\\begin{array}{c} 0\\\\ \\frac{1}{2}\\\\ \\frac{1}{2} \\end{array}\\right],\\\\\n",
    "X_2=AX_1=AAX_0=A^2X_0=\n",
    "\\left[\\begin{array}{ccc} 0 & \\frac{2}{3} & \\frac{2}{3}\\\\ \\frac{1}{2} & 0 & \\frac{1}{3}\\\\ \\frac{1}{2} & \\frac{1}{3} & 0 \\end{array}\\right]\n",
    "\\left[\\begin{array}{c} 0\\\\ \\frac{1}{2}\\\\ \\frac{1}{2} \\end{array}\\right]=\\left[\\begin{array}{c} \\frac{2}{3}\\\\ \\frac{1}{6}\\\\ \\frac{1}{6} \\end{array}\\right]\n",
    "\\begin{array}{c}B \\\\ C \\\\ V \\end{array}\n",
    "\\end{align*}\n",
    "so he eats beef soup two days later with probability $\\dfrac{2}{3}$.\n",
    "\n",
    "Moreover, this also shows that he eats chicken and vegetable soup each with probability $\\dfrac{1}{6}$.\n",
    "\n",
    "To find the long-run probabilities, we must find the steady-state vector $X_s$.\n",
    "\n",
    "\\begin{align*}\n",
    "X_s = AX_s \\Rightarrow (I-A)X_s=0 \\quad \\Rightarrow  \\quad &\n",
    "\\left(\\begin{bmatrix}1 & 0 & 0\\\\ 0 & 1 & 0\\\\ 0 & 0 & 1\\end{bmatrix}\n",
    "-\n",
    "\\left[\\begin{array}{ccc} 0 & \\frac{2}{3} & \\frac{2}{3}\\\\ \\frac{1}{2} & 0 & \\frac{1}{3}\\\\ \\frac{1}{2} & \\frac{1}{3} & 0 \\end{array}\\right]\n",
    "\\right)X_s=\n",
    "\\begin{bmatrix}0\\\\0\\\\0\\end{bmatrix},\n",
    "\\\\\n",
    "\\quad \\Rightarrow  \\quad &\n",
    "\\left[\\begin{array}{ccc|c} 1 & -\\frac{2}{3} & -\\frac{2}{3} & 0\\\\ -\\frac{1}{2} & 1 & -\\frac{1}{3} & 0\\\\ -\\frac{1}{2} & -\\frac{1}{3} & 1 & 0 \\end{array}\\right]X_s=\n",
    "\\begin{bmatrix}0\\\\0\\\\0\\end{bmatrix}.\n",
    "\\end{align*}\n",
    "\n",
    "The general solution:\n",
    "\\begin{align*}\n",
    "X_s=t\\left[\\begin{array}{c} \\frac{4}{3}\\\\ 1\\\\ 1 \\end{array}\\right].\n",
    "\\end{align*}\n",
    "We know from ***theorem 7.12*** that $X_s$ has positive entries which have the same sum as the entries of $X_0$. Therefore,\n",
    "\\begin{align*}\n",
    "\\frac{4\\,t}{3}+ t+ t=1+0+0. \\quad \\Rightarrow \\quad \\frac{10\\,t}{3}=1 \\quad \\Rightarrow \\quad t=\\frac{3}{10}=0.3\n",
    "\\end{align*}\n",
    "Therefore, the steady state vector $X_s$ is given by\n",
    "\\begin{align*}\n",
    "X_s= (0.3)\\left[\\begin{array}{c} \\frac{4}{3}\\\\ 1\\\\ 1 \\end{array}\\right]=\n",
    "\\left[\\begin{array}{c} 0.4\\\\ 0.3\\\\ 0.3 \\end{array}\\right]\n",
    "\\begin{array}{c} B \\\\ C \\\\ V \\end{array}.\n",
    "\\end{align*}\n",
    "Hence, in the long run, he eats beef soup 40\\% of the time and eats chicken soup and vegetable soup each 30\\% of the time."
   ]
  },
  {
   "cell_type": "code",
   "execution_count": 97,
   "metadata": {},
   "outputs": [
    {
     "name": "stdout",
     "output_type": "stream",
     "text": [
      "A=\n"
     ]
    },
    {
     "data": {
      "text/latex": [
       "$$\\left[\\begin{matrix}0 & 0.666667 & 0.666667\\\\0.5 & 0 & 0.333333\\\\0.5 & 0.333333 & 0\\end{matrix}\\right]$$"
      ],
      "text/plain": [
       "⎡ 0   0.666667  0.666667⎤\n",
       "⎢                       ⎥\n",
       "⎢0.5     0      0.333333⎥\n",
       "⎢                       ⎥\n",
       "⎣0.5  0.333333     0    ⎦"
      ]
     },
     "execution_count": 97,
     "metadata": {},
     "output_type": "execute_result"
    }
   ],
   "source": [
    "A=Matrix([[0,0.666667,0.666667],[0.500000,0,0.333333],[0.500000,0.333333,0]])\n",
    "print('A='),\n",
    "A"
   ]
  },
  {
   "cell_type": "code",
   "execution_count": 98,
   "metadata": {
    "scrolled": true
   },
   "outputs": [
    {
     "data": {
      "text/latex": [
       "$$\\left[\\begin{matrix}1\\\\0\\\\0\\end{matrix}\\right]$$"
      ],
      "text/plain": [
       "⎡1⎤\n",
       "⎢ ⎥\n",
       "⎢0⎥\n",
       "⎢ ⎥\n",
       "⎣0⎦"
      ]
     },
     "execution_count": 98,
     "metadata": {},
     "output_type": "execute_result"
    }
   ],
   "source": [
    "X0=Matrix([[1],[0],[0]])\n",
    "X0"
   ]
  },
  {
   "cell_type": "markdown",
   "metadata": {},
   "source": [
    "We have\n",
    "$$\n",
    "X_{n+1} = PX_n,\\quad n=1,2,3,\\ldots.\n",
    "$$\n",
    "\n",
    "We can now successively compute $X_1$, $X_2$, $\\ldots$"
   ]
  },
  {
   "cell_type": "code",
   "execution_count": 99,
   "metadata": {},
   "outputs": [
    {
     "name": "stdout",
     "output_type": "stream",
     "text": [
      "X1\n"
     ]
    },
    {
     "data": {
      "text/latex": [
       "$$\\left[\\begin{matrix}0\\\\0.5\\\\0.5\\end{matrix}\\right]$$"
      ],
      "text/plain": [
       "⎡ 0 ⎤\n",
       "⎢   ⎥\n",
       "⎢0.5⎥\n",
       "⎢   ⎥\n",
       "⎣0.5⎦"
      ]
     },
     "execution_count": 99,
     "metadata": {},
     "output_type": "execute_result"
    }
   ],
   "source": [
    "print('X%s' % 1)\n",
    "A*X0"
   ]
  },
  {
   "cell_type": "code",
   "execution_count": 100,
   "metadata": {
    "scrolled": true
   },
   "outputs": [
    {
     "name": "stdout",
     "output_type": "stream",
     "text": [
      "X2\n"
     ]
    },
    {
     "data": {
      "text/latex": [
       "$$\\left[\\begin{matrix}0.666667\\\\0.1666665\\\\0.1666665\\end{matrix}\\right]$$"
      ],
      "text/plain": [
       "⎡0.666667 ⎤\n",
       "⎢         ⎥\n",
       "⎢0.1666665⎥\n",
       "⎢         ⎥\n",
       "⎣0.1666665⎦"
      ]
     },
     "execution_count": 100,
     "metadata": {},
     "output_type": "execute_result"
    }
   ],
   "source": [
    "print('X%s' % 2)\n",
    "A**2*X0"
   ]
  },
  {
   "cell_type": "code",
   "execution_count": 101,
   "metadata": {},
   "outputs": [],
   "source": [
    "N=150\n",
    "Xn=zeros(3,N+1)\n",
    "for n in range(0,N):\n",
    "    Xn[:,n]=A**n*X0"
   ]
  },
  {
   "cell_type": "code",
   "execution_count": 102,
   "metadata": {},
   "outputs": [
    {
     "data": {
      "image/png": "[encoded data removed]",
      "text/plain": [
       "<Figure size 720x720 with 1 Axes>"
      ]
     },
     "metadata": {
      "needs_background": "light"
     },
     "output_type": "display_data"
    }
   ],
   "source": [
    "import matplotlib.pyplot as plt\n",
    "# Figure size is Figure size 800x800 with 1 Axes\n",
    "plt.figure(figsize = (10, 10))\n",
    "plt.scatter(list(range(0, N)),Xn[0,range(0,N)])\n",
    "plt.xlabel('n')\n",
    "plt.ylabel('Probability of eating beef soup')\n",
    "plt.show()"
   ]
  },
  {
   "cell_type": "code",
   "execution_count": 103,
   "metadata": {},
   "outputs": [
    {
     "data": {
      "image/png": "[encoded data removed]",
      "text/plain": [
       "<Figure size 720x720 with 1 Axes>"
      ]
     },
     "metadata": {
      "needs_background": "light"
     },
     "output_type": "display_data"
    }
   ],
   "source": [
    "import matplotlib.pyplot as plt\n",
    "# Figure size is Figure size 800x800 with 1 Axes\n",
    "plt.figure(figsize = (10, 10))\n",
    "plt.scatter(list(range(0, N)),Xn[1,range(0,N)])\n",
    "plt.xlabel('n')\n",
    "plt.ylabel('Probability of eating chicken soup')\n",
    "plt.show()"
   ]
  },
  {
   "cell_type": "code",
   "execution_count": 104,
   "metadata": {},
   "outputs": [
    {
     "data": {
      "image/png": "[encoded data removed]",
      "text/plain": [
       "<Figure size 720x720 with 1 Axes>"
      ]
     },
     "metadata": {
      "needs_background": "light"
     },
     "output_type": "display_data"
    }
   ],
   "source": [
    "import matplotlib.pyplot as plt\n",
    "# Figure size is Figure size 800x800 with 1 Axes\n",
    "plt.figure(figsize = (10, 10))\n",
    "plt.scatter(list(range(0, N)),Xn[2,range(0,N)])\n",
    "plt.xlabel('n')\n",
    "plt.ylabel('Probability of eating vegetable soup')\n",
    "plt.show()"
   ]
  }
 ],
 "metadata": {
  "kernelspec": {
   "display_name": "Python 3",
   "language": "python",
   "name": "python3"
  },
  "language_info": {
   "codemirror_mode": {
    "name": "ipython",
    "version": 3
   },
   "file_extension": ".py",
   "mimetype": "text/x-python",
   "name": "python",
   "nbconvert_exporter": "python",
   "pygments_lexer": "ipython3",
   "version": "3.7.1"
  }
 },
 "nbformat": 4,
 "nbformat_minor": 2
}
