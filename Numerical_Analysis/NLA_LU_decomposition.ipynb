{
 "cells": [
  {
   "cell_type": "code",
   "execution_count": 1,
   "metadata": {},
   "outputs": [],
   "source": [
    "import numpy as np\n",
    "import pandas as pd\n",
    "import scipy.sparse as sps\n",
    "import scipy.linalg as linalg\n",
    "\n",
    "# Visualisation libraries\n",
    "\n",
    "## Text\n",
    "from IPython.display import display, Markdown, Latex\n",
    "\n",
    "\n",
    "## matplotlib\n",
    "import matplotlib.pyplot as plt\n",
    "from matplotlib.patches import Ellipse, Polygon\n",
    "from matplotlib.font_manager import FontProperties\n",
    "\n",
    "# plt setting\n",
    "plt.style.use('seaborn-whitegrid')\n",
    "plt.rcParams['axes.labelsize'] = 14\n",
    "plt.rcParams['xtick.labelsize'] = 12\n",
    "plt.rcParams['ytick.labelsize'] = 12\n",
    "plt.rcParams['text.color'] = 'k'\n",
    "%matplotlib inline\n",
    "\n",
    "import warnings\n",
    "warnings.filterwarnings(\"ignore\")"
   ]
  },
  {
   "cell_type": "markdown",
   "metadata": {},
   "source": [
    "<div class=\"alert alert-block alert-info\">\n",
    "<font size=\"+3\"><b>\n",
    "Numerical Linear Algebra\n",
    "</b></font>\n",
    "</div>\n",
    "\n",
    "\n",
    "# LU decomposition\n",
    "\n",
    "The $LU$ decomposition is an improvement on the Gaussian elimination technique which decomposes a matrix into a lower triangular matrix $L$ and an upper triangular matrix $U$. One of the main applications of this decomposition is solving linear systems. Thus, solving the linear system $Ax = b$ where $A$ is a $n\\times n$ matrix and $x$ and $b$ are vectors of length $n$ can be as expressed as follows.\n",
    "\n",
    "$$Ax=(LU)x=L(Ux)=b,$$ \t\n",
    "This is equivalent to\n",
    "\\begin{align}\n",
    "\\begin{cases}\n",
    "Ly = b,\\\\\n",
    "Ux = y.\n",
    "\\end{cases}\n",
    "\\end{align}\n",
    "Solving the last two linear systems are equivalent to the forward\n",
    "elimination and back substitution, respectively."
   ]
  },
  {
   "cell_type": "markdown",
   "metadata": {},
   "source": [
    "Let $A$ be a square matrix. Then, $A$ can be decomposed into $L$ and $U$ as follows,\n",
    "\n",
    "\n",
    "\\begin{align}\n",
    "\\begin{bmatrix}a_{11} & a_{12} & \\dots & a_{1n} \\\\ a_{21} & a_{22} & \\dots & a_{2n} \\\\\n",
    "\\vdots & \\vdots &   & \\vdots \\\\ a_{n1} & a_{n2} & \\dots & a_{nn} \\end{bmatrix}=\n",
    "\\begin{bmatrix}1 & 0 & \\dots & 0 \\\\ l_{21} & 1 & \\dots & 0 \\\\\n",
    "\\vdots & \\vdots &   & \\vdots \\\\ l_{n1} & l_{n2} & \\dots & 1 \\end{bmatrix}\n",
    "\\begin{bmatrix}u_{11} & u_{12} & \\dots & u_{1n} \\\\ 0 & u_{22} & \\dots & u_{2n} \\\\\n",
    "\\vdots & \\vdots &   & \\vdots \\\\ 0 & 0 & \\dots & u_{nn} \\end{bmatrix}.\n",
    "\\end{align}\n",
    "\n",
    "Solving this system, $u_{ij}$ and $l_{ij}$ can be identified as follows\n",
    "\\begin{align}\n",
    "u_{ij} &= a_{ij} - \\sum_{k=1}^{i-1} u_{kj}l_{ik},\\\\\n",
    "l_{ij} &=  \\frac{1}{u_{jj}} \\left(a_{ij} - \\sum_{k=1}^{j-1} u_{kj}l_{ik} \\right).\n",
    "\\end{align}\n",
    "\n",
    "See [1] for the full derivation of this algorithm. Furthermore, we can prepare a Python code using the above algorithm."
   ]
  },
  {
   "cell_type": "code",
   "execution_count": 2,
   "metadata": {},
   "outputs": [],
   "source": [
    "def myLU(A):\n",
    "    '''\n",
    "    Assuming that no row interchanges is needed, this function\n",
    "    computes a unit lower triangular matrix L, and an upper\n",
    "    triangular matrix U such that LU = A\n",
    "    '''\n",
    "    n = A.shape[1]\n",
    "    # Consider U as a copy matrix A\n",
    "    U = A.copy().astype(float)\n",
    "    # loop through the columns of U from 1st to the one before last\n",
    "    for j in range(0, n-1):\n",
    "        # define the multipliers for Gauss elimination and store them\n",
    "        # in the lower part of the j-th column of L\n",
    "        U[j+1:n,j] = U[j+1:n,j]/U[j,j];\n",
    "        # perform the j-th step of Gauss elimination one row at a time\n",
    "        for i in range(j+1, n):\n",
    "            # [i-th row of U] - [(i,j)-multiplier]*[j-th row of U]\n",
    "            U[i,j+1:n] = U[i,j+1:n]-U[i,j]*U[j,j+1:n]\n",
    "    # separate L from U and zeros the entries of U below the diagonal\n",
    "    L = np.tril(U,-1)+ np.eye(n, dtype=float)\n",
    "    U = np.triu(U)\n",
    "    return L, U"
   ]
  },
  {
   "cell_type": "markdown",
   "metadata": {},
   "source": [
    "<font color='Blue'><b>Example</b></font>: Apply $LU$ decomposition on the following matrix.\n",
    "$$A = \\left[\\begin{array}{cccc} 7 & 3 & -1 & 2\\\\ 3 & 8 & 1 & -4\\\\ -1 & 1 & 4 & -1\\\\ 2 & -4 & -1 & 6 \\end{array}\\right]$$"
   ]
  },
  {
   "cell_type": "markdown",
   "metadata": {},
   "source": [
    "We have,"
   ]
  },
  {
   "cell_type": "code",
   "execution_count": 3,
   "metadata": {},
   "outputs": [
    {
     "data": {
      "text/latex": [
       "$A$ ="
      ],
      "text/plain": [
       "<IPython.core.display.Latex object>"
      ]
     },
     "metadata": {},
     "output_type": "display_data"
    },
    {
     "data": {
      "text/plain": [
       "array([[ 7,  3, -1,  2],\n",
       "       [ 3,  8,  1, -4],\n",
       "       [-1,  1,  4, -1],\n",
       "       [ 2, -4, -1,  6]])"
      ]
     },
     "metadata": {},
     "output_type": "display_data"
    },
    {
     "data": {
      "text/latex": [
       "$L$ ="
      ],
      "text/plain": [
       "<IPython.core.display.Latex object>"
      ]
     },
     "metadata": {},
     "output_type": "display_data"
    },
    {
     "data": {
      "text/plain": [
       "array([[ 1.        ,  0.        ,  0.        ,  0.        ],\n",
       "       [ 0.42857143,  1.        ,  0.        ,  0.        ],\n",
       "       [-0.14285714,  0.21276596,  1.        ,  0.        ],\n",
       "       [ 0.28571429, -0.72340426,  0.08982036,  1.        ]])"
      ]
     },
     "metadata": {},
     "output_type": "display_data"
    },
    {
     "data": {
      "text/latex": [
       "$U$ ="
      ],
      "text/plain": [
       "<IPython.core.display.Latex object>"
      ]
     },
     "metadata": {},
     "output_type": "display_data"
    },
    {
     "data": {
      "text/plain": [
       "array([[ 7.        ,  3.        , -1.        ,  2.        ],\n",
       "       [ 0.        ,  6.71428571,  1.42857143, -4.85714286],\n",
       "       [ 0.        ,  0.        ,  3.55319149,  0.31914894],\n",
       "       [ 0.        ,  0.        ,  0.        ,  1.88622754]])"
      ]
     },
     "metadata": {},
     "output_type": "display_data"
    },
    {
     "data": {
      "image/png": "[encoded data removed]",
      "text/plain": [
       "<Figure size 936x288 with 3 Axes>"
      ]
     },
     "metadata": {
      "needs_background": "light"
     },
     "output_type": "display_data"
    }
   ],
   "source": [
    "A = np.array([ [7, 3, -1, 2], [3, 8, 1, -4], [-1, 1, 4, -1], [2, -4, -1, 6] ])\n",
    "L, U = myLU(A)\n",
    "display(Latex(r'$A$ ='))\n",
    "display(A)\n",
    "display(Latex(r'$L$ ='))\n",
    "display(L)\n",
    "display(Latex(r'$U$ ='))\n",
    "display(U)\n",
    "\n",
    "fig, ax = plt.subplots(nrows=1, ncols=3, figsize=(13, 4))\n",
    "ax = ax.ravel()\n",
    "font = FontProperties()\n",
    "font.set_weight('bold')\n",
    "_ = ax[0].spy(sps.csr_matrix(A), aspect='equal', markersize= 20, color = 'Teal', markeredgecolor = 'Black',\n",
    "              markeredgewidth = 2)\n",
    "_ = ax[0].set_title('A', fontproperties=font, fontsize = 18)\n",
    "_ = ax[1].spy(sps.csr_matrix(L), aspect='equal', markersize= 20, color = 'OrangeRed', markeredgecolor = 'Black',\n",
    "              marker ='D', markeredgewidth = 2)\n",
    "_ = ax[1].set_title('L', fontproperties=font, fontsize = 18)\n",
    "_ = ax[2].spy(sps.csr_matrix(U), aspect='equal', markersize= 20, color = 'LightGreen', markeredgecolor = 'Black',\n",
    "              marker ='X', markeredgewidth = 2)\n",
    "_ = ax[2].set_title('U', fontproperties=font, fontsize = 18)"
   ]
  },
  {
   "cell_type": "markdown",
   "metadata": {},
   "source": [
    "Note that we could get a similar results using Scipy LU function, [```scipy.linalg.lu```](https://docs.scipy.org/doc/scipy/reference/generated/scipy.linalg.lu.html)."
   ]
  },
  {
   "cell_type": "code",
   "execution_count": 4,
   "metadata": {},
   "outputs": [
    {
     "data": {
      "text/latex": [
       "$L$ ="
      ],
      "text/plain": [
       "<IPython.core.display.Latex object>"
      ]
     },
     "metadata": {},
     "output_type": "display_data"
    },
    {
     "name": "stdout",
     "output_type": "stream",
     "text": [
      "[[ 1.          0.          0.          0.        ]\n",
      " [ 0.42857143  1.          0.          0.        ]\n",
      " [-0.14285714  0.21276596  1.          0.        ]\n",
      " [ 0.28571429 -0.72340426  0.08982036  1.        ]]\n"
     ]
    },
    {
     "data": {
      "text/latex": [
       "$U$ ="
      ],
      "text/plain": [
       "<IPython.core.display.Latex object>"
      ]
     },
     "metadata": {},
     "output_type": "display_data"
    },
    {
     "name": "stdout",
     "output_type": "stream",
     "text": [
      "[[ 7.          3.         -1.          2.        ]\n",
      " [ 0.          6.71428571  1.42857143 -4.85714286]\n",
      " [ 0.          0.          3.55319149  0.31914894]\n",
      " [ 0.          0.          0.          1.88622754]]\n"
     ]
    }
   ],
   "source": [
    "P, L, U = linalg.lu(A)\n",
    "display(Latex(r'$L$ ='))\n",
    "print(L)\n",
    "display(Latex(r'$U$ ='))\n",
    "print(U)"
   ]
  },
  {
   "cell_type": "markdown",
   "metadata": {},
   "source": [
    "Note that in the above algorithm $P$ is a permutation matrix that can perform a **partial** and **full pivoting**."
   ]
  },
  {
   "cell_type": "markdown",
   "metadata": {},
   "source": [
    "## Solving Linear systems using LU decomposition\n",
    "\n",
    "We can solve the linear system $Ax=b$ for $x$ using $LU$ decomposition. To demonstrate this, we use the following example,\n",
    "\n",
    "Let\n",
    "$$A=\\left[\\begin{array}{cccc} 2 & 1 & 1 & 0\\\\ 1 & -2 & 0 & 1\\\\ 0 & 1 & 3 & 0\\\\ -1 & 0 & 0 & 4 \\end{array}\\right]\n",
    "\\quad \\text{and}\\quad\n",
    "b=\\left[\\begin{array}{c} 7\\\\ 1\\\\ 11\\\\ 15 \\end{array}\\right].$$\n",
    "Then, this linear system can be also expressed as\n",
    "$$Ax=(LU)x=L(Ux)=b,$$ \t\n",
    "we have,"
   ]
  },
  {
   "cell_type": "code",
   "execution_count": 5,
   "metadata": {},
   "outputs": [
    {
     "data": {
      "text/latex": [
       "$L$ ="
      ],
      "text/plain": [
       "<IPython.core.display.Latex object>"
      ]
     },
     "metadata": {},
     "output_type": "display_data"
    },
    {
     "name": "stdout",
     "output_type": "stream",
     "text": [
      "[[ 1.          0.          0.          0.        ]\n",
      " [ 0.5         1.          0.          0.        ]\n",
      " [ 0.         -0.4         1.          0.        ]\n",
      " [-0.5        -0.2         0.14285714  1.        ]]\n"
     ]
    },
    {
     "data": {
      "text/latex": [
       "$U$ ="
      ],
      "text/plain": [
       "<IPython.core.display.Latex object>"
      ]
     },
     "metadata": {},
     "output_type": "display_data"
    },
    {
     "name": "stdout",
     "output_type": "stream",
     "text": [
      "[[ 2.          1.          1.          0.        ]\n",
      " [ 0.         -2.5        -0.5         1.        ]\n",
      " [ 0.          0.          2.8         0.4       ]\n",
      " [ 0.          0.          0.          4.14285714]]\n"
     ]
    }
   ],
   "source": [
    "A = np.array([[2,1,1,0],[1,-2,0,1],[0,1,3,0],[-1,0,0,4]])\n",
    "b = np.array([[7],[1],[11],[15]])\n",
    "P, L, U = linalg.lu(A)\n",
    "display(Latex(r'$L$ ='))\n",
    "print(L)\n",
    "display(Latex(r'$U$ ='))\n",
    "print(U)"
   ]
  },
  {
   "cell_type": "markdown",
   "metadata": {},
   "source": [
    "Now we can solve the following linear systems instead\n",
    "$$\\begin{cases}\n",
    "Ly=b,\\\\\n",
    "Ux=y.\n",
    "\\end{cases}$$"
   ]
  },
  {
   "cell_type": "code",
   "execution_count": 6,
   "metadata": {},
   "outputs": [
    {
     "data": {
      "text/latex": [
       "$y$ ="
      ],
      "text/plain": [
       "<IPython.core.display.Latex object>"
      ]
     },
     "metadata": {},
     "output_type": "display_data"
    },
    {
     "name": "stdout",
     "output_type": "stream",
     "text": [
      "[[ 7.        ]\n",
      " [-2.5       ]\n",
      " [10.        ]\n",
      " [16.57142857]]\n"
     ]
    }
   ],
   "source": [
    "# solving Ly=b for y\n",
    "y = linalg.solve(L, b)\n",
    "display(Latex(r'$y$ ='))\n",
    "print(y)"
   ]
  },
  {
   "cell_type": "code",
   "execution_count": 7,
   "metadata": {},
   "outputs": [
    {
     "data": {
      "text/latex": [
       "$x$ ="
      ],
      "text/plain": [
       "<IPython.core.display.Latex object>"
      ]
     },
     "metadata": {},
     "output_type": "display_data"
    },
    {
     "name": "stdout",
     "output_type": "stream",
     "text": [
      "[[1.]\n",
      " [2.]\n",
      " [3.]\n",
      " [4.]]\n"
     ]
    }
   ],
   "source": [
    "# solving Ux=y for x\n",
    "x = linalg.solve(U, y)\n",
    "display(Latex(r'$x$ ='))\n",
    "print(x)"
   ]
  },
  {
   "cell_type": "markdown",
   "metadata": {},
   "source": [
    "Let's now solve the linear system directly and compare the results."
   ]
  },
  {
   "cell_type": "code",
   "execution_count": 8,
   "metadata": {},
   "outputs": [
    {
     "data": {
      "text/latex": [
       "$x$ ="
      ],
      "text/plain": [
       "<IPython.core.display.Latex object>"
      ]
     },
     "metadata": {},
     "output_type": "display_data"
    },
    {
     "name": "stdout",
     "output_type": "stream",
     "text": [
      "[[1.]\n",
      " [2.]\n",
      " [3.]\n",
      " [4.]]\n"
     ]
    }
   ],
   "source": [
    "x1 = linalg.solve(A, b)\n",
    "display(Latex(r'$x$ ='))\n",
    "print(x1)"
   ]
  },
  {
   "cell_type": "markdown",
   "metadata": {},
   "source": [
    "***\n",
    "# References\n",
    "1. Allaire, Grégoire, et al. Numerical linear algebra. Vol. 55. New York: Springer, 2008.\n",
    "1. Burden, Richard L., and J. Douglas Faires. \"Numerical analysis 8th ed.\" Thomson Brooks/Cole (2005).\n",
    "1. Atkinson, Kendall E. An introduction to numerical analysis. John wiley & sons, 2008.\n",
    "1. Khoury, Richard, and Douglas Wilhelm Harder. Numerical methods and modelling for engineering. Springer, 2016.\n",
    "***"
   ]
  }
 ],
 "metadata": {
  "kernelspec": {
   "display_name": "Python 3",
   "language": "python",
   "name": "python3"
  },
  "language_info": {
   "codemirror_mode": {
    "name": "ipython",
    "version": 3
   },
   "file_extension": ".py",
   "mimetype": "text/x-python",
   "name": "python",
   "nbconvert_exporter": "python",
   "pygments_lexer": "ipython3",
   "version": "3.8.5"
  }
 },
 "nbformat": 4,
 "nbformat_minor": 2
}
