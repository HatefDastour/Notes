{
 "cells": [
  {
   "cell_type": "code",
   "execution_count": 1,
   "metadata": {
    "_cell_guid": "b1076dfc-b9ad-4769-8c92-a6c4dae69d19",
    "_uuid": "8f2839f25d086af736a60e9eeb907d3b93b6e0e5"
   },
   "outputs": [],
   "source": [
    "import numpy as np\n",
    "import pandas as pd\n",
    "\n",
    "# Pytorch\n",
    "import torch\n",
    "from torch.autograd import Variable\n",
    "import torch.nn as nn \n",
    "import torchvision.transforms as transforms\n",
    "\n",
    "# Plots\n",
    "\n",
    "# Visualisation libraries\n",
    "## Text\n",
    "from colorama import Fore, Back, Style\n",
    "from IPython.display import display, Markdown, Latex\n",
    "\n",
    "## matplotlib\n",
    "import matplotlib.pyplot as plt\n",
    "plt.rcParams['figure.figsize'] = 14, 8\n",
    "plt.rcParams['axes.labelsize'] = 14\n",
    "plt.rcParams['xtick.labelsize'] = 12\n",
    "plt.rcParams['ytick.labelsize'] = 12\n",
    "plt.rcParams['text.color'] = 'k'\n",
    "%matplotlib inline\n",
    "\n",
    "## seaborn\n",
    "import seaborn as sns\n",
    "sns.set_context(\"paper\", rc={\"font.size\":12,\"axes.titlesize\":14,\"axes.labelsize\":12})\n",
    "plt.style.use('seaborn-whitegrid')\n",
    "\n",
    "import warnings\n",
    "warnings.filterwarnings(\"ignore\")"
   ]
  },
  {
   "cell_type": "markdown",
   "metadata": {},
   "source": [
    "<div class=\"alert alert-block alert-success\">\n",
    "<font size=\"+2\"><b>Tensor and Matrices</b></font>\n",
    "</div>\n",
    "\n",
    "A tensor is often referred to as an object that describes a relationship between a set of vector space objects. Similarly, in PyTorch mathematical matrices are called **tensors**.\n",
    "\n",
    "For <font color='Blue'><b>example</b></font>, an array is defined as follows in NumPy."
   ]
  },
  {
   "cell_type": "code",
   "execution_count": 2,
   "metadata": {
    "scrolled": true
   },
   "outputs": [
    {
     "data": {
      "text/latex": [
       "Matrix $A$ ="
      ],
      "text/plain": [
       "<IPython.core.display.Latex object>"
      ]
     },
     "metadata": {},
     "output_type": "display_data"
    },
    {
     "data": {
      "text/plain": [
       "array([[3, 5, 9],\n",
       "       [1, 6, 5],\n",
       "       [1, 1, 1]])"
      ]
     },
     "metadata": {},
     "output_type": "display_data"
    }
   ],
   "source": [
    "A = np.random.randint(10, size=(3, 3))\n",
    "display(Latex(r'Matrix $A$ ='))\n",
    "display(A)"
   ]
  },
  {
   "cell_type": "markdown",
   "metadata": {},
   "source": [
    "However, a tensor is defined as follows."
   ]
  },
  {
   "cell_type": "code",
   "execution_count": 3,
   "metadata": {},
   "outputs": [
    {
     "data": {
      "text/latex": [
       "Tensor $T$ ="
      ],
      "text/plain": [
       "<IPython.core.display.Latex object>"
      ]
     },
     "metadata": {},
     "output_type": "display_data"
    },
    {
     "data": {
      "text/plain": [
       "tensor([[3., 5., 9.],\n",
       "        [1., 6., 5.],\n",
       "        [1., 1., 1.]])"
      ]
     },
     "metadata": {},
     "output_type": "display_data"
    }
   ],
   "source": [
    "T = torch.Tensor(A)\n",
    "display(Latex(r'Tensor $T$ ='))\n",
    "display(T)"
   ]
  },
  {
   "cell_type": "markdown",
   "metadata": {},
   "source": [
    "The shape of $A$ and $T$"
   ]
  },
  {
   "cell_type": "code",
   "execution_count": 4,
   "metadata": {},
   "outputs": [
    {
     "data": {
      "text/html": [
       "<style  type=\"text/css\" >\n",
       "</style><table id=\"T_e883cd42_a4f9_11ea_b10e_50e08586bf81\" ><thead>    <tr>        <th class=\"col_heading level0 col0\" >Object</th>        <th class=\"col_heading level0 col1\" >Type</th>        <th class=\"col_heading level0 col2\" >Shape</th>    </tr></thead><tbody>\n",
       "                <tr>\n",
       "                                <td id=\"T_e883cd42_a4f9_11ea_b10e_50e08586bf81row0_col0\" class=\"data row0 col0\" >A</td>\n",
       "                        <td id=\"T_e883cd42_a4f9_11ea_b10e_50e08586bf81row0_col1\" class=\"data row0 col1\" ><class 'numpy.ndarray'></td>\n",
       "                        <td id=\"T_e883cd42_a4f9_11ea_b10e_50e08586bf81row0_col2\" class=\"data row0 col2\" >(3, 3)</td>\n",
       "            </tr>\n",
       "            <tr>\n",
       "                                <td id=\"T_e883cd42_a4f9_11ea_b10e_50e08586bf81row1_col0\" class=\"data row1 col0\" >B</td>\n",
       "                        <td id=\"T_e883cd42_a4f9_11ea_b10e_50e08586bf81row1_col1\" class=\"data row1 col1\" ><class 'torch.Tensor'></td>\n",
       "                        <td id=\"T_e883cd42_a4f9_11ea_b10e_50e08586bf81row1_col2\" class=\"data row1 col2\" >torch.Size([3, 3])</td>\n",
       "            </tr>\n",
       "    </tbody></table>"
      ],
      "text/plain": [
       "<pandas.io.formats.style.Styler at 0x1e3056e8948>"
      ]
     },
     "execution_count": 4,
     "metadata": {},
     "output_type": "execute_result"
    }
   ],
   "source": [
    "pd.DataFrame({'Object':['A','B'], 'Type': [type(A), type(T)], 'Shape': [A.shape, T.shape]}).style.hide_index()"
   ]
  },
  {
   "cell_type": "markdown",
   "metadata": {},
   "source": [
    "There are a lot of similarities between NumPy and torch. For example, we could"
   ]
  },
  {
   "cell_type": "code",
   "execution_count": 5,
   "metadata": {},
   "outputs": [
    {
     "data": {
      "text/latex": [
       "Tensor $T$ ="
      ],
      "text/plain": [
       "<IPython.core.display.Latex object>"
      ]
     },
     "metadata": {},
     "output_type": "display_data"
    },
    {
     "data": {
      "text/plain": [
       "tensor([[8, 9, 6],\n",
       "        [9, 3, 3],\n",
       "        [9, 6, 1]])"
      ]
     },
     "metadata": {},
     "output_type": "display_data"
    },
    {
     "data": {
      "text/latex": [
       "Matrix $A$ ="
      ],
      "text/plain": [
       "<IPython.core.display.Latex object>"
      ]
     },
     "metadata": {},
     "output_type": "display_data"
    },
    {
     "data": {
      "text/plain": [
       "array([[8, 9, 6],\n",
       "       [9, 3, 3],\n",
       "       [9, 6, 1]], dtype=int64)"
      ]
     },
     "metadata": {},
     "output_type": "display_data"
    }
   ],
   "source": [
    "T = torch.randint(10, size=(3, 3))\n",
    "display(Latex(r'Tensor $T$ ='))\n",
    "display(T)\n",
    "display(Latex(r'Matrix $A$ ='))\n",
    "A = np.array(T)\n",
    "display(A)"
   ]
  },
  {
   "cell_type": "markdown",
   "metadata": {},
   "source": [
    "Some other similarities:"
   ]
  },
  {
   "cell_type": "code",
   "execution_count": 6,
   "metadata": {},
   "outputs": [
    {
     "name": "stdout",
     "output_type": "stream",
     "text": [
      "\u001b[34m\u001b[1mNumpy ones:\n"
     ]
    },
    {
     "data": {
      "text/plain": [
       "array([[1., 1.],\n",
       "       [1., 1.]])"
      ]
     },
     "metadata": {},
     "output_type": "display_data"
    },
    {
     "name": "stdout",
     "output_type": "stream",
     "text": [
      "\u001b[31m\u001b[1mToruch ones:\n"
     ]
    },
    {
     "data": {
      "text/plain": [
       "tensor([[1., 1.],\n",
       "        [1., 1.]])"
      ]
     },
     "metadata": {},
     "output_type": "display_data"
    },
    {
     "name": "stdout",
     "output_type": "stream",
     "text": [
      "\u001b[34m\u001b[1mTensor to Array:\n"
     ]
    },
    {
     "data": {
      "text/plain": [
       "array([[8, 9, 6],\n",
       "       [9, 3, 3],\n",
       "       [9, 6, 1]], dtype=int64)"
      ]
     },
     "metadata": {},
     "output_type": "display_data"
    },
    {
     "name": "stdout",
     "output_type": "stream",
     "text": [
      "\u001b[31m\u001b[1mArray to Tensor:\n"
     ]
    },
    {
     "data": {
      "text/plain": [
       "tensor([[8, 9, 6],\n",
       "        [9, 3, 3],\n",
       "        [9, 6, 1]])"
      ]
     },
     "metadata": {},
     "output_type": "display_data"
    }
   ],
   "source": [
    "print(Fore.BLUE+ Style.BRIGHT + 'Numpy ones:')\n",
    "display(np.ones((2,2)))\n",
    "\n",
    "print(Fore.RED+ Style.BRIGHT + 'Toruch ones:')\n",
    "display(torch.ones((2,2)))\n",
    "\n",
    "print(Fore.BLUE+ Style.BRIGHT + 'Tensor to Array:')\n",
    "display(np.asarray(T))\n",
    "\n",
    "print(Fore.RED+ Style.BRIGHT + 'Array to Tensor:')\n",
    "display(torch.from_numpy(A))"
   ]
  },
  {
   "cell_type": "markdown",
   "metadata": {},
   "source": [
    "See this [link](https://pytorch.org/tutorials/) for more details."
   ]
  },
  {
   "cell_type": "markdown",
   "metadata": {
    "_cell_guid": "6d7038e6-6aaf-4a1e-9204-406ab21082a2",
    "_uuid": "42cbe3900b733ab12867612d484d6fffaccd5e31"
   },
   "source": [
    "<div class=\"alert alert-block alert-success\">\n",
    "<font size=\"+2\"><b>\n",
    "Basic (Matrix) Algebra with Torch    \n",
    "</b></font>\n",
    "</div>\n",
    "\n",
    "Let $S$ and $T$ be two tensors"
   ]
  },
  {
   "cell_type": "code",
   "execution_count": 7,
   "metadata": {},
   "outputs": [
    {
     "name": "stdout",
     "output_type": "stream",
     "text": [
      "\u001b[34m\u001b[1mS=\n"
     ]
    },
    {
     "data": {
      "text/plain": [
       "tensor([[8, 1, 3, 5],\n",
       "        [9, 9, 6, 7],\n",
       "        [5, 8, 6, 5],\n",
       "        [3, 6, 2, 2]])"
      ]
     },
     "metadata": {},
     "output_type": "display_data"
    },
    {
     "name": "stdout",
     "output_type": "stream",
     "text": [
      "\u001b[31m\u001b[1mT=\n"
     ]
    },
    {
     "data": {
      "text/plain": [
       "tensor([[7, 1, 9, 1],\n",
       "        [4, 5, 7, 6],\n",
       "        [3, 0, 8, 9],\n",
       "        [9, 6, 9, 5]])"
      ]
     },
     "metadata": {},
     "output_type": "display_data"
    }
   ],
   "source": [
    "S = torch.randint(10, size=(4, 4))\n",
    "T = torch.randint(10, size=(4, 4))\n",
    "print(Fore.BLUE+ Style.BRIGHT + 'S=')\n",
    "display(S)\n",
    "\n",
    "print(Fore.RED+ Style.BRIGHT + 'T=')\n",
    "display(T)"
   ]
  },
  {
   "cell_type": "markdown",
   "metadata": {},
   "source": [
    "* **Addition**: ```torch.add(S,T)``` or ```S.add(T)```or ```S + T```\n",
    "* **Subtraction**: ```torch.sub(S,T)``` or```S.sub(T)``` or  ```S - T```\n",
    "* **Element wise Multiplication**: ```torch.mul(S,T)``` or  ```S * T ```\n",
    "* **Element wise Division**: ```torch.div(S,T)``` or ```S / T ```"
   ]
  },
  {
   "cell_type": "code",
   "execution_count": 8,
   "metadata": {},
   "outputs": [
    {
     "name": "stdout",
     "output_type": "stream",
     "text": [
      "\u001b[34m\u001b[1mAddition:\n"
     ]
    },
    {
     "data": {
      "text/plain": [
       "tensor([[15,  2, 12,  6],\n",
       "        [13, 14, 13, 13],\n",
       "        [ 8,  8, 14, 14],\n",
       "        [12, 12, 11,  7]])"
      ]
     },
     "metadata": {},
     "output_type": "display_data"
    },
    {
     "data": {
      "text/plain": [
       "tensor([[15,  2, 12,  6],\n",
       "        [13, 14, 13, 13],\n",
       "        [ 8,  8, 14, 14],\n",
       "        [12, 12, 11,  7]])"
      ]
     },
     "metadata": {},
     "output_type": "display_data"
    },
    {
     "data": {
      "text/plain": [
       "tensor([[15,  2, 12,  6],\n",
       "        [13, 14, 13, 13],\n",
       "        [ 8,  8, 14, 14],\n",
       "        [12, 12, 11,  7]])"
      ]
     },
     "metadata": {},
     "output_type": "display_data"
    }
   ],
   "source": [
    "print(Fore.BLUE+ Style.BRIGHT + 'Addition:')\n",
    "display(torch.add(S,T))\n",
    "display(S.add(T))\n",
    "display(S+T)"
   ]
  },
  {
   "cell_type": "code",
   "execution_count": 9,
   "metadata": {},
   "outputs": [
    {
     "name": "stdout",
     "output_type": "stream",
     "text": [
      "\u001b[34m\u001b[1mSubtraction:\n"
     ]
    },
    {
     "data": {
      "text/plain": [
       "tensor([[ 1,  0, -6,  4],\n",
       "        [ 5,  4, -1,  1],\n",
       "        [ 2,  8, -2, -4],\n",
       "        [-6,  0, -7, -3]])"
      ]
     },
     "metadata": {},
     "output_type": "display_data"
    },
    {
     "data": {
      "text/plain": [
       "tensor([[ 1,  0, -6,  4],\n",
       "        [ 5,  4, -1,  1],\n",
       "        [ 2,  8, -2, -4],\n",
       "        [-6,  0, -7, -3]])"
      ]
     },
     "metadata": {},
     "output_type": "display_data"
    },
    {
     "data": {
      "text/plain": [
       "tensor([[ 1,  0, -6,  4],\n",
       "        [ 5,  4, -1,  1],\n",
       "        [ 2,  8, -2, -4],\n",
       "        [-6,  0, -7, -3]])"
      ]
     },
     "metadata": {},
     "output_type": "display_data"
    }
   ],
   "source": [
    "print(Fore.BLUE+ Style.BRIGHT + 'Subtraction:')\n",
    "display(torch.sub(S,T))\n",
    "display(S.sub(T))\n",
    "display(S-T)"
   ]
  },
  {
   "cell_type": "code",
   "execution_count": 10,
   "metadata": {},
   "outputs": [
    {
     "name": "stdout",
     "output_type": "stream",
     "text": [
      "\u001b[34m\u001b[1mElement wise Multiplication:\u001b[0m\n"
     ]
    },
    {
     "data": {
      "text/plain": [
       "tensor([[56,  1, 27,  5],\n",
       "        [36, 45, 42, 42],\n",
       "        [15,  0, 48, 45],\n",
       "        [27, 36, 18, 10]])"
      ]
     },
     "metadata": {},
     "output_type": "display_data"
    },
    {
     "data": {
      "text/plain": [
       "tensor([[56,  1, 27,  5],\n",
       "        [36, 45, 42, 42],\n",
       "        [15,  0, 48, 45],\n",
       "        [27, 36, 18, 10]])"
      ]
     },
     "metadata": {},
     "output_type": "display_data"
    },
    {
     "data": {
      "text/plain": [
       "tensor([[56,  1, 27,  5],\n",
       "        [36, 45, 42, 42],\n",
       "        [15,  0, 48, 45],\n",
       "        [27, 36, 18, 10]])"
      ]
     },
     "metadata": {},
     "output_type": "display_data"
    },
    {
     "name": "stdout",
     "output_type": "stream",
     "text": [
      "\u001b[34m\u001b[1mElement wise Division:\u001b[0m\n",
      "\u001b[34m\u001b[1m- Dividing each entry of S by 2:\u001b[0m\n"
     ]
    },
    {
     "data": {
      "text/plain": [
       "tensor([[4, 0, 1, 2],\n",
       "        [4, 4, 3, 3],\n",
       "        [2, 4, 3, 2],\n",
       "        [1, 3, 1, 1]])"
      ]
     },
     "metadata": {},
     "output_type": "display_data"
    },
    {
     "name": "stdout",
     "output_type": "stream",
     "text": [
      "\u001b[34m\u001b[1m- Dividing each entry of S by corresponding entry of T:\u001b[0m\n"
     ]
    }
   ],
   "source": [
    "print(Fore.BLUE+ Style.BRIGHT + 'Element wise Multiplication:'  + Style.RESET_ALL )\n",
    "display(torch.mul(S,T))\n",
    "display(S.mul(T))\n",
    "display(S*T)\n",
    "\n",
    "print(Fore.BLUE+ Style.BRIGHT + 'Element wise Division:' + Style.RESET_ALL)\n",
    "print(Fore.BLUE+ Style.BRIGHT + '- Dividing each entry of S by 2:' + Style.RESET_ALL)\n",
    "\n",
    "display(torch.div(S,2))\n",
    "\n",
    "print(Fore.BLUE+ Style.BRIGHT + '- Dividing each entry of S by corresponding entry of T:' + Style.RESET_ALL)\n",
    "\n",
    "# Sometimes the kernel dies after running the following commands\n",
    "# torch.div(S,T)\n",
    "# display(S.div(T))\n",
    "# display(S/T)"
   ]
  },
  {
   "cell_type": "markdown",
   "metadata": {},
   "source": [
    "<div class=\"alert alert-block alert-success\">\n",
    "<font size=\"+2\"><b>\n",
    "Mean and Standard Deviation\n",
    "</b></font>\n",
    "</div>\n",
    "\n",
    "Let $T$ be a tensor.\n",
    "\n",
    "* Mean: ```T.mean()```\n",
    "* Standart Deviation (std): ```T.std()```"
   ]
  },
  {
   "cell_type": "code",
   "execution_count": 11,
   "metadata": {},
   "outputs": [
    {
     "name": "stdout",
     "output_type": "stream",
     "text": [
      "\u001b[31m\u001b[1mT:\u001b[0m\n"
     ]
    },
    {
     "data": {
      "text/plain": [
       "tensor([[0.6724, 0.9165, 0.2126, 0.0555],\n",
       "        [0.4323, 0.5642, 0.5795, 0.9820],\n",
       "        [0.6948, 0.5777, 0.0943, 0.7661],\n",
       "        [0.5435, 0.4215, 0.0177, 0.1391]])"
      ]
     },
     "metadata": {},
     "output_type": "display_data"
    },
    {
     "name": "stdout",
     "output_type": "stream",
     "text": [
      "\u001b[31m\u001b[1mMean:\u001b[0m\n"
     ]
    },
    {
     "data": {
      "text/plain": [
       "tensor(0.4794)"
      ]
     },
     "metadata": {},
     "output_type": "display_data"
    },
    {
     "name": "stdout",
     "output_type": "stream",
     "text": [
      "\u001b[31m\u001b[1mSTD:\u001b[0m\n"
     ]
    },
    {
     "data": {
      "text/plain": [
       "tensor(0.3027)"
      ]
     },
     "metadata": {},
     "output_type": "display_data"
    }
   ],
   "source": [
    "T = torch.rand(4,4)\n",
    "print(Fore.RED+ Style.BRIGHT + 'T:'+ Style.RESET_ALL)\n",
    "display(T)\n",
    "print(Fore.RED+ Style.BRIGHT + 'Mean:'+ Style.RESET_ALL)\n",
    "display(T.mean())\n",
    "\n",
    "print(Fore.RED+ Style.BRIGHT + 'STD:'+ Style.RESET_ALL)\n",
    "display(T.std())"
   ]
  },
  {
   "cell_type": "markdown",
   "metadata": {},
   "source": [
    "See more details [here](https://pytorch.org/docs/stable/torch.html)."
   ]
  },
  {
   "cell_type": "markdown",
   "metadata": {},
   "source": [
    "<div class=\"alert alert-block alert-success\">\n",
    "<font size=\"+2\"><b>\n",
    "Linear Regression\n",
    "</b></font>\n",
    "</div>\n",
    "\n",
    "\n",
    "Let's try a linear regression using Pytorch.\n",
    "\n",
    "To do a linear regression using Pytorch, we need to do the following steps.\n",
    "\n",
    "1. Defining a class for **LinearRegression**. This class is common when it comes to doing linear regression using Pytorch."
   ]
  },
  {
   "cell_type": "code",
   "execution_count": 12,
   "metadata": {},
   "outputs": [],
   "source": [
    "class LinearRegressionModel(torch.nn.Module):\n",
    "    def __init__(self, input_Size, output_Size):\n",
    "        super(LinearRegressionModel, self).__init__()\n",
    "        self.linear = torch.nn.Linear(input_Size, output_Size)\n",
    "\n",
    "    def forward(self, x):\n",
    "        out = self.linear(x)\n",
    "        return out"
   ]
  },
  {
   "cell_type": "markdown",
   "metadata": {},
   "source": [
    "2. Preparing the data and defining a model using the **LinearRegression** class."
   ]
  },
  {
   "cell_type": "code",
   "execution_count": 13,
   "metadata": {
    "scrolled": false
   },
   "outputs": [
    {
     "name": "stdout",
     "output_type": "stream",
     "text": [
      "---------------------------------------------------------\n",
      "Step = 0, MSE = 2.3664e+02\n",
      "Step = 10, MSE = 3.7804e-03\n",
      "Step = 20, MSE = 4.2227e-04\n",
      "Step = 30, MSE = 3.5668e-04\n",
      "Step = 40, MSE = 3.0132e-04\n",
      "Step = 50, MSE = 2.5455e-04\n",
      "Step = 60, MSE = 2.1504e-04\n",
      "Step = 70, MSE = 1.8165e-04\n",
      "Step = 80, MSE = 1.5346e-04\n",
      "Step = 90, MSE = 1.2963e-04\n",
      "Step = 100, MSE = 1.0951e-04\n",
      "---------------------------------------------------------\n"
     ]
    },
    {
     "data": {
      "image/png": "[encoded data removed]",
      "text/plain": [
       "<Figure size 1008x432 with 2 Axes>"
      ]
     },
     "metadata": {},
     "output_type": "display_data"
    }
   ],
   "source": [
    "N = 10\n",
    "X = np.linspace(1,N,N)\n",
    "X = np.array(X,dtype=np.float32)\n",
    "X = X.reshape(-1,1)\n",
    "# y = 2x +1\n",
    "y = np.dot(X,2) +1\n",
    "y = np.array(y,dtype=np.float32)\n",
    "y = y.reshape(-1,1)\n",
    "\n",
    "if torch.cuda.is_available():\n",
    "    X_tensor = Variable(torch.from_numpy(X).cuda())\n",
    "    y_tensor = Variable(torch.from_numpy(y).cuda())\n",
    "else:\n",
    "    X_tensor = Variable(torch.from_numpy(X))\n",
    "    y_tensor = Variable(torch.from_numpy(y))\n",
    "\n",
    "# Defining model\n",
    "input_Size, output_Size = 1, 1\n",
    "model = LinearRegressionModel(input_Size, output_Size) # input and output size are 1\n",
    "\n",
    "# GPU\n",
    "if torch.cuda.is_available():\n",
    "    model.cuda()\n",
    "\n",
    "# MSE\n",
    "MSE = nn.MSELoss()\n",
    "\n",
    "# Optimization\n",
    "learning_rate = 0.02\n",
    "optimizer = torch.optim.SGD(model.parameters(),lr = learning_rate)\n",
    "\n",
    "loss_list = []\n",
    "iteration_number = 101\n",
    "print('---------------------------------------------------------')\n",
    "for iteration in range(iteration_number):\n",
    "        \n",
    "    # optimization\n",
    "    optimizer.zero_grad() \n",
    "    \n",
    "    # Forward modeling\n",
    "    results = model(X_tensor)\n",
    "    \n",
    "    # Calculate Loss using MSE\n",
    "    loss = MSE(results, y_tensor)\n",
    "    \n",
    "    # backward\n",
    "    loss.backward()\n",
    "    \n",
    "    # Updating parameters\n",
    "    optimizer.step()\n",
    "    \n",
    "    # store loss\n",
    "    loss_list.append(loss.data)\n",
    "    \n",
    "    # print loss\n",
    "    if(iteration % 10 == 0):\n",
    "        print('Step = %i, MSE = %.4e' % (iteration, loss.data))\n",
    "print('---------------------------------------------------------')\n",
    "\n",
    "with torch.no_grad():\n",
    "    if torch.cuda.is_available():\n",
    "        Predicted = model(Variable(torch.from_numpy(X).cuda())).cpu().data.numpy()\n",
    "    else:\n",
    "        Predicted = model(Variable(torch.from_numpy(X))).data.numpy()\n",
    "\n",
    "fig, ax = plt.subplots(1, 2, figsize=(14,6))\n",
    "_ = ax[0].plot(range(iteration_number), loss_list, linestyle='dashed', linewidth=2)\n",
    "_ = ax[0].set_xlabel(\"Number of Iterations\")\n",
    "_ = ax[0].set_ylabel(\"Loss (MSE)\")\n",
    "    \n",
    "_ = ax[1].scatter(X, y, label='True data', alpha=1, facecolor='blue')\n",
    "_ = ax[1].plot(X, Predicted, '--', label='Predictions', alpha=0.5)\n",
    "_ = ax[1].legend(loc='Best', fontsize=12)"
   ]
  },
  {
   "cell_type": "markdown",
   "metadata": {
    "_cell_guid": "4c40d91b-8a9c-456c-9300-a6686792c424",
    "_uuid": "213619d278384044e3b0dd8577057413a9a7e408",
    "collapsed": true
   },
   "source": [
    "***"
   ]
  }
 ],
 "metadata": {
  "kernelspec": {
   "display_name": "Python 3",
   "language": "python",
   "name": "python3"
  },
  "language_info": {
   "codemirror_mode": {
    "name": "ipython",
    "version": 3
   },
   "file_extension": ".py",
   "mimetype": "text/x-python",
   "name": "python",
   "nbconvert_exporter": "python",
   "pygments_lexer": "ipython3",
   "version": "3.7.7"
  }
 },
 "nbformat": 4,
 "nbformat_minor": 1
}
