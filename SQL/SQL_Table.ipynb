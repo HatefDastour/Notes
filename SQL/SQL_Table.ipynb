{
 "cells": [
  {
   "cell_type": "markdown",
   "metadata": {},
   "source": [
    "# SQL and Python\n",
    "* [1. Creating a table in a database using SQL](#1.-Creating-a-table-in-a-database-using-SQL)"
   ]
  },
  {
   "cell_type": "markdown",
   "metadata": {},
   "source": [
    "## 1. Creating a table in a database using SQL\n",
    "We can create a new table in a using SQL with the following syntax,\n",
    "\n",
    "```CREATE TABLE table_name (\n",
    "    column1 datatype,\n",
    "    column2 datatype,\n",
    "    column3 datatype,\n",
    "   ....\n",
    ");```"
   ]
  },
  {
   "cell_type": "markdown",
   "metadata": {},
   "source": [
    "However, we can use this syntax in Python as well. In doing so, we need to use **sqlite3** package.\n",
    "\n",
    "Let's create ``mydatabase.db``, and enter the all-time top goal scorers of the premier from this [website](https://www.premierleague.com/stats/top/players/goals?co=1&se=-1&co=1&cl=-1&iso=-1&po=-1?se=-1)."
   ]
  },
  {
   "cell_type": "code",
   "execution_count": 11,
   "metadata": {},
   "outputs": [],
   "source": [
    "# creating *mydatabase.db* in the current directory\n",
    "import sqlite3\n",
    "connection = sqlite3.connect(\"mydatabase.db\")\n",
    "\n",
    "cursor = connection.cursor()\n",
    "\n",
    "# deleting table Players if it is available\n",
    "# disable this line if there is no such table as Players in the db file\n",
    "cursor.execute(\"\"\"DROP TABLE Players;\"\"\")\n",
    "\n",
    "# SQL table syntax\n",
    "sql_command = \"\"\"\n",
    "CREATE TABLE Players ( \n",
    "Rank INTEGER PRIMARY KEY, \n",
    "First_Name VARCHAR(20), \n",
    "Last_Name VARCHAR(30), \n",
    "Nationality CHAR(10), \n",
    "Goals INTEGER,\n",
    "Birth_Date DATE);\"\"\"\n",
    "\n",
    "# running that syntax\n",
    "cursor.execute(sql_command)\n",
    "# entering a row\n",
    "sql_command = \"\"\"INSERT INTO Players (Rank, First_Name, Last_Name, Nationality, Goals, Birth_Date)\n",
    "    VALUES (Null, \"Alan\", \"Shearer\", \"England\", 260,\"1970-08-13\");\"\"\"\n",
    "cursor.execute(sql_command)\n",
    "\n",
    "# Saving the changes\n",
    "connection.commit()\n",
    "# closing hte file\n",
    "connection.close()"
   ]
  },
  {
   "cell_type": "markdown",
   "metadata": {},
   "source": [
    "As you notice, entering table rows by the previous command is not convenient. Therefore, we can enter the data as follows instead."
   ]
  },
  {
   "cell_type": "code",
   "execution_count": 12,
   "metadata": {},
   "outputs": [],
   "source": [
    "import sqlite3\n",
    "connection = sqlite3.connect(\"mydatabase.db\")\n",
    "\n",
    "cursor = connection.cursor()\n",
    "\n",
    "Players_data = [ (\"Wayne\", \"Rooney\", \"England\", 208, \"1985-10-24\"),\n",
    "               (\"Andrew\", \"Cole\", \"England\", 187, \"1971-10-15\"),\n",
    "               (\"Frank\", \"Lampard\", \"England\", 177, \"1978-06-20\") ]\n",
    "               \n",
    "for p in Players_data:\n",
    "    format_str = \"\"\"INSERT INTO Players (Rank, First_Name, Last_Name, Nationality, Goals, Birth_Date)\n",
    "    VALUES (NULL, \"{first}\", \"{last}\", \"{nationality}\", \"{goals}\", \"{birthdate}\");\"\"\"\n",
    "\n",
    "    sql_command = format_str.format(first=p[0], last=p[1], nationality=p[2], goals = p[3], birthdate = p[4])\n",
    "    cursor.execute(sql_command)\n",
    "# never forget this, if you want the changes to be saved:\n",
    "connection.commit()\n",
    "\n",
    "connection.close()"
   ]
  },
  {
   "cell_type": "markdown",
   "metadata": {},
   "source": [
    "Now let's see what we have entered in the table. We can use a **for** lop to print all entered rows."
   ]
  },
  {
   "cell_type": "code",
   "execution_count": 25,
   "metadata": {},
   "outputs": [
    {
     "name": "stdout",
     "output_type": "stream",
     "text": [
      "All rows:\n",
      "(1, 'Alan', 'Shearer', 'England', 260, '1970-08-13')\n",
      "(2, 'Wayne', 'Rooney', 'England', 208, '1985-10-24')\n",
      "(3, 'Andrew', 'Cole', 'England', 187, '1971-10-15')\n",
      "(4, 'Frank', 'Lampard', 'England', 177, '1978-06-20')\n"
     ]
    }
   ],
   "source": [
    "import sqlite3\n",
    "connection = sqlite3.connect(\"mydatabase.db\")\n",
    "\n",
    "cursor = connection.cursor()\n",
    "\n",
    "cursor.execute(\"SELECT * FROM Players\") \n",
    "print(\"All rows:\")\n",
    "result = cursor.fetchall() \n",
    "for row in result:\n",
    "    print(row)\n",
    "del row"
   ]
  },
  {
   "cell_type": "markdown",
   "metadata": {},
   "source": [
    "Alternatively, we can print a row."
   ]
  },
  {
   "cell_type": "code",
   "execution_count": 26,
   "metadata": {},
   "outputs": [
    {
     "name": "stdout",
     "output_type": "stream",
     "text": [
      "One row:\n",
      "(1, 'Alan', 'Shearer', 'England', 260, '1970-08-13')\n"
     ]
    }
   ],
   "source": [
    "cursor.execute(\"SELECT * FROM Players\") \n",
    "print(\"One row:\")\n",
    "row = cursor.fetchone() \n",
    "print(row)"
   ]
  },
  {
   "cell_type": "markdown",
   "metadata": {},
   "source": [
    "We could also print all using a **while** loop as well"
   ]
  },
  {
   "cell_type": "code",
   "execution_count": 30,
   "metadata": {},
   "outputs": [
    {
     "name": "stdout",
     "output_type": "stream",
     "text": [
      "(1, 'Alan', 'Shearer', 'England', 260, '1970-08-13')\n",
      "(2, 'Wayne', 'Rooney', 'England', 208, '1985-10-24')\n",
      "(3, 'Andrew', 'Cole', 'England', 187, '1971-10-15')\n",
      "(4, 'Frank', 'Lampard', 'England', 177, '1978-06-20')\n"
     ]
    }
   ],
   "source": [
    "cursor.execute(\"SELECT * FROM Players\")\n",
    "row = cursor.fetchone()\n",
    "while row is not None:\n",
    "  print(row)\n",
    "  row = cursor.fetchone()"
   ]
  }
 ],
 "metadata": {
  "kernelspec": {
   "display_name": "Python 3",
   "language": "python",
   "name": "python3"
  },
  "language_info": {
   "codemirror_mode": {
    "name": "ipython",
    "version": 3
   },
   "file_extension": ".py",
   "mimetype": "text/x-python",
   "name": "python",
   "nbconvert_exporter": "python",
   "pygments_lexer": "ipython3",
   "version": "3.7.1"
  }
 },
 "nbformat": 4,
 "nbformat_minor": 2
}
