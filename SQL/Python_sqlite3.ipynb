{
 "cells": [
  {
   "cell_type": "code",
   "execution_count": 1,
   "metadata": {},
   "outputs": [],
   "source": [
    "import sqlite3\n",
    "import pymysql\n",
    "pymysql.install_as_MySQLdb()\n",
    "import MySQLdb"
   ]
  },
  {
   "cell_type": "markdown",
   "metadata": {},
   "source": [
    "# Python sqlite3\n",
    "* [Working with Tables in Python-SQL](#Working-with-Tables-in-Python-SQL)\n",
    "    * [Creating-a-Table](#Creating-a-Table)\n",
    "    * [Inserting a table row](#Inserting-a-table-row)\n",
    "    * [Inserting multiple table rows](#Inserting-multiple-table-rows)\n",
    "    * [Reading a table](#Reading-a-table)\n",
    "    * [Copying a Table](#Copying-a-Table)\n",
    "    * [Deleting records in a table](#Deleting-records-in-a-table)\n",
    "        * [Deleting a row](#Deleting-a-row)\n",
    "        * [Deleting whole table](#Deleting-whole-table)"
   ]
  },
  {
   "cell_type": "markdown",
   "metadata": {},
   "source": [
    "# Working with Tables in Python-SQL\n",
    "\n",
    "## Creating a Table\n",
    "We can create a new table in a using SQL with the following syntax,\n",
    "\n",
    "```CREATE TABLE table_name (\n",
    "    column1 datatype,\n",
    "    column2 datatype,\n",
    "    column3 datatype,\n",
    "   ....\n",
    ");```"
   ]
  },
  {
   "cell_type": "markdown",
   "metadata": {},
   "source": [
    "However, we can use this syntax in Python as well. In doing so, we need to use **sqlite3** package.\n",
    "\n",
    "Let's create ``mydatabase.db``, and enter the all-time top goal scorers of the premier from this [website](https://www.premierleague.com/stats/top/players/goals?co=1&se=-1&co=1&cl=-1&iso=-1&po=-1?se=-1)."
   ]
  },
  {
   "cell_type": "markdown",
   "metadata": {},
   "source": [
    "To creat *Players* table we can use the following SQL command\n",
    "\n",
    "```CREATE TABLE Players ( \n",
    "    Rank INTEGER PRIMARY KEY, \n",
    "    First_Name VARCHAR(20), \n",
    "    Last_Name VARCHAR(30), \n",
    "    Nationality CHAR(10), \n",
    "    Goals INTEGER,\n",
    "    Birth_Date DATE\n",
    ");\n",
    "```"
   ]
  },
  {
   "cell_type": "markdown",
   "metadata": {},
   "source": [
    "In python, this can be done using"
   ]
  },
  {
   "cell_type": "code",
   "execution_count": 2,
   "metadata": {
    "scrolled": true
   },
   "outputs": [
    {
     "data": {
      "text/plain": [
       "<sqlite3.Cursor at 0x228280b9340>"
      ]
     },
     "execution_count": 2,
     "metadata": {},
     "output_type": "execute_result"
    }
   ],
   "source": [
    "# creating *mydatabase.db* in the current directory\n",
    "connection = sqlite3.connect(\"mydatabase.db\")\n",
    "\n",
    "cursor = connection.cursor()\n",
    "\n",
    "# deleting table Players if it is available\n",
    "# disable this line if there is no such table as Players in the db file\n",
    "cursor.execute(\"\"\"DROP TABLE Players;\"\"\")\n",
    "\n",
    "# SQL table syntax\n",
    "sql_command = \"\"\"\n",
    "CREATE TABLE Players ( \n",
    "    Rank INTEGER PRIMARY KEY, \n",
    "    First_Name VARCHAR(20), \n",
    "    Last_Name VARCHAR(30), \n",
    "    Nationality CHAR(10), \n",
    "    Goals INTEGER,\n",
    "    Birth_Date DATE\n",
    "    );\"\"\"\n",
    "\n",
    "# running that syntax\n",
    "cursor.execute(sql_command)"
   ]
  },
  {
   "cell_type": "markdown",
   "metadata": {},
   "source": [
    "## Inserting a table row\n",
    "\n",
    "For example, to enter a row of a player data, we can use the following SQL syntax\n",
    "\n",
    "```INSERT INTO Players (Rank, First_Name, Last_Name, Nationality, Goals, Birth_Date)\n",
    "    VALUES (Null, \"Alan\", \"Shearer\", \"England\", 260,\"1970-08-13\");```"
   ]
  },
  {
   "cell_type": "markdown",
   "metadata": {},
   "source": [
    "In Python, this can be done as follows."
   ]
  },
  {
   "cell_type": "code",
   "execution_count": 3,
   "metadata": {},
   "outputs": [],
   "source": [
    "# entering a row\n",
    "sql_command = \"\"\"INSERT INTO Players (Rank, First_Name, Last_Name, Nationality, Goals, Birth_Date)\n",
    "    VALUES (Null, \"Alan\", \"Shearer\", \"England\", 260,\"1970-08-13\");\"\"\"\n",
    "cursor.execute(sql_command)\n",
    "\n",
    "# Saving the changes\n",
    "connection.commit()\n",
    "# closing hte file\n",
    "connection.close()"
   ]
  },
  {
   "cell_type": "markdown",
   "metadata": {},
   "source": [
    "## Inserting multiple table rows\n",
    "\n",
    "As you noticed, entering table rows by the previous command is not convenient, especially for entering a large number of rows. Therefore, we can enter the data as follows instead."
   ]
  },
  {
   "cell_type": "code",
   "execution_count": 4,
   "metadata": {},
   "outputs": [],
   "source": [
    "connection = sqlite3.connect(\"mydatabase.db\")\n",
    "cursor = connection.cursor()\n",
    "# Data\n",
    "Players_data = [ (\"Wayne\", \"Rooney\", \"England\", 208, \"1985-10-24\"),\n",
    "               (\"Andrew\", \"Cole\", \"England\", 187, \"1971-10-15\"),\n",
    "               (\"Frank\", \"Lampard\", \"England\", 177, \"1978-06-20\") ]\n",
    "# string format\n",
    "format_str = \"\"\"INSERT INTO Players (Rank, First_Name, Last_Name, Nationality, Goals, Birth_Date)\n",
    "VALUES (NULL, \"{first}\", \"{last}\", \"{nationality}\", \"{goals}\", \"{birthdate}\");\"\"\"\n",
    "for p in Players_data:\n",
    "    sql_command = format_str.format(first=p[0], last=p[1], nationality=p[2], goals = p[3], birthdate = p[4])\n",
    "    cursor.execute(sql_command)\n",
    "# Saving\n",
    "connection.commit()\n",
    "connection.close()"
   ]
  },
  {
   "cell_type": "markdown",
   "metadata": {},
   "source": [
    "## Reading a table\n",
    "\n",
    "Let's see what we have entered in the table. We can use a **for** lop to print all entered rows."
   ]
  },
  {
   "cell_type": "code",
   "execution_count": 5,
   "metadata": {},
   "outputs": [
    {
     "name": "stdout",
     "output_type": "stream",
     "text": [
      "All rows:\n",
      "(1, 'Alan', 'Shearer', 'England', 260, '1970-08-13')\n",
      "(2, 'Wayne', 'Rooney', 'England', 208, '1985-10-24')\n",
      "(3, 'Andrew', 'Cole', 'England', 187, '1971-10-15')\n",
      "(4, 'Frank', 'Lampard', 'England', 177, '1978-06-20')\n"
     ]
    }
   ],
   "source": [
    "connection = sqlite3.connect(\"mydatabase.db\")\n",
    "\n",
    "cursor = connection.cursor()\n",
    "\n",
    "cursor.execute(\"SELECT * FROM Players\") \n",
    "print(\"All rows:\")\n",
    "result = cursor.fetchall() \n",
    "for row in result:\n",
    "    print(row)\n",
    "del row"
   ]
  },
  {
   "cell_type": "markdown",
   "metadata": {},
   "source": [
    "Alternatively, we can print a row."
   ]
  },
  {
   "cell_type": "code",
   "execution_count": 6,
   "metadata": {},
   "outputs": [
    {
     "name": "stdout",
     "output_type": "stream",
     "text": [
      "One row:\n",
      "(1, 'Alan', 'Shearer', 'England', 260, '1970-08-13')\n"
     ]
    }
   ],
   "source": [
    "cursor.execute(\"SELECT * FROM Players\") \n",
    "print(\"One row:\")\n",
    "row = cursor.fetchone() \n",
    "print(row)"
   ]
  },
  {
   "cell_type": "markdown",
   "metadata": {},
   "source": [
    "We could also print all using a **while** loop as well"
   ]
  },
  {
   "cell_type": "code",
   "execution_count": 7,
   "metadata": {
    "scrolled": false
   },
   "outputs": [
    {
     "name": "stdout",
     "output_type": "stream",
     "text": [
      "(1, 'Alan', 'Shearer', 'England', 260, '1970-08-13')\n",
      "(2, 'Wayne', 'Rooney', 'England', 208, '1985-10-24')\n",
      "(3, 'Andrew', 'Cole', 'England', 187, '1971-10-15')\n",
      "(4, 'Frank', 'Lampard', 'England', 177, '1978-06-20')\n"
     ]
    }
   ],
   "source": [
    "cursor.execute(\"SELECT * FROM Players\")\n",
    "row = cursor.fetchone()\n",
    "while row is not None:\n",
    "  print(row)\n",
    "  row = cursor.fetchone()"
   ]
  },
  {
   "cell_type": "markdown",
   "metadata": {},
   "source": [
    "Moreover, we can define the following function for showing the table (for later uses)."
   ]
  },
  {
   "cell_type": "code",
   "execution_count": 8,
   "metadata": {},
   "outputs": [],
   "source": [
    "def Show_Table():\n",
    "    connection = sqlite3.connect(\"mydatabase.db\")\n",
    "    cursor = connection.cursor()\n",
    "    cursor.execute(\"SELECT * FROM Players\") \n",
    "    print(\"All rows:\")\n",
    "    result = cursor.fetchall() \n",
    "    for row in result:\n",
    "        print(row)\n",
    "    del row"
   ]
  },
  {
   "cell_type": "markdown",
   "metadata": {},
   "source": [
    "### Updating a table\n",
    "\n",
    "Assume that we are going to enter the following row in our table.\n",
    "\n",
    "| Last Name | First Name | Nationality | Goals | Birthdate |\n",
    "|-----------|------------|-------------|-------|------------|\n",
    "| Thierry | Henry | France | 175 | 1977-08-17 |"
   ]
  },
  {
   "cell_type": "code",
   "execution_count": 9,
   "metadata": {},
   "outputs": [],
   "source": [
    "connection = sqlite3.connect(\"mydatabase.db\")\n",
    "\n",
    "cursor = connection.cursor()\n",
    "\n",
    "Players_data = [ (\"Thierry\", \"Henry\", \"France\", 180, \"1977-08-17\")]\n",
    "               \n",
    "format_str = \"\"\"INSERT INTO Players (Rank, First_Name, Last_Name, Nationality, Goals, Birth_Date)\n",
    "VALUES (NULL, \"{first}\", \"{last}\", \"{nationality}\", \"{goals}\", \"{birthdate}\");\"\"\"\n",
    "\n",
    "for p in Players_data:\n",
    "    sql_command = format_str.format(first=p[0], last=p[1], nationality=p[2], goals = p[3], birthdate = p[4])\n",
    "    cursor.execute(sql_command)\n",
    "    \n",
    "connection.commit()\n",
    "\n",
    "connection.close()"
   ]
  },
  {
   "cell_type": "code",
   "execution_count": 10,
   "metadata": {},
   "outputs": [
    {
     "name": "stdout",
     "output_type": "stream",
     "text": [
      "All rows:\n",
      "(1, 'Alan', 'Shearer', 'England', 260, '1970-08-13')\n",
      "(2, 'Wayne', 'Rooney', 'England', 208, '1985-10-24')\n",
      "(3, 'Andrew', 'Cole', 'England', 187, '1971-10-15')\n",
      "(4, 'Frank', 'Lampard', 'England', 177, '1978-06-20')\n",
      "(5, 'Thierry', 'Henry', 'France', 180, '1977-08-17')\n"
     ]
    }
   ],
   "source": [
    "Show_Table()"
   ]
  },
  {
   "cell_type": "markdown",
   "metadata": {},
   "source": [
    "However, we entered another value by mistake for goal numbers.\n",
    "\n",
    "| Last Name | First Name | Nationality | Goals | Birthdate |\n",
    "|-----------|------------|-------------|-------|------------|\n",
    "| Thierry | Henry | France | 180 | 1977-08-17 |\n",
    "\n",
    " In this case, we can update the table as follows\n",
    " \n",
    "```UPDATE Players\n",
    "SET goals =175\n",
    "WHERE Rank=5;\n",
    "```"
   ]
  },
  {
   "cell_type": "code",
   "execution_count": 11,
   "metadata": {},
   "outputs": [],
   "source": [
    "connection = sqlite3.connect(\"mydatabase.db\")\n",
    "cursor = connection.cursor()\n",
    "# updating a row\n",
    "cursor.execute(\"\"\"UPDATE Players\n",
    "    SET goals =175\n",
    "    WHERE Rank=5;\"\"\")\n",
    "   \n",
    "connection.commit()\n",
    "connection.close()"
   ]
  },
  {
   "cell_type": "markdown",
   "metadata": {},
   "source": [
    "As a result, the table has been updated as follows,"
   ]
  },
  {
   "cell_type": "code",
   "execution_count": 12,
   "metadata": {
    "scrolled": true
   },
   "outputs": [
    {
     "name": "stdout",
     "output_type": "stream",
     "text": [
      "All rows:\n",
      "(1, 'Alan', 'Shearer', 'England', 260, '1970-08-13')\n",
      "(2, 'Wayne', 'Rooney', 'England', 208, '1985-10-24')\n",
      "(3, 'Andrew', 'Cole', 'England', 187, '1971-10-15')\n",
      "(4, 'Frank', 'Lampard', 'England', 177, '1978-06-20')\n",
      "(5, 'Thierry', 'Henry', 'France', 175, '1977-08-17')\n"
     ]
    }
   ],
   "source": [
    "Show_Table()"
   ]
  },
  {
   "cell_type": "markdown",
   "metadata": {},
   "source": [
    "## Copying a Table\n",
    "\n",
    "Syntax:\n",
    "\n",
    "```CREATE TABLE new_table AS SELECT * FROM original_table;```"
   ]
  },
  {
   "cell_type": "code",
   "execution_count": 13,
   "metadata": {},
   "outputs": [],
   "source": [
    "connection = sqlite3.connect(\"mydatabase.db\")\n",
    "cursor = connection.cursor()\n",
    "cursor.execute(\"CREATE TABLE new_Players AS SELECT * FROM Players;\")\n",
    "connection.commit()\n",
    "connection.close()"
   ]
  },
  {
   "cell_type": "markdown",
   "metadata": {},
   "source": [
    "## Deleting records in a table\n",
    "\n",
    "### Deleting a row\n",
    "\n",
    "syntax\n",
    "```DELETE FROM table_name WHERE condition;```"
   ]
  },
  {
   "cell_type": "code",
   "execution_count": 14,
   "metadata": {},
   "outputs": [],
   "source": [
    "connection = sqlite3.connect(\"mydatabase.db\")\n",
    "cursor = connection.cursor()\n",
    "cursor.execute(\"\"\"DELETE FROM new_Players WHERE Last_Name=\"Henry\";\"\"\")\n",
    "connection.commit()\n",
    "connection.close()"
   ]
  },
  {
   "cell_type": "markdown",
   "metadata": {},
   "source": [
    "Showing the *new_Player* table"
   ]
  },
  {
   "cell_type": "code",
   "execution_count": 15,
   "metadata": {
    "scrolled": true
   },
   "outputs": [
    {
     "name": "stdout",
     "output_type": "stream",
     "text": [
      "All rows:\n",
      "(1, 'Alan', 'Shearer', 'England', 260, '1970-08-13')\n",
      "(2, 'Wayne', 'Rooney', 'England', 208, '1985-10-24')\n",
      "(3, 'Andrew', 'Cole', 'England', 187, '1971-10-15')\n",
      "(4, 'Frank', 'Lampard', 'England', 177, '1978-06-20')\n"
     ]
    }
   ],
   "source": [
    "connection = sqlite3.connect(\"mydatabase.db\")\n",
    "cursor = connection.cursor()\n",
    "cursor.execute(\"SELECT * FROM new_Players\") \n",
    "print(\"All rows:\")\n",
    "result = cursor.fetchall() \n",
    "for row in result:\n",
    "    print(row)\n",
    "del row"
   ]
  },
  {
   "cell_type": "markdown",
   "metadata": {},
   "source": [
    "As can be seen, the last row is deleted."
   ]
  },
  {
   "cell_type": "markdown",
   "metadata": {},
   "source": [
    "### Deleting whole table\n",
    "\n",
    "syntax\n",
    "```DROP TABLE table_name;```"
   ]
  },
  {
   "cell_type": "code",
   "execution_count": 16,
   "metadata": {},
   "outputs": [],
   "source": [
    "connection = sqlite3.connect(\"mydatabase.db\")\n",
    "cursor = connection.cursor()\n",
    "cursor.execute(\"DROP TABLE new_Players;\")\n",
    "connection.commit()\n",
    "connection.close()"
   ]
  }
 ],
 "metadata": {
  "kernelspec": {
   "display_name": "Python 3",
   "language": "python",
   "name": "python3"
  },
  "language_info": {
   "codemirror_mode": {
    "name": "ipython",
    "version": 3
   },
   "file_extension": ".py",
   "mimetype": "text/x-python",
   "name": "python",
   "nbconvert_exporter": "python",
   "pygments_lexer": "ipython3",
   "version": "3.7.1"
  }
 },
 "nbformat": 4,
 "nbformat_minor": 2
}
