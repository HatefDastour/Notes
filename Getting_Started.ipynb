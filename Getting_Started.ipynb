{
 "cells": [
  {
   "cell_type": "markdown",
   "metadata": {},
   "source": [
    "# Getting Started with Python\n",
    "\n",
    "-------------------------------------------------------------------------------------\n",
    "\n",
    "\n",
    "* [1. Packages](#1.-Packages)\n",
    "* [2. Control Flow](#2.-Control-Flow)\n",
    "\t* [2.1. if Statements](#2.1.-if-Statements)\n",
    "\t* [2.2. Loops](#2.2.-Loops)\n",
    "\t\t* [2.2.1. for loops](#2.2.1.-for-loops)\n",
    "\t\t* [2.2.2. Nested loops](#2.2.2.-Nested-loops)\n",
    "\t\t* [2.2.3. While loops](#2.2.3.-While-loops)\n",
    "\t\t* [2.2.4. break](#2.2.4.-break)\n",
    "* [3. Defining a Function](#3.-Defining-a-Function)\n",
    "\t* [3.1. functions with two arguments](#3.1.-functions-with-two-arguments)\n",
    "* [4. Plots](#4.-Plots)\n",
    "\t* [4.1. Pyplot](#4.1.-Pyplot)\n",
    "\t* [4.2. subplot](#4.2.-subplot)\n",
    "\t* [4.3. Three-dimensional plotting](#4.3.-Three-dimensional-plotting)\n",
    "* [5. Symbolic computations in Python](#5.-Symbolic-computations-in-Python)\n",
    "* [6. Data Structures](#6.-Data-Structures)\n",
    "\t* [6.1. Lists](#6.1.-Lists)\n",
    "\t\t* [6.2. Using Lists as Queues](#6.2.-Using-Lists-as-Queues)\n",
    "\t\t*  [6.3. List Comprehensions](#6.3.-List-Comprehensions)\n",
    "* [7. Linear-algebra](#7.-Linear-algebra)\n",
    "\t* [7.1. Matrix](#7.1.-Matrix)\n",
    "\t\t* [7.1.1. zeros](#7.1.1.-zeros)\n",
    "\t\t* [7.1.2. Sparse matrices](#7.1.2.-Sparse-matrices)\n",
    "\t* [7.2. Dictionaries](#7.2.-Dictionaries)\n",
    "\t* [7.3. Manipulating data](#7.3.-Manipulating-data)\n",
    "\t\t* [7.3.1. Importing Data from Github](#7.3.1.-Importing-Data-from-Github)\n",
    "\t\t* [7.3.2. CSV File Reading and Writing](#7.3.2.-CSV-File-Reading-and-Writing)\n",
    "\t\t* [7.3.4. DataFrame](#7.3.4.-DataFrame)\n",
    "\n",
    "-------------------------------------------------------------------------------------\n",
    "\n",
    "\n",
    "In this notebook, we go through basic commands in python. Let's start with a simple command in Python. "
   ]
  },
  {
   "cell_type": "code",
   "execution_count": 1,
   "metadata": {
    "scrolled": true
   },
   "outputs": [
    {
     "name": "stdout",
     "output_type": "stream",
     "text": [
      "Hello World\n"
     ]
    }
   ],
   "source": [
    "print('Hello World')"
   ]
  },
  {
   "cell_type": "markdown",
   "metadata": {},
   "source": [
    "Certainly, we can create more complex commands using **print()** that interested readers can find some of them [here](https://docs.python.org/3/tutorial/inputoutput.html)."
   ]
  },
  {
   "cell_type": "markdown",
   "metadata": {},
   "source": [
    "# 1. Packages\n",
    "\n",
    "Packages are an essential part of python that can make tasks easier for users. We can use the following syntax to install packages:\n",
    "\n",
    "```!pip install packagename```\n",
    "\n",
    "**<font color='Blue'>Example</font>**: Installing ***numpy*** package."
   ]
  },
  {
   "cell_type": "code",
   "execution_count": 2,
   "metadata": {},
   "outputs": [
    {
     "name": "stdout",
     "output_type": "stream",
     "text": [
      "Requirement already satisfied: numpy in c:\\users\\hatef\\anaconda3\\lib\\site-packages (1.16.4)\n"
     ]
    }
   ],
   "source": [
    "!pip install numpy"
   ]
  },
  {
   "cell_type": "markdown",
   "metadata": {},
   "source": [
    "Some useful package:\n",
    "\n",
    "* **NumPy**: a package for computation and it includes a variety of tools from basic algebra to managing data.\n",
    "\n",
    "* **Pandas**: a package that is used to create dataframe using imported data (from user or URL). This package is crucial for data analyzing.\n",
    "\n",
    "* **SciPy**: a package for math, science, and engineering. It includes tools for optimization, linear algebra, integration, and many more.\n",
    "\n",
    "* **Plotly**: It is used for visualization and creating two-dimensional and three-dimensional graphs.\n",
    "\n",
    "One can import all contents of a package or import a particular part of it. We recommend importing packages using \"as\" feature (see blew for details). This allows importing many packages without being worried about any overlapping.\n",
    "\n",
    "* ```import abc```:  importing the contents of the package or module ***abc**.\n",
    "* ```from abc import xyz```:  importing only module or subpackage ***xyz*** from another package or module ***abc***.\n",
    "\n",
    "* ```import abc as other_name```: to assign an imported package or module ***abc*** as ***other_name***. \n",
    "\n",
    "**<font color='Blue'>Example</font>**:"
   ]
  },
  {
   "cell_type": "code",
   "execution_count": 3,
   "metadata": {},
   "outputs": [
    {
     "data": {
      "text/plain": [
       "3.141592653589793"
      ]
     },
     "execution_count": 3,
     "metadata": {},
     "output_type": "execute_result"
    }
   ],
   "source": [
    "# import numpy pcckage\n",
    "import numpy\n",
    "numpy.pi"
   ]
  },
  {
   "cell_type": "code",
   "execution_count": 4,
   "metadata": {},
   "outputs": [
    {
     "data": {
      "text/plain": [
       "3.141592653589793"
      ]
     },
     "execution_count": 4,
     "metadata": {},
     "output_type": "execute_result"
    }
   ],
   "source": [
    "# from numpy pcckage import everything\n",
    "from numpy import *\n",
    "# * means import everything\n",
    "pi"
   ]
  },
  {
   "cell_type": "code",
   "execution_count": 5,
   "metadata": {},
   "outputs": [
    {
     "data": {
      "text/plain": [
       "3.141592653589793"
      ]
     },
     "execution_count": 5,
     "metadata": {},
     "output_type": "execute_result"
    }
   ],
   "source": [
    "# import abc as other_name\n",
    "import numpy as np\n",
    "np.pi"
   ]
  },
  {
   "cell_type": "markdown",
   "metadata": {},
   "source": [
    "# 2. Control Flow\n",
    "\n",
    "Control flow includes ***Conditional statements***, ***loops***, ***branching***, ...\n",
    "\n",
    "## 2.1. if Statements\n",
    "We can use the following syntex to use ***if***, ***elif*** and ***else***.\n",
    "\n",
    "```if expression:\n",
    "    statements\n",
    "elif expression:\n",
    "    statements\n",
    "else:\n",
    "    statements\n",
    "end\n",
    "```\n",
    "\n",
    "**<font color='Blue'>Example</font>**: Checking wheter a given number $x$ is smaller than 10, equal 10 or greater than 10."
   ]
  },
  {
   "cell_type": "code",
   "execution_count": 6,
   "metadata": {},
   "outputs": [
    {
     "name": "stdout",
     "output_type": "stream",
     "text": [
      "X is equal 10\n"
     ]
    }
   ],
   "source": [
    "# given number x\n",
    "x = 10;\n",
    "# Checking wheter a given number  x  is smaller than 10, equal 10 or greater than 10\n",
    "if x<10:\n",
    "    print('X is smaller than 10')\n",
    "elif x==10:\n",
    "    print('X is equal 10')\n",
    "else:\n",
    "    print('X is greater than 10')"
   ]
  },
  {
   "cell_type": "markdown",
   "metadata": {},
   "source": [
    "**<font color='Blue'>Example</font>**: Checking wheter given number  $x$ and $y$ are smaller than 10, greater than 10 or none of above."
   ]
  },
  {
   "cell_type": "code",
   "execution_count": 7,
   "metadata": {},
   "outputs": [
    {
     "name": "stdout",
     "output_type": "stream",
     "text": [
      "x>10 & y<10\n"
     ]
    }
   ],
   "source": [
    "# given nubmers x and y\n",
    "x=11;y=9;\n",
    "# Checking wheter given number  x and y are smaller than 10, greater than 10 or none of above.\n",
    "if (x>10) & (y<10):\n",
    "    print('x>10 & y<10')\n",
    "elif (x<=10) & (y<10):\n",
    "    print('x<=10 & y<10')\n",
    "elif (x<=10) & (y>=10):\n",
    "    print('x<=10 & y>=10')\n",
    "else:\n",
    "    print('None of above')"
   ]
  },
  {
   "cell_type": "markdown",
   "metadata": {},
   "source": [
    "## 2.2. Loops\n",
    "\n",
    "Loops are used for iterating a process. Two popular loops are **for** and **while** loops.\n",
    "\n",
    "### 2.2.1. for loops\n",
    "***for*** loop is used to repeat some statements  for a specified number of times.\n",
    "\n",
    "**Syntax**:\n",
    "```\n",
    "for index in values:\n",
    "    statements\n",
    "```\n",
    "\n",
    "**<font color='Blue'>Example</font>**: Let's generate the following sequence using Python\n",
    "$$\\{ 0, 1, 3, 6, 10, \\ldots\\}$$"
   ]
  },
  {
   "cell_type": "code",
   "execution_count": 8,
   "metadata": {},
   "outputs": [
    {
     "name": "stdout",
     "output_type": "stream",
     "text": [
      "S_0=0\n",
      "S_1=1\n",
      "S_2=3\n",
      "S_3=6\n",
      "S_4=10\n",
      "S_5=15\n",
      "S_6=21\n",
      "S_7=28\n",
      "S_8=36\n",
      "S_9=45\n"
     ]
    }
   ],
   "source": [
    "# the first 10 elements of the sequence\n",
    "S=0;N=10;\n",
    "for i in range(0,N):\n",
    "    S+=i\n",
    "    print(\"S_%d=%d\" % (i,S))"
   ]
  },
  {
   "cell_type": "markdown",
   "metadata": {},
   "source": [
    "To loop over a sequence in reverse, first specify the sequence in a forward direction and then call the [reversed()](https://docs.python.org/3/library/functions.html#reversed) function.\n",
    "\n",
    "**<font color='Blue'>Example</font>**:"
   ]
  },
  {
   "cell_type": "code",
   "execution_count": 9,
   "metadata": {},
   "outputs": [
    {
     "name": "stdout",
     "output_type": "stream",
     "text": [
      "S_4=4\n",
      "S_3=3\n",
      "S_2=2\n",
      "S_1=1\n",
      "S_0=0\n"
     ]
    }
   ],
   "source": [
    "N=5;\n",
    "for i in reversed(range(0,N)):\n",
    "    S=i\n",
    "    print(\"S_%d=%d\" % (i,S))"
   ]
  },
  {
   "cell_type": "markdown",
   "metadata": {},
   "source": [
    "### 2.2.2. Nested loops\n",
    "\n",
    "Implementing a loop inside another loop is called a nested loop. For example, we can \n",
    "\n",
    "```for loop: # Outer loop\n",
    "    [doing something using the outer loop iteration]  # Optional\n",
    "    for loop:   # Nested loop\n",
    "        [doing something using nested loop iteration]\n",
    "        ```\n",
    "        \n",
    "**<font color='Blue'>Example</font>**:"
   ]
  },
  {
   "cell_type": "code",
   "execution_count": 10,
   "metadata": {},
   "outputs": [
    {
     "name": "stdout",
     "output_type": "stream",
     "text": [
      "1+1=2\n",
      "1+2=3\n",
      "1+3=4\n",
      "2+1=3\n",
      "2+2=4\n",
      "2+3=5\n"
     ]
    }
   ],
   "source": [
    "for i in range(1,3):\n",
    "    for j in range(1,4):\n",
    "        print(\"%d+%d=%d\" % (i,j,i+j))"
   ]
  },
  {
   "cell_type": "markdown",
   "metadata": {},
   "source": [
    "**<font color='red'>Note</font>**: the the ***second*** loops runs first.\n",
    "\n",
    "**<font color='Blue'>Example</font>**:"
   ]
  },
  {
   "cell_type": "code",
   "execution_count": 11,
   "metadata": {},
   "outputs": [
    {
     "name": "stdout",
     "output_type": "stream",
     "text": [
      "a and 1\n",
      "b and 1\n",
      "c and 1\n",
      "a and 2\n",
      "b and 2\n",
      "c and 2\n",
      "a and 3\n",
      "b and 3\n",
      "c and 3\n"
     ]
    }
   ],
   "source": [
    "num_list = [1, 2, 3]\n",
    "alpha_list = ['a', 'b', 'c']\n",
    "\n",
    "for N in num_list:\n",
    "    for L in alpha_list:\n",
    "        print(\"%s and %d\" % (L,N))"
   ]
  },
  {
   "cell_type": "markdown",
   "metadata": {},
   "source": [
    "### 2.2.3. While loops\n",
    "\n",
    "while loop is used to repeat some statements when condition is true\n",
    "\n",
    "**Syntax**:\n",
    "```\n",
    "while expression:\n",
    "    statements\n",
    "```\n",
    "\n",
    "**<font color='Blue'>Example</font>**:"
   ]
  },
  {
   "cell_type": "code",
   "execution_count": 12,
   "metadata": {},
   "outputs": [
    {
     "name": "stdout",
     "output_type": "stream",
     "text": [
      "Sum of 1 until 100: 5050\n"
     ]
    }
   ],
   "source": [
    "n = 100\n",
    "\n",
    "s = 0\n",
    "counter = 1\n",
    "while counter <= n:\n",
    "    s = s + counter\n",
    "    counter += 1\n",
    "\n",
    "print(\"Sum of 1 until %d: %d\" % (n,s))"
   ]
  },
  {
   "cell_type": "markdown",
   "metadata": {},
   "source": [
    "We can generate the sequnece $\\{ 0, 1, 3, 6, 10, \\ldots\\}$ using *while* loop as well."
   ]
  },
  {
   "cell_type": "code",
   "execution_count": 13,
   "metadata": {},
   "outputs": [
    {
     "name": "stdout",
     "output_type": "stream",
     "text": [
      "S_0=0\n",
      "S_1=1\n",
      "S_2=3\n",
      "S_3=6\n",
      "S_4=10\n",
      "S_5=15\n",
      "S_6=21\n",
      "S_7=28\n",
      "S_8=36\n",
      "S_9=45\n"
     ]
    }
   ],
   "source": [
    "# the first 10 elements of the sequence\n",
    "S=0;N=10;i=0;\n",
    "while i<N:\n",
    "    S+=i\n",
    "    print(\"S_%d=%d\" % (i,S))\n",
    "    i+=1;"
   ]
  },
  {
   "cell_type": "markdown",
   "metadata": {},
   "source": [
    "### 2.2.4. break\n",
    "[source *python.org*]\n",
    "\n",
    "The break statement, like in C, breaks out of the innermost enclosing for or while loop.\n",
    "\n",
    "Loop statements may have an else clause; it is executed when the loop terminates through exhaustion of the list (with for) or when the condition becomes false (with while), but not when the loop is terminated by a break statement.\n",
    "\n",
    "\n",
    "**<font color='Blue'>Example</font>**:"
   ]
  },
  {
   "cell_type": "code",
   "execution_count": 14,
   "metadata": {},
   "outputs": [
    {
     "name": "stdout",
     "output_type": "stream",
     "text": [
      "1+1=2\n",
      "1+2=3\n",
      "1+3=4\n",
      "2+1=3\n",
      "2+2=4\n"
     ]
    }
   ],
   "source": [
    "for i in range(1,3):\n",
    "    for j in range(1,4):\n",
    "        if i+j==5:\n",
    "            break\n",
    "        else:\n",
    "            print(\"%d+%d=%d\" % (i,j,i+j))"
   ]
  },
  {
   "cell_type": "markdown",
   "metadata": {},
   "source": [
    "**<font color='Blue'>Example</font>**:"
   ]
  },
  {
   "cell_type": "code",
   "execution_count": 15,
   "metadata": {},
   "outputs": [
    {
     "name": "stdout",
     "output_type": "stream",
     "text": [
      "2+3=5\n"
     ]
    }
   ],
   "source": [
    "for i in range(1,3):\n",
    "    for j in range(1,4):\n",
    "        if i+j!=5:\n",
    "            continue\n",
    "        else:\n",
    "            print(\"%d+%d=%d\" % (i,j,i+j))"
   ]
  },
  {
   "cell_type": "markdown",
   "metadata": {},
   "source": [
    "# 3. Defining a Function\n",
    "**Syntax**\n",
    "\n",
    "```def functionname( parameters ):\n",
    "   \"function_docstring\"\n",
    "   function_suite\n",
    "   return [expression]\n",
    "   ```\n",
    "   \n",
    "**<font color='Blue'>Example</font>**:"
   ]
  },
  {
   "cell_type": "code",
   "execution_count": 16,
   "metadata": {},
   "outputs": [],
   "source": [
    "def Add3( x ):\n",
    "    \"This function adds 3 to x\"\n",
    "    print (x+3)\n",
    "    return"
   ]
  },
  {
   "cell_type": "code",
   "execution_count": 17,
   "metadata": {},
   "outputs": [
    {
     "name": "stdout",
     "output_type": "stream",
     "text": [
      "4\n",
      "5\n"
     ]
    }
   ],
   "source": [
    "# x=1 \n",
    "Add3(1),\n",
    "# x=2\n",
    "Add3(2)"
   ]
  },
  {
   "cell_type": "markdown",
   "metadata": {},
   "source": [
    "## 3.1. functions with two arguments"
   ]
  },
  {
   "cell_type": "code",
   "execution_count": 18,
   "metadata": {},
   "outputs": [],
   "source": [
    "def printinfo( name, age = 35 ):\n",
    "  # print name\n",
    "    print (\"Name: \", name)\n",
    "    # print age. If age is not defined, the default value is 35.\n",
    "    print (\"Age \", age)\n",
    "    return"
   ]
  },
  {
   "cell_type": "code",
   "execution_count": 19,
   "metadata": {},
   "outputs": [
    {
     "name": "stdout",
     "output_type": "stream",
     "text": [
      "Name:  Henry\n",
      "Age  50\n",
      "Name:  Henry\n",
      "Age  35\n"
     ]
    }
   ],
   "source": [
    "printinfo( age = 50, name = \"Henry\" )\n",
    "printinfo( name = \"Henry\" )"
   ]
  },
  {
   "cell_type": "markdown",
   "metadata": {},
   "source": [
    "**<font color='Blue'>Example</font>**: the following function takes $x$ and $y$ and retruns $x^2$ and $y^2$."
   ]
  },
  {
   "cell_type": "code",
   "execution_count": 20,
   "metadata": {},
   "outputs": [],
   "source": [
    "# the following function takes x and y and retruns x^2 and y^2.\n",
    "def square(x,y):\n",
    "    return x*x, y*y"
   ]
  },
  {
   "cell_type": "code",
   "execution_count": 21,
   "metadata": {},
   "outputs": [
    {
     "name": "stdout",
     "output_type": "stream",
     "text": [
      "9\n",
      "100\n"
     ]
    }
   ],
   "source": [
    "x2, y2 = square(3,10)\n",
    "print(x2)\n",
    "print(y2) "
   ]
  },
  {
   "cell_type": "markdown",
   "metadata": {},
   "source": [
    "# 4. Plots\n",
    "## 4.1. Pyplot\n",
    "\n",
    "Pyplot from matplotlib (i.e. matplotlib.pyplot) provides a wide variety of function that can be compared with MATLAB plot functions.\n",
    "\n",
    "\n",
    "**<font color='Blue'>Example</font>**: Let's plot a line using $\\{(1,2),(2,4),(3,6),(4,8)\\}$."
   ]
  },
  {
   "cell_type": "code",
   "execution_count": 22,
   "metadata": {
    "scrolled": true
   },
   "outputs": [
    {
     "data": {
      "text/plain": [
       "<Figure size 640x480 with 1 Axes>"
      ]
     },
     "metadata": {},
     "output_type": "display_data"
    }
   ],
   "source": [
    "import matplotlib.pyplot as plt\n",
    "# define X\n",
    "X=[1,2,3,4]\n",
    "# define Y\n",
    "Y=[2,4,6,8]\n",
    "# ploting (X,Y)\n",
    "plt.plot(X,Y)\n",
    "plt.xlabel('x label')\n",
    "plt.ylabel('y label')\n",
    "plt.title('matplotlib plot using plot')\n",
    "plt.show()"
   ]
  },
  {
   "cell_type": "markdown",
   "metadata": {},
   "source": [
    "We also can use the following command to use ***plot***"
   ]
  },
  {
   "cell_type": "code",
   "execution_count": 23,
   "metadata": {},
   "outputs": [
    {
     "data": {
      "image/png": "[encoded data removed]",
      "text/plain": [
       "<Figure size 432x288 with 1 Axes>"
      ]
     },
     "metadata": {
      "needs_background": "light"
     },
     "output_type": "display_data"
    }
   ],
   "source": [
    "from matplotlib.pyplot import *\n",
    "X=[1,2,3,4];Y=[2,4,6,8];\n",
    "plot(X,Y)\n",
    "xlabel('x label'),ylabel('y label'),title('matplotlib plot using plot')\n",
    "show()"
   ]
  },
  {
   "cell_type": "markdown",
   "metadata": {},
   "source": [
    "We also can use ```scatter``` to plot discrete data. For Example,"
   ]
  },
  {
   "cell_type": "code",
   "execution_count": 24,
   "metadata": {},
   "outputs": [
    {
     "data": {
      "image/png": "[encoded data removed]",
      "text/plain": [
       "<Figure size 576x576 with 1 Axes>"
      ]
     },
     "metadata": {
      "needs_background": "light"
     },
     "output_type": "display_data"
    }
   ],
   "source": [
    "import matplotlib.pyplot as plt\n",
    "X=[1,2,3,4]\n",
    "Y=[2,4,6,8]\n",
    "# Figure size is Figure size 800x800 with 1 Axes\n",
    "plt.figure(figsize = (8, 8))\n",
    "plt.scatter(X,Y)\n",
    "plt.xlabel('x label')\n",
    "plt.ylabel('y label')\n",
    "plt.title('matplotlib plot using scatter')\n",
    "plt.show()"
   ]
  },
  {
   "cell_type": "markdown",
   "metadata": {},
   "source": [
    "**<font color='Blue'>Example</font>**: Let's plot $\\cos(\\pi t)$ with $0\\leq t \\leq 5$"
   ]
  },
  {
   "cell_type": "code",
   "execution_count": 25,
   "metadata": {},
   "outputs": [
    {
     "data": {
      "text/plain": [
       "[<matplotlib.lines.Line2D at 0x1eb7a101cf8>]"
      ]
     },
     "execution_count": 25,
     "metadata": {},
     "output_type": "execute_result"
    },
    {
     "data": {
      "image/png": "[encoded data removed]",
      "text/plain": [
       "<Figure size 720x360 with 1 Axes>"
      ]
     },
     "metadata": {
      "needs_background": "light"
     },
     "output_type": "display_data"
    }
   ],
   "source": [
    "import numpy as np\n",
    "import matplotlib.pyplot as plt\n",
    "\n",
    "## definining a function\n",
    "def f(t):\n",
    "    return np.cos(np.pi*t)\n",
    "# discretizing [0,5] with dh=0.1\n",
    "t = np.arange(0.0, 5.0, 0.1)\n",
    "plt.figure(figsize = (10, 5))\n",
    "plt.plot(t, f(t), 'k:')"
   ]
  },
  {
   "cell_type": "markdown",
   "metadata": {},
   "source": [
    "\n",
    "* The hist() function automatically generates histograms and returns the bin counts or probabilities.\n",
    "\n",
    "**<font color='Blue'>Example</font>**: The hist() function automatically generates histograms and returns the bin counts or probabilities."
   ]
  },
  {
   "cell_type": "code",
   "execution_count": 26,
   "metadata": {},
   "outputs": [
    {
     "data": {
      "image/png": "[encoded data removed]",
      "text/plain": [
       "<Figure size 432x288 with 1 Axes>"
      ]
     },
     "metadata": {
      "needs_background": "light"
     },
     "output_type": "display_data"
    }
   ],
   "source": [
    "import numpy as np\n",
    "import matplotlib.pyplot as plt\n",
    "\n",
    "# Fixing random state for reproducibility\n",
    "np.random.seed(19680801)\n",
    "\n",
    "mu, sigma = 100, 15\n",
    "# random.randn(10000) creates a random array with the size of 10000\n",
    "x = mu + sigma * np.random.randn(10000)\n",
    "\n",
    "# the histogram of the data\n",
    "n, bins, patches = plt.hist(x, 50, density=True, facecolor='b', alpha=0.75)\n",
    "\n",
    "\n",
    "plt.xlabel('Smarts')\n",
    "plt.ylabel('Probability')\n",
    "plt.title('Histogram of IQ')\n",
    "\n",
    "plt.text(60, .025, r'$\\mu=100,\\ \\sigma=15$')\n",
    "plt.axis([40, 160, 0, 0.03])\n",
    "plt.grid(True)\n",
    "plt.show()\n"
   ]
  },
  {
   "cell_type": "markdown",
   "metadata": {},
   "source": [
    "## 4.2. subplot\n",
    "\n",
    "Sometimes, it is more convenient to include more than one plot in a figure. Doins so, we can use **subplot**."
   ]
  },
  {
   "cell_type": "code",
   "execution_count": 27,
   "metadata": {},
   "outputs": [
    {
     "data": {
      "image/png": "[encoded data removed]",
      "text/plain": [
       "<Figure size 720x360 with 2 Axes>"
      ]
     },
     "metadata": {
      "needs_background": "light"
     },
     "output_type": "display_data"
    }
   ],
   "source": [
    "import numpy as np\n",
    "import matplotlib.pyplot as plt\n",
    "\n",
    "# defining a function using lambda (simlar to @ in MATLAB)\n",
    "f= lambda t : np.exp(-t)*np.cos(np.pi*t)\n",
    "# discretizing\n",
    "t1 = np.arange(0.0, 5.0, 0.1)\n",
    "t2 = np.arange(0.0, 5.0, 0.02)\n",
    "\n",
    "plt.subplots(figsize = (10, 5))\n",
    "# The first subplot\n",
    "plt.subplot(211)\n",
    "plt.plot(t1, f(t1), 'bo', t2, f(t2), 'k')\n",
    "plt.grid()\n",
    "# The second subplot is plotting cos(2*np.pi*t2) but we do this using a different approach than the first one\n",
    "plt.subplot(212)\n",
    "plt.plot(t2, np.cos(2*np.pi*t2), 'r--')\n",
    "plt.grid()\n",
    "plt.show()"
   ]
  },
  {
   "cell_type": "markdown",
   "metadata": {},
   "source": [
    "## 4.3. Three-dimensional plotting\n",
    "\n",
    "We can use **mplot3d** from **mpl_toolkits** to generate 3D plots.\n",
    "\n",
    "**<font color='Blue'>Example</font>**: For example, let's plot $z=x^2+y^2$ with $-4\\leq x,y\\leq 4$."
   ]
  },
  {
   "cell_type": "code",
   "execution_count": 28,
   "metadata": {},
   "outputs": [
    {
     "data": {
      "image/png": "[encoded data removed]",
      "text/plain": [
       "<Figure size 1440x720 with 2 Axes>"
      ]
     },
     "metadata": {
      "needs_background": "light"
     },
     "output_type": "display_data"
    }
   ],
   "source": [
    "from mpl_toolkits.mplot3d import Axes3D\n",
    "\n",
    "import matplotlib.pyplot as plt\n",
    "from matplotlib import cm\n",
    "from matplotlib.ticker import LinearLocator, FormatStrFormatter\n",
    "import numpy as np\n",
    "\n",
    "\n",
    "fig = plt.figure(figsize = (20, 10))\n",
    "ax = fig.gca(projection='3d')\n",
    "\n",
    "# Make data.\n",
    "X = np.arange(-4, 4, 0.02)\n",
    "Y = np.arange(-4, 4, 0.02)\n",
    "X, Y = np.meshgrid(X, Y)\n",
    "R = np.sqrt(X**2 + Y**2)\n",
    "Z = np.sin(R)\n",
    "\n",
    "# Plot the surface.\n",
    "surf = ax.plot_surface(X, Y, Z, cmap=cm.coolwarm,\n",
    "                       linewidth=0, antialiased=False)\n",
    "\n",
    "# Customize the z axis.\n",
    "ax.set_zlim(-2.00, 2.00)\n",
    "ax.zaxis.set_major_locator(LinearLocator(10))\n",
    "ax.zaxis.set_major_formatter(FormatStrFormatter('%.02f'))\n",
    "\n",
    "# Add a color bar which maps values to colors.\n",
    "fig.colorbar(surf, shrink=0.5, aspect=5)\n",
    "\n",
    "plt.show()"
   ]
  },
  {
   "cell_type": "markdown",
   "metadata": {},
   "source": [
    "For more examples of plots, please check [here](https://matplotlib.org/tutorials/introductory/sample_plots.html)."
   ]
  },
  {
   "cell_type": "markdown",
   "metadata": {},
   "source": [
    "# 5. Symbolic computations in Python\n",
    "\n",
    "Let us define a symbolic expression and appy some useful functions on it [[source]](http://scipy-lectures.org/advanced/sympy.html).\n",
    "\n",
    "| Function \t| Description \t|\n",
    "|:------------------------------------:\t|:--------------------------------------------------:\t|\n",
    "| expand(expr) \t| expands the arithmetical expression expr. \t|\n",
    "| simplify(expr) \t| transforms an expression into a simpler form. \t|\n",
    "| factor(expr) \t| Factors a polynomial into irreducible polynomials. \t|\n",
    "| diff(func, var, n) \t| Returns nth derivative of func . \t|\n",
    "| integrate(func, var) \t| Evaluates Indefinite integral \t|\n",
    "| integrate(func, (var, a, b)) \t| Evaluates Definite integral \t|\n",
    "| limit(function, variable, point) \t| Evaluates Limit of symbolic expression. \t|\n",
    "| series(expr, var, point, order) \t| Taylor series of an expression at a point. \t|\n",
    "| solve \t| Equations and systems solver. \t|\n",
    "| dsolve \t| solves differential equations. \t|"
   ]
  },
  {
   "cell_type": "code",
   "execution_count": 29,
   "metadata": {},
   "outputs": [],
   "source": [
    "from sympy import *\n",
    "x, y = symbols('x y')"
   ]
  },
  {
   "cell_type": "markdown",
   "metadata": {},
   "source": [
    "**<font color='Blue'>Example</font>**: (```expand```, ```simplify``` and ```factor```)"
   ]
  },
  {
   "cell_type": "code",
   "execution_count": 30,
   "metadata": {},
   "outputs": [
    {
     "name": "stdout",
     "output_type": "stream",
     "text": [
      "f^2=(x**2 + 2*x*y)**2\n",
      "expand = x**4 + 4*x**3*y + 4*x**2*y**2\n",
      "simplify = x**2*(x + 2*y)**2\n",
      "factor = x**2*(x + 2*y)**2\n"
     ]
    }
   ],
   "source": [
    "# expand\n",
    "f = x**2 + 2*x*y\n",
    "print(\"f^2=%s\" % (f*f))\n",
    "print(\"expand = %s\" % expand(f*f))\n",
    "print(\"simplify = %s\" % simplify(f*f))\n",
    "print(\"factor = %s\" % factor(f*f))"
   ]
  },
  {
   "cell_type": "markdown",
   "metadata": {},
   "source": [
    "**<font color='Blue'>Example</font>**: (```diff```)"
   ]
  },
  {
   "cell_type": "code",
   "execution_count": 31,
   "metadata": {},
   "outputs": [
    {
     "name": "stdout",
     "output_type": "stream",
     "text": [
      "f=x**2 + 2*x*y\n",
      "f_x=2*x + 2*y\n",
      "f_y=2*x\n",
      "f_xx=2\n",
      "f_yx=2\n"
     ]
    }
   ],
   "source": [
    "print(\"f=%s\" % (f))\n",
    "print(\"f_x=%s\" % diff(f, x))\n",
    "print(\"f_y=%s\" % diff(f, y))\n",
    "print(\"f_xx=%s\" % diff(f, x, 2))\n",
    "print(\"f_yx=%s\" % diff(diff(f, y),x))"
   ]
  },
  {
   "cell_type": "markdown",
   "metadata": {},
   "source": [
    "**<font color='Blue'>Example</font>**: (```integrate```)"
   ]
  },
  {
   "cell_type": "code",
   "execution_count": 32,
   "metadata": {},
   "outputs": [
    {
     "name": "stdout",
     "output_type": "stream",
     "text": [
      "f=x**2 + 2*x*y\n",
      "Indefinite integral (with respect to x) = x**3/3 + x**2*y\n",
      "Indefinite integral (with respect to y) = x**2*y + x*y**2\n",
      "Definite integral (with respect to x on [2,3]) = 5*y + 19/3\n",
      "Definite integral (with respect to y on [2,3]) = x**2 + 5*x\n"
     ]
    }
   ],
   "source": [
    "print(\"f=%s\" % (f))\n",
    "print(\"Indefinite integral (with respect to x) = %s\" % integrate(f, x))\n",
    "print(\"Indefinite integral (with respect to y) = %s\" % integrate(f, y))\n",
    "\n",
    "print(\"Definite integral (with respect to x on [2,3]) = %s\" % integrate(f, (x,2,3)))\n",
    "print(\"Definite integral (with respect to y on [2,3]) = %s\" % integrate(f, (y,2,3)))"
   ]
  },
  {
   "cell_type": "markdown",
   "metadata": {},
   "source": [
    "**<font color='Blue'>Example</font>**: Let's compute\n",
    "* (a) $\\int_{-\\infty}^\\infty \\sin{(x^2)}\\,dx$\n",
    "* (b) $\\lim_{x\\to 0}\\frac{\\sin{(x)}}{x}$\n",
    "* (c) $\\lim_{x\\to -\\infty}\\exp(x)$"
   ]
  },
  {
   "cell_type": "code",
   "execution_count": 33,
   "metadata": {},
   "outputs": [
    {
     "name": "stdout",
     "output_type": "stream",
     "text": [
      "a=sqrt(2)*sqrt(pi)/2\n",
      "b=1\n",
      "c=0\n"
     ]
    }
   ],
   "source": [
    "## a\n",
    "print(\"a=%s\" % integrate(sin(x**2), (x, -oo, oo)))\n",
    "## b\n",
    "print(\"b=%s\" % limit(sin(x)/x, x, 0))\n",
    "## c\n",
    "print(\"c=%s\" % limit(exp(x), x, -oo))"
   ]
  },
  {
   "cell_type": "markdown",
   "metadata": {},
   "source": [
    "**<font color='Blue'>Example</font>**: Evaluate Taylor series of\n",
    "* (a) $\\sin(x)$ at $x=0$\n",
    "* (a) $\\cos(x)$ at $x=1$"
   ]
  },
  {
   "cell_type": "code",
   "execution_count": 34,
   "metadata": {},
   "outputs": [
    {
     "name": "stdout",
     "output_type": "stream",
     "text": [
      "(a) Taylor series of sin(x) at x=0 : x - x**3/6 + x**5/120 + O(x**6) \n",
      "(b) Taylor series of cos(x) at x=0 : cos(1) - (x - 1)*sin(1) - (x - 1)**2*cos(1)/2 + O((x - 1)**3, (x, 1)) \n"
     ]
    }
   ],
   "source": [
    "## a\n",
    "print(\"(a) Taylor series of sin(x) at x=0 : %s \" % series(sin(x), x))\n",
    "## b\n",
    "print(\"(b) Taylor series of cos(x) at x=0 : %s \" % series(cos(x), x, 1, 3))"
   ]
  },
  {
   "cell_type": "markdown",
   "metadata": {},
   "source": [
    "**<font color='Blue'>Example</font>**: Let's solve the following equations\n",
    "* (a) $x^3-1=0$ for $x$\n",
    "* (b) $x+y=2$ for $y$"
   ]
  },
  {
   "cell_type": "code",
   "execution_count": 35,
   "metadata": {},
   "outputs": [
    {
     "data": {
      "text/plain": [
       "[1, -1/2 - sqrt(3)*I/2, -1/2 + sqrt(3)*I/2]"
      ]
     },
     "execution_count": 35,
     "metadata": {},
     "output_type": "execute_result"
    }
   ],
   "source": [
    "solve(x**3 - 1, x)"
   ]
  },
  {
   "cell_type": "code",
   "execution_count": 36,
   "metadata": {},
   "outputs": [
    {
     "data": {
      "text/plain": [
       "[2 - x]"
      ]
     },
     "execution_count": 36,
     "metadata": {},
     "output_type": "execute_result"
    }
   ],
   "source": [
    "solve(x+y-2, y)"
   ]
  },
  {
   "cell_type": "markdown",
   "metadata": {},
   "source": [
    "**<font color='Blue'>Example</font>**: Let's solve the differential equation  $y'' - y = e^x$."
   ]
  },
  {
   "cell_type": "code",
   "execution_count": 37,
   "metadata": {},
   "outputs": [
    {
     "data": {
      "image/png": "[encoded data removed]",
      "text/latex": [
       "$\\displaystyle y{\\left(x \\right)} = C_{2} e^{- x} + \\left(C_{1} + \\frac{x}{2}\\right) e^{x}$"
      ],
      "text/plain": [
       "           -x   ⎛     x⎞  x\n",
       "y(x) = C₂⋅ℯ   + ⎜C₁ + ─⎟⋅ℯ \n",
       "                ⎝     2⎠   "
      ]
     },
     "execution_count": 37,
     "metadata": {},
     "output_type": "execute_result"
    }
   ],
   "source": [
    "## displaying the soltuion in laTex format\n",
    "init_printing(use_unicode=True)\n",
    "#\n",
    "from sympy import Function, dsolve, Eq, Derivative, sin, cos, symbols\n",
    "from sympy.abc import x\n",
    "y = Function('y')\n",
    "dsolve(Derivative(y(x), x, x) -y(x)-exp(x), y(x))"
   ]
  },
  {
   "cell_type": "markdown",
   "metadata": {},
   "source": [
    "We also can find the eigenvalues of a marix using Python\n",
    "\n",
    "**<font color='Blue'>Example</font>**: Matrices"
   ]
  },
  {
   "cell_type": "code",
   "execution_count": 38,
   "metadata": {},
   "outputs": [
    {
     "data": {
      "image/png": "[encoded data removed]",
      "text/latex": [
       "$\\displaystyle \\left\\{ -2 : 1, \\  4 : 1\\right\\}$"
      ],
      "text/plain": [
       "{-2: 1, 4: 1}"
      ]
     },
     "execution_count": 38,
     "metadata": {},
     "output_type": "execute_result"
    }
   ],
   "source": [
    "Matrix([[1, 3], [3, 1]]).eigenvals()"
   ]
  },
  {
   "cell_type": "code",
   "execution_count": 39,
   "metadata": {},
   "outputs": [
    {
     "data": {
      "image/png": "[encoded data removed]",
      "text/latex": [
       "$\\displaystyle \\left\\{ - x y : 1, \\  x y : 1\\right\\}$"
      ],
      "text/plain": [
       "{-x⋅y: 1, x⋅y: 1}"
      ]
     },
     "execution_count": 39,
     "metadata": {},
     "output_type": "execute_result"
    }
   ],
   "source": [
    "x, y = symbols('x y')\n",
    "Matrix([[0,x*x], [y*y,0]]).eigenvals()"
   ]
  },
  {
   "cell_type": "markdown",
   "metadata": {},
   "source": [
    "Finally, we can print outputs in $\\LaTeX$ format.\n",
    "\n",
    "**<font color='Blue'>Example</font>**: "
   ]
  },
  {
   "cell_type": "code",
   "execution_count": 40,
   "metadata": {},
   "outputs": [
    {
     "data": {
      "text/plain": [
       "'\\\\int\\\\limits_{0}^{\\\\pi} \\\\cos^{2}{\\\\left(x \\\\right)}\\\\, dx'"
      ]
     },
     "execution_count": 40,
     "metadata": {},
     "output_type": "execute_result"
    }
   ],
   "source": [
    "latex(Integral(cos(x)**2, (x, 0, pi)))"
   ]
  },
  {
   "cell_type": "markdown",
   "metadata": {},
   "source": [
    "# 6. Data Structures\n",
    "\n",
    "## 6.1. Lists\n",
    "\n",
    "| Syntax \t| Description \t|\n",
    "|------------------------------------\t|-----------------------------------------------------------------------------------------------------------------------------\t|\n",
    "| list.append(x) \t| Add an item to the end of a  list. \t|\n",
    "| list.extend(iterable) \t| Extend a list by appending all the items from the iterable. \t|\n",
    "| list.insert(i, x) \t| Insert an item at a given position of a list. \t|\n",
    "| list.remove(x) \t| Remove the first item from a list whose value is equal to x. \t|\n",
    "| list.pop([i]) \t    | Remove the item at the given position in a list, and return it. \t|\n",
    "| list.clear() \t| Remove all items from a list. \t|\n",
    "| list.index(x[, start[, end]])\t| Return zero-based index in a list of the first item whose value is equal to x. \t|\n",
    "| list.count(x)\t| Return the number of times x appears in the list \t|\n",
    "| list.sort(key=None, reverse=False)     | Sort the items of the list in place. \t|\n",
    "| list.reverse() \t| Reverse the elements of the list in place. \t|\n",
    "| list.copy() \t    | Return a shallow copy of the list.|\n",
    "\n",
    "Here are all of the methods of list objects ([source](https://docs.python.org/3/tutorial/datastructures.html)):\n",
    "\n",
    "**<font color='Blue'>Example</font>**:"
   ]
  },
  {
   "cell_type": "code",
   "execution_count": 41,
   "metadata": {},
   "outputs": [
    {
     "name": "stdout",
     "output_type": "stream",
     "text": [
      "L = [1, 2, 3]\n",
      "append: Add 5 to the end of a list.\n",
      "L = [1, 2, 3, 5]\n",
      "extend: Extend a list by appending [6,7].\n",
      "L = [1, 2, 3, 5, 6, 7]\n",
      "insert: Insert 0 at position 0 of a list.\n",
      "L = [0, 1, 2, 3, 5, 6, 7]\n",
      "insert: Insert 1.5 at position 2 of a list.\n",
      "L = [0, 1, 1.5, 2, 3, 5, 6, 7]\n",
      "remove: remove 2 from the list\n",
      "L = [0, 1, 1.5, 3, 5, 6, 7]\n",
      "remove: remove 1 from the list\n",
      "L = [0, 1.5, 3, 5, 6, 7]\n"
     ]
    }
   ],
   "source": [
    "L=list(range(1,4))\n",
    "print('L = %s' % L)\n",
    "print('append: Add 5 to the end of a list.')\n",
    "L.append(5)\n",
    "print('L = %s' % L)\n",
    "print('extend: Extend a list by appending [6,7].')\n",
    "L.extend([6,7])\n",
    "print('L = %s' % L)\n",
    "print('insert: Insert 0 at position 0 of a list.')\n",
    "L.insert(0, 0)\n",
    "print('L = %s' % L)\n",
    "print('insert: Insert 1.5 at position 2 of a list.')\n",
    "L.insert(2, 1.5)\n",
    "print('L = %s' % L)\n",
    "print('remove: remove 2 from the list')\n",
    "L.remove(2)\n",
    "print('L = %s' % L)\n",
    "print('remove: remove 1 from the list')\n",
    "L.remove(1)\n",
    "print('L = %s' % L)"
   ]
  },
  {
   "cell_type": "markdown",
   "metadata": {},
   "source": [
    "**<font color='Blue'>Example</font>**:"
   ]
  },
  {
   "cell_type": "code",
   "execution_count": 42,
   "metadata": {},
   "outputs": [
    {
     "name": "stdout",
     "output_type": "stream",
     "text": [
      "L = [1, 2, 3, 4]\n",
      "The first item of the list is 1\n",
      "The second item of the list is 2\n",
      "The last item of the list is 4\n"
     ]
    }
   ],
   "source": [
    "L=list(range(1,5))\n",
    "print('L = %s' % L)\n",
    "print('The first item of the list is %s' % L.pop(0))\n",
    "print('The second item of the list is %s' % L.pop(0))\n",
    "print('The last item of the list is %s' % L.pop())"
   ]
  },
  {
   "cell_type": "code",
   "execution_count": 43,
   "metadata": {
    "scrolled": true
   },
   "outputs": [
    {
     "name": "stdout",
     "output_type": "stream",
     "text": [
      "L = [1, 2, 3, 4]\n",
      "Remove all items from a list:\n",
      "Using L.clear: None\n"
     ]
    }
   ],
   "source": [
    "L=list(range(1,5))\n",
    "print('L = %s' % L)\n",
    "print('Remove all items from a list:')\n",
    "print('Using L.clear: %s' % L.clear())"
   ]
  },
  {
   "cell_type": "markdown",
   "metadata": {},
   "source": [
    "**<font color='Blue'>Example</font>**:"
   ]
  },
  {
   "cell_type": "code",
   "execution_count": 44,
   "metadata": {},
   "outputs": [
    {
     "name": "stdout",
     "output_type": "stream",
     "text": [
      "L =  [1, 2, 3, 4, 5, 6, 7, 8, 9]\n",
      "the index of the first item whose value is equal to 5 is 4\n"
     ]
    }
   ],
   "source": [
    "L=list(range(1,10))\n",
    "print('L =  % s' % L)\n",
    "print('the index of the first item whose value is equal to 5 is % s' % L.index(5))"
   ]
  },
  {
   "cell_type": "markdown",
   "metadata": {},
   "source": [
    "**<font color='Blue'>Example</font>**:"
   ]
  },
  {
   "cell_type": "code",
   "execution_count": 45,
   "metadata": {
    "scrolled": true
   },
   "outputs": [
    {
     "name": "stdout",
     "output_type": "stream",
     "text": [
      "L =  [1, 1, 2, 5, 15, 3, 4]\n",
      "the number of times 1 appears in the list = 2\n",
      "Sort the items of the list in place : [1, 1, 2, 3, 4, 5, 15]\n",
      "Reverse the elements of the list in place : [15, 5, 4, 3, 2, 1, 1]\n",
      "a copy of L = [15, 5, 4, 3, 2, 1, 1]\n"
     ]
    }
   ],
   "source": [
    "L=[1, 1, 2, 5, 15, 3, 4]\n",
    "print('L =  % s' % L)\n",
    "print('the number of times 1 appears in the list = %s' % L.count(1))\n",
    "L.sort(key=None, reverse=False)\n",
    "print('Sort the items of the list in place : %s' % L)\n",
    "L.reverse()\n",
    "print('Reverse the elements of the list in place : %s' % L)\n",
    "print('a copy of L = %s' % L.copy())"
   ]
  },
  {
   "cell_type": "markdown",
   "metadata": {},
   "source": [
    "**<font color='Blue'>Example</font>**:"
   ]
  },
  {
   "cell_type": "code",
   "execution_count": 46,
   "metadata": {},
   "outputs": [
    {
     "name": "stdout",
     "output_type": "stream",
     "text": [
      "The number of Strawberries = 2\n",
      "The number of Watermelon = 1\n"
     ]
    }
   ],
   "source": [
    "fruits = ['Apricots','Avocado','Watermelon','Strawberries','Orange', 'Apple', 'Banana', 'Kiwi', 'Apple', 'Strawberries']\n",
    "## Count\n",
    "print(\"The number of Strawberries = %i\" % fruits.count('Strawberries'))\n",
    "print(\"The number of Watermelon = %i\" % fruits.count('Watermelon'))"
   ]
  },
  {
   "cell_type": "code",
   "execution_count": 47,
   "metadata": {},
   "outputs": [
    {
     "data": {
      "image/png": "[encoded data removed]",
      "text/latex": [
       "$\\displaystyle 2$"
      ],
      "text/plain": [
       "2"
      ]
     },
     "execution_count": 47,
     "metadata": {},
     "output_type": "execute_result"
    }
   ],
   "source": [
    "## Find\n",
    "fruits.index('Watermelon', 1)  # Find next banana starting a position 1"
   ]
  },
  {
   "cell_type": "code",
   "execution_count": 48,
   "metadata": {},
   "outputs": [
    {
     "data": {
      "text/plain": [
       "['Strawberries',\n",
       " 'Apple',\n",
       " 'Kiwi',\n",
       " 'Banana',\n",
       " 'Apple',\n",
       " 'Orange',\n",
       " 'Strawberries',\n",
       " 'Watermelon',\n",
       " 'Avocado',\n",
       " 'Apricots']"
      ]
     },
     "execution_count": 48,
     "metadata": {},
     "output_type": "execute_result"
    }
   ],
   "source": [
    "# Reverse the elements of the list in place.\n",
    "fruits.reverse()\n",
    "fruits"
   ]
  },
  {
   "cell_type": "code",
   "execution_count": 49,
   "metadata": {},
   "outputs": [
    {
     "data": {
      "text/plain": [
       "['Strawberries',\n",
       " 'Apple',\n",
       " 'Kiwi',\n",
       " 'Banana',\n",
       " 'Apple',\n",
       " 'Orange',\n",
       " 'Strawberries',\n",
       " 'Watermelon',\n",
       " 'Avocado',\n",
       " 'Apricots',\n",
       " 'Pomegranate']"
      ]
     },
     "execution_count": 49,
     "metadata": {},
     "output_type": "execute_result"
    }
   ],
   "source": [
    "# Add 'Pomegranate' to the end of the list\n",
    "fruits.append('Pomegranate')\n",
    "fruits"
   ]
  },
  {
   "cell_type": "code",
   "execution_count": 50,
   "metadata": {},
   "outputs": [
    {
     "data": {
      "text/plain": [
       "['Apple',\n",
       " 'Apple',\n",
       " 'Apricots',\n",
       " 'Avocado',\n",
       " 'Banana',\n",
       " 'Kiwi',\n",
       " 'Orange',\n",
       " 'Pomegranate',\n",
       " 'Strawberries',\n",
       " 'Strawberries',\n",
       " 'Watermelon']"
      ]
     },
     "execution_count": 50,
     "metadata": {},
     "output_type": "execute_result"
    }
   ],
   "source": [
    "# Sort the items of the list in place\n",
    "fruits.sort()\n",
    "fruits"
   ]
  },
  {
   "cell_type": "code",
   "execution_count": 51,
   "metadata": {},
   "outputs": [
    {
     "data": {
      "text/plain": [
       "'Watermelon'"
      ]
     },
     "execution_count": 51,
     "metadata": {},
     "output_type": "execute_result"
    }
   ],
   "source": [
    "# pop here removes and returns the last item in the list. \n",
    "fruits.pop()"
   ]
  },
  {
   "cell_type": "code",
   "execution_count": 52,
   "metadata": {},
   "outputs": [
    {
     "data": {
      "image/png": "[encoded data removed]",
      "text/latex": [
       "$\\displaystyle \\left[ \\right]$"
      ],
      "text/plain": [
       "[]"
      ]
     },
     "execution_count": 52,
     "metadata": {},
     "output_type": "execute_result"
    }
   ],
   "source": [
    "# Remove all items from the list.\n",
    "fruits.clear()\n",
    "fruits"
   ]
  },
  {
   "cell_type": "markdown",
   "metadata": {},
   "source": [
    "## 6.2. Using Lists as Queues\n",
    "\n",
    "We also can use a list as a queue, where the first element added is the first element retrieved (“first-in, first-out”); however, lists are not efficient for this purpose.\n",
    "\n",
    "To implement a queue, use [collections.deque](https://docs.python.org/3/library/collections.html#collections.deque) which was designed to have fast appends and pops from both ends. For **<font color='Blue'>Example</font>**: "
   ]
  },
  {
   "cell_type": "code",
   "execution_count": 53,
   "metadata": {},
   "outputs": [
    {
     "data": {
      "text/plain": [
       "deque(['Manchester City', 'Liverpool FC', 'Tottenham Hotspur', 'Arsenal'])"
      ]
     },
     "execution_count": 53,
     "metadata": {},
     "output_type": "execute_result"
    }
   ],
   "source": [
    "from collections import deque\n",
    "Premier_Leauge = deque([\"Manchester City\", \"Liverpool FC\", \"Tottenham Hotspur\"])\n",
    "Premier_Leauge.append(\"Arsenal\")\n",
    "Premier_Leauge"
   ]
  },
  {
   "cell_type": "code",
   "execution_count": 54,
   "metadata": {},
   "outputs": [
    {
     "data": {
      "text/plain": [
       "deque(['Manchester City',\n",
       " 'Liverpool FC',\n",
       " 'Tottenham Hotspur',\n",
       " 'Arsenal',\n",
       " 'Manchester United',\n",
       " 'Chesea'])"
      ]
     },
     "execution_count": 54,
     "metadata": {},
     "output_type": "execute_result"
    }
   ],
   "source": [
    "Premier_Leauge.append(\"Manchester United\")\n",
    "Premier_Leauge.append(\"Chesea\")\n",
    "Premier_Leauge"
   ]
  },
  {
   "cell_type": "code",
   "execution_count": 55,
   "metadata": {},
   "outputs": [
    {
     "data": {
      "text/plain": [
       "'Manchester City'"
      ]
     },
     "execution_count": 55,
     "metadata": {},
     "output_type": "execute_result"
    }
   ],
   "source": [
    "Premier_Leauge.popleft()                 # The first to arrive now leaves"
   ]
  },
  {
   "cell_type": "code",
   "execution_count": 56,
   "metadata": {},
   "outputs": [
    {
     "data": {
      "text/plain": [
       "deque(['Liverpool FC', 'Tottenham Hotspur', 'Arsenal', 'Manchester United', 'Chesea'])"
      ]
     },
     "execution_count": 56,
     "metadata": {},
     "output_type": "execute_result"
    }
   ],
   "source": [
    "Premier_Leauge                  # Remaining queue in order of arrival"
   ]
  },
  {
   "cell_type": "markdown",
   "metadata": {},
   "source": [
    "##  6.3. List Comprehensions \n",
    "\n",
    "For **<font color='Blue'>Example</font>**, assume we want to create a set $$S_n=\\left\\{\\frac{1}{1+n^2} \\right\\}_{n>=0}.$$"
   ]
  },
  {
   "cell_type": "code",
   "execution_count": 57,
   "metadata": {},
   "outputs": [
    {
     "data": {
      "image/png": "[encoded data removed]",
      "text/latex": [
       "$\\displaystyle \\left[ 1.0, \\  0.5, \\  0.2, \\  0.1, \\  0.058823529411764705\\right]$"
      ],
      "text/plain": [
       "[1.0, 0.5, 0.2, 0.1, 0.058823529411764705]"
      ]
     },
     "execution_count": 57,
     "metadata": {},
     "output_type": "execute_result"
    }
   ],
   "source": [
    "Sn = []; N=5;\n",
    "for n in range(N):\n",
    "    Sn.append(1/(1+n**2))\n",
    "Sn"
   ]
  },
  {
   "cell_type": "markdown",
   "metadata": {},
   "source": [
    "We also can generate $S_n$ using either of the following commands"
   ]
  },
  {
   "cell_type": "code",
   "execution_count": 58,
   "metadata": {},
   "outputs": [
    {
     "data": {
      "image/png": "[encoded data removed]",
      "text/latex": [
       "$\\displaystyle \\left[ 1.0, \\  0.5, \\  0.2, \\  0.1, \\  0.058823529411764705\\right]$"
      ],
      "text/plain": [
       "[1.0, 0.5, 0.2, 0.1, 0.058823529411764705]"
      ]
     },
     "execution_count": 58,
     "metadata": {},
     "output_type": "execute_result"
    }
   ],
   "source": [
    "Sn = list(map(lambda n: (1/(1+n**2)), range(N)))\n",
    "Sn = [(1/(1+n**2)) for n in range(N)]\n",
    "Sn"
   ]
  },
  {
   "cell_type": "markdown",
   "metadata": {},
   "source": [
    "**<font color='Blue'>Example</font>**: let's contruct the following set\n",
    "$$\n",
    "S=\\left\\{\\left(x,y\\right)~|~\\left(x,y\\right)\\in \\mathbb{Z}_2\\times\\mathbb{Z}_2~ \\&~ x\\neq y\\right\\} \n",
    "$$"
   ]
  },
  {
   "cell_type": "code",
   "execution_count": 59,
   "metadata": {},
   "outputs": [
    {
     "data": {
      "image/png": "[encoded data removed]",
      "text/latex": [
       "$\\displaystyle \\left[ \\left( -1, \\  0\\right), \\  \\left( 0, \\  -1\\right)\\right]$"
      ],
      "text/plain": [
       "[(-1, 0), (0, -1)]"
      ]
     },
     "execution_count": 59,
     "metadata": {},
     "output_type": "execute_result"
    }
   ],
   "source": [
    "[(x, y) for x in range(-1,1) for y in range(-1,1) if x!= y]"
   ]
  },
  {
   "cell_type": "markdown",
   "metadata": {},
   "source": [
    "We could generate this set using nested loops as well"
   ]
  },
  {
   "cell_type": "code",
   "execution_count": 60,
   "metadata": {},
   "outputs": [
    {
     "data": {
      "image/png": "[encoded data removed]",
      "text/latex": [
       "$\\displaystyle \\left[ \\left( -1, \\  0\\right), \\  \\left( 0, \\  -1\\right)\\right]$"
      ],
      "text/plain": [
       "[(-1, 0), (0, -1)]"
      ]
     },
     "execution_count": 60,
     "metadata": {},
     "output_type": "execute_result"
    }
   ],
   "source": [
    "Sn = []\n",
    "for x in range(-1,1):\n",
    "    for y in range(-1,1):\n",
    "        if x != y:\n",
    "            Sn.append((x, y))\n",
    "Sn"
   ]
  },
  {
   "cell_type": "markdown",
   "metadata": {},
   "source": [
    "# 7. Linear algebra\n",
    "\n",
    "A $m$ by $n$ matrix in Python is basically a list of a list as a matrix having $m$ rows and $n$ columns. For **<font color='Blue'>Example</font>**:"
   ]
  },
  {
   "cell_type": "code",
   "execution_count": 61,
   "metadata": {},
   "outputs": [
    {
     "data": {
      "image/png": "[encoded data removed]",
      "text/latex": [
       "$\\displaystyle \\left[ \\left[ 1, \\  2, \\  3\\right], \\  \\left[ 4, \\  5, \\  6\\right], \\  \\left[ 7, \\  8, \\  9\\right]\\right]$"
      ],
      "text/plain": [
       "[[1, 2, 3], [4, 5, 6], [7, 8, 9]]"
      ]
     },
     "execution_count": 61,
     "metadata": {},
     "output_type": "execute_result"
    }
   ],
   "source": [
    "[[1, 2, 3],[4, 5, 6],[7, 8, 9]]"
   ]
  },
  {
   "cell_type": "markdown",
   "metadata": {},
   "source": [
    "## 7.1. Matrix\n",
    "\n",
    "| Syntax \t| Description \t|\n",
    "|------------------------------\t|----------------------------------------------------------------------------\t|\n",
    "| mat(data[, dtype]) \t| Interpret the input as a matrix. \t|\n",
    "| matrix(data[, dtype, copy]) \t|  \t|\n",
    "| asmatrix(data[, dtype]) \t| Interpret the input as a matrix. \t|\n",
    "| bmat(obj[, ldict, gdict]) \t| Build a matrix object from a string, nested sequence, or array. \t|\n",
    "| empty(shape[, dtype, order]) \t| Return a new matrix of given shape and type, without initializing entries. \t|\n",
    "| zeros(shape[, dtype, order]) \t| Return a matrix of given shape and type, filled with zeros. \t|\n",
    "| ones(shape[, dtype, order]) \t| Matrix of ones. \t|\n",
    "| eye(n[, M, k, dtype, order]) \t| Return a matrix with ones on the diagonal and zeros elsewhere. \t|\n",
    "| identity(n[, dtype]) \t| Returns the square identity matrix of given size. \t|\n",
    "| repmat(a, m, n) \t| Repeat a 0-D to 2-D array or matrix MxN times. \t|\n",
    "| rand(*args) \t| Return a matrix of random values with given shape. \t|\n",
    "| randn(*args) \t| Return a random matrix with data from the “standard normal” distribution. \t|\n",
    "\n",
    "\n",
    "\n",
    "We can create a matrix using ```numpy.matrix``` as well. **<font color='Blue'>Example</font>**:"
   ]
  },
  {
   "cell_type": "code",
   "execution_count": 62,
   "metadata": {},
   "outputs": [
    {
     "data": {
      "text/plain": [
       "matrix([[1, 2, 3],\n",
       "        [4, 5, 6],\n",
       "        [7, 8, 9]])"
      ]
     },
     "execution_count": 62,
     "metadata": {},
     "output_type": "execute_result"
    }
   ],
   "source": [
    "# We can use\n",
    "from numpy import *\n",
    "matrix('1 2 3; 4 5 6; 7 8 9')\n",
    "## or\n",
    "import numpy as np\n",
    "np.matrix('1 2 3; 4 5 6; 7 8 9')"
   ]
  },
  {
   "cell_type": "markdown",
   "metadata": {},
   "source": [
    "To access an entry of this matrix we can"
   ]
  },
  {
   "cell_type": "code",
   "execution_count": 63,
   "metadata": {},
   "outputs": [
    {
     "name": "stdout",
     "output_type": "stream",
     "text": [
      "M_2,2 = 5\n",
      "M_1,1 = 1\n"
     ]
    }
   ],
   "source": [
    "import numpy as np\n",
    "M=np.matrix('1 2 3; 4 5 6; 7 8 9')\n",
    "print('M_2,2 = %d' % M[1,1])\n",
    "print('M_1,1 = %d' % M[0,0])"
   ]
  },
  {
   "cell_type": "markdown",
   "metadata": {},
   "source": [
    "**<font color='Red'>Note</font>**: Unlike ***MATLAB***, here indeces start from **0**"
   ]
  },
  {
   "cell_type": "markdown",
   "metadata": {},
   "source": [
    "### 7.1.1. zeros\n",
    "\n",
    "**Syntax**: ```numpy.zeros(shape, dtype=float, order='C')```\n",
    "\n",
    "**<font color='Red'>Notes</font>**:\n",
    "* The desired data-type for the array, e.g., numpy.int8. Default is numpy.float64.\n",
    "* order : {‘C’, ‘F’}, optional. Whether to store multidimensional data in C- or Fortran-contiguous (row- or column-wise) order in memory.\n",
    "\n",
    "**<font color='Blue'>Example</font>**: We also create matrices using nested loops."
   ]
  },
  {
   "cell_type": "code",
   "execution_count": 64,
   "metadata": {},
   "outputs": [
    {
     "name": "stdout",
     "output_type": "stream",
     "text": [
      "A = [[0 1 2]\n",
      " [1 2 3]\n",
      " [2 3 4]]\n"
     ]
    }
   ],
   "source": [
    "import numpy as np\n",
    "M=3;N=3;\n",
    "A=np.zeros((M,N), dtype=np.int)\n",
    "for ix in range(M):\n",
    "    for iz in range(N):\n",
    "        A[ix,iz]=ix+iz\n",
    "print(\"A =\", A) "
   ]
  },
  {
   "cell_type": "markdown",
   "metadata": {},
   "source": [
    "The size of this matrix can be also found as"
   ]
  },
  {
   "cell_type": "code",
   "execution_count": 65,
   "metadata": {},
   "outputs": [
    {
     "data": {
      "image/png": "[encoded data removed]",
      "text/latex": [
       "$\\displaystyle \\left( 3, \\  3\\right)$"
      ],
      "text/plain": [
       "(3, 3)"
      ]
     },
     "execution_count": 65,
     "metadata": {},
     "output_type": "execute_result"
    }
   ],
   "source": [
    "np.shape(A) # This gives the length of the array"
   ]
  },
  {
   "cell_type": "markdown",
   "metadata": {},
   "source": [
    "**<font color='Blue'>Example</font>**: Let's transpose matrix A."
   ]
  },
  {
   "cell_type": "code",
   "execution_count": 66,
   "metadata": {},
   "outputs": [
    {
     "data": {
      "text/plain": [
       "[[0, 1, 2], [1, 2, 3], [2, 3, 4]]"
      ]
     },
     "execution_count": 66,
     "metadata": {},
     "output_type": "execute_result"
    }
   ],
   "source": [
    "[[row[i] for row in A] for i in range(M)]"
   ]
  },
  {
   "cell_type": "markdown",
   "metadata": {},
   "source": [
    "We can generate a matrix using [zip](https://docs.python.org/3/library/functions.html#zip) function as well. For **<font color='Blue'>Example</font>**:"
   ]
  },
  {
   "cell_type": "code",
   "execution_count": 67,
   "metadata": {},
   "outputs": [
    {
     "name": "stdout",
     "output_type": "stream",
     "text": [
      "A = [(0, 0), (1, 1), (2, 2)]\n"
     ]
    }
   ],
   "source": [
    "A=zip(range(M),range(M))\n",
    "A=list(A)\n",
    "print(\"A =\", A) "
   ]
  },
  {
   "cell_type": "markdown",
   "metadata": {},
   "source": [
    "We can delete some elements of a list using [del](https://docs.python.org/3/reference/simple_stmts.html#del) function. For **<font color='Blue'>Example</font>**:"
   ]
  },
  {
   "cell_type": "code",
   "execution_count": 68,
   "metadata": {},
   "outputs": [
    {
     "name": "stdout",
     "output_type": "stream",
     "text": [
      "A = [0, 1, 2, 3, 4, 5, 6, 7, 8, 9]\n"
     ]
    }
   ],
   "source": [
    "A=list(range(10))\n",
    "print(\"A =\", A) "
   ]
  },
  {
   "cell_type": "code",
   "execution_count": 69,
   "metadata": {},
   "outputs": [
    {
     "name": "stdout",
     "output_type": "stream",
     "text": [
      "A = [0, 1, 3, 4, 5, 6, 7, 8, 9]\n"
     ]
    }
   ],
   "source": [
    "del(A[2]) # deleting the third element\n",
    "print(\"A =\", A) "
   ]
  },
  {
   "cell_type": "code",
   "execution_count": 70,
   "metadata": {},
   "outputs": [
    {
     "name": "stdout",
     "output_type": "stream",
     "text": [
      "A = [0, 1, 3, 4, 5, 6]\n"
     ]
    }
   ],
   "source": [
    "del(A[6:9]) # deleting the last 3 elements\n",
    "print(\"A =\", A) "
   ]
  },
  {
   "cell_type": "markdown",
   "metadata": {},
   "source": [
    "We can also use [numpy.matrix](https://docs.scipy.org/doc/numpy-1.13.0/reference/generated/numpy.matrix.html) to create matrices. For **<font color='Blue'>Example</font>**:"
   ]
  },
  {
   "cell_type": "code",
   "execution_count": 71,
   "metadata": {},
   "outputs": [
    {
     "name": "stdout",
     "output_type": "stream",
     "text": [
      "A = [[1 2]\n",
      " [3 4]]\n"
     ]
    }
   ],
   "source": [
    "A = np.matrix('1 2; 3 4')\n",
    "print(\"A =\", A)"
   ]
  },
  {
   "cell_type": "markdown",
   "metadata": {},
   "source": [
    "### 7.1.2. Sparse matrices\n",
    "\n",
    "We can use **scipy** to define sparse matrices. For **<font color='Blue'>Example</font>**:"
   ]
  },
  {
   "cell_type": "code",
   "execution_count": 72,
   "metadata": {},
   "outputs": [
    {
     "name": "stdout",
     "output_type": "stream",
     "text": [
      "  (0, 0)\t1\n",
      "  (1, 0)\t2\n",
      "  (1, 1)\t2\n",
      "  (2, 0)\t1\n",
      "  (2, 3)\t1\n"
     ]
    }
   ],
   "source": [
    "# import sparse module from SciPy package \n",
    "from scipy import sparse\n",
    "# import uniform module to create random numbers\n",
    "from scipy.stats import uniform\n",
    "# import NumPy\n",
    "import numpy as np\n",
    "\n",
    "A=[[1, 0, 0, 0],[2, 2, 0, 0],[1, 0, 0, 1]]\n",
    "SparseA=sparse.csr_matrix(A)\n",
    "print(SparseA)"
   ]
  },
  {
   "cell_type": "markdown",
   "metadata": {},
   "source": [
    "## 7.2. Dictionaries\n",
    "\n",
    "A pair of braces creates an empty dictionary: {}. Placing a comma-separated list of key:value pairs within the braces adds initial key:value pairs to the dictionary; this is also the way dictionaries are written on output. We are going to explain this using an **<font color='Blue'>Example</font>**:"
   ]
  },
  {
   "cell_type": "code",
   "execution_count": 73,
   "metadata": {},
   "outputs": [
    {
     "name": "stdout",
     "output_type": "stream",
     "text": [
      "Premier League Champions =  {'Manchester United': '2012–13', 'Leicester City': '2015–16', 'Chelsea': '2016–17', 'Manchester City': '2017–18'}\n"
     ]
    }
   ],
   "source": [
    "PL_Champions={\"Manchester United\" : '2012–13',\n",
    "              \"Leicester City\" : '2015–16',\n",
    "              \"Chelsea\" : '2016–17',\n",
    "              \"Manchester City\" : '2017–18'}\n",
    "print(\"Premier League Champions = \", PL_Champions) "
   ]
  },
  {
   "cell_type": "code",
   "execution_count": 74,
   "metadata": {},
   "outputs": [
    {
     "name": "stdout",
     "output_type": "stream",
     "text": [
      "Premier League Champions =  {'Manchester United': '2012–13', 'Leicester City': '2015–16', 'Chelsea': '2016–17', 'Manchester City': '2017–18', 'Arsenal': '2003–04'}\n"
     ]
    }
   ],
   "source": [
    "# Add a value to the dictionary\n",
    "PL_Champions[\"Arsenal\"]='2003–04'\n",
    "print(\"Premier League Champions = \", PL_Champions) "
   ]
  },
  {
   "cell_type": "code",
   "execution_count": 75,
   "metadata": {},
   "outputs": [
    {
     "name": "stdout",
     "output_type": "stream",
     "text": [
      "Premier League Champions =  {'Manchester United': '2012–13', 'Leicester City': '2015–16', 'Chelsea': '2016–17', 'Manchester City': '2017–18'}\n"
     ]
    }
   ],
   "source": [
    "# Remove a key and it's value\n",
    "del PL_Champions[\"Arsenal\"]\n",
    "print(\"Premier League Champions = \", PL_Champions) "
   ]
  },
  {
   "cell_type": "code",
   "execution_count": 76,
   "metadata": {},
   "outputs": [
    {
     "name": "stdout",
     "output_type": "stream",
     "text": [
      "The Length =  4\n"
     ]
    }
   ],
   "source": [
    "# The len() function gives the number of pairs in the dictionary.\n",
    "print(\"The Length = \", len(PL_Champions) )"
   ]
  },
  {
   "cell_type": "code",
   "execution_count": 77,
   "metadata": {},
   "outputs": [
    {
     "data": {
      "text/plain": [
       "False"
      ]
     },
     "execution_count": 77,
     "metadata": {},
     "output_type": "execute_result"
    }
   ],
   "source": [
    "# Test the dictionary\n",
    "'Liverpool' in PL_Champions"
   ]
  },
  {
   "cell_type": "code",
   "execution_count": 78,
   "metadata": {},
   "outputs": [
    {
     "data": {
      "text/plain": [
       "True"
      ]
     },
     "execution_count": 78,
     "metadata": {},
     "output_type": "execute_result"
    }
   ],
   "source": [
    "# Test the dictionary\n",
    "'Leicester City' in PL_Champions"
   ]
  },
  {
   "cell_type": "code",
   "execution_count": 79,
   "metadata": {},
   "outputs": [
    {
     "name": "stdout",
     "output_type": "stream",
     "text": [
      "----------------------------------------------------------------------------------------------------\n",
      "Premier League Champions\n",
      "----------------------------------------------------------------------------------------------------\n",
      "Manchester United 2012–13\n",
      "Leicester City 2015–16\n",
      "Chelsea 2016–17\n",
      "Manchester City 2017–18\n"
     ]
    }
   ],
   "source": [
    "# Print all key and values\n",
    "print(\"-\" * 100)\n",
    "print('Premier League Champions')\n",
    "print(\"-\" * 100)\n",
    "for k, v in PL_Champions.items():\n",
    "    print(k, v)"
   ]
  },
  {
   "cell_type": "code",
   "execution_count": 80,
   "metadata": {},
   "outputs": [
    {
     "name": "stdout",
     "output_type": "stream",
     "text": [
      "dict_keys(['Manchester United', 'Leicester City', 'Chelsea', 'Manchester City'])\n"
     ]
    }
   ],
   "source": [
    "# Get only the keys from the dictionary\n",
    "print(PL_Champions.keys())"
   ]
  },
  {
   "cell_type": "code",
   "execution_count": 81,
   "metadata": {},
   "outputs": [
    {
     "name": "stdout",
     "output_type": "stream",
     "text": [
      "0 ('Manchester United', '2012–13')\n",
      "1 ('Leicester City', '2015–16')\n",
      "2 ('Chelsea', '2016–17')\n",
      "3 ('Manchester City', '2017–18')\n"
     ]
    }
   ],
   "source": [
    "# When looping through a sequence, the position index and corresponding value can be retrieved at the same time using\n",
    "# the enumerate() function.\n",
    "for i, v in enumerate(PL_Champions.items()):\n",
    "    print(i, v)"
   ]
  },
  {
   "cell_type": "code",
   "execution_count": 82,
   "metadata": {},
   "outputs": [
    {
     "name": "stdout",
     "output_type": "stream",
     "text": [
      "The Champtions of the Premier League in 2012–13?  It is Manchester United.\n",
      "The Champtions of the Premier League in 2015–16?  It is Leicester City.\n",
      "The Champtions of the Premier League in 2016–17?  It is Chelsea.\n",
      "The Champtions of the Premier League in 2017–18?  It is Manchester City.\n"
     ]
    }
   ],
   "source": [
    "# To loop over two or more sequences at the same time, the entries can be paired with the zip() function.\n",
    "Year=['2012–13', '2015–16', '2016–17', '2017–18']\n",
    "Champ=['Manchester United', 'Leicester City', 'Chelsea', 'Manchester City']\n",
    "\n",
    "for Y, C in zip(Year, Champ):\n",
    "    print('The Champtions of the Premier League in {0}?  It is {1}.'.format(Y, C))"
   ]
  },
  {
   "cell_type": "markdown",
   "metadata": {},
   "source": [
    "## 7.3. Manipulating data\n",
    "\n",
    "### 7.3.1. Importing Data from Github"
   ]
  },
  {
   "cell_type": "code",
   "execution_count": 83,
   "metadata": {
    "scrolled": false
   },
   "outputs": [],
   "source": [
    "import pandas as pd\n",
    "data = pd.read_csv(\"https://raw.githubusercontent.com/HatefDastour/Python/master/Data/PL18_19.csv\")"
   ]
  },
  {
   "cell_type": "code",
   "execution_count": 84,
   "metadata": {},
   "outputs": [
    {
     "name": "stdout",
     "output_type": "stream",
     "text": [
      "Data Size =  (20, 9)\n",
      "columns heading =  0     32\n",
      "1     30\n",
      "2     21\n",
      "3     23\n",
      "4     21\n",
      "5     19\n",
      "6     16\n",
      "7     15\n",
      "8     15\n",
      "9     15\n",
      "10    14\n",
      "11    14\n",
      "12    12\n",
      "13    13\n",
      "14    11\n",
      "15     9\n",
      "16     9\n",
      "17    10\n",
      "18     7\n",
      "19     3\n",
      "Name: Won, dtype: int64\n",
      "The first 3 rows of Won column:\n",
      "0    98\n",
      "1    97\n",
      "2    72\n",
      "Name: Points, dtype: int64\n"
     ]
    }
   ],
   "source": [
    "print('Data Size = ',data.shape)\n",
    "print('columns heading = ',data.Won) \n",
    "print('The first 3 rows of Won column:')\n",
    "print(data['Points'][0:3]) "
   ]
  },
  {
   "cell_type": "markdown",
   "metadata": {},
   "source": [
    "To read only one column, we can use *Use dataframe.column_title*"
   ]
  },
  {
   "cell_type": "code",
   "execution_count": 85,
   "metadata": {},
   "outputs": [
    {
     "data": {
      "text/plain": [
       "0               Manchester City\n",
       "1                     Liverpool\n",
       "2     Previous Position Chelsea\n",
       "3             Tottenham Hotspur\n",
       "4                       Arsenal\n",
       "5             Manchester United\n",
       "6       Wolverhampton Wanderers\n",
       "7                       Everton\n",
       "8                Leicester City\n",
       "9               West Ham United\n",
       "10                      Watford\n",
       "11               Crystal Palace\n",
       "12             Newcastle United\n",
       "13                  Bournemouth\n",
       "14                      Burnley\n",
       "15                  Southampton\n",
       "16     Brighton and Hove Albion\n",
       "17                 Cardiff City\n",
       "18                       Fulham\n",
       "19            Huddersfield Town\n",
       "Name: Club, dtype: object"
      ]
     },
     "execution_count": 85,
     "metadata": {},
     "output_type": "execute_result"
    }
   ],
   "source": [
    "data.Club"
   ]
  },
  {
   "cell_type": "markdown",
   "metadata": {},
   "source": [
    "### 7.3.2. CSV File Reading and Writing\n",
    "\n",
    "We are going to create a CSV file, ```names.csv``` and fill it with some names. For more detials please see https://docs.python.org/3.4/library/csv.html"
   ]
  },
  {
   "cell_type": "code",
   "execution_count": 86,
   "metadata": {},
   "outputs": [],
   "source": [
    "import csv\n",
    "\n",
    "with open('names.csv', 'w') as csvfile:\n",
    "    fieldnames = ['first_name', 'last_name']\n",
    "    writer = csv.DictWriter(csvfile, fieldnames=fieldnames)\n",
    "\n",
    "    writer.writeheader()\n",
    "    writer.writerow({'first_name': 'Jason', 'last_name': 'Bourne'})\n",
    "    writer.writerow({'first_name': 'James', 'last_name': 'Bond'})\n",
    "    writer.writerow({'first_name': 'Bruce', 'last_name': 'Wayne'})"
   ]
  },
  {
   "cell_type": "code",
   "execution_count": 87,
   "metadata": {},
   "outputs": [
    {
     "name": "stdout",
     "output_type": "stream",
     "text": [
      "['first_name', 'last_name']\n",
      "[]\n",
      "['Jason', 'Bourne']\n",
      "[]\n",
      "['James', 'Bond']\n",
      "[]\n",
      "['Bruce', 'Wayne']\n",
      "[]\n"
     ]
    }
   ],
   "source": [
    "import csv\n",
    "with open('names.csv', newline='') as f:\n",
    "    reader = csv.reader(f)\n",
    "    for row in reader:\n",
    "        print(row)"
   ]
  },
  {
   "cell_type": "markdown",
   "metadata": {},
   "source": [
    "### 7.3.4. DataFrame\n",
    "\n",
    "A pandas DataFrame can be created using the following constructor −\n",
    "\n",
    "```pandas.DataFrame( data, index, columns, dtype, copy)```"
   ]
  },
  {
   "cell_type": "code",
   "execution_count": 88,
   "metadata": {},
   "outputs": [
    {
     "data": {
      "text/html": [
       "<div>\n",
       "<style scoped>\n",
       "    .dataframe tbody tr th:only-of-type {\n",
       "        vertical-align: middle;\n",
       "    }\n",
       "\n",
       "    .dataframe tbody tr th {\n",
       "        vertical-align: top;\n",
       "    }\n",
       "\n",
       "    .dataframe thead th {\n",
       "        text-align: right;\n",
       "    }\n",
       "</style>\n",
       "<table border=\"1\" class=\"dataframe\">\n",
       "  <thead>\n",
       "    <tr style=\"text-align: right;\">\n",
       "      <th></th>\n",
       "      <th>Player</th>\n",
       "      <th>Team</th>\n",
       "      <th>Goals</th>\n",
       "    </tr>\n",
       "  </thead>\n",
       "  <tbody>\n",
       "    <tr>\n",
       "      <th>1</th>\n",
       "      <td>Josef Martinez</td>\n",
       "      <td>Atlanta</td>\n",
       "      <td>31</td>\n",
       "    </tr>\n",
       "    <tr>\n",
       "      <th>2</th>\n",
       "      <td>Zlatan Ibrahimovic</td>\n",
       "      <td>LA Galaxy</td>\n",
       "      <td>22</td>\n",
       "    </tr>\n",
       "    <tr>\n",
       "      <th>3</th>\n",
       "      <td>Bradley Wright-Phillips</td>\n",
       "      <td>NY Red Bulls</td>\n",
       "      <td>20</td>\n",
       "    </tr>\n",
       "    <tr>\n",
       "      <th>4</th>\n",
       "      <td>Mauro Manotas</td>\n",
       "      <td>Houston</td>\n",
       "      <td>19</td>\n",
       "    </tr>\n",
       "  </tbody>\n",
       "</table>\n",
       "</div>"
      ],
      "text/plain": [
       "                    Player          Team  Goals\n",
       "1           Josef Martinez       Atlanta     31\n",
       "2       Zlatan Ibrahimovic     LA Galaxy     22\n",
       "3  Bradley Wright-Phillips  NY Red Bulls     20\n",
       "4            Mauro Manotas       Houston     19"
      ]
     },
     "execution_count": 88,
     "metadata": {},
     "output_type": "execute_result"
    }
   ],
   "source": [
    "import numpy as np\n",
    "import pandas as pd\n",
    "# MLS 2018 Top Scorers\n",
    "data = {'Player': ['Josef Martinez', 'Zlatan Ibrahimovic', 'Bradley Wright-Phillips', 'Mauro Manotas'],\n",
    "        'Team': ['Atlanta','LA Galaxy','NY Red Bulls','Houston'],\n",
    "        'Goals': [31, 22, 20, 19]}\n",
    "df = pd.DataFrame(data, index = ['1','2','3','4'])\n",
    "df"
   ]
  },
  {
   "cell_type": "markdown",
   "metadata": {},
   "source": [
    "For more information please check this [link](https://pandas.pydata.org/pandas-docs/stable/reference/api/pandas.DataFrame.html)."
   ]
  }
 ],
 "metadata": {
  "kernelspec": {
   "display_name": "Python 3",
   "language": "python",
   "name": "python3"
  },
  "language_info": {
   "codemirror_mode": {
    "name": "ipython",
    "version": 3
   },
   "file_extension": ".py",
   "mimetype": "text/x-python",
   "name": "python",
   "nbconvert_exporter": "python",
   "pygments_lexer": "ipython3",
   "version": "3.7.1"
  }
 },
 "nbformat": 4,
 "nbformat_minor": 2
}
