{
 "cells": [
  {
   "cell_type": "code",
   "execution_count": 1,
   "metadata": {},
   "outputs": [],
   "source": [
    "## displaying the soltuion in laTex format\n",
    "from sympy import *\n",
    "init_printing(use_unicode=True)\n",
    "#\n",
    "from sympy import Function, dsolve, Eq, Derivative, sin, cos, symbols\n",
    "from sympy.solvers.deutils import ode_order\n",
    "from sympy.abc import x\n",
    "x, y, c = symbols('x y c')"
   ]
  },
  {
   "cell_type": "markdown",
   "metadata": {},
   "source": [
    "# Exercises - Page 14 of the textbook"
   ]
  },
  {
   "cell_type": "markdown",
   "metadata": {},
   "source": [
    "1. Find the order of the equation.\n",
    "    * (a) $\\dfrac{d^2y}{dx^2}+2\\dfrac{dy}{dx}\\,\\dfrac{d^3y}{dx^3}+x=0$\n",
    "    * (b) $y''-3y'+2y=x^7$\n",
    "    * (c) $y'-y^7=0$\n",
    "    * (d) $y''y-(y')^2=2$"
   ]
  },
  {
   "cell_type": "code",
   "execution_count": 2,
   "metadata": {},
   "outputs": [
    {
     "data": {
      "image/png": "[encoded data removed]",
      "text/latex": [
       "$\\displaystyle 3$"
      ],
      "text/plain": [
       "3"
      ]
     },
     "execution_count": 2,
     "metadata": {},
     "output_type": "execute_result"
    }
   ],
   "source": [
    "# (a)\n",
    "y = Function('y')\n",
    "ode_order(Derivative(y(x), x, x)+Derivative(y(x), x)*Derivative(y(x), x, x,x)+x, y(x))"
   ]
  },
  {
   "cell_type": "code",
   "execution_count": 3,
   "metadata": {},
   "outputs": [
    {
     "data": {
      "image/png": "[encoded data removed]",
      "text/latex": [
       "$\\displaystyle 2$"
      ],
      "text/plain": [
       "2"
      ]
     },
     "execution_count": 3,
     "metadata": {},
     "output_type": "execute_result"
    }
   ],
   "source": [
    "# (b)\n",
    "ode_order(Derivative(y(x), x, x)-3*Derivative(y(x), x)+2*y(x)-x**7, y(x))"
   ]
  },
  {
   "cell_type": "code",
   "execution_count": 4,
   "metadata": {},
   "outputs": [
    {
     "data": {
      "image/png": "[encoded data removed]",
      "text/latex": [
       "$\\displaystyle 1$"
      ],
      "text/plain": [
       "1"
      ]
     },
     "execution_count": 4,
     "metadata": {},
     "output_type": "execute_result"
    }
   ],
   "source": [
    "# (c)\n",
    "ode_order(Derivative(y(x), x)-y(x)**7, y(x))"
   ]
  },
  {
   "cell_type": "code",
   "execution_count": 5,
   "metadata": {},
   "outputs": [
    {
     "data": {
      "image/png": "[encoded data removed]",
      "text/latex": [
       "$\\displaystyle 2$"
      ],
      "text/plain": [
       "2"
      ]
     },
     "execution_count": 5,
     "metadata": {},
     "output_type": "execute_result"
    }
   ],
   "source": [
    "# (c)\n",
    "ode_order(Derivative(y(x), x, x)*y(x)-Derivative(y(x), x)**2-2, y(x))"
   ]
  },
  {
   "cell_type": "markdown",
   "metadata": {},
   "source": [
    "2. Verify that the  function is a solution of the differential equation on some interval, for any choice of the arbitrary constants appearing in the function.\n",
    "\n",
    "    * (a) $y=ce^{2x};     \\quad y'=2y$\n",
    "\n",
    "    * (b) $y=\\dfrac{x^2}{3}+\\dfrac{c}{x};   \\quad xy'+y=x^2$"
   ]
  },
  {
   "cell_type": "code",
   "execution_count": 6,
   "metadata": {},
   "outputs": [
    {
     "data": {
      "image/png": "[encoded data removed]",
      "text/latex": [
       "$\\displaystyle 0$"
      ],
      "text/plain": [
       "0"
      ]
     },
     "execution_count": 6,
     "metadata": {},
     "output_type": "execute_result"
    }
   ],
   "source": [
    "# (a)\n",
    "y= c*exp(2*x)\n",
    "expand(diff(y,x)-2*y)"
   ]
  },
  {
   "cell_type": "code",
   "execution_count": 7,
   "metadata": {},
   "outputs": [
    {
     "data": {
      "image/png": "[encoded data removed]",
      "text/latex": [
       "$\\displaystyle 0$"
      ],
      "text/plain": [
       "0"
      ]
     },
     "execution_count": 7,
     "metadata": {},
     "output_type": "execute_result"
    }
   ],
   "source": [
    "# (b)\n",
    "y= (x**2)/3+(c/x)\n",
    "expand(x*diff(y,x)+y-x**2)"
   ]
  },
  {
   "cell_type": "markdown",
   "metadata": {},
   "source": [
    "3. Find all solutions of the equation.\n",
    "\n",
    "    * (a) $y'=-x$\n",
    "    * (b) $y'=-x \\sin x$\n",
    "    * (c) $y''=2xe^x$"
   ]
  },
  {
   "cell_type": "code",
   "execution_count": 8,
   "metadata": {
    "scrolled": true
   },
   "outputs": [
    {
     "data": {
      "image/png": "[encoded data removed]",
      "text/latex": [
       "$\\displaystyle y{\\left(x \\right)} = C_{1} - \\frac{x^{2}}{2}$"
      ],
      "text/plain": [
       "             2\n",
       "            x \n",
       "y(x) = C₁ - ──\n",
       "            2 "
      ]
     },
     "execution_count": 8,
     "metadata": {},
     "output_type": "execute_result"
    }
   ],
   "source": [
    "# (a)\n",
    "y = Function('y')\n",
    "dsolve(Derivative(y(x)) +x, y(x))"
   ]
  },
  {
   "cell_type": "code",
   "execution_count": 9,
   "metadata": {},
   "outputs": [
    {
     "data": {
      "image/png": "[encoded data removed]",
      "text/latex": [
       "$\\displaystyle y{\\left(x \\right)} = C_{1} + x \\cos{\\left(x \\right)} - \\sin{\\left(x \\right)}$"
      ],
      "text/plain": [
       "y(x) = C₁ + x⋅cos(x) - sin(x)"
      ]
     },
     "execution_count": 9,
     "metadata": {},
     "output_type": "execute_result"
    }
   ],
   "source": [
    "# (b)\n",
    "dsolve(Derivative(y(x)) +x*sin(x), y(x))"
   ]
  },
  {
   "cell_type": "code",
   "execution_count": 10,
   "metadata": {},
   "outputs": [
    {
     "data": {
      "image/png": "[encoded data removed]",
      "text/latex": [
       "$\\displaystyle y{\\left(x \\right)} = C_{1} + C_{2} x + 2 \\left(x - 2\\right) e^{x}$"
      ],
      "text/plain": [
       "                              x\n",
       "y(x) = C₁ + C₂⋅x + 2⋅(x - 2)⋅ℯ "
      ]
     },
     "execution_count": 10,
     "metadata": {},
     "output_type": "execute_result"
    }
   ],
   "source": [
    "# (c)\n",
    "dsolve(Derivative(y(x), x, x) -2*x*exp(x), y(x))"
   ]
  },
  {
   "cell_type": "markdown",
   "metadata": {},
   "source": [
    "3. Solve the  initial value problem.\n",
    "    * (a) $y'=\\tan x, \\quad y(\\pi/4)=3$\n",
    "    * (b) $y''=x^4, \\quad y(2)=-1, \\quad y'(2)=-1$\n",
    "    * (c) $y'''=2+\\sin 2x, \\quad y(0)=1, \\quad y'(0)=-6, \\quad y''(0)=3$"
   ]
  },
  {
   "cell_type": "code",
   "execution_count": 11,
   "metadata": {},
   "outputs": [
    {
     "data": {
      "image/png": "[encoded data removed]",
      "text/latex": [
       "$\\displaystyle y{\\left(x \\right)} = C_{1} - 2 \\log{\\left(\\cos{\\left(x \\right)} \\right)}$"
      ],
      "text/plain": [
       "y(x) = C₁ - 2⋅log(cos(x))"
      ]
     },
     "execution_count": 11,
     "metadata": {},
     "output_type": "execute_result"
    }
   ],
   "source": [
    "# (a)\n",
    "y = Function('y')\n",
    "dsolve(Derivative(y(x), x) -2*tan(x), y(x))"
   ]
  },
  {
   "cell_type": "code",
   "execution_count": 12,
   "metadata": {},
   "outputs": [
    {
     "data": {
      "image/png": "[encoded data removed]",
      "text/latex": [
       "$\\displaystyle y{\\left(x \\right)} = C_{1} + C_{2} x + \\frac{x^{6}}{30}$"
      ],
      "text/plain": [
       "                    6\n",
       "                   x \n",
       "y(x) = C₁ + C₂⋅x + ──\n",
       "                   30"
      ]
     },
     "execution_count": 12,
     "metadata": {},
     "output_type": "execute_result"
    }
   ],
   "source": [
    "# (b)\n",
    "dsolve(Derivative(y(x), x, x) -x**4, y(x))"
   ]
  },
  {
   "cell_type": "code",
   "execution_count": 13,
   "metadata": {},
   "outputs": [
    {
     "data": {
      "image/png": "[encoded data removed]",
      "text/latex": [
       "$\\displaystyle y{\\left(x \\right)} = C_{1} + C_{2} x + C_{3} x^{2} + \\frac{x^{3}}{3} + \\frac{\\cos{\\left(2 x \\right)}}{8}$"
      ],
      "text/plain": [
       "                            3           \n",
       "                       2   x    cos(2⋅x)\n",
       "y(x) = C₁ + C₂⋅x + C₃⋅x  + ── + ────────\n",
       "                           3       8    "
      ]
     },
     "execution_count": 13,
     "metadata": {},
     "output_type": "execute_result"
    }
   ],
   "source": [
    "# (c)\n",
    "dsolve(Derivative(y(x), x, x, x) -2 -sin(2*x), y(x))"
   ]
  },
  {
   "cell_type": "markdown",
   "metadata": {},
   "source": [
    "5. Verify that the  function is a solution of the initial value problem.\n",
    "    * (a) $y=x\\cos x;     \\quad y'=\\cos x-y\\tan x, \\quad y(\\pi/4)=\\dfrac{\\pi}{4\\sqrt{2}}$\n",
    "    * (b) $y=\\dfrac{1+2\\ln x}{x^2}+\\dfrac{1}{2};     \\quad y'=\\dfrac{x^2-2x^2y+2}{x^3},   \\quad y(1)=\\dfrac{3}{2}$"
   ]
  },
  {
   "cell_type": "code",
   "execution_count": 14,
   "metadata": {
    "scrolled": true
   },
   "outputs": [
    {
     "data": {
      "image/png": "[encoded data removed]",
      "text/latex": [
       "$\\displaystyle - x \\sin{\\left(x \\right)} + x \\cos{\\left(x \\right)} \\tan{\\left(x \\right)}$"
      ],
      "text/plain": [
       "-x⋅sin(x) + x⋅cos(x)⋅tan(x)"
      ]
     },
     "execution_count": 14,
     "metadata": {},
     "output_type": "execute_result"
    }
   ],
   "source": [
    "# (a)\n",
    "y= x*cos(x)\n",
    "expand(diff(y,x)-cos(x)+y*tan(x))"
   ]
  },
  {
   "cell_type": "code",
   "execution_count": 16,
   "metadata": {},
   "outputs": [
    {
     "data": {
      "image/png": "[encoded data removed]",
      "text/latex": [
       "$\\displaystyle 0$"
      ],
      "text/plain": [
       "0"
      ]
     },
     "execution_count": 16,
     "metadata": {},
     "output_type": "execute_result"
    }
   ],
   "source": [
    "# (b)\n",
    "y= (1+2*ln(x))/(x**2)+(1/2)\n",
    "expand(diff(y,x)-((x**2-2*x**2*y+2)/(x**3)))"
   ]
  }
 ],
 "metadata": {
  "kernelspec": {
   "display_name": "Python 3",
   "language": "python",
   "name": "python3"
  },
  "language_info": {
   "codemirror_mode": {
    "name": "ipython",
    "version": 3
   },
   "file_extension": ".py",
   "mimetype": "text/x-python",
   "name": "python",
   "nbconvert_exporter": "python",
   "pygments_lexer": "ipython3",
   "version": "3.7.1"
  }
 },
 "nbformat": 4,
 "nbformat_minor": 2
}
