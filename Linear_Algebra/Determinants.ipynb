{
 "cells": [
  {
   "cell_type": "code",
   "execution_count": 1,
   "metadata": {},
   "outputs": [],
   "source": [
    "from __future__ import division\n",
    "from sympy import *\n",
    "init_printing(use_unicode=True)\n",
    "\n",
    "import numpy as np\n",
    "\n",
    "import warnings\n",
    "warnings.filterwarnings(\"ignore\")"
   ]
  },
  {
   "cell_type": "markdown",
   "metadata": {},
   "source": [
    "Determinants\n",
    "--------------------------\n",
    "\n",
    "### Minor of a Matrix\n",
    "\n",
    "Let $A$ be a $3\\times 3$ matrix. The $ij^{\\text{th}}$ minor of $A$ , denoted as $minor(A)_{ij}$, is the determinant of the $2\\times 2$ matrix which results from deleting the $i^{\\text{th}}$ row and the $j^{\\text{th}}$ column of $A$."
   ]
  },
  {
   "cell_type": "markdown",
   "metadata": {},
   "source": [
    "### The $ij^{\\text{th}}$  Cofactor of a Matrix\n",
    "Suppose $A$ is an $n\\times n$ matrix. The $ij^{\\text{th}}$ \\textbf{cofactor}, denoted by $cof (A)_{ij}$ is defined to be\n",
    "$$cof (A) _{ij} = (-1)^{i+j} minor(A)_{ij}$$"
   ]
  },
  {
   "cell_type": "markdown",
   "metadata": {},
   "source": [
    "### The Determinant of an n×n Matrix\n",
    "\n",
    "Let A be an n×n matrix where n ≥ 2 and suppose the determinant of an $(n−1)\\times(n−1)$ has been\n",
    "defined. Then\n",
    "\n",
    "$$det(A) = \\sum_{j=1}^{n} a_{ij} cof (A) _{ij} = \\sum_{i=1}^{n} a_{ij} cof (A) _{ij}$$\n",
    "\n",
    "The first formula consists of expanding the determinant along the $i$th row and the second expands\n",
    "the determinant along the $j$th column."
   ]
  },
  {
   "cell_type": "markdown",
   "metadata": {},
   "source": [
    "**Example**: Let\n",
    "$A=\\begin{bmatrix} 0 & 0 & 1 & 2 \\\\ 1 & 0 & 0 & 1 \\\\ 2 & 0 & -1 & 2 \\\\ 3 & 2 & 0 & 0 \\end{bmatrix}$.\n",
    "Evaluate $\\det(A)$."
   ]
  },
  {
   "cell_type": "markdown",
   "metadata": {},
   "source": [
    "We can evaluate the determinant of a matrix using the various methods. Here we use two methods. The first method is to use the [Matrix](https://docs.sympy.org/latest/tutorial/matrices.html)."
   ]
  },
  {
   "cell_type": "code",
   "execution_count": 2,
   "metadata": {},
   "outputs": [
    {
     "data": {
      "image/png": "[encoded data removed]",
      "text/latex": [
       "$\\displaystyle -4$"
      ],
      "text/plain": [
       "-4"
      ]
     },
     "execution_count": 2,
     "metadata": {},
     "output_type": "execute_result"
    }
   ],
   "source": [
    "A = Matrix([[0 , 0 , 1 , 2 ],[ 1 , 0 , 0 , 1 ],[ 2 , 0 , -1 , 2 ],[ 3 , 2 , 0 , 0]]) \n",
    "A.det()"
   ]
  },
  {
   "cell_type": "markdown",
   "metadata": {},
   "source": [
    "The second method is to use arrays and [linalg](https://docs.scipy.org/doc/numpy/reference/generated/numpy.linalg.det.html) from Numpy. This requires converting the Matrix *A* into an [array](https://docs.scipy.org/doc/numpy/reference/generated/numpy.asarray.html)."
   ]
  },
  {
   "cell_type": "code",
   "execution_count": 3,
   "metadata": {},
   "outputs": [
    {
     "data": {
      "image/png": "[encoded data removed]",
      "text/latex": [
       "$\\displaystyle -4.0$"
      ],
      "text/plain": [
       "-4.0"
      ]
     },
     "execution_count": 3,
     "metadata": {},
     "output_type": "execute_result"
    }
   ],
   "source": [
    "np.linalg.det(np.asarray(A, dtype = int))"
   ]
  },
  {
   "cell_type": "markdown",
   "metadata": {},
   "source": [
    "Properties of Determinants\n",
    "--------------------------\n",
    "\n",
    "There are many important properties of determinants. Here, we discuss\n",
    "some important properties of determinants. We are familiar with the row\n",
    "operations:\n",
    "\n",
    "The row operations consist of the following\n",
    "\n",
    "1.  Switching two rows.\n",
    "\n",
    "2.  Multiplying a row by a nonzero number.\n",
    "\n",
    "3.  Replacing a row by a multiple of another row added to itself.\n",
    "\n",
    "We now consider the effect of row operations on the determinant of a\n",
    "matrix.\n",
    "\n",
    "Let $B$ be a matrix which results from ...\n",
    "\n",
    "-   switching two rows of $A$. Then $det(B) = -det(A)$.\n",
    "\n",
    "-   multiplying some row of $A$ by a scalar $k$. Then\n",
    "    $\\det(B) = k\\det(A)$.\n",
    "\n",
    "-   adding a multiple of a row to another row. Then $det(B) = det(A)$."
   ]
  },
  {
   "cell_type": "markdown",
   "metadata": {},
   "source": [
    "Let $A$ and $B$ be $n\\times n$ matrices and $k$ a scalar, such that\n",
    "$B = kA$. Then $\\det(B) = k^n \\det(A)$.\n",
    "\n",
    " \n",
    "\n",
    "-   **Determinant of a Product:** Let $A$ and $B$ be two $n\\times n$\n",
    "    matrices. Then $$\\det(AB) = \\det(A)\\det(B).$$\n",
    "\n",
    "-   **Determinant of the Transpose**: Let $A$ be a matrix where $A^T$ is\n",
    "    the transpose of $A$. Then, $$\\det\\left(A^T\\right)= \\det(A).$$\n",
    "\n",
    "-   **Determinant of the Inverse:** Let $A$ be an $n\\times n$ matrix.\n",
    "    Then $A$ is invertible if and only if $\\det(A) \\neq 0$. If this is\n",
    "    true, it follows that\n",
    "    $$\\det(A^{-1}) =\\det(A)^{-1}=\\frac{1}{\\det(A)}.$$"
   ]
  },
  {
   "cell_type": "markdown",
   "metadata": {},
   "source": [
    "**Example**: Using *A* from the previous example, we can see that"
   ]
  },
  {
   "cell_type": "code",
   "execution_count": 4,
   "metadata": {},
   "outputs": [
    {
     "data": {
      "image/png": "[encoded data removed]",
      "text/latex": [
       "$\\displaystyle -4$"
      ],
      "text/plain": [
       "-4"
      ]
     },
     "execution_count": 4,
     "metadata": {},
     "output_type": "execute_result"
    }
   ],
   "source": [
    "A = Matrix([[0 , 0 , 1 , 2 ],[ 1 , 0 , 0 , 1 ],[ 2 , 0 , -1 , 2 ],[ 3 , 2 , 0 , 0]]) \n",
    "A.det()"
   ]
  },
  {
   "cell_type": "markdown",
   "metadata": {},
   "source": [
    "$\\det(4* A)$:"
   ]
  },
  {
   "cell_type": "code",
   "execution_count": 5,
   "metadata": {},
   "outputs": [
    {
     "data": {
      "image/png": "[encoded data removed]",
      "text/latex": [
       "$\\displaystyle -1024$"
      ],
      "text/plain": [
       "-1024"
      ]
     },
     "execution_count": 5,
     "metadata": {},
     "output_type": "execute_result"
    }
   ],
   "source": [
    "(4*A).det()"
   ]
  },
  {
   "cell_type": "markdown",
   "metadata": {},
   "source": [
    "$\\det(\\frac{1}{2}A)$:"
   ]
  },
  {
   "cell_type": "code",
   "execution_count": 6,
   "metadata": {},
   "outputs": [
    {
     "data": {
      "image/png": "[encoded data removed]",
      "text/latex": [
       "$\\displaystyle -0.25$"
      ],
      "text/plain": [
       "-0.250000000000000"
      ]
     },
     "execution_count": 6,
     "metadata": {},
     "output_type": "execute_result"
    }
   ],
   "source": [
    "((1/2)*A).det()"
   ]
  },
  {
   "cell_type": "markdown",
   "metadata": {},
   "source": [
    "$\\det(A^T)$:"
   ]
  },
  {
   "cell_type": "code",
   "execution_count": 7,
   "metadata": {},
   "outputs": [
    {
     "data": {
      "image/png": "[encoded data removed]",
      "text/latex": [
       "$\\displaystyle -4$"
      ],
      "text/plain": [
       "-4"
      ]
     },
     "execution_count": 7,
     "metadata": {},
     "output_type": "execute_result"
    }
   ],
   "source": [
    "(A.T).det()"
   ]
  },
  {
   "cell_type": "markdown",
   "metadata": {},
   "source": [
    "$\\det(A^{-1})$:"
   ]
  },
  {
   "cell_type": "code",
   "execution_count": 8,
   "metadata": {},
   "outputs": [
    {
     "data": {
      "image/png": "[encoded data removed]",
      "text/latex": [
       "$\\displaystyle - \\frac{1}{4}$"
      ],
      "text/plain": [
       "-1/4"
      ]
     },
     "execution_count": 8,
     "metadata": {},
     "output_type": "execute_result"
    }
   ],
   "source": [
    "(A**-1).det()"
   ]
  },
  {
   "cell_type": "markdown",
   "metadata": {},
   "source": [
    "***"
   ]
  }
 ],
 "metadata": {
  "kernelspec": {
   "display_name": "Python 3",
   "language": "python",
   "name": "python3"
  },
  "language_info": {
   "codemirror_mode": {
    "name": "ipython",
    "version": 3
   },
   "file_extension": ".py",
   "mimetype": "text/x-python",
   "name": "python",
   "nbconvert_exporter": "python",
   "pygments_lexer": "ipython3",
   "version": "3.7.7"
  }
 },
 "nbformat": 4,
 "nbformat_minor": 4
}
