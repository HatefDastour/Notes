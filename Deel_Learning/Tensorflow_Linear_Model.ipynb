{
 "cells": [
  {
   "cell_type": "code",
   "execution_count": 1,
   "metadata": {},
   "outputs": [
    {
     "name": "stderr",
     "output_type": "stream",
     "text": [
      "Using TensorFlow backend.\n"
     ]
    }
   ],
   "source": [
    "import numpy as np\n",
    "import pandas as pd\n",
    "\n",
    "# sklearn\n",
    "from sklearn.preprocessing import StandardScaler\n",
    "from sklearn.pipeline import make_pipeline\n",
    "from sklearn import metrics\n",
    "from sklearn.model_selection import train_test_split, cross_val_score, KFold\n",
    "from sklearn import datasets\n",
    "\n",
    "# Keras\n",
    "from keras.models import Sequential\n",
    "from keras.layers import Dense, Dropout, Activation\n",
    "from keras.optimizers import SGD, Adagrad, RMSprop\n",
    "from keras.utils.vis_utils import plot_model\n",
    "from keras.utils import to_categorical\n",
    "from keras.wrappers.scikit_learn import KerasRegressor\n",
    "\n",
    "# TensorFlow\n",
    "import tensorflow as tf\n",
    "import tensorflow_docs as tfdocs\n",
    "import tensorflow_docs.plots\n",
    "import tensorflow_docs.modeling\n",
    "from tensorflow.estimator import LinearClassifier\n",
    "\n",
    "# Visualisation libraries\n",
    "\n",
    "## IPython\n",
    "from IPython.display import clear_output\n",
    "\n",
    "## Text\n",
    "from colorama import Fore, Back, Style\n",
    "from IPython.display import Image, display, Markdown, Latex\n",
    "\n",
    "## seaborn\n",
    "import seaborn as sns\n",
    "sns.set_context('paper', rc={'font.size':12,'axes.titlesize':14,'axes.labelsize':12})\n",
    "sns.set_style('white')\n",
    "\n",
    "## matplotlib\n",
    "import matplotlib\n",
    "import matplotlib.pyplot as plt\n",
    "from matplotlib.patches import Ellipse, Polygon\n",
    "import matplotlib.gridspec as gridspec\n",
    "import matplotlib.colors\n",
    "from pylab import rcParams\n",
    "plt.style.use('seaborn-whitegrid')\n",
    "plt.rcParams['figure.figsize'] = 14, 8\n",
    "plt.rcParams['axes.labelsize'] = 14\n",
    "plt.rcParams['xtick.labelsize'] = 12\n",
    "plt.rcParams['ytick.labelsize'] = 12\n",
    "plt.rcParams['text.color'] = 'k'\n",
    "%matplotlib inline\n",
    "\n",
    "import warnings\n",
    "warnings.filterwarnings(\"ignore\")"
   ]
  },
  {
   "cell_type": "markdown",
   "metadata": {},
   "source": [
    "<div class=\"alert alert-block alert-info\">\n",
    "<font size=\"+3\"><b>\n",
    "Keras Linear Model   \n",
    "</b></font>\n",
    "</div>\n",
    "\n",
    "<img src='https://archive.ics.uci.edu/ml/assets/MLimages/Large14.jpg' height='300' align=\"center\"/>\n",
    "\n",
    "In this article, we demonstrate implementing the Keras Linear classifier model by an example. The details regarding this dataset can be found in \n",
    "[Diagnostic Wisconsin Breast Cancer Database](https://tinyurl.com/gl3yhzb). We would use the following classification methods and then compare them in terms of performance."
   ]
  },
  {
   "cell_type": "markdown",
   "metadata": {},
   "source": [
    "## Train and Test sets"
   ]
  },
  {
   "cell_type": "code",
   "execution_count": 2,
   "metadata": {},
   "outputs": [
    {
     "data": {
      "text/html": [
       "<div>\n",
       "<style scoped>\n",
       "    .dataframe tbody tr th:only-of-type {\n",
       "        vertical-align: middle;\n",
       "    }\n",
       "\n",
       "    .dataframe tbody tr th {\n",
       "        vertical-align: top;\n",
       "    }\n",
       "\n",
       "    .dataframe thead th {\n",
       "        text-align: right;\n",
       "    }\n",
       "</style>\n",
       "<table border=\"1\" class=\"dataframe\">\n",
       "  <thead>\n",
       "    <tr style=\"text-align: right;\">\n",
       "      <th>Set</th>\n",
       "      <th>X_train</th>\n",
       "      <th>X_test</th>\n",
       "      <th>y_train</th>\n",
       "      <th>y_test</th>\n",
       "    </tr>\n",
       "  </thead>\n",
       "  <tbody>\n",
       "    <tr>\n",
       "      <th>Shape</th>\n",
       "      <td>(398, 30)</td>\n",
       "      <td>(171, 30)</td>\n",
       "      <td>(398, 1)</td>\n",
       "      <td>(171, 1)</td>\n",
       "    </tr>\n",
       "  </tbody>\n",
       "</table>\n",
       "</div>"
      ],
      "text/plain": [
       "Set      X_train     X_test   y_train    y_test\n",
       "Shape  (398, 30)  (171, 30)  (398, 1)  (171, 1)"
      ]
     },
     "metadata": {},
     "output_type": "display_data"
    }
   ],
   "source": [
    "Data = datasets.load_breast_cancer(as_frame=True)\n",
    "Target = 'Diagnosis'\n",
    "Labels = Data['target_names']\n",
    "X = Data['data']\n",
    "y = pd.Series(Data['target']).to_frame(Target)\n",
    "Data = pd.concat([X,y], axis = 1)\n",
    "Data.head()\n",
    "\n",
    "X_train, X_test, y_train, y_test = train_test_split(X, y, test_size=0.3, random_state=42)\n",
    "display(pd.DataFrame(data={'Set':['X_train','X_test','y_train','y_test'],\n",
    "                           'Shape':[X_train.shape, X_test.shape, y_train.shape, y_test.shape]}).set_index('Set').T)"
   ]
  },
  {
   "cell_type": "markdown",
   "metadata": {},
   "source": [
    "## Feature Engineering for the Model\n",
    "\n",
    "\n",
    "A Keras estimator model consists of two main parts, [feature columns](https://www.tensorflow.org/guide/feature_columns), and a numeric vector. Feature columns provide explanations for the input numeric vector. The following function separates Categorical and numerical columns (features)and returns a descriptive list of feature columns."
   ]
  },
  {
   "cell_type": "code",
   "execution_count": 3,
   "metadata": {},
   "outputs": [
    {
     "name": "stdout",
     "output_type": "stream",
     "text": [
      "\u001b[42m\u001b[30m\u001b[1mFeature Columns List:\u001b[0m\n"
     ]
    },
    {
     "data": {
      "text/plain": [
       "[NumericColumn(key='mean radius', shape=(1,), default_value=None, dtype=tf.float32, normalizer_fn=None),\n",
       " NumericColumn(key='mean texture', shape=(1,), default_value=None, dtype=tf.float32, normalizer_fn=None),\n",
       " NumericColumn(key='mean perimeter', shape=(1,), default_value=None, dtype=tf.float32, normalizer_fn=None),\n",
       " NumericColumn(key='mean area', shape=(1,), default_value=None, dtype=tf.float32, normalizer_fn=None),\n",
       " NumericColumn(key='mean smoothness', shape=(1,), default_value=None, dtype=tf.float32, normalizer_fn=None),\n",
       " NumericColumn(key='mean compactness', shape=(1,), default_value=None, dtype=tf.float32, normalizer_fn=None),\n",
       " NumericColumn(key='mean concavity', shape=(1,), default_value=None, dtype=tf.float32, normalizer_fn=None),\n",
       " NumericColumn(key='mean concave points', shape=(1,), default_value=None, dtype=tf.float32, normalizer_fn=None),\n",
       " NumericColumn(key='mean symmetry', shape=(1,), default_value=None, dtype=tf.float32, normalizer_fn=None),\n",
       " NumericColumn(key='mean fractal dimension', shape=(1,), default_value=None, dtype=tf.float32, normalizer_fn=None),\n",
       " NumericColumn(key='radius error', shape=(1,), default_value=None, dtype=tf.float32, normalizer_fn=None),\n",
       " NumericColumn(key='texture error', shape=(1,), default_value=None, dtype=tf.float32, normalizer_fn=None),\n",
       " NumericColumn(key='perimeter error', shape=(1,), default_value=None, dtype=tf.float32, normalizer_fn=None),\n",
       " NumericColumn(key='area error', shape=(1,), default_value=None, dtype=tf.float32, normalizer_fn=None),\n",
       " NumericColumn(key='smoothness error', shape=(1,), default_value=None, dtype=tf.float32, normalizer_fn=None),\n",
       " NumericColumn(key='compactness error', shape=(1,), default_value=None, dtype=tf.float32, normalizer_fn=None),\n",
       " NumericColumn(key='concavity error', shape=(1,), default_value=None, dtype=tf.float32, normalizer_fn=None),\n",
       " NumericColumn(key='concave points error', shape=(1,), default_value=None, dtype=tf.float32, normalizer_fn=None),\n",
       " NumericColumn(key='symmetry error', shape=(1,), default_value=None, dtype=tf.float32, normalizer_fn=None),\n",
       " NumericColumn(key='fractal dimension error', shape=(1,), default_value=None, dtype=tf.float32, normalizer_fn=None),\n",
       " NumericColumn(key='worst radius', shape=(1,), default_value=None, dtype=tf.float32, normalizer_fn=None),\n",
       " NumericColumn(key='worst texture', shape=(1,), default_value=None, dtype=tf.float32, normalizer_fn=None),\n",
       " NumericColumn(key='worst perimeter', shape=(1,), default_value=None, dtype=tf.float32, normalizer_fn=None),\n",
       " NumericColumn(key='worst area', shape=(1,), default_value=None, dtype=tf.float32, normalizer_fn=None),\n",
       " NumericColumn(key='worst smoothness', shape=(1,), default_value=None, dtype=tf.float32, normalizer_fn=None),\n",
       " NumericColumn(key='worst compactness', shape=(1,), default_value=None, dtype=tf.float32, normalizer_fn=None),\n",
       " NumericColumn(key='worst concavity', shape=(1,), default_value=None, dtype=tf.float32, normalizer_fn=None),\n",
       " NumericColumn(key='worst concave points', shape=(1,), default_value=None, dtype=tf.float32, normalizer_fn=None),\n",
       " NumericColumn(key='worst symmetry', shape=(1,), default_value=None, dtype=tf.float32, normalizer_fn=None),\n",
       " NumericColumn(key='worst fractal dimension', shape=(1,), default_value=None, dtype=tf.float32, normalizer_fn=None)]"
      ]
     },
     "metadata": {},
     "output_type": "display_data"
    }
   ],
   "source": [
    "def Feat_Columns(Inp):\n",
    "    Temp = Inp.dtypes.reset_index(drop = False)\n",
    "    Temp.columns = ['Features', 'Data Type']\n",
    "    Temp['Data Type'] = Temp['Data Type'].astype(str)\n",
    "    # Numeric_Columns\n",
    "    Numeric_Columns = Temp.loc[Temp['Data Type'].isin(['int64', 'float64', 'int32', 'float32']),'Features'].tolist()\n",
    "    # Categorical_Columns\n",
    "    Categorical_Columns = Temp.loc[Temp['Data Type'] == 'object','Features'].tolist()\n",
    "        \n",
    "    # Feature Columns\n",
    "    feature_columns = []\n",
    "    if len(Categorical_Columns)>0:\n",
    "        for feature_name in Categorical_Columns:\n",
    "          vocabulary = Inp[feature_name].unique()\n",
    "          feature_columns.append(tf.feature_column.categorical_column_with_vocabulary_list(feature_name, vocabulary))\n",
    "    if len(Numeric_Columns)>0:\n",
    "        for feature_name in Numeric_Columns:\n",
    "          feature_columns.append(tf.feature_column.numeric_column(feature_name, dtype=tf.float32))\n",
    "    return feature_columns\n",
    "\n",
    "\n",
    "feature_columns = Feat_Columns(X)\n",
    "print(Back.GREEN + Fore.BLACK + Style.BRIGHT + 'Feature Columns List:' + Style.RESET_ALL)\n",
    "display(feature_columns)"
   ]
  },
  {
   "cell_type": "markdown",
   "metadata": {},
   "source": [
    "The `input_function` specifies how data is converted to a `tf.data.Dataset` that feeds the input pipeline in a streaming fashion. `tf.data.Dataset` can take in multiple sources such as a data frame, a CSV-formatted file, and more."
   ]
  },
  {
   "cell_type": "code",
   "execution_count": 4,
   "metadata": {},
   "outputs": [],
   "source": [
    "def make_input_fn(data_df, label_df, num_epochs=10, shuffle=True, batch_size=32):\n",
    "  def input_function():\n",
    "    ds = tf.data.Dataset.from_tensor_slices((dict(data_df), label_df))\n",
    "    if shuffle:\n",
    "      ds = ds.shuffle(1000)\n",
    "    ds = ds.batch(batch_size).repeat(num_epochs)\n",
    "    return ds\n",
    "  return input_function\n",
    "\n",
    "Train_input_fn = make_input_fn(X_train, y_train)\n",
    "Evaluation_input_fn = make_input_fn(X_test, y_test, num_epochs=1, shuffle=False)"
   ]
  },
  {
   "cell_type": "markdown",
   "metadata": {},
   "source": [
    "This can be inspected."
   ]
  },
  {
   "cell_type": "code",
   "execution_count": 5,
   "metadata": {},
   "outputs": [
    {
     "name": "stdout",
     "output_type": "stream",
     "text": [
      "\u001b[46m\u001b[30m\u001b[1mSome feature keys:\u001b[0m ['mean radius', 'mean texture', 'mean perimeter', 'mean area', 'mean smoothness', 'mean compactness', 'mean concavity', 'mean concave points', 'mean symmetry', 'mean fractal dimension', 'radius error', 'texture error', 'perimeter error', 'area error', 'smoothness error', 'compactness error', 'concavity error', 'concave points error', 'symmetry error', 'fractal dimension error', 'worst radius', 'worst texture', 'worst perimeter', 'worst area', 'worst smoothness', 'worst compactness', 'worst concavity', 'worst concave points', 'worst symmetry', 'worst fractal dimension']\n"
     ]
    }
   ],
   "source": [
    "ds = make_input_fn(X_train, y_train, batch_size=10)()\n",
    "for feature_batch, label_batch in ds.take(1):\n",
    "    print(Back.CYAN + Fore.BLACK + Style.BRIGHT + 'Some feature keys:' + Style.RESET_ALL, list(feature_batch.keys()))"
   ]
  },
  {
   "cell_type": "markdown",
   "metadata": {},
   "source": [
    "# Estimator using the default optimizer"
   ]
  },
  {
   "cell_type": "code",
   "execution_count": 6,
   "metadata": {
    "scrolled": false
   },
   "outputs": [
    {
     "data": {
      "text/html": [
       "<div>\n",
       "<style scoped>\n",
       "    .dataframe tbody tr th:only-of-type {\n",
       "        vertical-align: middle;\n",
       "    }\n",
       "\n",
       "    .dataframe tbody tr th {\n",
       "        vertical-align: top;\n",
       "    }\n",
       "\n",
       "    .dataframe thead th {\n",
       "        text-align: right;\n",
       "    }\n",
       "</style>\n",
       "<table border=\"1\" class=\"dataframe\">\n",
       "  <thead>\n",
       "    <tr style=\"text-align: right;\">\n",
       "      <th></th>\n",
       "      <th>accuracy</th>\n",
       "      <th>accuracy_baseline</th>\n",
       "      <th>auc</th>\n",
       "      <th>auc_precision_recall</th>\n",
       "      <th>average_loss</th>\n",
       "      <th>label/mean</th>\n",
       "      <th>loss</th>\n",
       "      <th>precision</th>\n",
       "      <th>prediction/mean</th>\n",
       "      <th>recall</th>\n",
       "      <th>global_step</th>\n",
       "    </tr>\n",
       "  </thead>\n",
       "  <tbody>\n",
       "    <tr>\n",
       "      <th></th>\n",
       "      <td>0.9532</td>\n",
       "      <td>0.6316</td>\n",
       "      <td>0.9579</td>\n",
       "      <td>0.9537</td>\n",
       "      <td>0.455</td>\n",
       "      <td>0.6316</td>\n",
       "      <td>0.4659</td>\n",
       "      <td>0.931</td>\n",
       "      <td>0.681</td>\n",
       "      <td>1.0</td>\n",
       "      <td>130</td>\n",
       "    </tr>\n",
       "  </tbody>\n",
       "</table>\n",
       "</div>"
      ],
      "text/plain": [
       "  accuracy  accuracy_baseline     auc  auc_precision_recall  average_loss  \\\n",
       "    0.9532             0.6316  0.9579                0.9537         0.455   \n",
       "\n",
       "  label/mean    loss  precision  prediction/mean  recall  global_step  \n",
       "      0.6316  0.4659      0.931            0.681     1.0          130  "
      ]
     },
     "metadata": {},
     "output_type": "display_data"
    }
   ],
   "source": [
    "estimator = tf.estimator.LinearClassifier(feature_columns=feature_columns)\n",
    "estimator.train(Train_input_fn)\n",
    "result = estimator.evaluate(Evaluation_input_fn)\n",
    "clear_output()\n",
    "display(pd.DataFrame(result, index = ['']).round(4))"
   ]
  },
  {
   "cell_type": "markdown",
   "metadata": {},
   "source": [
    "We can predict the probability for the Test (Evaluation) set."
   ]
  },
  {
   "cell_type": "code",
   "execution_count": 7,
   "metadata": {},
   "outputs": [
    {
     "data": {
      "image/png": "[encoded data removed]",
      "text/plain": [
       "<Figure size 1152x504 with 2 Axes>"
      ]
     },
     "metadata": {
      "needs_background": "light"
     },
     "output_type": "display_data"
    }
   ],
   "source": [
    "pred_dicts = list(estimator.predict(Evaluation_input_fn))\n",
    "probs = pd.Series([pred['probabilities'][1] for pred in pred_dicts])\n",
    "clear_output()\n",
    "\n",
    "def ROC_Curve(probs, y_test = y_test, pad = 0.05, Title = None, ax = False):\n",
    "    # false positive rates, true positive rates and thresholds\n",
    "    fpr, tpr, threshold = metrics.roc_curve(y_test, probs)\n",
    "    if ax == False:\n",
    "        fig, ax = plt.subplots(1, 1, figsize=(5.5, 5.5))\n",
    "    _ = ax.plot(fpr, tpr, lw=2, label = 'AUC = %0.2f' % metrics.auc(fpr, tpr))\n",
    "    _ = ax.plot([0, 1], [0, 1],'r--', lw=2)\n",
    "    _ = ax.legend(loc = 'lower right', fontsize = 14)\n",
    "    _ = ax.set_xlim([-pad,1+pad])\n",
    "    _ = ax.set_ylim([-pad,1+pad])\n",
    "    _ = ax.set_xlabel('False Positive Rate (FPR)')\n",
    "    _ = ax.set_ylabel('True Positive Rate (TPR)')\n",
    "    _ = ax.set_title(Title)\n",
    "    \n",
    "fig, ax = plt.subplots(nrows=1, ncols=2, figsize=(16, 7), sharex=False)\n",
    "_  = probs.plot(ax = ax[0], kind='hist', bins=20, title='Predicted Probabilities', color='#34495e', hatch=\"//\")\n",
    "_ = ax[0].set_yscale('log')\n",
    "_ = ax[0].set_ylim([0, 100])\n",
    "\n",
    "ROC_Curve(probs, pad = 0.02, ax = ax[1])"
   ]
  },
  {
   "cell_type": "markdown",
   "metadata": {},
   "source": [
    "# Estimator using the FTRL optimizer with regularization.\n",
    "\n",
    "[The Follow the Regularized Leader (FTRL)](tf.keras.optimizers.Ftrl) model is an implementation of the FTRL-Proximal online learning algorithm for binomial logistic regression (for details see [6]).\n"
   ]
  },
  {
   "cell_type": "code",
   "execution_count": 8,
   "metadata": {},
   "outputs": [
    {
     "data": {
      "text/html": [
       "<div>\n",
       "<style scoped>\n",
       "    .dataframe tbody tr th:only-of-type {\n",
       "        vertical-align: middle;\n",
       "    }\n",
       "\n",
       "    .dataframe tbody tr th {\n",
       "        vertical-align: top;\n",
       "    }\n",
       "\n",
       "    .dataframe thead th {\n",
       "        text-align: right;\n",
       "    }\n",
       "</style>\n",
       "<table border=\"1\" class=\"dataframe\">\n",
       "  <thead>\n",
       "    <tr style=\"text-align: right;\">\n",
       "      <th></th>\n",
       "      <th>accuracy</th>\n",
       "      <th>accuracy_baseline</th>\n",
       "      <th>auc</th>\n",
       "      <th>auc_precision_recall</th>\n",
       "      <th>average_loss</th>\n",
       "      <th>label/mean</th>\n",
       "      <th>loss</th>\n",
       "      <th>precision</th>\n",
       "      <th>prediction/mean</th>\n",
       "      <th>recall</th>\n",
       "      <th>global_step</th>\n",
       "    </tr>\n",
       "  </thead>\n",
       "  <tbody>\n",
       "    <tr>\n",
       "      <th></th>\n",
       "      <td>0.8947</td>\n",
       "      <td>0.6316</td>\n",
       "      <td>0.9331</td>\n",
       "      <td>0.9284</td>\n",
       "      <td>0.5696</td>\n",
       "      <td>0.6316</td>\n",
       "      <td>0.6295</td>\n",
       "      <td>0.8571</td>\n",
       "      <td>0.7384</td>\n",
       "      <td>1.0</td>\n",
       "      <td>130</td>\n",
       "    </tr>\n",
       "  </tbody>\n",
       "</table>\n",
       "</div>"
      ],
      "text/plain": [
       "  accuracy  accuracy_baseline     auc  auc_precision_recall  average_loss  \\\n",
       "    0.8947             0.6316  0.9331                0.9284        0.5696   \n",
       "\n",
       "  label/mean    loss  precision  prediction/mean  recall  global_step  \n",
       "      0.6316  0.6295     0.8571           0.7384     1.0          130  "
      ]
     },
     "metadata": {},
     "output_type": "display_data"
    }
   ],
   "source": [
    "estimator = tf.estimator.LinearClassifier(feature_columns=feature_columns,\n",
    "                                     optimizer=tf.keras.optimizers.Ftrl(learning_rate=0.1, l1_regularization_strength=0.001))\n",
    "estimator.train(Train_input_fn)\n",
    "result = estimator.evaluate(Evaluation_input_fn)\n",
    "clear_output()\n",
    "display(pd.DataFrame(result, index = ['']).round(4))"
   ]
  },
  {
   "cell_type": "code",
   "execution_count": 9,
   "metadata": {},
   "outputs": [
    {
     "data": {
      "image/png": "[encoded data removed]",
      "text/plain": [
       "<Figure size 1152x504 with 2 Axes>"
      ]
     },
     "metadata": {
      "needs_background": "light"
     },
     "output_type": "display_data"
    }
   ],
   "source": [
    "pred_dicts = list(estimator.predict(Evaluation_input_fn))\n",
    "probs = pd.Series([pred['probabilities'][1] for pred in pred_dicts])\n",
    "clear_output()\n",
    "\n",
    "def ROC_Curve(probs, y_test = y_test, pad = 0.05, Title = None, ax = False):\n",
    "    # false positive rates, true positive rates and thresholds\n",
    "    fpr, tpr, threshold = metrics.roc_curve(y_test, probs)\n",
    "    if ax == False:\n",
    "        fig, ax = plt.subplots(1, 1, figsize=(5.5, 5.5))\n",
    "    _ = ax.plot(fpr, tpr, lw=2, label = 'AUC = %0.2f' % metrics.auc(fpr, tpr))\n",
    "    _ = ax.plot([0, 1], [0, 1],'r--', lw=2)\n",
    "    _ = ax.legend(loc = 'lower right', fontsize = 14)\n",
    "    _ = ax.set_xlim([-pad,1+pad])\n",
    "    _ = ax.set_ylim([-pad,1+pad])\n",
    "    _ = ax.set_xlabel('False Positive Rate (FPR)')\n",
    "    _ = ax.set_ylabel('True Positive Rate (TPR)')\n",
    "    _ = ax.set_title(Title)\n",
    "    \n",
    "fig, ax = plt.subplots(nrows=1, ncols=2, figsize=(16, 7), sharex=False)\n",
    "_  = probs.plot(ax = ax[0], kind='hist', bins=20, title='Predicted Probabilities', color='#34495e', hatch=\"//\")\n",
    "_ = ax[0].set_yscale('log')\n",
    "_ = ax[0].set_ylim([0, 100])\n",
    "\n",
    "ROC_Curve(probs, pad = 0.02, ax = ax[1])"
   ]
  },
  {
   "cell_type": "markdown",
   "metadata": {},
   "source": [
    "# Estimator with warm-starting from a previous checkpoint."
   ]
  },
  {
   "cell_type": "code",
   "execution_count": 10,
   "metadata": {
    "scrolled": false
   },
   "outputs": [
    {
     "data": {
      "text/html": [
       "<div>\n",
       "<style scoped>\n",
       "    .dataframe tbody tr th:only-of-type {\n",
       "        vertical-align: middle;\n",
       "    }\n",
       "\n",
       "    .dataframe tbody tr th {\n",
       "        vertical-align: top;\n",
       "    }\n",
       "\n",
       "    .dataframe thead th {\n",
       "        text-align: right;\n",
       "    }\n",
       "</style>\n",
       "<table border=\"1\" class=\"dataframe\">\n",
       "  <thead>\n",
       "    <tr style=\"text-align: right;\">\n",
       "      <th></th>\n",
       "      <th>accuracy</th>\n",
       "      <th>accuracy_baseline</th>\n",
       "      <th>auc</th>\n",
       "      <th>auc_precision_recall</th>\n",
       "      <th>average_loss</th>\n",
       "      <th>label/mean</th>\n",
       "      <th>loss</th>\n",
       "      <th>precision</th>\n",
       "      <th>prediction/mean</th>\n",
       "      <th>recall</th>\n",
       "      <th>global_step</th>\n",
       "    </tr>\n",
       "  </thead>\n",
       "  <tbody>\n",
       "    <tr>\n",
       "      <th></th>\n",
       "      <td>0.5848</td>\n",
       "      <td>0.6316</td>\n",
       "      <td>0.7546</td>\n",
       "      <td>0.8768</td>\n",
       "      <td>5.0224</td>\n",
       "      <td>0.6316</td>\n",
       "      <td>5.0459</td>\n",
       "      <td>1.0</td>\n",
       "      <td>0.2063</td>\n",
       "      <td>0.3426</td>\n",
       "      <td>130</td>\n",
       "    </tr>\n",
       "  </tbody>\n",
       "</table>\n",
       "</div>"
      ],
      "text/plain": [
       "  accuracy  accuracy_baseline     auc  auc_precision_recall  average_loss  \\\n",
       "    0.5848             0.6316  0.7546                0.8768        5.0224   \n",
       "\n",
       "  label/mean    loss  precision  prediction/mean  recall  global_step  \n",
       "      0.6316  5.0459        1.0           0.2063  0.3426          130  "
      ]
     },
     "metadata": {},
     "output_type": "display_data"
    }
   ],
   "source": [
    "estimator = tf.estimator.LinearClassifier(feature_columns=feature_columns,\n",
    "                                         warm_start_from='C:\\\\Users\\\\hatef\\\\AppData\\\\Local\\\\Temp\\\\tmpy_sdlxwx')\n",
    "estimator.train(Train_input_fn)\n",
    "result = estimator.evaluate(Evaluation_input_fn)\n",
    "clear_output()\n",
    "display(pd.DataFrame(result, index = ['']).round(4))"
   ]
  },
  {
   "cell_type": "code",
   "execution_count": 11,
   "metadata": {
    "scrolled": false
   },
   "outputs": [
    {
     "data": {
      "image/png": "[encoded data removed]",
      "text/plain": [
       "<Figure size 1152x504 with 2 Axes>"
      ]
     },
     "metadata": {
      "needs_background": "light"
     },
     "output_type": "display_data"
    }
   ],
   "source": [
    "pred_dicts = list(estimator.predict(Evaluation_input_fn))\n",
    "probs = pd.Series([pred['probabilities'][1] for pred in pred_dicts])\n",
    "clear_output()\n",
    "\n",
    "def ROC_Curve(probs, y_test = y_test, pad = 0.05, Title = None, ax = False):\n",
    "    # false positive rates, true positive rates and thresholds\n",
    "    fpr, tpr, threshold = metrics.roc_curve(y_test, probs)\n",
    "    if ax == False:\n",
    "        fig, ax = plt.subplots(1, 1, figsize=(5.5, 5.5))\n",
    "    _ = ax.plot(fpr, tpr, lw=2, label = 'AUC = %0.2f' % metrics.auc(fpr, tpr))\n",
    "    _ = ax.plot([0, 1], [0, 1],'r--', lw=2)\n",
    "    _ = ax.legend(loc = 'lower right', fontsize = 14)\n",
    "    _ = ax.set_xlim([-pad,1+pad])\n",
    "    _ = ax.set_ylim([-pad,1+pad])\n",
    "    _ = ax.set_xlabel('False Positive Rate (FPR)')\n",
    "    _ = ax.set_ylabel('True Positive Rate (TPR)')\n",
    "    _ = ax.set_title(Title)\n",
    "    \n",
    "fig, ax = plt.subplots(nrows=1, ncols=2, figsize=(16, 7), sharex=False)\n",
    "_  = probs.plot(ax = ax[0], kind='hist', bins=20, title='Predicted Probabilities', color='#34495e', hatch=\"//\")\n",
    "_ = ax[0].set_yscale('log')\n",
    "_ = ax[0].set_ylim([0, 100])\n",
    "\n",
    "ROC_Curve(probs, pad = 0.02, ax = ax[1])"
   ]
  },
  {
   "cell_type": "markdown",
   "metadata": {},
   "source": [
    "***\n",
    "# References\n",
    "\n",
    "1. Regression analysis. Wikipedia. Last edited on 17 April 2020, at 13:31 (UTC). https://en.wikipedia.org/wiki/Regression_analysis\n",
    "2. Build a linear model with Estimators, https://www.tensorflow.org/tutorials/estimator/linear\n",
    "3. W.N. Street, W.H. Wolberg and O.L. Mangasarian. Nuclear feature extraction for breast tumor diagnosis. IS&T/SPIE 1993 International Symposium on Electronic Imaging: Science and Technology, volume 1905, pages 861-870, San Jose, CA, 1993.\n",
    "\n",
    "4. O.L. Mangasarian, W.N. Street and W.H. Wolberg. Breast cancer diagnosis and prognosis via linear programming. Operations Research, 43(4), pages 570-577, July-August 1995.\n",
    "\n",
    "5. W.H. Wolberg, W.N. Street, and O.L. Mangasarian. Machine learning techniques to diagnose breast cancer from fine-needle aspirates. Cancer Letters 77 (1994) 163-171.\n",
    "6. Online machine learning, https://en.wikipedia.org/wiki/Online_machine_learning\n",
    "7. Learning rate, https://en.wikipedia.org/wiki/Learning_rate\n",
    "***"
   ]
  }
 ],
 "metadata": {
  "colab": {
   "collapsed_sections": [],
   "name": "regression.ipynb",
   "private_outputs": true,
   "provenance": [],
   "toc_visible": true
  },
  "kernelspec": {
   "display_name": "Python 3",
   "language": "python",
   "name": "python3"
  },
  "language_info": {
   "codemirror_mode": {
    "name": "ipython",
    "version": 3
   },
   "file_extension": ".py",
   "mimetype": "text/x-python",
   "name": "python",
   "nbconvert_exporter": "python",
   "pygments_lexer": "ipython3",
   "version": "3.7.7"
  }
 },
 "nbformat": 4,
 "nbformat_minor": 1
}
