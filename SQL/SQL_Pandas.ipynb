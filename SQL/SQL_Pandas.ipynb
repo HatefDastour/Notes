{
 "cells": [
  {
   "cell_type": "code",
   "execution_count": 1,
   "metadata": {},
   "outputs": [],
   "source": [
    "import sqlite3\n",
    "import pymysql\n",
    "pymysql.install_as_MySQLdb()\n",
    "import MySQLdb\n",
    "import sqlalchemy\n",
    "\n",
    "import pandas as pd\n",
    "import numpy as np\n",
    "import matplotlib as mpl\n",
    "import matplotlib.pyplot as plt\n",
    "import seaborn as sns\n",
    "import copy\n",
    "\n",
    "%matplotlib inline\n",
    "plt.style.use('seaborn-white')\n",
    "import warnings\n",
    "warnings.filterwarnings(\"ignore\")"
   ]
  },
  {
   "cell_type": "markdown",
   "metadata": {},
   "source": [
    "# SQL and Pandas\n",
    "* [Reading a table from a SQL database into Pandas Dataframe](#Reading-a-table-from-a-SQL-database-into-Pandas-Dataframe)\n",
    "* [Pandas Dataframe into SQL Table](#Pandas-Dataframe-into-SQL-Table)"
   ]
  },
  {
   "cell_type": "markdown",
   "metadata": {},
   "source": [
    "## Reading a table from a SQL database into Pandas Dataframe\n",
    "Read SQL *query* into a DataFrame [[Source](https://pandas.pydata.org/pandas-docs/version/0.22/generated/pandas.read_sql.html#pandas.read_sql)]. Syntax:\n",
    "\n",
    "```pandas.read_sql_query(sql, con, index_col=None, coerce_float=True, params=None, parse_dates=None, chunksize=None)```\n",
    "\n",
    "Read SQL *database table* into a DataFrame. Syntax:\n",
    "\n",
    "```pandas.read_sql_table(table_name, con, schema=None, index_col=None, coerce_float=True, parse_dates=None, columns=None, chunksize=None)```"
   ]
  },
  {
   "cell_type": "markdown",
   "metadata": {},
   "source": [
    "The first thing we need to do is to define an engine. Please see [this link](https://docs.sqlalchemy.org/en/13/core/engines.html) for doing so."
   ]
  },
  {
   "cell_type": "code",
   "execution_count": 2,
   "metadata": {
    "scrolled": true
   },
   "outputs": [
    {
     "data": {
      "text/html": [
       "<div>\n",
       "<style scoped>\n",
       "    .dataframe tbody tr th:only-of-type {\n",
       "        vertical-align: middle;\n",
       "    }\n",
       "\n",
       "    .dataframe tbody tr th {\n",
       "        vertical-align: top;\n",
       "    }\n",
       "\n",
       "    .dataframe thead th {\n",
       "        text-align: right;\n",
       "    }\n",
       "</style>\n",
       "<table border=\"1\" class=\"dataframe\">\n",
       "  <thead>\n",
       "    <tr style=\"text-align: right;\">\n",
       "      <th></th>\n",
       "      <th>Rank</th>\n",
       "      <th>First_Name</th>\n",
       "      <th>Last_Name</th>\n",
       "      <th>Nationality</th>\n",
       "      <th>Goals</th>\n",
       "      <th>Birth_Date</th>\n",
       "    </tr>\n",
       "  </thead>\n",
       "  <tbody>\n",
       "    <tr>\n",
       "      <th>0</th>\n",
       "      <td>1</td>\n",
       "      <td>Alan</td>\n",
       "      <td>Shearer</td>\n",
       "      <td>England</td>\n",
       "      <td>260</td>\n",
       "      <td>1970-08-13</td>\n",
       "    </tr>\n",
       "    <tr>\n",
       "      <th>1</th>\n",
       "      <td>2</td>\n",
       "      <td>Wayne</td>\n",
       "      <td>Rooney</td>\n",
       "      <td>England</td>\n",
       "      <td>208</td>\n",
       "      <td>1985-10-24</td>\n",
       "    </tr>\n",
       "    <tr>\n",
       "      <th>2</th>\n",
       "      <td>3</td>\n",
       "      <td>Andrew</td>\n",
       "      <td>Cole</td>\n",
       "      <td>England</td>\n",
       "      <td>187</td>\n",
       "      <td>1971-10-15</td>\n",
       "    </tr>\n",
       "    <tr>\n",
       "      <th>3</th>\n",
       "      <td>4</td>\n",
       "      <td>Frank</td>\n",
       "      <td>Lampard</td>\n",
       "      <td>England</td>\n",
       "      <td>177</td>\n",
       "      <td>1978-06-20</td>\n",
       "    </tr>\n",
       "    <tr>\n",
       "      <th>4</th>\n",
       "      <td>5</td>\n",
       "      <td>Thierry</td>\n",
       "      <td>Henry</td>\n",
       "      <td>France</td>\n",
       "      <td>175</td>\n",
       "      <td>1977-08-17</td>\n",
       "    </tr>\n",
       "  </tbody>\n",
       "</table>\n",
       "</div>"
      ],
      "text/plain": [
       "   Rank First_Name Last_Name Nationality  Goals Birth_Date\n",
       "0     1       Alan   Shearer     England    260 1970-08-13\n",
       "1     2      Wayne    Rooney     England    208 1985-10-24\n",
       "2     3     Andrew      Cole     England    187 1971-10-15\n",
       "3     4      Frank   Lampard     England    177 1978-06-20\n",
       "4     5    Thierry     Henry      France    175 1977-08-17"
      ]
     },
     "execution_count": 2,
     "metadata": {},
     "output_type": "execute_result"
    }
   ],
   "source": [
    "# Here we have a sqlite database\n",
    "engine = sqlalchemy.create_engine('sqlite:///mydatabase.db')\n",
    "df = pd.read_sql_table(\"Players\", engine, index_col=None)\n",
    "df.head()"
   ]
  },
  {
   "cell_type": "markdown",
   "metadata": {},
   "source": [
    "We can plot this "
   ]
  },
  {
   "cell_type": "code",
   "execution_count": 3,
   "metadata": {
    "scrolled": true
   },
   "outputs": [
    {
     "data": {
      "text/plain": [
       "<matplotlib.axes._subplots.AxesSubplot at 0x25a13b48b38>"
      ]
     },
     "execution_count": 3,
     "metadata": {},
     "output_type": "execute_result"
    },
    {
     "data": {
      "image/png": "[encoded data removed]",
      "text/plain": [
       "<Figure size 432x288 with 1 Axes>"
      ]
     },
     "metadata": {
      "needs_background": "light"
     },
     "output_type": "display_data"
    }
   ],
   "source": [
    "df.plot(x='Rank', y='Goals', kind='scatter')"
   ]
  },
  {
   "cell_type": "markdown",
   "metadata": {},
   "source": [
    "Or get mor information about this Dataframe"
   ]
  },
  {
   "cell_type": "code",
   "execution_count": 4,
   "metadata": {},
   "outputs": [
    {
     "name": "stdout",
     "output_type": "stream",
     "text": [
      "<class 'pandas.core.frame.DataFrame'>\n",
      "RangeIndex: 5 entries, 0 to 4\n",
      "Data columns (total 6 columns):\n",
      "Rank           5 non-null int64\n",
      "First_Name     5 non-null object\n",
      "Last_Name      5 non-null object\n",
      "Nationality    5 non-null object\n",
      "Goals          5 non-null int64\n",
      "Birth_Date     5 non-null datetime64[ns]\n",
      "dtypes: datetime64[ns](1), int64(2), object(3)\n",
      "memory usage: 320.0+ bytes\n"
     ]
    }
   ],
   "source": [
    "df.info()"
   ]
  },
  {
   "cell_type": "code",
   "execution_count": 5,
   "metadata": {},
   "outputs": [
    {
     "data": {
      "text/html": [
       "<div>\n",
       "<style scoped>\n",
       "    .dataframe tbody tr th:only-of-type {\n",
       "        vertical-align: middle;\n",
       "    }\n",
       "\n",
       "    .dataframe tbody tr th {\n",
       "        vertical-align: top;\n",
       "    }\n",
       "\n",
       "    .dataframe thead th {\n",
       "        text-align: right;\n",
       "    }\n",
       "</style>\n",
       "<table border=\"1\" class=\"dataframe\">\n",
       "  <thead>\n",
       "    <tr style=\"text-align: right;\">\n",
       "      <th></th>\n",
       "      <th>Rank</th>\n",
       "      <th>Goals</th>\n",
       "    </tr>\n",
       "  </thead>\n",
       "  <tbody>\n",
       "    <tr>\n",
       "      <th>count</th>\n",
       "      <td>5.000000</td>\n",
       "      <td>5.000000</td>\n",
       "    </tr>\n",
       "    <tr>\n",
       "      <th>mean</th>\n",
       "      <td>3.000000</td>\n",
       "      <td>201.400000</td>\n",
       "    </tr>\n",
       "    <tr>\n",
       "      <th>std</th>\n",
       "      <td>1.581139</td>\n",
       "      <td>35.274637</td>\n",
       "    </tr>\n",
       "    <tr>\n",
       "      <th>min</th>\n",
       "      <td>1.000000</td>\n",
       "      <td>175.000000</td>\n",
       "    </tr>\n",
       "    <tr>\n",
       "      <th>25%</th>\n",
       "      <td>2.000000</td>\n",
       "      <td>177.000000</td>\n",
       "    </tr>\n",
       "    <tr>\n",
       "      <th>50%</th>\n",
       "      <td>3.000000</td>\n",
       "      <td>187.000000</td>\n",
       "    </tr>\n",
       "    <tr>\n",
       "      <th>75%</th>\n",
       "      <td>4.000000</td>\n",
       "      <td>208.000000</td>\n",
       "    </tr>\n",
       "    <tr>\n",
       "      <th>max</th>\n",
       "      <td>5.000000</td>\n",
       "      <td>260.000000</td>\n",
       "    </tr>\n",
       "  </tbody>\n",
       "</table>\n",
       "</div>"
      ],
      "text/plain": [
       "           Rank       Goals\n",
       "count  5.000000    5.000000\n",
       "mean   3.000000  201.400000\n",
       "std    1.581139   35.274637\n",
       "min    1.000000  175.000000\n",
       "25%    2.000000  177.000000\n",
       "50%    3.000000  187.000000\n",
       "75%    4.000000  208.000000\n",
       "max    5.000000  260.000000"
      ]
     },
     "execution_count": 5,
     "metadata": {},
     "output_type": "execute_result"
    }
   ],
   "source": [
    "df.describe()\n",
    "#df.describe(include='all')"
   ]
  },
  {
   "cell_type": "markdown",
   "metadata": {},
   "source": [
    "This data can be processed using statistical tools and then the results can be pushed back to our SQL database."
   ]
  },
  {
   "cell_type": "markdown",
   "metadata": {},
   "source": [
    "## Pandas Dataframe into SQL Table"
   ]
  },
  {
   "cell_type": "markdown",
   "metadata": {},
   "source": [
    "Consider the Premier League 2018-2019 season table [[Source](https://www.premierleague.com/tables?co=1&se=210&ha=-1)]."
   ]
  },
  {
   "cell_type": "code",
   "execution_count": 6,
   "metadata": {
    "scrolled": true
   },
   "outputs": [
    {
     "data": {
      "text/html": [
       "<div>\n",
       "<style scoped>\n",
       "    .dataframe tbody tr th:only-of-type {\n",
       "        vertical-align: middle;\n",
       "    }\n",
       "\n",
       "    .dataframe tbody tr th {\n",
       "        vertical-align: top;\n",
       "    }\n",
       "\n",
       "    .dataframe thead th {\n",
       "        text-align: right;\n",
       "    }\n",
       "</style>\n",
       "<table border=\"1\" class=\"dataframe\">\n",
       "  <thead>\n",
       "    <tr style=\"text-align: right;\">\n",
       "      <th></th>\n",
       "      <th>Club</th>\n",
       "      <th>Played</th>\n",
       "      <th>Won</th>\n",
       "      <th>Drawn</th>\n",
       "      <th>Lost</th>\n",
       "      <th>GF</th>\n",
       "      <th>GA</th>\n",
       "      <th>GD</th>\n",
       "      <th>Points</th>\n",
       "    </tr>\n",
       "  </thead>\n",
       "  <tbody>\n",
       "    <tr>\n",
       "      <th>0</th>\n",
       "      <td>Manchester City</td>\n",
       "      <td>38</td>\n",
       "      <td>32</td>\n",
       "      <td>2</td>\n",
       "      <td>4</td>\n",
       "      <td>95</td>\n",
       "      <td>23</td>\n",
       "      <td>72</td>\n",
       "      <td>98</td>\n",
       "    </tr>\n",
       "    <tr>\n",
       "      <th>1</th>\n",
       "      <td>Liverpool</td>\n",
       "      <td>38</td>\n",
       "      <td>30</td>\n",
       "      <td>7</td>\n",
       "      <td>1</td>\n",
       "      <td>89</td>\n",
       "      <td>22</td>\n",
       "      <td>67</td>\n",
       "      <td>97</td>\n",
       "    </tr>\n",
       "    <tr>\n",
       "      <th>2</th>\n",
       "      <td>Previous Position Chelsea</td>\n",
       "      <td>38</td>\n",
       "      <td>21</td>\n",
       "      <td>9</td>\n",
       "      <td>8</td>\n",
       "      <td>63</td>\n",
       "      <td>39</td>\n",
       "      <td>24</td>\n",
       "      <td>72</td>\n",
       "    </tr>\n",
       "    <tr>\n",
       "      <th>3</th>\n",
       "      <td>Tottenham Hotspur</td>\n",
       "      <td>38</td>\n",
       "      <td>23</td>\n",
       "      <td>2</td>\n",
       "      <td>13</td>\n",
       "      <td>67</td>\n",
       "      <td>39</td>\n",
       "      <td>28</td>\n",
       "      <td>71</td>\n",
       "    </tr>\n",
       "    <tr>\n",
       "      <th>4</th>\n",
       "      <td>Arsenal</td>\n",
       "      <td>38</td>\n",
       "      <td>21</td>\n",
       "      <td>7</td>\n",
       "      <td>10</td>\n",
       "      <td>73</td>\n",
       "      <td>51</td>\n",
       "      <td>22</td>\n",
       "      <td>70</td>\n",
       "    </tr>\n",
       "  </tbody>\n",
       "</table>\n",
       "</div>"
      ],
      "text/plain": [
       "                        Club  Played  Won  Drawn  Lost  GF  GA  GD  Points\n",
       "0            Manchester City      38   32      2     4  95  23  72      98\n",
       "1                  Liverpool      38   30      7     1  89  22  67      97\n",
       "2  Previous Position Chelsea      38   21      9     8  63  39  24      72\n",
       "3          Tottenham Hotspur      38   23      2    13  67  39  28      71\n",
       "4                    Arsenal      38   21      7    10  73  51  22      70"
      ]
     },
     "execution_count": 6,
     "metadata": {},
     "output_type": "execute_result"
    }
   ],
   "source": [
    "PL = pd.read_csv('../Data/PL18_19.csv')\n",
    "PL.head()"
   ]
  },
  {
   "cell_type": "markdown",
   "metadata": {},
   "source": [
    "We are going to write down this **Dataframe** in our SQL database. The following syntax can be used for doing so [[Source](https://pandas.pydata.org/pandas-docs/version/0.23.4/generated/pandas.DataFrame.to_sql.html)]\n",
    "\n",
    "```DataFrame.to_sql(name, con, schema=None, if_exists='fail', index=True, index_label=None, chunksize=None, dtype=None)```"
   ]
  },
  {
   "cell_type": "code",
   "execution_count": 7,
   "metadata": {},
   "outputs": [],
   "source": [
    "engine = sqlalchemy.create_engine('sqlite:///mydatabase.db')\n",
    "#PL.to_sql('PL', engine)\n",
    "PL.to_sql('PL', engine,if_exists='replace')"
   ]
  },
  {
   "cell_type": "markdown",
   "metadata": {},
   "source": [
    "To check the results"
   ]
  },
  {
   "cell_type": "code",
   "execution_count": 8,
   "metadata": {
    "scrolled": true
   },
   "outputs": [
    {
     "data": {
      "text/plain": [
       "[(0, 'Manchester City', 38, 32, 2, 4, 95, 23, 72, 98),\n",
       " (1, 'Liverpool', 38, 30, 7, 1, 89, 22, 67, 97),\n",
       " (2, 'Previous Position Chelsea', 38, 21, 9, 8, 63, 39, 24, 72),\n",
       " (3, 'Tottenham Hotspur', 38, 23, 2, 13, 67, 39, 28, 71),\n",
       " (4, 'Arsenal', 38, 21, 7, 10, 73, 51, 22, 70),\n",
       " (5, 'Manchester United', 38, 19, 9, 10, 65, 54, 11, 66),\n",
       " (6, 'Wolverhampton Wanderers', 38, 16, 9, 13, 47, 46, 1, 57),\n",
       " (7, 'Everton', 38, 15, 9, 14, 54, 46, 8, 54),\n",
       " (8, 'Leicester City', 38, 15, 7, 16, 51, 48, 3, 52),\n",
       " (9, 'West Ham United', 38, 15, 7, 16, 52, 55, -3, 52),\n",
       " (10, 'Watford', 38, 14, 8, 16, 52, 59, -7, 50),\n",
       " (11, 'Crystal Palace', 38, 14, 7, 17, 51, 53, -2, 49),\n",
       " (12, 'Newcastle United', 38, 12, 9, 17, 42, 48, -6, 45),\n",
       " (13, 'Bournemouth', 38, 13, 6, 19, 56, 70, -14, 45),\n",
       " (14, 'Burnley', 38, 11, 7, 20, 45, 68, -23, 40),\n",
       " (15, 'Southampton', 38, 9, 12, 17, 45, 65, -20, 39),\n",
       " (16, 'Brighton and Hove Albion', 38, 9, 9, 20, 35, 60, -25, 36),\n",
       " (17, 'Cardiff City', 38, 10, 4, 24, 34, 69, -35, 34),\n",
       " (18, 'Fulham', 38, 7, 5, 26, 34, 81, -47, 26),\n",
       " (19, 'Huddersfield Town', 38, 3, 7, 28, 22, 76, -54, 16)]"
      ]
     },
     "execution_count": 8,
     "metadata": {},
     "output_type": "execute_result"
    }
   ],
   "source": [
    "engine.execute(\"SELECT * FROM PL\").fetchall()"
   ]
  },
  {
   "cell_type": "markdown",
   "metadata": {},
   "source": [
    "We can read this table as a SQL table now."
   ]
  },
  {
   "cell_type": "code",
   "execution_count": 9,
   "metadata": {},
   "outputs": [
    {
     "name": "stdout",
     "output_type": "stream",
     "text": [
      "All rows:\n",
      "(0, 'Manchester City', 38, 32, 2, 4, 95, 23, 72, 98)\n",
      "(1, 'Liverpool', 38, 30, 7, 1, 89, 22, 67, 97)\n",
      "(2, 'Previous Position Chelsea', 38, 21, 9, 8, 63, 39, 24, 72)\n",
      "(3, 'Tottenham Hotspur', 38, 23, 2, 13, 67, 39, 28, 71)\n",
      "(4, 'Arsenal', 38, 21, 7, 10, 73, 51, 22, 70)\n",
      "(5, 'Manchester United', 38, 19, 9, 10, 65, 54, 11, 66)\n",
      "(6, 'Wolverhampton Wanderers', 38, 16, 9, 13, 47, 46, 1, 57)\n",
      "(7, 'Everton', 38, 15, 9, 14, 54, 46, 8, 54)\n",
      "(8, 'Leicester City', 38, 15, 7, 16, 51, 48, 3, 52)\n",
      "(9, 'West Ham United', 38, 15, 7, 16, 52, 55, -3, 52)\n",
      "(10, 'Watford', 38, 14, 8, 16, 52, 59, -7, 50)\n",
      "(11, 'Crystal Palace', 38, 14, 7, 17, 51, 53, -2, 49)\n",
      "(12, 'Newcastle United', 38, 12, 9, 17, 42, 48, -6, 45)\n",
      "(13, 'Bournemouth', 38, 13, 6, 19, 56, 70, -14, 45)\n",
      "(14, 'Burnley', 38, 11, 7, 20, 45, 68, -23, 40)\n",
      "(15, 'Southampton', 38, 9, 12, 17, 45, 65, -20, 39)\n",
      "(16, 'Brighton and Hove Albion', 38, 9, 9, 20, 35, 60, -25, 36)\n",
      "(17, 'Cardiff City', 38, 10, 4, 24, 34, 69, -35, 34)\n",
      "(18, 'Fulham', 38, 7, 5, 26, 34, 81, -47, 26)\n",
      "(19, 'Huddersfield Town', 38, 3, 7, 28, 22, 76, -54, 16)\n"
     ]
    }
   ],
   "source": [
    "connection = sqlite3.connect(\"mydatabase.db\")\n",
    "cursor = connection.cursor()\n",
    "cursor.execute(\"SELECT * FROM PL\") \n",
    "print(\"All rows:\")\n",
    "result = cursor.fetchall() \n",
    "for row in result:\n",
    "    print(row)\n",
    "del row\n",
    "connection.close()"
   ]
  }
 ],
 "metadata": {
  "kernelspec": {
   "display_name": "Python 3",
   "language": "python",
   "name": "python3"
  },
  "language_info": {
   "codemirror_mode": {
    "name": "ipython",
    "version": 3
   },
   "file_extension": ".py",
   "mimetype": "text/x-python",
   "name": "python",
   "nbconvert_exporter": "python",
   "pygments_lexer": "ipython3",
   "version": "3.7.1"
  }
 },
 "nbformat": 4,
 "nbformat_minor": 2
}
