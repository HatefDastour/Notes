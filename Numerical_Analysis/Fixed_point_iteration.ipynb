{
 "cells": [
  {
   "cell_type": "code",
   "execution_count": 1,
   "metadata": {},
   "outputs": [],
   "source": [
    "import numpy as np\n",
    "import pandas as pd\n",
    "\n",
    "# Plots\n",
    "\n",
    "import matplotlib.pyplot as plt\n",
    "from matplotlib.patches import Ellipse, Polygon\n",
    "\n",
    "# plt setting\n",
    "plt.style.use('seaborn-whitegrid')\n",
    "plt.rcParams['axes.labelsize'] = 14\n",
    "plt.rcParams['xtick.labelsize'] = 12\n",
    "plt.rcParams['ytick.labelsize'] = 12\n",
    "plt.rcParams['text.color'] = 'k'\n",
    "%matplotlib inline\n",
    "import warnings\n",
    "warnings.filterwarnings(\"ignore\")"
   ]
  },
  {
   "cell_type": "markdown",
   "metadata": {},
   "source": [
    "# Fixed-point iteration\n",
    "\n",
    "Given a function $f$ defined on the real numbers with real values and given a point $x_{0}$ in the domain of $f$, the fixed point iteration is\n",
    "\n",
    "$$x_{n+1}=f(x_{n}),\\,n=0,1,2,\\dots $$\n",
    "\n",
    "which gives rise to the sequence $x_{0},x_{1},x_{2},\\dots$  which is hoped to converge to a point $x$."
   ]
  },
  {
   "cell_type": "code",
   "execution_count": 2,
   "metadata": {},
   "outputs": [],
   "source": [
    "def fixed_point(f,x0,TOL,Nmax):\n",
    "    # endpoint values a, b, \n",
    "    # tolerance TOL, \n",
    "    # maximum iterations NMAX\n",
    "    xn=np.zeros(Nmax, dtype=float)\n",
    "    En=np.zeros(Nmax, dtype=float)\n",
    "    xn[0] = x0\n",
    "    En[0] = 1\n",
    "    for n in range(0,Nmax-1):\n",
    "        xn[n+1] = f(xn[n])\n",
    "        En[n+1]=xn[n+1]-xn[n]\n",
    "        if abs(En[n+1]) < TOL:\n",
    "            return xn, En, n\n",
    "    return None"
   ]
  },
  {
   "cell_type": "code",
   "execution_count": 3,
   "metadata": {},
   "outputs": [
    {
     "data": {
      "text/html": [
       "<div>\n",
       "<style scoped>\n",
       "    .dataframe tbody tr th:only-of-type {\n",
       "        vertical-align: middle;\n",
       "    }\n",
       "\n",
       "    .dataframe tbody tr th {\n",
       "        vertical-align: top;\n",
       "    }\n",
       "\n",
       "    .dataframe thead th {\n",
       "        text-align: right;\n",
       "    }\n",
       "</style>\n",
       "<table border=\"1\" class=\"dataframe\">\n",
       "  <thead>\n",
       "    <tr style=\"text-align: right;\">\n",
       "      <th></th>\n",
       "      <th>xn</th>\n",
       "      <th>En</th>\n",
       "    </tr>\n",
       "  </thead>\n",
       "  <tbody>\n",
       "    <tr>\n",
       "      <th>0</th>\n",
       "      <td>0.500000</td>\n",
       "      <td>1.000000</td>\n",
       "    </tr>\n",
       "    <tr>\n",
       "      <th>1</th>\n",
       "      <td>0.707107</td>\n",
       "      <td>0.207107</td>\n",
       "    </tr>\n",
       "    <tr>\n",
       "      <th>2</th>\n",
       "      <td>0.840896</td>\n",
       "      <td>0.133790</td>\n",
       "    </tr>\n",
       "    <tr>\n",
       "      <th>3</th>\n",
       "      <td>0.917004</td>\n",
       "      <td>0.076108</td>\n",
       "    </tr>\n",
       "    <tr>\n",
       "      <th>4</th>\n",
       "      <td>0.957603</td>\n",
       "      <td>0.040599</td>\n",
       "    </tr>\n",
       "    <tr>\n",
       "      <th>5</th>\n",
       "      <td>0.978572</td>\n",
       "      <td>0.020969</td>\n",
       "    </tr>\n",
       "    <tr>\n",
       "      <th>6</th>\n",
       "      <td>0.989228</td>\n",
       "      <td>0.010656</td>\n",
       "    </tr>\n",
       "    <tr>\n",
       "      <th>7</th>\n",
       "      <td>0.994599</td>\n",
       "      <td>0.005371</td>\n",
       "    </tr>\n",
       "    <tr>\n",
       "      <th>8</th>\n",
       "      <td>0.997296</td>\n",
       "      <td>0.002697</td>\n",
       "    </tr>\n",
       "    <tr>\n",
       "      <th>9</th>\n",
       "      <td>0.998647</td>\n",
       "      <td>0.001351</td>\n",
       "    </tr>\n",
       "    <tr>\n",
       "      <th>10</th>\n",
       "      <td>0.999323</td>\n",
       "      <td>0.000676</td>\n",
       "    </tr>\n",
       "    <tr>\n",
       "      <th>11</th>\n",
       "      <td>0.999662</td>\n",
       "      <td>0.000338</td>\n",
       "    </tr>\n",
       "    <tr>\n",
       "      <th>12</th>\n",
       "      <td>0.999831</td>\n",
       "      <td>0.000169</td>\n",
       "    </tr>\n",
       "    <tr>\n",
       "      <th>13</th>\n",
       "      <td>0.999915</td>\n",
       "      <td>0.000085</td>\n",
       "    </tr>\n",
       "  </tbody>\n",
       "</table>\n",
       "</div>"
      ],
      "text/plain": [
       "          xn        En\n",
       "0   0.500000  1.000000\n",
       "1   0.707107  0.207107\n",
       "2   0.840896  0.133790\n",
       "3   0.917004  0.076108\n",
       "4   0.957603  0.040599\n",
       "5   0.978572  0.020969\n",
       "6   0.989228  0.010656\n",
       "7   0.994599  0.005371\n",
       "8   0.997296  0.002697\n",
       "9   0.998647  0.001351\n",
       "10  0.999323  0.000676\n",
       "11  0.999662  0.000338\n",
       "12  0.999831  0.000169\n",
       "13  0.999915  0.000085"
      ]
     },
     "execution_count": 3,
     "metadata": {},
     "output_type": "execute_result"
    }
   ],
   "source": [
    "f = lambda x : np.sqrt(x)\n",
    "x0 = .5\n",
    "Nmax=20; TOL=1e-4;\n",
    "\n",
    "xn, En, n = fixed_point(f,x0,TOL,Nmax)\n",
    "# data_fixed_point = pd.DataFrame({'xn': xn, 'En': En})\n",
    "data_fixed_point = pd.DataFrame({'xn': xn[0:n+2], 'En': En[0:n+2]})\n",
    "data_fixed_point"
   ]
  },
  {
   "cell_type": "code",
   "execution_count": 4,
   "metadata": {},
   "outputs": [
    {
     "data": {
      "image/png": "[encoded data removed]",
      "text/plain": [
       "<Figure size 576x576 with 1 Axes>"
      ]
     },
     "metadata": {
      "needs_background": "light"
     },
     "output_type": "display_data"
    }
   ],
   "source": [
    "x = np.linspace(0,2,100)\n",
    "y = f(x)\n",
    "\n",
    "fig, ax = plt.subplots(nrows=1, ncols=1, figsize=(8, 8), sharex = False)\n",
    "_ =  ax.plot(x,y,data_fixed_point.xn,f(data_fixed_point.xn),'bo',x0,f(x0),\n",
    "             'ro',data_fixed_point.xn[n+1],f(data_fixed_point.xn[n+1]),'go',x,x,'k')\n",
    "_ =  ax.set_xlabel('$x_n$', fontsize=18)\n",
    "_ =  ax.set_xlim([0,2])\n",
    "_ =  ax.set_ylabel('$f(x_n)$', fontsize=18)\n",
    "_ =  ax.set_ylim([0,2])\n",
    "_ = ax.annotate('$(x_0, f(x_0))$', (x0-0.15,f(x0)+.06), fontsize=14)"
   ]
  },
  {
   "cell_type": "code",
   "execution_count": null,
   "metadata": {},
   "outputs": [],
   "source": []
  }
 ],
 "metadata": {
  "kernelspec": {
   "display_name": "Python 3",
   "language": "python",
   "name": "python3"
  },
  "language_info": {
   "codemirror_mode": {
    "name": "ipython",
    "version": 3
   },
   "file_extension": ".py",
   "mimetype": "text/x-python",
   "name": "python",
   "nbconvert_exporter": "python",
   "pygments_lexer": "ipython3",
   "version": "3.7.7"
  }
 },
 "nbformat": 4,
 "nbformat_minor": 2
}
