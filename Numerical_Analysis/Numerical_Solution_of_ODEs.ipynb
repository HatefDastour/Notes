{
 "cells": [
  {
   "cell_type": "code",
   "execution_count": 1,
   "metadata": {},
   "outputs": [],
   "source": [
    "import numpy as np\n",
    "import pandas as pd\n",
    "from numpy import linalg as LA\n",
    "import math\n",
    "\n",
    "# Plots\n",
    "\n",
    "import matplotlib.pyplot as plt\n",
    "from matplotlib.patches import Ellipse, Polygon\n",
    "plt.style.use('seaborn-white')\n",
    "plt.rcParams['axes.labelsize'] = 14\n",
    "plt.rcParams['xtick.labelsize'] = 12\n",
    "plt.rcParams['ytick.labelsize'] = 12\n",
    "plt.rcParams['text.color'] = 'k'\n",
    "%matplotlib inline\n",
    "import warnings\n",
    "warnings.filterwarnings(\"ignore\")"
   ]
  },
  {
   "cell_type": "markdown",
   "metadata": {},
   "source": [
    "# Numerical Solution of Ordinary Differential Equations:\n",
    "\n",
    "* [Single-step methods](#Single-step-methods)\n",
    "    * [The (Forward) Euler method](#The-(Forward)-Euler-method)\n",
    "    * [The Backward (Implicit) Euler method](#The-Backward-(Implicit)-Euler-method)\n",
    "    * [The improved Euler method](#The-improved-Euler-method)\n",
    "    * [The Explicit Midpoint method](#The-Explicit-Midpoint-method)\n",
    "    * [The Implicit Midpoint method](#The-Implicit-Midpoint-method)\n",
    "    * [Trapezoidal rule](#Trapezoidal-rule)\n",
    "    * [Heun's method](#Heun's-method)\n",
    "* [Second-order methods](#Second-order-methods)\n",
    "    * [Verlet integration](#Verlet-integration)\n",
    "* [Second-order methods](#Second-order-methods)\n",
    "* [Multi-step Methods](#Multi-step-Methods)\n",
    "    * [Runge-Kutta Methods](#The-Runge–Kutta-method)\n",
    "    * [Adams methods](#Adams-methods)\n",
    "* [Taylor’s methods](#Taylor’s-methods)"
   ]
  },
  {
   "cell_type": "code",
   "execution_count": 2,
   "metadata": {},
   "outputs": [],
   "source": [
    "def Figs(x, y, Yexact):\n",
    "    plt.figure(figsize = (10, 4))\n",
    "    plt.plot(x, y, 'r')\n",
    "    plt.plot(x, Yexact, 'b')\n",
    "    plt.xlim(x[0], x[-1])\n",
    "    plt.ylim(int(np.min(Yexact))-1, int(np.max(Yexact))+1)\n",
    "    plt.legend([\"Approximation\",\"Exact\"], loc=2)\n",
    "    plt.xlabel('x', fontsize=20)\n",
    "    plt.ylabel('y', fontsize=20)\n",
    "    plt.tight_layout()\n",
    "    plt.show()"
   ]
  },
  {
   "cell_type": "markdown",
   "metadata": {},
   "source": [
    "## Single-step methods\n",
    "\n",
    "\n",
    "###  The (Forward) Euler method\n",
    "\n",
    "Given the initial value problem\n",
    "$$y'(t)=f(x,y(x)),\\qquad y(x_{0})=y_{0},$$\n",
    "the (forward) Euler method is defiend as follows\n",
    "$$y_{n+1}=y_{n}+hf(x_{n},y_{n}).$$"
   ]
  },
  {
   "cell_type": "code",
   "execution_count": 3,
   "metadata": {},
   "outputs": [],
   "source": [
    "def forward_Euler(f, y_init, x_range, h):\n",
    "    # Inputs\n",
    "    # f: the ODE y'=f(t,y(x))\n",
    "    # y0: the initial value\n",
    "    # x_range: interval [a,b]\n",
    "    # h: step size h\n",
    "    \n",
    "    N = int((x_range[-1] - x_range[0])/h)\n",
    "    x=np.linspace(x_range[0],x_range[-1],N+1)\n",
    "    y=np.zeros(N+1, dtype=float)\n",
    "    y[0]=y_init\n",
    "    for i in range(N):\n",
    "        y[i+1]=y[i]+h*f(x[i],y[i])\n",
    "    \n",
    "    return x, y"
   ]
  },
  {
   "cell_type": "markdown",
   "metadata": {},
   "source": [
    "**Example** Conisder the initial value problem $\\begin{cases}y'+2xy=xe^{-x^2},\\\\ y(0) = 1 \\end{cases},\\quad 0 \\leq x \\leq 1$ with exact solution $y\\left(x \\right) = \\left(1 + \\dfrac{x^{2}}{2}\\right) e^{- x^{2}}$, use the forward Euler to approximate the solution of the IVP."
   ]
  },
  {
   "cell_type": "code",
   "execution_count": 4,
   "metadata": {
    "scrolled": false
   },
   "outputs": [],
   "source": [
    "# f(x,y(x)):\n",
    "f=lambda x, y: x*np.exp(-x**(2))-2*x*y\n",
    "# f'(x,y(x)):\n",
    "f1=lambda x, y: np.exp(-x**2) - 2*y - 2*(x**2)*np.exp(-x**2)\n",
    "# the eact solution y(x)\n",
    "y_exact= lambda x: (1+(x**2)/2)*np.exp(-x**2)\n",
    "# the initial value y(0)=1\n",
    "y_init=1\n",
    "# the domain \n",
    "x_range=[0,1]\n",
    "# the step size\n",
    "h=0.01"
   ]
  },
  {
   "cell_type": "code",
   "execution_count": 5,
   "metadata": {},
   "outputs": [
    {
     "data": {
      "image/png": "[encoded data removed]",
      "text/plain": [
       "<Figure size 720x288 with 1 Axes>"
      ]
     },
     "metadata": {
      "needs_background": "light"
     },
     "output_type": "display_data"
    }
   ],
   "source": [
    "x,y =forward_Euler(f, y_init, x_range, h)\n",
    "Yexact=y_exact(x)\n",
    "# Figure\n",
    "Figs(x, y, Yexact)"
   ]
  },
  {
   "cell_type": "code",
   "execution_count": 6,
   "metadata": {
    "scrolled": true
   },
   "outputs": [
    {
     "data": {
      "text/html": [
       "<div>\n",
       "<style scoped>\n",
       "    .dataframe tbody tr th:only-of-type {\n",
       "        vertical-align: middle;\n",
       "    }\n",
       "\n",
       "    .dataframe tbody tr th {\n",
       "        vertical-align: top;\n",
       "    }\n",
       "\n",
       "    .dataframe thead th {\n",
       "        text-align: right;\n",
       "    }\n",
       "</style>\n",
       "<table border=\"1\" class=\"dataframe\">\n",
       "  <thead>\n",
       "    <tr style=\"text-align: right;\">\n",
       "      <th></th>\n",
       "      <th>h</th>\n",
       "      <th>Norm</th>\n",
       "      <th>Ratio</th>\n",
       "      <th>Log</th>\n",
       "    </tr>\n",
       "  </thead>\n",
       "  <tbody>\n",
       "    <tr>\n",
       "      <th>0</th>\n",
       "      <td>0.1000</td>\n",
       "      <td>0.024427</td>\n",
       "      <td>0.000000</td>\n",
       "      <td>0.000000</td>\n",
       "    </tr>\n",
       "    <tr>\n",
       "      <th>1</th>\n",
       "      <td>0.0100</td>\n",
       "      <td>0.002304</td>\n",
       "      <td>10.603728</td>\n",
       "      <td>1.025459</td>\n",
       "    </tr>\n",
       "    <tr>\n",
       "      <th>2</th>\n",
       "      <td>0.0010</td>\n",
       "      <td>0.000229</td>\n",
       "      <td>10.057657</td>\n",
       "      <td>1.002497</td>\n",
       "    </tr>\n",
       "    <tr>\n",
       "      <th>3</th>\n",
       "      <td>0.0001</td>\n",
       "      <td>0.000023</td>\n",
       "      <td>10.005755</td>\n",
       "      <td>1.000250</td>\n",
       "    </tr>\n",
       "  </tbody>\n",
       "</table>\n",
       "</div>"
      ],
      "text/plain": [
       "        h      Norm      Ratio       Log\n",
       "0  0.1000  0.024427   0.000000  0.000000\n",
       "1  0.0100  0.002304  10.603728  1.025459\n",
       "2  0.0010  0.000229  10.057657  1.002497\n",
       "3  0.0001  0.000023  10.005755  1.000250"
      ]
     },
     "execution_count": 6,
     "metadata": {},
     "output_type": "execute_result"
    }
   ],
   "source": [
    "it=4\n",
    "Norm=np.zeros(it, dtype=float)\n",
    "h=np.zeros(it, dtype=float)\n",
    "Ratio=np.zeros(it, dtype=float)\n",
    "LOG=np.zeros(it, dtype=float)\n",
    "\n",
    "for i in range(it):\n",
    "    h[i]=0.1/(10**i)\n",
    "for i in range(it):\n",
    "    x,y =forward_Euler(f, y_init, x_range, h[i])\n",
    "    Yexact=y_exact(x)\n",
    "    Norm[i]=LA.norm(y-Yexact, np.inf)\n",
    "    if (i>0):\n",
    "        Ratio[i]=Norm[i-1]/Norm[i]\n",
    "        LOG[i]=math.log(Ratio[i],10)\n",
    "        \n",
    "\n",
    "data = pd.DataFrame({'h': h, 'Norm': Norm, 'Ratio': Ratio, 'Log': LOG})\n",
    "data"
   ]
  },
  {
   "cell_type": "markdown",
   "metadata": {},
   "source": [
    "### The Backward (Implicit) Euler method\n",
    "Given the initial value problem\n",
    "$$y'(t)=f(x,y(x)),\\qquad y(x_{0})=y_{0},$$\n",
    "the backward (implicit) Euler method is defiend as follows\n",
    "$$y_{n+1}=y_{n}+hf(x_{n+1},y_{n+1}).$$"
   ]
  },
  {
   "cell_type": "markdown",
   "metadata": {},
   "source": [
    "### The improved Euler method\n",
    "\n",
    "Given the initial value problem\n",
    "$$y'(t)=f(x,y(x)),\\qquad y(x_{0})=y_{0},$$\n",
    "the (Forward) Euler method is defiend as follows\n",
    "$$y_{n+1}=y_{n}+hf(x_{n},y_{n}).$$\n",
    "\n",
    "The improved (semi-implicit) Euler method can be also is defiend as follows\n",
    "\\begin{align}\n",
    "\\begin{cases}\n",
    "z_{n}=y_{n}+hf(x_{n},y_{n})\\\\\n",
    "y_{n+1}=y_{n}+\\dfrac{h}{2}\\left(f(x_{n},y_{n})+f(x_{n+1},z_{n}) \\right)\n",
    "\\end{cases}\n",
    "\\end{align} "
   ]
  },
  {
   "cell_type": "code",
   "execution_count": 7,
   "metadata": {},
   "outputs": [],
   "source": [
    "def Improved_forward_Euler(f, y_init, x_range, h):\n",
    "    # Inputs\n",
    "    # f: the ODE y'=f(t,y(x))\n",
    "    # y0: the initial value\n",
    "    # x_range: interval [a,b]\n",
    "    # h: step size h\n",
    "    \n",
    "    N = int((x_range[-1] - x_range[0])/h)\n",
    "    x=np.linspace(x_range[0],x_range[-1],N+1)\n",
    "    y=np.zeros(N+1, dtype=float)\n",
    "    y[0]=y_init\n",
    "    for i in range(N):\n",
    "        z=y[i]+h*f(x[i],y[i])\n",
    "        y[i+1]=y[i]+(h/2)*(f(x[i],y[i])+f(x[i+1],z))\n",
    "    \n",
    "    return x, y"
   ]
  },
  {
   "cell_type": "markdown",
   "metadata": {},
   "source": [
    "**Example**: Try the previous Example, using the semi-implicit Euler method."
   ]
  },
  {
   "cell_type": "code",
   "execution_count": 8,
   "metadata": {},
   "outputs": [],
   "source": [
    "f=lambda x, y: (2*y/x) + (x**2)*np.exp(x)\n",
    "y_exact= lambda x: (x**2)*(np.exp(x)-np.exp(1))\n",
    "y_init=0\n",
    "x_range=[1,2]\n",
    "h=0.01"
   ]
  },
  {
   "cell_type": "code",
   "execution_count": 9,
   "metadata": {
    "scrolled": true
   },
   "outputs": [
    {
     "data": {
      "image/png": "[encoded data removed]",
      "text/plain": [
       "<Figure size 720x288 with 1 Axes>"
      ]
     },
     "metadata": {
      "needs_background": "light"
     },
     "output_type": "display_data"
    }
   ],
   "source": [
    "x,y =Improved_forward_Euler(f, y_init, x_range, h)\n",
    "Yexact=y_exact(x)\n",
    "# Figure\n",
    "Figs(x, y, Yexact)"
   ]
  },
  {
   "cell_type": "code",
   "execution_count": 10,
   "metadata": {
    "scrolled": true
   },
   "outputs": [
    {
     "data": {
      "text/html": [
       "<div>\n",
       "<style scoped>\n",
       "    .dataframe tbody tr th:only-of-type {\n",
       "        vertical-align: middle;\n",
       "    }\n",
       "\n",
       "    .dataframe tbody tr th {\n",
       "        vertical-align: top;\n",
       "    }\n",
       "\n",
       "    .dataframe thead th {\n",
       "        text-align: right;\n",
       "    }\n",
       "</style>\n",
       "<table border=\"1\" class=\"dataframe\">\n",
       "  <thead>\n",
       "    <tr style=\"text-align: right;\">\n",
       "      <th></th>\n",
       "      <th>h</th>\n",
       "      <th>Norm</th>\n",
       "      <th>Ratio</th>\n",
       "      <th>Log</th>\n",
       "    </tr>\n",
       "  </thead>\n",
       "  <tbody>\n",
       "    <tr>\n",
       "      <th>0</th>\n",
       "      <td>0.1000</td>\n",
       "      <td>1.042146e-01</td>\n",
       "      <td>0.000000</td>\n",
       "      <td>0.000000</td>\n",
       "    </tr>\n",
       "    <tr>\n",
       "      <th>1</th>\n",
       "      <td>0.0100</td>\n",
       "      <td>1.251543e-03</td>\n",
       "      <td>83.268939</td>\n",
       "      <td>1.920483</td>\n",
       "    </tr>\n",
       "    <tr>\n",
       "      <th>2</th>\n",
       "      <td>0.0010</td>\n",
       "      <td>1.274492e-05</td>\n",
       "      <td>98.199366</td>\n",
       "      <td>1.992109</td>\n",
       "    </tr>\n",
       "    <tr>\n",
       "      <th>3</th>\n",
       "      <td>0.0001</td>\n",
       "      <td>1.276807e-07</td>\n",
       "      <td>99.818628</td>\n",
       "      <td>1.999212</td>\n",
       "    </tr>\n",
       "  </tbody>\n",
       "</table>\n",
       "</div>"
      ],
      "text/plain": [
       "        h          Norm      Ratio       Log\n",
       "0  0.1000  1.042146e-01   0.000000  0.000000\n",
       "1  0.0100  1.251543e-03  83.268939  1.920483\n",
       "2  0.0010  1.274492e-05  98.199366  1.992109\n",
       "3  0.0001  1.276807e-07  99.818628  1.999212"
      ]
     },
     "execution_count": 10,
     "metadata": {},
     "output_type": "execute_result"
    }
   ],
   "source": [
    "it=4\n",
    "Norm=np.zeros(it, dtype=float)\n",
    "h=np.zeros(it, dtype=float)\n",
    "Ratio=np.zeros(it, dtype=float)\n",
    "LOG=np.zeros(it, dtype=float)\n",
    "\n",
    "for i in range(it):\n",
    "    h[i]=0.1/(10**i)\n",
    "for i in range(it):\n",
    "    x,y =Improved_forward_Euler(f, y_init, x_range, h[i])\n",
    "    Yexact=y_exact(x)\n",
    "    Norm[i]=LA.norm(y-Yexact, np.inf)\n",
    "    if (i>0):\n",
    "        Ratio[i]=Norm[i-1]/Norm[i]\n",
    "        LOG[i]=math.log(Ratio[i],10)\n",
    "        \n",
    "\n",
    "data = pd.DataFrame({'h': h, 'Norm': Norm, 'Ratio': Ratio, 'Log': LOG})\n",
    "data"
   ]
  },
  {
   "cell_type": "markdown",
   "metadata": {},
   "source": [
    "### The Explicit Midpoint method\n",
    "\n",
    "Given the initial value problem\n",
    "$$y'(t)=f(x,y(x)),\\qquad y(x_{0})=y_{0},$$\n",
    "The explicit midpoint method is given by the formula\n",
    "$$y_{n+1}=y_{n}+hf\\left(x_{n}+{\\frac {h}{2}},y_{n}+{\\frac {h}{2}}f(x_{n},y_{n})\\right).$$"
   ]
  },
  {
   "cell_type": "code",
   "execution_count": 11,
   "metadata": {},
   "outputs": [],
   "source": [
    "def Midpoint_method(f, y_init, x_range, h):\n",
    "    # Inputs\n",
    "    # f: the ODE y'=f(t,y(x))\n",
    "    # y0: the initial value\n",
    "    # x_range: interval [a,b]\n",
    "    # h: step size h\n",
    "    \n",
    "    N = int((x_range[-1] - x_range[0])/h)\n",
    "    x=np.linspace(x_range[0],x_range[-1],N+1)\n",
    "    y=np.zeros(N+1, dtype=float)\n",
    "    y[0]=y_init\n",
    "    for i in range(N):\n",
    "        z=y[i]+h*f(x[i],y[i])\n",
    "        y[i+1]=y[i]+h*f(x[i]+h/2,y[i]+(h/2)*f(x[i],y[i]))\n",
    "    \n",
    "    return x, y"
   ]
  },
  {
   "cell_type": "code",
   "execution_count": 12,
   "metadata": {},
   "outputs": [],
   "source": [
    "f=lambda x, y: (2*y/x) + (x**2)*np.exp(x)\n",
    "y_exact= lambda x: (x**2)*(np.exp(x)-np.exp(1))\n",
    "y_init=0\n",
    "x_range=[1,2]\n",
    "h=0.01"
   ]
  },
  {
   "cell_type": "code",
   "execution_count": 13,
   "metadata": {
    "scrolled": true
   },
   "outputs": [
    {
     "data": {
      "image/png": "[encoded data removed]",
      "text/plain": [
       "<Figure size 720x288 with 1 Axes>"
      ]
     },
     "metadata": {
      "needs_background": "light"
     },
     "output_type": "display_data"
    }
   ],
   "source": [
    "x,y =Midpoint_method(f, y_init, x_range, h)\n",
    "Yexact=y_exact(x)\n",
    "# Figure\n",
    "Figs(x, y, Yexact)"
   ]
  },
  {
   "cell_type": "code",
   "execution_count": 14,
   "metadata": {
    "scrolled": true
   },
   "outputs": [
    {
     "data": {
      "text/html": [
       "<div>\n",
       "<style scoped>\n",
       "    .dataframe tbody tr th:only-of-type {\n",
       "        vertical-align: middle;\n",
       "    }\n",
       "\n",
       "    .dataframe tbody tr th {\n",
       "        vertical-align: top;\n",
       "    }\n",
       "\n",
       "    .dataframe thead th {\n",
       "        text-align: right;\n",
       "    }\n",
       "</style>\n",
       "<table border=\"1\" class=\"dataframe\">\n",
       "  <thead>\n",
       "    <tr style=\"text-align: right;\">\n",
       "      <th></th>\n",
       "      <th>h</th>\n",
       "      <th>Norm</th>\n",
       "      <th>Ratio</th>\n",
       "      <th>Log</th>\n",
       "    </tr>\n",
       "  </thead>\n",
       "  <tbody>\n",
       "    <tr>\n",
       "      <th>0</th>\n",
       "      <td>0.1000</td>\n",
       "      <td>1.627825e-01</td>\n",
       "      <td>0.000000</td>\n",
       "      <td>0.000000</td>\n",
       "    </tr>\n",
       "    <tr>\n",
       "      <th>1</th>\n",
       "      <td>0.0100</td>\n",
       "      <td>1.801962e-03</td>\n",
       "      <td>90.336259</td>\n",
       "      <td>1.955862</td>\n",
       "    </tr>\n",
       "    <tr>\n",
       "      <th>2</th>\n",
       "      <td>0.0010</td>\n",
       "      <td>1.820544e-05</td>\n",
       "      <td>98.979312</td>\n",
       "      <td>1.995544</td>\n",
       "    </tr>\n",
       "    <tr>\n",
       "      <th>3</th>\n",
       "      <td>0.0001</td>\n",
       "      <td>1.822414e-07</td>\n",
       "      <td>99.897395</td>\n",
       "      <td>1.999554</td>\n",
       "    </tr>\n",
       "  </tbody>\n",
       "</table>\n",
       "</div>"
      ],
      "text/plain": [
       "        h          Norm      Ratio       Log\n",
       "0  0.1000  1.627825e-01   0.000000  0.000000\n",
       "1  0.0100  1.801962e-03  90.336259  1.955862\n",
       "2  0.0010  1.820544e-05  98.979312  1.995544\n",
       "3  0.0001  1.822414e-07  99.897395  1.999554"
      ]
     },
     "execution_count": 14,
     "metadata": {},
     "output_type": "execute_result"
    }
   ],
   "source": [
    "it=4\n",
    "Norm=np.zeros(it, dtype=float)\n",
    "h=np.zeros(it, dtype=float)\n",
    "Ratio=np.zeros(it, dtype=float)\n",
    "LOG=np.zeros(it, dtype=float)\n",
    "\n",
    "for i in range(it):\n",
    "    h[i]=0.1/(10**i)\n",
    "for i in range(it):\n",
    "    x,y =Midpoint_method(f, y_init, x_range, h[i])\n",
    "    Yexact=y_exact(x)\n",
    "    Norm[i]=LA.norm(y-Yexact, np.inf)\n",
    "    if (i>0):\n",
    "        Ratio[i]=Norm[i-1]/Norm[i]\n",
    "        LOG[i]=math.log(Ratio[i],10)\n",
    "        \n",
    "\n",
    "data = pd.DataFrame({'h': h, 'Norm': Norm, 'Ratio': Ratio, 'Log': LOG})\n",
    "data"
   ]
  },
  {
   "cell_type": "markdown",
   "metadata": {},
   "source": [
    "### The Implicit Midpoint method\n",
    "\n",
    "Given the initial value problem\n",
    "$$y'(t)=f(x,y(x)),\\qquad y(x_{0})=y_{0},$$\n",
    "the implicit midpoint method is given by\n",
    "$$y_{n+1}=y_{n}+hf\\left(t_{n}+{\\frac {h}{2}},{\\frac {1}{2}}(y_{n}+y_{n+1})\\right).$$"
   ]
  },
  {
   "cell_type": "markdown",
   "metadata": {},
   "source": [
    "### Trapezoidal rule\n",
    "\n",
    "Given the initial value problem\n",
    "$$y'(t)=f(x,y(x)),\\qquad y(x_{0})=y_{0},$$\n",
    "the trapezoidal rule is given by\n",
    "$$y_{{n+1}}=y_{n}+{\\dfrac  12}h{\\Big (}f(x_{n},y_{n})+f(x_{{n+1}},y_{{n+1}}){\\Big )}.$$"
   ]
  },
  {
   "cell_type": "markdown",
   "metadata": {},
   "source": [
    "### Heun's method\n",
    "\n",
    "Given the initial value problem\n",
    "$$y'(t)=f(x,y(x)),\\qquad y(x_{0})=y_{0},$$\n",
    "the Heun's method is given by\n",
    "$$\n",
    "y_{n+1}=y_{n}+{\\dfrac {h}{4}}\\left(f(x_{n},y_{n})+f(x_{n}+\\dfrac{2}{3}h,y_{n}+\\dfrac{2}{3}f(x_n,y_n))\\right). \n",
    "$$"
   ]
  },
  {
   "cell_type": "code",
   "execution_count": 15,
   "metadata": {},
   "outputs": [],
   "source": [
    "def Heun_method(f, y_init, x_range, h):\n",
    "    # Inputs\n",
    "    # f: the ODE y'=f(t,y(x))\n",
    "    # y0: the initial value\n",
    "    # x_range: interval [a,b]\n",
    "    # h: step size h\n",
    "    \n",
    "    N = int((x_range[-1] - x_range[0])/h)\n",
    "    x=np.linspace(x_range[0],x_range[-1],N+1)\n",
    "    y=np.zeros(N+1, dtype=float)\n",
    "    y[0]=y_init\n",
    "    for i in range(N):\n",
    "        y[i+1]=y[i]+(h/4)*(f(x[i],y[i])+3*f(x[i]+(2*h/3),y[i]+(2*h/3)*f(x[i],y[i])))\n",
    "    \n",
    "    return x, y"
   ]
  },
  {
   "cell_type": "code",
   "execution_count": 16,
   "metadata": {},
   "outputs": [],
   "source": [
    "f=lambda x, y: (2*y/x) + (x**2)*np.exp(x)\n",
    "y_exact= lambda x: (x**2)*(np.exp(x)-np.exp(1))\n",
    "y_init=0\n",
    "x_range=[1,2]\n",
    "h=0.01"
   ]
  },
  {
   "cell_type": "code",
   "execution_count": 17,
   "metadata": {
    "scrolled": true
   },
   "outputs": [
    {
     "data": {
      "image/png": "[encoded data removed]",
      "text/plain": [
       "<Figure size 720x288 with 1 Axes>"
      ]
     },
     "metadata": {
      "needs_background": "light"
     },
     "output_type": "display_data"
    }
   ],
   "source": [
    "x,y =Heun_method(f, y_init, x_range, h)\n",
    "Yexact=y_exact(x)\n",
    "# Figure\n",
    "Figs(x, y, Yexact)"
   ]
  },
  {
   "cell_type": "code",
   "execution_count": 18,
   "metadata": {
    "scrolled": true
   },
   "outputs": [
    {
     "data": {
      "text/html": [
       "<div>\n",
       "<style scoped>\n",
       "    .dataframe tbody tr th:only-of-type {\n",
       "        vertical-align: middle;\n",
       "    }\n",
       "\n",
       "    .dataframe tbody tr th {\n",
       "        vertical-align: top;\n",
       "    }\n",
       "\n",
       "    .dataframe thead th {\n",
       "        text-align: right;\n",
       "    }\n",
       "</style>\n",
       "<table border=\"1\" class=\"dataframe\">\n",
       "  <thead>\n",
       "    <tr style=\"text-align: right;\">\n",
       "      <th></th>\n",
       "      <th>h</th>\n",
       "      <th>Norm</th>\n",
       "      <th>Ratio</th>\n",
       "      <th>Log</th>\n",
       "    </tr>\n",
       "  </thead>\n",
       "  <tbody>\n",
       "    <tr>\n",
       "      <th>0</th>\n",
       "      <td>0.1000</td>\n",
       "      <td>1.441763e-01</td>\n",
       "      <td>0.000000</td>\n",
       "      <td>0.000000</td>\n",
       "    </tr>\n",
       "    <tr>\n",
       "      <th>1</th>\n",
       "      <td>0.0100</td>\n",
       "      <td>1.619526e-03</td>\n",
       "      <td>89.023734</td>\n",
       "      <td>1.949506</td>\n",
       "    </tr>\n",
       "    <tr>\n",
       "      <th>2</th>\n",
       "      <td>0.0010</td>\n",
       "      <td>1.638632e-05</td>\n",
       "      <td>98.834062</td>\n",
       "      <td>1.994907</td>\n",
       "    </tr>\n",
       "    <tr>\n",
       "      <th>3</th>\n",
       "      <td>0.0001</td>\n",
       "      <td>1.640556e-07</td>\n",
       "      <td>99.882698</td>\n",
       "      <td>1.999490</td>\n",
       "    </tr>\n",
       "  </tbody>\n",
       "</table>\n",
       "</div>"
      ],
      "text/plain": [
       "        h          Norm      Ratio       Log\n",
       "0  0.1000  1.441763e-01   0.000000  0.000000\n",
       "1  0.0100  1.619526e-03  89.023734  1.949506\n",
       "2  0.0010  1.638632e-05  98.834062  1.994907\n",
       "3  0.0001  1.640556e-07  99.882698  1.999490"
      ]
     },
     "execution_count": 18,
     "metadata": {},
     "output_type": "execute_result"
    }
   ],
   "source": [
    "it=4\n",
    "Norm=np.zeros(it, dtype=float)\n",
    "h=np.zeros(it, dtype=float)\n",
    "Ratio=np.zeros(it, dtype=float)\n",
    "LOG=np.zeros(it, dtype=float)\n",
    "\n",
    "for i in range(it):\n",
    "    h[i]=0.1/(10**i)\n",
    "for i in range(it):\n",
    "    x,y =Heun_method(f, y_init, x_range, h[i])\n",
    "    Yexact=y_exact(x)\n",
    "    Norm[i]=LA.norm(y-Yexact, np.inf)\n",
    "    if (i>0):\n",
    "        Ratio[i]=Norm[i-1]/Norm[i]\n",
    "        LOG[i]=math.log(Ratio[i],10)\n",
    "        \n",
    "\n",
    "data = pd.DataFrame({'h': h, 'Norm': Norm, 'Ratio': Ratio, 'Log': LOG})\n",
    "data"
   ]
  },
  {
   "cell_type": "markdown",
   "metadata": {},
   "source": [
    "## Multi-step Methods"
   ]
  },
  {
   "cell_type": "markdown",
   "metadata": {},
   "source": [
    "### The Runge–Kutta method\n",
    "\n",
    "It is defiend as follows\n",
    "\n",
    "$y_{n+1}=y_{n}+{\\dfrac {1}{6}}\\left(k_{1}+2k_{2}+2k_{3}+k_{4}\\right),\\quad \\text{for }n = 0, 1, 2, 3, \\ldots,$\n",
    "with\n",
    "\\begin{align}\n",
    "\\begin{cases}\n",
    "k_{1}&=h\\ f(t_{n},y_{n}),\\\\k_{2}&=h\\ f\\left(t_{n}+{\\frac {h}{2}},y_{n}+{\\frac {k_{1}}{2}}\\right),\\\\k_{3}&=h\\ f\\left(t_{n}+{\\frac {h}{2}},y_{n}+{\\frac {k_{2}}{2}}\\right),\\\\k_{4}&=h\\ f\\left(t_{n}+h,y_{n}+k_{3}\\right).\n",
    "\\end{cases}\n",
    "\\end{align} "
   ]
  },
  {
   "cell_type": "code",
   "execution_count": 19,
   "metadata": {},
   "outputs": [],
   "source": [
    "def runge_kutta(f, y_init, x_range, h):\n",
    "    # Inputs\n",
    "    # f: the ODE y'=f(t,y(x))\n",
    "    # y0: the initial value\n",
    "    # x_range: interval [a,b]\n",
    "    # h: step size h\n",
    "    \n",
    "    N = int((x_range[-1] - x_range[0])/h)\n",
    "    x=np.linspace(x_range[0],x_range[-1],N+1)\n",
    "    y=np.zeros(N+1, dtype=float)\n",
    "    y[0]=y_init\n",
    "    for i in range(N):\n",
    "        k1=f(x[i],y[i]);\n",
    "        k2=f(x[i]+(h/2),y[i]+(h/2)*k1);\n",
    "        k3=f(x[i]+(h/2),y[i]+(h/2)*k2);\n",
    "        k4=f(x[i+1],y[i]+h*k3);\n",
    "        y[i+1]=y[i]+h*(k1+2*k2+2*k3+k4)/6\n",
    "    \n",
    "    return x, y"
   ]
  },
  {
   "cell_type": "code",
   "execution_count": 20,
   "metadata": {},
   "outputs": [],
   "source": [
    "f=lambda x, y: (2*y/x) + (x**2)*np.exp(x)\n",
    "y_exact= lambda x: (x**2)*(np.exp(x)-np.exp(1))\n",
    "y_init=0\n",
    "x_range=[1,2]\n",
    "h=0.01"
   ]
  },
  {
   "cell_type": "code",
   "execution_count": 21,
   "metadata": {
    "scrolled": true
   },
   "outputs": [
    {
     "data": {
      "image/png": "[encoded data removed]",
      "text/plain": [
       "<Figure size 720x288 with 1 Axes>"
      ]
     },
     "metadata": {
      "needs_background": "light"
     },
     "output_type": "display_data"
    }
   ],
   "source": [
    "x,y =runge_kutta(f, y_init, x_range, h)\n",
    "Yexact=y_exact(x)\n",
    "# Figure\n",
    "Figs(x, y, Yexact)"
   ]
  },
  {
   "cell_type": "code",
   "execution_count": 22,
   "metadata": {
    "scrolled": true
   },
   "outputs": [
    {
     "data": {
      "text/html": [
       "<div>\n",
       "<style scoped>\n",
       "    .dataframe tbody tr th:only-of-type {\n",
       "        vertical-align: middle;\n",
       "    }\n",
       "\n",
       "    .dataframe tbody tr th {\n",
       "        vertical-align: top;\n",
       "    }\n",
       "\n",
       "    .dataframe thead th {\n",
       "        text-align: right;\n",
       "    }\n",
       "</style>\n",
       "<table border=\"1\" class=\"dataframe\">\n",
       "  <thead>\n",
       "    <tr style=\"text-align: right;\">\n",
       "      <th></th>\n",
       "      <th>h</th>\n",
       "      <th>Norm</th>\n",
       "      <th>Ratio</th>\n",
       "      <th>Log</th>\n",
       "    </tr>\n",
       "  </thead>\n",
       "  <tbody>\n",
       "    <tr>\n",
       "      <th>0</th>\n",
       "      <td>0.100</td>\n",
       "      <td>1.705142e-04</td>\n",
       "      <td>0.000000</td>\n",
       "      <td>0.000000</td>\n",
       "    </tr>\n",
       "    <tr>\n",
       "      <th>1</th>\n",
       "      <td>0.010</td>\n",
       "      <td>2.034729e-08</td>\n",
       "      <td>8380.192342</td>\n",
       "      <td>3.923254</td>\n",
       "    </tr>\n",
       "    <tr>\n",
       "      <th>2</th>\n",
       "      <td>0.001</td>\n",
       "      <td>2.071232e-12</td>\n",
       "      <td>9823.763293</td>\n",
       "      <td>3.992278</td>\n",
       "    </tr>\n",
       "  </tbody>\n",
       "</table>\n",
       "</div>"
      ],
      "text/plain": [
       "       h          Norm        Ratio       Log\n",
       "0  0.100  1.705142e-04     0.000000  0.000000\n",
       "1  0.010  2.034729e-08  8380.192342  3.923254\n",
       "2  0.001  2.071232e-12  9823.763293  3.992278"
      ]
     },
     "execution_count": 22,
     "metadata": {},
     "output_type": "execute_result"
    }
   ],
   "source": [
    "it=3\n",
    "Norm=np.zeros(it, dtype=float)\n",
    "h=np.zeros(it, dtype=float)\n",
    "Ratio=np.zeros(it, dtype=float)\n",
    "LOG=np.zeros(it, dtype=float)\n",
    "\n",
    "for i in range(it):\n",
    "    h[i]=0.1/(10**i)\n",
    "for i in range(it):\n",
    "    x,y =runge_kutta(f, y_init, x_range, h[i])\n",
    "    Yexact=y_exact(x)\n",
    "    Norm[i]=LA.norm(y-Yexact, np.inf)\n",
    "    if (i>0):\n",
    "        Ratio[i]=Norm[i-1]/Norm[i]\n",
    "        LOG[i]=math.log(Ratio[i],10)\n",
    "        \n",
    "\n",
    "data = pd.DataFrame({'h': h, 'Norm': Norm, 'Ratio': Ratio, 'Log': LOG})\n",
    "data"
   ]
  },
  {
   "cell_type": "markdown",
   "metadata": {},
   "source": [
    "### Adams methods\n",
    "\n",
    "\n",
    "* The two-step Adams predictor-corrector method:\n",
    "\n",
    "\\begin{align}\n",
    "z_{n+1}&=y_{n}+\\dfrac{h}{2}\\left(3f(x_{n},y_{n})-f(x_{n-1},y_{n-1})\\right),\\\\\n",
    "y_{n+1}&=y_{n}+\\dfrac{h}{2} \\left(f(x_{n+1},z_{n+1})+f(x_{n},y_{n})\\right).\n",
    "\\end{align}\n",
    "\n",
    "The four-step Adams predictor-corrector method uses the four-step Adams–Bashforth and Adams-Moulton methods together:\n",
    "\n",
    "\\begin{align}\n",
    "z_{n+1}&=y_{n}+\\dfrac{h}{24} \\left(55f(x_{n},y_{n})-59f(x_{n-1},y_{n-1})+37f(x_{n-2},y_{n-2})-9f(x_{n-3},y_{n-3})\\right),\\\\\n",
    "y_{n+1}&=y_{n}+\\dfrac{h}{24} \\left(9f(x_{n+1},z_{n+1})+19f(x_{n},y_{n})-5f(x_{n-1},y_{n-1})+f(x_{n-2},y_{n-2})\\right).\n",
    "\\end{align} "
   ]
  },
  {
   "cell_type": "code",
   "execution_count": 23,
   "metadata": {},
   "outputs": [],
   "source": [
    "def Adams_2step(f, y_init, x_range, h):\n",
    "    # Inputs\n",
    "    # f: the ODE y'=f(t,y(x))\n",
    "    # y0: the initial value\n",
    "    # x_range: interval [a,b]\n",
    "    # h: step size h\n",
    "    \n",
    "    N = int((x_range[-1] - x_range[0])/h)\n",
    "    x=np.linspace(x_range[0],x_range[-1],N+1)\n",
    "    y=np.zeros(N+1, dtype=float)\n",
    "    # the first two steps in Runge-Kutta\n",
    "    x, y=runge_kutta(f, y_init, x_range, h)\n",
    "        \n",
    "    for i in range(1,N):\n",
    "        z=y[i]+(h/2)*(3*f(x[i],y[i])-f(x[i-1],y[i-1]))\n",
    "        y[i+1]=y[i]+(h/2)*(f(x[i+1],z)+f(x[i],y[i]))\n",
    "    \n",
    "    return x, y"
   ]
  },
  {
   "cell_type": "code",
   "execution_count": 24,
   "metadata": {
    "scrolled": false
   },
   "outputs": [
    {
     "data": {
      "image/png": "[encoded data removed]",
      "text/plain": [
       "<Figure size 720x288 with 1 Axes>"
      ]
     },
     "metadata": {
      "needs_background": "light"
     },
     "output_type": "display_data"
    }
   ],
   "source": [
    "f=lambda x, y: (2*y/x) + (x**2)*np.exp(x)\n",
    "y_exact= lambda x: (x**2)*(np.exp(x)-np.exp(1))\n",
    "y_init=0\n",
    "x_range=[1,2]\n",
    "h=0.01\n",
    "x,y =Adams_2step(f, y_init, x_range, h)\n",
    "Yexact=y_exact(x)\n",
    "# Figure\n",
    "Figs(x, y, Yexact)"
   ]
  },
  {
   "cell_type": "code",
   "execution_count": 25,
   "metadata": {},
   "outputs": [
    {
     "data": {
      "text/html": [
       "<div>\n",
       "<style scoped>\n",
       "    .dataframe tbody tr th:only-of-type {\n",
       "        vertical-align: middle;\n",
       "    }\n",
       "\n",
       "    .dataframe tbody tr th {\n",
       "        vertical-align: top;\n",
       "    }\n",
       "\n",
       "    .dataframe thead th {\n",
       "        text-align: right;\n",
       "    }\n",
       "</style>\n",
       "<table border=\"1\" class=\"dataframe\">\n",
       "  <thead>\n",
       "    <tr style=\"text-align: right;\">\n",
       "      <th></th>\n",
       "      <th>h</th>\n",
       "      <th>Norm</th>\n",
       "      <th>Ratio</th>\n",
       "      <th>Log</th>\n",
       "    </tr>\n",
       "  </thead>\n",
       "  <tbody>\n",
       "    <tr>\n",
       "      <th>0</th>\n",
       "      <td>0.100</td>\n",
       "      <td>0.071255</td>\n",
       "      <td>0.000000</td>\n",
       "      <td>0.000000</td>\n",
       "    </tr>\n",
       "    <tr>\n",
       "      <th>1</th>\n",
       "      <td>0.010</td>\n",
       "      <td>0.001125</td>\n",
       "      <td>63.332893</td>\n",
       "      <td>1.801629</td>\n",
       "    </tr>\n",
       "    <tr>\n",
       "      <th>2</th>\n",
       "      <td>0.001</td>\n",
       "      <td>0.000012</td>\n",
       "      <td>95.504329</td>\n",
       "      <td>1.980023</td>\n",
       "    </tr>\n",
       "  </tbody>\n",
       "</table>\n",
       "</div>"
      ],
      "text/plain": [
       "       h      Norm      Ratio       Log\n",
       "0  0.100  0.071255   0.000000  0.000000\n",
       "1  0.010  0.001125  63.332893  1.801629\n",
       "2  0.001  0.000012  95.504329  1.980023"
      ]
     },
     "execution_count": 25,
     "metadata": {},
     "output_type": "execute_result"
    }
   ],
   "source": [
    "it=3\n",
    "Norm=np.zeros(it, dtype=float)\n",
    "h=np.zeros(it, dtype=float)\n",
    "Ratio=np.zeros(it, dtype=float)\n",
    "LOG=np.zeros(it, dtype=float)\n",
    "\n",
    "for i in range(it):\n",
    "    h[i]=0.1/(10**i)\n",
    "for i in range(it):\n",
    "    x,y =Adams_2step(f, y_init, x_range, h[i])\n",
    "    Yexact=y_exact(x)\n",
    "    Norm[i]=LA.norm(y-Yexact, np.inf)\n",
    "    if (i>0):\n",
    "        Ratio[i]=Norm[i-1]/Norm[i]\n",
    "        LOG[i]=math.log(Ratio[i],10)\n",
    "        \n",
    "\n",
    "data = pd.DataFrame({'h': h, 'Norm': Norm, 'Ratio': Ratio, 'Log': LOG})\n",
    "data"
   ]
  },
  {
   "cell_type": "code",
   "execution_count": 26,
   "metadata": {},
   "outputs": [],
   "source": [
    "def Adams_4step(f, y_init, x_range, h):\n",
    "    # Inputs\n",
    "    # f: the ODE y'=f(t,y(x))\n",
    "    # y0: the initial value\n",
    "    # x_range: interval [a,b]\n",
    "    # h: step size h\n",
    "    \n",
    "    N = int((x_range[-1] - x_range[0])/h)\n",
    "    x=np.linspace(x_range[0],x_range[-1],N+1)\n",
    "    y=np.zeros(N+1, dtype=float)\n",
    "    # the first two steps in Runge-Kutta\n",
    "    x, y=runge_kutta(f, y_init, x_range, h)\n",
    "        \n",
    "    for i in range(3,N):\n",
    "        z=y[i]+(h/24)*(55*f(x[i],y[i])-59*f(x[i-1],y[i-1])+37*f(x[i-2],y[i-2])-9*f(x[i-3],y[i-3]))\n",
    "        y[i+1]=y[i]+(h/24)*(9*f(x[i+1],z)+19*f(x[i],y[i])-5*f(x[i-1],y[i-1])+f(x[i-2],y[i-2]))\n",
    "    return x, y"
   ]
  },
  {
   "cell_type": "code",
   "execution_count": 27,
   "metadata": {
    "scrolled": true
   },
   "outputs": [
    {
     "data": {
      "image/png": "[encoded data removed]",
      "text/plain": [
       "<Figure size 720x288 with 1 Axes>"
      ]
     },
     "metadata": {
      "needs_background": "light"
     },
     "output_type": "display_data"
    }
   ],
   "source": [
    "f=lambda x, y: (2*y/x) + (x**2)*np.exp(x)\n",
    "y_exact= lambda x: (x**2)*(np.exp(x)-np.exp(1))\n",
    "y_init=0\n",
    "x_range=[1,2]\n",
    "h=0.01\n",
    "x,y =Adams_4step(f, y_init, x_range, h)\n",
    "Yexact=y_exact(x)\n",
    "# Figure\n",
    "Figs(x, y, Yexact)"
   ]
  },
  {
   "cell_type": "code",
   "execution_count": 28,
   "metadata": {},
   "outputs": [
    {
     "data": {
      "text/html": [
       "<div>\n",
       "<style scoped>\n",
       "    .dataframe tbody tr th:only-of-type {\n",
       "        vertical-align: middle;\n",
       "    }\n",
       "\n",
       "    .dataframe tbody tr th {\n",
       "        vertical-align: top;\n",
       "    }\n",
       "\n",
       "    .dataframe thead th {\n",
       "        text-align: right;\n",
       "    }\n",
       "</style>\n",
       "<table border=\"1\" class=\"dataframe\">\n",
       "  <thead>\n",
       "    <tr style=\"text-align: right;\">\n",
       "      <th></th>\n",
       "      <th>h</th>\n",
       "      <th>Norm</th>\n",
       "      <th>Ratio</th>\n",
       "      <th>Log</th>\n",
       "    </tr>\n",
       "  </thead>\n",
       "  <tbody>\n",
       "    <tr>\n",
       "      <th>0</th>\n",
       "      <td>0.100</td>\n",
       "      <td>1.463079e-04</td>\n",
       "      <td>0.000000</td>\n",
       "      <td>0.000000</td>\n",
       "    </tr>\n",
       "    <tr>\n",
       "      <th>1</th>\n",
       "      <td>0.010</td>\n",
       "      <td>7.086653e-08</td>\n",
       "      <td>2064.555713</td>\n",
       "      <td>3.314827</td>\n",
       "    </tr>\n",
       "    <tr>\n",
       "      <th>2</th>\n",
       "      <td>0.001</td>\n",
       "      <td>7.993606e-12</td>\n",
       "      <td>8865.402222</td>\n",
       "      <td>3.947698</td>\n",
       "    </tr>\n",
       "  </tbody>\n",
       "</table>\n",
       "</div>"
      ],
      "text/plain": [
       "       h          Norm        Ratio       Log\n",
       "0  0.100  1.463079e-04     0.000000  0.000000\n",
       "1  0.010  7.086653e-08  2064.555713  3.314827\n",
       "2  0.001  7.993606e-12  8865.402222  3.947698"
      ]
     },
     "execution_count": 28,
     "metadata": {},
     "output_type": "execute_result"
    }
   ],
   "source": [
    "it=3\n",
    "Norm=np.zeros(it, dtype=float)\n",
    "h=np.zeros(it, dtype=float)\n",
    "Ratio=np.zeros(it, dtype=float)\n",
    "LOG=np.zeros(it, dtype=float)\n",
    "\n",
    "for i in range(it):\n",
    "    h[i]=0.1/(10**i)\n",
    "for i in range(it):\n",
    "    x,y =Adams_4step(f, y_init, x_range, h[i])\n",
    "    Yexact=y_exact(x)\n",
    "    Norm[i]=LA.norm(y-Yexact, np.inf)\n",
    "    if (i>0):\n",
    "        Ratio[i]=Norm[i-1]/Norm[i]\n",
    "        LOG[i]=math.log(Ratio[i],10)\n",
    "        \n",
    "\n",
    "data = pd.DataFrame({'h': h, 'Norm': Norm, 'Ratio': Ratio, 'Log': LOG})\n",
    "data"
   ]
  },
  {
   "cell_type": "markdown",
   "metadata": {},
   "source": [
    "## Taylor’s methods\n",
    "\n",
    "Taylor's Method of order $n$:\n",
    "\n",
    "\\begin{align*}\n",
    "y(x_{i+1}) = y(x_{i})& + h f(x_{i},y(x_{i})) + \\frac{h^{2}}{2} f'(x_{i},y(x_{i})) + \\ldots + \\frac{h^{n}}{n!}f^{(n-1)}(x_{i},y(x_{i}))\n",
    "\\end{align*} "
   ]
  },
  {
   "cell_type": "code",
   "execution_count": 29,
   "metadata": {},
   "outputs": [],
   "source": [
    "def Taylor_Method(f,f1, y_init, x_range, h):\n",
    "    # Inputs\n",
    "    # f: the ODE y'=f(t,y(x))\n",
    "    # f1: the derivative of f(t,y(x))\n",
    "    # y0: the initial value\n",
    "    # x_range: interval [a,b]\n",
    "    # h: step size h\n",
    "    \n",
    "    N = int((x_range[-1] - x_range[0])/h)\n",
    "    x=np.linspace(x_range[0],x_range[-1],N+1)\n",
    "    y=np.zeros(N+1, dtype=float)\n",
    "        \n",
    "    for i in range(0,N):\n",
    "        y[i+1]=y[i]+h*f(x[i],y[i])+((h**2)/2)*f1(x[i],y[i])\n",
    "    return x, y"
   ]
  },
  {
   "cell_type": "code",
   "execution_count": 30,
   "metadata": {},
   "outputs": [
    {
     "data": {
      "image/png": "[encoded data removed]",
      "text/plain": [
       "<Figure size 720x288 with 1 Axes>"
      ]
     },
     "metadata": {
      "needs_background": "light"
     },
     "output_type": "display_data"
    }
   ],
   "source": [
    "f=lambda x, y: (2*y/x) + (x**2)*np.exp(x)\n",
    "y_exact= lambda x: (x**2)*(np.exp(x)-np.exp(1))\n",
    "y_init=0\n",
    "x_range=[1,2]\n",
    "h=0.01\n",
    "x,y =Taylor_Method(f, f1, y_init, x_range, h)\n",
    "Yexact=y_exact(x)\n",
    "# Figure\n",
    "Figs(x, y, Yexact)"
   ]
  },
  {
   "cell_type": "code",
   "execution_count": 31,
   "metadata": {},
   "outputs": [
    {
     "data": {
      "text/html": [
       "<div>\n",
       "<style scoped>\n",
       "    .dataframe tbody tr th:only-of-type {\n",
       "        vertical-align: middle;\n",
       "    }\n",
       "\n",
       "    .dataframe tbody tr th {\n",
       "        vertical-align: top;\n",
       "    }\n",
       "\n",
       "    .dataframe thead th {\n",
       "        text-align: right;\n",
       "    }\n",
       "</style>\n",
       "<table border=\"1\" class=\"dataframe\">\n",
       "  <thead>\n",
       "    <tr style=\"text-align: right;\">\n",
       "      <th></th>\n",
       "      <th>h</th>\n",
       "      <th>Norm</th>\n",
       "      <th>Ratio</th>\n",
       "      <th>Log</th>\n",
       "    </tr>\n",
       "  </thead>\n",
       "  <tbody>\n",
       "    <tr>\n",
       "      <th>0</th>\n",
       "      <td>0.1000</td>\n",
       "      <td>3.798546</td>\n",
       "      <td>0.000000</td>\n",
       "      <td>0.000000</td>\n",
       "    </tr>\n",
       "    <tr>\n",
       "      <th>1</th>\n",
       "      <td>0.0100</td>\n",
       "      <td>0.440811</td>\n",
       "      <td>8.617166</td>\n",
       "      <td>0.935364</td>\n",
       "    </tr>\n",
       "    <tr>\n",
       "      <th>2</th>\n",
       "      <td>0.0010</td>\n",
       "      <td>0.044802</td>\n",
       "      <td>9.839023</td>\n",
       "      <td>0.992952</td>\n",
       "    </tr>\n",
       "    <tr>\n",
       "      <th>3</th>\n",
       "      <td>0.0001</td>\n",
       "      <td>0.004488</td>\n",
       "      <td>9.983634</td>\n",
       "      <td>0.999289</td>\n",
       "    </tr>\n",
       "  </tbody>\n",
       "</table>\n",
       "</div>"
      ],
      "text/plain": [
       "        h      Norm     Ratio       Log\n",
       "0  0.1000  3.798546  0.000000  0.000000\n",
       "1  0.0100  0.440811  8.617166  0.935364\n",
       "2  0.0010  0.044802  9.839023  0.992952\n",
       "3  0.0001  0.004488  9.983634  0.999289"
      ]
     },
     "execution_count": 31,
     "metadata": {},
     "output_type": "execute_result"
    }
   ],
   "source": [
    "it=4\n",
    "Norm=np.zeros(it, dtype=float)\n",
    "h=np.zeros(it, dtype=float)\n",
    "Ratio=np.zeros(it, dtype=float)\n",
    "LOG=np.zeros(it, dtype=float)\n",
    "\n",
    "for i in range(it):\n",
    "    h[i]=0.1/(10**i)\n",
    "for i in range(it):\n",
    "    x,y =Taylor_Method(f, f1, y_init, x_range, h[i])\n",
    "    Yexact=y_exact(x)\n",
    "    Norm[i]=LA.norm(y-Yexact, np.inf)\n",
    "    if (i>0):\n",
    "        Ratio[i]=Norm[i-1]/Norm[i]\n",
    "        LOG[i]=math.log(Ratio[i],10)\n",
    "        \n",
    "\n",
    "data = pd.DataFrame({'h': h, 'Norm': Norm, 'Ratio': Ratio, 'Log': LOG})\n",
    "data"
   ]
  }
 ],
 "metadata": {
  "kernelspec": {
   "display_name": "Python 3",
   "language": "python",
   "name": "python3"
  },
  "language_info": {
   "codemirror_mode": {
    "name": "ipython",
    "version": 3
   },
   "file_extension": ".py",
   "mimetype": "text/x-python",
   "name": "python",
   "nbconvert_exporter": "python",
   "pygments_lexer": "ipython3",
   "version": "3.7.7"
  }
 },
 "nbformat": 4,
 "nbformat_minor": 2
}
