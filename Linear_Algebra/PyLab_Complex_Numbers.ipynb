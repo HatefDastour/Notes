{
 "cells": [
  {
   "cell_type": "code",
   "execution_count": 1,
   "metadata": {},
   "outputs": [],
   "source": [
    "from __future__ import division\n",
    "from sympy import *\n",
    "init_printing(use_unicode=True)\n",
    "\n",
    "from sympy.solvers import solve\n",
    "from sympy import Symbol\n",
    "x = Symbol('x')\n",
    "\n",
    "import numpy as np\n",
    "import cmath\n",
    "\n",
    "# matplotlib\n",
    "import matplotlib.pyplot as plt\n",
    "\n",
    "## Text\n",
    "from IPython.display import display, Markdown, Latex\n",
    "\n",
    "import warnings\n",
    "warnings.filterwarnings(\"ignore\")"
   ]
  },
  {
   "cell_type": "markdown",
   "metadata": {},
   "source": [
    "Addition and Subtraction of Complex Numbers\n",
    "-------------------------------------------\n",
    "\n",
    "For two complex numbers $z_1$ and $z_2$.\n",
    "$$\\begin{aligned}\n",
    "z_1+z_2&=\\left(a+b\\,i\\right)+\\left(c+d\\,i\\right)=\\left(a+c\\right)+\\left(b+d\\right)\\,i,\\\\\n",
    "z_1-z_2&=\\left(a+b\\,i\\right)-\\left(c+d\\,i\\right)=\\left(a-c\\right)+\\left(b-d\\right)\\,i.\\end{aligned}$$"
   ]
  },
  {
   "cell_type": "markdown",
   "metadata": {},
   "source": [
    "<font color='red'>**Note**: In python, the imaginary part is shown with $j$</font>"
   ]
  },
  {
   "cell_type": "markdown",
   "metadata": {},
   "source": [
    "<div class=\"alert alert-block alert-info\">\n",
    "<font size=\"+1\"><b>\n",
    "Properties of Addition\n",
    "</b></font>\n",
    "    \n",
    "<p>Let <span class=\"math inline\">\\(z\\)</span>, <span class=\"math inline\">\\(w\\)</span>, and <span class=\"math inline\">\\(v\\)</span> be complex numbers.</p>\n",
    "<ul>\n",
    "<li><p><span class=\"math inline\">\\(z + w = w + z\\)</span>.</p></li>\n",
    "<li><p><span class=\"math inline\">\\((z + w) + v = z + (w + v)\\)</span>.</p></li>\n",
    "<li><p><span class=\"math inline\">\\(z + 0 =0+z= z\\)</span>.</p></li>\n",
    "<li><p>For every <span class=\"math inline\">\\(z=a+bi\\)</span> there exists a complex number <span class=\"math inline\">\\(-z = -a -bi\\)</span> such that<br />\n",
    "<span class=\"math inline\">\\(z + (-z) =(-z)+z=0.\\)</span></p></li>\n",
    "</ul>\n",
    "    \n",
    "</div>"
   ]
  },
  {
   "cell_type": "markdown",
   "metadata": {},
   "source": [
    "**Example**:\n",
    "-   $(-3+6i) + (5-i) =  2+5i$.\n",
    "\n",
    "-   $(4-7i) + (6-2i) =  10-9i$."
   ]
  },
  {
   "cell_type": "markdown",
   "metadata": {},
   "source": [
    "For details please check [cmath](https://docs.python.org/3/library/cmath.html)."
   ]
  },
  {
   "cell_type": "code",
   "execution_count": 2,
   "metadata": {},
   "outputs": [
    {
     "data": {
      "text/plain": [
       "(2+5j)"
      ]
     },
     "execution_count": 2,
     "metadata": {},
     "output_type": "execute_result"
    }
   ],
   "source": [
    "complex(-3,6) + complex(5,-1)"
   ]
  },
  {
   "cell_type": "code",
   "execution_count": 3,
   "metadata": {},
   "outputs": [
    {
     "data": {
      "text/plain": [
       "(10-9j)"
      ]
     },
     "execution_count": 3,
     "metadata": {},
     "output_type": "execute_result"
    }
   ],
   "source": [
    "complex(4,-7) + complex(6,-2)"
   ]
  },
  {
   "cell_type": "markdown",
   "metadata": {},
   "source": [
    "Multiplication of Complex Numbers\n",
    "---------------------------------\n",
    "\n",
    "Let $z_1=a+bi$ and $z_2=c+di$ be complex\n",
    "numbers. Then the **product** of $z$ and $w$ is $$\n",
    "\\begin{aligned}\n",
    "z_1z_2=\n",
    "(a+bi)(c+di)=\n",
    "(ac-bd)+\n",
    "(ad+bc)i.\n",
    "\\end{aligned}$$"
   ]
  },
  {
   "cell_type": "markdown",
   "metadata": {},
   "source": [
    "<div class=\"alert alert-block alert-info\">\n",
    "<font size=\"+1\"><b>\n",
    "Properties of Multiplication of Complex Numbers\n",
    "</b></font>\n",
    "    \n",
    "<p>Let <span class=\"math inline\">\\(z, w\\)</span> and <span class=\"math inline\">\\(v\\)</span> be complex numbers.</p>\n",
    "<ul>\n",
    "<li><p><span class=\"math inline\">\\(zw=wz\\)</span>.</p></li>\n",
    "<li><p><span class=\"math inline\">\\((zw)v=z(wv)\\)</span>.</p></li>\n",
    "<li><p><span class=\"math inline\">\\(z (w+v) = zw + zv\\)</span>.</p></li>\n",
    "<li><p><span class=\"math inline\">\\(1z=z\\)</span>.</p></li>\n",
    "<li><p>For each <span class=\"math inline\">\\(z \\neq 0\\)</span>, there exists <span class=\"math inline\">\\(z^{-1}\\)</span> such that<br />\n",
    "<span class=\"math inline\">\\(z z^{-1} =z^{-1}z= 1\\)</span>.</p></li>\n",
    "</ul>\n",
    "    \n",
    "</div>"
   ]
  },
  {
   "cell_type": "markdown",
   "metadata": {},
   "source": [
    "**Example**: Consider $z=(-3+6i)$, $w=(5-i)$ and $v=(1-2i)$. Try the above theorem using $z_1$ and $z_2$."
   ]
  },
  {
   "cell_type": "code",
   "execution_count": 4,
   "metadata": {},
   "outputs": [],
   "source": [
    "z = complex(-3,6)\n",
    "w = complex(5,-1)\n",
    "v = complex(1,-2)"
   ]
  },
  {
   "cell_type": "markdown",
   "metadata": {},
   "source": [
    "* $zw=wz$"
   ]
  },
  {
   "cell_type": "code",
   "execution_count": 5,
   "metadata": {},
   "outputs": [
    {
     "name": "stdout",
     "output_type": "stream",
     "text": [
      "zw = (-9+33j)\n",
      "wz = (-9+33j)\n"
     ]
    }
   ],
   "source": [
    "print('zw = %s' % str(z*w))\n",
    "print('wz = %s' % str(w*z))"
   ]
  },
  {
   "cell_type": "markdown",
   "metadata": {},
   "source": [
    "* $((zw)v=z(wv)$"
   ]
  },
  {
   "cell_type": "code",
   "execution_count": 6,
   "metadata": {
    "scrolled": true
   },
   "outputs": [
    {
     "name": "stdout",
     "output_type": "stream",
     "text": [
      "((zw)v = (57+51j)\n",
      "z(wv) = (57+51j)\n"
     ]
    }
   ],
   "source": [
    "print('((zw)v = %s' % str((z*w)*v))\n",
    "print('z(wv) = %s' % str(z*(w*v)))"
   ]
  },
  {
   "cell_type": "markdown",
   "metadata": {},
   "source": [
    "* $z (w+v) = zw + zv$"
   ]
  },
  {
   "cell_type": "code",
   "execution_count": 7,
   "metadata": {},
   "outputs": [
    {
     "name": "stdout",
     "output_type": "stream",
     "text": [
      "z (w+v) = 45j\n",
      "zw + zv = 45j\n"
     ]
    }
   ],
   "source": [
    "print('z (w+v) = %s' % str(z*(w+v)))\n",
    "print('zw + zv = %s' % str(z*w + z*v))"
   ]
  },
  {
   "cell_type": "markdown",
   "metadata": {},
   "source": [
    "## The Conjugate of a Complex Number\n",
    "\n",
    "For a given complex number $z = a+b\\,i$, we have\n",
    "$\\overline{z} = a-b\\,i$.\n",
    "$$\\overline{z} = \\overline{a+b\\,i}=a-b\\,i.$$"
   ]
  },
  {
   "cell_type": "markdown",
   "metadata": {},
   "source": [
    "For example,"
   ]
  },
  {
   "cell_type": "code",
   "execution_count": 8,
   "metadata": {},
   "outputs": [
    {
     "data": {
      "text/latex": [
       "$z$ = (1+2j)"
      ],
      "text/plain": [
       "<IPython.core.display.Latex object>"
      ]
     },
     "metadata": {},
     "output_type": "display_data"
    },
    {
     "data": {
      "text/latex": [
       "$\\bar{z}$ = (1-2j)"
      ],
      "text/plain": [
       "<IPython.core.display.Latex object>"
      ]
     },
     "metadata": {},
     "output_type": "display_data"
    }
   ],
   "source": [
    "z= 1 + 2j\n",
    "display(Latex(r'$z$ = %s' % str(z)))\n",
    "display(Latex(r'$\\bar{z}$ = %s' % str(np.conj(z))))"
   ]
  },
  {
   "cell_type": "markdown",
   "metadata": {},
   "source": [
    "Polar Form\n",
    "==========\n",
    "\n",
    "\n",
    "Let $z$ be a complex number with $|z|=r$ and $\\arg z=\\theta$. Then\n",
    "$$\\begin{aligned}\n",
    "z%=re^{i\\theta}\n",
    "=r(\\cos\\theta + i\\sin\\theta )\\end{aligned}$$ is called **a polar form**\n",
    "of $z$."
   ]
  },
  {
   "cell_type": "markdown",
   "metadata": {},
   "source": [
    "For example, $z = 2\\,e^{i\\pi/6}$"
   ]
  },
  {
   "cell_type": "code",
   "execution_count": 9,
   "metadata": {},
   "outputs": [
    {
     "data": {
      "image/png": "[encoded data removed]",
      "text/plain": [
       "<Figure size 432x432 with 1 Axes>"
      ]
     },
     "metadata": {
      "needs_background": "light"
     },
     "output_type": "display_data"
    }
   ],
   "source": [
    "fig = plt.figure(figsize=(6, 6))\n",
    "ax = plt.subplot(111, projection='polar')\n",
    "theta = np.pi/6\n",
    "r = 2\n",
    "_ = ax.scatter(theta, r)\n",
    "# _ = ax.set_rmax(r+1)\n",
    "_ = ax.set_rticks([0.5, 1, 1.5, 2])\n",
    "_ = ax.set_rlabel_position(-22.5)\n",
    "_ = ax.grid(True)"
   ]
  },
  {
   "cell_type": "markdown",
   "metadata": {},
   "source": [
    "**Example**: \n",
    "1.  Let $z = -\\frac{1}{2}+\\frac{\\sqrt{3}}{2}i$ be a complex number.\n",
    "    Write $z$ in the polar form $z =r\\,e^{i\\theta}$.\n",
    "\n",
    "2.  Let $z = 2\\,e^{i\\pi/6}$. Write $z$ in the standard (Cartesian) form\n",
    "    $z = a+b\\,i$."
   ]
  },
  {
   "cell_type": "markdown",
   "metadata": {},
   "source": [
    "For details please check [cmath](https://docs.python.org/3/library/cmath.html)."
   ]
  },
  {
   "cell_type": "markdown",
   "metadata": {},
   "source": [
    "1. In polar form"
   ]
  },
  {
   "cell_type": "code",
   "execution_count": 10,
   "metadata": {},
   "outputs": [],
   "source": [
    "z = -1/2 + np.sqrt(3)/2j"
   ]
  },
  {
   "cell_type": "code",
   "execution_count": 11,
   "metadata": {},
   "outputs": [
    {
     "data": {
      "image/png": "[encoded data removed]",
      "text/plain": [
       "<Figure size 360x720 with 1 Axes>"
      ]
     },
     "metadata": {
      "needs_background": "light"
     },
     "output_type": "display_data"
    }
   ],
   "source": [
    "fig = plt.figure(figsize=(5, 10))\n",
    "ax = plt.subplot(2, 1, 1)\n",
    "_ =ax.plot(z.real, z.imag, 'ro')\n",
    "_ = ax.set_xlabel('$x$', fontsize=18)\n",
    "_ = ax.set_ylabel('$y$', fontsize=18)\n",
    "_ = ax.grid(True, which='both')\n",
    "_ = ax.axhline(y=0, color='k')\n",
    "_ = ax.axvline(x=0, color='k')"
   ]
  },
  {
   "cell_type": "code",
   "execution_count": 12,
   "metadata": {
    "scrolled": true
   },
   "outputs": [
    {
     "data": {
      "image/png": "[encoded data removed]",
      "text/latex": [
       "$\\displaystyle \\left( 0.9999999999999999, \\  -2.0943951023931957\\right)$"
      ],
      "text/plain": [
       "(0.9999999999999999, -2.0943951023931957)"
      ]
     },
     "execution_count": 12,
     "metadata": {},
     "output_type": "execute_result"
    }
   ],
   "source": [
    "cmath.polar(z)"
   ]
  },
  {
   "cell_type": "markdown",
   "metadata": {},
   "source": [
    "2. In standard (Cartesian) form"
   ]
  },
  {
   "cell_type": "code",
   "execution_count": 13,
   "metadata": {},
   "outputs": [
    {
     "data": {
      "image/png": "[encoded data removed]",
      "text/plain": [
       "<Figure size 432x432 with 1 Axes>"
      ]
     },
     "metadata": {
      "needs_background": "light"
     },
     "output_type": "display_data"
    }
   ],
   "source": [
    "fig = plt.figure(figsize=(6, 6))\n",
    "ax = plt.subplot(111, projection='polar')\n",
    "theta = np.pi/6\n",
    "r = 2\n",
    "_ = ax.scatter(theta, r)\n",
    "# _ = ax.set_rmax(r+1)\n",
    "_ = ax.set_rticks([0.5, 1, 1.5, 2])\n",
    "_ = ax.set_rlabel_position(-22.5)\n",
    "_ = ax.grid(True)"
   ]
  },
  {
   "cell_type": "code",
   "execution_count": 14,
   "metadata": {},
   "outputs": [
    {
     "data": {
      "text/plain": [
       "(1.7320508075688774+0.9999999999999999j)"
      ]
     },
     "execution_count": 14,
     "metadata": {},
     "output_type": "execute_result"
    }
   ],
   "source": [
    "cmath.rect(2, cmath.pi/6)"
   ]
  },
  {
   "cell_type": "markdown",
   "metadata": {},
   "source": [
    "# The Quadratic Formula"
   ]
  },
  {
   "cell_type": "markdown",
   "metadata": {},
   "source": [
    "<font color='Blue'><b>Example</b></font>:\n",
    "Find the roots of the equation $x^2+x+1=0$."
   ]
  },
  {
   "cell_type": "code",
   "execution_count": 15,
   "metadata": {},
   "outputs": [
    {
     "data": {
      "image/png": "[encoded data removed]",
      "text/latex": [
       "$\\displaystyle \\left[ - \\frac{1}{2} - \\frac{\\sqrt{3} i}{2}, \\  - \\frac{1}{2} + \\frac{\\sqrt{3} i}{2}\\right]$"
      ],
      "text/plain": [
       "⎡  1   √3⋅ⅈ    1   √3⋅ⅈ⎤\n",
       "⎢- ─ - ────, - ─ + ────⎥\n",
       "⎣  2    2      2    2  ⎦"
      ]
     },
     "execution_count": 15,
     "metadata": {},
     "output_type": "execute_result"
    }
   ],
   "source": [
    "solve(x**2 + x + 1, x)"
   ]
  },
  {
   "cell_type": "markdown",
   "metadata": {},
   "source": [
    "<font color='Blue'><b>Example</b></font>:\n",
    "Find the roots of the quadratic $x^2-(3-2i)x+(5-i)=0$."
   ]
  },
  {
   "cell_type": "code",
   "execution_count": 16,
   "metadata": {},
   "outputs": [
    {
     "data": {
      "image/png": "[encoded data removed]",
      "text/latex": [
       "$\\displaystyle \\left[ 1.0 + 1.0 i, \\  2.0 - 3.0 i\\right]$"
      ],
      "text/plain": [
       "[1.0 + 1.0⋅ⅈ, 2.0 - 3.0⋅ⅈ]"
      ]
     },
     "execution_count": 16,
     "metadata": {},
     "output_type": "execute_result"
    }
   ],
   "source": [
    "solve(x**2 - (3-2j)*x + (5-1j), x)"
   ]
  },
  {
   "cell_type": "markdown",
   "metadata": {},
   "source": [
    "***"
   ]
  }
 ],
 "metadata": {
  "kernelspec": {
   "display_name": "Python 3",
   "language": "python",
   "name": "python3"
  },
  "language_info": {
   "codemirror_mode": {
    "name": "ipython",
    "version": 3
   },
   "file_extension": ".py",
   "mimetype": "text/x-python",
   "name": "python",
   "nbconvert_exporter": "python",
   "pygments_lexer": "ipython3",
   "version": "3.7.8"
  }
 },
 "nbformat": 4,
 "nbformat_minor": 4
}
