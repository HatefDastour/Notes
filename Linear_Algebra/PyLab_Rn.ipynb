{
 "cells": [
  {
   "cell_type": "code",
   "execution_count": 13,
   "metadata": {},
   "outputs": [],
   "source": [
    "from __future__ import division\n",
    "from sympy import *\n",
    "init_printing(use_unicode=True)\n",
    "\n",
    "import numpy as np\n",
    "\n",
    "import warnings\n",
    "warnings.filterwarnings(\"ignore\")"
   ]
  },
  {
   "cell_type": "markdown",
   "metadata": {},
   "source": [
    "Vectors in $\\mathbb{R}^n$\n",
    "--------------------------\n",
    "\n",
    "### Ordered n-tuple\n",
    "\n",
    "An ordered sequence $(a_1 , a_2 , \\ldots, a_n )$ of real numbers is\n",
    "called an **ordered n-tuple**. The word \"ordered\" here reflects our\n",
    "insistence that two ordered n-tuples are equal if and only if\n",
    "corresponding entries are the same. In other words,\n",
    "$$(a_1 , a_2 , \\ldots, a_n ) = (b_1 , b_2 , \\ldots, b_n )$$ if and only\n",
    "if $$a_1 = b_1 , a_2 = b_2 , \\ldots,\\text{ and }a_n = b_n$$"
   ]
  },
  {
   "cell_type": "markdown",
   "metadata": {},
   "source": [
    "In python, we can define tuples similarly. For example,"
   ]
  },
  {
   "cell_type": "code",
   "execution_count": 2,
   "metadata": {},
   "outputs": [
    {
     "data": {
      "text/plain": [
       "tuple"
      ]
     },
     "execution_count": 2,
     "metadata": {},
     "output_type": "execute_result"
    }
   ],
   "source": [
    "A =(1,2,3)\n",
    "type(A)"
   ]
  },
  {
   "cell_type": "markdown",
   "metadata": {},
   "source": [
    "Throughout this article, we will be using many of the NumPy [linear algebra](https://docs.scipy.org/doc/numpy/reference/routines.linalg.html#module-numpy.linalg) functions."
   ]
  },
  {
   "cell_type": "markdown",
   "metadata": {},
   "source": [
    "### Length of $\\overrightarrow{PQ}$\n",
    "Let $P = (p_1,\\ldots,p_n)$ and $Q=(q_1,\\ldots,q_n)$ be two points in $\\mathbb{R}^n$. The distance between $\\vec{P}$ and $\\vec{Q}$ is the length of $\\overrightarrow{PQ}$,\n",
    "\\begin{align*}\n",
    "\\|\\overrightarrow{PQ}\\|=\\sqrt{(p_1-q_1)^2+(p_2-q_2)^2+(p_3-q_3)^2+\\ldots+(p_n-q_n)^2}\n",
    "\\end{align*}"
   ]
  },
  {
   "cell_type": "markdown",
   "metadata": {},
   "source": [
    "**Example**:\n",
    "Let $\\vec{u}=\\begin{bmatrix}1 & 2 & 2\\end{bmatrix}^T$. Then the length of $4\\vec{u}=\\begin{bmatrix}4 & 8 & 8\\end{bmatrix}^T$ can be evaluated using"
   ]
  },
  {
   "cell_type": "markdown",
   "metadata": {},
   "source": [
    "Let"
   ]
  },
  {
   "cell_type": "code",
   "execution_count": 3,
   "metadata": {},
   "outputs": [],
   "source": [
    "u = np.array([1, 2, 2])"
   ]
  },
  {
   "cell_type": "markdown",
   "metadata": {},
   "source": [
    "To find the length of this vector, we can use [norm](https://docs.scipy.org/doc/numpy/reference/generated/numpy.linalg.norm.html#numpy.linalg.norm)"
   ]
  },
  {
   "cell_type": "code",
   "execution_count": 4,
   "metadata": {},
   "outputs": [
    {
     "data": {
      "image/png": "[encoded data removed]",
      "text/latex": [
       "$\\displaystyle 3.0$"
      ],
      "text/plain": [
       "3.0"
      ]
     },
     "execution_count": 4,
     "metadata": {},
     "output_type": "execute_result"
    }
   ],
   "source": [
    "np.linalg.norm(u)"
   ]
  },
  {
   "cell_type": "markdown",
   "metadata": {},
   "source": [
    "Moreover, the length of $4\\vec{u}$ is"
   ]
  },
  {
   "cell_type": "code",
   "execution_count": 5,
   "metadata": {},
   "outputs": [
    {
     "data": {
      "image/png": "[encoded data removed]",
      "text/latex": [
       "$\\displaystyle 12.0$"
      ],
      "text/plain": [
       "12.0"
      ]
     },
     "execution_count": 5,
     "metadata": {},
     "output_type": "execute_result"
    }
   ],
   "source": [
    "np.linalg.norm(4*u)"
   ]
  },
  {
   "cell_type": "markdown",
   "metadata": {},
   "source": [
    "The Dot Product\n",
    "------------------------\n",
    "\n",
    " \n",
    "\n",
    "Let $\\vec{u}=\\begin{bmatrix} u_1 & \\dots & u_n \\end{bmatrix}^T$,\n",
    "$\\vec{v}=\\begin{bmatrix} v_1 & \\dots & v_n \\end{bmatrix}^T$ be two\n",
    "vectors in $\\mathbb{R}^n$. Then, their dot product $\\vec{u} \\bullet \\vec{v}$ is\n",
    "a number defined as $$\\begin{aligned}\n",
    "\\vec{u} \\bullet \\vec{v}=\\begin{bmatrix} u_1 \\\\ \\vdots \\\\ u_n \\end{bmatrix} \\bullet \\begin{bmatrix} v_1 \\\\ \\vdots \\\\ v_n \\end{bmatrix}=u_1v_1+u_2v_2+\\ldots+u_nv_n.\\end{aligned}$$"
   ]
  },
  {
   "cell_type": "markdown",
   "metadata": {},
   "source": [
    "**Example**: Find $\\vec{u} \\bullet \\vec{v}$ if $\\vec{u} =\\begin{bmatrix} 3 & 13 & 3 \\end{bmatrix}^T$ and $\\vec{v} =\\begin{bmatrix} 17 & 0 & -1 \\end{bmatrix}^T$"
   ]
  },
  {
   "cell_type": "markdown",
   "metadata": {},
   "source": [
    "This time, we can use [vdot](https://docs.scipy.org/doc/numpy/reference/generated/numpy.vdot.html#numpy.vdot)"
   ]
  },
  {
   "cell_type": "code",
   "execution_count": 6,
   "metadata": {},
   "outputs": [
    {
     "data": {
      "text/plain": [
       "48"
      ]
     },
     "execution_count": 6,
     "metadata": {},
     "output_type": "execute_result"
    }
   ],
   "source": [
    "u = np.array([3, 13, 3])\n",
    "v = np.array([17, 0, -1])\n",
    "np.vdot(u, v)"
   ]
  },
  {
   "cell_type": "markdown",
   "metadata": {},
   "source": [
    "We also could use [dot](https://docs.scipy.org/doc/numpy/reference/generated/numpy.dot.html#numpy.dot)or [inner](https://docs.scipy.org/doc/numpy/reference/generated/numpy.inner.html#numpy.inner) as well"
   ]
  },
  {
   "cell_type": "code",
   "execution_count": 7,
   "metadata": {},
   "outputs": [
    {
     "data": {
      "text/plain": [
       "48"
      ]
     },
     "execution_count": 7,
     "metadata": {},
     "output_type": "execute_result"
    }
   ],
   "source": [
    "np.dot(u,v)"
   ]
  },
  {
   "cell_type": "code",
   "execution_count": 8,
   "metadata": {},
   "outputs": [
    {
     "data": {
      "text/plain": [
       "48"
      ]
     },
     "execution_count": 8,
     "metadata": {},
     "output_type": "execute_result"
    }
   ],
   "source": [
    "np.inner(u,v)"
   ]
  },
  {
   "cell_type": "markdown",
   "metadata": {},
   "source": [
    "The Cross Product\n",
    "-------------------------------\n",
    "The cross product of the special vectors $\\vec{i}$, $\\vec{j}$ and\n",
    "$\\vec{k}$ is as follows. $$\\begin{aligned}\n",
    "\\begin{array}{cc}\n",
    "\\vec{i}\\times \\vec{j} = \\vec{k} & \\vec{j}\\times \\vec{i} = - \\vec{k} \\\\\n",
    "\\vec{k} \\times \\vec{i} = \\vec{j} & \\vec{i}\\times \\vec{k} = - \\vec{j} \\\\\n",
    "\\vec{j}\\times \\vec{k} = \\vec{i} & \\vec{k}\\times \\vec{j} = - \\vec{i}  \\\\\n",
    "\\end{array}\\end{aligned}$$\n",
    "\n",
    " \\\n",
    "Let $\\vec{u}= u_1 \\vec{i}+u_2\\vec{j}+u_3 \\vec{k}$ and\n",
    "$\\vec{v} = v_1 \\vec{i}+v_2\\vec{j}+v_3\\vec{k}$ be two vectors. Then\n",
    "$$\\begin{aligned}\n",
    "\\vec{u} \\times \\vec{v} &=\\begin{bmatrix}u_2 v_3 -u_3 v_2\\\\-(u_1v_3 -u_3 v_1 )\\\\u_1 v_2 -u_2 v_1\\end{bmatrix}\\\\\n",
    "&=(u_2 v_3 -u_3 v_2)\\vec{i}-(u_1v_3 -u_3 v_1 )\\vec{j}+(u_1 v_2 -u_2 v_1)\\vec{k}\\end{aligned}$$"
   ]
  },
  {
   "cell_type": "markdown",
   "metadata": {},
   "source": [
    "**Example**: Find $\\vec{u} \\times \\vec{v}$ if $\\vec{u} =\\begin{bmatrix} 3 & 13 & 3 \\end{bmatrix}^T$ and $\\vec{v} =\\begin{bmatrix} 17 & 0 & -1 \\end{bmatrix}^T$"
   ]
  },
  {
   "cell_type": "markdown",
   "metadata": {},
   "source": [
    "We have"
   ]
  },
  {
   "cell_type": "code",
   "execution_count": 9,
   "metadata": {},
   "outputs": [
    {
     "data": {
      "text/plain": [
       "array([ -13,   54, -221])"
      ]
     },
     "execution_count": 9,
     "metadata": {},
     "output_type": "execute_result"
    }
   ],
   "source": [
    "u = np.array([3, 13, 3])\n",
    "v = np.array([17, 0, -1])\n",
    "np.cross(u, v)"
   ]
  },
  {
   "cell_type": "markdown",
   "metadata": {},
   "source": [
    "***"
   ]
  }
 ],
 "metadata": {
  "kernelspec": {
   "display_name": "Python 3",
   "language": "python",
   "name": "python3"
  },
  "language_info": {
   "codemirror_mode": {
    "name": "ipython",
    "version": 3
   },
   "file_extension": ".py",
   "mimetype": "text/x-python",
   "name": "python",
   "nbconvert_exporter": "python",
   "pygments_lexer": "ipython3",
   "version": "3.7.8"
  }
 },
 "nbformat": 4,
 "nbformat_minor": 4
}
