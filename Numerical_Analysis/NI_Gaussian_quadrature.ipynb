{
 "cells": [
  {
   "cell_type": "code",
   "execution_count": 1,
   "metadata": {},
   "outputs": [],
   "source": [
    "import numpy as np\n",
    "import pandas as pd\n",
    "\n",
    "# Visualisation libraries\n",
    "\n",
    "## Text\n",
    "from colorama import Fore, Back, Style\n",
    "from IPython.display import Image, display, Markdown, Latex, clear_output\n",
    "\n",
    "import warnings\n",
    "warnings.filterwarnings(\"ignore\")"
   ]
  },
  {
   "cell_type": "markdown",
   "metadata": {},
   "source": [
    "<div class=\"alert alert-block alert-info\">\n",
    "<font size=\"+3\"><b>\n",
    "Numerical Integration\n",
    "</b></font>\n",
    "</div>\n",
    "\n",
    "In this section, we continue Numerical Integrations. For the initial discussion on this topic see [Trapezoidal Rule](https://hatefdastour.github.io/notes/Numerical_Analysis/NI_Trapezoidal_Rule.html)."
   ]
  },
  {
   "cell_type": "markdown",
   "metadata": {},
   "source": [
    "# Gaussian quadrature\n",
    "\n",
    "Gaussian quadrature chooses the points in an optimal way (rather than an equally-spaced way). Therefore, the nodes $x_j,~1\\leq j \\leq n$ in the interval [a, b] and coefficients $w_j,~1\\leq j \\leq n$, are chosen to minimize the expected error obtained in the approximation [2]\n",
    "\n",
    "\\begin{align}\n",
    "\\int _{1}^{-1}f(x)\\,dx \\approx \\sum _{i=1}^{n} w_{i}f \\left(x_i\\right).\n",
    "\\end{align}"
   ]
  },
  {
   "cell_type": "markdown",
   "metadata": {},
   "source": [
    "Whenever $f(x)$ is a polynomial of degree $2n-1$, this approxmation is exact [2]. Moreover, usally, these approxmations are done using $[-1,~1]$ interval. For example, for $f(x) = a_{0} + a_{1} x + a_{2}x^{2} + a_{3}x^{3}$, we have,\n",
    "\n",
    "\\begin{align}\n",
    "\\int a_{0} + a_{1} x + a_{2}x^{2} + a_{3}x^{3} \\,dx \\approx w_{1}f \\left(x_1\\right) + w_{2}f \\left(x_2\\right).\n",
    "\\end{align}\n",
    "On the other hand,\n",
    "\\begin{align}\n",
    "\\int a_{0} + a_{1} x + a_{2}x^{2} + a_{3}x^{3} \\,dx &= a_{0} \\int 1 \\,dx\n",
    "+a_{1} \\int x\\,dx +a_{2} \\int x^{2} \\,dx +a_{3} \\int x^{3} \\,dx\n",
    "\\end{align}"
   ]
  },
  {
   "cell_type": "markdown",
   "metadata": {},
   "source": [
    "It follows that,\n",
    "\\begin{align}\n",
    "\\begin{cases}\n",
    "w_{1}  + w_{2} = \\int_{-1}^{1} 1 \\,dx = 2,\\\\\n",
    "w_{1}x_{1}  + w_{2}x_{2} = \\int_{-1}^{1} x \\,dx = 0,\\\\\n",
    "w_{1}x_{1}^{2}  + w_{2}x_{2}^{2} = \\int_{-1}^{1} x^{2} \\,dx = \\frac{2}{3},\\\\\n",
    "w_{1}x_{1}^{3}  + w_{2}x_{2}^{3} = \\int_{-1}^{1} x^{3} \\,dx = 0.\n",
    "\\end{cases}\n",
    "\\end{align}"
   ]
  },
  {
   "cell_type": "markdown",
   "metadata": {},
   "source": [
    "Solving this system of equations leads to $w_{1} = w_{2} = 1$ and $x_{1} = -\\frac{\\sqrt{3}}{3} = -x_{2}$. Hence,"
   ]
  },
  {
   "cell_type": "markdown",
   "metadata": {},
   "source": [
    "\\begin{align}\n",
    "\\int _{1}^{-1}f(x)\\,dx\\approx f\\left(-\\frac{\\sqrt{3}}{3}\\right) + f\\left(\\frac{\\sqrt{3}}{3}\\right).\n",
    "\\end{align}"
   ]
  },
  {
   "cell_type": "markdown",
   "metadata": {},
   "source": [
    "<font color='Blue'><b>Example</b></font>: We can test the above approximation using various example."
   ]
  },
  {
   "cell_type": "code",
   "execution_count": 2,
   "metadata": {},
   "outputs": [],
   "source": [
    "def TwoPointGaussian(f): return f(-np.sqrt(3)/3) + f(np.sqrt(3)/3)"
   ]
  },
  {
   "cell_type": "markdown",
   "metadata": {},
   "source": [
    "First, we have\n",
    "$$\\int _{1}^{-1}x^{2}\\,dx = \\frac{1}{3} x^{3}\\Big|_{-1}^{1} = \\frac{2}{3}$$"
   ]
  },
  {
   "cell_type": "code",
   "execution_count": 3,
   "metadata": {},
   "outputs": [
    {
     "data": {
      "text/latex": [
       "$$f\\left(-\\frac{\\sqrt{3}}{3}\\right) + f\\left(\\frac{\\sqrt{3}}{3}\\right) =  0.6667$$"
      ],
      "text/plain": [
       "<IPython.core.display.Latex object>"
      ]
     },
     "metadata": {},
     "output_type": "display_data"
    }
   ],
   "source": [
    "Int = TwoPointGaussian(f = lambda x: x**2)\n",
    "display(Latex('''$$f\\\\left(-\\\\frac{\\\\sqrt{3}}{3}\\\\right) + f\\\\left(\\\\frac{\\\\sqrt{3}}{3}\\\\right) =  %.4f$$''' % Int))"
   ]
  },
  {
   "cell_type": "markdown",
   "metadata": {},
   "source": [
    "Moreover, $$\\int _{1}^{-1}x^{3} - x^{2} + 1\\,dx =\\frac{1}{4} x^{4}\\Big|_{-1}^{1} - \\frac{1}{3} x^{3}\\Big|_{-1}^{1} + x\\Big|_{-1}^{1}= \\frac{4}{3}$$.\n",
    "\n",
    "Trying this numerically"
   ]
  },
  {
   "cell_type": "code",
   "execution_count": 4,
   "metadata": {},
   "outputs": [
    {
     "data": {
      "text/latex": [
       "$$f\\left(-\\frac{\\sqrt{3}}{3}\\right) + f\\left(\\frac{\\sqrt{3}}{3}\\right) =  1.3333$$"
      ],
      "text/plain": [
       "<IPython.core.display.Latex object>"
      ]
     },
     "metadata": {},
     "output_type": "display_data"
    }
   ],
   "source": [
    "Int = TwoPointGaussian(f = lambda x: x**3-x**2+1)\n",
    "display(Latex('''$$f\\\\left(-\\\\frac{\\\\sqrt{3}}{3}\\\\right) + f\\\\left(\\\\frac{\\\\sqrt{3}}{3}\\\\right) =  %.4f$$''' % Int))"
   ]
  },
  {
   "cell_type": "markdown",
   "metadata": {},
   "source": [
    "# Legendre Polynomials\n",
    "\n",
    "The Legendre polynomials is a collection $\\{P_0(x), P_1(x), \\ldots , P_n(x), \\ldots \\}$ with properties [2]:\n",
    "\n",
    "* $P_n(x),~n\\in \\mathbb{N}$ is a [monic polynomial](https://en.wikipedia.org/wiki/Monic_polynomial) of degree $n$.\n",
    "* $\\int _{1}^{-1} P(x)P_{n}(x)\\,dx = 0$ whenever $P(x)$ is a polynomial of degree less than $n$."
   ]
  },
  {
   "cell_type": "markdown",
   "metadata": {},
   "source": [
    "Furthermore, if $P(x)$ is any polynomial of degree less than $2n$, then, the coefficient $w_i$ can be calculated using\n",
    "\n",
    "\n",
    "\\begin{align}\n",
    "\\int _{a}^{b}P(x)\\,dx \\approx \\sum _{i=1}^{n} w_{i}P \\left(x_i\\right).\n",
    "\\end{align}\n",
    "where\n",
    "\\begin{align}\n",
    "w_{i} = \\int _{-1}^{1} \\prod_{j = 1,\\\\j \\neq i}^{n}\n",
    "\\dfrac{x-x_{j}}{x_{i} - x_j}\\,dx.\n",
    "\\end{align}\n",
    "with $x_{1},~x_{2},~\\ldots , x_{n}$ are the roots of the nth Legendre polynomial $P_{n}(x)$.\n",
    "\n",
    "These coefficients can be calculated using [numpy leggauss function](https://numpy.org/doc/stable/reference/generated/numpy.polynomial.legendre.leggauss.html). For example, for polynomials of degree $n$ with $n=1,2\\ldots,7$, we have"
   ]
  },
  {
   "cell_type": "code",
   "execution_count": 5,
   "metadata": {},
   "outputs": [
    {
     "data": {
      "text/html": [
       "<style  type=\"text/css\" >\n",
       "#T_557b0_row0_col0,#T_557b0_row1_col0,#T_557b0_row2_col0,#T_557b0_row3_col0,#T_557b0_row4_col0,#T_557b0_row5_col0,#T_557b0_row6_col0,#T_557b0_row7_col0{\n",
       "            background-color:  Honeydew;\n",
       "            color:  Black;\n",
       "            border-color:  DarkGreen;\n",
       "        }</style><table id=\"T_557b0_\" ><thead>    <tr>        <th class=\"col_heading level0 col0\" >n</th>        <th class=\"col_heading level0 col1\" >xi</th>        <th class=\"col_heading level0 col2\" >wi</th>    </tr></thead><tbody>\n",
       "                <tr>\n",
       "                                <td id=\"T_557b0_row0_col0\" class=\"data row0 col0\" >1</td>\n",
       "                        <td id=\"T_557b0_row0_col1\" class=\"data row0 col1\" >[0.]</td>\n",
       "                        <td id=\"T_557b0_row0_col2\" class=\"data row0 col2\" >[2.]</td>\n",
       "            </tr>\n",
       "            <tr>\n",
       "                                <td id=\"T_557b0_row1_col0\" class=\"data row1 col0\" >2</td>\n",
       "                        <td id=\"T_557b0_row1_col1\" class=\"data row1 col1\" >[-0.57735027  0.57735027]</td>\n",
       "                        <td id=\"T_557b0_row1_col2\" class=\"data row1 col2\" >[1. 1.]</td>\n",
       "            </tr>\n",
       "            <tr>\n",
       "                                <td id=\"T_557b0_row2_col0\" class=\"data row2 col0\" >3</td>\n",
       "                        <td id=\"T_557b0_row2_col1\" class=\"data row2 col1\" >[-0.77459667  0.          0.77459667]</td>\n",
       "                        <td id=\"T_557b0_row2_col2\" class=\"data row2 col2\" >[0.55555556 0.88888889 0.55555556]</td>\n",
       "            </tr>\n",
       "            <tr>\n",
       "                                <td id=\"T_557b0_row3_col0\" class=\"data row3 col0\" >4</td>\n",
       "                        <td id=\"T_557b0_row3_col1\" class=\"data row3 col1\" >[-0.86113631 -0.33998104  0.33998104  0.86113631]</td>\n",
       "                        <td id=\"T_557b0_row3_col2\" class=\"data row3 col2\" >[0.34785485 0.65214515 0.65214515 0.34785485]</td>\n",
       "            </tr>\n",
       "            <tr>\n",
       "                                <td id=\"T_557b0_row4_col0\" class=\"data row4 col0\" >5</td>\n",
       "                        <td id=\"T_557b0_row4_col1\" class=\"data row4 col1\" >[-0.90617985 -0.53846931  0.          0.53846931  0.90617985]</td>\n",
       "                        <td id=\"T_557b0_row4_col2\" class=\"data row4 col2\" >[0.23692689 0.47862867 0.56888889 0.47862867 0.23692689]</td>\n",
       "            </tr>\n",
       "            <tr>\n",
       "                                <td id=\"T_557b0_row5_col0\" class=\"data row5 col0\" >6</td>\n",
       "                        <td id=\"T_557b0_row5_col1\" class=\"data row5 col1\" >[-0.93246951 -0.66120939 -0.23861919  0.23861919  0.66120939  0.93246951]</td>\n",
       "                        <td id=\"T_557b0_row5_col2\" class=\"data row5 col2\" >[0.17132449 0.36076157 0.46791393 0.46791393 0.36076157 0.17132449]</td>\n",
       "            </tr>\n",
       "            <tr>\n",
       "                                <td id=\"T_557b0_row6_col0\" class=\"data row6 col0\" >7</td>\n",
       "                        <td id=\"T_557b0_row6_col1\" class=\"data row6 col1\" >[-0.94910791 -0.74153119 -0.40584515  0.          0.40584515  0.74153119\n",
       "  0.94910791]</td>\n",
       "                        <td id=\"T_557b0_row6_col2\" class=\"data row6 col2\" >[0.12948497 0.27970539 0.38183005 0.41795918 0.38183005 0.27970539\n",
       " 0.12948497]</td>\n",
       "            </tr>\n",
       "            <tr>\n",
       "                                <td id=\"T_557b0_row7_col0\" class=\"data row7 col0\" >8</td>\n",
       "                        <td id=\"T_557b0_row7_col1\" class=\"data row7 col1\" >[-0.96028986 -0.79666648 -0.52553241 -0.18343464  0.18343464  0.52553241\n",
       "  0.79666648  0.96028986]</td>\n",
       "                        <td id=\"T_557b0_row7_col2\" class=\"data row7 col2\" >[0.10122854 0.22238103 0.31370665 0.36268378 0.36268378 0.31370665\n",
       " 0.22238103 0.10122854]</td>\n",
       "            </tr>\n",
       "    </tbody></table>"
      ],
      "text/plain": [
       "<pandas.io.formats.style.Styler at 0x1e5c832d220>"
      ]
     },
     "metadata": {},
     "output_type": "display_data"
    }
   ],
   "source": [
    "Table = pd.DataFrame(columns = ['n', 'xi', 'wi'])\n",
    "N = 9\n",
    "Table['n'] = np.arange(1, N)\n",
    "for n in range(Table.shape[0]):\n",
    "     Table['xi'][n], Table['wi'][n] = np.polynomial.legendre.leggauss(Table['n'][n])\n",
    "    \n",
    "display(Table.style.set_properties(subset=['n'],\n",
    "                   **{'background-color': 'Honeydew', 'color': 'Black','border-color': 'DarkGreen'}).hide_index())"
   ]
  },
  {
   "cell_type": "markdown",
   "metadata": {},
   "source": [
    "# Change of interval\n",
    "\n",
    "To approximate the integral of a function over an interval $[a,~b]$,  this interval must be changed into an integral over $[−1,~1]$ before applying the Gaussian quadrature rule. This can be done as follows [8]:\n",
    "\n",
    "\\begin{align}\n",
    "\\int _{a}^{b}f(x)\\,dx={\\frac {b-a}{2}}\\int _{-1}^{1}f\\left({\\frac {b-a}{2}}\\xi +{\\frac {a+b}{2}}\\right)\\,d\\xi.\n",
    "\\end{align}\n",
    "\n",
    "Now, a $n$ point Gaussian quadrature over an interval [a, b] can be expressed as follows [8]:\n",
    "\n",
    "\\begin{align}\n",
    "\\int _{a}^{b}f(x)\\,dx\\approx {\\frac {b-a}{2}}\\sum _{i=1}^{n}w_{i}f\\left({\\frac {b-a}{2}}x _{i}+{\\frac {a+b}{2}}\\right).\n",
    "\\end{align}\n",
    "\n",
    "Furthermore, we can implement this algorithm in Python."
   ]
  },
  {
   "cell_type": "code",
   "execution_count": 6,
   "metadata": {},
   "outputs": [],
   "source": [
    "def GaussQuadrature(f, a, b, n):\n",
    "    # f : single variable function f\n",
    "    # a , b : Interval of integration [a,b]\n",
    "    # n : n-point Gauss integration rule\n",
    "    x, w = np.polynomial.legendre.leggauss(n)\n",
    "    return 0.5*(b-a)*sum(w*f(0.5*(b-a)*x+0.5*(b+a)))"
   ]
  },
  {
   "cell_type": "markdown",
   "metadata": {},
   "source": [
    "<font color='Blue'><b>Example</b></font>: We can evalute this following integral using Gaussian quadrature.\n",
    "$$\\int_{0}^{1} x^2\\, dx$$"
   ]
  },
  {
   "cell_type": "code",
   "execution_count": 7,
   "metadata": {},
   "outputs": [
    {
     "name": "stdout",
     "output_type": "stream",
     "text": [
      "Gaussian quadrature using the 2-point = 0.33333333\n",
      "Gaussian quadrature using the 3-point = 0.33333333\n",
      "Gaussian quadrature using the 4-point = 0.33333333\n"
     ]
    }
   ],
   "source": [
    "for n in range(2, 5):\n",
    "    print(\"\"\"Gaussian quadrature using the %i-point = %.8f\"\"\" % (n, GaussQuadrature(f = lambda x : x**2, a = 0, b = 1, n = n)))"
   ]
  },
  {
   "cell_type": "markdown",
   "metadata": {},
   "source": [
    "***\n",
    "# References\n",
    "1. Allaire, Grégoire, et al. Numerical linear algebra. Vol. 55. New York: Springer, 2008.\n",
    "1. Burden, Richard L., and J. Douglas Faires. \"Numerical analysis 8th ed.\" Thomson Brooks/Cole (2005).\n",
    "1. Atkinson, Kendall E. An introduction to numerical analysis. John wiley & sons, 2008.\n",
    "1. Khoury, Richard, and Douglas Wilhelm Harder. Numerical methods and modelling for engineering. Springer, 2016.\n",
    "1. Zarowski, Christopher J. An introduction to numerical analysis for electrical and computer engineers. John Wiley & Sons, 2004.\n",
    "1. Abramowitz, Milton, and Irene A. Stegun. Handbook of mathematical functions: with formulas, graphs, and mathematical tables. Vol. 55. Washington, DC: National bureau of standards, 1972.\n",
    "1. [Numerical integration Wikipedia page](https://en.wikipedia.org/wiki/Numerical_integration)\n",
    "1. [Gaussian quadrature](https://en.wikipedia.org/wiki/Gaussian_quadrature)\n",
    "***"
   ]
  }
 ],
 "metadata": {
  "kernelspec": {
   "display_name": "Python 3",
   "language": "python",
   "name": "python3"
  },
  "language_info": {
   "codemirror_mode": {
    "name": "ipython",
    "version": 3
   },
   "file_extension": ".py",
   "mimetype": "text/x-python",
   "name": "python",
   "nbconvert_exporter": "python",
   "pygments_lexer": "ipython3",
   "version": "3.8.5"
  }
 },
 "nbformat": 4,
 "nbformat_minor": 2
}
