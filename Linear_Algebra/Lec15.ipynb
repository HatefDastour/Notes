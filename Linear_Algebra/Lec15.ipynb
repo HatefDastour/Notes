{
 "cells": [
  {
   "cell_type": "code",
   "execution_count": 1,
   "metadata": {},
   "outputs": [],
   "source": [
    "from __future__ import division\n",
    "from sympy import *\n",
    "init_printing(use_unicode=True)"
   ]
  },
  {
   "cell_type": "markdown",
   "metadata": {},
   "source": [
    "$\\textbf{Example 7.17 }$ Find the eigenvalues of $A=\\left[\\begin{array}{ccc} -2 & -2 & -9\\\\ -1 & 1 & -3\\\\ 1 & 1 & 4 \\end{array}\\right]$"
   ]
  },
  {
   "cell_type": "code",
   "execution_count": 2,
   "metadata": {
    "scrolled": true
   },
   "outputs": [
    {
     "data": {
      "text/latex": [
       "$$\\left[\\begin{matrix}-2 & -2 & -9\\\\-1 & 1 & -3\\\\1 & 1 & 4\\end{matrix}\\right]$$"
      ],
      "text/plain": [
       "⎡-2  -2  -9⎤\n",
       "⎢          ⎥\n",
       "⎢-1  1   -3⎥\n",
       "⎢          ⎥\n",
       "⎣1   1   4 ⎦"
      ]
     },
     "execution_count": 2,
     "metadata": {},
     "output_type": "execute_result"
    }
   ],
   "source": [
    "A = Matrix([[-2, -2, -9], [-1, 1, -3], [1, 1, 4]])\n",
    "A"
   ]
  },
  {
   "cell_type": "code",
   "execution_count": 3,
   "metadata": {},
   "outputs": [
    {
     "data": {
      "image/png": "[encoded data removed]",
      "text/latex": [
       "$$\\left(\\lambda - 1\\right) \\left(\\lambda^{2} - 2 \\lambda + 2\\right)$$"
      ],
      "text/plain": [
       "        ⎛ 2          ⎞\n",
       "(λ - 1)⋅⎝λ  - 2⋅λ + 2⎠"
      ]
     },
     "execution_count": 3,
     "metadata": {},
     "output_type": "execute_result"
    }
   ],
   "source": [
    "lamda = symbols('lamda')\n",
    "p = A.charpoly(lamda)\n",
    "factor(p)"
   ]
  },
  {
   "cell_type": "code",
   "execution_count": 4,
   "metadata": {},
   "outputs": [
    {
     "data": {
      "image/png": "[encoded data removed]",
      "text/latex": [
       "$$\\left \\{ 1 : 1, \\quad 1 - i : 1, \\quad 1 + i : 1\\right \\}$$"
      ],
      "text/plain": [
       "{1: 1, 1 - ⅈ: 1, 1 + ⅈ: 1}"
      ]
     },
     "execution_count": 4,
     "metadata": {},
     "output_type": "execute_result"
    }
   ],
   "source": [
    "A.eigenvals()"
   ]
  },
  {
   "cell_type": "markdown",
   "metadata": {},
   "source": [
    "$\\textbf{Example 7.18 }$ Let $A =\\left[\\begin{array}{ccc} 1 & 0 & 0\\\\ 0 & 2 & -1\\\\ 0 & 1 & 2 \\end{array}\\right]$. Find an invertible matrix $P$ and a diagonal matrix $D$ such that $P^{-1}AP = D$."
   ]
  },
  {
   "cell_type": "code",
   "execution_count": 5,
   "metadata": {
    "scrolled": false
   },
   "outputs": [
    {
     "data": {
      "text/latex": [
       "$$\\left[\\begin{matrix}1 & 0 & 0\\\\0 & 2 & -1\\\\0 & 1 & 2\\end{matrix}\\right]$$"
      ],
      "text/plain": [
       "⎡1  0  0 ⎤\n",
       "⎢        ⎥\n",
       "⎢0  2  -1⎥\n",
       "⎢        ⎥\n",
       "⎣0  1  2 ⎦"
      ]
     },
     "execution_count": 5,
     "metadata": {},
     "output_type": "execute_result"
    }
   ],
   "source": [
    "A = Matrix([[1, 0, 0], [0, 2, -1], [0, 1 ,2]])\n",
    "A"
   ]
  },
  {
   "cell_type": "code",
   "execution_count": 6,
   "metadata": {
    "scrolled": true
   },
   "outputs": [
    {
     "data": {
      "image/png": "[encoded data removed]",
      "text/latex": [
       "$$\\left(\\lambda - 1\\right) \\left(\\lambda^{2} - 4 \\lambda + 5\\right)$$"
      ],
      "text/plain": [
       "        ⎛ 2          ⎞\n",
       "(λ - 1)⋅⎝λ  - 4⋅λ + 5⎠"
      ]
     },
     "execution_count": 6,
     "metadata": {},
     "output_type": "execute_result"
    }
   ],
   "source": [
    "lamda = symbols('lamda')\n",
    "p = A.charpoly(lamda)\n",
    "factor(p)"
   ]
  },
  {
   "cell_type": "markdown",
   "metadata": {},
   "source": [
    "The eigenvalues of $A$ are the the roots of $c_A(\\lambda)$:"
   ]
  },
  {
   "cell_type": "code",
   "execution_count": 7,
   "metadata": {
    "scrolled": true
   },
   "outputs": [
    {
     "data": {
      "image/png": "[encoded data removed]",
      "text/latex": [
       "$$\\left \\{ 1 : 1, \\quad 2 - i : 1, \\quad 2 + i : 1\\right \\}$$"
      ],
      "text/plain": [
       "{1: 1, 2 - ⅈ: 1, 2 + ⅈ: 1}"
      ]
     },
     "execution_count": 7,
     "metadata": {},
     "output_type": "execute_result"
    }
   ],
   "source": [
    "A.eigenvals()"
   ]
  },
  {
   "cell_type": "markdown",
   "metadata": {},
   "source": [
    "The correcponding eigenvectors:"
   ]
  },
  {
   "cell_type": "code",
   "execution_count": 8,
   "metadata": {
    "scrolled": true
   },
   "outputs": [
    {
     "data": {
      "text/latex": [
       "$$\\left [ \\left ( 1, \\quad 1, \\quad \\left [ \\left[\\begin{matrix}1\\\\0\\\\0\\end{matrix}\\right]\\right ]\\right ), \\quad \\left ( 2 - i, \\quad 1, \\quad \\left [ \\left[\\begin{matrix}0\\\\- i\\\\1\\end{matrix}\\right]\\right ]\\right ), \\quad \\left ( 2 + i, \\quad 1, \\quad \\left [ \\left[\\begin{matrix}0\\\\i\\\\1\\end{matrix}\\right]\\right ]\\right )\\right ]$$"
      ],
      "text/plain": [
       "⎡⎛      ⎡⎡1⎤⎤⎞  ⎛          ⎡⎡0 ⎤⎤⎞  ⎛          ⎡⎡0⎤⎤⎞⎤\n",
       "⎢⎜      ⎢⎢ ⎥⎥⎟  ⎜          ⎢⎢  ⎥⎥⎟  ⎜          ⎢⎢ ⎥⎥⎟⎥\n",
       "⎢⎜1, 1, ⎢⎢0⎥⎥⎟, ⎜2 - ⅈ, 1, ⎢⎢-ⅈ⎥⎥⎟, ⎜2 + ⅈ, 1, ⎢⎢ⅈ⎥⎥⎟⎥\n",
       "⎢⎜      ⎢⎢ ⎥⎥⎟  ⎜          ⎢⎢  ⎥⎥⎟  ⎜          ⎢⎢ ⎥⎥⎟⎥\n",
       "⎣⎝      ⎣⎣0⎦⎦⎠  ⎝          ⎣⎣1 ⎦⎦⎠  ⎝          ⎣⎣1⎦⎦⎠⎦"
      ]
     },
     "execution_count": 8,
     "metadata": {},
     "output_type": "execute_result"
    }
   ],
   "source": [
    "A.eigenvects()"
   ]
  },
  {
   "cell_type": "markdown",
   "metadata": {},
   "source": [
    "diagonalizing matrix for $A$"
   ]
  },
  {
   "cell_type": "code",
   "execution_count": 12,
   "metadata": {},
   "outputs": [
    {
     "data": {
      "text/latex": [
       "$$\\left[\\begin{matrix}1 & 0 & 0\\\\0 & - i & i\\\\0 & 1 & 1\\end{matrix}\\right]$$"
      ],
      "text/plain": [
       "⎡1  0   0⎤\n",
       "⎢        ⎥\n",
       "⎢0  -ⅈ  ⅈ⎥\n",
       "⎢        ⎥\n",
       "⎣0  1   1⎦"
      ]
     },
     "execution_count": 12,
     "metadata": {},
     "output_type": "execute_result"
    }
   ],
   "source": [
    "P, D=A.diagonalize()\n",
    "P"
   ]
  },
  {
   "cell_type": "code",
   "execution_count": 13,
   "metadata": {
    "scrolled": true
   },
   "outputs": [
    {
     "data": {
      "text/latex": [
       "$$\\left[\\begin{matrix}1 & 0 & 0\\\\0 & 2 - i & 0\\\\0 & 0 & 2 + i\\end{matrix}\\right]$$"
      ],
      "text/plain": [
       "⎡1    0      0  ⎤\n",
       "⎢               ⎥\n",
       "⎢0  2 - ⅈ    0  ⎥\n",
       "⎢               ⎥\n",
       "⎣0    0    2 + ⅈ⎦"
      ]
     },
     "execution_count": 13,
     "metadata": {},
     "output_type": "execute_result"
    }
   ],
   "source": [
    "D"
   ]
  },
  {
   "cell_type": "code",
   "execution_count": 14,
   "metadata": {
    "scrolled": true
   },
   "outputs": [
    {
     "data": {
      "text/latex": [
       "$$\\left[\\begin{matrix}1 & 0 & 0\\\\0 & \\frac{i}{2} & \\frac{1}{2}\\\\0 & - \\frac{i}{2} & \\frac{1}{2}\\end{matrix}\\right]$$"
      ],
      "text/plain": [
       "⎡1   0    0 ⎤\n",
       "⎢           ⎥\n",
       "⎢    ⅈ      ⎥\n",
       "⎢0   ─   1/2⎥\n",
       "⎢    2      ⎥\n",
       "⎢           ⎥\n",
       "⎢   -ⅈ      ⎥\n",
       "⎢0  ───  1/2⎥\n",
       "⎣    2      ⎦"
      ]
     },
     "execution_count": 14,
     "metadata": {},
     "output_type": "execute_result"
    }
   ],
   "source": [
    "P**-1"
   ]
  },
  {
   "cell_type": "markdown",
   "metadata": {},
   "source": [
    "We can verify our results"
   ]
  },
  {
   "cell_type": "code",
   "execution_count": 15,
   "metadata": {},
   "outputs": [
    {
     "data": {
      "text/latex": [
       "$$\\left[\\begin{matrix}1 & 0 & 0\\\\0 & 2 & -1\\\\0 & 1 & 2\\end{matrix}\\right]$$"
      ],
      "text/plain": [
       "⎡1  0  0 ⎤\n",
       "⎢        ⎥\n",
       "⎢0  2  -1⎥\n",
       "⎢        ⎥\n",
       "⎣0  1  2 ⎦"
      ]
     },
     "execution_count": 15,
     "metadata": {},
     "output_type": "execute_result"
    }
   ],
   "source": [
    "simplify(P*D*P**-1)"
   ]
  },
  {
   "cell_type": "markdown",
   "metadata": {},
   "source": [
    "$\\textbf{Example 7.19 }$\n",
    "Let $A =\\begin{bmatrix} 1 & 1 & 0\\\\ 0 & 2 & 0\\\\ 0 & 2 & 1 \\end{bmatrix}$. Find $A^{10}$."
   ]
  },
  {
   "cell_type": "code",
   "execution_count": 16,
   "metadata": {
    "scrolled": false
   },
   "outputs": [
    {
     "data": {
      "text/latex": [
       "$$\\left[\\begin{matrix}1 & 1 & 0\\\\0 & 2 & 0\\\\0 & 2 & 1\\end{matrix}\\right]$$"
      ],
      "text/plain": [
       "⎡1  1  0⎤\n",
       "⎢       ⎥\n",
       "⎢0  2  0⎥\n",
       "⎢       ⎥\n",
       "⎣0  2  1⎦"
      ]
     },
     "execution_count": 16,
     "metadata": {},
     "output_type": "execute_result"
    }
   ],
   "source": [
    "A = Matrix([[1, 1, 0],[ 0, 2, 0],[ 0, 2, 1]])\n",
    "A"
   ]
  },
  {
   "cell_type": "code",
   "execution_count": 17,
   "metadata": {
    "scrolled": true
   },
   "outputs": [
    {
     "data": {
      "image/png": "[encoded data removed]",
      "text/latex": [
       "$$\\left(\\lambda - 2\\right) \\left(\\lambda - 1\\right)^{2}$$"
      ],
      "text/plain": [
       "               2\n",
       "(λ - 2)⋅(λ - 1) "
      ]
     },
     "execution_count": 17,
     "metadata": {},
     "output_type": "execute_result"
    }
   ],
   "source": [
    "lamda = symbols('lamda')\n",
    "p = A.charpoly(lamda)\n",
    "factor(p)"
   ]
  },
  {
   "cell_type": "markdown",
   "metadata": {},
   "source": [
    "The eigenvalues of $A$ are the the roots of $c_A(\\lambda)$:"
   ]
  },
  {
   "cell_type": "code",
   "execution_count": 18,
   "metadata": {
    "scrolled": true
   },
   "outputs": [
    {
     "data": {
      "image/png": "[encoded data removed]",
      "text/latex": [
       "$$\\left \\{ 1 : 2, \\quad 2 : 1\\right \\}$$"
      ],
      "text/plain": [
       "{1: 2, 2: 1}"
      ]
     },
     "execution_count": 18,
     "metadata": {},
     "output_type": "execute_result"
    }
   ],
   "source": [
    "A.eigenvals()"
   ]
  },
  {
   "cell_type": "markdown",
   "metadata": {},
   "source": [
    "The correcponding eigenvectors:"
   ]
  },
  {
   "cell_type": "code",
   "execution_count": 19,
   "metadata": {
    "scrolled": true
   },
   "outputs": [
    {
     "data": {
      "text/latex": [
       "$$\\left [ \\left ( 1, \\quad 2, \\quad \\left [ \\left[\\begin{matrix}1\\\\0\\\\0\\end{matrix}\\right], \\quad \\left[\\begin{matrix}0\\\\0\\\\1\\end{matrix}\\right]\\right ]\\right ), \\quad \\left ( 2, \\quad 1, \\quad \\left [ \\left[\\begin{matrix}\\frac{1}{2}\\\\\\frac{1}{2}\\\\1\\end{matrix}\\right]\\right ]\\right )\\right ]$$"
      ],
      "text/plain": [
       "⎡⎛      ⎡⎡1⎤  ⎡0⎤⎤⎞  ⎛      ⎡⎡1/2⎤⎤⎞⎤\n",
       "⎢⎜      ⎢⎢ ⎥  ⎢ ⎥⎥⎟  ⎜      ⎢⎢   ⎥⎥⎟⎥\n",
       "⎢⎜1, 2, ⎢⎢0⎥, ⎢0⎥⎥⎟, ⎜2, 1, ⎢⎢1/2⎥⎥⎟⎥\n",
       "⎢⎜      ⎢⎢ ⎥  ⎢ ⎥⎥⎟  ⎜      ⎢⎢   ⎥⎥⎟⎥\n",
       "⎣⎝      ⎣⎣0⎦  ⎣1⎦⎦⎠  ⎝      ⎣⎣ 1 ⎦⎦⎠⎦"
      ]
     },
     "execution_count": 19,
     "metadata": {},
     "output_type": "execute_result"
    }
   ],
   "source": [
    "A.eigenvects()"
   ]
  },
  {
   "cell_type": "markdown",
   "metadata": {},
   "source": [
    "diagonalizing matrix for $A$"
   ]
  },
  {
   "cell_type": "code",
   "execution_count": 20,
   "metadata": {},
   "outputs": [
    {
     "data": {
      "text/latex": [
       "$$\\left[\\begin{matrix}1 & 0 & 1\\\\0 & 0 & 1\\\\0 & 1 & 2\\end{matrix}\\right]$$"
      ],
      "text/plain": [
       "⎡1  0  1⎤\n",
       "⎢       ⎥\n",
       "⎢0  0  1⎥\n",
       "⎢       ⎥\n",
       "⎣0  1  2⎦"
      ]
     },
     "execution_count": 20,
     "metadata": {},
     "output_type": "execute_result"
    }
   ],
   "source": [
    "P, D=A.diagonalize()\n",
    "P"
   ]
  },
  {
   "cell_type": "code",
   "execution_count": 21,
   "metadata": {
    "scrolled": true
   },
   "outputs": [
    {
     "data": {
      "text/latex": [
       "$$\\left[\\begin{matrix}1 & 0 & 0\\\\0 & 1 & 0\\\\0 & 0 & 2\\end{matrix}\\right]$$"
      ],
      "text/plain": [
       "⎡1  0  0⎤\n",
       "⎢       ⎥\n",
       "⎢0  1  0⎥\n",
       "⎢       ⎥\n",
       "⎣0  0  2⎦"
      ]
     },
     "execution_count": 21,
     "metadata": {},
     "output_type": "execute_result"
    }
   ],
   "source": [
    "D"
   ]
  },
  {
   "cell_type": "code",
   "execution_count": 22,
   "metadata": {},
   "outputs": [
    {
     "data": {
      "text/latex": [
       "$$\\left[\\begin{matrix}1 & -1 & 0\\\\0 & -2 & 1\\\\0 & 1 & 0\\end{matrix}\\right]$$"
      ],
      "text/plain": [
       "⎡1  -1  0⎤\n",
       "⎢        ⎥\n",
       "⎢0  -2  1⎥\n",
       "⎢        ⎥\n",
       "⎣0  1   0⎦"
      ]
     },
     "execution_count": 22,
     "metadata": {},
     "output_type": "execute_result"
    }
   ],
   "source": [
    "P**-1"
   ]
  },
  {
   "cell_type": "markdown",
   "metadata": {},
   "source": [
    "We can verify our results"
   ]
  },
  {
   "cell_type": "code",
   "execution_count": 23,
   "metadata": {
    "scrolled": true
   },
   "outputs": [
    {
     "data": {
      "text/latex": [
       "$$\\left[\\begin{matrix}1 & 1 & 0\\\\0 & 2 & 0\\\\0 & 2 & 1\\end{matrix}\\right]$$"
      ],
      "text/plain": [
       "⎡1  1  0⎤\n",
       "⎢       ⎥\n",
       "⎢0  2  0⎥\n",
       "⎢       ⎥\n",
       "⎣0  2  1⎦"
      ]
     },
     "execution_count": 23,
     "metadata": {},
     "output_type": "execute_result"
    }
   ],
   "source": [
    "simplify(P*D*P**-1)"
   ]
  },
  {
   "cell_type": "markdown",
   "metadata": {},
   "source": [
    "Therefore, $A^{10}$"
   ]
  },
  {
   "cell_type": "code",
   "execution_count": 24,
   "metadata": {
    "scrolled": true
   },
   "outputs": [
    {
     "data": {
      "text/latex": [
       "$$\\left[\\begin{matrix}1 & 1023 & 0\\\\0 & 1024 & 0\\\\0 & 2046 & 1\\end{matrix}\\right]$$"
      ],
      "text/plain": [
       "⎡1  1023  0⎤\n",
       "⎢          ⎥\n",
       "⎢0  1024  0⎥\n",
       "⎢          ⎥\n",
       "⎣0  2046  1⎦"
      ]
     },
     "execution_count": 24,
     "metadata": {},
     "output_type": "execute_result"
    }
   ],
   "source": [
    "P*(D**(10))*P**-1"
   ]
  },
  {
   "cell_type": "code",
   "execution_count": 25,
   "metadata": {},
   "outputs": [
    {
     "data": {
      "text/latex": [
       "$$\\left[\\begin{matrix}1 & 2^{n} - 1 & 0\\\\0 & 2^{n} & 0\\\\0 & 2 \\cdot 2^{n} - 2 & 1\\end{matrix}\\right]$$"
      ],
      "text/plain": [
       "⎡     n        ⎤\n",
       "⎢1   2  - 1   0⎥\n",
       "⎢              ⎥\n",
       "⎢       n      ⎥\n",
       "⎢0     2      0⎥\n",
       "⎢              ⎥\n",
       "⎢      n       ⎥\n",
       "⎣0  2⋅2  - 2  1⎦"
      ]
     },
     "execution_count": 25,
     "metadata": {},
     "output_type": "execute_result"
    }
   ],
   "source": [
    "n = symbols('n')\n",
    "P*(D**(n))*P**-1"
   ]
  },
  {
   "cell_type": "markdown",
   "metadata": {},
   "source": [
    "$\\textbf{Example 7.20 }$\n",
    "Show the matrix $U =\\left[\\begin{array}{ccc} 1 & 0 & 0\\\\ 0 & 0 & -1\\\\ 0 & -1 & 0 \\end{array}\\right]$ is orthogonal."
   ]
  },
  {
   "cell_type": "code",
   "execution_count": 26,
   "metadata": {},
   "outputs": [
    {
     "data": {
      "text/latex": [
       "$$\\left[\\begin{matrix}1 & 0 & 0\\\\0 & 0 & -1\\\\0 & -1 & 0\\end{matrix}\\right]$$"
      ],
      "text/plain": [
       "⎡1  0   0 ⎤\n",
       "⎢         ⎥\n",
       "⎢0  0   -1⎥\n",
       "⎢         ⎥\n",
       "⎣0  -1  0 ⎦"
      ]
     },
     "execution_count": 26,
     "metadata": {},
     "output_type": "execute_result"
    }
   ],
   "source": [
    "U=Matrix([[1,0,0],[0,0,-1],[0,-1,0]])\n",
    "U"
   ]
  },
  {
   "cell_type": "code",
   "execution_count": 27,
   "metadata": {},
   "outputs": [
    {
     "data": {
      "text/latex": [
       "$$\\left[\\begin{matrix}1 & 0 & 0\\\\0 & 1 & 0\\\\0 & 0 & 1\\end{matrix}\\right]$$"
      ],
      "text/plain": [
       "⎡1  0  0⎤\n",
       "⎢       ⎥\n",
       "⎢0  1  0⎥\n",
       "⎢       ⎥\n",
       "⎣0  0  1⎦"
      ]
     },
     "execution_count": 27,
     "metadata": {},
     "output_type": "execute_result"
    }
   ],
   "source": [
    "U*U**-1"
   ]
  },
  {
   "cell_type": "code",
   "execution_count": 28,
   "metadata": {},
   "outputs": [
    {
     "data": {
      "text/latex": [
       "$$\\left[\\begin{matrix}1 & 0 & 0\\\\0 & 1 & 0\\\\0 & 0 & 1\\end{matrix}\\right]$$"
      ],
      "text/plain": [
       "⎡1  0  0⎤\n",
       "⎢       ⎥\n",
       "⎢0  1  0⎥\n",
       "⎢       ⎥\n",
       "⎣0  0  1⎦"
      ]
     },
     "execution_count": 28,
     "metadata": {},
     "output_type": "execute_result"
    }
   ],
   "source": [
    "U**-1*U"
   ]
  },
  {
   "cell_type": "markdown",
   "metadata": {},
   "source": [
    "Hence, this matrix is orthogonal"
   ]
  },
  {
   "cell_type": "markdown",
   "metadata": {},
   "source": [
    "$\\textbf{Example 7.21 }$"
   ]
  },
  {
   "cell_type": "code",
   "execution_count": 29,
   "metadata": {},
   "outputs": [
    {
     "data": {
      "text/latex": [
       "$$\\left[\\begin{matrix}1 & 0 & 0\\\\0 & 0 & -1\\\\0 & -1 & 0\\end{matrix}\\right]$$"
      ],
      "text/plain": [
       "⎡1  0   0 ⎤\n",
       "⎢         ⎥\n",
       "⎢0  0   -1⎥\n",
       "⎢         ⎥\n",
       "⎣0  -1  0 ⎦"
      ]
     },
     "execution_count": 29,
     "metadata": {},
     "output_type": "execute_result"
    }
   ],
   "source": [
    "U=Matrix([[1,0,0],[0,0,-1],[0,-1,0]])\n",
    "U"
   ]
  },
  {
   "cell_type": "markdown",
   "metadata": {},
   "source": [
    "$det(U)$="
   ]
  },
  {
   "cell_type": "code",
   "execution_count": 30,
   "metadata": {},
   "outputs": [
    {
     "data": {
      "image/png": "[encoded data removed]",
      "text/latex": [
       "$$-1$$"
      ],
      "text/plain": [
       "-1"
      ]
     },
     "execution_count": 30,
     "metadata": {},
     "output_type": "execute_result"
    }
   ],
   "source": [
    "det(U)"
   ]
  },
  {
   "cell_type": "markdown",
   "metadata": {},
   "source": [
    "$\\textbf{Example 7.22 }$\n",
    "Find an orthogonal matrix $P$ such that $P^{T} AP$ is diagonal, where $A = \\left[\\begin{array}{ccc} 1 & 0 & 0\\\\ 0 & 3 & 1\\\\ 0 & 1 & 3 \\end{array}\\right]$."
   ]
  },
  {
   "cell_type": "code",
   "execution_count": 31,
   "metadata": {
    "scrolled": false
   },
   "outputs": [
    {
     "data": {
      "text/latex": [
       "$$\\left[\\begin{matrix}1 & 0 & 0\\\\0 & 3 & 1\\\\0 & 1 & 3\\end{matrix}\\right]$$"
      ],
      "text/plain": [
       "⎡1  0  0⎤\n",
       "⎢       ⎥\n",
       "⎢0  3  1⎥\n",
       "⎢       ⎥\n",
       "⎣0  1  3⎦"
      ]
     },
     "execution_count": 31,
     "metadata": {},
     "output_type": "execute_result"
    }
   ],
   "source": [
    "A = Matrix([[1,0,0],[0,3,1],[0,1,3]])\n",
    "A"
   ]
  },
  {
   "cell_type": "code",
   "execution_count": 32,
   "metadata": {
    "scrolled": true
   },
   "outputs": [
    {
     "data": {
      "image/png": "[encoded data removed]",
      "text/latex": [
       "$$\\left(\\lambda - 4\\right) \\left(\\lambda - 2\\right) \\left(\\lambda - 1\\right)$$"
      ],
      "text/plain": [
       "(λ - 4)⋅(λ - 2)⋅(λ - 1)"
      ]
     },
     "execution_count": 32,
     "metadata": {},
     "output_type": "execute_result"
    }
   ],
   "source": [
    "lamda = symbols('lamda')\n",
    "p = A.charpoly(lamda)\n",
    "factor(p)"
   ]
  },
  {
   "cell_type": "markdown",
   "metadata": {},
   "source": [
    "The eigenvalues of $A$ are the the roots of $c_A(\\lambda)$:"
   ]
  },
  {
   "cell_type": "code",
   "execution_count": 33,
   "metadata": {
    "scrolled": true
   },
   "outputs": [
    {
     "data": {
      "image/png": "[encoded data removed]",
      "text/latex": [
       "$$\\left \\{ 1 : 1, \\quad 2 : 1, \\quad 4 : 1\\right \\}$$"
      ],
      "text/plain": [
       "{1: 1, 2: 1, 4: 1}"
      ]
     },
     "execution_count": 33,
     "metadata": {},
     "output_type": "execute_result"
    }
   ],
   "source": [
    "A.eigenvals()"
   ]
  },
  {
   "cell_type": "markdown",
   "metadata": {},
   "source": [
    "The correcponding eigenvectors:"
   ]
  },
  {
   "cell_type": "code",
   "execution_count": 34,
   "metadata": {
    "scrolled": true
   },
   "outputs": [
    {
     "data": {
      "text/latex": [
       "$$\\left [ \\left ( 1, \\quad 1, \\quad \\left [ \\left[\\begin{matrix}1\\\\0\\\\0\\end{matrix}\\right]\\right ]\\right ), \\quad \\left ( 2, \\quad 1, \\quad \\left [ \\left[\\begin{matrix}0\\\\-1\\\\1\\end{matrix}\\right]\\right ]\\right ), \\quad \\left ( 4, \\quad 1, \\quad \\left [ \\left[\\begin{matrix}0\\\\1\\\\1\\end{matrix}\\right]\\right ]\\right )\\right ]$$"
      ],
      "text/plain": [
       "⎡⎛      ⎡⎡1⎤⎤⎞  ⎛      ⎡⎡0 ⎤⎤⎞  ⎛      ⎡⎡0⎤⎤⎞⎤\n",
       "⎢⎜      ⎢⎢ ⎥⎥⎟  ⎜      ⎢⎢  ⎥⎥⎟  ⎜      ⎢⎢ ⎥⎥⎟⎥\n",
       "⎢⎜1, 1, ⎢⎢0⎥⎥⎟, ⎜2, 1, ⎢⎢-1⎥⎥⎟, ⎜4, 1, ⎢⎢1⎥⎥⎟⎥\n",
       "⎢⎜      ⎢⎢ ⎥⎥⎟  ⎜      ⎢⎢  ⎥⎥⎟  ⎜      ⎢⎢ ⎥⎥⎟⎥\n",
       "⎣⎝      ⎣⎣0⎦⎦⎠  ⎝      ⎣⎣1 ⎦⎦⎠  ⎝      ⎣⎣1⎦⎦⎠⎦"
      ]
     },
     "execution_count": 34,
     "metadata": {},
     "output_type": "execute_result"
    }
   ],
   "source": [
    "A.eigenvects()"
   ]
  },
  {
   "cell_type": "markdown",
   "metadata": {},
   "source": [
    "diagonalizing matrix for $A$"
   ]
  },
  {
   "cell_type": "code",
   "execution_count": 35,
   "metadata": {},
   "outputs": [
    {
     "data": {
      "text/latex": [
       "$$\\left[\\begin{matrix}1 & 0 & 0\\\\0 & - \\frac{\\sqrt{2}}{2} & \\frac{\\sqrt{2}}{2}\\\\0 & \\frac{\\sqrt{2}}{2} & \\frac{\\sqrt{2}}{2}\\end{matrix}\\right]$$"
      ],
      "text/plain": [
       "⎡1   0    0 ⎤\n",
       "⎢           ⎥\n",
       "⎢   -√2   √2⎥\n",
       "⎢0  ────  ──⎥\n",
       "⎢    2    2 ⎥\n",
       "⎢           ⎥\n",
       "⎢    √2   √2⎥\n",
       "⎢0   ──   ──⎥\n",
       "⎣    2    2 ⎦"
      ]
     },
     "execution_count": 35,
     "metadata": {},
     "output_type": "execute_result"
    }
   ],
   "source": [
    "P, D=A.diagonalize()\n",
    "P[:,1]=P[:,1]/sqrt(2)\n",
    "P[:,2]=P[:,2]/sqrt(2)\n",
    "P"
   ]
  },
  {
   "cell_type": "code",
   "execution_count": 36,
   "metadata": {
    "scrolled": true
   },
   "outputs": [
    {
     "data": {
      "text/latex": [
       "$$\\left[\\begin{matrix}1 & 0 & 0\\\\0 & 2 & 0\\\\0 & 0 & 4\\end{matrix}\\right]$$"
      ],
      "text/plain": [
       "⎡1  0  0⎤\n",
       "⎢       ⎥\n",
       "⎢0  2  0⎥\n",
       "⎢       ⎥\n",
       "⎣0  0  4⎦"
      ]
     },
     "execution_count": 36,
     "metadata": {},
     "output_type": "execute_result"
    }
   ],
   "source": [
    "D"
   ]
  },
  {
   "cell_type": "markdown",
   "metadata": {},
   "source": [
    "We can verify our results"
   ]
  },
  {
   "cell_type": "code",
   "execution_count": 37,
   "metadata": {},
   "outputs": [
    {
     "data": {
      "text/latex": [
       "$$\\left[\\begin{matrix}1 & 0 & 0\\\\0 & 3 & 1\\\\0 & 1 & 3\\end{matrix}\\right]$$"
      ],
      "text/plain": [
       "⎡1  0  0⎤\n",
       "⎢       ⎥\n",
       "⎢0  3  1⎥\n",
       "⎢       ⎥\n",
       "⎣0  1  3⎦"
      ]
     },
     "execution_count": 37,
     "metadata": {},
     "output_type": "execute_result"
    }
   ],
   "source": [
    "simplify(P*D*transpose(P))"
   ]
  },
  {
   "cell_type": "code",
   "execution_count": 38,
   "metadata": {},
   "outputs": [
    {
     "data": {
      "text/latex": [
       "$$\\left[\\begin{matrix}1 & 0 & 0\\\\0 & 2 & 0\\\\0 & 0 & 4\\end{matrix}\\right]$$"
      ],
      "text/plain": [
       "⎡1  0  0⎤\n",
       "⎢       ⎥\n",
       "⎢0  2  0⎥\n",
       "⎢       ⎥\n",
       "⎣0  0  4⎦"
      ]
     },
     "execution_count": 38,
     "metadata": {},
     "output_type": "execute_result"
    }
   ],
   "source": [
    "simplify(transpose(P)*A*P)"
   ]
  }
 ],
 "metadata": {
  "kernelspec": {
   "display_name": "Python 3",
   "language": "python",
   "name": "python3"
  },
  "language_info": {
   "codemirror_mode": {
    "name": "ipython",
    "version": 3
   },
   "file_extension": ".py",
   "mimetype": "text/x-python",
   "name": "python",
   "nbconvert_exporter": "python",
   "pygments_lexer": "ipython3",
   "version": "3.7.7"
  }
 },
 "nbformat": 4,
 "nbformat_minor": 2
}
