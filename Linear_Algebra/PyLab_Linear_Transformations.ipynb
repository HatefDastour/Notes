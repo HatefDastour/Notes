{
 "cells": [
  {
   "cell_type": "code",
   "execution_count": 1,
   "metadata": {},
   "outputs": [],
   "source": [
    "from __future__ import division\n",
    "from sympy import *\n",
    "init_printing(use_unicode=True)\n",
    "\n",
    "import numpy as np\n",
    "\n",
    "# Plots\n",
    "import matplotlib.pyplot as plt\n",
    "\n",
    "%matplotlib inline\n",
    "plt.style.use('seaborn-white')\n",
    "\n",
    "import warnings\n",
    "warnings.filterwarnings(\"ignore\")"
   ]
  },
  {
   "cell_type": "markdown",
   "metadata": {},
   "source": [
    "# Special Linear Transformations in $\\mathbb{R}^2$\n",
    "\n",
    "## Rotation\n",
    "\n",
    "Let $R_\\theta:~\\mathbb{R}^2 \\to \\mathbb{R}^2$ be a linear transformation given by\\linebreak rotating vectors through an angle of $\\theta$. Then\n",
    "the matrix $A$ of $R_\\theta$ is given by\n",
    "\\begin{align}\n",
    "\\begin{bmatrix}\\cos( \\theta ) & -\\sin( \\theta )\\\\\\sin( \\theta ) & \\cos( \\theta )\\end{bmatrix}.\n",
    "\\end{align}\n",
    "\n",
    "<img src='https://raw.githubusercontent.com/HatefDastour/hatefdastour.github.io/master/files/MATH211_Figures/fig5_04.png' width='400' align=\"center\"/>"
   ]
  },
  {
   "cell_type": "markdown",
   "metadata": {},
   "source": [
    "Let's define the following rotation function."
   ]
  },
  {
   "cell_type": "code",
   "execution_count": 2,
   "metadata": {},
   "outputs": [],
   "source": [
    "def Rot(t):\n",
    "    return Matrix([[np.cos(t) , -np.sin(t)], [np.sin(t) , np.cos(t)]])"
   ]
  },
  {
   "cell_type": "markdown",
   "metadata": {},
   "source": [
    "<font color='Blue'><b>Example</b></font>:\n",
    "Let $R_\\pi: ~\\mathbb{R}^2 \\to \\mathbb{R}^2$ denote rotation through $\\pi$. Find the matrix of $R_\\pi$. Then, find $B = R_\\pi\\begin{bmatrix}1 \\\\ 1\\end{bmatrix}$, $C = R_{\\pi/2}\\begin{bmatrix}1 \\\\ 1\\end{bmatrix}$, and $D = R_{-\\pi/2}\\begin{bmatrix}1 \\\\ 1\\end{bmatrix}$"
   ]
  },
  {
   "cell_type": "code",
   "execution_count": 3,
   "metadata": {
    "scrolled": true
   },
   "outputs": [
    {
     "data": {
      "text/latex": [
       "$\\displaystyle \\left[\\begin{matrix}1\\\\1\\end{matrix}\\right]$"
      ],
      "text/plain": [
       "⎡1⎤\n",
       "⎢ ⎥\n",
       "⎣1⎦"
      ]
     },
     "execution_count": 3,
     "metadata": {},
     "output_type": "execute_result"
    }
   ],
   "source": [
    "A = Matrix([[1], [1]])\n",
    "A"
   ]
  },
  {
   "cell_type": "code",
   "execution_count": 4,
   "metadata": {
    "scrolled": true
   },
   "outputs": [
    {
     "data": {
      "text/latex": [
       "$\\displaystyle \\left[\\begin{matrix}-1.0\\\\-1.0\\end{matrix}\\right]$"
      ],
      "text/plain": [
       "⎡-1.0⎤\n",
       "⎢    ⎥\n",
       "⎣-1.0⎦"
      ]
     },
     "execution_count": 4,
     "metadata": {},
     "output_type": "execute_result"
    }
   ],
   "source": [
    "B = Rot(np.pi)*A\n",
    "B"
   ]
  },
  {
   "cell_type": "code",
   "execution_count": 5,
   "metadata": {},
   "outputs": [
    {
     "data": {
      "text/latex": [
       "$\\displaystyle \\left[\\begin{matrix}-1.0\\\\1.0\\end{matrix}\\right]$"
      ],
      "text/plain": [
       "⎡-1.0⎤\n",
       "⎢    ⎥\n",
       "⎣1.0 ⎦"
      ]
     },
     "execution_count": 5,
     "metadata": {},
     "output_type": "execute_result"
    }
   ],
   "source": [
    "C = Rot(np.pi/2)*A\n",
    "C"
   ]
  },
  {
   "cell_type": "code",
   "execution_count": 6,
   "metadata": {},
   "outputs": [
    {
     "data": {
      "text/latex": [
       "$\\displaystyle \\left[\\begin{matrix}1.0\\\\-1.0\\end{matrix}\\right]$"
      ],
      "text/plain": [
       "⎡1.0 ⎤\n",
       "⎢    ⎥\n",
       "⎣-1.0⎦"
      ]
     },
     "execution_count": 6,
     "metadata": {},
     "output_type": "execute_result"
    }
   ],
   "source": [
    "D = Rot(-np.pi/2)*A\n",
    "D"
   ]
  },
  {
   "cell_type": "code",
   "execution_count": 7,
   "metadata": {
    "scrolled": false
   },
   "outputs": [
    {
     "data": {
      "image/png": "[encoded data removed]",
      "text/plain": [
       "<Figure size 432x432 with 1 Axes>"
      ]
     },
     "metadata": {},
     "output_type": "display_data"
    }
   ],
   "source": [
    "fig, ax = plt.subplots(nrows=1, ncols=1, figsize=(6, 6))\n",
    "_ = ax.scatter(A[0], A[1], marker='o', color='r', label='A')\n",
    "_ = ax.scatter(B[0], B[1], marker='o', color='b', label='B')\n",
    "_ = ax.scatter(C[0], C[1], marker='o', color='g', label='C')\n",
    "_ = ax.scatter(D[0], D[1], marker='o', color='c', label='D')\n",
    "\n",
    "_ = ax.set_xlabel('$x$', fontsize=18)\n",
    "_ = ax.set_ylabel('$y$', fontsize=18)\n",
    "_ = ax.legend(loc='best', bbox_to_anchor=(1.01, 0., 0.2, 0.6))\n",
    "_ = ax.set_aspect('equal')\n",
    "_ = ax.grid(True, which='both')\n",
    "_ = ax.axhline(y=0, color='k')\n",
    "_ = ax.axvline(x=0, color='k')"
   ]
  },
  {
   "cell_type": "markdown",
   "metadata": {},
   "source": [
    "## Reflection\n",
    "Let $Q_m: ~\\mathbb{R}^2 \\to \\mathbb{R}^2$ a linear transformation given by reflecting vectors over the line $\\vec{y} = m\\,\\vec{x}$ . Then\n",
    "the matrix of $Q_m$ is given by\n",
    "\\begin{align}\n",
    "\\frac{1}{1+m^2}\\begin{bmatrix}1-m^2 & 2m\\\\2m &m^2-1\\end{bmatrix}\n",
    "\\end{align}"
   ]
  },
  {
   "cell_type": "markdown",
   "metadata": {},
   "source": [
    "Now, we can define"
   ]
  },
  {
   "cell_type": "code",
   "execution_count": 8,
   "metadata": {},
   "outputs": [],
   "source": [
    "def Ref(m):\n",
    "    return Matrix([[1-m**2 , 2*m], [2*m , m**2-1]])/(1+m**2)"
   ]
  },
  {
   "cell_type": "markdown",
   "metadata": {},
   "source": [
    "<font color='Blue'><b>Example</b></font>:\n",
    "Let $Q_3: ~\\mathbb{R}^2 \\to \\mathbb{R}^2$ denote reflection over the line $y = 3x$ . Then $Q_3$ is a linear transformation. Find\n",
    "the matrix of $Q_3$. Then, find $Q_3\\begin{bmatrix}1 \\\\ 1\\end{bmatrix}$."
   ]
  },
  {
   "cell_type": "code",
   "execution_count": 9,
   "metadata": {},
   "outputs": [
    {
     "data": {
      "text/latex": [
       "$\\displaystyle \\left[\\begin{matrix}- \\frac{4}{5} & \\frac{3}{5}\\\\\\frac{3}{5} & \\frac{4}{5}\\end{matrix}\\right]$"
      ],
      "text/plain": [
       "⎡-4/5  3/5⎤\n",
       "⎢         ⎥\n",
       "⎣3/5   4/5⎦"
      ]
     },
     "execution_count": 9,
     "metadata": {},
     "output_type": "execute_result"
    }
   ],
   "source": [
    "Q3 = Ref(3)\n",
    "Q3"
   ]
  },
  {
   "cell_type": "markdown",
   "metadata": {},
   "source": [
    "A = Matrix([[1], [1]])\n",
    "A"
   ]
  },
  {
   "cell_type": "code",
   "execution_count": 10,
   "metadata": {},
   "outputs": [
    {
     "data": {
      "text/latex": [
       "$\\displaystyle \\left[\\begin{matrix}- \\frac{1}{5}\\\\\\frac{7}{5}\\end{matrix}\\right]$"
      ],
      "text/plain": [
       "⎡-1/5⎤\n",
       "⎢    ⎥\n",
       "⎣7/5 ⎦"
      ]
     },
     "execution_count": 10,
     "metadata": {},
     "output_type": "execute_result"
    }
   ],
   "source": [
    "B = Q3*A\n",
    "B"
   ]
  },
  {
   "cell_type": "code",
   "execution_count": 11,
   "metadata": {},
   "outputs": [
    {
     "data": {
      "image/png": "[encoded data removed]",
      "text/plain": [
       "<Figure size 432x432 with 1 Axes>"
      ]
     },
     "metadata": {},
     "output_type": "display_data"
    }
   ],
   "source": [
    "fig, ax = plt.subplots(nrows=1, ncols=1, figsize=(6, 6))\n",
    "_ = ax.scatter(A[0], A[1], marker='o', color='r', label='A')\n",
    "_ = ax.scatter(B[0], B[1], marker='o', color='b', label='B')\n",
    "\n",
    "_ = ax.set_xlabel('$x$', fontsize=18)\n",
    "_ = ax.set_ylabel('$y$', fontsize=18)\n",
    "_ = ax.legend(loc='best', bbox_to_anchor=(1.01, 0., 0.2, 0.6))\n",
    "_ = ax.set_aspect('equal')\n",
    "_ = ax.grid(True, which='both')\n",
    "_ = ax.axhline(y=0, color='k')\n",
    "_ = ax.axvline(x=0, color='k')"
   ]
  },
  {
   "cell_type": "markdown",
   "metadata": {},
   "source": [
    "***"
   ]
  }
 ],
 "metadata": {
  "kernelspec": {
   "display_name": "Python 3",
   "language": "python",
   "name": "python3"
  },
  "language_info": {
   "codemirror_mode": {
    "name": "ipython",
    "version": 3
   },
   "file_extension": ".py",
   "mimetype": "text/x-python",
   "name": "python",
   "nbconvert_exporter": "python",
   "pygments_lexer": "ipython3",
   "version": "3.7.8"
  }
 },
 "nbformat": 4,
 "nbformat_minor": 4
}
