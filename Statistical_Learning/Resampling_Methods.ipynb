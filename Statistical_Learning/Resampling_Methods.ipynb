{
 "cells": [
  {
   "cell_type": "code",
   "execution_count": 1,
   "metadata": {},
   "outputs": [],
   "source": [
    "import pandas as pd\n",
    "import numpy as np\n",
    "\n",
    "import sklearn.linear_model as skl_lm\n",
    "from sklearn.metrics import mean_squared_error\n",
    "from sklearn.model_selection import train_test_split, LeaveOneOut, KFold, cross_val_score\n",
    "from sklearn.preprocessing import PolynomialFeatures\n",
    "from sklearn.utils import resample\n",
    "\n",
    "import statsmodels.api as sm\n",
    "import statsmodels.formula.api as smf\n",
    "\n",
    "from astropy.stats import bootstrap\n",
    "from astropy.utils import NumpyRNGContext\n",
    "\n",
    "# plots\n",
    "import matplotlib.pyplot as plt\n",
    "import seaborn as sns\n",
    "\n",
    "sns.set_style('whitegrid')\n",
    "plt.style.use('seaborn-white')\n",
    "plt.rcParams['axes.labelsize'] = 14\n",
    "plt.rcParams['xtick.labelsize'] = 12\n",
    "plt.rcParams['ytick.labelsize'] = 12\n",
    "plt.rcParams['text.color'] = 'k'\n",
    "%matplotlib inline\n",
    "import warnings\n",
    "warnings.filterwarnings(\"ignore\")"
   ]
  },
  {
   "cell_type": "markdown",
   "metadata": {},
   "source": [
    "# Resampling Methods"
   ]
  },
  {
   "cell_type": "markdown",
   "metadata": {},
   "source": [
    "* [Load dataset](#Load-dataset)\n",
    "* [Cross-Validation](#5.1-Cross-Validation)\n",
    "    * [Example: Auto Data](#Example:-Auto-Data)\n",
    "    * [Validation Set Approach](#Validation-Set-Approach)\n",
    "    * [Leave-One-Out Cross-Validation](#Leave-One-Out-Cross-Validation)\n",
    "    * [k-fold CV](#k-fold-CV)\n",
    "* [The Bootstrap](#The-Bootstrap)\n",
    "* [LAB](#LAB)\n",
    "    * [Leave-One-Out Cross-Validation (LOO CV)](#Leave-One-Out-Cross-Validation-(LOO-CV))\n",
    "    * [The Bootstrap Analysis](#The-Bootstrap-Analysis)"
   ]
  },
  {
   "cell_type": "markdown",
   "metadata": {},
   "source": [
    "Resampling methods involve fetching sample data from a training set iteratively, and refitting a model of interest on each sample. By the end of this interactive process, several additional information regarding the fitted model will be available. For instance, the variability of a linear regression fit can be tested and the results can be compared. Two commonly used resampling methods are *cross-validation* (CV) and *the bootstrap*."
   ]
  },
  {
   "cell_type": "markdown",
   "metadata": {},
   "source": [
    "## Cross-Validation\n",
    "\n",
    "Recall the test error rate and the training error rate. The test error is the average error generated from implementing a statistical learning method for predicting the response on a new observation. This is hard to calculate since a designated test set is not usually available. Whereas, the training error can be easily calculated by applying the statistical learning method to the observations used in its training. The training error can dramatically underestimate the test error rate."
   ]
  },
  {
   "cell_type": "markdown",
   "metadata": {},
   "source": [
    "### Example: Auto Data\n",
    "\n",
    "See [this link](http://www-bcf.usc.edu/~gareth/ISL/data.html) or the [ISLR R packge](https://cran.rstudio.com/web/packages/ISLR/ISLR.pdf) for the data."
   ]
  },
  {
   "cell_type": "code",
   "execution_count": 2,
   "metadata": {},
   "outputs": [
    {
     "data": {
      "text/html": [
       "<div>\n",
       "<style scoped>\n",
       "    .dataframe tbody tr th:only-of-type {\n",
       "        vertical-align: middle;\n",
       "    }\n",
       "\n",
       "    .dataframe tbody tr th {\n",
       "        vertical-align: top;\n",
       "    }\n",
       "\n",
       "    .dataframe thead th {\n",
       "        text-align: right;\n",
       "    }\n",
       "</style>\n",
       "<table border=\"1\" class=\"dataframe\">\n",
       "  <thead>\n",
       "    <tr style=\"text-align: right;\">\n",
       "      <th></th>\n",
       "      <th>mpg</th>\n",
       "      <th>cylinders</th>\n",
       "      <th>displacement</th>\n",
       "      <th>horsepower</th>\n",
       "      <th>weight</th>\n",
       "      <th>acceleration</th>\n",
       "      <th>year</th>\n",
       "      <th>origin</th>\n",
       "      <th>name</th>\n",
       "    </tr>\n",
       "  </thead>\n",
       "  <tbody>\n",
       "    <tr>\n",
       "      <th>0</th>\n",
       "      <td>18.0</td>\n",
       "      <td>8</td>\n",
       "      <td>307.0</td>\n",
       "      <td>130.0</td>\n",
       "      <td>3504</td>\n",
       "      <td>12.0</td>\n",
       "      <td>70</td>\n",
       "      <td>1</td>\n",
       "      <td>chevrolet chevelle malibu</td>\n",
       "    </tr>\n",
       "    <tr>\n",
       "      <th>1</th>\n",
       "      <td>15.0</td>\n",
       "      <td>8</td>\n",
       "      <td>350.0</td>\n",
       "      <td>165.0</td>\n",
       "      <td>3693</td>\n",
       "      <td>11.5</td>\n",
       "      <td>70</td>\n",
       "      <td>1</td>\n",
       "      <td>buick skylark 320</td>\n",
       "    </tr>\n",
       "    <tr>\n",
       "      <th>2</th>\n",
       "      <td>18.0</td>\n",
       "      <td>8</td>\n",
       "      <td>318.0</td>\n",
       "      <td>150.0</td>\n",
       "      <td>3436</td>\n",
       "      <td>11.0</td>\n",
       "      <td>70</td>\n",
       "      <td>1</td>\n",
       "      <td>plymouth satellite</td>\n",
       "    </tr>\n",
       "    <tr>\n",
       "      <th>3</th>\n",
       "      <td>16.0</td>\n",
       "      <td>8</td>\n",
       "      <td>304.0</td>\n",
       "      <td>150.0</td>\n",
       "      <td>3433</td>\n",
       "      <td>12.0</td>\n",
       "      <td>70</td>\n",
       "      <td>1</td>\n",
       "      <td>amc rebel sst</td>\n",
       "    </tr>\n",
       "    <tr>\n",
       "      <th>4</th>\n",
       "      <td>17.0</td>\n",
       "      <td>8</td>\n",
       "      <td>302.0</td>\n",
       "      <td>140.0</td>\n",
       "      <td>3449</td>\n",
       "      <td>10.5</td>\n",
       "      <td>70</td>\n",
       "      <td>1</td>\n",
       "      <td>ford torino</td>\n",
       "    </tr>\n",
       "  </tbody>\n",
       "</table>\n",
       "</div>"
      ],
      "text/plain": [
       "    mpg  cylinders  displacement  horsepower  weight  acceleration  year  \\\n",
       "0  18.0          8         307.0       130.0    3504          12.0    70   \n",
       "1  15.0          8         350.0       165.0    3693          11.5    70   \n",
       "2  18.0          8         318.0       150.0    3436          11.0    70   \n",
       "3  16.0          8         304.0       150.0    3433          12.0    70   \n",
       "4  17.0          8         302.0       140.0    3449          10.5    70   \n",
       "\n",
       "   origin                       name  \n",
       "0       1  chevrolet chevelle malibu  \n",
       "1       1          buick skylark 320  \n",
       "2       1         plymouth satellite  \n",
       "3       1              amc rebel sst  \n",
       "4       1                ford torino  "
      ]
     },
     "execution_count": 2,
     "metadata": {},
     "output_type": "execute_result"
    }
   ],
   "source": [
    "df = pd.read_csv('Data/Auto.csv', na_values='?').dropna()\n",
    "df.head()"
   ]
  },
  {
   "cell_type": "markdown",
   "metadata": {},
   "source": [
    "### Validation Set Approach\n",
    "\n",
    "\n",
    "We would like to estimate the test error associated with fitting a particular statistical learning method on a set of observations. The validation set approach involves randomly dividing the available set of observations into two parts, a **training set** and a **validation set** (hold-out set). Then, the model is fit on the training set. To predict the responses, we can use the fitted model. The resulting validation set error rate, expressed in MSE, can provide an estimate of the test error rate.\n",
    "\n",
    "See [Non-linear transformation](https://scikit-learn.org/stable/modules/preprocessing.html#non-linear-transformation) from \n",
    "[Preprocessing data](https://scikit-learn.org/stable/modules/preprocessing.html#non-linear-transformation) for more details regarding the implmenting this method."
   ]
  },
  {
   "cell_type": "code",
   "execution_count": 3,
   "metadata": {},
   "outputs": [],
   "source": [
    "#  the absolute number of train samples\n",
    "train_samples = 0.5\n",
    "# degree of the polynomials\n",
    "polynomial_order = np.arange(1,11)\n",
    "# random state\n",
    "random_state = np.arange(0,10)\n",
    "\n",
    "# creating a mesh\n",
    "X, Y = np.meshgrid(polynomial_order, random_state, indexing='ij')\n",
    "# an empty Z matrix\n",
    "Z = np.zeros((polynomial_order.size,random_state.size))\n",
    "\n",
    "lreg = skl_lm.LinearRegression()\n",
    "# Generate 10 random splits of the dataset\n",
    "for (i,j),v in np.ndenumerate(Z):\n",
    "    # Generating polynomial features\n",
    "    poly = PolynomialFeatures(int(X[i,j]))\n",
    "    X_poly = poly.fit_transform(df.horsepower.values.reshape(-1,1))\n",
    "    X_train, X_test, y_train, y_test = train_test_split(X_poly,\n",
    "                                                        df.mpg.ravel(),\n",
    "                                                        test_size=train_samples,\n",
    "                                                        random_state=Y[i,j])\n",
    "    \n",
    "    lreg.fit(X_train, y_train)\n",
    "    predict = lreg.predict(X_test)\n",
    "    Z[i,j]= mean_squared_error(y_test, predict)"
   ]
  },
  {
   "cell_type": "code",
   "execution_count": 4,
   "metadata": {
    "scrolled": false
   },
   "outputs": [
    {
     "data": {
      "image/png": "[encoded data removed]",
      "text/plain": [
       "<Figure size 1152x432 with 2 Axes>"
      ]
     },
     "metadata": {
      "needs_background": "light"
     },
     "output_type": "display_data"
    }
   ],
   "source": [
    "# Plotting\n",
    "fig, ax = plt.subplots(1,2, figsize=(16,6))\n",
    "\n",
    "# Left plot\n",
    "ax[0].plot(X.T[0],Z.T[0], '--ro')\n",
    "ax[0].set_title('Random split of the data set')\n",
    "\n",
    "# Right plot\n",
    "ax[1].plot(X,Z)\n",
    "ax[1].set_title('10 random splits of the data set')\n",
    "\n",
    "for ax in fig.axes:\n",
    "    ax.set_ylabel('Mean Squared Error')\n",
    "    ax.set_ylim(14,32)\n",
    "    ax.set_xlabel('Degree of Polynomial')\n",
    "    ax.set_xlim(1,11)\n",
    "    ax.set_xticks(range(0,12,2));"
   ]
  },
  {
   "cell_type": "markdown",
   "metadata": {},
   "source": [
    "The validation set approach was used on the Auto data set to estimate the test error that results from predicting mpg using polynomial functions of horsepower.\n",
    "* **Left**: Validation error estimates for a single split into\n",
    "training and validation data sets.\n",
    "* **Right**: The validation method was repeated ten times, each time using a different random split of the observations into a training\n",
    "set and a validation set. This illustrates the variability in the estimated test MSE that results from this approach."
   ]
  },
  {
   "cell_type": "markdown",
   "metadata": {},
   "source": [
    "We can see from the right-hand panel of the above Figure that the validation estimate of the test error rate can be highly variable.  The test error is highly dependant on the selection of the training set and from the observations set.\n",
    "\n",
    "Moreover, in the validation approach, only a subset of the observations, the training set, are used to fit the model. Statistical methods tend to perform worse when *trained on fewer observations*, and the validation set error rate may tend to overestimate the test error rate for the model fit on the entire data set."
   ]
  },
  {
   "cell_type": "markdown",
   "metadata": {},
   "source": [
    "### Leave-One-Out Cross-Validation\n",
    "\n",
    "Leave-One-Out Cross-Validation attempts to address that the drawbacks of the validation. In this method, a single observation $(x_i ,y_i)$ is used for the validation (the validationn consideres two subsets of comparable size set). The remaining observations ${(x_1 ,y _1 ),~(x_2 ,y_2 ),\\ldots,(x_{i-1} ,y_{i-1} ),(x_{i+1} ,y_{i+1} ),(x_n ,y_n )}$ make up the training set. In other words, the statistical learning method is fit on the $n − 1$ training observations, and using its value $x_1$, a prediction $\\hat{y}_1$ is made for the excluded observation.\n",
    "\n",
    "Furthermore, the LOOCV estimate for the test MSE is the average of these $n$ test error estimates:\n",
    "$$CV_{(n)} =\\dfrac{1}{n} \\sum_{i=1}^{n} \\left(\\dfrac{(y_i −  \\hat{y}_i }{1-h_i}\\right)^2 $$\n",
    "\n",
    "where $\\hat{y}_i$ is the ith fitted value from the original least squares fit, and $h_i$ is the leverage defined $i$\n",
    "\n",
    "$$h_{i} = \\dfrac{1}{n} +\\dfrac{(x_i − \\bar{x})^2}{\\sum_{i'=1}^{n}(x_i' − \\bar{x})^2}$$"
   ]
  },
  {
   "cell_type": "markdown",
   "metadata": {},
   "source": [
    "LOOCV has the potential to be expensive to implement since the model has to be fit $n$ times. This can be very time consuming if $n$ is large, and if each model is slow to fit.\n",
    "\n",
    "Given the fact that $(x_i, y_i)$ is not used in the fitting process, $MSE_i = (y_i −  \\hat{y}_i )^2$ provides an approximately *unbiased* estimate for the test error. Nevertheless, this unbiased for the test error is a poor estimate because it is highly variable and it is based upon a single observation $(x_i, y_i)$."
   ]
  },
  {
   "cell_type": "code",
   "execution_count": 5,
   "metadata": {},
   "outputs": [
    {
     "data": {
      "text/plain": [
       "392"
      ]
     },
     "execution_count": 5,
     "metadata": {},
     "output_type": "execute_result"
    }
   ],
   "source": [
    "polynomial_order = np.arange(1,11)\n",
    "random_state = np.arange(0,10)\n",
    "\n",
    "# LeaveOneOut CV\n",
    "lreg = skl_lm.LinearRegression()\n",
    "LOO = LeaveOneOut()\n",
    "# the number of splitting iterations in the cross-validator\n",
    "LOO.get_n_splits(df)"
   ]
  },
  {
   "cell_type": "code",
   "execution_count": 6,
   "metadata": {
    "scrolled": true
   },
   "outputs": [],
   "source": [
    "scores = np.zeros(len(polynomial_order))\n",
    "for i in polynomial_order:\n",
    "    # Generating polynomial features\n",
    "    poly = PolynomialFeatures(i)\n",
    "    X_poly = poly.fit_transform(df.horsepower.values.reshape(-1,1))\n",
    "    scores[i-1]=cross_val_score(lreg, X_poly, df.mpg, cv=LOO, scoring='neg_mean_squared_error').mean()"
   ]
  },
  {
   "cell_type": "code",
   "execution_count": 7,
   "metadata": {
    "scrolled": true
   },
   "outputs": [
    {
     "data": {
      "text/plain": [
       "array([-24.23151352, -19.24821312, -19.33498406, -19.42443031,\n",
       "       -19.03321184, -18.97301274, -19.12563966, -19.22423029,\n",
       "       -19.1338565 , -18.94583744])"
      ]
     },
     "execution_count": 7,
     "metadata": {},
     "output_type": "execute_result"
    }
   ],
   "source": [
    "scores"
   ]
  },
  {
   "cell_type": "markdown",
   "metadata": {},
   "source": [
    "### k-fold CV\n",
    "\n",
    "An alternative to LOOCV is k-fold CV which involves randomly dividing the set of observations into $k$ groups (or folds) of approximately equal size. A fold set is treated as a validation set, and then the method is fit on the remaining $k − 1$ folds. The mean squared error, $MSE_i$, is then computed on the observations in the held-out fold. This process results in $k$ estimates of the test error, $MSE_1$, $MSE_2, \\ldots,~MSE_k$. The k-fold CV estimate is computed by averaging these values,\n",
    "$$CV_{(k)}= \\frac{1}{k} \\sum_{i}^{k} MSE_{i}. $$\n",
    "\n",
    "As can be seen, LOOCV is a special case of k-fold CV in which $k=n$. k-fold CV often provides more accurate estimates of the test error rate than does LOOCV"
   ]
  },
  {
   "cell_type": "code",
   "execution_count": 8,
   "metadata": {},
   "outputs": [],
   "source": [
    "# k-fold CV\n",
    "folds = 10\n",
    "elements = len(df.index)\n",
    "\n",
    "X, Y = np.meshgrid(polynomial_order, random_state, indexing='ij')\n",
    "Z = np.zeros((polynomial_order.size,random_state.size))\n",
    "\n",
    "regr = skl_lm.LinearRegression()\n",
    "\n",
    "for (i,j),v in np.ndenumerate(Z):\n",
    "    poly = PolynomialFeatures(X[i,j])\n",
    "    X_poly = poly.fit_transform(df.horsepower.values.reshape(-1,1))\n",
    "    kf_10 = KFold(n_splits=folds, random_state=Y[i,j])\n",
    "    Z[i,j] = cross_val_score(regr, X_poly, df.mpg, cv=kf_10, scoring='neg_mean_squared_error').mean()    "
   ]
  },
  {
   "cell_type": "code",
   "execution_count": 9,
   "metadata": {},
   "outputs": [
    {
     "data": {
      "image/png": "[encoded data removed]",
      "text/plain": [
       "<Figure size 1152x432 with 2 Axes>"
      ]
     },
     "metadata": {
      "needs_background": "light"
     },
     "output_type": "display_data"
    }
   ],
   "source": [
    "# Plotting\n",
    "fig, ax = plt.subplots(1,2, figsize=(16,6))\n",
    "\n",
    "# Left plot\n",
    "ax[0].plot(polynomial_order, np.array(scores)*-1, '--ro')\n",
    "ax[0].set_title('LOOCV')\n",
    "\n",
    "# Right plot\n",
    "ax[1].plot(X,Z*-1)\n",
    "ax[1].set_title('10-fold CV')\n",
    "\n",
    "for ax in fig.axes:\n",
    "    ax.set_ylabel('Mean Squared Error')\n",
    "    ax.set_ylim(18,28)\n",
    "    ax.set_xlabel('Degree of Polynomial')\n",
    "    ax.set_xlim(0.5,10.5)\n",
    "    ax.set_xticks(range(2,11,2));"
   ]
  },
  {
   "cell_type": "markdown",
   "metadata": {},
   "source": [
    "Cross-validation was used on the Auto data set for estimating the test error that results from predicting mpg using polynomial functions\n",
    "of horsepower. \n",
    "\n",
    "* **Left**: The LOOCV error curve.\n",
    "* **Right**: 10-fold CV was run nine separate times, each with a different random split of the data into ten parts. The figure shows the nine lightly different CV error curves."
   ]
  },
  {
   "cell_type": "markdown",
   "metadata": {},
   "source": [
    "## The Bootstrap\n",
    "\n",
    "[Bootstrap](https://en.wikipedia.org/wiki/Bootstrapping_(statistics)) is a  statistical tool that can be used to quantify the uncertainty associated with a given estimator or statistical learning method. Applying Bootstrap allows allocating measures of accuracy to sample estimates."
   ]
  },
  {
   "cell_type": "markdown",
   "metadata": {},
   "source": [
    "## LAB\n",
    "\n",
    "Consider the Auto example again. We can select a random subset of 200 observations out of the original 392 observations as the **train set**."
   ]
  },
  {
   "cell_type": "code",
   "execution_count": 10,
   "metadata": {},
   "outputs": [],
   "source": [
    "# selecting a random subset of 200\n",
    "subset_size=200\n",
    "sub_train= df.sample(subset_size, random_state = 1)\n",
    "X_train = sub_train['horsepower'].values.reshape(-1,1)\n",
    "y_train = sub_train['mpg']"
   ]
  },
  {
   "cell_type": "markdown",
   "metadata": {},
   "source": [
    "and the remaining of the observations can be regarded as the test set."
   ]
  },
  {
   "cell_type": "code",
   "execution_count": 11,
   "metadata": {},
   "outputs": [],
   "source": [
    "# the remaining of the observations\n",
    "sub_test = df[~df.isin(sub_train)].dropna(how = 'all')\n",
    "X_test = sub_test['horsepower'].values.reshape(-1,1)\n",
    "y_test = sub_test['mpg']"
   ]
  },
  {
   "cell_type": "markdown",
   "metadata": {},
   "source": [
    "Now, estimate the test error for the linear, quadratic and cubic regressions."
   ]
  },
  {
   "cell_type": "code",
   "execution_count": 12,
   "metadata": {},
   "outputs": [
    {
     "name": "stdout",
     "output_type": "stream",
     "text": [
      "MSE (Linear) = 23.555921\n",
      "MSE (Quadratic) = 20.409870\n",
      "MSE (Cubic) = 20.488458\n"
     ]
    }
   ],
   "source": [
    "# Linear\n",
    "reg = skl_lm.LinearRegression().fit(X_train, y_train)\n",
    "prediction_Linear = reg.predict(X_test)\n",
    "print('MSE (Linear) = %f' % mean_squared_error(y_test, prediction_Linear))\n",
    "\n",
    "# Quadratic\n",
    "poly = PolynomialFeatures(degree=2)\n",
    "X_train2 = poly.fit_transform(X_train)\n",
    "X_test2 = poly.fit_transform(X_test)\n",
    "\n",
    "reg = skl_lm.LinearRegression().fit(X_train2, y_train)\n",
    "prediction_Quadratic = reg.predict(X_test2)\n",
    "print('MSE (Quadratic) = %f' % mean_squared_error(y_test, prediction_Quadratic))\n",
    "\n",
    "# Cubic\n",
    "poly = PolynomialFeatures(degree=3)\n",
    "X_train3 = poly.fit_transform(X_train)\n",
    "X_test3 = poly.fit_transform(X_test)\n",
    "\n",
    "reg = skl_lm.LinearRegression().fit(X_train3, y_train)\n",
    "prediction_Cubic = reg.predict(X_test3)\n",
    "print('MSE (Cubic) = %f' % mean_squared_error(y_test, prediction_Cubic))"
   ]
  },
  {
   "cell_type": "code",
   "execution_count": 13,
   "metadata": {
    "scrolled": true
   },
   "outputs": [
    {
     "data": {
      "text/html": [
       "<div>\n",
       "<style scoped>\n",
       "    .dataframe tbody tr th:only-of-type {\n",
       "        vertical-align: middle;\n",
       "    }\n",
       "\n",
       "    .dataframe tbody tr th {\n",
       "        vertical-align: top;\n",
       "    }\n",
       "\n",
       "    .dataframe thead th {\n",
       "        text-align: right;\n",
       "    }\n",
       "</style>\n",
       "<table border=\"1\" class=\"dataframe\">\n",
       "  <thead>\n",
       "    <tr style=\"text-align: right;\">\n",
       "      <th></th>\n",
       "      <th>MSE</th>\n",
       "    </tr>\n",
       "  </thead>\n",
       "  <tbody>\n",
       "    <tr>\n",
       "      <th>Linear</th>\n",
       "      <td>23.555921</td>\n",
       "    </tr>\n",
       "    <tr>\n",
       "      <th>Quadratic</th>\n",
       "      <td>20.409870</td>\n",
       "    </tr>\n",
       "    <tr>\n",
       "      <th>Cubic</th>\n",
       "      <td>20.488458</td>\n",
       "    </tr>\n",
       "  </tbody>\n",
       "</table>\n",
       "</div>"
      ],
      "text/plain": [
       "                 MSE\n",
       "Linear     23.555921\n",
       "Quadratic  20.409870\n",
       "Cubic      20.488458"
      ]
     },
     "execution_count": 13,
     "metadata": {},
     "output_type": "execute_result"
    }
   ],
   "source": [
    "Table=pd.DataFrame({'MSE': [mean_squared_error(y_test, prediction_Linear),\n",
    "                            mean_squared_error(y_test, prediction_Quadratic),\n",
    "                            mean_squared_error(y_test, prediction_Cubic)]})\n",
    "Table.rename(index={0:'Linear', 1:'Quadratic', 2:'Cubic'}, inplace=True)\n",
    "Table"
   ]
  },
  {
   "cell_type": "markdown",
   "metadata": {},
   "source": [
    "If we choose a different training set instead, then we will obtain somewhat different errors on the validation set."
   ]
  },
  {
   "cell_type": "code",
   "execution_count": 14,
   "metadata": {},
   "outputs": [
    {
     "name": "stdout",
     "output_type": "stream",
     "text": [
      "MSE (Linear) = 25.502941\n",
      "MSE (Quadratic) = 19.928762\n",
      "MSE (Cubic) = 20.113070\n"
     ]
    },
    {
     "data": {
      "text/html": [
       "<div>\n",
       "<style scoped>\n",
       "    .dataframe tbody tr th:only-of-type {\n",
       "        vertical-align: middle;\n",
       "    }\n",
       "\n",
       "    .dataframe tbody tr th {\n",
       "        vertical-align: top;\n",
       "    }\n",
       "\n",
       "    .dataframe thead th {\n",
       "        text-align: right;\n",
       "    }\n",
       "</style>\n",
       "<table border=\"1\" class=\"dataframe\">\n",
       "  <thead>\n",
       "    <tr style=\"text-align: right;\">\n",
       "      <th></th>\n",
       "      <th>MSE</th>\n",
       "    </tr>\n",
       "  </thead>\n",
       "  <tbody>\n",
       "    <tr>\n",
       "      <th>Linear</th>\n",
       "      <td>25.502941</td>\n",
       "    </tr>\n",
       "    <tr>\n",
       "      <th>Quadratic</th>\n",
       "      <td>19.928762</td>\n",
       "    </tr>\n",
       "    <tr>\n",
       "      <th>Cubic</th>\n",
       "      <td>20.113070</td>\n",
       "    </tr>\n",
       "  </tbody>\n",
       "</table>\n",
       "</div>"
      ],
      "text/plain": [
       "                 MSE\n",
       "Linear     25.502941\n",
       "Quadratic  19.928762\n",
       "Cubic      20.113070"
      ]
     },
     "execution_count": 14,
     "metadata": {},
     "output_type": "execute_result"
    }
   ],
   "source": [
    "# selecting a random subset of 200\n",
    "subset_size=200\n",
    "sub_train= df.sample(subset_size, random_state = 2)\n",
    "X_train = sub_train['horsepower'].values.reshape(-1,1)\n",
    "y_train = sub_train['mpg']\n",
    "# the remaining of the observations\n",
    "sub_test = df[~df.isin(sub_train)].dropna(how = 'all')\n",
    "X_test = sub_test['horsepower'].values.reshape(-1,1)\n",
    "y_test = sub_test['mpg']\n",
    "\n",
    "# Linear\n",
    "reg = skl_lm.LinearRegression().fit(X_train, y_train)\n",
    "prediction_Linear = reg.predict(X_test)\n",
    "print('MSE (Linear) = %f' % mean_squared_error(y_test, prediction_Linear))\n",
    "\n",
    "# Quadratic\n",
    "poly = PolynomialFeatures(degree=2)\n",
    "X_train2 = poly.fit_transform(X_train)\n",
    "X_test2 = poly.fit_transform(X_test)\n",
    "\n",
    "reg = skl_lm.LinearRegression().fit(X_train2, y_train)\n",
    "prediction_Quadratic = reg.predict(X_test2)\n",
    "print('MSE (Quadratic) = %f' % mean_squared_error(y_test, prediction_Quadratic))\n",
    "\n",
    "# Cubic\n",
    "poly = PolynomialFeatures(degree=3)\n",
    "X_train3 = poly.fit_transform(X_train)\n",
    "X_test3 = poly.fit_transform(X_test)\n",
    "\n",
    "reg = skl_lm.LinearRegression().fit(X_train3, y_train)\n",
    "prediction_Cubic = reg.predict(X_test3)\n",
    "print('MSE (Cubic) = %f' % mean_squared_error(y_test, prediction_Cubic))\n",
    "\n",
    "Table=pd.DataFrame({'MSE': [mean_squared_error(y_test, prediction_Linear),\n",
    "                            mean_squared_error(y_test, prediction_Quadratic),\n",
    "                            mean_squared_error(y_test, prediction_Cubic)]})\n",
    "Table.rename(index={0:'Linear', 1:'Quadratic', 2:'Cubic'}, inplace=True)\n",
    "Table"
   ]
  },
  {
   "cell_type": "markdown",
   "metadata": {},
   "source": [
    "These results are consistent with our previous findings: a model that predicts mpg using a quadratic function of horsepower performs better than a model that involves only a linear function of horsepower , and there is little evidence in favor of a model that uses a cubic function of horsepower."
   ]
  },
  {
   "cell_type": "markdown",
   "metadata": {},
   "source": [
    "### Leave-One-Out Cross-Validation (LOO CV)"
   ]
  },
  {
   "cell_type": "code",
   "execution_count": 15,
   "metadata": {},
   "outputs": [
    {
     "name": "stdout",
     "output_type": "stream",
     "text": [
      "[-0.15784473] 39.93586102117047\n"
     ]
    }
   ],
   "source": [
    "x = df['horsepower'].values.reshape(-1,1)\n",
    "y = df['mpg']\n",
    "\n",
    "reg = skl_lm.LinearRegression()\n",
    "clf = reg.fit(x,y)\n",
    "print(clf.coef_, clf.intercept_)"
   ]
  },
  {
   "cell_type": "code",
   "execution_count": 16,
   "metadata": {},
   "outputs": [
    {
     "data": {
      "text/html": [
       "<table class=\"simpletable\">\n",
       "<tr>\n",
       "       <td></td>         <th>coef</th>     <th>std err</th>      <th>t</th>      <th>P>|t|</th>  <th>[0.025</th>    <th>0.975]</th>  \n",
       "</tr>\n",
       "<tr>\n",
       "  <th>Intercept</th>  <td>   39.9359</td> <td>    0.717</td> <td>   55.660</td> <td> 0.000</td> <td>   38.525</td> <td>   41.347</td>\n",
       "</tr>\n",
       "<tr>\n",
       "  <th>horsepower</th> <td>   -0.1578</td> <td>    0.006</td> <td>  -24.489</td> <td> 0.000</td> <td>   -0.171</td> <td>   -0.145</td>\n",
       "</tr>\n",
       "</table>"
      ],
      "text/plain": [
       "<class 'statsmodels.iolib.table.SimpleTable'>"
      ]
     },
     "execution_count": 16,
     "metadata": {},
     "output_type": "execute_result"
    }
   ],
   "source": [
    "Results = smf.ols('mpg ~ horsepower', df).fit()\n",
    "Results.summary().tables[1]"
   ]
  },
  {
   "cell_type": "code",
   "execution_count": 17,
   "metadata": {},
   "outputs": [],
   "source": [
    "xn= PolynomialFeatures(degree=1).fit_transform(x)\n",
    "cv = reg.fit(xn,y)"
   ]
  },
  {
   "cell_type": "markdown",
   "metadata": {},
   "source": [
    "### The Bootstrap Analysis\n",
    "\n",
    "Consider the following ISLR Portfolio data set."
   ]
  },
  {
   "cell_type": "code",
   "execution_count": 18,
   "metadata": {},
   "outputs": [
    {
     "data": {
      "text/html": [
       "<div>\n",
       "<style scoped>\n",
       "    .dataframe tbody tr th:only-of-type {\n",
       "        vertical-align: middle;\n",
       "    }\n",
       "\n",
       "    .dataframe tbody tr th {\n",
       "        vertical-align: top;\n",
       "    }\n",
       "\n",
       "    .dataframe thead th {\n",
       "        text-align: right;\n",
       "    }\n",
       "</style>\n",
       "<table border=\"1\" class=\"dataframe\">\n",
       "  <thead>\n",
       "    <tr style=\"text-align: right;\">\n",
       "      <th></th>\n",
       "      <th>X</th>\n",
       "      <th>Y</th>\n",
       "    </tr>\n",
       "  </thead>\n",
       "  <tbody>\n",
       "    <tr>\n",
       "      <th>0</th>\n",
       "      <td>-0.895251</td>\n",
       "      <td>-0.234924</td>\n",
       "    </tr>\n",
       "    <tr>\n",
       "      <th>1</th>\n",
       "      <td>-1.562454</td>\n",
       "      <td>-0.885176</td>\n",
       "    </tr>\n",
       "    <tr>\n",
       "      <th>2</th>\n",
       "      <td>-0.417090</td>\n",
       "      <td>0.271888</td>\n",
       "    </tr>\n",
       "    <tr>\n",
       "      <th>3</th>\n",
       "      <td>1.044356</td>\n",
       "      <td>-0.734198</td>\n",
       "    </tr>\n",
       "    <tr>\n",
       "      <th>4</th>\n",
       "      <td>-0.315568</td>\n",
       "      <td>0.841983</td>\n",
       "    </tr>\n",
       "  </tbody>\n",
       "</table>\n",
       "</div>"
      ],
      "text/plain": [
       "          X         Y\n",
       "0 -0.895251 -0.234924\n",
       "1 -1.562454 -0.885176\n",
       "2 -0.417090  0.271888\n",
       "3  1.044356 -0.734198\n",
       "4 -0.315568  0.841983"
      ]
     },
     "execution_count": 18,
     "metadata": {},
     "output_type": "execute_result"
    }
   ],
   "source": [
    "Portfolio = pd.read_csv('Data/Portfolio.csv')\n",
    "Portfolio.head()"
   ]
  },
  {
   "cell_type": "markdown",
   "metadata": {},
   "source": [
    "Illustrating the use of the bootstrap on this data, we must first create a function **alpha(X, Y, Index )** which takes as input the $(X, Y )$ data as well as a vector indicating which observations should be used to estimate $\\alpha$. The function then outputs the estimate for $\\alpha$ based on the selected observations. This function is defined as\n",
    "\n",
    "$$\\alpha(X, Y)=\\frac{var(Y)-cov(X,Y)}{var(X)+var(Y)-2cov(X,Y))}$$"
   ]
  },
  {
   "cell_type": "code",
   "execution_count": 19,
   "metadata": {},
   "outputs": [],
   "source": [
    "def alpha(x,y, Index):\n",
    "    X=x[Index]\n",
    "    Y=y[Index]\n",
    "    return ((np.var(Y)-np.cov(X,Y)[0,1])/(np.var(X)+np.var(Y)-2*np.cov(X,Y)[0,1]))"
   ]
  },
  {
   "cell_type": "markdown",
   "metadata": {},
   "source": [
    "Now,"
   ]
  },
  {
   "cell_type": "code",
   "execution_count": 20,
   "metadata": {
    "scrolled": true
   },
   "outputs": [
    {
     "name": "stdout",
     "output_type": "stream",
     "text": [
      "alpha(X,Y,Index)= 0.576651\n"
     ]
    }
   ],
   "source": [
    "Index=np.arange(0,100)\n",
    "print('alpha(X,Y,Index)= %f' % alpha(Portfolio.X.values,Portfolio.Y.values, Index))"
   ]
  },
  {
   "cell_type": "markdown",
   "metadata": {},
   "source": [
    "The next command uses the **sample()** function to randomly select 100 observations from the range 1 to 100, with replacement. This is equivalent to constructing a new bootstrap data set and recomputing $\\hat{\\alpha}$ based on the new data set."
   ]
  },
  {
   "cell_type": "code",
   "execution_count": 21,
   "metadata": {},
   "outputs": [
    {
     "data": {
      "text/html": [
       "<div>\n",
       "<style scoped>\n",
       "    .dataframe tbody tr th:only-of-type {\n",
       "        vertical-align: middle;\n",
       "    }\n",
       "\n",
       "    .dataframe tbody tr th {\n",
       "        vertical-align: top;\n",
       "    }\n",
       "\n",
       "    .dataframe thead th {\n",
       "        text-align: right;\n",
       "    }\n",
       "</style>\n",
       "<table border=\"1\" class=\"dataframe\">\n",
       "  <thead>\n",
       "    <tr style=\"text-align: right;\">\n",
       "      <th></th>\n",
       "      <th>X</th>\n",
       "      <th>Y</th>\n",
       "    </tr>\n",
       "  </thead>\n",
       "  <tbody>\n",
       "    <tr>\n",
       "      <th>21</th>\n",
       "      <td>-0.904352</td>\n",
       "      <td>-0.568305</td>\n",
       "    </tr>\n",
       "    <tr>\n",
       "      <th>63</th>\n",
       "      <td>-1.012708</td>\n",
       "      <td>-0.924769</td>\n",
       "    </tr>\n",
       "    <tr>\n",
       "      <th>45</th>\n",
       "      <td>-0.282870</td>\n",
       "      <td>-1.038469</td>\n",
       "    </tr>\n",
       "    <tr>\n",
       "      <th>1</th>\n",
       "      <td>-1.562454</td>\n",
       "      <td>-0.885176</td>\n",
       "    </tr>\n",
       "    <tr>\n",
       "      <th>81</th>\n",
       "      <td>-1.071903</td>\n",
       "      <td>-1.247298</td>\n",
       "    </tr>\n",
       "  </tbody>\n",
       "</table>\n",
       "</div>"
      ],
      "text/plain": [
       "           X         Y\n",
       "21 -0.904352 -0.568305\n",
       "63 -1.012708 -0.924769\n",
       "45 -0.282870 -1.038469\n",
       "1  -1.562454 -0.885176\n",
       "81 -1.071903 -1.247298"
      ]
     },
     "execution_count": 21,
     "metadata": {},
     "output_type": "execute_result"
    }
   ],
   "source": [
    "Portfolio_Sample = Portfolio.sample(frac=1, replace=True)\n",
    "Portfolio_Sample.head()"
   ]
  },
  {
   "cell_type": "code",
   "execution_count": 22,
   "metadata": {},
   "outputs": [
    {
     "name": "stdout",
     "output_type": "stream",
     "text": [
      "alpha(X,Y,Index)= 0.798733\n"
     ]
    }
   ],
   "source": [
    "Index=np.arange(0,100)\n",
    "print('alpha(X,Y,Index)= %f' % alpha(Portfolio_Sample.X.values,Portfolio_Sample.Y.values, Index))"
   ]
  },
  {
   "cell_type": "markdown",
   "metadata": {},
   "source": [
    "We can implement a [bootstrap](https://docs.astropy.org/en/stable/api/astropy.stats.bootstrap.html) analysis."
   ]
  },
  {
   "cell_type": "code",
   "execution_count": 23,
   "metadata": {},
   "outputs": [],
   "source": [
    "with NumpyRNGContext(1):\n",
    "    bootresult = bootstrap(np.asarray(Portfolio), bootnum=1000)"
   ]
  }
 ],
 "metadata": {
  "kernelspec": {
   "display_name": "Python 3",
   "language": "python",
   "name": "python3"
  },
  "language_info": {
   "codemirror_mode": {
    "name": "ipython",
    "version": 3
   },
   "file_extension": ".py",
   "mimetype": "text/x-python",
   "name": "python",
   "nbconvert_exporter": "python",
   "pygments_lexer": "ipython3",
   "version": "3.7.5"
  }
 },
 "nbformat": 4,
 "nbformat_minor": 1
}
