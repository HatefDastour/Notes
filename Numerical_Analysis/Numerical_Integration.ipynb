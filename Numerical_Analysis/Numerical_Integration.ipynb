{
 "cells": [
  {
   "cell_type": "code",
   "execution_count": 1,
   "metadata": {},
   "outputs": [],
   "source": [
    "import numpy as np\n",
    "from scipy.special.orthogonal import p_roots\n",
    "\n",
    "# Visualisation libraries\n",
    "\n",
    "## matplotlib\n",
    "import matplotlib.pyplot as plt\n",
    "from matplotlib.patches import Ellipse, Polygon\n",
    "plt.style.use('seaborn-white')\n",
    "%matplotlib inline\n",
    "\n",
    "import warnings\n",
    "warnings.filterwarnings(\"ignore\")"
   ]
  },
  {
   "cell_type": "markdown",
   "metadata": {},
   "source": [
    "# Numerical Integration\n",
    "\n",
    "* [Trapezoidal rule](#Trapezoidal-rule)\n",
    "* [Simpson's rule](#Simpson's-rule)\n",
    "* [Midpoint Rule](#Midpoint-Rule)"
   ]
  },
  {
   "cell_type": "markdown",
   "metadata": {},
   "source": [
    "##  Trapezoidal rule\n",
    "\n",
    "Let $\\{x_{n}\\}$ be a partition of $[a,b]$ such that $a=x_{0}<x_{1}<\\cdots <x_{N-1}<x_{N}=b$ and $\\Delta x_{n}$ be the length of the $k$-th subinterval (that is,$\\Delta x_{n}=x_{n}-x_{n-1}$), then\n",
    "\n",
    "$$\\int _{a}^{b}f(x)\\,dx\\approx \\sum _{n=1}^{N}{\\frac {f(x_{n-1})+f(x_{n})}{2}}\\Delta x_{k}.$$"
   ]
  },
  {
   "cell_type": "code",
   "execution_count": 2,
   "metadata": {},
   "outputs": [],
   "source": [
    "def trapz(f,a,b,N):\n",
    "    # f : single variable function f\n",
    "    # a , b : Interval of integration [a,b]\n",
    "    # N : Number of subintervals of [a,b]\n",
    "     \n",
    "    # discretizing [a,b] into N subintervals\n",
    "    x = np.linspace(a,b,N+1)\n",
    "    # discretizing function f on [a,b]\n",
    "    fn = f(x)\n",
    "     # fn[1:]: Right endpoints\n",
    "     # fn[:-1]: Left endpoints\n",
    "    # the increment \\delta x\n",
    "    dx = (b - a)/N\n",
    "    ### Trapezoidal rule\n",
    "    T = (dx/2) * np.sum(fn[1:] + fn[:-1])\n",
    "    return T"
   ]
  },
  {
   "cell_type": "markdown",
   "metadata": {},
   "source": [
    "**Example**: Apply the Trapezoid Rule on\n",
    "$$\\int_{0}^{\\pi/4} \\cos^2(x)\\, dx$$\n",
    "\n",
    "\n",
    "First, let's plot the trapezoids for $f(x)=\\cos^2(x)$ with $N=10$:"
   ]
  },
  {
   "cell_type": "code",
   "execution_count": 3,
   "metadata": {},
   "outputs": [
    {
     "data": {
      "image/png": "[encoded data removed]",
      "text/plain": [
       "<Figure size 576x432 with 1 Axes>"
      ]
     },
     "metadata": {
      "needs_background": "light"
     },
     "output_type": "display_data"
    }
   ],
   "source": [
    "f = lambda x : np.cos(x)**2\n",
    "a = 0; b = np.pi/4; n = 10\n",
    "N = 10\n",
    "\n",
    "x = np.linspace(a,b,N+1)\n",
    "y = f(x)\n",
    "\n",
    "X = np.linspace(a,b,n*N+1)\n",
    "Y = f(X)\n",
    "\n",
    "fig, ax = plt.subplots(nrows=1, ncols=1, figsize=(8, 6), sharex = False)\n",
    "_ = ax.plot(X,Y)\n",
    "for i in range(N):\n",
    "    xs = [x[i],x[i],x[i+1],x[i+1]]\n",
    "    ys = [0,f(x[i]),f(x[i+1]),0]\n",
    "    ax.fill(xs,ys,'Tomato',edgecolor='Blue',alpha=0.3)\n",
    "\n",
    "_ = ax.set_title('Trapezoid Rule, N = {}'.format(N))\n",
    "_ = ax.set_xlim([min(x),max(x)])\n",
    "_ = ax.set_ylim([0,max(y)])"
   ]
  },
  {
   "cell_type": "markdown",
   "metadata": {},
   "source": [
    "Next, let's try"
   ]
  },
  {
   "cell_type": "code",
   "execution_count": 4,
   "metadata": {},
   "outputs": [
    {
     "name": "stdout",
     "output_type": "stream",
     "text": [
      "Intergral using the Trapezoidal rule = 0.64218483\n"
     ]
    }
   ],
   "source": [
    "Int_trapz=trapz(f,a,b,N)\n",
    "print('Intergral using the Trapezoidal rule = %.8f' % Int_trapz)"
   ]
  },
  {
   "cell_type": "markdown",
   "metadata": {},
   "source": [
    "##  Simpson's rule\n",
    "\n",
    "Let $\\{x_{n}\\}$ be a partition of $[a,b]$ such that $a=x_{0}<x_{1}<\\cdots <x_{N-1}<x_{N}=b$ and $\\Delta x_{n}$ be the length of the $k$-th subinterval (that is,$\\Delta x_{n}=x_{n}-x_{n-1}$), then\n",
    "\n",
    "$$ \\int _{a}^{b}f(x)\\,dx\\approx {\\dfrac {\\Delta x}{3}}\\left(f(x_{0})+4f(x_{1})+2f(x_{2})+4f(x_{3})+2f(x_{4})+\\cdots +4f(x_{n-1})+f(x_{n})\\right).$$"
   ]
  },
  {
   "cell_type": "code",
   "execution_count": 5,
   "metadata": {},
   "outputs": [],
   "source": [
    "def simps(f,a,b,N):\n",
    "    # f : single variable function f\n",
    "    # a , b : Interval of integration [a,b]\n",
    "    # N : Number of subintervals of [a,b]\n",
    "     \n",
    "    # discretizing [a,b] into N subintervals\n",
    "    # N must be an even integer\n",
    "    \n",
    "    if N % 2 == 1:\n",
    "        raise ValueError(\"N is not an even integer.\")\n",
    "    # the increment \\delta x\n",
    "    dx = (b-a)/N\n",
    "    # discretizing [a,b] into N subintervals\n",
    "    x = np.linspace(a,b,N+1)\n",
    "    \n",
    "    fn = f(x)\n",
    "    S = dx/3 * np.sum(fn[0:-1:2] + 4*fn[1::2] + fn[2::2])\n",
    "    return S"
   ]
  },
  {
   "cell_type": "markdown",
   "metadata": {},
   "source": [
    "**Example**: Apply the Simpson Rule on\n",
    "$$\\int_{0}^{1} \\exp(-x)\\, dx$$\n",
    "\n",
    "\n",
    "First, let's plot the trapezoids for $f(x)=\\exp(x)$ with $N=10$:"
   ]
  },
  {
   "cell_type": "code",
   "execution_count": 6,
   "metadata": {},
   "outputs": [
    {
     "data": {
      "image/png": "[encoded data removed]",
      "text/plain": [
       "<Figure size 576x432 with 1 Axes>"
      ]
     },
     "metadata": {
      "needs_background": "light"
     },
     "output_type": "display_data"
    }
   ],
   "source": [
    "f = lambda x : np.exp(x)\n",
    "a = 0; b = 1; n = 10\n",
    "N = 10\n",
    "\n",
    "x = np.linspace(a,b,N+1)\n",
    "y = f(x)\n",
    "\n",
    "X = np.linspace(a,b,n*N+1)\n",
    "Y = f(X)\n",
    "\n",
    "fig, ax = plt.subplots(nrows=1, ncols=1, figsize=(8, 6), sharex = False)\n",
    "_ = ax.plot(X,Y)\n",
    "\n",
    "for i in range(N):\n",
    "    xs = [x[i],x[i],x[i+1],x[i+1]]\n",
    "    ys = [0,f(x[i]),f(x[i+1]),0]\n",
    "    ax.fill(xs,ys,'LightGreen',edgecolor='Blue',alpha=0.3)\n",
    "\n",
    "_ = ax.set_title('Simpson Rule, N = {}'.format(N))\n",
    "_ = ax.set_xlim([min(x),max(x)])\n",
    "_ = ax.set_ylim([0,max(y)])"
   ]
  },
  {
   "cell_type": "markdown",
   "metadata": {},
   "source": [
    "Next, let's try"
   ]
  },
  {
   "cell_type": "code",
   "execution_count": 7,
   "metadata": {},
   "outputs": [
    {
     "name": "stdout",
     "output_type": "stream",
     "text": [
      "Intergral using the Simpson's rule = 1.71828278\n"
     ]
    }
   ],
   "source": [
    "Int_simps=simps(f,a,b,N)\n",
    "print(\"\"\"Intergral using the Simpson's rule = %.8f\"\"\" % Int_simps)"
   ]
  },
  {
   "cell_type": "markdown",
   "metadata": {},
   "source": [
    "## Midpoint Rule\n",
    "\n",
    "Let $\\{x_{n}\\}$ be a partition of $[a,b]$ such that $a=x_{0}<x_{1}<\\cdots <x_{N-1}<x_{N}=b$ and $\\Delta x_{n}$ be the length of the $k$-th subinterval (that is,$\\Delta x_{n}=x_{n}-x_{n-1}$), then\n",
    "\n",
    "$$\\int_{{\\,a}}^{{\\,b}}{{f\\left( x \\right)\\,dx}} \\approx \\Delta x\\,f\\left( {x_1^*} \\right) + \\Delta x\\,f\\left( {x_2^*} \\right) +  \\cdots  + \\Delta x\\,f\\left( {x_n^*} \\right),$$\n",
    "\n",
    "where $x_{i}^{*}$ are the midpoint of the intervals. "
   ]
  },
  {
   "cell_type": "code",
   "execution_count": 8,
   "metadata": {},
   "outputs": [],
   "source": [
    "def Midpoint(f,a,b,N):\n",
    "    # f : single variable function f\n",
    "    # a , b : Interval of integration [a,b]\n",
    "    # N : Number of subintervals of [a,b]\n",
    "     \n",
    "    # discretizing [a,b] into N subintervals\n",
    "    x = np.linspace(0,1,N+1)\n",
    "    # midpoints\n",
    "    xs=(x[1:N]+x[2:N+1])/2\n",
    "    # discretizing function f on [a,b]\n",
    "    fn = f(xs)\n",
    "    # the increment \\delta x\n",
    "    dx = (b - a)/N\n",
    "    ### Trapezoidal rule\n",
    "    M = dx * np.sum(fn)\n",
    "    return M"
   ]
  },
  {
   "cell_type": "markdown",
   "metadata": {},
   "source": [
    "**Example**: Apply the Midpoint Rule on\n",
    "$$\\int_{0}^{1} x^2\\, dx$$\n",
    "\n",
    "\n",
    "First, let's plot the trapezoids for $f(x)=x^2$ with $N=10$:"
   ]
  },
  {
   "cell_type": "code",
   "execution_count": 9,
   "metadata": {},
   "outputs": [
    {
     "data": {
      "image/png": "[encoded data removed]",
      "text/plain": [
       "<Figure size 576x432 with 1 Axes>"
      ]
     },
     "metadata": {
      "needs_background": "light"
     },
     "output_type": "display_data"
    }
   ],
   "source": [
    "f = lambda x : x**2\n",
    "a = 0; b = 1; n = 10\n",
    "N = 10\n",
    "\n",
    "x = np.linspace(a,b,N+1)\n",
    "y = f(x)\n",
    "\n",
    "X = np.linspace(a,b,n*N+1)\n",
    "Y = f(X)\n",
    "\n",
    "fig, ax = plt.subplots(nrows=1, ncols=1, figsize=(8, 6), sharex = False)\n",
    "_ = ax.plot(X,Y)\n",
    "\n",
    "# midpoints\n",
    "xmid=(x[0:N]+x[1:N+1])/2\n",
    "\n",
    "for i in range(N):\n",
    "    xs = [x[i],x[i],x[i+1],x[i+1]]\n",
    "    ys = [0,f(x[i]),f(x[i+1]),0]\n",
    "    plt.fill(xs,ys,'Orchid',edgecolor='Blue',alpha=0.3)\n",
    "    \n",
    "_ = ax.scatter(xmid,np.zeros(len(xmid)))\n",
    "\n",
    "_ = ax.set_title('Midpoint Rule, N = {}'.format(N))\n",
    "_ = ax.set_xlim([min(x),max(x)])\n",
    "_ = ax.set_ylim([-0.02,max(y)])"
   ]
  },
  {
   "cell_type": "markdown",
   "metadata": {},
   "source": [
    "Next, let's try"
   ]
  },
  {
   "cell_type": "code",
   "execution_count": 10,
   "metadata": {},
   "outputs": [
    {
     "name": "stdout",
     "output_type": "stream",
     "text": [
      "Intergral using the Midpoint Rule = 0.33225000\n"
     ]
    }
   ],
   "source": [
    "Int_Midpoint=Midpoint(f,a,b,N)\n",
    "\n",
    "print(\"\"\"Intergral using the Midpoint Rule = %.8f\"\"\" % Int_Midpoint)"
   ]
  },
  {
   "cell_type": "markdown",
   "metadata": {},
   "source": [
    "## The n-point Gauss integration rule\n",
    "\n",
    "Gaussian quadrature rule:\n",
    "\n",
    "$$\\int _{a}^{b}f(x)\\,dx\\approx {\\frac {b-a}{2}}\\sum _{i=1}^{n}w_{i}f\\left({\\frac {b-a}{2}}x_{i}+{\\frac {a+b}{2}}\\right).$$"
   ]
  },
  {
   "cell_type": "code",
   "execution_count": 11,
   "metadata": {},
   "outputs": [],
   "source": [
    "def gauss(f,a,b,n):\n",
    "    # f : single variable function f\n",
    "    # a , b : Interval of integration [a,b]\n",
    "    # n : n-point Gauss integration rule\n",
    "\n",
    "    [x,w] = p_roots(n+1)\n",
    "    G=0.5*(b-a)*sum(w*f(0.5*(b-a)*x+0.5*(b+a)))\n",
    "    return G"
   ]
  },
  {
   "cell_type": "markdown",
   "metadata": {},
   "source": [
    "**Example**: Let's consider the previous example one more time\n",
    "$$\\int_{0}^{1} x^2\\, dx$$\n",
    "Then"
   ]
  },
  {
   "cell_type": "code",
   "execution_count": 12,
   "metadata": {},
   "outputs": [
    {
     "name": "stdout",
     "output_type": "stream",
     "text": [
      "Intergral using the n-point Gauss integration rule = 0.33333333\n"
     ]
    }
   ],
   "source": [
    "f = lambda x : x**2\n",
    "a = 0; b = 1; n = 10\n",
    "print(\"\"\"Intergral using the n-point Gauss integration rule = %.8f\"\"\" % gauss(f,a,b,n))"
   ]
  },
  {
   "cell_type": "markdown",
   "metadata": {},
   "source": [
    "***\n",
    "# References\n",
    "1. [Numerical integration Wikipedia page](https://en.wikipedia.org/wiki/Numerical_integration)\n",
    "***"
   ]
  }
 ],
 "metadata": {
  "kernelspec": {
   "display_name": "Python 3",
   "language": "python",
   "name": "python3"
  },
  "language_info": {
   "codemirror_mode": {
    "name": "ipython",
    "version": 3
   },
   "file_extension": ".py",
   "mimetype": "text/x-python",
   "name": "python",
   "nbconvert_exporter": "python",
   "pygments_lexer": "ipython3",
   "version": "3.8.5"
  }
 },
 "nbformat": 4,
 "nbformat_minor": 2
}
