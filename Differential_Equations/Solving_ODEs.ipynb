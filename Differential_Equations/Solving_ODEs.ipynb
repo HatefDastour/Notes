{
 "cells": [
  {
   "cell_type": "code",
   "execution_count": 1,
   "metadata": {},
   "outputs": [],
   "source": [
    "# display\n",
    "from sympy import *\n",
    "from colorama import Fore, Back, Style\n",
    "init_printing(use_unicode=True)\n",
    "#\n",
    "from sympy import Function, dsolve, Eq, Derivative, sin, cos, symbols\n",
    "from sympy.solvers.deutils import ode_order\n",
    "from sympy.abc import x\n",
    "x, y, z, c, a = symbols('x y z c a')\n",
    "y = Function('y')"
   ]
  },
  {
   "cell_type": "markdown",
   "metadata": {},
   "source": [
    "In this article, we use [sympy](https://docs.sympy.org/latest/modules/solvers/solvers.html) for solving ordinary differential equations (ODE)."
   ]
  },
  {
   "cell_type": "markdown",
   "metadata": {},
   "source": [
    "<div class=\"alert alert-block alert-info\">\n",
    "<font size=\"+3\"><b>The Order of an ODE:</b></font>\n",
    "</div>"
   ]
  },
  {
   "cell_type": "markdown",
   "metadata": {},
   "source": [
    "**The order of an ODE**: the number of the highest derivative"
   ]
  },
  {
   "cell_type": "markdown",
   "metadata": {},
   "source": [
    "```sympy.solvers.deutils.ode_order(expr, func)```\n",
    "\n",
    "Returns the order of a given differential equation with respect to func ([source](https://docs.sympy.org/latest/modules/solvers/solvers.html#ordinary-differential-equations-odes))."
   ]
  },
  {
   "cell_type": "markdown",
   "metadata": {},
   "source": [
    "Find the order of the equation.\n",
    "* (a) $\\dfrac{d^2y}{dx^2}+2\\dfrac{dy}{dx}\\,\\dfrac{d^3y}{dx^3}+x=0$\n",
    "* (b) $y''-3y'+2y=x^7$\n",
    "* (c) $y'-y^7=0$\n",
    "* (d) $y''y-(y')^2=2$"
   ]
  },
  {
   "cell_type": "code",
   "execution_count": 2,
   "metadata": {},
   "outputs": [
    {
     "name": "stdout",
     "output_type": "stream",
     "text": [
      "\u001b[46m\"%s\": a\n",
      "\u001b[0m\n",
      "The order of the ODE = 3\n"
     ]
    }
   ],
   "source": [
    "# (a)\n",
    "print(Back.CYAN +'\"%s\": a')\n",
    "print(Style.RESET_ALL)\n",
    "print('The order of the ODE = %i' % ode_order(Derivative(y(x), x, x)+Derivative(y(x), x)*Derivative(y(x), x, x,x)+x, y(x)))"
   ]
  },
  {
   "cell_type": "code",
   "execution_count": 3,
   "metadata": {},
   "outputs": [
    {
     "name": "stdout",
     "output_type": "stream",
     "text": [
      "\u001b[46m\"%s\": b\n",
      "\u001b[0m\n",
      "The order of the ODE = 2\n"
     ]
    }
   ],
   "source": [
    "# (b)\n",
    "print(Back.CYAN +'\"%s\": b')\n",
    "print(Style.RESET_ALL)\n",
    "print('The order of the ODE = %i' % ode_order(Derivative(y(x), x, x)-3*Derivative(y(x), x)+2*y(x)-x**7, y(x)))"
   ]
  },
  {
   "cell_type": "code",
   "execution_count": 4,
   "metadata": {},
   "outputs": [
    {
     "name": "stdout",
     "output_type": "stream",
     "text": [
      "\u001b[46m\"%s\": c\n",
      "\u001b[0m\n",
      "The order of the ODE = 1\n"
     ]
    }
   ],
   "source": [
    "# (c)\n",
    "print(Back.CYAN +'\"%s\": c')\n",
    "print(Style.RESET_ALL)\n",
    "print('The order of the ODE = %i' % ode_order(Derivative(y(x), x)-y(x)**7, y(x)))"
   ]
  },
  {
   "cell_type": "code",
   "execution_count": 5,
   "metadata": {},
   "outputs": [
    {
     "name": "stdout",
     "output_type": "stream",
     "text": [
      "\u001b[46m\"%s\": d\n",
      "\u001b[0m\n",
      "The order of the ODE = 2\n"
     ]
    }
   ],
   "source": [
    "# (d)\n",
    "print(Back.CYAN +'\"%s\": d')\n",
    "print(Style.RESET_ALL)\n",
    "print('The order of the ODE = %i' % ode_order(Derivative(y(x), x, x)*y(x)-Derivative(y(x), x)**2-2, y(x)))"
   ]
  },
  {
   "cell_type": "markdown",
   "metadata": {},
   "source": [
    "<div class=\"alert alert-block alert-info\">\n",
    "<font size=\"+3\"><b>Finding Arbitrary Constants</b></font>\n",
    "</div>"
   ]
  },
  {
   "cell_type": "markdown",
   "metadata": {},
   "source": [
    "Verify that the  function is a solution of the differential equation on some interval, for any choice of the arbitrary constants appearing in the function.\n",
    "\n",
    "* (a) $y=ce^{2x};     \\quad y'=2y$\n",
    "\n",
    "* (b) $y=\\dfrac{x^2}{3}+\\dfrac{c}{x};   \\quad xy'+y=x^2$"
   ]
  },
  {
   "cell_type": "code",
   "execution_count": 6,
   "metadata": {},
   "outputs": [
    {
     "name": "stdout",
     "output_type": "stream",
     "text": [
      "\u001b[46m\"%s\": a\n",
      "\u001b[0m\n",
      "c = 0\n"
     ]
    }
   ],
   "source": [
    "# (a)\n",
    "print(Back.CYAN +'\"%s\": a')\n",
    "print(Style.RESET_ALL)\n",
    "Y= c*exp(2*x)\n",
    "print('c = %i' % expand(diff(Y,x)-2*Y))"
   ]
  },
  {
   "cell_type": "code",
   "execution_count": 7,
   "metadata": {},
   "outputs": [
    {
     "name": "stdout",
     "output_type": "stream",
     "text": [
      "\u001b[46m\"%s\": b\n",
      "\u001b[0m\n",
      "c = 0\n"
     ]
    }
   ],
   "source": [
    "# (b)\n",
    "print(Back.CYAN +'\"%s\": b')\n",
    "print(Style.RESET_ALL)\n",
    "Y= (x**2)/3+(c/x)\n",
    "print('c = %i' % expand(x*diff(Y,x)+Y-x**2))"
   ]
  },
  {
   "cell_type": "markdown",
   "metadata": {},
   "source": [
    "<div class=\"alert alert-block alert-info\">\n",
    "<font size=\"+3\"><b>Fiding General Solution of an ODE</b></font>"
   ]
  },
  {
   "cell_type": "markdown",
   "metadata": {},
   "source": [
    "```sympy.solvers.ode.dsolve(eq, func=None, hint='default', simplify=True, ics=None, xi=None, eta=None, x0=0, n=6, **kwargs)```\n",
    "\n",
    "Solves any (supported) kind of ordinary differential equation and system of ordinary differential equations ([source](https://docs.sympy.org/latest/modules/solvers/ode.html?highlight=dsolve))."
   ]
  },
  {
   "cell_type": "markdown",
   "metadata": {},
   "source": [
    "Find all solutions of the equation.\n",
    "\n",
    "* (a) $y'=-x$\n",
    "* (b) $y'=-x \\sin x$\n",
    "* (c) $y''=2xe^x$"
   ]
  },
  {
   "cell_type": "code",
   "execution_count": 8,
   "metadata": {
    "scrolled": true
   },
   "outputs": [
    {
     "name": "stdout",
     "output_type": "stream",
     "text": [
      "\u001b[46m\"%s\": a\n",
      "\u001b[0m\n"
     ]
    },
    {
     "data": {
      "image/png": "[encoded data removed]",
      "text/latex": [
       "$\\displaystyle y{\\left(x \\right)} = C_{1} - \\frac{x^{2}}{2}$"
      ],
      "text/plain": [
       "             2\n",
       "            x \n",
       "y(x) = C₁ - ──\n",
       "            2 "
      ]
     },
     "execution_count": 8,
     "metadata": {},
     "output_type": "execute_result"
    }
   ],
   "source": [
    "# (a)\n",
    "print(Back.CYAN +'\"%s\": a')\n",
    "print(Style.RESET_ALL)\n",
    "dsolve(Derivative(y(x)) +x, y(x))"
   ]
  },
  {
   "cell_type": "code",
   "execution_count": 9,
   "metadata": {},
   "outputs": [
    {
     "name": "stdout",
     "output_type": "stream",
     "text": [
      "\u001b[46m\"%s\": b\n",
      "\u001b[0m\n"
     ]
    },
    {
     "data": {
      "image/png": "[encoded data removed]",
      "text/latex": [
       "$\\displaystyle y{\\left(x \\right)} = C_{1} + x \\cos{\\left(x \\right)} - \\sin{\\left(x \\right)}$"
      ],
      "text/plain": [
       "y(x) = C₁ + x⋅cos(x) - sin(x)"
      ]
     },
     "execution_count": 9,
     "metadata": {},
     "output_type": "execute_result"
    }
   ],
   "source": [
    "# (b)\n",
    "print(Back.CYAN +'\"%s\": b')\n",
    "print(Style.RESET_ALL)\n",
    "dsolve(Derivative(y(x)) +x*sin(x), y(x))"
   ]
  },
  {
   "cell_type": "code",
   "execution_count": 10,
   "metadata": {
    "scrolled": false
   },
   "outputs": [
    {
     "name": "stdout",
     "output_type": "stream",
     "text": [
      "\u001b[46m\"%s\": c\n",
      "\u001b[0m\n"
     ]
    },
    {
     "data": {
      "image/png": "[encoded data removed]",
      "text/latex": [
       "$\\displaystyle y{\\left(x \\right)} = C_{1} + C_{2} x + 2 \\left(x - 2\\right) e^{x}$"
      ],
      "text/plain": [
       "                              x\n",
       "y(x) = C₁ + C₂⋅x + 2⋅(x - 2)⋅ℯ "
      ]
     },
     "execution_count": 10,
     "metadata": {},
     "output_type": "execute_result"
    }
   ],
   "source": [
    "# (c)\n",
    "print(Back.CYAN +'\"%s\": c')\n",
    "print(Style.RESET_ALL)\n",
    "dsolve(Derivative(y(x), x, x) -2*x*exp(x), y(x))"
   ]
  },
  {
   "cell_type": "markdown",
   "metadata": {},
   "source": [
    "Find the general solution\n",
    "* (a) $y'+ay=0$ ($a$=constant),\n",
    "* (b) $xy'+3y=0$,\n",
    "* (c) $y'+2xy=xe^{-x^2}$,\n",
    "* (d) $xy'+(1+2x^2)y=x^3e^{-x^2}$."
   ]
  },
  {
   "cell_type": "code",
   "execution_count": 11,
   "metadata": {},
   "outputs": [
    {
     "name": "stdout",
     "output_type": "stream",
     "text": [
      "\u001b[46m\"%s\": a\n",
      "\u001b[0m\n"
     ]
    },
    {
     "data": {
      "image/png": "[encoded data removed]",
      "text/latex": [
       "$\\displaystyle y{\\left(x \\right)} = C_{1} e^{- a x}$"
      ],
      "text/plain": [
       "           -a⋅x\n",
       "y(x) = C₁⋅ℯ    "
      ]
     },
     "execution_count": 11,
     "metadata": {},
     "output_type": "execute_result"
    }
   ],
   "source": [
    "# (a)\n",
    "print(Back.CYAN +'\"%s\": a')\n",
    "print(Style.RESET_ALL)\n",
    "dsolve(Derivative(y(x), x)+a*y(x), y(x))"
   ]
  },
  {
   "cell_type": "code",
   "execution_count": 12,
   "metadata": {},
   "outputs": [
    {
     "name": "stdout",
     "output_type": "stream",
     "text": [
      "\u001b[46m\"%s\": b\n",
      "\u001b[0m\n"
     ]
    },
    {
     "data": {
      "image/png": "[encoded data removed]",
      "text/latex": [
       "$\\displaystyle y{\\left(x \\right)} = \\frac{C_{1}}{x^{3}}$"
      ],
      "text/plain": [
       "       C₁\n",
       "y(x) = ──\n",
       "        3\n",
       "       x "
      ]
     },
     "execution_count": 12,
     "metadata": {},
     "output_type": "execute_result"
    }
   ],
   "source": [
    "# (b)\n",
    "print(Back.CYAN +'\"%s\": b')\n",
    "print(Style.RESET_ALL)\n",
    "dsolve(x*Derivative(y(x), x)+3*y(x), y(x))"
   ]
  },
  {
   "cell_type": "code",
   "execution_count": 13,
   "metadata": {},
   "outputs": [
    {
     "name": "stdout",
     "output_type": "stream",
     "text": [
      "\u001b[46m\"%s\": c\n",
      "\u001b[0m\n"
     ]
    },
    {
     "data": {
      "image/png": "[encoded data removed]",
      "text/latex": [
       "$\\displaystyle y{\\left(x \\right)} = \\left(C_{1} + \\frac{x^{2}}{2}\\right) e^{- x^{2}}$"
      ],
      "text/plain": [
       "       ⎛      2⎞    2\n",
       "       ⎜     x ⎟  -x \n",
       "y(x) = ⎜C₁ + ──⎟⋅ℯ   \n",
       "       ⎝     2 ⎠     "
      ]
     },
     "execution_count": 13,
     "metadata": {},
     "output_type": "execute_result"
    }
   ],
   "source": [
    "# (c)\n",
    "print(Back.CYAN +'\"%s\": c')\n",
    "print(Style.RESET_ALL)\n",
    "dsolve(Derivative(y(x), x)+ 2*x*y(x) - x/exp(x**(2)), y(x))"
   ]
  },
  {
   "cell_type": "code",
   "execution_count": 14,
   "metadata": {},
   "outputs": [
    {
     "name": "stdout",
     "output_type": "stream",
     "text": [
      "\u001b[46m\"%s\": d\n",
      "\u001b[0m\n"
     ]
    },
    {
     "data": {
      "image/png": "[encoded data removed]",
      "text/latex": [
       "$\\displaystyle y{\\left(x \\right)} = \\left(\\frac{C_{1}}{x} + \\frac{x^{3}}{4}\\right) e^{- x^{2}}$"
      ],
      "text/plain": [
       "       ⎛      3⎞    2\n",
       "       ⎜C₁   x ⎟  -x \n",
       "y(x) = ⎜── + ──⎟⋅ℯ   \n",
       "       ⎝x    4 ⎠     "
      ]
     },
     "execution_count": 14,
     "metadata": {},
     "output_type": "execute_result"
    }
   ],
   "source": [
    "# (d)\n",
    "print(Back.CYAN +'\"%s\": d')\n",
    "print(Style.RESET_ALL)\n",
    "dsolve(x*Derivative(y(x), x)+(1+2*x**2)*y(x)-(x**3)/exp(x**2), y(x))"
   ]
  },
  {
   "cell_type": "markdown",
   "metadata": {},
   "source": [
    "Solve the initial value problem.\n",
    "* (a) $xy'+(1+ x\\cot x)y=0,\\quad y\\left(\\frac{\\pi}{2}\\right)=2$,\n",
    "* (b) $xy'+2y=8x^2,\\quad y(1)=3$,\n",
    "* (c) $y'+\\dfrac{3}{x}y=\\dfrac{\\sin x}{x^2},\\quad y(\\pi/2)=1$."
   ]
  },
  {
   "cell_type": "code",
   "execution_count": 15,
   "metadata": {},
   "outputs": [
    {
     "name": "stdout",
     "output_type": "stream",
     "text": [
      "\u001b[46m\"%s\": a\n",
      "\u001b[0m\n"
     ]
    },
    {
     "data": {
      "image/png": "[encoded data removed]",
      "text/latex": [
       "$\\displaystyle y{\\left(x \\right)} = \\frac{C_{1} \\sqrt{\\frac{1}{\\cos^{2}{\\left(x \\right)}}}}{x \\tan{\\left(x \\right)}}$"
      ],
      "text/plain": [
       "               _________\n",
       "              ╱    1    \n",
       "       C₁⋅   ╱  ─────── \n",
       "            ╱      2    \n",
       "          ╲╱    cos (x) \n",
       "y(x) = ─────────────────\n",
       "            x⋅tan(x)    "
      ]
     },
     "execution_count": 15,
     "metadata": {},
     "output_type": "execute_result"
    }
   ],
   "source": [
    "# (a)\n",
    "print(Back.CYAN +'\"%s\": a')\n",
    "print(Style.RESET_ALL)\n",
    "expand(dsolve(x*Derivative(y(x), x)+(1+x*cot(x))*y(x), y(x)))"
   ]
  },
  {
   "cell_type": "code",
   "execution_count": 16,
   "metadata": {},
   "outputs": [
    {
     "name": "stdout",
     "output_type": "stream",
     "text": [
      "\u001b[46m\"%s\": b\n",
      "\u001b[0m\n"
     ]
    },
    {
     "data": {
      "image/png": "[encoded data removed]",
      "text/latex": [
       "$\\displaystyle y{\\left(x \\right)} = \\frac{C_{1}}{x^{2}} + 2 x^{2}$"
      ],
      "text/plain": [
       "       C₁      2\n",
       "y(x) = ── + 2⋅x \n",
       "        2       \n",
       "       x        "
      ]
     },
     "execution_count": 16,
     "metadata": {},
     "output_type": "execute_result"
    }
   ],
   "source": [
    "# (b)\n",
    "print(Back.CYAN +'\"%s\": b')\n",
    "print(Style.RESET_ALL)\n",
    "dsolve(x*Derivative(y(x), x)+2*y(x)-8*x**2, y(x))"
   ]
  },
  {
   "cell_type": "code",
   "execution_count": 17,
   "metadata": {},
   "outputs": [
    {
     "name": "stdout",
     "output_type": "stream",
     "text": [
      "\u001b[46m\"%s\": c\n",
      "\u001b[0m\n"
     ]
    },
    {
     "data": {
      "image/png": "[encoded data removed]",
      "text/latex": [
       "$\\displaystyle y{\\left(x \\right)} = \\frac{C_{1}}{x^{3}} - \\frac{\\cos{\\left(x \\right)}}{x^{2}} + \\frac{\\sin{\\left(x \\right)}}{x^{3}}$"
      ],
      "text/plain": [
       "       C₁   cos(x)   sin(x)\n",
       "y(x) = ── - ────── + ──────\n",
       "        3      2        3  \n",
       "       x      x        x   "
      ]
     },
     "execution_count": 17,
     "metadata": {},
     "output_type": "execute_result"
    }
   ],
   "source": [
    "# (c)\n",
    "print(Back.CYAN +'\"%s\": c')\n",
    "print(Style.RESET_ALL)\n",
    "expand(dsolve(Derivative(y(x), x)+3*y(x)/x-sin(x)/(x**2), y(x)))"
   ]
  },
  {
   "cell_type": "markdown",
   "metadata": {},
   "source": [
    "Find the general solution\n",
    "* (a) $(\\sec^2y)y'- 3\\tan y=-1$,\n",
    "* (b) $\\dfrac{y'}{(1+y)^2}-\\dfrac{1}{x(1+y)}=\\dfrac{-3}{x^2}$."
   ]
  },
  {
   "cell_type": "code",
   "execution_count": 18,
   "metadata": {},
   "outputs": [
    {
     "name": "stdout",
     "output_type": "stream",
     "text": [
      "\u001b[46m\"%s\": a\n",
      "\u001b[0m\n"
     ]
    },
    {
     "data": {
      "image/png": "[encoded data removed]",
      "text/latex": [
       "$\\displaystyle y{\\left(x \\right)} = - \\operatorname{atan}{\\left(\\frac{C_{1} e^{3 x}}{3} - \\frac{1}{3} \\right)}$"
      ],
      "text/plain": [
       "            ⎛    3⋅x    ⎞\n",
       "            ⎜C₁⋅ℯ      1⎟\n",
       "y(x) = -atan⎜─────── - ─⎟\n",
       "            ⎝   3      3⎠"
      ]
     },
     "execution_count": 18,
     "metadata": {},
     "output_type": "execute_result"
    }
   ],
   "source": [
    "# (a)\n",
    "print(Back.CYAN +'\"%s\": a')\n",
    "print(Style.RESET_ALL)\n",
    "dsolve(((sec(y(x)))**2)*Derivative(y(x), x)-3*tan(y(x))+1, y(x))"
   ]
  },
  {
   "cell_type": "code",
   "execution_count": 19,
   "metadata": {},
   "outputs": [
    {
     "name": "stdout",
     "output_type": "stream",
     "text": [
      "\u001b[46m\"%s\": b\n",
      "\u001b[0m\n"
     ]
    },
    {
     "data": {
      "image/png": "[encoded data removed]",
      "text/latex": [
       "$\\displaystyle y{\\left(x \\right)} = \\frac{- C_{1} - x + 3 \\log{\\left(x \\right)}}{C_{1} - 3 \\log{\\left(x \\right)}}$"
      ],
      "text/plain": [
       "       -C₁ - x + 3⋅log(x)\n",
       "y(x) = ──────────────────\n",
       "         C₁ - 3⋅log(x)   "
      ]
     },
     "execution_count": 19,
     "metadata": {},
     "output_type": "execute_result"
    }
   ],
   "source": [
    "# (b)\n",
    "print(Back.CYAN +'\"%s\": b')\n",
    "print(Style.RESET_ALL)\n",
    "dsolve(Derivative(y(x),x)/((1+y(x))**2)-1/(x*(1+y(x)))+3/(x**2), y(x))"
   ]
  },
  {
   "cell_type": "markdown",
   "metadata": {},
   "source": [
    "Find all solutions.\n",
    "* (a) $y'=\\dfrac{3x^2+2x+1}{y-2}$,\n",
    "* (b) $(\\sin x)(\\sin y)+(\\cos y)y'=0$,\n",
    "* (c) $xy'+y^2+y=0$."
   ]
  },
  {
   "cell_type": "code",
   "execution_count": 20,
   "metadata": {},
   "outputs": [
    {
     "name": "stdout",
     "output_type": "stream",
     "text": [
      "\u001b[46m\"%s\": a\n",
      "\u001b[0m\n"
     ]
    },
    {
     "data": {
      "image/png": "[encoded data removed]",
      "text/latex": [
       "$\\displaystyle \\left[ y{\\left(x \\right)} = - \\sqrt{2} \\sqrt{C_{1} + x^{3} + x^{2} + x} + 2, \\  y{\\left(x \\right)} = \\sqrt{2} \\sqrt{C_{1} + x^{3} + x^{2} + x} + 2\\right]$"
      ],
      "text/plain": [
       "⎡               __________________                   __________________    ⎤\n",
       "⎢              ╱       3    2                       ╱       3    2         ⎥\n",
       "⎣y(x) = - √2⋅╲╱  C₁ + x  + x  + x  + 2, y(x) = √2⋅╲╱  C₁ + x  + x  + x  + 2⎦"
      ]
     },
     "execution_count": 20,
     "metadata": {},
     "output_type": "execute_result"
    }
   ],
   "source": [
    "# (a)\n",
    "print(Back.CYAN +'\"%s\": a')\n",
    "print(Style.RESET_ALL)\n",
    "dsolve((y(x)-2)*Derivative(y(x), x)-(3*(x**2)+2*x+1), y(x))"
   ]
  },
  {
   "cell_type": "code",
   "execution_count": 21,
   "metadata": {},
   "outputs": [
    {
     "name": "stdout",
     "output_type": "stream",
     "text": [
      "\u001b[46m\"%s\": b\n",
      "\u001b[0m\n"
     ]
    },
    {
     "data": {
      "image/png": "[encoded data removed]",
      "text/latex": [
       "$\\displaystyle \\left[ y{\\left(x \\right)} = \\pi - \\operatorname{asin}{\\left(C_{1} e^{\\cos{\\left(x \\right)}} \\right)}, \\  y{\\left(x \\right)} = \\operatorname{asin}{\\left(C_{1} e^{\\cos{\\left(x \\right)}} \\right)}\\right]$"
      ],
      "text/plain": [
       "⎡               ⎛    cos(x)⎞             ⎛    cos(x)⎞⎤\n",
       "⎣y(x) = π - asin⎝C₁⋅ℯ      ⎠, y(x) = asin⎝C₁⋅ℯ      ⎠⎦"
      ]
     },
     "execution_count": 21,
     "metadata": {},
     "output_type": "execute_result"
    }
   ],
   "source": [
    "# (b)\n",
    "print(Back.CYAN +'\"%s\": b')\n",
    "print(Style.RESET_ALL)\n",
    "dsolve(sin(x)*sin(y(x))+(cos(y(x)))*Derivative(y(x), x), y(x))"
   ]
  },
  {
   "cell_type": "code",
   "execution_count": 22,
   "metadata": {},
   "outputs": [
    {
     "name": "stdout",
     "output_type": "stream",
     "text": [
      "\u001b[46m\"%s\": c\n",
      "\u001b[0m\n"
     ]
    },
    {
     "data": {
      "image/png": "[encoded data removed]",
      "text/latex": [
       "$\\displaystyle y{\\left(x \\right)} = \\frac{C_{1}}{- C_{1} + x}$"
      ],
      "text/plain": [
       "          C₁  \n",
       "y(x) = ───────\n",
       "       -C₁ + x"
      ]
     },
     "execution_count": 22,
     "metadata": {},
     "output_type": "execute_result"
    }
   ],
   "source": [
    "# (c)\n",
    "print(Back.CYAN +'\"%s\": c')\n",
    "print(Style.RESET_ALL)\n",
    "dsolve(x*Derivative(y(x), x)+(y(x))**2+y(x), y(x))"
   ]
  },
  {
   "cell_type": "markdown",
   "metadata": {},
   "source": [
    "<div class=\"alert alert-block alert-info\">\n",
    "<font size=\"+3\"><b>Solving initial value problems (IVP)</b></font>"
   ]
  },
  {
   "cell_type": "markdown",
   "metadata": {},
   "source": [
    "Solve the  initial value problem.\n",
    "* (a) $y'=\\tan x, \\quad y(\\pi/4)=3$\n",
    "* (b) $y''=x^4, \\quad y(2)=-1, \\quad y'(2)=-1$\n",
    "* (c) $y'''=2+\\sin 2x, \\quad y(0)=1, \\quad y'(0)=-6, \\quad y''(0)=3$"
   ]
  },
  {
   "cell_type": "code",
   "execution_count": 23,
   "metadata": {},
   "outputs": [
    {
     "name": "stdout",
     "output_type": "stream",
     "text": [
      "\u001b[46m\"%s\": a\n",
      "\u001b[0m\n"
     ]
    },
    {
     "data": {
      "image/png": "[encoded data removed]",
      "text/latex": [
       "$\\displaystyle y{\\left(x \\right)} = C_{1} - 2 \\log{\\left(\\cos{\\left(x \\right)} \\right)}$"
      ],
      "text/plain": [
       "y(x) = C₁ - 2⋅log(cos(x))"
      ]
     },
     "execution_count": 23,
     "metadata": {},
     "output_type": "execute_result"
    }
   ],
   "source": [
    "# (a)\n",
    "print(Back.CYAN +'\"%s\": a')\n",
    "print(Style.RESET_ALL)\n",
    "dsolve(Derivative(y(x), x) -2*tan(x), y(x))"
   ]
  },
  {
   "cell_type": "code",
   "execution_count": 24,
   "metadata": {},
   "outputs": [
    {
     "name": "stdout",
     "output_type": "stream",
     "text": [
      "\u001b[46m\"%s\": b\n",
      "\u001b[0m\n"
     ]
    },
    {
     "data": {
      "image/png": "[encoded data removed]",
      "text/latex": [
       "$\\displaystyle y{\\left(x \\right)} = C_{1} + C_{2} x + \\frac{x^{6}}{30}$"
      ],
      "text/plain": [
       "                    6\n",
       "                   x \n",
       "y(x) = C₁ + C₂⋅x + ──\n",
       "                   30"
      ]
     },
     "execution_count": 24,
     "metadata": {},
     "output_type": "execute_result"
    }
   ],
   "source": [
    "# (b)\n",
    "print(Back.CYAN +'\"%s\": b')\n",
    "print(Style.RESET_ALL)\n",
    "dsolve(Derivative(y(x), x, x) -x**4, y(x))"
   ]
  },
  {
   "cell_type": "code",
   "execution_count": 25,
   "metadata": {
    "scrolled": true
   },
   "outputs": [
    {
     "name": "stdout",
     "output_type": "stream",
     "text": [
      "\u001b[46m\"%s\": c\n",
      "\u001b[0m\n"
     ]
    },
    {
     "data": {
      "image/png": "[encoded data removed]",
      "text/latex": [
       "$\\displaystyle y{\\left(x \\right)} = C_{1} + C_{2} x + C_{3} x^{2} + \\frac{x^{3}}{3} + \\frac{\\cos{\\left(2 x \\right)}}{8}$"
      ],
      "text/plain": [
       "                            3           \n",
       "                       2   x    cos(2⋅x)\n",
       "y(x) = C₁ + C₂⋅x + C₃⋅x  + ── + ────────\n",
       "                           3       8    "
      ]
     },
     "execution_count": 25,
     "metadata": {},
     "output_type": "execute_result"
    }
   ],
   "source": [
    "# (c)\n",
    "print(Back.CYAN +'\"%s\": c')\n",
    "print(Style.RESET_ALL)\n",
    "dsolve(Derivative(y(x), x, x, x) -2 -sin(2*x), y(x))"
   ]
  },
  {
   "cell_type": "markdown",
   "metadata": {},
   "source": [
    "Solve the initial value problem.\n",
    "* (a) $y'=-2x(y^2-3y+2), \\quad y(0)=3$,\n",
    "* (b) $y'=2y-y^2, \\quad y(0)=1$\n",
    "* (c)$(x+1)(x-2)y'+y=0, \\quad y(1)=-3$."
   ]
  },
  {
   "cell_type": "code",
   "execution_count": 26,
   "metadata": {},
   "outputs": [
    {
     "name": "stdout",
     "output_type": "stream",
     "text": [
      "\u001b[46m\"%s\": a\n",
      "\u001b[0m\n"
     ]
    },
    {
     "data": {
      "image/png": "[encoded data removed]",
      "text/latex": [
       "$\\displaystyle y{\\left(x \\right)} = \\frac{e^{C_{1} - x^{2}} - 2}{e^{C_{1} - x^{2}} - 1}$"
      ],
      "text/plain": [
       "              2    \n",
       "        C₁ - x     \n",
       "       ℯ        - 2\n",
       "y(x) = ────────────\n",
       "              2    \n",
       "        C₁ - x     \n",
       "       ℯ        - 1"
      ]
     },
     "execution_count": 26,
     "metadata": {},
     "output_type": "execute_result"
    }
   ],
   "source": [
    "# (a)\n",
    "print(Back.CYAN +'\"%s\": a')\n",
    "print(Style.RESET_ALL)\n",
    "dsolve(Derivative(y(x), x)+2*x*(y(x)**2-3*y(x)+2), y(x))"
   ]
  },
  {
   "cell_type": "code",
   "execution_count": 27,
   "metadata": {},
   "outputs": [
    {
     "name": "stdout",
     "output_type": "stream",
     "text": [
      "\u001b[46m\"%s\": b\n",
      "\u001b[0m\n"
     ]
    },
    {
     "data": {
      "image/png": "[encoded data removed]",
      "text/latex": [
       "$\\displaystyle y{\\left(x \\right)} = \\frac{2}{C_{1} e^{- 2 x} + 1}$"
      ],
      "text/plain": [
       "            2      \n",
       "y(x) = ────────────\n",
       "           -2⋅x    \n",
       "       C₁⋅ℯ     + 1"
      ]
     },
     "execution_count": 27,
     "metadata": {},
     "output_type": "execute_result"
    }
   ],
   "source": [
    "# (b)\n",
    "print(Back.CYAN +'\"%s\": b')\n",
    "print(Style.RESET_ALL)\n",
    "dsolve(Derivative(y(x), x)-2*y(x)+y(x)**2, y(x))"
   ]
  },
  {
   "cell_type": "code",
   "execution_count": 28,
   "metadata": {},
   "outputs": [
    {
     "name": "stdout",
     "output_type": "stream",
     "text": [
      "\u001b[46m\"%s\": c\n",
      "\u001b[0m\n"
     ]
    },
    {
     "data": {
      "image/png": "[encoded data removed]",
      "text/latex": [
       "$\\displaystyle y{\\left(x \\right)} = \\frac{C_{1} \\sqrt[3]{x + 1}}{\\sqrt[3]{x - 2}}$"
      ],
      "text/plain": [
       "          3 _______\n",
       "       C₁⋅╲╱ x + 1 \n",
       "y(x) = ────────────\n",
       "        3 _______  \n",
       "        ╲╱ x - 2   "
      ]
     },
     "execution_count": 28,
     "metadata": {},
     "output_type": "execute_result"
    }
   ],
   "source": [
    "# (c)\n",
    "print(Back.CYAN +'\"%s\": c')\n",
    "print(Style.RESET_ALL)\n",
    "dsolve((x+1)*(x-2)*Derivative(y(x), x)+y(x), y(x))"
   ]
  },
  {
   "cell_type": "markdown",
   "metadata": {},
   "source": [
    "<div class=\"alert alert-block alert-info\">\n",
    "<font size=\"+3\"><b>Verifying a Solution</b></font>"
   ]
  },
  {
   "cell_type": "markdown",
   "metadata": {},
   "source": [
    "In doing so, we simply plug the solution in the ODE and see whether both sides are equal or not."
   ]
  },
  {
   "cell_type": "markdown",
   "metadata": {},
   "source": [
    "Verify that the  function is a solution of the initial value problem.\n",
    "* (a) $y=x\\cos x;     \\quad y'=\\cos x-y\\tan x, \\quad y(\\pi/4)=\\dfrac{\\pi}{4\\sqrt{2}}$\n",
    "* (b) $y=\\dfrac{1+2\\ln x}{x^2}+\\dfrac{1}{2};     \\quad y'=\\dfrac{x^2-2x^2y+2}{x^3},   \\quad y(1)=\\dfrac{3}{2}$"
   ]
  },
  {
   "cell_type": "code",
   "execution_count": 29,
   "metadata": {
    "scrolled": true
   },
   "outputs": [
    {
     "name": "stdout",
     "output_type": "stream",
     "text": [
      "\u001b[46m\"%s\": a\n",
      "\u001b[0m\n"
     ]
    },
    {
     "data": {
      "image/png": "[encoded data removed]",
      "text/latex": [
       "$\\displaystyle - x \\sin{\\left(x \\right)} + x \\cos{\\left(x \\right)} \\tan{\\left(x \\right)}$"
      ],
      "text/plain": [
       "-x⋅sin(x) + x⋅cos(x)⋅tan(x)"
      ]
     },
     "execution_count": 29,
     "metadata": {},
     "output_type": "execute_result"
    }
   ],
   "source": [
    "print(Back.CYAN +'\"%s\": a')\n",
    "print(Style.RESET_ALL)\n",
    "y= x*cos(x)\n",
    "expand(diff(y,x)-cos(x)+y*tan(x))"
   ]
  },
  {
   "cell_type": "markdown",
   "metadata": {},
   "source": [
    "<font color='red'>**y** is not a solution!</font>"
   ]
  },
  {
   "cell_type": "code",
   "execution_count": 30,
   "metadata": {},
   "outputs": [
    {
     "name": "stdout",
     "output_type": "stream",
     "text": [
      "\u001b[46m\"%s\": b\n",
      "\u001b[0m\n"
     ]
    },
    {
     "data": {
      "image/png": "[encoded data removed]",
      "text/latex": [
       "$\\displaystyle 0$"
      ],
      "text/plain": [
       "0"
      ]
     },
     "execution_count": 30,
     "metadata": {},
     "output_type": "execute_result"
    }
   ],
   "source": [
    "print(Back.CYAN +'\"%s\": b')\n",
    "print(Style.RESET_ALL)\n",
    "y= (1+2*ln(x))/(x**2)+(1/2)\n",
    "expand(diff(y,x)-((x**2-2*x**2*y+2)/(x**3)))"
   ]
  },
  {
   "cell_type": "markdown",
   "metadata": {},
   "source": [
    "<font color='Darkgreen'>**y** is a solution!</font>"
   ]
  },
  {
   "cell_type": "markdown",
   "metadata": {},
   "source": [
    "***"
   ]
  },
  {
   "cell_type": "markdown",
   "metadata": {},
   "source": [
    "***"
   ]
  }
 ],
 "metadata": {
  "kernelspec": {
   "display_name": "Python 3",
   "language": "python",
   "name": "python3"
  },
  "language_info": {
   "codemirror_mode": {
    "name": "ipython",
    "version": 3
   },
   "file_extension": ".py",
   "mimetype": "text/x-python",
   "name": "python",
   "nbconvert_exporter": "python",
   "pygments_lexer": "ipython3",
   "version": "3.7.7"
  }
 },
 "nbformat": 4,
 "nbformat_minor": 2
}
