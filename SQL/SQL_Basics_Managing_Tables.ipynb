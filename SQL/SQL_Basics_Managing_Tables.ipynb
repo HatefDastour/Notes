{
 "cells": [
  {
   "cell_type": "code",
   "execution_count": 1,
   "metadata": {},
   "outputs": [],
   "source": [
    "import pandas as pd\n",
    "import sqlite3\n",
    "import pymysql\n",
    "pymysql.install_as_MySQLdb()\n",
    "import MySQLdb"
   ]
  },
  {
   "cell_type": "markdown",
   "metadata": {},
   "source": [
    "In this article, we provide a summary of basic SQL Server commands and syntaxes. For the full tutorial please see [SQL Server technical documentation](https://docs.microsoft.com/en-us/sql/sql-server/?view=sql-server-ver15). Since we are working on a Jupyter Notebook, all of SQL commands here complied through [SQLite](https://www.sqlite.org/index.html) and [PyMySQL](https://pymysql.readthedocs.io/en/latest/).\n",
    "\n",
    "Moreover, the following function can help us to mimic SQL Server Environment in this Jupyter notebook."
   ]
  },
  {
   "cell_type": "code",
   "execution_count": 2,
   "metadata": {},
   "outputs": [],
   "source": [
    "def mySQL(Syntax): return pd.read_sql_query(Syntax, connection)"
   ]
  },
  {
   "cell_type": "markdown",
   "metadata": {},
   "source": [
    "<div class=\"alert alert-block alert-info\">\n",
    "<font size=\"+2\"><b>\n",
    "Managing Tables\n",
    "</b></font>\n",
    "</div>\n",
    "\n",
    "\n",
    "Let's create ``mydatabase.db``, and enter the all-time top goal scorers of the premier from this [website](https://www.premierleague.com/stats/top/players/goals?co=1&se=-1&co=1&cl=-1&iso=-1&po=-1?se=-1)."
   ]
  },
  {
   "cell_type": "code",
   "execution_count": 3,
   "metadata": {},
   "outputs": [],
   "source": [
    "connection = sqlite3.connect('mydatabase.db')\n",
    "cursor = connection.cursor()"
   ]
  },
  {
   "cell_type": "markdown",
   "metadata": {},
   "source": [
    "## Delete a Table"
   ]
  },
  {
   "cell_type": "code",
   "execution_count": 4,
   "metadata": {},
   "outputs": [],
   "source": [
    "# Delete A Table If Exists\n",
    "_ = cursor.execute(\"\"\"DROP TABLE IF EXISTS Players\"\"\")"
   ]
  },
  {
   "cell_type": "markdown",
   "metadata": {},
   "source": [
    "\n",
    "## Creating a Table\n",
    "\n",
    "A table can be created using the following syntax,\n",
    "\n",
    "```SQL\n",
    "CREATE TABLE MyTable (\n",
    "    Column1 Datatype,\n",
    "    Column2 Datatype,\n",
    "    Column3 Datatype,\n",
    "   ....\n",
    "    );\n",
    "```"
   ]
  },
  {
   "cell_type": "markdown",
   "metadata": {},
   "source": [
    "To create *Players* table we can use the following SQL command\n",
    "\n",
    "```SQL\n",
    "CREATE TABLE Players ( \n",
    "    Rank INTEGER PRIMARY KEY, \n",
    "    First_Name VARCHAR(20), \n",
    "    Last_Name VARCHAR(30), \n",
    "    Nationality CHAR(10), \n",
    "    Goals INTEGER,\n",
    "    Birth_Date DATE\n",
    "    );\n",
    "```"
   ]
  },
  {
   "cell_type": "code",
   "execution_count": 5,
   "metadata": {},
   "outputs": [],
   "source": [
    "# running that syntax\n",
    "_ = cursor.execute(\"\"\"\n",
    "CREATE TABLE Players ( \n",
    "    Rank INTEGER PRIMARY KEY, \n",
    "    First_Name VARCHAR(20), \n",
    "    Last_Name VARCHAR(30), \n",
    "    Nationality CHAR(10), \n",
    "    Goals INTEGER\n",
    "    );\"\"\")"
   ]
  },
  {
   "cell_type": "markdown",
   "metadata": {},
   "source": [
    "Note that now, we have created a blank table."
   ]
  },
  {
   "cell_type": "code",
   "execution_count": 6,
   "metadata": {},
   "outputs": [
    {
     "data": {
      "text/html": [
       "<div>\n",
       "<style scoped>\n",
       "    .dataframe tbody tr th:only-of-type {\n",
       "        vertical-align: middle;\n",
       "    }\n",
       "\n",
       "    .dataframe tbody tr th {\n",
       "        vertical-align: top;\n",
       "    }\n",
       "\n",
       "    .dataframe thead th {\n",
       "        text-align: right;\n",
       "    }\n",
       "</style>\n",
       "<table border=\"1\" class=\"dataframe\">\n",
       "  <thead>\n",
       "    <tr style=\"text-align: right;\">\n",
       "      <th></th>\n",
       "      <th>Rank</th>\n",
       "      <th>First_Name</th>\n",
       "      <th>Last_Name</th>\n",
       "      <th>Nationality</th>\n",
       "      <th>Goals</th>\n",
       "    </tr>\n",
       "  </thead>\n",
       "  <tbody>\n",
       "  </tbody>\n",
       "</table>\n",
       "</div>"
      ],
      "text/plain": [
       "Empty DataFrame\n",
       "Columns: [Rank, First_Name, Last_Name, Nationality, Goals]\n",
       "Index: []"
      ]
     },
     "execution_count": 6,
     "metadata": {},
     "output_type": "execute_result"
    }
   ],
   "source": [
    "mySQL(\"\"\"select * from Players\"\"\")"
   ]
  },
  {
   "cell_type": "markdown",
   "metadata": {},
   "source": [
    "## Adding a column\n",
    "\n",
    "This can be done using **Alter** function.\n",
    "\n",
    "```SQL\n",
    "Alter Table MyTable\n",
    "    Add Column_name Datatype\n",
    "```"
   ]
  },
  {
   "cell_type": "code",
   "execution_count": 7,
   "metadata": {},
   "outputs": [],
   "source": [
    "_ = cursor.execute(\"\"\"\n",
    "Alter Table Players\n",
    "    Add Birth_Date DATE\n",
    "\"\"\")"
   ]
  },
  {
   "cell_type": "markdown",
   "metadata": {},
   "source": [
    "Thus,    "
   ]
  },
  {
   "cell_type": "code",
   "execution_count": 8,
   "metadata": {},
   "outputs": [
    {
     "data": {
      "text/html": [
       "<div>\n",
       "<style scoped>\n",
       "    .dataframe tbody tr th:only-of-type {\n",
       "        vertical-align: middle;\n",
       "    }\n",
       "\n",
       "    .dataframe tbody tr th {\n",
       "        vertical-align: top;\n",
       "    }\n",
       "\n",
       "    .dataframe thead th {\n",
       "        text-align: right;\n",
       "    }\n",
       "</style>\n",
       "<table border=\"1\" class=\"dataframe\">\n",
       "  <thead>\n",
       "    <tr style=\"text-align: right;\">\n",
       "      <th></th>\n",
       "      <th>Rank</th>\n",
       "      <th>First_Name</th>\n",
       "      <th>Last_Name</th>\n",
       "      <th>Nationality</th>\n",
       "      <th>Goals</th>\n",
       "      <th>Birth_Date</th>\n",
       "    </tr>\n",
       "  </thead>\n",
       "  <tbody>\n",
       "  </tbody>\n",
       "</table>\n",
       "</div>"
      ],
      "text/plain": [
       "Empty DataFrame\n",
       "Columns: [Rank, First_Name, Last_Name, Nationality, Goals, Birth_Date]\n",
       "Index: []"
      ]
     },
     "execution_count": 8,
     "metadata": {},
     "output_type": "execute_result"
    }
   ],
   "source": [
    "mySQL(\"\"\"select * from Players\"\"\")"
   ]
  },
  {
   "cell_type": "markdown",
   "metadata": {},
   "source": [
    "## Deleting a column"
   ]
  },
  {
   "cell_type": "markdown",
   "metadata": {},
   "source": [
    "```SQL\n",
    "Alter Table MyTable\n",
    "    Drop Column Column List\n",
    "```"
   ]
  },
  {
   "cell_type": "markdown",
   "metadata": {},
   "source": [
    "## Renaming a column\n",
    "\n",
    "```SQL\n",
    "Alter Table MyTable\n",
    "  Rename PreviousName to NewName;\n",
    "```"
   ]
  },
  {
   "cell_type": "markdown",
   "metadata": {},
   "source": [
    "## Rename Table\n",
    "\n",
    "```SQL\n",
    "Alter Table MyTable\n",
    "  Rename To NewTableName\n",
    "```"
   ]
  },
  {
   "cell_type": "markdown",
   "metadata": {},
   "source": [
    "## Truncate Table\n",
    "\n",
    "This command removed all data from a table"
   ]
  },
  {
   "cell_type": "markdown",
   "metadata": {},
   "source": [
    "```SQL\n",
    "Truncate Table MyTable\n",
    "```"
   ]
  },
  {
   "cell_type": "markdown",
   "metadata": {},
   "source": [
    "## Inserting a row\n",
    "\n",
    "For example, to enter a row of a player data, we can use the following SQL syntax\n",
    "\n",
    "```SQL\n",
    "INSERT INTO Players (Rank, First_Name, Last_Name, Nationality, Goals, Birth_Date)\n",
    "    VALUES (Null, \"Alan\", \"Shearer\", \"England\", 260,\"1970-08-13\");\n",
    "```"
   ]
  },
  {
   "cell_type": "code",
   "execution_count": 9,
   "metadata": {},
   "outputs": [
    {
     "data": {
      "text/html": [
       "<div>\n",
       "<style scoped>\n",
       "    .dataframe tbody tr th:only-of-type {\n",
       "        vertical-align: middle;\n",
       "    }\n",
       "\n",
       "    .dataframe tbody tr th {\n",
       "        vertical-align: top;\n",
       "    }\n",
       "\n",
       "    .dataframe thead th {\n",
       "        text-align: right;\n",
       "    }\n",
       "</style>\n",
       "<table border=\"1\" class=\"dataframe\">\n",
       "  <thead>\n",
       "    <tr style=\"text-align: right;\">\n",
       "      <th></th>\n",
       "      <th>Rank</th>\n",
       "      <th>First_Name</th>\n",
       "      <th>Last_Name</th>\n",
       "      <th>Nationality</th>\n",
       "      <th>Goals</th>\n",
       "      <th>Birth_Date</th>\n",
       "    </tr>\n",
       "  </thead>\n",
       "  <tbody>\n",
       "    <tr>\n",
       "      <th>0</th>\n",
       "      <td>1</td>\n",
       "      <td>Alan</td>\n",
       "      <td>Shearer</td>\n",
       "      <td>England</td>\n",
       "      <td>260</td>\n",
       "      <td>1970-08-13</td>\n",
       "    </tr>\n",
       "  </tbody>\n",
       "</table>\n",
       "</div>"
      ],
      "text/plain": [
       "   Rank First_Name Last_Name Nationality  Goals  Birth_Date\n",
       "0     1       Alan   Shearer     England    260  1970-08-13"
      ]
     },
     "execution_count": 9,
     "metadata": {},
     "output_type": "execute_result"
    }
   ],
   "source": [
    "_ = cursor.execute(\n",
    "\"\"\"INSERT INTO Players (Rank, First_Name, Last_Name, Nationality, Goals, Birth_Date)\n",
    "    VALUES (Null, \"Alan\", \"Shearer\", \"England\", 260,\"1970-08-13\");\"\"\"\n",
    ")\n",
    "\n",
    "# Therefore\n",
    "mySQL(\"\"\"select * from Players\"\"\")"
   ]
  },
  {
   "cell_type": "markdown",
   "metadata": {},
   "source": [
    "## Inserting multiple rows\n",
    "\n",
    "As you noticed, entering table rows by the previous command is not convenient, especially for entering a large number of rows. Therefore, we can enter the data as follows instead."
   ]
  },
  {
   "cell_type": "code",
   "execution_count": 10,
   "metadata": {
    "scrolled": true
   },
   "outputs": [
    {
     "data": {
      "text/html": [
       "<div>\n",
       "<style scoped>\n",
       "    .dataframe tbody tr th:only-of-type {\n",
       "        vertical-align: middle;\n",
       "    }\n",
       "\n",
       "    .dataframe tbody tr th {\n",
       "        vertical-align: top;\n",
       "    }\n",
       "\n",
       "    .dataframe thead th {\n",
       "        text-align: right;\n",
       "    }\n",
       "</style>\n",
       "<table border=\"1\" class=\"dataframe\">\n",
       "  <thead>\n",
       "    <tr style=\"text-align: right;\">\n",
       "      <th></th>\n",
       "      <th>Rank</th>\n",
       "      <th>First_Name</th>\n",
       "      <th>Last_Name</th>\n",
       "      <th>Nationality</th>\n",
       "      <th>Goals</th>\n",
       "      <th>Birth_Date</th>\n",
       "    </tr>\n",
       "  </thead>\n",
       "  <tbody>\n",
       "    <tr>\n",
       "      <th>0</th>\n",
       "      <td>1</td>\n",
       "      <td>Alan</td>\n",
       "      <td>Shearer</td>\n",
       "      <td>England</td>\n",
       "      <td>260</td>\n",
       "      <td>1970-08-13</td>\n",
       "    </tr>\n",
       "    <tr>\n",
       "      <th>1</th>\n",
       "      <td>2</td>\n",
       "      <td>Wayne</td>\n",
       "      <td>Rooney</td>\n",
       "      <td>England</td>\n",
       "      <td>208</td>\n",
       "      <td>1985-10-24</td>\n",
       "    </tr>\n",
       "    <tr>\n",
       "      <th>2</th>\n",
       "      <td>3</td>\n",
       "      <td>Andrew</td>\n",
       "      <td>Cole</td>\n",
       "      <td>England</td>\n",
       "      <td>187</td>\n",
       "      <td>1971-10-15</td>\n",
       "    </tr>\n",
       "    <tr>\n",
       "      <th>3</th>\n",
       "      <td>4</td>\n",
       "      <td>Frank</td>\n",
       "      <td>Lampard</td>\n",
       "      <td>England</td>\n",
       "      <td>177</td>\n",
       "      <td>1978-06-20</td>\n",
       "    </tr>\n",
       "  </tbody>\n",
       "</table>\n",
       "</div>"
      ],
      "text/plain": [
       "   Rank First_Name Last_Name Nationality  Goals  Birth_Date\n",
       "0     1       Alan   Shearer     England    260  1970-08-13\n",
       "1     2      Wayne    Rooney     England    208  1985-10-24\n",
       "2     3     Andrew      Cole     England    187  1971-10-15\n",
       "3     4      Frank   Lampard     England    177  1978-06-20"
      ]
     },
     "execution_count": 10,
     "metadata": {},
     "output_type": "execute_result"
    }
   ],
   "source": [
    "_ = cursor.execute(\"\"\"\n",
    "INSERT INTO Players (Rank, First_Name, Last_Name, Nationality, Goals, Birth_Date)\n",
    "    VALUES\n",
    "        (Null, \"Wayne\", \"Rooney\", \"England\", 208, \"1985-10-24\"),\n",
    "        (Null, \"Andrew\", \"Cole\", \"England\", 187, \"1971-10-15\"),\n",
    "        (Null, \"Frank\", \"Lampard\", \"England\", 177, \"1978-06-20\");\"\"\")\n",
    "    \n",
    "mySQL(\"\"\"select * from Players\"\"\")"
   ]
  },
  {
   "cell_type": "markdown",
   "metadata": {},
   "source": [
    "## Updating a table\n",
    "\n",
    "Assume that we are going to enter the following row in our table.\n",
    "\n",
    "| Last Name | First Name | Nationality | Goals | Birthdate |\n",
    "|-----------|------------|-------------|-------|------------|\n",
    "| Thierry | Henry | France | 175 | 1977-08-17 |"
   ]
  },
  {
   "cell_type": "code",
   "execution_count": 11,
   "metadata": {},
   "outputs": [
    {
     "data": {
      "text/html": [
       "<div>\n",
       "<style scoped>\n",
       "    .dataframe tbody tr th:only-of-type {\n",
       "        vertical-align: middle;\n",
       "    }\n",
       "\n",
       "    .dataframe tbody tr th {\n",
       "        vertical-align: top;\n",
       "    }\n",
       "\n",
       "    .dataframe thead th {\n",
       "        text-align: right;\n",
       "    }\n",
       "</style>\n",
       "<table border=\"1\" class=\"dataframe\">\n",
       "  <thead>\n",
       "    <tr style=\"text-align: right;\">\n",
       "      <th></th>\n",
       "      <th>Rank</th>\n",
       "      <th>First_Name</th>\n",
       "      <th>Last_Name</th>\n",
       "      <th>Nationality</th>\n",
       "      <th>Goals</th>\n",
       "      <th>Birth_Date</th>\n",
       "    </tr>\n",
       "  </thead>\n",
       "  <tbody>\n",
       "    <tr>\n",
       "      <th>0</th>\n",
       "      <td>1</td>\n",
       "      <td>Alan</td>\n",
       "      <td>Shearer</td>\n",
       "      <td>England</td>\n",
       "      <td>260</td>\n",
       "      <td>1970-08-13</td>\n",
       "    </tr>\n",
       "    <tr>\n",
       "      <th>1</th>\n",
       "      <td>2</td>\n",
       "      <td>Wayne</td>\n",
       "      <td>Rooney</td>\n",
       "      <td>England</td>\n",
       "      <td>208</td>\n",
       "      <td>1985-10-24</td>\n",
       "    </tr>\n",
       "    <tr>\n",
       "      <th>2</th>\n",
       "      <td>3</td>\n",
       "      <td>Andrew</td>\n",
       "      <td>Cole</td>\n",
       "      <td>England</td>\n",
       "      <td>187</td>\n",
       "      <td>1971-10-15</td>\n",
       "    </tr>\n",
       "    <tr>\n",
       "      <th>3</th>\n",
       "      <td>4</td>\n",
       "      <td>Frank</td>\n",
       "      <td>Lampard</td>\n",
       "      <td>England</td>\n",
       "      <td>177</td>\n",
       "      <td>1978-06-20</td>\n",
       "    </tr>\n",
       "    <tr>\n",
       "      <th>4</th>\n",
       "      <td>5</td>\n",
       "      <td>Thierry</td>\n",
       "      <td>Henry</td>\n",
       "      <td>France</td>\n",
       "      <td>180</td>\n",
       "      <td>1977-08-17</td>\n",
       "    </tr>\n",
       "  </tbody>\n",
       "</table>\n",
       "</div>"
      ],
      "text/plain": [
       "   Rank First_Name Last_Name Nationality  Goals  Birth_Date\n",
       "0     1       Alan   Shearer     England    260  1970-08-13\n",
       "1     2      Wayne    Rooney     England    208  1985-10-24\n",
       "2     3     Andrew      Cole     England    187  1971-10-15\n",
       "3     4      Frank   Lampard     England    177  1978-06-20\n",
       "4     5    Thierry     Henry      France    180  1977-08-17"
      ]
     },
     "execution_count": 11,
     "metadata": {},
     "output_type": "execute_result"
    }
   ],
   "source": [
    "_ = cursor.execute(\"\"\"\n",
    "INSERT INTO Players (Rank, First_Name, Last_Name, Nationality, Goals, Birth_Date)\n",
    "    VALUES (Null, \"Thierry\", \"Henry\", \"France\", 180, \"1977-08-17\");\n",
    "    \"\"\")\n",
    "mySQL(\"\"\"select * from Players\"\"\")"
   ]
  },
  {
   "cell_type": "markdown",
   "metadata": {},
   "source": [
    "However, the number of goals for Thierry Henry needs to be corrected to 175. Thus,"
   ]
  },
  {
   "cell_type": "markdown",
   "metadata": {},
   "source": [
    "However, we entered another value by mistake for goal numbers.\n",
    "\n",
    "| Last Name | First Name | Nationality | Goals | Birthdate |\n",
    "|-----------|------------|-------------|-------|------------|\n",
    "| Thierry | Henry | France | 180 | 1977-08-17 |\n",
    "\n",
    " In this case, we can update the table as follows\n",
    " \n",
    "```SQL\n",
    "UPDATE Players\n",
    "    SET goals =175\n",
    "    WHERE Rank=5;\n",
    "```"
   ]
  },
  {
   "cell_type": "code",
   "execution_count": 12,
   "metadata": {},
   "outputs": [
    {
     "data": {
      "text/html": [
       "<div>\n",
       "<style scoped>\n",
       "    .dataframe tbody tr th:only-of-type {\n",
       "        vertical-align: middle;\n",
       "    }\n",
       "\n",
       "    .dataframe tbody tr th {\n",
       "        vertical-align: top;\n",
       "    }\n",
       "\n",
       "    .dataframe thead th {\n",
       "        text-align: right;\n",
       "    }\n",
       "</style>\n",
       "<table border=\"1\" class=\"dataframe\">\n",
       "  <thead>\n",
       "    <tr style=\"text-align: right;\">\n",
       "      <th></th>\n",
       "      <th>Rank</th>\n",
       "      <th>First_Name</th>\n",
       "      <th>Last_Name</th>\n",
       "      <th>Nationality</th>\n",
       "      <th>Goals</th>\n",
       "      <th>Birth_Date</th>\n",
       "    </tr>\n",
       "  </thead>\n",
       "  <tbody>\n",
       "    <tr>\n",
       "      <th>0</th>\n",
       "      <td>1</td>\n",
       "      <td>Alan</td>\n",
       "      <td>Shearer</td>\n",
       "      <td>England</td>\n",
       "      <td>260</td>\n",
       "      <td>1970-08-13</td>\n",
       "    </tr>\n",
       "    <tr>\n",
       "      <th>1</th>\n",
       "      <td>2</td>\n",
       "      <td>Wayne</td>\n",
       "      <td>Rooney</td>\n",
       "      <td>England</td>\n",
       "      <td>208</td>\n",
       "      <td>1985-10-24</td>\n",
       "    </tr>\n",
       "    <tr>\n",
       "      <th>2</th>\n",
       "      <td>3</td>\n",
       "      <td>Andrew</td>\n",
       "      <td>Cole</td>\n",
       "      <td>England</td>\n",
       "      <td>187</td>\n",
       "      <td>1971-10-15</td>\n",
       "    </tr>\n",
       "    <tr>\n",
       "      <th>3</th>\n",
       "      <td>4</td>\n",
       "      <td>Frank</td>\n",
       "      <td>Lampard</td>\n",
       "      <td>England</td>\n",
       "      <td>177</td>\n",
       "      <td>1978-06-20</td>\n",
       "    </tr>\n",
       "    <tr>\n",
       "      <th>4</th>\n",
       "      <td>5</td>\n",
       "      <td>Thierry</td>\n",
       "      <td>Henry</td>\n",
       "      <td>France</td>\n",
       "      <td>175</td>\n",
       "      <td>1977-08-17</td>\n",
       "    </tr>\n",
       "  </tbody>\n",
       "</table>\n",
       "</div>"
      ],
      "text/plain": [
       "   Rank First_Name Last_Name Nationality  Goals  Birth_Date\n",
       "0     1       Alan   Shearer     England    260  1970-08-13\n",
       "1     2      Wayne    Rooney     England    208  1985-10-24\n",
       "2     3     Andrew      Cole     England    187  1971-10-15\n",
       "3     4      Frank   Lampard     England    177  1978-06-20\n",
       "4     5    Thierry     Henry      France    175  1977-08-17"
      ]
     },
     "execution_count": 12,
     "metadata": {},
     "output_type": "execute_result"
    }
   ],
   "source": [
    "_ = cursor.execute(\"\"\"\n",
    "UPDATE Players\n",
    "    SET goals =175\n",
    "    WHERE Rank=5;\n",
    "    \"\"\")\n",
    "\n",
    "mySQL(\"\"\"select * from Players\"\"\")"
   ]
  },
  {
   "cell_type": "markdown",
   "metadata": {},
   "source": [
    "## Copying a Table\n",
    "\n",
    "Syntax:\n",
    "\n",
    "```SQL\n",
    "CREATE TABLE NewTable As\n",
    "    Select * From Original_Table;\n",
    "```"
   ]
  },
  {
   "cell_type": "code",
   "execution_count": 13,
   "metadata": {},
   "outputs": [],
   "source": [
    "_ = cursor.execute(\"\"\"\n",
    "Create Table PlayersCopy As\n",
    "    Select * From Players;\n",
    "\"\"\")"
   ]
  },
  {
   "cell_type": "markdown",
   "metadata": {},
   "source": [
    "Therefore,"
   ]
  },
  {
   "cell_type": "code",
   "execution_count": 14,
   "metadata": {},
   "outputs": [
    {
     "data": {
      "text/html": [
       "<div>\n",
       "<style scoped>\n",
       "    .dataframe tbody tr th:only-of-type {\n",
       "        vertical-align: middle;\n",
       "    }\n",
       "\n",
       "    .dataframe tbody tr th {\n",
       "        vertical-align: top;\n",
       "    }\n",
       "\n",
       "    .dataframe thead th {\n",
       "        text-align: right;\n",
       "    }\n",
       "</style>\n",
       "<table border=\"1\" class=\"dataframe\">\n",
       "  <thead>\n",
       "    <tr style=\"text-align: right;\">\n",
       "      <th></th>\n",
       "      <th>Rank</th>\n",
       "      <th>First_Name</th>\n",
       "      <th>Last_Name</th>\n",
       "      <th>Nationality</th>\n",
       "      <th>Goals</th>\n",
       "      <th>Birth_Date</th>\n",
       "    </tr>\n",
       "  </thead>\n",
       "  <tbody>\n",
       "    <tr>\n",
       "      <th>0</th>\n",
       "      <td>1</td>\n",
       "      <td>Alan</td>\n",
       "      <td>Shearer</td>\n",
       "      <td>England</td>\n",
       "      <td>260</td>\n",
       "      <td>1970-08-13</td>\n",
       "    </tr>\n",
       "    <tr>\n",
       "      <th>1</th>\n",
       "      <td>2</td>\n",
       "      <td>Wayne</td>\n",
       "      <td>Rooney</td>\n",
       "      <td>England</td>\n",
       "      <td>208</td>\n",
       "      <td>1985-10-24</td>\n",
       "    </tr>\n",
       "    <tr>\n",
       "      <th>2</th>\n",
       "      <td>3</td>\n",
       "      <td>Andrew</td>\n",
       "      <td>Cole</td>\n",
       "      <td>England</td>\n",
       "      <td>187</td>\n",
       "      <td>1971-10-15</td>\n",
       "    </tr>\n",
       "    <tr>\n",
       "      <th>3</th>\n",
       "      <td>4</td>\n",
       "      <td>Frank</td>\n",
       "      <td>Lampard</td>\n",
       "      <td>England</td>\n",
       "      <td>177</td>\n",
       "      <td>1978-06-20</td>\n",
       "    </tr>\n",
       "    <tr>\n",
       "      <th>4</th>\n",
       "      <td>5</td>\n",
       "      <td>Thierry</td>\n",
       "      <td>Henry</td>\n",
       "      <td>France</td>\n",
       "      <td>175</td>\n",
       "      <td>1977-08-17</td>\n",
       "    </tr>\n",
       "  </tbody>\n",
       "</table>\n",
       "</div>"
      ],
      "text/plain": [
       "   Rank First_Name Last_Name Nationality  Goals  Birth_Date\n",
       "0     1       Alan   Shearer     England    260  1970-08-13\n",
       "1     2      Wayne    Rooney     England    208  1985-10-24\n",
       "2     3     Andrew      Cole     England    187  1971-10-15\n",
       "3     4      Frank   Lampard     England    177  1978-06-20\n",
       "4     5    Thierry     Henry      France    175  1977-08-17"
      ]
     },
     "execution_count": 14,
     "metadata": {},
     "output_type": "execute_result"
    }
   ],
   "source": [
    "mySQL(\"\"\"select * from PlayersCopy\"\"\")"
   ]
  },
  {
   "cell_type": "markdown",
   "metadata": {},
   "source": [
    "## Deleting a row\n",
    "\n",
    "syntax\n",
    "```SQL\n",
    "Delete From MyTable\n",
    "    Where Condition;\n",
    "```\n",
    "\n",
    "For example, to delete the last entered row, we can try"
   ]
  },
  {
   "cell_type": "code",
   "execution_count": 15,
   "metadata": {},
   "outputs": [
    {
     "data": {
      "text/html": [
       "<div>\n",
       "<style scoped>\n",
       "    .dataframe tbody tr th:only-of-type {\n",
       "        vertical-align: middle;\n",
       "    }\n",
       "\n",
       "    .dataframe tbody tr th {\n",
       "        vertical-align: top;\n",
       "    }\n",
       "\n",
       "    .dataframe thead th {\n",
       "        text-align: right;\n",
       "    }\n",
       "</style>\n",
       "<table border=\"1\" class=\"dataframe\">\n",
       "  <thead>\n",
       "    <tr style=\"text-align: right;\">\n",
       "      <th></th>\n",
       "      <th>Rank</th>\n",
       "      <th>First_Name</th>\n",
       "      <th>Last_Name</th>\n",
       "      <th>Nationality</th>\n",
       "      <th>Goals</th>\n",
       "      <th>Birth_Date</th>\n",
       "    </tr>\n",
       "  </thead>\n",
       "  <tbody>\n",
       "    <tr>\n",
       "      <th>0</th>\n",
       "      <td>1</td>\n",
       "      <td>Alan</td>\n",
       "      <td>Shearer</td>\n",
       "      <td>England</td>\n",
       "      <td>260</td>\n",
       "      <td>1970-08-13</td>\n",
       "    </tr>\n",
       "    <tr>\n",
       "      <th>1</th>\n",
       "      <td>2</td>\n",
       "      <td>Wayne</td>\n",
       "      <td>Rooney</td>\n",
       "      <td>England</td>\n",
       "      <td>208</td>\n",
       "      <td>1985-10-24</td>\n",
       "    </tr>\n",
       "    <tr>\n",
       "      <th>2</th>\n",
       "      <td>3</td>\n",
       "      <td>Andrew</td>\n",
       "      <td>Cole</td>\n",
       "      <td>England</td>\n",
       "      <td>187</td>\n",
       "      <td>1971-10-15</td>\n",
       "    </tr>\n",
       "    <tr>\n",
       "      <th>3</th>\n",
       "      <td>4</td>\n",
       "      <td>Frank</td>\n",
       "      <td>Lampard</td>\n",
       "      <td>England</td>\n",
       "      <td>177</td>\n",
       "      <td>1978-06-20</td>\n",
       "    </tr>\n",
       "  </tbody>\n",
       "</table>\n",
       "</div>"
      ],
      "text/plain": [
       "   Rank First_Name Last_Name Nationality  Goals  Birth_Date\n",
       "0     1       Alan   Shearer     England    260  1970-08-13\n",
       "1     2      Wayne    Rooney     England    208  1985-10-24\n",
       "2     3     Andrew      Cole     England    187  1971-10-15\n",
       "3     4      Frank   Lampard     England    177  1978-06-20"
      ]
     },
     "execution_count": 15,
     "metadata": {},
     "output_type": "execute_result"
    }
   ],
   "source": [
    "_ = cursor.execute(\"\"\"\n",
    "Delete From PlayersCopy\n",
    "    Where Last_Name=\"Henry\";\n",
    "\"\"\")\n",
    "\n",
    "# Hence,\n",
    "mySQL(\"\"\"select * from PlayersCopy\"\"\")"
   ]
  },
  {
   "cell_type": "markdown",
   "metadata": {},
   "source": [
    "## Deleting a table\n",
    "\n",
    "syntax\n",
    "```SQL\n",
    "Drop Table TableName;\n",
    "```"
   ]
  },
  {
   "cell_type": "code",
   "execution_count": 16,
   "metadata": {
    "scrolled": true
   },
   "outputs": [],
   "source": [
    "_ = cursor.execute(\"\"\"\n",
    "Drop Table PlayersCopy\n",
    "\"\"\")"
   ]
  },
  {
   "cell_type": "code",
   "execution_count": 17,
   "metadata": {},
   "outputs": [],
   "source": [
    "connection.commit()\n",
    "connection.close()"
   ]
  }
 ],
 "metadata": {
  "kernelspec": {
   "display_name": "Python 3",
   "language": "python",
   "name": "python3"
  },
  "language_info": {
   "codemirror_mode": {
    "name": "ipython",
    "version": 3
   },
   "file_extension": ".py",
   "mimetype": "text/x-python",
   "name": "python",
   "nbconvert_exporter": "python",
   "pygments_lexer": "ipython3",
   "version": "3.7.7"
  }
 },
 "nbformat": 4,
 "nbformat_minor": 2
}
