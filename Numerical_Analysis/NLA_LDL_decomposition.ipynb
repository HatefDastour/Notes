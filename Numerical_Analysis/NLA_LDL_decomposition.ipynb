{
 "cells": [
  {
   "cell_type": "code",
   "execution_count": 1,
   "metadata": {},
   "outputs": [],
   "source": [
    "import numpy as np\n",
    "import pandas as pd\n",
    "import scipy.sparse as sps\n",
    "import scipy.linalg as linalg\n",
    "\n",
    "# Visualisation libraries\n",
    "\n",
    "## Text\n",
    "from IPython.display import display, Markdown, Latex\n",
    "\n",
    "\n",
    "## matplotlib\n",
    "import matplotlib.pyplot as plt\n",
    "from matplotlib.patches import Ellipse, Polygon\n",
    "from matplotlib.font_manager import FontProperties\n",
    "\n",
    "# plt setting\n",
    "plt.style.use('seaborn-whitegrid')\n",
    "plt.rcParams['axes.labelsize'] = 14\n",
    "plt.rcParams['xtick.labelsize'] = 12\n",
    "plt.rcParams['ytick.labelsize'] = 12\n",
    "plt.rcParams['text.color'] = 'k'\n",
    "%matplotlib inline\n",
    "\n",
    "import warnings\n",
    "warnings.filterwarnings(\"ignore\")"
   ]
  },
  {
   "cell_type": "markdown",
   "metadata": {},
   "source": [
    "<div class=\"alert alert-block alert-info\">\n",
    "<font size=\"+3\"><b>\n",
    "Numerical Linear Algebra\n",
    "</b></font>\n",
    "</div>\n",
    "\n",
    "\n",
    "# LDL\n",
    "\n",
    "\n",
    "A closely related variant of the [Cholesky factorization](https://hatefdastour.github.io/notes/Numerical_Analysis/NLA_Cholesky_factorization.html) is the LDL decomposition. In this decomposition, a (real) symmetric positive definite matrix $A$ is decomposed as follows\n",
    "\n",
    "$$ A =LDL^{*},$$\n",
    "\n",
    "where $L$ is a lower triangular matrix, and $D$ is a diagonal matrix.\n",
    "\n",
    "\n",
    "Furthermore, We have,\n",
    "\n",
    "\\begin{align}\n",
    "\\begin{bmatrix}a_{11} & a_{12} & \\dots & a_{1n} \\\\ a_{21} & a_{22} & \\dots & a_{2n} \\\\\n",
    "\\vdots & \\vdots &   & \\vdots \\\\ a_{n1} & a_{n2} & \\dots & a_{nn} \\end{bmatrix}=\n",
    "\\begin{bmatrix}1 & 0 & \\dots & 0 \\\\ l_{21} & 1 & \\dots & 0 \\\\\n",
    "\\vdots & \\vdots &   & \\vdots \\\\ l_{n1} & l_{n2} & \\dots & 1 \\end{bmatrix}\n",
    "\\begin{bmatrix}d_{11} & 0 & \\dots & 0 \\\\ 0 & d_{22} & \\dots & 0 \\\\\n",
    "\\vdots & \\vdots &   & \\vdots \\\\ 0 & 0 & \\dots & d_{nn} \\end{bmatrix}.\n",
    "\\end{align}\n",
    "Solving this system, $l_{ij}$ and $d_{ii}$ can be identified as follows\n",
    "\n",
    "\\begin{align}\n",
    "d_{ii} &= a_{ii} - \\sum_{k=1}^{i-1} l_{ij}^{2}d_{jj},\\\\\n",
    "l_{ii} &= \\frac{1}{d_{ii}}\\left( a_{ij} - \\sum_{k=1}^{i-1} l_{ik} l_{jk} d_{kk}\\right),\\\\\n",
    "\\end{align}\n",
    "See [1] for the full derivation of this algorithm. Furthermore, we can prepare a Python code using the above algorithm."
   ]
  },
  {
   "cell_type": "code",
   "execution_count": 2,
   "metadata": {},
   "outputs": [],
   "source": [
    "def myLDL(A):\n",
    "    '''\n",
    "    Assuming that the matrix A is symmetric and positive definite,\n",
    "    this function computes a unit lower triangular matrix L, and\n",
    "    a diagonal matrix D, such that A = LDL^t\n",
    "    Input: A the nxn matrix to be factorized\n",
    "    n the number of rows and columns A has\n",
    "    Output: L an nxn unit lower triangular matrix\n",
    "    D an nxn diagonal matrix\n",
    "    '''\n",
    "    # create an nxn matrix U that holds L below its main diagonal\n",
    "    # and D on its main diagonal\n",
    "    n = A.shape[0]\n",
    "    U = np.zeros([n,n], dtype = float)\n",
    "    # define the first diagonal entry of D\n",
    "    U[0, 0] = A[0, 0]\n",
    "    # define the first column of L\n",
    "    U[1:, 0] = A[1:, 0]/U[0, 0]\n",
    "    for j in range(1, n):\n",
    "        # define the jth diagonal entry of D\n",
    "        U[j, j] = A[j, j]\n",
    "        for k in range(0, j):\n",
    "            U[j, j] = U[j, j] - U[k, k]*U[j, k]*U[j, k]\n",
    "        # define the jth column of L\n",
    "        for i in range(j+1, n):\n",
    "            U[i, j] = A[i, j]\n",
    "            for k in range(0, j):\n",
    "                U[i, j] = U[i, j]- U[k, k]*U[i, k]*U[j, k]\n",
    "            U[i, j] = U[i, j]/U[j, j]\n",
    "    # Extract L and D from U\n",
    "    L = np.tril(U,-1) + np.eye(n, dtype=float)\n",
    "    D = np.diag(np.diag(U))\n",
    "    return L, D"
   ]
  },
  {
   "cell_type": "markdown",
   "metadata": {},
   "source": [
    "<font color='Blue'><b>Example</b></font>: Apply $LU$ decomposition on the following matrix.\n",
    "$$A = \\left[\\begin{array}{cccc} 7 & 3 & -1 & 2\\\\ 3 & 8 & 1 & -4\\\\ -1 & 1 & 4 & -1\\\\ 2 & -4 & -1 & 6 \\end{array}\\right]$$"
   ]
  },
  {
   "cell_type": "markdown",
   "metadata": {},
   "source": [
    "We have,"
   ]
  },
  {
   "cell_type": "code",
   "execution_count": 3,
   "metadata": {},
   "outputs": [
    {
     "data": {
      "text/latex": [
       "$L$ ="
      ],
      "text/plain": [
       "<IPython.core.display.Latex object>"
      ]
     },
     "metadata": {},
     "output_type": "display_data"
    },
    {
     "data": {
      "text/plain": [
       "array([[ 7,  3, -1,  2],\n",
       "       [ 3,  8,  1, -4],\n",
       "       [-1,  1,  4, -1],\n",
       "       [ 2, -4, -1,  6]])"
      ]
     },
     "metadata": {},
     "output_type": "display_data"
    },
    {
     "data": {
      "text/latex": [
       "$D$ ="
      ],
      "text/plain": [
       "<IPython.core.display.Latex object>"
      ]
     },
     "metadata": {},
     "output_type": "display_data"
    },
    {
     "data": {
      "text/plain": [
       "array([[7.        , 0.        , 0.        , 0.        ],\n",
       "       [0.        , 6.71428571, 0.        , 0.        ],\n",
       "       [0.        , 0.        , 3.55319149, 0.        ],\n",
       "       [0.        , 0.        , 0.        , 1.88622754]])"
      ]
     },
     "metadata": {},
     "output_type": "display_data"
    },
    {
     "data": {
      "text/latex": [
       "$LD L^T$ ="
      ],
      "text/plain": [
       "<IPython.core.display.Latex object>"
      ]
     },
     "metadata": {},
     "output_type": "display_data"
    },
    {
     "data": {
      "text/plain": [
       "array([[ 7.,  3., -1.,  2.],\n",
       "       [ 3.,  8.,  1., -4.],\n",
       "       [-1.,  1.,  4., -1.],\n",
       "       [ 2., -4., -1.,  6.]])"
      ]
     },
     "metadata": {},
     "output_type": "display_data"
    },
    {
     "data": {
      "image/png": "[encoded data removed]",
      "text/plain": [
       "<Figure size 1152x288 with 4 Axes>"
      ]
     },
     "metadata": {
      "needs_background": "light"
     },
     "output_type": "display_data"
    }
   ],
   "source": [
    "A = np.array([ [7, 3, -1, 2], [3, 8, 1, -4], [-1, 1, 4, -1], [2, -4, -1, 6] ])\n",
    "L, D = myLDL(A)\n",
    "display(Latex(r'$L$ ='))\n",
    "display(A)\n",
    "display(Latex(r'$D$ ='))\n",
    "display(D)\n",
    "display(Latex(r'$LD L^T$ ='))\n",
    "display(np.matmul(L,np.matmul(D,L.T)))\n",
    "\n",
    "fig, ax = plt.subplots(nrows=1, ncols=4, figsize=(16, 4))\n",
    "ax = ax.ravel()\n",
    "font = FontProperties()\n",
    "font.set_weight('bold')\n",
    "_ = ax[0].spy(sps.csr_matrix(A), aspect='equal', markersize= 20, color = 'Teal', markeredgecolor = 'Black',\n",
    "              markeredgewidth = 2)\n",
    "_ = ax[0].set_title(r'$A$', fontproperties=font, fontsize = 18)\n",
    "_ = ax[1].spy(sps.csr_matrix(L), aspect='equal', markersize= 20, color = 'OrangeRed', markeredgecolor = 'Black',\n",
    "              marker ='D', markeredgewidth = 2)\n",
    "_ = ax[1].set_title('L', fontproperties=font, fontsize = 18)\n",
    "_ = ax[2].spy(sps.csr_matrix(D), aspect='equal', markersize= 20, color = 'LightGreen', markeredgecolor = 'Black',\n",
    "              marker ='X', markeredgewidth = 2)\n",
    "_ = ax[2].set_title(r'$D$', fontproperties=font, fontsize = 18)\n",
    "_ = ax[3].spy(sps.csr_matrix(L.T), aspect='equal', markersize= 20, color = 'Orchid', markeredgecolor = 'Black',\n",
    "              marker ='o', markeredgewidth = 2)\n",
    "_ = ax[3].set_title(r'$L^T$', fontproperties=font, fontsize = 18)"
   ]
  },
  {
   "cell_type": "markdown",
   "metadata": {},
   "source": [
    "Note that we could get a similar results using function, [```scipy.linalg.ldl```](https://docs.scipy.org/doc/scipy/reference/generated/scipy.linalg.ldl.html)."
   ]
  },
  {
   "cell_type": "code",
   "execution_count": 4,
   "metadata": {},
   "outputs": [
    {
     "data": {
      "text/latex": [
       "$L$ ="
      ],
      "text/plain": [
       "<IPython.core.display.Latex object>"
      ]
     },
     "metadata": {},
     "output_type": "display_data"
    },
    {
     "name": "stdout",
     "output_type": "stream",
     "text": [
      "[[ 1.          0.          0.          0.        ]\n",
      " [ 0.42857143  1.          0.          0.        ]\n",
      " [-0.14285714  0.21276596  1.          0.        ]\n",
      " [ 0.28571429 -0.72340426  0.08982036  1.        ]]\n"
     ]
    },
    {
     "data": {
      "text/latex": [
       "$D$ ="
      ],
      "text/plain": [
       "<IPython.core.display.Latex object>"
      ]
     },
     "metadata": {},
     "output_type": "display_data"
    },
    {
     "name": "stdout",
     "output_type": "stream",
     "text": [
      "[[7.         0.         0.         0.        ]\n",
      " [0.         6.71428571 0.         0.        ]\n",
      " [0.         0.         3.55319149 0.        ]\n",
      " [0.         0.         0.         1.88622754]]\n"
     ]
    }
   ],
   "source": [
    "L, D, P = linalg.ldl(A)\n",
    "display(Latex(r'$L$ ='))\n",
    "print(L)\n",
    "display(Latex(r'$D$ ='))\n",
    "print(D)"
   ]
  },
  {
   "cell_type": "markdown",
   "metadata": {},
   "source": [
    "## Solving Linear systems using LDL decomposition\n",
    "\n",
    "We can solve the linear system $Ax=b$ for $x$ using LDL decomposition. To demonstrate this, we use the following example,\n",
    "\n",
    "Let\n",
    "$$A=\\left[\\begin{array}{cccc} 7 & 3 & -1 & 2\\\\ 3 & 8 & 1 & -4\\\\ -1 & 1 & 4 & -1\\\\ 2 & -4 & -1 & 6 \\end{array}\\right]\n",
    "\\quad \\text{and}\\quad\n",
    "b=\\left[\\begin{array}{c} 7\\\\ 1\\\\ 11\\\\ 15 \\end{array}\\right].$$\n",
    "Then, this linear system can be also expressed as\n",
    "$$Ax=(LDL^T)x=L(D(L^Tx))=b,$$ \t\n",
    "we have,"
   ]
  },
  {
   "cell_type": "code",
   "execution_count": 5,
   "metadata": {},
   "outputs": [
    {
     "data": {
      "text/latex": [
       "$L$ ="
      ],
      "text/plain": [
       "<IPython.core.display.Latex object>"
      ]
     },
     "metadata": {},
     "output_type": "display_data"
    },
    {
     "name": "stdout",
     "output_type": "stream",
     "text": [
      "[[ 1.          0.          0.          0.        ]\n",
      " [ 0.42857143  1.          0.          0.        ]\n",
      " [-0.14285714  0.21276596  1.          0.        ]\n",
      " [ 0.28571429 -0.72340426  0.08982036  1.        ]]\n"
     ]
    },
    {
     "data": {
      "text/latex": [
       "$D$ ="
      ],
      "text/plain": [
       "<IPython.core.display.Latex object>"
      ]
     },
     "metadata": {},
     "output_type": "display_data"
    },
    {
     "name": "stdout",
     "output_type": "stream",
     "text": [
      "[[7.         0.         0.         0.        ]\n",
      " [0.         6.71428571 0.         0.        ]\n",
      " [0.         0.         3.55319149 0.        ]\n",
      " [0.         0.         0.         1.88622754]]\n"
     ]
    }
   ],
   "source": [
    "A = np.array([ [7, 3, -1, 2], [3, 8, 1, -4], [-1, 1, 4, -1], [2, -4, -1, 6] ])\n",
    "b = np.array([[7],[1],[11],[15]])\n",
    "L, D, P = linalg.ldl(A)\n",
    "display(Latex(r'$L$ ='))\n",
    "print(L)\n",
    "display(Latex(r'$D$ ='))\n",
    "print(D)"
   ]
  },
  {
   "cell_type": "markdown",
   "metadata": {},
   "source": [
    "Now we can solve the following linear systems instead\n",
    "$$\\begin{cases}\n",
    "Lz = b,\\\\\n",
    "Dy = z,\\\\\n",
    "B^Tx=y.\n",
    "\\end{cases}$$"
   ]
  },
  {
   "cell_type": "code",
   "execution_count": 6,
   "metadata": {},
   "outputs": [
    {
     "data": {
      "text/latex": [
       "$z$ ="
      ],
      "text/plain": [
       "<IPython.core.display.Latex object>"
      ]
     },
     "metadata": {},
     "output_type": "display_data"
    },
    {
     "name": "stdout",
     "output_type": "stream",
     "text": [
      "[[ 7.        ]\n",
      " [-2.        ]\n",
      " [12.42553191]\n",
      " [10.43712575]]\n"
     ]
    }
   ],
   "source": [
    "# solving Lz=b for z\n",
    "z = np.linalg.solve(L, b)\n",
    "display(Latex(r'$z$ ='))\n",
    "print(z)"
   ]
  },
  {
   "cell_type": "code",
   "execution_count": 7,
   "metadata": {},
   "outputs": [
    {
     "data": {
      "text/latex": [
       "$y$ ="
      ],
      "text/plain": [
       "<IPython.core.display.Latex object>"
      ]
     },
     "metadata": {},
     "output_type": "display_data"
    },
    {
     "name": "stdout",
     "output_type": "stream",
     "text": [
      "[[ 1.        ]\n",
      " [-0.29787234]\n",
      " [ 3.49700599]\n",
      " [ 5.53333333]]\n"
     ]
    }
   ],
   "source": [
    "# solving Lz=b for z\n",
    "y = np.linalg.solve(D, z)\n",
    "display(Latex(r'$y$ ='))\n",
    "print(y)"
   ]
  },
  {
   "cell_type": "code",
   "execution_count": 8,
   "metadata": {},
   "outputs": [
    {
     "data": {
      "text/latex": [
       "$x$ ="
      ],
      "text/plain": [
       "<IPython.core.display.Latex object>"
      ]
     },
     "metadata": {},
     "output_type": "display_data"
    },
    {
     "name": "stdout",
     "output_type": "stream",
     "text": [
      "[[-1.46666667]\n",
      " [ 3.06666667]\n",
      " [ 3.        ]\n",
      " [ 5.53333333]]\n"
     ]
    }
   ],
   "source": [
    "# solving Ux=y for x\n",
    "x = np.linalg.solve(L.T, y)\n",
    "display(Latex(r'$x$ ='))\n",
    "print(x)"
   ]
  },
  {
   "cell_type": "markdown",
   "metadata": {},
   "source": [
    "Let's now solve the linear system directly and compare the results."
   ]
  },
  {
   "cell_type": "code",
   "execution_count": 9,
   "metadata": {},
   "outputs": [
    {
     "data": {
      "text/latex": [
       "$x$ ="
      ],
      "text/plain": [
       "<IPython.core.display.Latex object>"
      ]
     },
     "metadata": {},
     "output_type": "display_data"
    },
    {
     "name": "stdout",
     "output_type": "stream",
     "text": [
      "[[-1.46666667]\n",
      " [ 3.06666667]\n",
      " [ 3.        ]\n",
      " [ 5.53333333]]\n"
     ]
    }
   ],
   "source": [
    "x1 = np.linalg.solve(A, b)\n",
    "display(Latex(r'$x$ ='))\n",
    "print(x1)"
   ]
  },
  {
   "cell_type": "markdown",
   "metadata": {},
   "source": [
    "***\n",
    "# References\n",
    "1. Allaire, Grégoire, et al. Numerical linear algebra. Vol. 55. New York: Springer, 2008.\n",
    "1. Burden, Richard L., and J. Douglas Faires. \"Numerical analysis 8th ed.\" Thomson Brooks/Cole (2005).\n",
    "1. Atkinson, Kendall E. An introduction to numerical analysis. John wiley & sons, 2008.\n",
    "1. Khoury, Richard, and Douglas Wilhelm Harder. Numerical methods and modelling for engineering. Springer, 2016.\n",
    "***"
   ]
  }
 ],
 "metadata": {
  "kernelspec": {
   "display_name": "Python 3",
   "language": "python",
   "name": "python3"
  },
  "language_info": {
   "codemirror_mode": {
    "name": "ipython",
    "version": 3
   },
   "file_extension": ".py",
   "mimetype": "text/x-python",
   "name": "python",
   "nbconvert_exporter": "python",
   "pygments_lexer": "ipython3",
   "version": "3.8.5"
  }
 },
 "nbformat": 4,
 "nbformat_minor": 2
}
