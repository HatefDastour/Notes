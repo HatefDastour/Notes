{
 "cells": [
  {
   "cell_type": "code",
   "execution_count": 5,
   "metadata": {},
   "outputs": [],
   "source": [
    "## displaying the soltuion in laTex format\n",
    "from sympy import *\n",
    "init_printing(use_unicode=True)\n",
    "#\n",
    "from sympy import Function, dsolve, Eq, Derivative, sin, cos, symbols\n",
    "from sympy.solvers.deutils import ode_order\n",
    "from sympy.abc import x\n",
    "x, y, c, a = symbols('x y c a')"
   ]
  },
  {
   "cell_type": "markdown",
   "metadata": {},
   "source": [
    "# Worksheet 02"
   ]
  },
  {
   "cell_type": "markdown",
   "metadata": {},
   "source": [
    "1. Find the general solution\n",
    "    * (a) $y'+ay=0$ ($a$=constant),\n",
    "    * (b) $xy'+3y=0$,\n",
    "    * (c) $y'+2xy=xe^{-x^2}$,\n",
    "    * (d) $xy'+(1+2x^2)y=x^3e^{-x^2}$."
   ]
  },
  {
   "cell_type": "code",
   "execution_count": 6,
   "metadata": {},
   "outputs": [
    {
     "data": {
      "image/png": "[encoded data removed]",
      "text/latex": [
       "$\\displaystyle y{\\left(x \\right)} = C_{1} e^{- a x}$"
      ],
      "text/plain": [
       "           -a⋅x\n",
       "y(x) = C₁⋅ℯ    "
      ]
     },
     "execution_count": 6,
     "metadata": {},
     "output_type": "execute_result"
    }
   ],
   "source": [
    "# (a)\n",
    "y = Function('y')\n",
    "dsolve(Derivative(y(x), x)+a*y(x), y(x))"
   ]
  },
  {
   "cell_type": "code",
   "execution_count": 7,
   "metadata": {
    "scrolled": true
   },
   "outputs": [
    {
     "data": {
      "image/png": "[encoded data removed]",
      "text/latex": [
       "$\\displaystyle y{\\left(x \\right)} = \\frac{C_{1}}{x^{3}}$"
      ],
      "text/plain": [
       "       C₁\n",
       "y(x) = ──\n",
       "        3\n",
       "       x "
      ]
     },
     "execution_count": 7,
     "metadata": {},
     "output_type": "execute_result"
    }
   ],
   "source": [
    "# (b)\n",
    "dsolve(x*Derivative(y(x), x)+3*y(x), y(x))"
   ]
  },
  {
   "cell_type": "code",
   "execution_count": 16,
   "metadata": {
    "scrolled": false
   },
   "outputs": [
    {
     "data": {
      "image/png": "[encoded data removed]",
      "text/latex": [
       "$\\displaystyle y{\\left(x \\right)} = \\left(C_{1} + \\frac{x^{2}}{2}\\right) e^{- x^{2}}$"
      ],
      "text/plain": [
       "       ⎛      2⎞    2\n",
       "       ⎜     x ⎟  -x \n",
       "y(x) = ⎜C₁ + ──⎟⋅ℯ   \n",
       "       ⎝     2 ⎠     "
      ]
     },
     "execution_count": 16,
     "metadata": {},
     "output_type": "execute_result"
    }
   ],
   "source": [
    "# (c)\n",
    "dsolve(Derivative(y(x), x)+ 2*x*y(x) - x/exp(x**(2)), y(x))"
   ]
  },
  {
   "cell_type": "code",
   "execution_count": 18,
   "metadata": {},
   "outputs": [
    {
     "data": {
      "image/png": "[encoded data removed]",
      "text/latex": [
       "$\\displaystyle y{\\left(x \\right)} = \\left(\\frac{C_{1}}{x} + \\frac{x^{3}}{4}\\right) e^{- x^{2}}$"
      ],
      "text/plain": [
       "       ⎛      3⎞    2\n",
       "       ⎜C₁   x ⎟  -x \n",
       "y(x) = ⎜── + ──⎟⋅ℯ   \n",
       "       ⎝x    4 ⎠     "
      ]
     },
     "execution_count": 18,
     "metadata": {},
     "output_type": "execute_result"
    }
   ],
   "source": [
    "# (d)\n",
    "dsolve(x*Derivative(y(x), x)+(1+2*x**2)*y(x)-(x**3)/exp(x**2), y(x))"
   ]
  },
  {
   "cell_type": "markdown",
   "metadata": {},
   "source": [
    "2. Solve the initial value problem.\n",
    "    * (a) $xy'+(1+ x\\cot x)y=0,\\quad y\\left(\\frac{\\pi}{2}\\right)=2$,\n",
    "    * (b) $xy'+2y=8x^2,\\quad y(1)=3$,\n",
    "    * (c) $y'+\\dfrac{3}{x}y=\\dfrac{\\sin x}{x^2},\\quad y(1)=2$."
   ]
  },
  {
   "cell_type": "code",
   "execution_count": 29,
   "metadata": {},
   "outputs": [
    {
     "data": {
      "image/png": "[encoded data removed]",
      "text/latex": [
       "$\\displaystyle y{\\left(x \\right)} = \\frac{C_{1} \\sqrt{\\frac{1}{\\cos^{2}{\\left(x \\right)}}}}{x \\tan{\\left(x \\right)}}$"
      ],
      "text/plain": [
       "               _________\n",
       "              ╱    1    \n",
       "       C₁⋅   ╱  ─────── \n",
       "            ╱      2    \n",
       "          ╲╱    cos (x) \n",
       "y(x) = ─────────────────\n",
       "            x⋅tan(x)    "
      ]
     },
     "execution_count": 29,
     "metadata": {},
     "output_type": "execute_result"
    }
   ],
   "source": [
    "# (a)\n",
    "expand(dsolve(x*Derivative(y(x), x)+(1+x*cot(x))*y(x), y(x)))"
   ]
  },
  {
   "cell_type": "code",
   "execution_count": 20,
   "metadata": {},
   "outputs": [
    {
     "data": {
      "image/png": "[encoded data removed]",
      "text/latex": [
       "$\\displaystyle y{\\left(x \\right)} = \\frac{C_{1}}{x^{2}} + 2 x^{2}$"
      ],
      "text/plain": [
       "       C₁      2\n",
       "y(x) = ── + 2⋅x \n",
       "        2       \n",
       "       x        "
      ]
     },
     "execution_count": 20,
     "metadata": {},
     "output_type": "execute_result"
    }
   ],
   "source": [
    "# (b)\n",
    "dsolve(x*Derivative(y(x), x)+2*y(x)-8*x**2, y(x))"
   ]
  },
  {
   "cell_type": "code",
   "execution_count": 28,
   "metadata": {},
   "outputs": [
    {
     "data": {
      "image/png": "[encoded data removed]",
      "text/latex": [
       "$\\displaystyle y{\\left(x \\right)} = \\frac{C_{1}}{x^{3}} - \\frac{\\cos{\\left(x \\right)}}{x^{2}} + \\frac{\\sin{\\left(x \\right)}}{x^{3}}$"
      ],
      "text/plain": [
       "       C₁   cos(x)   sin(x)\n",
       "y(x) = ── - ────── + ──────\n",
       "        3      2        3  \n",
       "       x      x        x   "
      ]
     },
     "execution_count": 28,
     "metadata": {},
     "output_type": "execute_result"
    }
   ],
   "source": [
    "# (c)\n",
    "expand(dsolve(Derivative(y(x), x)+3*y(x)/x-sin(x)/(x**2), y(x)))"
   ]
  },
  {
   "cell_type": "code",
   "execution_count": null,
   "metadata": {},
   "outputs": [],
   "source": []
  }
 ],
 "metadata": {
  "kernelspec": {
   "display_name": "Python 3",
   "language": "python",
   "name": "python3"
  },
  "language_info": {
   "codemirror_mode": {
    "name": "ipython",
    "version": 3
   },
   "file_extension": ".py",
   "mimetype": "text/x-python",
   "name": "python",
   "nbconvert_exporter": "python",
   "pygments_lexer": "ipython3",
   "version": "3.7.1"
  }
 },
 "nbformat": 4,
 "nbformat_minor": 2
}
