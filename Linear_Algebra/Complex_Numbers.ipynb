{
 "cells": [
  {
   "cell_type": "code",
   "execution_count": 1,
   "metadata": {},
   "outputs": [],
   "source": [
    "from __future__ import division\n",
    "from sympy import *\n",
    "init_printing(use_unicode=True)\n",
    "\n",
    "import numpy as np\n",
    "import cmath\n",
    "\n",
    "import warnings\n",
    "warnings.filterwarnings(\"ignore\")"
   ]
  },
  {
   "cell_type": "markdown",
   "metadata": {},
   "source": [
    "Addition and Subtraction of Complex Numbers\n",
    "-------------------------------------------\n",
    "\n",
    "Two complex numbers are equal if their real parts are equal, and their\n",
    "imaginary parts are equal. Therefore, $z=a+bi$ and $w=c+di$ are equal\n",
    "only if $$\\begin{aligned}\n",
    "a=c \\quad \\text{and} \\quad b=d\\end{aligned}$$\n",
    "\n",
    "The sum and difference of two complex numbers are defined by adding or\n",
    "subtracting their real parts and their imaginary parts:\n",
    "$$\\begin{aligned}\n",
    "z_1+z_2&=\\left(a+b\\,i\\right)+\\left(c+d\\,i\\right)=\\left(a+c\\right)+\\left(b+d\\right)\\,i,\\\\\n",
    "z_1-z_2&=\\left(a+b\\,i\\right)-\\left(c+d\\,i\\right)=\\left(a-c\\right)+\\left(b-d\\right)\\,i.\\end{aligned}$$"
   ]
  },
  {
   "cell_type": "markdown",
   "metadata": {},
   "source": [
    "<font color='red'>**Note**: In python, the imaginary part is shown with $j$</font>"
   ]
  },
  {
   "cell_type": "markdown",
   "metadata": {},
   "source": [
    "**Example**:\n",
    "-   $(-3+6i) + (5-i) =  2+5i$.\n",
    "\n",
    "-   $(4-7i) + (6-2i) =  10-9i$."
   ]
  },
  {
   "cell_type": "markdown",
   "metadata": {},
   "source": [
    "For details please check [cmath](https://docs.python.org/3/library/cmath.html)."
   ]
  },
  {
   "cell_type": "code",
   "execution_count": 2,
   "metadata": {},
   "outputs": [
    {
     "data": {
      "text/plain": [
       "(2+5j)"
      ]
     },
     "execution_count": 2,
     "metadata": {},
     "output_type": "execute_result"
    }
   ],
   "source": [
    "complex(-3,6) + complex(5,-1)"
   ]
  },
  {
   "cell_type": "code",
   "execution_count": 3,
   "metadata": {},
   "outputs": [
    {
     "data": {
      "text/plain": [
       "(10-9j)"
      ]
     },
     "execution_count": 3,
     "metadata": {},
     "output_type": "execute_result"
    }
   ],
   "source": [
    "complex(4,-7) + complex(6,-2)"
   ]
  },
  {
   "cell_type": "markdown",
   "metadata": {},
   "source": [
    "Multiplication of Complex Numbers\n",
    "---------------------------------\n",
    "\n",
    "The product of complex numbers is defined so that the usual commutative\n",
    "and distributive laws hold: $$\\begin{aligned}\n",
    "\\left(a+b\\,i\\right)\\left(c+d\\,i\\right)=a\\left(c+d\\,i\\right)+b\\,i\\left(c+d\\,i\\right)=\n",
    "ac+ad\\,i+bc\\,i+bd\\,i^2.\\end{aligned}$$ Since $i^2=-1$, this becomes\n",
    "$$\\begin{aligned}\n",
    "\\left(a+b\\,i\\right)\\left(c+d\\,i\\right)=ac+ad\\,i+bc\\,i-bd=\\left(ac-bd\\right)+\\left(ad+bc\\right)\\,i.\\end{aligned}$$\n",
    "\n",
    "Let $z=a+bi$ and $w=c+di$ be complex\n",
    "numbers. Then the **product** of $z$ and $w$ is $$\n",
    "\\begin{aligned}\n",
    "zw=\n",
    "(a+bi)(c+di)=\n",
    "(ac-bd)+\n",
    "(ad+bc)i.\n",
    "\\end{aligned}$$"
   ]
  },
  {
   "cell_type": "markdown",
   "metadata": {},
   "source": [
    "**Example**: $(-3+6i) \\times (5-i)$"
   ]
  },
  {
   "cell_type": "code",
   "execution_count": 4,
   "metadata": {},
   "outputs": [
    {
     "data": {
      "text/plain": [
       "(-9+33j)"
      ]
     },
     "execution_count": 4,
     "metadata": {},
     "output_type": "execute_result"
    }
   ],
   "source": [
    "complex(-3,6) * complex(5,-1)"
   ]
  },
  {
   "cell_type": "markdown",
   "metadata": {},
   "source": [
    "Polar Form\n",
    "==========\n",
    "\n",
    "\n",
    "Let $z$ be a complex number with $|z|=r$ and $\\arg z=\\theta$. Then\n",
    "$$\\begin{aligned}\n",
    "z%=re^{i\\theta}\n",
    "=r(\\cos\\theta + i\\sin\\theta )\\end{aligned}$$ is called **a polar form**\n",
    "of $z$."
   ]
  },
  {
   "cell_type": "markdown",
   "metadata": {},
   "source": [
    "**Example**: \n",
    "1.  Let $z = -\\frac{1}{2}+\\frac{\\sqrt{3}}{2}i$ be a complex number.\n",
    "    Write $z$ in the polar form $z =r\\,e^{i\\theta}$.\n",
    "\n",
    "2.  Let $z = 2\\,e^{i\\pi/6}$. Write $z$ in the standard (Cartesian) form\n",
    "    $z = a+b\\,i$."
   ]
  },
  {
   "cell_type": "markdown",
   "metadata": {},
   "source": [
    "For details please check [cmath](https://docs.python.org/3/library/cmath.html)."
   ]
  },
  {
   "cell_type": "code",
   "execution_count": 5,
   "metadata": {},
   "outputs": [
    {
     "data": {
      "image/png": "[encoded data removed]",
      "text/latex": [
       "$\\displaystyle \\left( 0.9999999999999999, \\  2.0943951023931957\\right)$"
      ],
      "text/plain": [
       "(0.9999999999999999, 2.0943951023931957)"
      ]
     },
     "execution_count": 5,
     "metadata": {},
     "output_type": "execute_result"
    }
   ],
   "source": [
    "cmath.polar(complex(-1/2,np.sqrt(3)/2))"
   ]
  },
  {
   "cell_type": "code",
   "execution_count": 6,
   "metadata": {},
   "outputs": [
    {
     "data": {
      "text/plain": [
       "(1.7320508075688774+0.9999999999999999j)"
      ]
     },
     "execution_count": 6,
     "metadata": {},
     "output_type": "execute_result"
    }
   ],
   "source": [
    "cmath.rect(2, cmath.pi/6)"
   ]
  },
  {
   "cell_type": "markdown",
   "metadata": {},
   "source": [
    "***"
   ]
  }
 ],
 "metadata": {
  "kernelspec": {
   "display_name": "Python 3",
   "language": "python",
   "name": "python3"
  },
  "language_info": {
   "codemirror_mode": {
    "name": "ipython",
    "version": 3
   },
   "file_extension": ".py",
   "mimetype": "text/x-python",
   "name": "python",
   "nbconvert_exporter": "python",
   "pygments_lexer": "ipython3",
   "version": "3.7.7"
  }
 },
 "nbformat": 4,
 "nbformat_minor": 4
}
