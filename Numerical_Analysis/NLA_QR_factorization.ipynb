{
 "cells": [
  {
   "cell_type": "code",
   "execution_count": 1,
   "metadata": {},
   "outputs": [],
   "source": [
    "import numpy as np\n",
    "import pandas as pd\n",
    "import scipy.sparse as sps\n",
    "import scipy.linalg as linalg\n",
    "\n",
    "# Visualisation libraries\n",
    "\n",
    "## Text\n",
    "from IPython.display import display, Markdown, Latex\n",
    "\n",
    "\n",
    "## matplotlib\n",
    "import matplotlib.pyplot as plt\n",
    "from matplotlib.patches import Ellipse, Polygon\n",
    "from matplotlib.font_manager import FontProperties\n",
    "\n",
    "# plt setting\n",
    "plt.style.use('seaborn-whitegrid')\n",
    "plt.rcParams['axes.labelsize'] = 14\n",
    "plt.rcParams['xtick.labelsize'] = 12\n",
    "plt.rcParams['ytick.labelsize'] = 12\n",
    "plt.rcParams['text.color'] = 'k'\n",
    "%matplotlib inline\n",
    "\n",
    "import warnings\n",
    "warnings.filterwarnings(\"ignore\")"
   ]
  },
  {
   "cell_type": "markdown",
   "metadata": {},
   "source": [
    "<div class=\"alert alert-block alert-info\">\n",
    "<font size=\"+3\"><b>\n",
    "Numerical Linear Algebra\n",
    "</b></font>\n",
    "</div>\n",
    "\n",
    "\n",
    "# QR\n",
    "\n",
    "\n",
    "Let $A$ be a square matrix. This matrix can be decomposed as $A=QR$\n",
    "where $Q$ is an orthogonal matrix ($Q^{*}Q=QQ^{*}=I$) and $R$ is an upper triangular matrix. Moreover,  if A is invertible and if $R$ is required to be positive, then the factorization is unique.\n",
    "\n",
    "Furthermore, there are several methods for computing the QR decomposition such as  Gram–Schmidt process, Householder transformations, ... Here, we use Gram–Schmidt process."
   ]
  },
  {
   "cell_type": "markdown",
   "metadata": {},
   "source": [
    "Consider matrix $A = \\begin{bmatrix}| & | &  & | \\\\ \\vec{a}_1 & \\vec{a}_2 & \\dots & \\vec{a}_n\\\\\n",
    "| & | &  & | \\end{bmatrix}$ were $ \\vec{a}_i$ are the columns of the full column rank matrix $A$. Now, define the [projection](https://hatefdastour.github.io/notes/Linear_Algebra/Projections.html) as follows:\n",
    "\n",
    "$$\\operatorname {proj} _{\\vec{u} }\\vec{a} ={\\frac {\\left\\langle \\vec{u} ,\\vec{a} \\right\\rangle }{\\left\\langle \\vec{u} ,\\vec{u}\\right\\rangle }}{\\vec{u}}$$\n",
    "Therefore,\n",
    "\n",
    "\\begin{align}\n",
    "\\begin{cases}\n",
    "\\vec{u}_{1}&=\\vec{a}_{1}, &\\vec{e}_{1}&={\\vec{u}_{1} \\over \\|\\vec{u}_{1}\\|}\\\\\n",
    "\\vec{u}_{2}&=\\vec{a}_{2}-\\operatorname {proj} _{\\vec{u}_{1}}\\,\\vec{a}_{2},&\\vec{e}_{2}&={\\vec{u}_{2} \\over \\|\\vec{u}_{2}\\|}\\\\\n",
    "\\vec{u}_{3}&=\\vec{a}_{3}-\\operatorname {proj} _{\\vec{u}_{1}}\\,\\vec{a}_{3}-\\operatorname {proj} _{\\vec{u}_{2}}\\,\\vec{a}_{3},&\\vec{e}_{3}&={\\vec{u}_{3} \\over \\|\\vec{u}_{3}\\|}\\\\&\\vdots &&\\vdots \\\\\n",
    "\\vec{u}_{k}&=\\vec{a}_{k}-\\sum _{j=1}^{k-1}\\operatorname {proj} _{\\vec{u}_{j}}\\,\\vec{a}_{k},&\\vec{e}_{k}&={\\vec{u}_{k} \\over \\|\\vec{u}_{k}\\|}\n",
    "\\end{cases}\n",
    "\\end{align}\n",
    "Now, $\\vec{a}_{i}$ can be expressed as\n",
    "\n",
    "\\begin{align}\n",
    "\\begin{cases}\n",
    "\\vec{a}_{1}&=\\langle \\vec{e}_{1},\\vec{a}_{1}\\rangle \\vec{e}_{1}\\\\\n",
    "\\vec{a}_{2}&=\\langle \\vec{e}_{1},\\vec{a}_{2}\\rangle \\vec{e}_{1}+\\langle \\vec{e}_{2},\\vec{a}_{2}\\rangle \\vec{e}_{2}\\\\\n",
    "\\vec{a}_{3}&=\\langle \\vec{e}_{1},\\vec{a}_{3}\\rangle \\vec{e}_{1}+\\langle \\vec{e}_{2},\\vec{a}_{3}\\rangle \\vec{e}_{2}+\\langle \\vec{e}_{3},\\vec{a}_{3}\\rangle \\vec{e}_{3}\\\\&\\vdots \\\\\n",
    "\\vec{a}_{k}&=\\sum _{j=1}^{k}\\langle \\vec{e}_{j},\\vec{a}_{k}\\rangle \\vec{e}_{j}\n",
    "\\end{cases}\n",
    "\\end{align}\n",
    "\n",
    "where $\\left\\langle \\vec{e}_{i},\\vec{a}_{i}\\right\\rangle =\\left\\|\\vec{u}_{i}\\right\\|$.\n",
    "\n",
    "This can be written in matrix form:\n",
    "\n",
    "\\begin{align}\n",
    "A&=QR\n",
    "\\\\\n",
    "\\begin{bmatrix}a_{11} & a_{12} & \\dots & a_{1n} \\\\ a_{21} & a_{22} & \\dots & a_{2n} \\\\\n",
    "a_{31} & a_{32} & \\dots & a_{3n} \\\\\n",
    "\\vdots & \\vdots &   & \\vdots \\\\ a_{n1} & a_{n2} & \\dots & a_{nn} \\end{bmatrix} &=\n",
    "\\begin{bmatrix}| & | &  & | \\\\ \\vec{e}_1 & \\vec{e}_2 & \\dots & \\vec{e}_n\\\\\n",
    "| & | &  & | \\end{bmatrix}\n",
    "\\begin{bmatrix}\n",
    "\\langle \\vec{e}_{1},\\vec{a}_{1}\\rangle &\\langle \\vec{e}_{1},\\vec{a}_{2}\\rangle &\\langle \\vec{e}_{1},\\vec{a}_{3}\\rangle &\\ldots \n",
    "& \\langle \\vec{e}_{1},\\vec{a}_{n}\\rangle \\\\\n",
    "0&\\langle \\vec{e}_{2},\\vec{a}_{2}\\rangle &\\langle \\vec{e}_{2},\\vec{a}_{3}\\rangle &\\ldots & \\langle \\vec{e}_{2},\\vec{a}_{n}\\rangle\\\\\n",
    "0&0&\\langle \\vec{e}_{3},\\vec{a}_{3}\\rangle &\\ldots & \\langle \\vec{e}_{3},\\vec{a}_{n}\\rangle\\\\\n",
    "\\vdots &\\vdots &\\vdots &\\ddots &\\vdots\\\\\n",
    "0 & 0 & \\dots & \\dots & \\langle \\vec{e}_{n},\\vec{a}_{n} \\rangle \\end{bmatrix}.\n",
    "\\end{align}\n",
    "\n",
    "See [1] for the full derivation of this algorithm. Furthermore, we can prepare a Python code using the above algorithm."
   ]
  },
  {
   "cell_type": "code",
   "execution_count": 2,
   "metadata": {},
   "outputs": [],
   "source": [
    "def myQR(A):\n",
    "    \"\"\"\n",
    "    Input: A\n",
    "    Applies the Gram-Schmidt method to A.\n",
    "    Output: Q, R\n",
    "    \"\"\"\n",
    "    Q = np.zeros(A.shape, dtype = float)\n",
    "    R = np.zeros(A.shape, dtype = float)\n",
    "    A = A.astype(float)\n",
    "    for j in range(A.shape[0]):\n",
    "        T = A[:, j]\n",
    "        for i in range(j):\n",
    "            R[i, j] = np.dot(Q[:, i], A[:, j])\n",
    "            T -= R[i, j] * Q[:, i]\n",
    "        R[j, j] = np.sqrt(np.dot(T, T))\n",
    "        Q[:, j] = T /R[j, j]\n",
    "        del T\n",
    "    return Q, R"
   ]
  },
  {
   "cell_type": "markdown",
   "metadata": {},
   "source": [
    "<font color='Blue'><b>Example</b></font>: Apply $LU$ decomposition on the following matrix.\n",
    "$$A = \\left[\\begin{array}{cccc} 7 & 3 & -1 & 2\\\\ 3 & 8 & 1 & -4\\\\ -1 & 1 & 4 & -1\\\\ 2 & -4 & -1 & 6 \\end{array}\\right]$$"
   ]
  },
  {
   "cell_type": "markdown",
   "metadata": {},
   "source": [
    "We have,"
   ]
  },
  {
   "cell_type": "code",
   "execution_count": 3,
   "metadata": {},
   "outputs": [
    {
     "data": {
      "text/latex": [
       "$Q$ ="
      ],
      "text/plain": [
       "<IPython.core.display.Latex object>"
      ]
     },
     "metadata": {},
     "output_type": "display_data"
    },
    {
     "data": {
      "text/plain": [
       "array([[ 0.8819171 , -0.12001372,  0.10823812, -0.44283568],\n",
       "       [ 0.37796447,  0.75437193, -0.06201752,  0.53312257],\n",
       "       [-0.12598816,  0.18859298,  0.97180277, -0.06449063],\n",
       "       [ 0.25197632, -0.6172134 ,  0.20009425,  0.71799572]])"
      ]
     },
     "metadata": {},
     "output_type": "display_data"
    },
    {
     "data": {
      "text/latex": [
       "$R$ ="
      ],
      "text/plain": [
       "<IPython.core.display.Latex object>"
      ]
     },
     "metadata": {},
     "output_type": "display_data"
    },
    {
     "data": {
      "text/plain": [
       "array([[ 7.93725393,  4.53557368, -1.25988158,  1.88982237],\n",
       "       [ 0.        ,  8.3323809 ,  2.24597098, -7.14938855],\n",
       "       [ 0.        ,  0.        ,  3.51686121,  0.69330902],\n",
       "       [ 0.        ,  0.        ,  0.        ,  1.35430329]])"
      ]
     },
     "metadata": {},
     "output_type": "display_data"
    },
    {
     "data": {
      "text/latex": [
       "$QR$ ="
      ],
      "text/plain": [
       "<IPython.core.display.Latex object>"
      ]
     },
     "metadata": {},
     "output_type": "display_data"
    },
    {
     "data": {
      "text/plain": [
       "array([[ 7.,  3., -1.,  2.],\n",
       "       [ 3.,  8.,  1., -4.],\n",
       "       [-1.,  1.,  4., -1.],\n",
       "       [ 2., -4., -1.,  6.]])"
      ]
     },
     "metadata": {},
     "output_type": "display_data"
    },
    {
     "data": {
      "text/latex": [
       "$QQ^T$ ="
      ],
      "text/plain": [
       "<IPython.core.display.Latex object>"
      ]
     },
     "metadata": {},
     "output_type": "display_data"
    },
    {
     "data": {
      "text/plain": [
       "array([[ 1., -0., -0.,  0.],\n",
       "       [-0.,  1.,  0., -0.],\n",
       "       [-0.,  0.,  1.,  0.],\n",
       "       [ 0., -0.,  0.,  1.]])"
      ]
     },
     "metadata": {},
     "output_type": "display_data"
    },
    {
     "data": {
      "text/latex": [
       "$Q^TQ$ ="
      ],
      "text/plain": [
       "<IPython.core.display.Latex object>"
      ]
     },
     "metadata": {},
     "output_type": "display_data"
    },
    {
     "data": {
      "text/plain": [
       "array([[ 1.,  0.,  0., -0.],\n",
       "       [ 0.,  1., -0.,  0.],\n",
       "       [ 0., -0.,  1.,  0.],\n",
       "       [-0.,  0.,  0.,  1.]])"
      ]
     },
     "metadata": {},
     "output_type": "display_data"
    },
    {
     "data": {
      "image/png": "[encoded data removed]",
      "text/plain": [
       "<Figure size 1152x576 with 5 Axes>"
      ]
     },
     "metadata": {
      "needs_background": "light"
     },
     "output_type": "display_data"
    }
   ],
   "source": [
    "A = np.array([ [7, 3, -1, 2], [3, 8, 1, -4], [-1, 1, 4, -1], [2, -4, -1, 6] ])\n",
    "Q, R = myQR(A)\n",
    "display(Latex(r'$Q$ ='))\n",
    "display(Q)\n",
    "display(Latex(r'$R$ ='))\n",
    "display(R)\n",
    "display(Latex(r'$QR$ ='))\n",
    "display(Q@R)\n",
    "display(Latex(r'$QQ^T$ ='))\n",
    "display(np.round(Q@(Q.T), 2))\n",
    "display(Latex(r'$Q^TQ$ ='))\n",
    "display(np.round((Q.T)@Q, 2))\n",
    "\n",
    "\n",
    "fig, ax = plt.subplots(nrows=2, ncols=3, figsize=(16, 8))\n",
    "ax = ax.ravel()\n",
    "_ = fig.delaxes(ax[-1])\n",
    "font = FontProperties()\n",
    "font.set_weight('bold')\n",
    "_ = ax[0].spy(sps.csr_matrix(A), aspect='equal', markersize= 20, color = 'Teal', markeredgecolor = 'Black',\n",
    "              markeredgewidth = 2)\n",
    "_ = ax[0].set_title(r'$A$', fontproperties=font, fontsize = 18)\n",
    "_ = ax[1].spy(sps.csr_matrix(Q), aspect='equal', markersize= 20, color = 'OrangeRed', markeredgecolor = 'Black',\n",
    "              marker ='D', markeredgewidth = 2)\n",
    "_ = ax[1].set_title(r'$Q$', fontproperties=font, fontsize = 18)\n",
    "_ = ax[2].spy(sps.csr_matrix(R), aspect='equal', markersize= 20, color = 'LightGreen', markeredgecolor = 'Black',\n",
    "              marker ='X', markeredgewidth = 2)\n",
    "_ = ax[2].set_title(r'$R$', fontproperties=font, fontsize = 18)\n",
    "\n",
    "_ = ax[3].spy(sps.csr_matrix(np.round(Q@(Q.T), 2)), aspect='equal', markersize= 20, color = 'SpringGreen',\n",
    "              markeredgecolor = 'Black', marker = \"o\", markeredgewidth = 2)\n",
    "_ = ax[3].set_title(r'$QQ^T$', fontproperties=font, fontsize = 18)\n",
    "_ = ax[4].spy(sps.csr_matrix(np.round((Q.T)@Q, 2)), aspect='equal', markersize= 20, color = 'MediumPurple',\n",
    "              markeredgecolor = 'Black', marker = \"o\", markeredgewidth = 2)\n",
    "_ = ax[4].set_title(r'$Q^TQ$', fontproperties=font, fontsize = 18)"
   ]
  },
  {
   "cell_type": "markdown",
   "metadata": {},
   "source": [
    "Note that we could get a similar results using function, [```np.linalg.qr```](https://numpy.org/doc/stable/reference/generated/numpy.linalg.qr.html)."
   ]
  },
  {
   "cell_type": "code",
   "execution_count": 4,
   "metadata": {},
   "outputs": [
    {
     "data": {
      "text/latex": [
       "$Q$ ="
      ],
      "text/plain": [
       "<IPython.core.display.Latex object>"
      ]
     },
     "metadata": {},
     "output_type": "display_data"
    },
    {
     "name": "stdout",
     "output_type": "stream",
     "text": [
      "[[-0.8819171   0.12001372 -0.10823812 -0.44283568]\n",
      " [-0.37796447 -0.75437193  0.06201752  0.53312257]\n",
      " [ 0.12598816 -0.18859298 -0.97180277 -0.06449063]\n",
      " [-0.25197632  0.6172134  -0.20009425  0.71799572]]\n"
     ]
    },
    {
     "data": {
      "text/latex": [
       "$R$ ="
      ],
      "text/plain": [
       "<IPython.core.display.Latex object>"
      ]
     },
     "metadata": {},
     "output_type": "display_data"
    },
    {
     "name": "stdout",
     "output_type": "stream",
     "text": [
      "[[-7.93725393 -4.53557368  1.25988158 -1.88982237]\n",
      " [ 0.         -8.3323809  -2.24597098  7.14938855]\n",
      " [ 0.          0.         -3.51686121 -0.69330902]\n",
      " [ 0.          0.          0.          1.35430329]]\n"
     ]
    },
    {
     "data": {
      "text/latex": [
       "$QR$ ="
      ],
      "text/plain": [
       "<IPython.core.display.Latex object>"
      ]
     },
     "metadata": {},
     "output_type": "display_data"
    },
    {
     "data": {
      "text/plain": [
       "array([[ 7.,  3., -1.,  2.],\n",
       "       [ 3.,  8.,  1., -4.],\n",
       "       [-1.,  1.,  4., -1.],\n",
       "       [ 2., -4., -1.,  6.]])"
      ]
     },
     "metadata": {},
     "output_type": "display_data"
    },
    {
     "data": {
      "text/latex": [
       "$QQ^T$ ="
      ],
      "text/plain": [
       "<IPython.core.display.Latex object>"
      ]
     },
     "metadata": {},
     "output_type": "display_data"
    },
    {
     "data": {
      "text/plain": [
       "array([[ 1.,  0., -0.,  0.],\n",
       "       [ 0.,  1.,  0., -0.],\n",
       "       [-0.,  0.,  1., -0.],\n",
       "       [ 0., -0., -0.,  1.]])"
      ]
     },
     "metadata": {},
     "output_type": "display_data"
    },
    {
     "data": {
      "text/latex": [
       "$Q^TQ$ ="
      ],
      "text/plain": [
       "<IPython.core.display.Latex object>"
      ]
     },
     "metadata": {},
     "output_type": "display_data"
    },
    {
     "data": {
      "text/plain": [
       "array([[ 1.,  0., -0.,  0.],\n",
       "       [ 0.,  1.,  0.,  0.],\n",
       "       [-0.,  0.,  1.,  0.],\n",
       "       [ 0.,  0.,  0.,  1.]])"
      ]
     },
     "metadata": {},
     "output_type": "display_data"
    }
   ],
   "source": [
    "Q, R = np.linalg.qr(A)\n",
    "display(Latex(r'$Q$ ='))\n",
    "print(Q)\n",
    "display(Latex(r'$R$ ='))\n",
    "print(R)\n",
    "display(Latex(r'$QR$ ='))\n",
    "display(Q@R)\n",
    "display(Latex(r'$QQ^T$ ='))\n",
    "display(np.round(Q@(Q.T), 2))\n",
    "display(Latex(r'$Q^TQ$ ='))\n",
    "display(np.round((Q.T)@Q, 2))"
   ]
  },
  {
   "cell_type": "markdown",
   "metadata": {},
   "source": [
    "## Solving Linear systems using QR factorization\n",
    "\n",
    "We can solve the linear system $Ax=b$ for $x$ using QR factorization. To demonstrate this, we use the following example,\n",
    "\n",
    "Let\n",
    "$$A=\\left[\\begin{array}{cccc} 7 & 3 & -1 & 2\\\\ 3 & 8 & 1 & -4\\\\ -1 & 1 & 4 & -1\\\\ 2 & -4 & -1 & 6 \\end{array}\\right]\n",
    "\\quad \\text{and}\\quad\n",
    "b=\\left[\\begin{array}{c} 7\\\\ 1\\\\ 11\\\\ 15 \\end{array}\\right].$$\n",
    "Then, this linear system can be also expressed as\n",
    "$$Ax=(QR)x=Q(Rx)=b,$$ \t\n",
    "we have,"
   ]
  },
  {
   "cell_type": "code",
   "execution_count": 5,
   "metadata": {},
   "outputs": [
    {
     "data": {
      "text/latex": [
       "$Q$ ="
      ],
      "text/plain": [
       "<IPython.core.display.Latex object>"
      ]
     },
     "metadata": {},
     "output_type": "display_data"
    },
    {
     "name": "stdout",
     "output_type": "stream",
     "text": [
      "[[-0.8819171   0.12001372 -0.10823812 -0.44283568]\n",
      " [-0.37796447 -0.75437193  0.06201752  0.53312257]\n",
      " [ 0.12598816 -0.18859298 -0.97180277 -0.06449063]\n",
      " [-0.25197632  0.6172134  -0.20009425  0.71799572]]\n"
     ]
    },
    {
     "data": {
      "text/latex": [
       "$R$ ="
      ],
      "text/plain": [
       "<IPython.core.display.Latex object>"
      ]
     },
     "metadata": {},
     "output_type": "display_data"
    },
    {
     "name": "stdout",
     "output_type": "stream",
     "text": [
      "[[-7.93725393 -4.53557368  1.25988158 -1.88982237]\n",
      " [ 0.         -8.3323809  -2.24597098  7.14938855]\n",
      " [ 0.          0.         -3.51686121 -0.69330902]\n",
      " [ 0.          0.          0.          1.35430329]]\n"
     ]
    }
   ],
   "source": [
    "A = np.array([ [7, 3, -1, 2], [3, 8, 1, -4], [-1, 1, 4, -1], [2, -4, -1, 6] ])\n",
    "b = np.array([[7],[1],[11],[15]])\n",
    "Q, R = np.linalg.qr(A)\n",
    "display(Latex(r'$Q$ ='))\n",
    "print(Q)\n",
    "display(Latex(r'$R$ ='))\n",
    "print(R)"
   ]
  },
  {
   "cell_type": "markdown",
   "metadata": {},
   "source": [
    "Now we can solve the following linear systems instead\n",
    "$$\\begin{cases}\n",
    "Qy = b,\\\\\n",
    "Rx=y.\n",
    "\\end{cases}$$"
   ]
  },
  {
   "cell_type": "code",
   "execution_count": 6,
   "metadata": {},
   "outputs": [
    {
     "data": {
      "text/latex": [
       "$y$ ="
      ],
      "text/plain": [
       "<IPython.core.display.Latex object>"
      ]
     },
     "metadata": {},
     "output_type": "display_data"
    },
    {
     "name": "stdout",
     "output_type": "stream",
     "text": [
      "[[ -8.94515919]\n",
      " [  7.26940226]\n",
      " [-14.38689355]\n",
      " [  7.49381157]]\n"
     ]
    }
   ],
   "source": [
    "# solving Lz=b for z\n",
    "y = np.linalg.solve(Q, b)\n",
    "display(Latex(r'$y$ ='))\n",
    "print(y)"
   ]
  },
  {
   "cell_type": "code",
   "execution_count": 7,
   "metadata": {},
   "outputs": [
    {
     "data": {
      "text/latex": [
       "$x$ ="
      ],
      "text/plain": [
       "<IPython.core.display.Latex object>"
      ]
     },
     "metadata": {},
     "output_type": "display_data"
    },
    {
     "name": "stdout",
     "output_type": "stream",
     "text": [
      "[[-1.46666667]\n",
      " [ 3.06666667]\n",
      " [ 3.        ]\n",
      " [ 5.53333333]]\n"
     ]
    }
   ],
   "source": [
    "# solving Ux=y for x\n",
    "x = np.linalg.solve(R, y)\n",
    "display(Latex(r'$x$ ='))\n",
    "print(x)"
   ]
  },
  {
   "cell_type": "markdown",
   "metadata": {},
   "source": [
    "Let's now solve the linear system directly and compare the results."
   ]
  },
  {
   "cell_type": "code",
   "execution_count": 8,
   "metadata": {},
   "outputs": [
    {
     "data": {
      "text/latex": [
       "$x$ ="
      ],
      "text/plain": [
       "<IPython.core.display.Latex object>"
      ]
     },
     "metadata": {},
     "output_type": "display_data"
    },
    {
     "name": "stdout",
     "output_type": "stream",
     "text": [
      "[[-1.46666667]\n",
      " [ 3.06666667]\n",
      " [ 3.        ]\n",
      " [ 5.53333333]]\n"
     ]
    }
   ],
   "source": [
    "x1 = np.linalg.solve(A, b)\n",
    "display(Latex(r'$x$ ='))\n",
    "print(x1)"
   ]
  },
  {
   "cell_type": "markdown",
   "metadata": {},
   "source": [
    "***\n",
    "# References\n",
    "1. Allaire, Grégoire, et al. Numerical linear algebra. Vol. 55. New York: Springer, 2008.\n",
    "1. Burden, Richard L., and J. Douglas Faires. \"Numerical analysis 8th ed.\" Thomson Brooks/Cole (2005).\n",
    "1. Atkinson, Kendall E. An introduction to numerical analysis. John wiley & sons, 2008.\n",
    "1. Khoury, Richard, and Douglas Wilhelm Harder. Numerical methods and modelling for engineering. Springer, 2016.\n",
    "***"
   ]
  }
 ],
 "metadata": {
  "kernelspec": {
   "display_name": "Python 3",
   "language": "python",
   "name": "python3"
  },
  "language_info": {
   "codemirror_mode": {
    "name": "ipython",
    "version": 3
   },
   "file_extension": ".py",
   "mimetype": "text/x-python",
   "name": "python",
   "nbconvert_exporter": "python",
   "pygments_lexer": "ipython3",
   "version": "3.8.5"
  }
 },
 "nbformat": 4,
 "nbformat_minor": 2
}
