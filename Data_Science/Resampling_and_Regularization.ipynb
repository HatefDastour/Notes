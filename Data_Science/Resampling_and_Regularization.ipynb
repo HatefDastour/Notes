{
 "cells": [
  {
   "cell_type": "code",
   "execution_count": 1,
   "metadata": {},
   "outputs": [],
   "source": [
    "import pandas as pd\n",
    "import numpy as np\n",
    "\n",
    "from sklearn.model_selection import cross_val_score, GridSearchCV, train_test_split\n",
    "from sklearn.linear_model import LinearRegression, Ridge, Lasso\n",
    "from sklearn import metrics\n",
    "\n",
    "# Visualisation libraries\n",
    "\n",
    "## Text\n",
    "from colorama import Fore, Back, Style\n",
    "from IPython.display import display, Markdown, Latex\n",
    "import re\n",
    "\n",
    "## seaborn\n",
    "import seaborn as sns\n",
    "sns.set_context(\"paper\", rc={\"font.size\":12,\"axes.titlesize\":14,\"axes.labelsize\":12})\n",
    "sns.set_style(\"whitegrid\")\n",
    "\n",
    "## matplotlib\n",
    "import matplotlib.pyplot as plt\n",
    "from matplotlib.patches import Ellipse, Polygon\n",
    "import matplotlib.gridspec as gridspec\n",
    "plt.style.use('seaborn-whitegrid')\n",
    "plt.rcParams['axes.labelsize'] = 14\n",
    "plt.rcParams['xtick.labelsize'] = 12\n",
    "plt.rcParams['ytick.labelsize'] = 12\n",
    "plt.rcParams['text.color'] = 'k'\n",
    "%matplotlib inline\n",
    "\n",
    "import warnings\n",
    "warnings.filterwarnings(\"ignore\")"
   ]
  },
  {
   "cell_type": "markdown",
   "metadata": {},
   "source": [
    "<div class=\"alert alert-block alert-info\">\n",
    "<font size=\"+2\"><b>\n",
    "The Importance of Resampling and Regularization\n",
    "</b></font>\n",
    "</div>\n",
    "\n",
    "* [Ridge regression](#Ridge-regression)\n",
    "* [Lasso regression](#Lasso-regression)\n",
    "* [Advertising Example](#Advertising-Example)\n",
    "    * [Linear Regression](#Linear-Regression)\n",
    "    * [Ridge Regression](#Ridge-Regression)\n",
    "    * [Lasso Regression](#Lasso-Regression)\n",
    "    * [The comparison](#The-comparison)"
   ]
  },
  {
   "cell_type": "markdown",
   "metadata": {},
   "source": [
    "Recall the [inear regression](https://hatefdastour.github.io/files/Statistical_Learning/Linear_Regression.html) The linear regression model is expressed as follows\n",
    "$$Y= \\beta_0 + \\sum_{j=1}^{p}\\beta_{j} X_{j},$$\n",
    "where $X_j$ represents the j-th predictor and $\\beta_j$ quantifies the association between that variable and the response.\n",
    "\n",
    "The polynomial degree plays an important role in the model fitting. The polynomial degree can cause *overfitting* or *Underfitting*. Both underfit and overfit models cannot accurately present the data. Regularization methods can prevent overfitting/underfitting.\n",
    "\n",
    "\n",
    "Let $n$ and $p$ represent the number of observations and the number of predictors, respectively. Now\n",
    "\n",
    "* If $n>p$: the least squares estimates tend to have low variance and perform well.\n",
    "* If $n\\leq p$: then variance approaches infinite and the method is unusable.\n",
    "\n",
    "\n",
    "The linear models can be improved by implementing other fitting procedures instead of least squares. In this article, we compare **ridge regression** and the **lasso regression** method with the linear regression."
   ]
  },
  {
   "cell_type": "markdown",
   "metadata": {},
   "source": [
    "## Ridge regression\n",
    "\n",
    "This  regression equation can be expressed in matrix form as\n",
    "$$Y = XB + ERR$$\n",
    "where \n",
    "* $Y$: the dependent variable,\n",
    "* $X$: the independent variables,\n",
    "* $B$: the regression coefficients to be estimated,\n",
    "* **ERR**: the errors are residuals.\n",
    "\n",
    "Note that **Tikhonov regularization** known as **ridge regression** in statistics, and it is known as **weight decay** in machine learning."
   ]
  },
  {
   "cell_type": "markdown",
   "metadata": {},
   "source": [
    "## Lasso regression\n",
    "\n",
    "minimization of function [[Source](https://en.wikipedia.org/wiki/Lasso_(statistics))],\n",
    "\n",
    "$$\\min _{\\beta \\in \\mathbb {R} ^{p}}\\left\\{{\\frac {1}{N}}\\left\\|y-X\\beta \\right\\|_{2}^{2}+\\lambda \\sum _{j=1}^{p}\\vartheta (\\beta _{j}^{2})\\right\\},$$\n",
    "\n",
    "where \n",
    "* $\\vartheta (\\gamma )$ is an arbitrary concave monotonically increasing function (for example, $ \\vartheta (\\gamma )={\\sqrt {\\gamma }}$ gives the lasso penalty,\n",
    "* $ \\vartheta (\\gamma )=\\gamma ^{1/4}$ gives the $ \\ell ^{1/2}$ penalty)."
   ]
  },
  {
   "cell_type": "markdown",
   "metadata": {},
   "source": [
    "## Advertising Example"
   ]
  },
  {
   "cell_type": "markdown",
   "metadata": {},
   "source": [
    "Consider the advertising example from *[An Introduction to Statistical Learning](https://link.springer.com/book/10.1007/978-1-4614-7138-7)*."
   ]
  },
  {
   "cell_type": "code",
   "execution_count": 2,
   "metadata": {
    "scrolled": true
   },
   "outputs": [
    {
     "data": {
      "text/html": [
       "<div>\n",
       "<style scoped>\n",
       "    .dataframe tbody tr th:only-of-type {\n",
       "        vertical-align: middle;\n",
       "    }\n",
       "\n",
       "    .dataframe tbody tr th {\n",
       "        vertical-align: top;\n",
       "    }\n",
       "\n",
       "    .dataframe thead th {\n",
       "        text-align: right;\n",
       "    }\n",
       "</style>\n",
       "<table border=\"1\" class=\"dataframe\">\n",
       "  <thead>\n",
       "    <tr style=\"text-align: right;\">\n",
       "      <th></th>\n",
       "      <th>TV</th>\n",
       "      <th>Radio</th>\n",
       "      <th>Newspaper</th>\n",
       "      <th>Sales</th>\n",
       "    </tr>\n",
       "  </thead>\n",
       "  <tbody>\n",
       "    <tr>\n",
       "      <th>0</th>\n",
       "      <td>230.1</td>\n",
       "      <td>37.8</td>\n",
       "      <td>69.2</td>\n",
       "      <td>22.1</td>\n",
       "    </tr>\n",
       "    <tr>\n",
       "      <th>1</th>\n",
       "      <td>44.5</td>\n",
       "      <td>39.3</td>\n",
       "      <td>45.1</td>\n",
       "      <td>10.4</td>\n",
       "    </tr>\n",
       "    <tr>\n",
       "      <th>2</th>\n",
       "      <td>17.2</td>\n",
       "      <td>45.9</td>\n",
       "      <td>69.3</td>\n",
       "      <td>9.3</td>\n",
       "    </tr>\n",
       "    <tr>\n",
       "      <th>3</th>\n",
       "      <td>151.5</td>\n",
       "      <td>41.3</td>\n",
       "      <td>58.5</td>\n",
       "      <td>18.5</td>\n",
       "    </tr>\n",
       "    <tr>\n",
       "      <th>4</th>\n",
       "      <td>180.8</td>\n",
       "      <td>10.8</td>\n",
       "      <td>58.4</td>\n",
       "      <td>12.9</td>\n",
       "    </tr>\n",
       "  </tbody>\n",
       "</table>\n",
       "</div>"
      ],
      "text/plain": [
       "      TV  Radio  Newspaper  Sales\n",
       "0  230.1   37.8       69.2   22.1\n",
       "1   44.5   39.3       45.1   10.4\n",
       "2   17.2   45.9       69.3    9.3\n",
       "3  151.5   41.3       58.5   18.5\n",
       "4  180.8   10.8       58.4   12.9"
      ]
     },
     "execution_count": 2,
     "metadata": {},
     "output_type": "execute_result"
    }
   ],
   "source": [
    "df = pd.read_csv('Data/Advertising.csv')\n",
    "df.head()"
   ]
  },
  {
   "cell_type": "markdown",
   "metadata": {},
   "source": [
    "First, let plot the data."
   ]
  },
  {
   "cell_type": "code",
   "execution_count": 3,
   "metadata": {
    "scrolled": false
   },
   "outputs": [
    {
     "data": {
      "image/png": "[encoded data removed]",
      "text/plain": [
       "<Figure size 1296x360 with 3 Axes>"
      ]
     },
     "metadata": {
      "needs_background": "light"
     },
     "output_type": "display_data"
    }
   ],
   "source": [
    "fig, ax = plt.subplots(nrows=1, ncols=3, figsize=(18, 5), sharex=False)\n",
    "_ = ax[0].set_title('TV - Sales', fontsize = 14);\n",
    "_ = df.plot(ax=ax[0],x ='TV', y='Sales', kind = 'scatter', c='Purple')\n",
    "_ = ax[1].set_title('Radio - Sales', fontsize = 14);\n",
    "_ = df.plot(ax=ax[1],x ='Radio', y='Sales', kind = 'scatter', c='DarkBlue')\n",
    "_ = ax[2].set_title('TV - Sales', fontsize = 14);\n",
    "_ = df.plot(ax=ax[2],x ='Newspaper', y='Sales', kind = 'scatter', c='DarkGreen')"
   ]
  },
  {
   "cell_type": "code",
   "execution_count": 4,
   "metadata": {},
   "outputs": [
    {
     "data": {
      "image/png": "[encoded data removed]",
      "text/plain": [
       "<Figure size 432x432 with 2 Axes>"
      ]
     },
     "metadata": {
      "needs_background": "light"
     },
     "output_type": "display_data"
    }
   ],
   "source": [
    "def Correlation_Plot (Df,Fig_Size):\n",
    "    Correlation_Matrix = Df.corr().round(2)\n",
    "    mask = np.zeros_like(Correlation_Matrix)\n",
    "    mask[np.triu_indices_from(mask)] = True\n",
    "    for i in range(len(mask)):\n",
    "        mask[i,i]=0\n",
    "    Fig, ax = plt.subplots(figsize=(Fig_Size,Fig_Size))\n",
    "    sns.heatmap(Correlation_Matrix, ax=ax, mask=mask, annot=True, square=True, \n",
    "                cmap =sns.color_palette(\"RdYlGn\", n_colors=10), linewidths = 0.2, vmin=0, vmax=1, annot_kws={\"size\": 12.5},\n",
    "                cbar_kws={\"shrink\": .5})\n",
    "    bottom, top = ax.get_ylim()\n",
    "\n",
    "Correlation_Plot (df, 6)"
   ]
  },
  {
   "cell_type": "markdown",
   "metadata": {},
   "source": [
    "We can see that the correlation between radio and newspaper is about $0.35$. In other words, we can see a tendency to spend more on newspaper advertising in markets where more is spent on radio advertising."
   ]
  },
  {
   "cell_type": "markdown",
   "metadata": {},
   "source": [
    "## Train and Test Sets"
   ]
  },
  {
   "cell_type": "code",
   "execution_count": 5,
   "metadata": {},
   "outputs": [
    {
     "data": {
      "text/html": [
       "<div>\n",
       "<style scoped>\n",
       "    .dataframe tbody tr th:only-of-type {\n",
       "        vertical-align: middle;\n",
       "    }\n",
       "\n",
       "    .dataframe tbody tr th {\n",
       "        vertical-align: top;\n",
       "    }\n",
       "\n",
       "    .dataframe thead th {\n",
       "        text-align: right;\n",
       "    }\n",
       "</style>\n",
       "<table border=\"1\" class=\"dataframe\">\n",
       "  <thead>\n",
       "    <tr style=\"text-align: right;\">\n",
       "      <th>Set</th>\n",
       "      <th>X_train</th>\n",
       "      <th>X_test</th>\n",
       "      <th>y_train</th>\n",
       "      <th>y_test</th>\n",
       "    </tr>\n",
       "  </thead>\n",
       "  <tbody>\n",
       "    <tr>\n",
       "      <th>Shape</th>\n",
       "      <td>(140, 3)</td>\n",
       "      <td>(60, 3)</td>\n",
       "      <td>(140,)</td>\n",
       "      <td>(60,)</td>\n",
       "    </tr>\n",
       "  </tbody>\n",
       "</table>\n",
       "</div>"
      ],
      "text/plain": [
       "Set     X_train   X_test y_train y_test\n",
       "Shape  (140, 3)  (60, 3)  (140,)  (60,)"
      ]
     },
     "execution_count": 5,
     "metadata": {},
     "output_type": "execute_result"
    }
   ],
   "source": [
    "X = df.drop(columns = 'Sales')\n",
    "y = df['Sales']\n",
    "\n",
    "X_train, X_test, y_train, y_test = train_test_split(X, y, test_size=0.3, random_state=42)\n",
    "pd.DataFrame(data={'Set':['X_train','X_test','y_train','y_test'],\n",
    "               'Shape':[X_train.shape, X_test.shape, y_train.shape, y_test.shape]}).set_index('Set').T"
   ]
  },
  {
   "cell_type": "code",
   "execution_count": 6,
   "metadata": {},
   "outputs": [],
   "source": [
    "def Accuracy_Table(clf, X_test = X_test, y_test = y_test):\n",
    "    Text = re.sub(r\"(\\w)([A-Z])\", r\"\\1 \\2\", re.split('[()]', str(clf))[0])\n",
    "    Out = pd.DataFrame({'MSE': [-cross_val_score(clf, X_train, y_train, scoring='neg_mean_squared_error', cv=10).mean()],\n",
    "                        'R2': [cross_val_score(clf, X_train, y_train, scoring='r2', cv=10).mean()]}, index = [Text])\n",
    "    return Out"
   ]
  },
  {
   "cell_type": "markdown",
   "metadata": {},
   "source": [
    "## Linear Regression"
   ]
  },
  {
   "cell_type": "code",
   "execution_count": 7,
   "metadata": {},
   "outputs": [
    {
     "data": {
      "text/html": [
       "<div>\n",
       "<style scoped>\n",
       "    .dataframe tbody tr th:only-of-type {\n",
       "        vertical-align: middle;\n",
       "    }\n",
       "\n",
       "    .dataframe tbody tr th {\n",
       "        vertical-align: top;\n",
       "    }\n",
       "\n",
       "    .dataframe thead th {\n",
       "        text-align: right;\n",
       "    }\n",
       "</style>\n",
       "<table border=\"1\" class=\"dataframe\">\n",
       "  <thead>\n",
       "    <tr style=\"text-align: right;\">\n",
       "      <th></th>\n",
       "      <th>MSE</th>\n",
       "      <th>R2</th>\n",
       "    </tr>\n",
       "  </thead>\n",
       "  <tbody>\n",
       "    <tr>\n",
       "      <th>Linear Regression</th>\n",
       "      <td>2.762389</td>\n",
       "      <td>0.874688</td>\n",
       "    </tr>\n",
       "  </tbody>\n",
       "</table>\n",
       "</div>"
      ],
      "text/plain": [
       "                        MSE        R2\n",
       "Linear Regression  2.762389  0.874688"
      ]
     },
     "execution_count": 7,
     "metadata": {},
     "output_type": "execute_result"
    }
   ],
   "source": [
    "lr = LinearRegression()\n",
    "_ = lr.fit(X_train, y_train)\n",
    "Accuracy_Table(lr)"
   ]
  },
  {
   "cell_type": "markdown",
   "metadata": {},
   "source": [
    "## Ridge Regression "
   ]
  },
  {
   "cell_type": "code",
   "execution_count": 8,
   "metadata": {},
   "outputs": [
    {
     "data": {
      "text/latex": [
       "Best Parameters: $\\alpha$ = 20.0000"
      ],
      "text/plain": [
       "<IPython.core.display.Latex object>"
      ]
     },
     "metadata": {},
     "output_type": "display_data"
    },
    {
     "data": {
      "text/html": [
       "<div>\n",
       "<style scoped>\n",
       "    .dataframe tbody tr th:only-of-type {\n",
       "        vertical-align: middle;\n",
       "    }\n",
       "\n",
       "    .dataframe tbody tr th {\n",
       "        vertical-align: top;\n",
       "    }\n",
       "\n",
       "    .dataframe thead th {\n",
       "        text-align: right;\n",
       "    }\n",
       "</style>\n",
       "<table border=\"1\" class=\"dataframe\">\n",
       "  <thead>\n",
       "    <tr style=\"text-align: right;\">\n",
       "      <th></th>\n",
       "      <th>MSE</th>\n",
       "      <th>R2</th>\n",
       "    </tr>\n",
       "  </thead>\n",
       "  <tbody>\n",
       "    <tr>\n",
       "      <th>Ridge</th>\n",
       "      <td>2.762309</td>\n",
       "      <td>0.8747</td>\n",
       "    </tr>\n",
       "  </tbody>\n",
       "</table>\n",
       "</div>"
      ],
      "text/plain": [
       "            MSE      R2\n",
       "Ridge  2.762309  0.8747"
      ]
     },
     "execution_count": 8,
     "metadata": {},
     "output_type": "execute_result"
    }
   ],
   "source": [
    "params={'alpha':np.concatenate((10.**(np.arange(-15,1,2)),10*np.arange(0.,3.,1)), axis=0, out=None)}\n",
    "ridge = GridSearchCV(Ridge(), params, scoring='neg_mean_squared_error',cv=10)\n",
    "_ = ridge.fit(X_train, y_train)\n",
    "\n",
    "display(Latex(r'Best Parameters: $\\alpha$ = %.4f' % ridge.best_params_['alpha']))\n",
    "ridge = Ridge(alpha=ridge.best_params_['alpha'])\n",
    "_ = ridge.fit(X_train, y_train)\n",
    "Accuracy_Table(clf = ridge)"
   ]
  },
  {
   "cell_type": "markdown",
   "metadata": {},
   "source": [
    "## Lasso Regression"
   ]
  },
  {
   "cell_type": "code",
   "execution_count": null,
   "metadata": {},
   "outputs": [],
   "source": [
    "lasso=GridSearchCV(Lasso(), params, scoring='neg_mean_squared_error',cv=10)\n",
    "_ = lasso.fit(X_train, y_train)\n",
    "Accuracy_Table(lasso)\n",
    "\n",
    "display(Latex(r'Best Parameters: $\\alpha$ = %.4f' % lasso.best_params_['alpha']))\n",
    "\n",
    "lasso = Lasso(alpha=lasso.best_params_['alpha'])\n",
    "_ = lasso.fit(X_train, y_train)\n",
    "Accuracy_Table(clf = lasso)"
   ]
  },
  {
   "cell_type": "markdown",
   "metadata": {},
   "source": [
    "## Comparison\n",
    "\n",
    "We can see that resampling and regularization can improve the fitting accuracy. However, given the simple nature of this example, the improvements are not significant."
   ]
  },
  {
   "cell_type": "markdown",
   "metadata": {},
   "source": [
    "***"
   ]
  }
 ],
 "metadata": {
  "kernelspec": {
   "display_name": "Python 3",
   "language": "python",
   "name": "python3"
  },
  "language_info": {
   "codemirror_mode": {
    "name": "ipython",
    "version": 3
   },
   "file_extension": ".py",
   "mimetype": "text/x-python",
   "name": "python",
   "nbconvert_exporter": "python",
   "pygments_lexer": "ipython3",
   "version": "3.7.7"
  }
 },
 "nbformat": 4,
 "nbformat_minor": 2
}
