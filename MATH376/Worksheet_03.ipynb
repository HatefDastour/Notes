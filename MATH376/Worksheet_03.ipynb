{
 "cells": [
  {
   "cell_type": "code",
   "execution_count": 1,
   "metadata": {},
   "outputs": [],
   "source": [
    "## displaying the soltuion in laTex format\n",
    "from sympy import *\n",
    "init_printing(use_unicode=True)\n",
    "#\n",
    "from sympy import Function, dsolve, Eq, Derivative, sin, cos, symbols\n",
    "from sympy.solvers.deutils import ode_order\n",
    "from sympy.abc import x\n",
    "x, y, z, c, a = symbols('x y z c a')\n",
    "y = Function('y')"
   ]
  },
  {
   "cell_type": "markdown",
   "metadata": {},
   "source": [
    "# Worksheet 03"
   ]
  },
  {
   "cell_type": "markdown",
   "metadata": {},
   "source": [
    "2. Find the general solution\n",
    "    * (a) $(\\sec^2y)y'- 3\\tan y=-1$,\n",
    "    * (b) $\\dfrac{y'}{(1+y)^2}-\\dfrac{1}{x(1+y)}=\\dfrac{-3}{x^2}$."
   ]
  },
  {
   "cell_type": "code",
   "execution_count": 2,
   "metadata": {},
   "outputs": [
    {
     "data": {
      "image/png": "[encoded data removed]",
      "text/latex": [
       "$\\displaystyle y{\\left(x \\right)} = - \\operatorname{atan}{\\left(\\frac{C_{1} e^{3 x}}{3} - \\frac{1}{3} \\right)}$"
      ],
      "text/plain": [
       "            ⎛    3⋅x    ⎞\n",
       "            ⎜C₁⋅ℯ      1⎟\n",
       "y(x) = -atan⎜─────── - ─⎟\n",
       "            ⎝   3      3⎠"
      ]
     },
     "execution_count": 2,
     "metadata": {},
     "output_type": "execute_result"
    }
   ],
   "source": [
    "# (a)\n",
    "dsolve(((sec(y(x)))**2)*Derivative(y(x), x)-3*tan(y(x))+1, y(x))"
   ]
  },
  {
   "cell_type": "code",
   "execution_count": 17,
   "metadata": {
    "scrolled": true
   },
   "outputs": [
    {
     "data": {
      "image/png": "[encoded data removed]",
      "text/latex": [
       "$\\displaystyle y{\\left(x \\right)} = \\frac{- C_{1} - x + 3 \\log{\\left(x \\right)}}{C_{1} - 3 \\log{\\left(x \\right)}}$"
      ],
      "text/plain": [
       "       -C₁ - x + 3⋅log(x)\n",
       "y(x) = ──────────────────\n",
       "         C₁ - 3⋅log(x)   "
      ]
     },
     "execution_count": 17,
     "metadata": {},
     "output_type": "execute_result"
    }
   ],
   "source": [
    "# (b)\n",
    "dsolve(Derivative(y(x),x)/((1+y(x))**2)-1/(x*(1+y(x)))+3/(x**2), y(x))"
   ]
  },
  {
   "cell_type": "markdown",
   "metadata": {},
   "source": [
    "Now, we can solve $z(y)=e^{y^2}$ for the desired solution."
   ]
  },
  {
   "cell_type": "markdown",
   "metadata": {},
   "source": [
    "3. Find all solutions.\n",
    "    * (a) $y'=\\dfrac{3x^2+2x+1}{y-2}$,\n",
    "    * (b) $(\\sin x)(\\sin y)+(\\cos y)y'=0$,\n",
    "    * (c) $xy'+y^2+y=0$."
   ]
  },
  {
   "cell_type": "code",
   "execution_count": 18,
   "metadata": {},
   "outputs": [
    {
     "data": {
      "image/png": "[encoded data removed]",
      "text/latex": [
       "$\\displaystyle \\left[ y{\\left(x \\right)} = - \\sqrt{2} \\sqrt{C_{1} + x^{3} + x^{2} + x} + 2, \\  y{\\left(x \\right)} = \\sqrt{2} \\sqrt{C_{1} + x^{3} + x^{2} + x} + 2\\right]$"
      ],
      "text/plain": [
       "⎡               __________________                   __________________    ⎤\n",
       "⎢              ╱       3    2                       ╱       3    2         ⎥\n",
       "⎣y(x) = - √2⋅╲╱  C₁ + x  + x  + x  + 2, y(x) = √2⋅╲╱  C₁ + x  + x  + x  + 2⎦"
      ]
     },
     "execution_count": 18,
     "metadata": {},
     "output_type": "execute_result"
    }
   ],
   "source": [
    "# (a)\n",
    "dsolve((y(x)-2)*Derivative(y(x), x)-(3*(x**2)+2*x+1), y(x))"
   ]
  },
  {
   "cell_type": "code",
   "execution_count": 5,
   "metadata": {},
   "outputs": [
    {
     "data": {
      "image/png": "[encoded data removed]",
      "text/latex": [
       "$\\displaystyle \\left[ y{\\left(x \\right)} = \\pi - \\operatorname{asin}{\\left(C_{1} e^{\\cos{\\left(x \\right)}} \\right)}, \\  y{\\left(x \\right)} = \\operatorname{asin}{\\left(C_{1} e^{\\cos{\\left(x \\right)}} \\right)}\\right]$"
      ],
      "text/plain": [
       "⎡               ⎛    cos(x)⎞             ⎛    cos(x)⎞⎤\n",
       "⎣y(x) = π - asin⎝C₁⋅ℯ      ⎠, y(x) = asin⎝C₁⋅ℯ      ⎠⎦"
      ]
     },
     "execution_count": 5,
     "metadata": {},
     "output_type": "execute_result"
    }
   ],
   "source": [
    "# (b)\n",
    "dsolve(sin(x)*sin(y(x))+(cos(y(x)))*Derivative(y(x), x), y(x))"
   ]
  },
  {
   "cell_type": "code",
   "execution_count": 6,
   "metadata": {
    "scrolled": true
   },
   "outputs": [
    {
     "data": {
      "image/png": "[encoded data removed]",
      "text/latex": [
       "$\\displaystyle y{\\left(x \\right)} = \\frac{C_{1}}{- C_{1} + x}$"
      ],
      "text/plain": [
       "          C₁  \n",
       "y(x) = ───────\n",
       "       -C₁ + x"
      ]
     },
     "execution_count": 6,
     "metadata": {},
     "output_type": "execute_result"
    }
   ],
   "source": [
    "# (c)\n",
    "dsolve(x*Derivative(y(x), x)+(y(x))**2+y(x), y(x))"
   ]
  },
  {
   "cell_type": "markdown",
   "metadata": {},
   "source": [
    "4. Solve the initial value problem and graph the solution.\n",
    "    * (a) $y'=-2x(y^2-3y+2), \\quad y(0)=3$,\n",
    "    * (b) $y'=2y-y^2, \\quad y(0)=1$\n",
    "    * (c)$(x+1)(x-2)y'+y=0, \\quad y(1)=-3$."
   ]
  },
  {
   "cell_type": "code",
   "execution_count": 19,
   "metadata": {
    "scrolled": true
   },
   "outputs": [
    {
     "data": {
      "image/png": "[encoded data removed]",
      "text/latex": [
       "$\\displaystyle y{\\left(x \\right)} = \\frac{e^{C_{1} - x^{2}} - 2}{e^{C_{1} - x^{2}} - 1}$"
      ],
      "text/plain": [
       "              2    \n",
       "        C₁ - x     \n",
       "       ℯ        - 2\n",
       "y(x) = ────────────\n",
       "              2    \n",
       "        C₁ - x     \n",
       "       ℯ        - 1"
      ]
     },
     "execution_count": 19,
     "metadata": {},
     "output_type": "execute_result"
    }
   ],
   "source": [
    "# (a)\n",
    "dsolve(Derivative(y(x), x)+2*x*(y(x)**2-3*y(x)+2), y(x))"
   ]
  },
  {
   "cell_type": "code",
   "execution_count": 21,
   "metadata": {},
   "outputs": [
    {
     "data": {
      "image/png": "[encoded data removed]",
      "text/latex": [
       "$\\displaystyle y{\\left(x \\right)} = \\frac{2}{C_{1} e^{- 2 x} + 1}$"
      ],
      "text/plain": [
       "            2      \n",
       "y(x) = ────────────\n",
       "           -2⋅x    \n",
       "       C₁⋅ℯ     + 1"
      ]
     },
     "execution_count": 21,
     "metadata": {},
     "output_type": "execute_result"
    }
   ],
   "source": [
    "# (b)\n",
    "dsolve(Derivative(y(x), x)-2*y(x)+y(x)**2, y(x))"
   ]
  },
  {
   "cell_type": "code",
   "execution_count": 20,
   "metadata": {
    "scrolled": true
   },
   "outputs": [
    {
     "data": {
      "image/png": "[encoded data removed]",
      "text/latex": [
       "$\\displaystyle y{\\left(x \\right)} = \\frac{C_{1} \\sqrt[3]{x + 1}}{\\sqrt[3]{x - 2}}$"
      ],
      "text/plain": [
       "          3 _______\n",
       "       C₁⋅╲╱ x + 1 \n",
       "y(x) = ────────────\n",
       "        3 _______  \n",
       "        ╲╱ x - 2   "
      ]
     },
     "execution_count": 20,
     "metadata": {},
     "output_type": "execute_result"
    }
   ],
   "source": [
    "# (c)\n",
    "dsolve((x+1)*(x-2)*Derivative(y(x), x)+y(x), y(x))"
   ]
  }
 ],
 "metadata": {
  "kernelspec": {
   "display_name": "Python 3",
   "language": "python",
   "name": "python3"
  },
  "language_info": {
   "codemirror_mode": {
    "name": "ipython",
    "version": 3
   },
   "file_extension": ".py",
   "mimetype": "text/x-python",
   "name": "python",
   "nbconvert_exporter": "python",
   "pygments_lexer": "ipython3",
   "version": "3.7.1"
  }
 },
 "nbformat": 4,
 "nbformat_minor": 2
}
