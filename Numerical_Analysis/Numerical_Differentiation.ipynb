{
 "cells": [
  {
   "cell_type": "code",
   "execution_count": 1,
   "metadata": {},
   "outputs": [],
   "source": [
    "import numpy as np\n",
    "\n",
    "# Visualisation libraries\n",
    "\n",
    "# Text\n",
    "from IPython.display import display, Markdown, Latex\n",
    "\n",
    "## matplotlib\n",
    "import matplotlib.pyplot as plt\n",
    "from matplotlib.patches import Ellipse, Polygon\n",
    "\n",
    "# plt setting\n",
    "plt.style.use('seaborn-whitegrid')\n",
    "plt.rcParams['axes.labelsize'] = 14\n",
    "plt.rcParams['xtick.labelsize'] = 12\n",
    "plt.rcParams['ytick.labelsize'] = 12\n",
    "plt.rcParams['text.color'] = 'k'\n",
    "%matplotlib inline\n",
    "import warnings\n",
    "warnings.filterwarnings(\"ignore\")"
   ]
  },
  {
   "cell_type": "markdown",
   "metadata": {},
   "source": [
    "# Numerical Differentiation\n",
    "\n",
    "## Approximation of the first derivative of a function\n",
    "\n",
    "The true derivative of a differentiable function $f$ at $x$ is\n",
    "\n",
    "$$f'(x)=\\lim _{h\\to 0}{\\frac {f(x+h)-f(x)}{h}}.$$\n",
    "\n",
    "However, if we choose $h$ small enough, we can deriver some approximation of this derivative.\n",
    "\n",
    "Three forms are commonly considered: forward, backward, and central differences:\n",
    "\n",
    "* Forward difference:\n",
    "$\\Delta _{h}[f](x)=f(x+h)-f(x).$\n",
    "\n",
    "* Backward difference: $\\nabla _{h}[f](x)=f(x)-f(x-h).$\n",
    "\n",
    "* Central difference: $\\delta _{h}[f](x)=\\frac{1}{2}\\left(f\\left(x+h\\right)-f\\left(x-h\\right)\\right).$"
   ]
  },
  {
   "cell_type": "markdown",
   "metadata": {},
   "source": [
    "Assuming that f is differentiable, we have\n",
    "\n",
    "* $f'(x) \\approx \\frac {\\Delta _{h}[f](x)}{h},$\n",
    "\n",
    "* $f'(x) \\approx \\frac {\\nabla _{h}[f](x)}{h},$\n",
    "\n",
    "* $f'(x) \\approx \\frac {\\delta _{h}[f](x)}{h}.$"
   ]
  },
  {
   "cell_type": "markdown",
   "metadata": {},
   "source": [
    "**Example**: Consider $f(x) = 3x\\exp(x) - \\cos(x)$ and let's discretize $[0,1]$ using $h=0.1$"
   ]
  },
  {
   "cell_type": "code",
   "execution_count": 2,
   "metadata": {},
   "outputs": [
    {
     "name": "stdout",
     "output_type": "stream",
     "text": [
      "h = 0.10\n"
     ]
    }
   ],
   "source": [
    "a=0\n",
    "b=1\n",
    "N=10\n",
    "x=np.linspace(a,b,N+1)\n",
    "h=1/N\n",
    "print('h = %.2f' % h)\n",
    "f=lambda x: 3*x*np.exp(x) - np.cos(x)\n",
    "y=f(x)"
   ]
  },
  {
   "cell_type": "markdown",
   "metadata": {},
   "source": [
    "Consider the middle points only (all points except 0 and 1)"
   ]
  },
  {
   "cell_type": "code",
   "execution_count": 3,
   "metadata": {
    "scrolled": true
   },
   "outputs": [
    {
     "data": {
      "text/plain": [
       "array([0.1, 0.2, 0.3, 0.4, 0.5, 0.6, 0.7, 0.8, 0.9])"
      ]
     },
     "execution_count": 3,
     "metadata": {},
     "output_type": "execute_result"
    }
   ],
   "source": [
    "x[1:N]"
   ]
  },
  {
   "cell_type": "code",
   "execution_count": 4,
   "metadata": {
    "scrolled": false
   },
   "outputs": [
    {
     "data": {
      "image/png": "[encoded data removed]",
      "text/plain": [
       "<Figure size 864x36 with 1 Axes>"
      ]
     },
     "metadata": {
      "needs_background": "light"
     },
     "output_type": "display_data"
    }
   ],
   "source": [
    "fig, ax = plt.subplots(nrows=1, ncols=1, figsize=(12, .5), sharex = False)\n",
    "_ = ax.scatter(x,np.zeros(len(x)), s = 20)\n",
    "_ = ax.scatter(x[1:N],np. zeros(len(x[1:N])), color='red', marker=(5,2))\n",
    "_ = ax.set_yticks(np.zeros(len(x)), '')"
   ]
  },
  {
   "cell_type": "markdown",
   "metadata": {},
   "source": [
    "We are going to compare the approximation of derivatives at these points in terms of accuracy. For example, for $x=0.1$, we have"
   ]
  },
  {
   "cell_type": "code",
   "execution_count": 5,
   "metadata": {},
   "outputs": [
    {
     "name": "stdout",
     "output_type": "stream",
     "text": [
      "Forward = 8.58978882\n",
      "Backward = 7.26370701\n",
      "Central = 7.92674791\n"
     ]
    }
   ],
   "source": [
    "x0=0.5\n",
    "# Forward difference\n",
    "Forward = (f(x0+h)-f(x0))/h\n",
    "print('Forward = %.8f' % Forward)\n",
    "# Backward difference\n",
    "Backward = (f(x0)-f(x0-h))/h\n",
    "print('Backward = %.8f' % Backward)\n",
    "# Central difference\n",
    "Central = (f(x0+h)-f(x0-h))/(2*h)\n",
    "print('Central = %.8f' % Central)"
   ]
  },
  {
   "cell_type": "markdown",
   "metadata": {},
   "source": [
    "However, the exact value of the deravitve at this point is"
   ]
  },
  {
   "cell_type": "code",
   "execution_count": 6,
   "metadata": {},
   "outputs": [
    {
     "name": "stdout",
     "output_type": "stream",
     "text": [
      "Exact = 7.89867126\n"
     ]
    }
   ],
   "source": [
    "f1=lambda x: 3*np.exp(x) + np.sin(x) + 3*x*np.exp(x)\n",
    "y1=f1(x0)\n",
    "print('Exact = %.8f' % y1)"
   ]
  },
  {
   "cell_type": "markdown",
   "metadata": {},
   "source": [
    "Which in terms of accuracy, the central difference is the most accurate among all. Since"
   ]
  },
  {
   "cell_type": "code",
   "execution_count": 7,
   "metadata": {
    "scrolled": true
   },
   "outputs": [
    {
     "name": "stdout",
     "output_type": "stream",
     "text": [
      "|Forward - Exact| = 0.69111756\n",
      "|Backward - Exact| = 0.63496425\n",
      "|Central - Exact| = 0.02807666\n"
     ]
    }
   ],
   "source": [
    "print('|Forward - Exact| = %.8f' % abs(Forward-y1))\n",
    "print('|Backward - Exact| = %.8f' % abs(Backward-y1))\n",
    "print('|Central - Exact| = %.8f' % abs(Central-y1))"
   ]
  },
  {
   "cell_type": "markdown",
   "metadata": {},
   "source": [
    "Now consider all middle points:"
   ]
  },
  {
   "cell_type": "code",
   "execution_count": 8,
   "metadata": {},
   "outputs": [],
   "source": [
    "# Forward difference\n",
    "Forward = (y[2:N+1]-y[1:N])/h\n",
    "# Backward difference\n",
    "Backward = (y[1:N]-y[0:N-1])/h\n",
    "# Central difference\n",
    "Central = (y[2:N+1]-y[0:N-1])/(2*h)\n",
    "# Exact\n",
    "y1=f1(x[1:N])"
   ]
  },
  {
   "cell_type": "code",
   "execution_count": 9,
   "metadata": {},
   "outputs": [
    {
     "data": {
      "text/plain": [
       "(array([0.41538222, 0.47189435, 0.5359525 , 0.60862494, 0.69111756,\n",
       "        0.78479001, 0.89117371, 1.01199202, 1.14918283]),\n",
       " array([0.38142634, 0.43343959, 0.49235595, 0.55916002, 0.63496425,\n",
       "        0.7210239 , 0.81875377, 0.9297469 , 1.05579552]),\n",
       " array([0.01697794, 0.01922738, 0.02179827, 0.02473246, 0.02807666,\n",
       "        0.03188306, 0.03620997, 0.04112256, 0.04669366]))"
      ]
     },
     "execution_count": 9,
     "metadata": {},
     "output_type": "execute_result"
    }
   ],
   "source": [
    "abs(Forward-y1),abs(Backward-y1),abs(Central-y1)"
   ]
  },
  {
   "cell_type": "code",
   "execution_count": 10,
   "metadata": {},
   "outputs": [
    {
     "data": {
      "text/plain": [
       "(1.1491828333368481, 1.0557955150386622, 0.04669365914909207)"
      ]
     },
     "execution_count": 10,
     "metadata": {},
     "output_type": "execute_result"
    }
   ],
   "source": [
    "max(abs(Forward-y1)),max(abs(Backward-y1)),max(abs(Central-y1))"
   ]
  },
  {
   "cell_type": "markdown",
   "metadata": {},
   "source": [
    "## Approximation of the second derivative of a function\n",
    "\n",
    "* Second-order central:\n",
    "$f''(x)\\approx {\\frac {\\delta _{h}^{2}[f](x)}{h^{2}}}={\\frac {{\\frac {f(x+h)-f(x)}{h}}-{\\frac {f(x)-f(x-h)}{h}}}{h}}={\\frac {f(x+h)-2f(x)+f(x-h)}{h^{2}}}.$\n",
    "\n",
    "* Second order forward: \n",
    "$f''(x)\\approx {\\frac {\\Delta _{h}^{2}[f](x)}{h^{2}}}={\\frac {{\\frac {f(x+2h)-f(x+h)}{h}}-{\\frac {f(x+h)-f(x)}{h}}}{h}}={\\frac {f(x+2h)-2f(x+h)+f(x)}{h^{2}}}.$\n",
    "* Second order backward:\n",
    "$f''(x)\\approx {\\frac {\\nabla _{h}^{2}[f](x)}{h^{2}}}={\\frac {{\\frac {f(x)-f(x-h)}{h}}-{\\frac {f(x-h)-f(x-2h)}{h}}}{h}}={\\frac {f(x)-2f(x-h)+f(x-2h)}{h^{2}}}.$"
   ]
  },
  {
   "cell_type": "markdown",
   "metadata": {},
   "source": [
    "**Example**: One more time, consider $f(x) = 3x\\exp(x) - \\cos(x)$ on $[0,1]$ with $h=0.1$"
   ]
  },
  {
   "cell_type": "code",
   "execution_count": 11,
   "metadata": {},
   "outputs": [],
   "source": [
    "a=0\n",
    "b=1\n",
    "N=10\n",
    "x=np.linspace(a,b,N+1)\n",
    "h=1/N\n",
    "#\n",
    "f=lambda x: 3*x*np.exp(x) - np.cos(x)\n",
    "f2=lambda x: np.cos(x) + 6*np.exp(x) + 3*x*np.exp(x)\n",
    "\n",
    "# Central difference\n",
    "Central = (y[2:N+1]-2*y[1:N]+y[0:N-1])/(h**2)\n",
    "\n",
    "# Exact\n",
    "y2=f2(x[1:N])"
   ]
  },
  {
   "cell_type": "markdown",
   "metadata": {},
   "source": [
    "$\\left|f''(x_i) - {\\frac {\\delta _{h}^{2}[f](x_i)}{h^{2}}} \\right|=$"
   ]
  },
  {
   "cell_type": "code",
   "execution_count": 12,
   "metadata": {},
   "outputs": [
    {
     "data": {
      "text/plain": [
       "array([0.01050473, 0.01201459, 0.01372222, 0.01565073, 0.01782597,\n",
       "       0.02027684, 0.02303568, 0.02613871, 0.02962645])"
      ]
     },
     "execution_count": 12,
     "metadata": {},
     "output_type": "execute_result"
    }
   ],
   "source": [
    "abs(Central-y2)"
   ]
  },
  {
   "cell_type": "markdown",
   "metadata": {},
   "source": [
    "$\\max_{i}\\left|f''(x_i) - {\\frac {\\delta _{h}^{2}[f](x_i)}{h^{2}}} \\right|$"
   ]
  },
  {
   "cell_type": "code",
   "execution_count": 13,
   "metadata": {},
   "outputs": [
    {
     "data": {
      "text/plain": [
       "0.029626448418969886"
      ]
     },
     "execution_count": 13,
     "metadata": {},
     "output_type": "execute_result"
    }
   ],
   "source": [
    "max(abs(Central-y2))"
   ]
  },
  {
   "cell_type": "markdown",
   "metadata": {},
   "source": [
    "***\n",
    "# References\n",
    "1. [Numerical differentiation Wikipedia page](https://en.wikipedia.org/wiki/Numerical_differentiation)\n",
    "***"
   ]
  }
 ],
 "metadata": {
  "kernelspec": {
   "display_name": "Python 3",
   "language": "python",
   "name": "python3"
  },
  "language_info": {
   "codemirror_mode": {
    "name": "ipython",
    "version": 3
   },
   "file_extension": ".py",
   "mimetype": "text/x-python",
   "name": "python",
   "nbconvert_exporter": "python",
   "pygments_lexer": "ipython3",
   "version": "3.8.5"
  }
 },
 "nbformat": 4,
 "nbformat_minor": 2
}
