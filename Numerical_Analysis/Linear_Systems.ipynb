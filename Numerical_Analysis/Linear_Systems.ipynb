{
 "cells": [
  {
   "cell_type": "code",
   "execution_count": 1,
   "metadata": {},
   "outputs": [],
   "source": [
    "import numpy as np\n",
    "import pandas as pd\n",
    "import scipy.sparse as sps\n",
    "import scipy.linalg as linalg\n",
    "\n",
    "# Plots\n",
    "\n",
    "import matplotlib.pyplot as plt\n",
    "from matplotlib.patches import Ellipse, Polygon\n",
    "\n",
    "# plt setting\n",
    "plt.style.use('seaborn-whitegrid')\n",
    "plt.rcParams['axes.labelsize'] = 14\n",
    "plt.rcParams['xtick.labelsize'] = 12\n",
    "plt.rcParams['ytick.labelsize'] = 12\n",
    "plt.rcParams['text.color'] = 'k'\n",
    "%matplotlib inline\n",
    "import warnings\n",
    "warnings.filterwarnings(\"ignore\")"
   ]
  },
  {
   "cell_type": "markdown",
   "metadata": {},
   "source": [
    "# Linear systems\n",
    "\n",
    "* Doolittle algorithm\n",
    "* Solving linear systems using LU decomposition\n",
    "\n",
    "## Doolittle algorithm\n",
    "\n",
    "This gives $N^2$ equations for $N^2+N$ unknowns (the decomposition is not unique), and can be solved using Crout's method. To solve the matrix equation\n",
    "$$Ax=(LU)x=L(Ux)=b,$$ \t\n",
    "first solve $Ly=b$ for $y$. This can be done by forward substitution\n",
    "$$y_1\t=\t(b_{1})/(l_{11})$$\t\n",
    "$$y_i\t=\t1/(l_{ii})(b_i-\\sum_{j=1}^{i-1}l_{ij}y_j)$$\t\n",
    "for $i=2, \\ldots, N.$ Then solve $Ux=y$ for $x$. This can be done by back substitution\n",
    "$$x_N\t=\t(y_N)/(u_{NN})$$\t\n",
    "$$x_i\t=\t1/(u_{ii})(y_i-\\sum_{j=i+1}^{N}u_{ij}x_j)$$\t\n",
    "for $i=N-1, \\ldots, 1$."
   ]
  },
  {
   "cell_type": "code",
   "execution_count": 2,
   "metadata": {},
   "outputs": [],
   "source": [
    "A = np.array([ [7, 3, -1, 2], [3, 8, 1, -4], [-1, 1, 4, -1], [2, -4, -1, 6] ])"
   ]
  },
  {
   "cell_type": "code",
   "execution_count": 3,
   "metadata": {
    "scrolled": true
   },
   "outputs": [
    {
     "data": {
      "image/png": "[encoded data removed]",
      "text/plain": [
       "<Figure size 432x288 with 1 Axes>"
      ]
     },
     "metadata": {
      "needs_background": "light"
     },
     "output_type": "display_data"
    }
   ],
   "source": [
    "M = sps.csr_matrix(A)\n",
    "_ = plt.spy(M)"
   ]
  },
  {
   "cell_type": "code",
   "execution_count": 4,
   "metadata": {},
   "outputs": [],
   "source": [
    "P, L, U = linalg.lu(A)"
   ]
  },
  {
   "cell_type": "code",
   "execution_count": 5,
   "metadata": {},
   "outputs": [
    {
     "data": {
      "image/png": "[encoded data removed]",
      "text/plain": [
       "<Figure size 576x288 with 2 Axes>"
      ]
     },
     "metadata": {
      "needs_background": "light"
     },
     "output_type": "display_data"
    }
   ],
   "source": [
    "_ = plt.figure(figsize = (8, 4))\n",
    "_ = plt.subplot(121)\n",
    "_ = plt.spy(sps.csr_matrix(L))\n",
    "_ = plt.title('L', fontsize=18)\n",
    "_ = plt.subplot(122)\n",
    "_ = plt.spy(sps.csr_matrix(U))\n",
    "_ = plt.title('U', fontsize=18)"
   ]
  },
  {
   "cell_type": "markdown",
   "metadata": {},
   "source": [
    "## LU decomposition\n",
    "\n",
    "Let's solve the following linear system $Ax=b$ for $x$ where\n",
    "\n",
    "$$A=\\left[\\begin{array}{cccc} 2 & 1 & 1 & 0\\\\ 1 & -2 & 0 & 1\\\\ 0 & 1 & 3 & 0\\\\ -1 & 0 & 0 & 4 \\end{array}\\right],$$\n",
    "and\n",
    "$$b=\\left[\\begin{array}{c} 7\\\\ 1\\\\ 11\\\\ 15 \\end{array}\\right].$$\n",
    "First, we can decompose matrix A using LU method. We have"
   ]
  },
  {
   "cell_type": "code",
   "execution_count": 6,
   "metadata": {},
   "outputs": [
    {
     "name": "stdout",
     "output_type": "stream",
     "text": [
      "L = \n",
      "[[ 1.          0.          0.          0.        ]\n",
      " [ 0.5         1.          0.          0.        ]\n",
      " [ 0.         -0.4         1.          0.        ]\n",
      " [-0.5        -0.2         0.14285714  1.        ]]\n",
      "U = \n",
      "[[ 2.          1.          1.          0.        ]\n",
      " [ 0.         -2.5        -0.5         1.        ]\n",
      " [ 0.          0.          2.8         0.4       ]\n",
      " [ 0.          0.          0.          4.14285714]]\n"
     ]
    }
   ],
   "source": [
    "A = np.array([[2,1,1,0],[1,-2,0,1],[0,1,3,0],[-1,0,0,4]])\n",
    "b = np.array([[7],[1],[11],[15]])\n",
    "P, L, U = linalg.lu(A)\n",
    "print('L = ')\n",
    "print(L)\n",
    "print('U = ')\n",
    "print(U)"
   ]
  },
  {
   "cell_type": "markdown",
   "metadata": {},
   "source": [
    "Now we can solve the following linear systems instead\n",
    "$$\\begin{cases}\n",
    "Ly=b,\\\\\n",
    "Ux=y.\n",
    "\\end{cases}$$"
   ]
  },
  {
   "cell_type": "code",
   "execution_count": 7,
   "metadata": {},
   "outputs": [
    {
     "name": "stdout",
     "output_type": "stream",
     "text": [
      "y = \n",
      "[[ 7.        ]\n",
      " [-2.5       ]\n",
      " [10.        ]\n",
      " [16.57142857]]\n"
     ]
    }
   ],
   "source": [
    "# solving Ly=b for y\n",
    "y = linalg.solve(L, b)\n",
    "print('y = ')\n",
    "print(y)"
   ]
  },
  {
   "cell_type": "code",
   "execution_count": 8,
   "metadata": {},
   "outputs": [
    {
     "name": "stdout",
     "output_type": "stream",
     "text": [
      "x = \n",
      "[[1.]\n",
      " [2.]\n",
      " [3.]\n",
      " [4.]]\n"
     ]
    }
   ],
   "source": [
    "# solving Ux=y for x\n",
    "x = linalg.solve(U, y)\n",
    "print('x = ')\n",
    "print(x)"
   ]
  },
  {
   "cell_type": "markdown",
   "metadata": {},
   "source": [
    "Let's now solve the linear system directly and compare the results."
   ]
  },
  {
   "cell_type": "code",
   "execution_count": 9,
   "metadata": {},
   "outputs": [
    {
     "name": "stdout",
     "output_type": "stream",
     "text": [
      "x = \n",
      "[[1.]\n",
      " [2.]\n",
      " [3.]\n",
      " [4.]]\n"
     ]
    }
   ],
   "source": [
    "x1 = linalg.solve(A, b)\n",
    "print('x = ')\n",
    "print(x1)"
   ]
  }
 ],
 "metadata": {
  "kernelspec": {
   "display_name": "Python 3",
   "language": "python",
   "name": "python3"
  },
  "language_info": {
   "codemirror_mode": {
    "name": "ipython",
    "version": 3
   },
   "file_extension": ".py",
   "mimetype": "text/x-python",
   "name": "python",
   "nbconvert_exporter": "python",
   "pygments_lexer": "ipython3",
   "version": "3.7.7"
  }
 },
 "nbformat": 4,
 "nbformat_minor": 2
}
