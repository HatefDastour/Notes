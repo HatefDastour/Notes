{
 "cells": [
  {
   "cell_type": "code",
   "execution_count": 1,
   "metadata": {},
   "outputs": [],
   "source": [
    "import numpy as np\n",
    "\n",
    "# Plots\n",
    "\n",
    "import matplotlib.pyplot as plt\n",
    "from matplotlib.patches import Ellipse, Polygon\n",
    "plt.style.use('seaborn-white')\n",
    "plt.rcParams['axes.labelsize'] = 14\n",
    "plt.rcParams['xtick.labelsize'] = 12\n",
    "plt.rcParams['ytick.labelsize'] = 12\n",
    "plt.rcParams['text.color'] = 'k'\n",
    "%matplotlib inline\n",
    "import warnings\n",
    "warnings.filterwarnings(\"ignore\")"
   ]
  },
  {
   "cell_type": "markdown",
   "metadata": {},
   "source": [
    "# Polynomial Interpolation\n",
    "* Lagrange polynomial\n",
    "* Newton polynomia"
   ]
  },
  {
   "cell_type": "markdown",
   "metadata": {},
   "source": [
    "## Lagrange polynomial\n",
    "\n",
    "Given a distinct (no two $x_{j}$ are the same) set of $n + 1$ data points\n",
    "$$(x_{0},y_{0}),\\ldots ,(x_{j},y_{j}),\\ldots ,(x_{n},y_{n}),$$\n",
    "\n",
    "the interpolation polynomial in the Lagrange form is a linear combination\n",
    "\n",
    "$$L(x):=\\sum _{j=0}^{n}y_{j}L_{j}(x)$$\n",
    "of Lagrange basis polynomials\n",
    "\n",
    "$$L_{j}(x):=\\prod _{\\begin{smallmatrix}0\\leq m\\leq n\\\\m\\neq j\\end{smallmatrix}}{\\frac {x-x_{m}}{x_{j}-x_{m}}}={\\frac {(x-x_{0})}{(x_{j}-x_{0})}}\\cdots {\\frac {(x-x_{j-1})}{(x_{j}-x_{j-1})}}{\\frac {(x-x_{j+1})}{(x_{j}-x_{j+1})}}\\cdots {\\frac {(x-x_{n})}{(x_{j}-x_{n})}},$$\n",
    "where $0\\leq j\\leq n$."
   ]
  },
  {
   "cell_type": "code",
   "execution_count": 2,
   "metadata": {},
   "outputs": [],
   "source": [
    "def poly_lagrange_coeff (x ,i , xn ):\n",
    "    n=len(xn)-1\n",
    "    Lj=1\n",
    "    for j in range ( n+1 ):\n",
    "        if i!=j:\n",
    "            Lj*=( x-xn[j])/( xn[i]-xn[j])\n",
    "    return Lj"
   ]
  },
  {
   "cell_type": "code",
   "execution_count": 3,
   "metadata": {},
   "outputs": [],
   "source": [
    "def lagrange_polynomial (x , xn , yn ):\n",
    "    # x: point x for $L(x)$ \n",
    "    # xn: xn data points\n",
    "    # yn: yn data points\n",
    "    \n",
    "    n=len( xn )-1\n",
    "    lagrpoly = np.array ([ poly_lagrange_coeff (x ,i , xn ) for i in range (n+1)])\n",
    "    L = np.dot( yn , lagrpoly )\n",
    "    return L"
   ]
  },
  {
   "cell_type": "code",
   "execution_count": 4,
   "metadata": {},
   "outputs": [],
   "source": [
    "xn = np.array ([1 ,2 ,3 ,4 ,5 , 6])\n",
    "yn = np.array ([-3 ,0 ,-1 ,2 ,1 , 4])\n",
    "x = np.linspace( 0 , 7 ,100)\n",
    "y= lagrange_polynomial ( x , xn , yn )"
   ]
  },
  {
   "cell_type": "code",
   "execution_count": 5,
   "metadata": {
    "scrolled": false
   },
   "outputs": [
    {
     "data": {
      "image/png": "[encoded data removed]",
      "text/plain": [
       "<Figure size 576x576 with 1 Axes>"
      ]
     },
     "metadata": {
      "needs_background": "light"
     },
     "output_type": "display_data"
    }
   ],
   "source": [
    "fig, ax = plt.subplots(nrows=1, ncols=1, figsize=(8, 8), sharex = False)\n",
    "_ = ax.plot(x,y,xn,yn,'ro')\n",
    "_ = ax.set_xlabel('$x$', fontsize=18)\n",
    "_ = ax.set_ylabel('$y$', fontsize=18)\n",
    "_ = ax.set_xlim([min(x),max(x)])\n",
    "_ = ax.set_ylim([min(y),max(y)])"
   ]
  },
  {
   "cell_type": "markdown",
   "metadata": {},
   "source": [
    "## Newton Polynomial\n",
    "\n",
    "Given a distinct (no two $x_{j}$ are the same) set of $n + 1$ data points\n",
    "$$(x_{0},y_{0}),\\ldots ,(x_{j},y_{j}),\\ldots ,(x_{n},y_{n}),$$\n",
    "\n",
    "The forward divided differences are defined as:\n",
    "\n",
    "$$[y_{k }]:=y_{k },\\qquad k \\in \\{0,\\ldots ,k\\}$$\n",
    "$$[y_{k },\\ldots ,y_{{k +j}}]:={\\frac  {[y_{{k +1}},\\ldots ,y_{{k +j}}]-[y_{{k }},\\ldots ,y_{{k +j-1}}]}{x_{{k +j}}-x_{k }}},\\qquad k \\in \\{0,\\ldots ,k-j\\},\\ j\\in \\{1,\\ldots ,k\\}.$$\n",
    "\n",
    "$$N(x):=\\sum _{{j=0}}^{{k}}a_{{j}}n_{{j}}(x)$$\n",
    "with the Newton basis polynomials defined as\n",
    "\n",
    "$$n_{j}(x):=\\prod _{{i=0}}^{{j-1}}(x-x_{i})$$\n",
    "for $j > 0$ and $n_{0}(x)\\equiv 1$.\n",
    "\n",
    "The coefficients are defined as\n",
    "$$a_{j}:=[y_{0},\\ldots ,y_{j}]$$"
   ]
  },
  {
   "cell_type": "code",
   "execution_count": 6,
   "metadata": {},
   "outputs": [],
   "source": [
    "def poly_newton_coeff(xn,yn):\n",
    "    # xn: xm data points\n",
    "    # yn: ym data points\n",
    "    n = len(xn)\n",
    "    #Construct table and load xy pairs in first columns\n",
    "    A = np.zeros((n,n+1))\n",
    "    A[:,0]= xn[:]\n",
    "    A[:,1]= yn[:]\n",
    "    #Fill in Divided differences\n",
    "    for j in range(2,n+1):\n",
    "        for i in range(j-1,n):\n",
    "            A[i,j] = (A[i,j-1]-A[i-1,j-1]) / (A[i,0]-A[i-j+1,0])\n",
    "    #Copy diagonal elements into array for returning\n",
    "    a = np.zeros(n)\n",
    "    for k in range(0,n):\n",
    "        a[k] = A[k,k+1]\n",
    "    return a"
   ]
  },
  {
   "cell_type": "code",
   "execution_count": 7,
   "metadata": {},
   "outputs": [],
   "source": [
    "def newton_polynomial(x, xn, yn):\n",
    "    # xn: data points at x\n",
    "    # yn: data points at y\n",
    "    # x: evaluation point(s)\n",
    "    \n",
    "    n = len(xn)\n",
    "    # coefficients\n",
    "    a = poly_newton_coeff(xn, yn)\n",
    "    p = a[n-1]\n",
    "    for i in range(n-2,-1,-1):\n",
    "        p = p*(x-xn[i]) + a[i]\n",
    "    return p"
   ]
  },
  {
   "cell_type": "code",
   "execution_count": 8,
   "metadata": {},
   "outputs": [],
   "source": [
    "xn = np.array ([1 ,2 ,3 ,4 ,5 , 6])\n",
    "yn = np.array ([-3 ,0 ,-1 ,2 ,1 , 4])\n",
    "x = np.linspace( 0 , 7 ,100)\n",
    "y=newton_polynomial ( x , xn , yn )"
   ]
  },
  {
   "cell_type": "code",
   "execution_count": 9,
   "metadata": {},
   "outputs": [
    {
     "data": {
      "image/png": "[encoded data removed]",
      "text/plain": [
       "<Figure size 576x576 with 1 Axes>"
      ]
     },
     "metadata": {
      "needs_background": "light"
     },
     "output_type": "display_data"
    }
   ],
   "source": [
    "fig, ax = plt.subplots(nrows=1, ncols=1, figsize=(8, 8), sharex = False)\n",
    "_ = ax.plot(x,y,xn,yn,'ro')\n",
    "_ = ax.set_xlabel('$x$', fontsize=18)\n",
    "_ = ax.set_ylabel('$y$', fontsize=18)\n",
    "_ = ax.set_xlim([min(x),max(x)])\n",
    "_ = ax.set_ylim([min(y),max(y)])"
   ]
  },
  {
   "cell_type": "markdown",
   "metadata": {},
   "source": [
    "***"
   ]
  }
 ],
 "metadata": {
  "kernelspec": {
   "display_name": "Python 3",
   "language": "python",
   "name": "python3"
  },
  "language_info": {
   "codemirror_mode": {
    "name": "ipython",
    "version": 3
   },
   "file_extension": ".py",
   "mimetype": "text/x-python",
   "name": "python",
   "nbconvert_exporter": "python",
   "pygments_lexer": "ipython3",
   "version": "3.7.7"
  }
 },
 "nbformat": 4,
 "nbformat_minor": 2
}
