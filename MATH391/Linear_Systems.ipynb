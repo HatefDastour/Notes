{
 "cells": [
  {
   "cell_type": "code",
   "execution_count": 19,
   "metadata": {},
   "outputs": [],
   "source": [
    "import matplotlib.pylab as plt\n",
    "import scipy.sparse as sps\n",
    "import scipy.linalg as linalg"
   ]
  },
  {
   "cell_type": "markdown",
   "metadata": {},
   "source": [
    "# Linear systems\n",
    "\n",
    "* Doolittle algorithm\n",
    "* Solving linear systems using LU decomposition\n",
    "\n",
    "## Doolittle algorithm\n",
    "\n",
    "This gives $N^2$ equations for $N^2+N$ unknowns (the decomposition is not unique), and can be solved using Crout's method. To solve the matrix equation\n",
    "$$Ax=(LU)x=L(Ux)=b,$$ \t\n",
    "first solve $Ly=b$ for $y$. This can be done by forward substitution\n",
    "$$y_1\t=\t(b_{1})/(l_{11})$$\t\n",
    "$$y_i\t=\t1/(l_{ii})(b_i-\\sum_{j=1}^{i-1}l_{ij}y_j)$$\t\n",
    "for $i=2, \\ldots, N.$ Then solve $Ux=y$ for $x$. This can be done by back substitution\n",
    "$$x_N\t=\t(y_N)/(u_{NN})$$\t\n",
    "$$x_i\t=\t1/(u_{ii})(y_i-\\sum_{j=i+1}^{N}u_{ij}x_j)$$\t\n",
    "for $i=N-1, \\ldots, 1$."
   ]
  },
  {
   "cell_type": "code",
   "execution_count": 20,
   "metadata": {},
   "outputs": [],
   "source": [
    "A = np.array([ [7, 3, -1, 2], [3, 8, 1, -4], [-1, 1, 4, -1], [2, -4, -1, 6] ])"
   ]
  },
  {
   "cell_type": "code",
   "execution_count": 21,
   "metadata": {
    "scrolled": true
   },
   "outputs": [
    {
     "data": {
      "image/png": "[encoded data removed]",
      "text/plain": [
       "<Figure size 432x288 with 1 Axes>"
      ]
     },
     "metadata": {
      "needs_background": "light"
     },
     "output_type": "display_data"
    }
   ],
   "source": [
    "M = sps.csr_matrix(A)\n",
    "plt.spy(M)\n",
    "plt.show()"
   ]
  },
  {
   "cell_type": "code",
   "execution_count": 22,
   "metadata": {},
   "outputs": [],
   "source": [
    "P, L, U = linalg.lu(A)"
   ]
  },
  {
   "cell_type": "code",
   "execution_count": 23,
   "metadata": {},
   "outputs": [
    {
     "data": {
      "text/plain": [
       "Text(0.5, 1.05, 'U')"
      ]
     },
     "execution_count": 23,
     "metadata": {},
     "output_type": "execute_result"
    },
    {
     "data": {
      "image/png": "[encoded data removed]",
      "text/plain": [
       "<Figure size 576x288 with 2 Axes>"
      ]
     },
     "metadata": {
      "needs_background": "light"
     },
     "output_type": "display_data"
    }
   ],
   "source": [
    "plt.figure(figsize = (8, 4))\n",
    "plt.subplot(121)\n",
    "plt.spy(sps.csr_matrix(L))\n",
    "plt.title('L')\n",
    "plt.subplot(122)\n",
    "plt.spy(sps.csr_matrix(U))\n",
    "plt.title('U')"
   ]
  },
  {
   "cell_type": "markdown",
   "metadata": {},
   "source": [
    "## LU decomposition\n",
    "\n",
    "Let's solve the following linear system $Ax=b$ for $x$ where\n",
    "\n",
    "$$A=\\left[\\begin{array}{cccc} 2 & 1 & 1 & 0\\\\ 1 & -2 & 0 & 1\\\\ 0 & 1 & 3 & 0\\\\ -1 & 0 & 0 & 4 \\end{array}\\right],$$\n",
    "and\n",
    "$$b=\\left[\\begin{array}{c} 7\\\\ 1\\\\ 11\\\\ 15 \\end{array}\\right].$$\n",
    "First, we can decompose matrix A using LU method. We have"
   ]
  },
  {
   "cell_type": "code",
   "execution_count": 40,
   "metadata": {},
   "outputs": [],
   "source": [
    "A = np.array([[2,1,1,0],[1,-2,0,1],[0,1,3,0],[-1,0,0,4]])\n",
    "b = np.array([[7],[1],[11],[15]])\n",
    "P, L, U = linalg.lu(A)"
   ]
  },
  {
   "cell_type": "code",
   "execution_count": 41,
   "metadata": {},
   "outputs": [
    {
     "data": {
      "text/plain": [
       "(array([[ 1.        ,  0.        ,  0.        ,  0.        ],\n",
       "        [ 0.5       ,  1.        ,  0.        ,  0.        ],\n",
       "        [ 0.        , -0.4       ,  1.        ,  0.        ],\n",
       "        [-0.5       , -0.2       ,  0.14285714,  1.        ]]),\n",
       " array([[ 2.        ,  1.        ,  1.        ,  0.        ],\n",
       "        [ 0.        , -2.5       , -0.5       ,  1.        ],\n",
       "        [ 0.        ,  0.        ,  2.8       ,  0.4       ],\n",
       "        [ 0.        ,  0.        ,  0.        ,  4.14285714]]))"
      ]
     },
     "execution_count": 41,
     "metadata": {},
     "output_type": "execute_result"
    }
   ],
   "source": [
    "L, U"
   ]
  },
  {
   "cell_type": "markdown",
   "metadata": {},
   "source": [
    "Now we can solve the following linear systems instead\n",
    "$$\\begin{cases}\n",
    "Ly=b,\\\\\n",
    "Ux=y.\n",
    "\\end{cases}$$"
   ]
  },
  {
   "cell_type": "code",
   "execution_count": 42,
   "metadata": {},
   "outputs": [
    {
     "data": {
      "text/plain": [
       "array([[ 7.        ],\n",
       "       [-2.5       ],\n",
       "       [10.        ],\n",
       "       [16.57142857]])"
      ]
     },
     "execution_count": 42,
     "metadata": {},
     "output_type": "execute_result"
    }
   ],
   "source": [
    "# solving Ly=b for y\n",
    "y = linalg.solve(L, b)\n",
    "y"
   ]
  },
  {
   "cell_type": "code",
   "execution_count": 43,
   "metadata": {},
   "outputs": [
    {
     "data": {
      "text/plain": [
       "array([[1.],\n",
       "       [2.],\n",
       "       [3.],\n",
       "       [4.]])"
      ]
     },
     "execution_count": 43,
     "metadata": {},
     "output_type": "execute_result"
    }
   ],
   "source": [
    "# solving Ux=y for x\n",
    "x = linalg.solve(U, y)\n",
    "x"
   ]
  },
  {
   "cell_type": "markdown",
   "metadata": {},
   "source": [
    "Let's now solve the linear system directly and compare the results."
   ]
  },
  {
   "cell_type": "code",
   "execution_count": 44,
   "metadata": {},
   "outputs": [
    {
     "data": {
      "text/plain": [
       "array([[1.],\n",
       "       [2.],\n",
       "       [3.],\n",
       "       [4.]])"
      ]
     },
     "execution_count": 44,
     "metadata": {},
     "output_type": "execute_result"
    }
   ],
   "source": [
    "x1 = linalg.solve(A, b)\n",
    "x1"
   ]
  }
 ],
 "metadata": {
  "kernelspec": {
   "display_name": "Python 3",
   "language": "python",
   "name": "python3"
  },
  "language_info": {
   "codemirror_mode": {
    "name": "ipython",
    "version": 3
   },
   "file_extension": ".py",
   "mimetype": "text/x-python",
   "name": "python",
   "nbconvert_exporter": "python",
   "pygments_lexer": "ipython3",
   "version": "3.7.1"
  }
 },
 "nbformat": 4,
 "nbformat_minor": 2
}
