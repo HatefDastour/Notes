{
 "cells": [
  {
   "cell_type": "code",
   "execution_count": 1,
   "metadata": {},
   "outputs": [],
   "source": [
    "import numpy as np\n",
    "import pandas as pd\n",
    "import scipy.sparse as sps\n",
    "\n",
    "# Visualisation libraries\n",
    "\n",
    "## Text\n",
    "from IPython.display import display, Markdown, Latex\n",
    "\n",
    "\n",
    "## matplotlib\n",
    "import matplotlib.pyplot as plt\n",
    "from matplotlib.patches import Ellipse, Polygon\n",
    "from matplotlib.font_manager import FontProperties\n",
    "\n",
    "# plt setting\n",
    "plt.style.use('seaborn-whitegrid')\n",
    "plt.rcParams['axes.labelsize'] = 14\n",
    "plt.rcParams['xtick.labelsize'] = 12\n",
    "plt.rcParams['ytick.labelsize'] = 12\n",
    "plt.rcParams['text.color'] = 'k'\n",
    "%matplotlib inline\n",
    "\n",
    "import warnings\n",
    "warnings.filterwarnings(\"ignore\")"
   ]
  },
  {
   "cell_type": "markdown",
   "metadata": {},
   "source": [
    "<div class=\"alert alert-block alert-info\">\n",
    "<font size=\"+3\"><b>\n",
    "Numerical Linear Algebra\n",
    "</b></font>\n",
    "</div>\n",
    "\n",
    "\n",
    "# Cholesky factorization\n",
    "\n",
    "Let A be a real symmetric positive definite matrix. Then, a unique real lower triangular matrix B with positive diagonal entries exists such that \n",
    "$$A = BB^∗,$$\n",
    "where $B^*$ denotes the conjugate transpose of $B$.\n",
    "\n",
    "Furthermore, We have,\n",
    "\n",
    "\\begin{align}\n",
    "\\begin{bmatrix}a_{11} & a_{12} & \\dots & a_{1n} \\\\ a_{21} & a_{22} & \\dots & a_{2n} \\\\\n",
    "\\vdots & \\vdots &   & \\vdots \\\\ a_{n1} & a_{n2} & \\dots & a_{nn} \\end{bmatrix}=\n",
    "\\begin{bmatrix}b_{11} & 0 & \\dots & 0 \\\\ b_{21} & b_{22} & \\dots & 0 \\\\\n",
    "\\vdots & \\vdots &   & \\vdots \\\\ b_{n1} & b_{n2} & \\dots & b_{nn} \\end{bmatrix}\n",
    "\\begin{bmatrix}b_{11} & b_{12} & \\dots & b_{1n} \\\\ 0 & b_{22} & \\dots & b_{2n} \\\\\n",
    "\\vdots & \\vdots &   & \\vdots \\\\ 0 & 0 & \\dots & b_{nn} \\end{bmatrix}.\n",
    "\\end{align}\n",
    "Solving this system, $b_{ij}$ can be identified as follows\n",
    "\n",
    "\\begin{align}\n",
    "b_{j,j} &={\\sqrt {a_{j,j}-\\sum _{k=1}^{j-1}b_{j,k}^{2}}},\\\\\n",
    "b_{i,j}&={\\frac {1}{L_{j,j}}}\\left(a_{i,j}-\\sum _{k=1}^{j-1}b_{i,k}b_{j,k}\\right)\\quad {\\text{for }}i>j.\n",
    "\\end{align}\n",
    "\n",
    "See [1] for the full derivation of this algorithm. Furthermore, we can prepare a Python code using the above algorithm."
   ]
  },
  {
   "cell_type": "code",
   "execution_count": 2,
   "metadata": {},
   "outputs": [],
   "source": [
    "def myCholesky(A):\n",
    "\n",
    "    '''\n",
    "    Assuming that the matrix A is symmetric and positive definite,\n",
    "    this function computes a lower triangular matrix G with positive\n",
    "    diagonal entries, such that A = GG^t\n",
    "    Input: A the nxn matrix to be factorized\n",
    "    n the number of rows and columns A has\n",
    "    Output: B the nxn lower triangular matrix with positive\n",
    "    entries on its main diagonal\n",
    "\n",
    "    '''\n",
    "    n = A.shape[1]\n",
    "    # allocate space for the matrix B\n",
    "    B = np.zeros([n, n], dtype=float);\n",
    "    # define the first column of B\n",
    "    B[0,0] = np.sqrt(A[0,0]);\n",
    "    B[1:n, 0]= A[1:n,0] / B[0,0];\n",
    "    # loop through the columns of B from 2nd to last\n",
    "    for j in range(1, n):\n",
    "        # define the jth diagonal entry of B\n",
    "        B[j,j] = np.sqrt(A[j,j]- np.dot(B[j, 0:j], B[j, 0:j]))\n",
    "        for i in range(j+1, n):\n",
    "            B[i,j]=(A[i,j] - np.dot(B[i, 0:j],B[j, 0:j]))/B[j,j]\n",
    "    return B        \n"
   ]
  },
  {
   "cell_type": "markdown",
   "metadata": {},
   "source": [
    "<font color='Blue'><b>Example</b></font>: Apply $LU$ decomposition on the following matrix.\n",
    "$$A = \\left[\\begin{array}{cccc} 7 & 3 & -1 & 2\\\\ 3 & 8 & 1 & -4\\\\ -1 & 1 & 4 & -1\\\\ 2 & -4 & -1 & 6 \\end{array}\\right]$$"
   ]
  },
  {
   "cell_type": "markdown",
   "metadata": {},
   "source": [
    "We have,"
   ]
  },
  {
   "cell_type": "code",
   "execution_count": 3,
   "metadata": {},
   "outputs": [
    {
     "data": {
      "text/latex": [
       "$A$ ="
      ],
      "text/plain": [
       "<IPython.core.display.Latex object>"
      ]
     },
     "metadata": {},
     "output_type": "display_data"
    },
    {
     "data": {
      "text/plain": [
       "array([[ 7,  3, -1,  2],\n",
       "       [ 3,  8,  1, -4],\n",
       "       [-1,  1,  4, -1],\n",
       "       [ 2, -4, -1,  6]])"
      ]
     },
     "metadata": {},
     "output_type": "display_data"
    },
    {
     "data": {
      "text/latex": [
       "$B$ ="
      ],
      "text/plain": [
       "<IPython.core.display.Latex object>"
      ]
     },
     "metadata": {},
     "output_type": "display_data"
    },
    {
     "data": {
      "text/plain": [
       "array([[ 2.64575131,  0.        ,  0.        ,  0.        ],\n",
       "       [ 1.13389342,  2.59119388,  0.        ,  0.        ],\n",
       "       [-0.37796447,  0.55131785,  1.88499111,  0.        ],\n",
       "       [ 0.75592895, -1.87448068,  0.16931058,  1.37339999]])"
      ]
     },
     "metadata": {},
     "output_type": "display_data"
    },
    {
     "data": {
      "text/latex": [
       "$B  B^T$ ="
      ],
      "text/plain": [
       "<IPython.core.display.Latex object>"
      ]
     },
     "metadata": {},
     "output_type": "display_data"
    },
    {
     "data": {
      "text/plain": [
       "array([[ 7.,  3., -1.,  2.],\n",
       "       [ 3.,  8.,  1., -4.],\n",
       "       [-1.,  1.,  4., -1.],\n",
       "       [ 2., -4., -1.,  6.]])"
      ]
     },
     "metadata": {},
     "output_type": "display_data"
    },
    {
     "data": {
      "image/png": "[encoded data removed]",
      "text/plain": [
       "<Figure size 936x288 with 3 Axes>"
      ]
     },
     "metadata": {
      "needs_background": "light"
     },
     "output_type": "display_data"
    }
   ],
   "source": [
    "A = np.array([ [7, 3, -1, 2], [3, 8, 1, -4], [-1, 1, 4, -1], [2, -4, -1, 6] ])\n",
    "B = myCholesky(A)\n",
    "display(Latex(r'$A$ ='))\n",
    "display(A)\n",
    "display(Latex(r'$B$ ='))\n",
    "display(B)\n",
    "display(Latex(r'$B  B^T$ ='))\n",
    "display(np.matmul(B,B.T))\n",
    "\n",
    "fig, ax = plt.subplots(nrows=1, ncols=3, figsize=(13, 4))\n",
    "ax = ax.ravel()\n",
    "font = FontProperties()\n",
    "font.set_weight('bold')\n",
    "_ = ax[0].spy(sps.csr_matrix(A), aspect='equal', markersize= 20, color = 'Teal', markeredgecolor = 'Black',\n",
    "              markeredgewidth = 2)\n",
    "_ = ax[0].set_title('A', fontproperties=font, fontsize = 18)\n",
    "_ = ax[1].spy(sps.csr_matrix(B), aspect='equal', markersize= 20, color = 'OrangeRed', markeredgecolor = 'Black',\n",
    "              marker ='D', markeredgewidth = 2)\n",
    "_ = ax[1].set_title('B', fontproperties=font, fontsize = 18)\n",
    "_ = ax[2].spy(sps.csr_matrix(B.T), aspect='equal', markersize= 20, color = 'LightGreen', markeredgecolor = 'Black',\n",
    "              marker ='X', markeredgewidth = 2)\n",
    "_ = ax[2].set_title(r'$B^T$', fontproperties=font, fontsize = 18)"
   ]
  },
  {
   "cell_type": "markdown",
   "metadata": {},
   "source": [
    "Note that we could get a similar results using function, [```numpy.linalg.cholesky```](https://numpy.org/doc/stable/reference/generated/numpy.linalg.cholesky.html)."
   ]
  },
  {
   "cell_type": "code",
   "execution_count": 4,
   "metadata": {},
   "outputs": [
    {
     "data": {
      "text/latex": [
       "$B$ ="
      ],
      "text/plain": [
       "<IPython.core.display.Latex object>"
      ]
     },
     "metadata": {},
     "output_type": "display_data"
    },
    {
     "name": "stdout",
     "output_type": "stream",
     "text": [
      "[[ 2.64575131  0.          0.          0.        ]\n",
      " [ 1.13389342  2.59119388  0.          0.        ]\n",
      " [-0.37796447  0.55131785  1.88499111  0.        ]\n",
      " [ 0.75592895 -1.87448068  0.16931058  1.37339999]]\n"
     ]
    }
   ],
   "source": [
    "B = np.linalg.cholesky(A)\n",
    "display(Latex(r'$B$ ='))\n",
    "print(B)"
   ]
  },
  {
   "cell_type": "markdown",
   "metadata": {},
   "source": [
    "Note that in the above algorithm $P$ is a permutation matrix that can perform a **partial** and **full pivoting**."
   ]
  },
  {
   "cell_type": "markdown",
   "metadata": {},
   "source": [
    "## Solving Linear systems using Cholesky factorization\n",
    "\n",
    "We can solve the linear system $Ax=b$ for $x$ using $LU$ decomposition. To demonstrate this, we use the following example,\n",
    "\n",
    "Let\n",
    "$$A=\\left[\\begin{array}{cccc} 7 & 3 & -1 & 2\\\\ 3 & 8 & 1 & -4\\\\ -1 & 1 & 4 & -1\\\\ 2 & -4 & -1 & 6 \\end{array}\\right]\n",
    "\\quad \\text{and}\\quad\n",
    "b=\\left[\\begin{array}{c} 7\\\\ 1\\\\ 11\\\\ 15 \\end{array}\\right].$$\n",
    "Then, this linear system can be also expressed as\n",
    "$$Ax=(BB^T)x=B(B^Tx)=b,$$ \t\n",
    "we have,"
   ]
  },
  {
   "cell_type": "code",
   "execution_count": 5,
   "metadata": {},
   "outputs": [
    {
     "data": {
      "text/latex": [
       "$B$ ="
      ],
      "text/plain": [
       "<IPython.core.display.Latex object>"
      ]
     },
     "metadata": {},
     "output_type": "display_data"
    },
    {
     "name": "stdout",
     "output_type": "stream",
     "text": [
      "[[ 2.64575131  0.          0.          0.        ]\n",
      " [ 1.13389342  2.59119388  0.          0.        ]\n",
      " [-0.37796447  0.55131785  1.88499111  0.        ]\n",
      " [ 0.75592895 -1.87448068  0.16931058  1.37339999]]\n"
     ]
    }
   ],
   "source": [
    "A = np.array([ [7, 3, -1, 2], [3, 8, 1, -4], [-1, 1, 4, -1], [2, -4, -1, 6] ])\n",
    "b = np.array([[7],[1],[11],[15]])\n",
    "B = np.linalg.cholesky(A)\n",
    "display(Latex(r'$B$ ='))\n",
    "print(B)"
   ]
  },
  {
   "cell_type": "markdown",
   "metadata": {},
   "source": [
    "Now we can solve the following linear systems instead\n",
    "$$\\begin{cases}\n",
    "By=b,\\\\\n",
    "B^Tx=y.\n",
    "\\end{cases}$$"
   ]
  },
  {
   "cell_type": "code",
   "execution_count": 6,
   "metadata": {},
   "outputs": [
    {
     "data": {
      "text/latex": [
       "$y$ ="
      ],
      "text/plain": [
       "<IPython.core.display.Latex object>"
      ]
     },
     "metadata": {},
     "output_type": "display_data"
    },
    {
     "name": "stdout",
     "output_type": "stream",
     "text": [
      "[[ 2.64575131]\n",
      " [-0.77184498]\n",
      " [ 6.5918252 ]\n",
      " [ 7.59947997]]\n"
     ]
    }
   ],
   "source": [
    "# solving Ly=b for y\n",
    "y = np.linalg.solve(B, b)\n",
    "display(Latex(r'$y$ ='))\n",
    "print(y)"
   ]
  },
  {
   "cell_type": "code",
   "execution_count": 7,
   "metadata": {},
   "outputs": [
    {
     "data": {
      "text/latex": [
       "$x$ ="
      ],
      "text/plain": [
       "<IPython.core.display.Latex object>"
      ]
     },
     "metadata": {},
     "output_type": "display_data"
    },
    {
     "name": "stdout",
     "output_type": "stream",
     "text": [
      "[[-1.46666667]\n",
      " [ 3.06666667]\n",
      " [ 3.        ]\n",
      " [ 5.53333333]]\n"
     ]
    }
   ],
   "source": [
    "# solving Ux=y for x\n",
    "x = np.linalg.solve(B.T, y)\n",
    "display(Latex(r'$x$ ='))\n",
    "print(x)"
   ]
  },
  {
   "cell_type": "markdown",
   "metadata": {},
   "source": [
    "Let's now solve the linear system directly and compare the results."
   ]
  },
  {
   "cell_type": "code",
   "execution_count": 8,
   "metadata": {},
   "outputs": [
    {
     "data": {
      "text/latex": [
       "$x$ ="
      ],
      "text/plain": [
       "<IPython.core.display.Latex object>"
      ]
     },
     "metadata": {},
     "output_type": "display_data"
    },
    {
     "name": "stdout",
     "output_type": "stream",
     "text": [
      "[[-1.46666667]\n",
      " [ 3.06666667]\n",
      " [ 3.        ]\n",
      " [ 5.53333333]]\n"
     ]
    }
   ],
   "source": [
    "x1 = np.linalg.solve(A, b)\n",
    "display(Latex(r'$x$ ='))\n",
    "print(x1)"
   ]
  },
  {
   "cell_type": "markdown",
   "metadata": {},
   "source": [
    "***\n",
    "# References\n",
    "1. Allaire, Grégoire, et al. Numerical linear algebra. Vol. 55. New York: Springer, 2008.\n",
    "1. Burden, Richard L., and J. Douglas Faires. \"Numerical analysis 8th ed.\" Thomson Brooks/Cole (2005).\n",
    "1. Atkinson, Kendall E. An introduction to numerical analysis. John wiley & sons, 2008.\n",
    "1. Khoury, Richard, and Douglas Wilhelm Harder. Numerical methods and modelling for engineering. Springer, 2016.\n",
    "***"
   ]
  }
 ],
 "metadata": {
  "kernelspec": {
   "display_name": "Python 3",
   "language": "python",
   "name": "python3"
  },
  "language_info": {
   "codemirror_mode": {
    "name": "ipython",
    "version": 3
   },
   "file_extension": ".py",
   "mimetype": "text/x-python",
   "name": "python",
   "nbconvert_exporter": "python",
   "pygments_lexer": "ipython3",
   "version": "3.8.5"
  }
 },
 "nbformat": 4,
 "nbformat_minor": 2
}
