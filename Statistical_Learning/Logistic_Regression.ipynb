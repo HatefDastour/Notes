{
 "cells": [
  {
   "cell_type": "code",
   "execution_count": 1,
   "metadata": {},
   "outputs": [],
   "source": [
    "import pandas as pd\n",
    "import numpy as np\n",
    "import matplotlib as mpl\n",
    "import copy\n",
    "\n",
    "import sklearn.linear_model as skl_lm\n",
    "from sklearn.discriminant_analysis import LinearDiscriminantAnalysis\n",
    "from sklearn.discriminant_analysis import QuadraticDiscriminantAnalysis\n",
    "from sklearn.metrics import confusion_matrix, classification_report, precision_score\n",
    "from sklearn import preprocessing\n",
    "from sklearn import neighbors\n",
    "\n",
    "import statsmodels.api as sm\n",
    "import statsmodels.formula.api as smf\n",
    "\n",
    "# plots\n",
    "import matplotlib.pyplot as plt\n",
    "import seaborn as sns\n",
    "\n",
    "sns.set_style('whitegrid')\n",
    "plt.style.use('seaborn-white')\n",
    "plt.rcParams['axes.labelsize'] = 14\n",
    "plt.rcParams['xtick.labelsize'] = 12\n",
    "plt.rcParams['ytick.labelsize'] = 12\n",
    "plt.rcParams['text.color'] = 'k'\n",
    "%matplotlib inline\n",
    "import warnings\n",
    "warnings.filterwarnings(\"ignore\")"
   ]
  },
  {
   "cell_type": "markdown",
   "metadata": {},
   "source": [
    "* [Logistic Regression](#Logistic-Regression)\n",
    "* [Default Example](#Default-Example)"
   ]
  },
  {
   "cell_type": "markdown",
   "metadata": {},
   "source": [
    "# Logistic Regression\n",
    "\n",
    "The linear regression in a binary response using multiple predictors:\n",
    "$$\\log\\left(\\frac{p(X)}{1 - p(X)}\\right)= \\beta_0 + \\beta_1 X_1 + \\dots + \\beta_p X_p,$$\n",
    "where $X= (X_1 ,...,X_p )$ are $p$ predictors. Here, the quantity $p(X)/[1−p(X)]$ is called **the odds**, and can take on any value odds between 0 and $\\inf$.\n",
    "\n",
    "The linear regression can be solved for $p(X)$,\n",
    "$$p(X) =\\dfrac{e^{\\beta_0 +\\beta_1 X_1 +\\dots+\\beta_p X_p}}{1 + e^{\\beta_0 +\\beta_1 X_1 +\\dots+\\beta_p X_p}}.$$\n",
    "\n",
    "We can use the maximum likelihood method to estimate $\\beta_j$ for $j=1,\\ldots,p$. "
   ]
  },
  {
   "cell_type": "markdown",
   "metadata": {},
   "source": [
    "## Default Example"
   ]
  },
  {
   "cell_type": "code",
   "execution_count": 2,
   "metadata": {
    "scrolled": true
   },
   "outputs": [
    {
     "data": {
      "text/html": [
       "<div>\n",
       "<style scoped>\n",
       "    .dataframe tbody tr th:only-of-type {\n",
       "        vertical-align: middle;\n",
       "    }\n",
       "\n",
       "    .dataframe tbody tr th {\n",
       "        vertical-align: top;\n",
       "    }\n",
       "\n",
       "    .dataframe thead th {\n",
       "        text-align: right;\n",
       "    }\n",
       "</style>\n",
       "<table border=\"1\" class=\"dataframe\">\n",
       "  <thead>\n",
       "    <tr style=\"text-align: right;\">\n",
       "      <th></th>\n",
       "      <th>Default</th>\n",
       "      <th>Student</th>\n",
       "      <th>Balance</th>\n",
       "      <th>Income</th>\n",
       "    </tr>\n",
       "  </thead>\n",
       "  <tbody>\n",
       "    <tr>\n",
       "      <th>0</th>\n",
       "      <td>No</td>\n",
       "      <td>No</td>\n",
       "      <td>729.526495</td>\n",
       "      <td>44361.62507</td>\n",
       "    </tr>\n",
       "    <tr>\n",
       "      <th>1</th>\n",
       "      <td>No</td>\n",
       "      <td>Yes</td>\n",
       "      <td>817.180407</td>\n",
       "      <td>12106.13470</td>\n",
       "    </tr>\n",
       "    <tr>\n",
       "      <th>2</th>\n",
       "      <td>No</td>\n",
       "      <td>No</td>\n",
       "      <td>1073.549164</td>\n",
       "      <td>31767.13895</td>\n",
       "    </tr>\n",
       "    <tr>\n",
       "      <th>3</th>\n",
       "      <td>No</td>\n",
       "      <td>No</td>\n",
       "      <td>529.250605</td>\n",
       "      <td>35704.49394</td>\n",
       "    </tr>\n",
       "    <tr>\n",
       "      <th>4</th>\n",
       "      <td>No</td>\n",
       "      <td>No</td>\n",
       "      <td>785.655883</td>\n",
       "      <td>38463.49588</td>\n",
       "    </tr>\n",
       "  </tbody>\n",
       "</table>\n",
       "</div>"
      ],
      "text/plain": [
       "  Default Student      Balance       Income\n",
       "0      No      No   729.526495  44361.62507\n",
       "1      No     Yes   817.180407  12106.13470\n",
       "2      No      No  1073.549164  31767.13895\n",
       "3      No      No   529.250605  35704.49394\n",
       "4      No      No   785.655883  38463.49588"
      ]
     },
     "execution_count": 2,
     "metadata": {},
     "output_type": "execute_result"
    }
   ],
   "source": [
    "df = pd.read_csv('Data/Default.csv')\n",
    "df.head(5)"
   ]
  },
  {
   "cell_type": "markdown",
   "metadata": {},
   "source": [
    "Dividing the income by 1000."
   ]
  },
  {
   "cell_type": "code",
   "execution_count": 3,
   "metadata": {
    "scrolled": true
   },
   "outputs": [
    {
     "data": {
      "text/html": [
       "<div>\n",
       "<style scoped>\n",
       "    .dataframe tbody tr th:only-of-type {\n",
       "        vertical-align: middle;\n",
       "    }\n",
       "\n",
       "    .dataframe tbody tr th {\n",
       "        vertical-align: top;\n",
       "    }\n",
       "\n",
       "    .dataframe thead th {\n",
       "        text-align: right;\n",
       "    }\n",
       "</style>\n",
       "<table border=\"1\" class=\"dataframe\">\n",
       "  <thead>\n",
       "    <tr style=\"text-align: right;\">\n",
       "      <th></th>\n",
       "      <th>Default</th>\n",
       "      <th>Student</th>\n",
       "      <th>Balance</th>\n",
       "      <th>Income</th>\n",
       "    </tr>\n",
       "  </thead>\n",
       "  <tbody>\n",
       "    <tr>\n",
       "      <th>0</th>\n",
       "      <td>No</td>\n",
       "      <td>No</td>\n",
       "      <td>729.526495</td>\n",
       "      <td>44.361625</td>\n",
       "    </tr>\n",
       "    <tr>\n",
       "      <th>1</th>\n",
       "      <td>No</td>\n",
       "      <td>Yes</td>\n",
       "      <td>817.180407</td>\n",
       "      <td>12.106135</td>\n",
       "    </tr>\n",
       "    <tr>\n",
       "      <th>2</th>\n",
       "      <td>No</td>\n",
       "      <td>No</td>\n",
       "      <td>1073.549164</td>\n",
       "      <td>31.767139</td>\n",
       "    </tr>\n",
       "    <tr>\n",
       "      <th>3</th>\n",
       "      <td>No</td>\n",
       "      <td>No</td>\n",
       "      <td>529.250605</td>\n",
       "      <td>35.704494</td>\n",
       "    </tr>\n",
       "    <tr>\n",
       "      <th>4</th>\n",
       "      <td>No</td>\n",
       "      <td>No</td>\n",
       "      <td>785.655883</td>\n",
       "      <td>38.463496</td>\n",
       "    </tr>\n",
       "  </tbody>\n",
       "</table>\n",
       "</div>"
      ],
      "text/plain": [
       "  Default Student      Balance     Income\n",
       "0      No      No   729.526495  44.361625\n",
       "1      No     Yes   817.180407  12.106135\n",
       "2      No      No  1073.549164  31.767139\n",
       "3      No      No   529.250605  35.704494\n",
       "4      No      No   785.655883  38.463496"
      ]
     },
     "execution_count": 3,
     "metadata": {},
     "output_type": "execute_result"
    }
   ],
   "source": [
    "df['Income']=df['Income']/1000\n",
    "df.head(5)"
   ]
  },
  {
   "cell_type": "markdown",
   "metadata": {},
   "source": [
    "Here, Student status is encoded as a dummy variable as\n",
    "\n",
    "$$\\text{Student}=\\begin{cases}\n",
    "  1, & \\mbox{Student},\\\\\n",
    "  0, & \\mbox{Non-Student}. \\\\\n",
    "\\end{cases}$$\n",
    "This means"
   ]
  },
  {
   "cell_type": "code",
   "execution_count": 4,
   "metadata": {
    "scrolled": true
   },
   "outputs": [
    {
     "data": {
      "text/html": [
       "<div>\n",
       "<style scoped>\n",
       "    .dataframe tbody tr th:only-of-type {\n",
       "        vertical-align: middle;\n",
       "    }\n",
       "\n",
       "    .dataframe tbody tr th {\n",
       "        vertical-align: top;\n",
       "    }\n",
       "\n",
       "    .dataframe thead th {\n",
       "        text-align: right;\n",
       "    }\n",
       "</style>\n",
       "<table border=\"1\" class=\"dataframe\">\n",
       "  <thead>\n",
       "    <tr style=\"text-align: right;\">\n",
       "      <th></th>\n",
       "      <th>Default</th>\n",
       "      <th>Student</th>\n",
       "      <th>Balance</th>\n",
       "      <th>Income</th>\n",
       "    </tr>\n",
       "  </thead>\n",
       "  <tbody>\n",
       "    <tr>\n",
       "      <th>0</th>\n",
       "      <td>0</td>\n",
       "      <td>0</td>\n",
       "      <td>729.526495</td>\n",
       "      <td>44.361625</td>\n",
       "    </tr>\n",
       "    <tr>\n",
       "      <th>1</th>\n",
       "      <td>0</td>\n",
       "      <td>1</td>\n",
       "      <td>817.180407</td>\n",
       "      <td>12.106135</td>\n",
       "    </tr>\n",
       "    <tr>\n",
       "      <th>2</th>\n",
       "      <td>0</td>\n",
       "      <td>0</td>\n",
       "      <td>1073.549164</td>\n",
       "      <td>31.767139</td>\n",
       "    </tr>\n",
       "    <tr>\n",
       "      <th>3</th>\n",
       "      <td>0</td>\n",
       "      <td>0</td>\n",
       "      <td>529.250605</td>\n",
       "      <td>35.704494</td>\n",
       "    </tr>\n",
       "    <tr>\n",
       "      <th>4</th>\n",
       "      <td>0</td>\n",
       "      <td>0</td>\n",
       "      <td>785.655883</td>\n",
       "      <td>38.463496</td>\n",
       "    </tr>\n",
       "  </tbody>\n",
       "</table>\n",
       "</div>"
      ],
      "text/plain": [
       "   Default  Student      Balance     Income\n",
       "0        0        0   729.526495  44.361625\n",
       "1        0        1   817.180407  12.106135\n",
       "2        0        0  1073.549164  31.767139\n",
       "3        0        0   529.250605  35.704494\n",
       "4        0        0   785.655883  38.463496"
      ]
     },
     "execution_count": 4,
     "metadata": {},
     "output_type": "execute_result"
    }
   ],
   "source": [
    "df2=copy.deepcopy(df)\n",
    "df2['Default'] = df.Default.factorize()[0]\n",
    "df2['Student'] = df.Student.factorize()[0]\n",
    "df2.head(5)"
   ]
  },
  {
   "cell_type": "markdown",
   "metadata": {},
   "source": [
    "The probability of default:\n",
    "\n",
    "$$p(X) =\\dfrac{e^{\\beta_0 +\\beta_1 \\times  \\text{Student} +\\beta_2 \\times  \\text{Balance} +\\beta_3 \\times  \\text{Income} }}\n",
    "{1+e^{\\beta_0 +\\beta_1 \\times  \\text{Student} +\\beta_2 \\times  \\text{Balance} +\\beta_3 \\times  \\text{Income} }}.$$ "
   ]
  },
  {
   "cell_type": "code",
   "execution_count": 5,
   "metadata": {
    "scrolled": true
   },
   "outputs": [
    {
     "data": {
      "text/html": [
       "<table class=\"simpletable\">\n",
       "<tr>\n",
       "      <td></td>         <th>coef</th>     <th>std err</th>      <th>z</th>      <th>P>|z|</th>  <th>[0.025</th>    <th>0.975]</th>  \n",
       "</tr>\n",
       "<tr>\n",
       "  <th>Intercept</th> <td>  -10.8690</td> <td>    0.492</td> <td>  -22.079</td> <td> 0.000</td> <td>  -11.834</td> <td>   -9.904</td>\n",
       "</tr>\n",
       "<tr>\n",
       "  <th>Student</th>   <td>   -0.6468</td> <td>    0.236</td> <td>   -2.738</td> <td> 0.006</td> <td>   -1.110</td> <td>   -0.184</td>\n",
       "</tr>\n",
       "<tr>\n",
       "  <th>Income</th>    <td>    0.0030</td> <td>    0.008</td> <td>    0.370</td> <td> 0.712</td> <td>   -0.013</td> <td>    0.019</td>\n",
       "</tr>\n",
       "<tr>\n",
       "  <th>Balance</th>   <td>    0.0057</td> <td>    0.000</td> <td>   24.737</td> <td> 0.000</td> <td>    0.005</td> <td>    0.006</td>\n",
       "</tr>\n",
       "</table>"
      ],
      "text/plain": [
       "<class 'statsmodels.iolib.table.SimpleTable'>"
      ]
     },
     "execution_count": 5,
     "metadata": {},
     "output_type": "execute_result"
    }
   ],
   "source": [
    "formula = 'Default ~ Student + Income + Balance'\n",
    "model = smf.glm(formula = formula, data=df2, family=sm.families.Binomial())\n",
    "Results = model.fit()\n",
    "Results.summary().tables[1]"
   ]
  },
  {
   "cell_type": "markdown",
   "metadata": {},
   "source": [
    "For example, consider a student, James, with a credit card balance of $\\$1,200$ and an income of $\\$40,000$, and a non-student, Robert with the same balance and income. The estimated probability of defaults for these two:"
   ]
  },
  {
   "cell_type": "code",
   "execution_count": 6,
   "metadata": {
    "scrolled": true
   },
   "outputs": [
    {
     "data": {
      "text/html": [
       "<div>\n",
       "<style scoped>\n",
       "    .dataframe tbody tr th:only-of-type {\n",
       "        vertical-align: middle;\n",
       "    }\n",
       "\n",
       "    .dataframe tbody tr th {\n",
       "        vertical-align: top;\n",
       "    }\n",
       "\n",
       "    .dataframe thead th {\n",
       "        text-align: right;\n",
       "    }\n",
       "</style>\n",
       "<table border=\"1\" class=\"dataframe\">\n",
       "  <thead>\n",
       "    <tr style=\"text-align: right;\">\n",
       "      <th></th>\n",
       "      <th>Student</th>\n",
       "      <th>Income</th>\n",
       "      <th>Balance</th>\n",
       "    </tr>\n",
       "  </thead>\n",
       "  <tbody>\n",
       "    <tr>\n",
       "      <th>James</th>\n",
       "      <td>1</td>\n",
       "      <td>40</td>\n",
       "      <td>1500</td>\n",
       "    </tr>\n",
       "    <tr>\n",
       "      <th>Robert</th>\n",
       "      <td>0</td>\n",
       "      <td>40</td>\n",
       "      <td>1500</td>\n",
       "    </tr>\n",
       "  </tbody>\n",
       "</table>\n",
       "</div>"
      ],
      "text/plain": [
       "        Student  Income  Balance\n",
       "James         1      40     1500\n",
       "Robert        0      40     1500"
      ]
     },
     "execution_count": 6,
     "metadata": {},
     "output_type": "execute_result"
    }
   ],
   "source": [
    "df0=pd.DataFrame({'Student':[1,0],'Income':[40,40],'Balance':[1500,1500]},index=['James', 'Robert'])\n",
    "df0"
   ]
  },
  {
   "cell_type": "code",
   "execution_count": 7,
   "metadata": {
    "scrolled": true
   },
   "outputs": [
    {
     "data": {
      "text/html": [
       "<div>\n",
       "<style scoped>\n",
       "    .dataframe tbody tr th:only-of-type {\n",
       "        vertical-align: middle;\n",
       "    }\n",
       "\n",
       "    .dataframe tbody tr th {\n",
       "        vertical-align: top;\n",
       "    }\n",
       "\n",
       "    .dataframe thead th {\n",
       "        text-align: right;\n",
       "    }\n",
       "</style>\n",
       "<table border=\"1\" class=\"dataframe\">\n",
       "  <thead>\n",
       "    <tr style=\"text-align: right;\">\n",
       "      <th></th>\n",
       "      <th>Probability of defaults</th>\n",
       "    </tr>\n",
       "  </thead>\n",
       "  <tbody>\n",
       "    <tr>\n",
       "      <th>James</th>\n",
       "      <td>0.057882</td>\n",
       "    </tr>\n",
       "    <tr>\n",
       "      <th>Robert</th>\n",
       "      <td>0.104992</td>\n",
       "    </tr>\n",
       "  </tbody>\n",
       "</table>\n",
       "</div>"
      ],
      "text/plain": [
       "        Probability of defaults\n",
       "James                  0.057882\n",
       "Robert                 0.104992"
      ]
     },
     "execution_count": 7,
     "metadata": {},
     "output_type": "execute_result"
    }
   ],
   "source": [
    "E=np.exp(Results.params['Intercept']+Results.params['Student']*df0['Student']\\\n",
    "+Results.params['Income']*df0['Income']+Results.params['Balance']*df0['Balance'])\n",
    "P=E/(1+E)\n",
    "pd.DataFrame(P,columns=['Probability of defaults'])"
   ]
  },
  {
   "cell_type": "markdown",
   "metadata": {},
   "source": [
    "This shows that a student tends to have higher default probabilities than a non-student.\n",
    "\n",
    "Now, consider"
   ]
  },
  {
   "cell_type": "code",
   "execution_count": 8,
   "metadata": {
    "scrolled": false
   },
   "outputs": [
    {
     "data": {
      "text/html": [
       "<div>\n",
       "<style scoped>\n",
       "    .dataframe tbody tr th:only-of-type {\n",
       "        vertical-align: middle;\n",
       "    }\n",
       "\n",
       "    .dataframe tbody tr th {\n",
       "        vertical-align: top;\n",
       "    }\n",
       "\n",
       "    .dataframe thead th {\n",
       "        text-align: right;\n",
       "    }\n",
       "</style>\n",
       "<table border=\"1\" class=\"dataframe\">\n",
       "  <thead>\n",
       "    <tr style=\"text-align: right;\">\n",
       "      <th>Default</th>\n",
       "      <th>No</th>\n",
       "      <th>Yes</th>\n",
       "    </tr>\n",
       "    <tr>\n",
       "      <th>Student</th>\n",
       "      <th></th>\n",
       "      <th></th>\n",
       "    </tr>\n",
       "  </thead>\n",
       "  <tbody>\n",
       "    <tr>\n",
       "      <th>No</th>\n",
       "      <td>6850</td>\n",
       "      <td>206</td>\n",
       "    </tr>\n",
       "    <tr>\n",
       "      <th>Yes</th>\n",
       "      <td>2817</td>\n",
       "      <td>127</td>\n",
       "    </tr>\n",
       "  </tbody>\n",
       "</table>\n",
       "</div>"
      ],
      "text/plain": [
       "Default    No  Yes\n",
       "Student           \n",
       "No       6850  206\n",
       "Yes      2817  127"
      ]
     },
     "execution_count": 8,
     "metadata": {},
     "output_type": "execute_result"
    }
   ],
   "source": [
    "df3=copy.deepcopy(df.groupby(['Student','Default']).size().unstack('Default'))\n",
    "df3"
   ]
  },
  {
   "cell_type": "code",
   "execution_count": 9,
   "metadata": {
    "scrolled": true
   },
   "outputs": [
    {
     "data": {
      "text/plain": [
       "LogisticRegression(C=1.0, class_weight=None, dual=False, fit_intercept=True,\n",
       "                   intercept_scaling=1, l1_ratio=None, max_iter=100,\n",
       "                   multi_class='auto', n_jobs=None, penalty='l2',\n",
       "                   random_state=None, solver='newton-cg', tol=0.0001, verbose=0,\n",
       "                   warm_start=False)"
      ]
     },
     "execution_count": 9,
     "metadata": {},
     "output_type": "execute_result"
    }
   ],
   "source": [
    "# Students (Balance and Default)\n",
    "St_Balance = df[df.Student == 'Yes'].Balance.values.reshape(-1,1)\n",
    "St_Default = df[df.Student == 'Yes'].Default\n",
    "\n",
    "St_lReg = skl_lm.LogisticRegression(solver='newton-cg')\n",
    "St_lReg.fit(St_Balance,St_Default)"
   ]
  },
  {
   "cell_type": "code",
   "execution_count": 10,
   "metadata": {
    "scrolled": false
   },
   "outputs": [
    {
     "data": {
      "text/plain": [
       "LogisticRegression(C=1.0, class_weight=None, dual=False, fit_intercept=True,\n",
       "                   intercept_scaling=1, l1_ratio=None, max_iter=100,\n",
       "                   multi_class='auto', n_jobs=None, penalty='l2',\n",
       "                   random_state=None, solver='newton-cg', tol=0.0001, verbose=0,\n",
       "                   warm_start=False)"
      ]
     },
     "execution_count": 10,
     "metadata": {},
     "output_type": "execute_result"
    }
   ],
   "source": [
    "# non-Students (Balance and Default)\n",
    "nSt_Balance = df[df.Student == 'No'].Balance.values.reshape(-1,1)\n",
    "nSt_Default = df[df.Student == 'No'].Default\n",
    "\n",
    "nSt_lReg = skl_lm.LogisticRegression(solver='newton-cg')\n",
    "nSt_lReg.fit(nSt_Balance,nSt_Default)"
   ]
  },
  {
   "cell_type": "markdown",
   "metadata": {},
   "source": [
    "Now the plots"
   ]
  },
  {
   "cell_type": "code",
   "execution_count": 11,
   "metadata": {},
   "outputs": [],
   "source": [
    "# x-axis for ploting\n",
    "X= np.arange(df.Balance.min(), df.Balance.max()).reshape(-1,1)\n",
    "# Probability of defaults (Students and non-Students)\n",
    "Prop_st = St_lReg.predict_proba(X)\n",
    "Prop_nst = nSt_lReg.predict_proba(X)"
   ]
  },
  {
   "cell_type": "code",
   "execution_count": 12,
   "metadata": {},
   "outputs": [
    {
     "data": {
      "image/png": "[encoded data removed]",
      "text/plain": [
       "<Figure size 1080x432 with 2 Axes>"
      ]
     },
     "metadata": {
      "needs_background": "light"
     },
     "output_type": "display_data"
    }
   ],
   "source": [
    "fig, ax = plt.subplots(1,2, figsize=(15,6))\n",
    "\n",
    "# Left plot\n",
    "_ = ax[0].plot(X, Prop_st[:,1], color='#e74c3c', label='Student')\n",
    "_ = ax[0].plot(X, Prop_nst[:,1], color='#3498db', label='Non-student')\n",
    "# Overall Student\n",
    "_ = ax[0].hlines(df3.loc['Yes','Yes']/df3.loc['Yes','No'], colors='#3498db', label='Overall Student',\n",
    "                 xmin=ax[0].xaxis.get_data_interval()[0],\n",
    "                 xmax=ax[0].xaxis.get_data_interval()[1], linestyles='dashed')\n",
    "_ = ax[0].hlines(df3.loc['No','Yes']/df3.loc['No','No'], colors='#e74c3c', label='Overall Non-Student',\n",
    "                 xmin=ax[0].xaxis.get_data_interval()[0],\n",
    "                 xmax=ax[0].xaxis.get_data_interval()[1], linestyles='dashed')\n",
    "_ = ax[0].set_ylabel('Default Rate')\n",
    "_ = ax[0].set_xlabel('Credit Card Balance')\n",
    "_ = ax[0].set_yticks(list(np.round(np.linspace(0,1,6),1)))\n",
    "_ = ax[0].set_xlim(X.min(),X.max())\n",
    "_ = ax[0].legend(loc=2)\n",
    "\n",
    "# Right plot\n",
    "sns.boxplot('Student', 'Balance', data=df, orient='v', ax=ax[1],  palette={'No':'#3498db', 'Yes':'#e74c3c'});"
   ]
  },
  {
   "cell_type": "markdown",
   "metadata": {},
   "source": [
    "We can see from the left-hand panel graph that students, on the whole, tend to have higher credit card balances means that overall, students tend to default at a higher rate than non-students even though an individual student with a given credit card balance will tend to have a lower probability of default than a non-student with the same credit card balance.\n",
    "\n",
    "We can see from the left-hand panel graph that students are more likely to have large credit card balances and are ssociated with high default rates.\n",
    "\n",
    "Students are generally riskier than non-students if no information about the student’s credit card balance is given. Nonetheless, that student is less risky than a non-student with the same credit card balance!"
   ]
  },
  {
   "cell_type": "markdown",
   "metadata": {},
   "source": [
    "Correlation Matrix and plot:"
   ]
  },
  {
   "cell_type": "code",
   "execution_count": 13,
   "metadata": {},
   "outputs": [
    {
     "data": {
      "text/html": [
       "<style  type=\"text/css\" >\n",
       "    #T_de13ec12_9211_11ea_b52f_50e08586bf81row0_col0 {\n",
       "            background-color:  #053061;\n",
       "            color:  #f1f1f1;\n",
       "        }    #T_de13ec12_9211_11ea_b52f_50e08586bf81row0_col1 {\n",
       "            background-color:  #fae9df;\n",
       "            color:  #000000;\n",
       "        }    #T_de13ec12_9211_11ea_b52f_50e08586bf81row0_col2 {\n",
       "            background-color:  #fbe5d8;\n",
       "            color:  #000000;\n",
       "        }    #T_de13ec12_9211_11ea_b52f_50e08586bf81row0_col3 {\n",
       "            background-color:  #fce0d0;\n",
       "            color:  #000000;\n",
       "        }    #T_de13ec12_9211_11ea_b52f_50e08586bf81row1_col0 {\n",
       "            background-color:  #8d0c25;\n",
       "            color:  #f1f1f1;\n",
       "        }    #T_de13ec12_9211_11ea_b52f_50e08586bf81row1_col1 {\n",
       "            background-color:  #053061;\n",
       "            color:  #f1f1f1;\n",
       "        }    #T_de13ec12_9211_11ea_b52f_50e08586bf81row1_col2 {\n",
       "            background-color:  #f5aa89;\n",
       "            color:  #000000;\n",
       "        }    #T_de13ec12_9211_11ea_b52f_50e08586bf81row1_col3 {\n",
       "            background-color:  #67001f;\n",
       "            color:  #f1f1f1;\n",
       "        }    #T_de13ec12_9211_11ea_b52f_50e08586bf81row2_col0 {\n",
       "            background-color:  #f9c6ac;\n",
       "            color:  #000000;\n",
       "        }    #T_de13ec12_9211_11ea_b52f_50e08586bf81row2_col1 {\n",
       "            background-color:  #e6eff4;\n",
       "            color:  #000000;\n",
       "        }    #T_de13ec12_9211_11ea_b52f_50e08586bf81row2_col2 {\n",
       "            background-color:  #053061;\n",
       "            color:  #f1f1f1;\n",
       "        }    #T_de13ec12_9211_11ea_b52f_50e08586bf81row2_col3 {\n",
       "            background-color:  #f8bb9e;\n",
       "            color:  #000000;\n",
       "        }    #T_de13ec12_9211_11ea_b52f_50e08586bf81row3_col0 {\n",
       "            background-color:  #67001f;\n",
       "            color:  #f1f1f1;\n",
       "        }    #T_de13ec12_9211_11ea_b52f_50e08586bf81row3_col1 {\n",
       "            background-color:  #67001f;\n",
       "            color:  #f1f1f1;\n",
       "        }    #T_de13ec12_9211_11ea_b52f_50e08586bf81row3_col2 {\n",
       "            background-color:  #67001f;\n",
       "            color:  #f1f1f1;\n",
       "        }    #T_de13ec12_9211_11ea_b52f_50e08586bf81row3_col3 {\n",
       "            background-color:  #053061;\n",
       "            color:  #f1f1f1;\n",
       "        }</style><table id=\"T_de13ec12_9211_11ea_b52f_50e08586bf81\" ><thead>    <tr>        <th class=\"blank level0\" ></th>        <th class=\"col_heading level0 col0\" >Default</th>        <th class=\"col_heading level0 col1\" >Student</th>        <th class=\"col_heading level0 col2\" >Balance</th>        <th class=\"col_heading level0 col3\" >Income</th>    </tr></thead><tbody>\n",
       "                <tr>\n",
       "                        <th id=\"T_de13ec12_9211_11ea_b52f_50e08586bf81level0_row0\" class=\"row_heading level0 row0\" >Default</th>\n",
       "                        <td id=\"T_de13ec12_9211_11ea_b52f_50e08586bf81row0_col0\" class=\"data row0 col0\" >1.00</td>\n",
       "                        <td id=\"T_de13ec12_9211_11ea_b52f_50e08586bf81row0_col1\" class=\"data row0 col1\" >0.04</td>\n",
       "                        <td id=\"T_de13ec12_9211_11ea_b52f_50e08586bf81row0_col2\" class=\"data row0 col2\" >0.35</td>\n",
       "                        <td id=\"T_de13ec12_9211_11ea_b52f_50e08586bf81row0_col3\" class=\"data row0 col3\" >-0.02</td>\n",
       "            </tr>\n",
       "            <tr>\n",
       "                        <th id=\"T_de13ec12_9211_11ea_b52f_50e08586bf81level0_row1\" class=\"row_heading level0 row1\" >Student</th>\n",
       "                        <td id=\"T_de13ec12_9211_11ea_b52f_50e08586bf81row1_col0\" class=\"data row1 col0\" >0.04</td>\n",
       "                        <td id=\"T_de13ec12_9211_11ea_b52f_50e08586bf81row1_col1\" class=\"data row1 col1\" >1.00</td>\n",
       "                        <td id=\"T_de13ec12_9211_11ea_b52f_50e08586bf81row1_col2\" class=\"data row1 col2\" >0.20</td>\n",
       "                        <td id=\"T_de13ec12_9211_11ea_b52f_50e08586bf81row1_col3\" class=\"data row1 col3\" >-0.75</td>\n",
       "            </tr>\n",
       "            <tr>\n",
       "                        <th id=\"T_de13ec12_9211_11ea_b52f_50e08586bf81level0_row2\" class=\"row_heading level0 row2\" >Balance</th>\n",
       "                        <td id=\"T_de13ec12_9211_11ea_b52f_50e08586bf81row2_col0\" class=\"data row2 col0\" >0.35</td>\n",
       "                        <td id=\"T_de13ec12_9211_11ea_b52f_50e08586bf81row2_col1\" class=\"data row2 col1\" >0.20</td>\n",
       "                        <td id=\"T_de13ec12_9211_11ea_b52f_50e08586bf81row2_col2\" class=\"data row2 col2\" >1.00</td>\n",
       "                        <td id=\"T_de13ec12_9211_11ea_b52f_50e08586bf81row2_col3\" class=\"data row2 col3\" >-0.15</td>\n",
       "            </tr>\n",
       "            <tr>\n",
       "                        <th id=\"T_de13ec12_9211_11ea_b52f_50e08586bf81level0_row3\" class=\"row_heading level0 row3\" >Income</th>\n",
       "                        <td id=\"T_de13ec12_9211_11ea_b52f_50e08586bf81row3_col0\" class=\"data row3 col0\" >-0.02</td>\n",
       "                        <td id=\"T_de13ec12_9211_11ea_b52f_50e08586bf81row3_col1\" class=\"data row3 col1\" >-0.75</td>\n",
       "                        <td id=\"T_de13ec12_9211_11ea_b52f_50e08586bf81row3_col2\" class=\"data row3 col2\" >-0.15</td>\n",
       "                        <td id=\"T_de13ec12_9211_11ea_b52f_50e08586bf81row3_col3\" class=\"data row3 col3\" >1.00</td>\n",
       "            </tr>\n",
       "    </tbody></table>"
      ],
      "text/plain": [
       "<pandas.io.formats.style.Styler at 0x24d6498aa48>"
      ]
     },
     "metadata": {},
     "output_type": "display_data"
    },
    {
     "data": {
      "image/png": "[encoded data removed]",
      "text/plain": [
       "<Figure size 432x432 with 2 Axes>"
      ]
     },
     "metadata": {
      "needs_background": "light"
     },
     "output_type": "display_data"
    }
   ],
   "source": [
    "display(df2.corr().style.background_gradient(cmap='RdBu').set_precision(2))\n",
    "\n",
    "def Correlation_Plot (Df,Fig_Size):\n",
    "    Correlation_Matrix = Df.corr().round(2)\n",
    "    mask = np.zeros_like(Correlation_Matrix)\n",
    "    mask[np.triu_indices_from(mask)] = True\n",
    "    for i in range(len(mask)):\n",
    "        mask[i,i]=0\n",
    "    Fig, ax = plt.subplots(figsize=(Fig_Size,Fig_Size))\n",
    "    sns.heatmap(Correlation_Matrix, ax=ax, mask=mask, annot=True, square=True, \n",
    "                cmap =sns.color_palette(\"RdBu\", n_colors=10), linewidths = 0.2, vmin=0, vmax=1, cbar_kws={\"shrink\": .5})\n",
    "    bottom, top = ax.get_ylim()\n",
    "    \n",
    "Correlation_Plot (df2, 6)"
   ]
  },
  {
   "cell_type": "markdown",
   "metadata": {},
   "source": [
    "As can be seen, the variables **Student** and **balance** are correlated and Students have higher values of depts, and the probability of default is higher for students."
   ]
  }
 ],
 "metadata": {
  "kernelspec": {
   "display_name": "Python 3",
   "language": "python",
   "name": "python3"
  },
  "language_info": {
   "codemirror_mode": {
    "name": "ipython",
    "version": 3
   },
   "file_extension": ".py",
   "mimetype": "text/x-python",
   "name": "python",
   "nbconvert_exporter": "python",
   "pygments_lexer": "ipython3",
   "version": "3.7.7"
  }
 },
 "nbformat": 4,
 "nbformat_minor": 1
}
